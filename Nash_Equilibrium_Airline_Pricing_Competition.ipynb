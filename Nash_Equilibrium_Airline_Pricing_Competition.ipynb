{
  "nbformat": 4,
  "nbformat_minor": 0,
  "metadata": {
    "colab": {
      "provenance": [],
      "authorship_tag": "ABX9TyOQnsIvxKF2yBp09T56yyLa",
      "include_colab_link": true
    },
    "kernelspec": {
      "name": "python3",
      "display_name": "Python 3"
    },
    "language_info": {
      "name": "python"
    }
  },
  "cells": [
    {
      "cell_type": "markdown",
      "metadata": {
        "id": "view-in-github",
        "colab_type": "text"
      },
      "source": [
        "<a href=\"https://colab.research.google.com/github/anshupandey/Machine_Learning_Training/blob/master/Nash_Equilibrium_Airline_Pricing_Competition.ipynb\" target=\"_parent\"><img src=\"https://colab.research.google.com/assets/colab-badge.svg\" alt=\"Open In Colab\"/></a>"
      ]
    },
    {
      "cell_type": "markdown",
      "source": [
        "# Use Case: Airline Pricing Competition\n",
        "\n",
        "**Objective:**\n",
        "\n",
        "To model the pricing competition between two airlines, *AirFly* and *SkyHigh*, on a popular route between *New York (JFK)* and *London (LHR)*, using a simple game theory approach.\n",
        "\n",
        "**Details:**\n",
        "\n",
        "* **Airlines:**\n",
        "    * _AirFly_\n",
        "    * _SkyHigh_\n",
        "* **Route:** _New York (JFK) - London (LHR)_\n",
        "* **Classes:**\n",
        "    * _Economy_\n",
        "    * _Business_\n",
        "* **Assumptions:**\n",
        "    * **Demand:** Demand for economy class is higher than business class.\n",
        "    * **Profit Maximization:** Both airlines aim to maximize their profits.\n",
        "    * **Rational Players:** Both airlines act rationally and respond to each other's pricing strategies.\n",
        "\n",
        "**Data:**\n",
        "\n",
        "| Airline | Class | Price (USD) |\n",
        "|---|---|---|\n",
        "| AirFly | Economy | 500 |\n",
        "| AirFly | Business | 2000 |\n",
        "| SkyHigh | Economy | 450 |\n",
        "| SkyHigh | Business | 1800 |\n",
        "\n",
        "**Simplified Demand Function:**\n"
      ],
      "metadata": {
        "id": "2oD34UFQ5OWO"
      }
    },
    {
      "cell_type": "code",
      "source": [
        "import numpy as np"
      ],
      "metadata": {
        "id": "hT3nGfj-5d-x"
      },
      "execution_count": 3,
      "outputs": []
    },
    {
      "cell_type": "code",
      "source": [
        "# Define the pricing matrix\n",
        "pricing_matrix = np.array([\n",
        "    [500, 2000],  # AirFly Economy, Business\n",
        "    [450, 1800]   # SkyHigh Economy, Business\n",
        "])"
      ],
      "metadata": {
        "id": "6_9wqO-l5fKg"
      },
      "execution_count": 4,
      "outputs": []
    },
    {
      "cell_type": "code",
      "source": [
        "# Define the demand function (simplified linear function for demonstration)\n",
        "def demand(price, airline):\n",
        "  if airline == 'AirFly':\n",
        "    return 2000 - price\n",
        "  else:\n",
        "    return 2500 - price"
      ],
      "metadata": {
        "id": "heCi_hxw5kC2"
      },
      "execution_count": 9,
      "outputs": []
    },
    {
      "cell_type": "code",
      "source": [
        "# Calculate the profit for each airline given their pricing and demand\n",
        "def profit(price, airline):\n",
        "  demand_value = demand(price, airline)\n",
        "  return price * demand_value\n"
      ],
      "metadata": {
        "id": "PslyLsHS5mJq"
      },
      "execution_count": 10,
      "outputs": []
    },
    {
      "cell_type": "code",
      "source": [
        "# Simple simulation for pricing updates\n",
        "def pricing_update(pricing_matrix, airline):\n",
        "  # Get the current price of the competitor\n",
        "  competitor_price = pricing_matrix[1 - airline, :] if airline == 0 else pricing_matrix[airline - 1, :]\n",
        "\n",
        "  # Calculate the profit for different price points\n",
        "  profit_array = np.array([profit(p, airline) for p in range(400, 700, 50)])\n",
        "\n",
        "  # Choose the price that maximizes profit\n",
        "  best_price = range(400, 700, 50)[np.argmax(profit_array)]\n",
        "\n",
        "  # Update the pricing matrix\n",
        "  pricing_matrix[airline, 0] = best_price\n",
        "  pricing_matrix[airline, 1] = best_price * 4  # Assuming business class price is 4 times economy\n",
        "\n",
        "  return pricing_matrix\n"
      ],
      "metadata": {
        "id": "PXkTlBo35pVd"
      },
      "execution_count": 7,
      "outputs": []
    },
    {
      "cell_type": "code",
      "source": [
        "# Simulate pricing updates for both airlines\n",
        "for _ in range(5):\n",
        "  pricing_matrix = pricing_update(pricing_matrix, 0)  # Update AirFly prices\n",
        "  pricing_matrix = pricing_update(pricing_matrix, 1)  # Update SkyHigh prices\n",
        "\n",
        "print(\"Final Pricing Matrix:\")\n",
        "print(pricing_matrix)"
      ],
      "metadata": {
        "colab": {
          "base_uri": "https://localhost:8080/"
        },
        "id": "MQ-_eg8n5O8P",
        "outputId": "6b77952e-df13-457e-ee85-81e99d2e39d8"
      },
      "execution_count": 8,
      "outputs": [
        {
          "output_type": "stream",
          "name": "stdout",
          "text": [
            "Final Pricing Matrix:\n",
            "[[ 400 1600]\n",
            " [ 400 1600]]\n"
          ]
        }
      ]
    },
    {
      "cell_type": "code",
      "source": [],
      "metadata": {
        "id": "raiI7wIp5U18"
      },
      "execution_count": null,
      "outputs": []
    },
    {
      "cell_type": "markdown",
      "source": [
        "## Understanding the Final Pricing Matrix\n",
        "\n",
        "The output \"Final Pricing Matrix: [[ 400 1600] [ 400 1600]]\" indicates that both airlines, AirFly and SkyHigh, have converged on the same pricing strategy after several iterations of price adjustments.\n",
        "\n",
        "Here's a breakdown:\n",
        "\n",
        "* **[[ 400 1600]**: This represents the pricing strategy of AirFly. They are charging $400 for economy class and $1600 for business class.\n",
        "* **[ 400 1600]]**: This represents the pricing strategy of SkyHigh, which is identical to AirFly's pricing.\n",
        "\n",
        "**Meaning of the result:**\n",
        "\n",
        "This outcome suggests a *Nash Equilibrium* has been reached.  In this scenario, neither airline can improve their profits by unilaterally changing their prices, assuming the other airline keeps their prices constant.\n",
        "\n",
        "* If AirFly lowers their economy class price, they'll attract more customers but their profit margin will decrease, making it less profitable.\n",
        "* If AirFly raises their price, they'll lose customers to SkyHigh, leading to lower profits.\n",
        "* The same logic applies to SkyHigh.\n",
        "\n",
        "**Key Points:**\n",
        "\n",
        "* **Stable Pricing:** Both airlines have found a stable price point where they are maximizing their profits given the competitor's pricing.\n",
        "* **Competitive Advantage:** Neither airline has a significant competitive advantage over the other in this scenario.\n",
        "* **Simplified Model:**  Remember that this result is based on a simplified model. In reality,  airline pricing involves many other factors.\n",
        "\n",
        "**Further Analysis:**\n",
        "\n",
        "This result could be further investigated by:\n",
        "\n",
        "* **Testing different demand functions:**  Exploring more complex demand models to see how it affects the outcome.\n",
        "* **Adding more airlines:**  Simulating a scenario with multiple competitors to analyze how the Nash Equilibrium changes.\n",
        "* **Introducing other factors:**  Including real-world factors like seasonality, fuel costs, and customer preferences.\n",
        "\n",
        "This simple example demonstrates how game theory can be used to model strategic interactions between businesses in a competitive market, providing insights into potential price equilibrium and competitive dynamics."
      ],
      "metadata": {
        "id": "59ku7gEE6Znw"
      }
    },
    {
      "cell_type": "code",
      "source": [],
      "metadata": {
        "id": "hFV4OHSx6Z8k"
      },
      "execution_count": null,
      "outputs": []
    }
  ]
}