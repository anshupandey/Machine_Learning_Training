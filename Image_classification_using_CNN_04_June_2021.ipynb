{
  "nbformat": 4,
  "nbformat_minor": 0,
  "metadata": {
    "colab": {
      "name": "Image classification using CNN - 04 June 2021.ipynb",
      "provenance": [],
      "collapsed_sections": [],
      "authorship_tag": "ABX9TyMModEgk0kKte+PfZESj9yA",
      "include_colab_link": true
    },
    "kernelspec": {
      "name": "python3",
      "display_name": "Python 3"
    },
    "language_info": {
      "name": "python"
    },
    "accelerator": "GPU"
  },
  "cells": [
    {
      "cell_type": "markdown",
      "metadata": {
        "id": "view-in-github",
        "colab_type": "text"
      },
      "source": [
        "<a href=\"https://colab.research.google.com/github/anshupandey/Machine_Learning_Training/blob/master/Image_classification_using_CNN_04_June_2021.ipynb\" target=\"_parent\"><img src=\"https://colab.research.google.com/assets/colab-badge.svg\" alt=\"Open In Colab\"/></a>"
      ]
    },
    {
      "cell_type": "markdown",
      "metadata": {
        "id": "BqSwAuFtOvCJ"
      },
      "source": [
        "# Data Exploration"
      ]
    },
    {
      "cell_type": "code",
      "metadata": {
        "id": "uzZIPN6hOdTa"
      },
      "source": [
        "import matplotlib.pyplot as plt\n",
        "import numpy as np\n",
        "from tensorflow.keras.datasets import fashion_mnist\n",
        "(xtr,ytr),(xts,yts) = fashion_mnist.load_data()"
      ],
      "execution_count": 66,
      "outputs": []
    },
    {
      "cell_type": "code",
      "metadata": {
        "colab": {
          "base_uri": "https://localhost:8080/"
        },
        "id": "dCV74FnyPD4g",
        "outputId": "c0989c5b-01b2-42a2-ddcb-ceeffa0f8f14"
      },
      "source": [
        "\n",
        "names = [\"T-shirt/top\",\"Trouser\",\"Pullover\",\"Dress\",\"Coat\",\"Sandal\",\"Shirt\",\"Sneaker\",\"Bag\",\"Ankle boot\"]\n",
        "len(names)"
      ],
      "execution_count": 67,
      "outputs": [
        {
          "output_type": "execute_result",
          "data": {
            "text/plain": [
              "10"
            ]
          },
          "metadata": {
            "tags": []
          },
          "execution_count": 67
        }
      ]
    },
    {
      "cell_type": "code",
      "metadata": {
        "colab": {
          "base_uri": "https://localhost:8080/"
        },
        "id": "ySoMvAExPeLG",
        "outputId": "0f91b5e3-7c51-46cd-bfce-29ecf4a99f47"
      },
      "source": [
        "print(xtr.shape)\n",
        "print(xts.shape)\n",
        "print(ytr.shape)\n",
        "print(yts.shape)"
      ],
      "execution_count": 68,
      "outputs": [
        {
          "output_type": "stream",
          "text": [
            "(60000, 28, 28)\n",
            "(10000, 28, 28)\n",
            "(60000,)\n",
            "(10000,)\n"
          ],
          "name": "stdout"
        }
      ]
    },
    {
      "cell_type": "code",
      "metadata": {
        "colab": {
          "base_uri": "https://localhost:8080/",
          "height": 265
        },
        "id": "FR5DK_JtPoe7",
        "outputId": "57937c95-9544-4fe6-8b32-44822fc22179"
      },
      "source": [
        "plt.imshow(xtr[68],cmap='gray')\n",
        "plt.show()"
      ],
      "execution_count": 69,
      "outputs": [
        {
          "output_type": "display_data",
          "data": {
            "image/png": "[encoded data removed]",
            "text/plain": [
              "<Figure size 432x288 with 1 Axes>"
            ]
          },
          "metadata": {
            "tags": [],
            "needs_background": "light"
          }
        }
      ]
    },
    {
      "cell_type": "code",
      "metadata": {
        "colab": {
          "base_uri": "https://localhost:8080/"
        },
        "id": "19lLa2gIP0JP",
        "outputId": "8d9fe1e1-e78e-491b-8280-67dfe62d67a4"
      },
      "source": [
        "ytr[68]"
      ],
      "execution_count": 70,
      "outputs": [
        {
          "output_type": "execute_result",
          "data": {
            "text/plain": [
              "4"
            ]
          },
          "metadata": {
            "tags": []
          },
          "execution_count": 70
        }
      ]
    },
    {
      "cell_type": "code",
      "metadata": {
        "colab": {
          "base_uri": "https://localhost:8080/",
          "height": 35
        },
        "id": "no6YngLtP5_D",
        "outputId": "cf8939b7-c3ba-4bee-d65a-b863c95a8807"
      },
      "source": [
        "names[ytr[68]]"
      ],
      "execution_count": 71,
      "outputs": [
        {
          "output_type": "execute_result",
          "data": {
            "application/vnd.google.colaboratory.intrinsic+json": {
              "type": "string"
            },
            "text/plain": [
              "'Coat'"
            ]
          },
          "metadata": {
            "tags": []
          },
          "execution_count": 71
        }
      ]
    },
    {
      "cell_type": "markdown",
      "metadata": {
        "id": "4WYYkJz8SNmr"
      },
      "source": [
        "## Preprocessing of data"
      ]
    },
    {
      "cell_type": "code",
      "metadata": {
        "colab": {
          "base_uri": "https://localhost:8080/"
        },
        "id": "ptIZfTfhP_MS",
        "outputId": "092bdfc6-3c67-406f-8447-817a9c25b5b3"
      },
      "source": [
        "ytr"
      ],
      "execution_count": 72,
      "outputs": [
        {
          "output_type": "execute_result",
          "data": {
            "text/plain": [
              "array([9, 0, 0, ..., 3, 0, 5], dtype=uint8)"
            ]
          },
          "metadata": {
            "tags": []
          },
          "execution_count": 72
        }
      ]
    },
    {
      "cell_type": "code",
      "metadata": {
        "colab": {
          "base_uri": "https://localhost:8080/"
        },
        "id": "p05cqF0wSS8K",
        "outputId": "130226ab-5fc6-420f-b8c6-13ebfb03a9b8"
      },
      "source": [
        "# for multiclass classification, we need to onehotencode the labels\n",
        "from tensorflow.keras.utils import to_categorical\n",
        "ytr = to_categorical(ytr)\n",
        "print(ytr.shape)\n",
        "yts = to_categorical(yts)\n",
        "print(yts.shape)"
      ],
      "execution_count": 73,
      "outputs": [
        {
          "output_type": "stream",
          "text": [
            "(60000, 10)\n",
            "(10000, 10)\n"
          ],
          "name": "stdout"
        }
      ]
    },
    {
      "cell_type": "code",
      "metadata": {
        "colab": {
          "base_uri": "https://localhost:8080/"
        },
        "id": "TEFCZmH-Tcyp",
        "outputId": "de083690-254e-4a34-b51a-f17b2b5b6099"
      },
      "source": [
        "# converting images into channel format\n",
        "print(xtr.shape)\n",
        "print(xts.shape)"
      ],
      "execution_count": 74,
      "outputs": [
        {
          "output_type": "stream",
          "text": [
            "(60000, 28, 28)\n",
            "(10000, 28, 28)\n"
          ],
          "name": "stdout"
        }
      ]
    },
    {
      "cell_type": "code",
      "metadata": {
        "colab": {
          "base_uri": "https://localhost:8080/"
        },
        "id": "6cFj6snsQH5R",
        "outputId": "b00263dd-5125-49ab-852a-bf6b0ec1d200"
      },
      "source": [
        "# resize the image to channel format\n",
        "xtr = xtr.reshape(60000,28,28,1)\n",
        "xts = xts.reshape(10000,28,28,1)\n",
        "print(xtr.shape)\n",
        "print(xts.shape)"
      ],
      "execution_count": 75,
      "outputs": [
        {
          "output_type": "stream",
          "text": [
            "(60000, 28, 28, 1)\n",
            "(10000, 28, 28, 1)\n"
          ],
          "name": "stdout"
        }
      ]
    },
    {
      "cell_type": "markdown",
      "metadata": {
        "id": "SBoa0C9TUIzZ"
      },
      "source": [
        "## modelling of Neural Network"
      ]
    },
    {
      "cell_type": "code",
      "metadata": {
        "id": "hwpFURXGTohk"
      },
      "source": [
        "from tensorflow.keras import models,layers"
      ],
      "execution_count": 76,
      "outputs": []
    },
    {
      "cell_type": "code",
      "metadata": {
        "colab": {
          "base_uri": "https://localhost:8080/"
        },
        "id": "zS6wLfiTUOUW",
        "outputId": "16c80ca3-b9a7-4da6-c5b5-5456a385e92f"
      },
      "source": [
        "# creating input layer\n",
        "input_layer = layers.Input(shape=(28,28,1))\n",
        "\n",
        "c1 = layers.Conv2D(filters=8,kernel_size=(3,3),activation='relu')(input_layer)\n",
        "c2 = layers.Conv2D(filters=15,kernel_size=(3,3),activation='relu')(c1)\n",
        "p1 = layers.MaxPooling2D(pool_size=(2,2))(c2)\n",
        "\n",
        "c3 = layers.Conv2D(filters=30,kernel_size=(3,3),activation='relu')(p1)\n",
        "c4 = layers.Conv2D(filters=50,kernel_size=(3,3),activation='relu')(c3)\n",
        "\n",
        "\n",
        "# add a flatten layer\n",
        "ft = layers.Flatten()(c4)\n",
        "\n",
        "# add the first hidden layer -> full connnected layer where each neuron does weighted sum and activation function. such layers in tensorflow are termed as dense layers\n",
        "h1 = layers.Dense(120,activation='relu')(ft)\n",
        "\n",
        "# add the second hidden layer\n",
        "h2 = layers.Dense(84,activation='relu')(h1)\n",
        "\n",
        "# add the final output layer\n",
        "output_layer = layers.Dense(10,activation='softmax')(h2)\n",
        "\n",
        "\n",
        "model = models.Model(inputs=input_layer,outputs=output_layer)\n",
        "model.summary()"
      ],
      "execution_count": 91,
      "outputs": [
        {
          "output_type": "stream",
          "text": [
            "Model: \"model_2\"\n",
            "_________________________________________________________________\n",
            "Layer (type)                 Output Shape              Param #   \n",
            "=================================================================\n",
            "input_3 (InputLayer)         [(None, 28, 28, 1)]       0         \n",
            "_________________________________________________________________\n",
            "conv2d_4 (Conv2D)            (None, 26, 26, 8)         80        \n",
            "_________________________________________________________________\n",
            "conv2d_5 (Conv2D)            (None, 24, 24, 15)        1095      \n",
            "_________________________________________________________________\n",
            "max_pooling2d_4 (MaxPooling2 (None, 12, 12, 15)        0         \n",
            "_________________________________________________________________\n",
            "conv2d_6 (Conv2D)            (None, 10, 10, 30)        4080      \n",
            "_________________________________________________________________\n",
            "conv2d_7 (Conv2D)            (None, 8, 8, 50)          13550     \n",
            "_________________________________________________________________\n",
            "flatten_2 (Flatten)          (None, 3200)              0         \n",
            "_________________________________________________________________\n",
            "dense_6 (Dense)              (None, 120)               384120    \n",
            "_________________________________________________________________\n",
            "dense_7 (Dense)              (None, 84)                10164     \n",
            "_________________________________________________________________\n",
            "dense_8 (Dense)              (None, 10)                850       \n",
            "=================================================================\n",
            "Total params: 413,939\n",
            "Trainable params: 413,939\n",
            "Non-trainable params: 0\n",
            "_________________________________________________________________\n"
          ],
          "name": "stdout"
        }
      ]
    },
    {
      "cell_type": "code",
      "metadata": {
        "colab": {
          "base_uri": "https://localhost:8080/"
        },
        "id": "Ml6t8T3yWEz3",
        "outputId": "744b3c98-c801-4cc9-a36b-d65022d2a35d"
      },
      "source": [
        "# metrics - to check performance of the model e.g. - accuracy, recall, r2 score\n",
        "# optmizier - the optmizier which will update the weights and bais to minimize the error function, e.g. adam, sgd, RMSProp => we prefer using adam as it tunes learning rate automaticalllu\n",
        "# loss = how the overall error to be calculated, for regression - mse , for two class classification - binary_crossentropy, for multiclass classification - categorical_crossentropy\n",
        "\n",
        "model.compile(metrics=['accuracy'],optimizer='adam',loss='categorical_crossentropy')\n",
        "model.fit(xtr,ytr,epochs=10,batch_size=1000,validation_data=(xts,yts))"
      ],
      "execution_count": 92,
      "outputs": [
        {
          "output_type": "stream",
          "text": [
            "Epoch 1/10\n",
            "60/60 [==============================] - 2s 20ms/step - loss: 1.9830 - accuracy: 0.6371 - val_loss: 0.5083 - val_accuracy: 0.8139\n",
            "Epoch 2/10\n",
            "60/60 [==============================] - 1s 18ms/step - loss: 0.4179 - accuracy: 0.8490 - val_loss: 0.3988 - val_accuracy: 0.8632\n",
            "Epoch 3/10\n",
            "60/60 [==============================] - 1s 18ms/step - loss: 0.3495 - accuracy: 0.8739 - val_loss: 0.3794 - val_accuracy: 0.8648\n",
            "Epoch 4/10\n",
            "60/60 [==============================] - 1s 18ms/step - loss: 0.3051 - accuracy: 0.8888 - val_loss: 0.3554 - val_accuracy: 0.8769\n",
            "Epoch 5/10\n",
            "60/60 [==============================] - 1s 18ms/step - loss: 0.2703 - accuracy: 0.9009 - val_loss: 0.3471 - val_accuracy: 0.8757\n",
            "Epoch 6/10\n",
            "60/60 [==============================] - 1s 18ms/step - loss: 0.2453 - accuracy: 0.9105 - val_loss: 0.3304 - val_accuracy: 0.8850\n",
            "Epoch 7/10\n",
            "60/60 [==============================] - 1s 18ms/step - loss: 0.2270 - accuracy: 0.9168 - val_loss: 0.3273 - val_accuracy: 0.8858\n",
            "Epoch 8/10\n",
            "60/60 [==============================] - 1s 18ms/step - loss: 0.2044 - accuracy: 0.9253 - val_loss: 0.3321 - val_accuracy: 0.8875\n",
            "Epoch 9/10\n",
            "60/60 [==============================] - 1s 18ms/step - loss: 0.1881 - accuracy: 0.9317 - val_loss: 0.3523 - val_accuracy: 0.8824\n",
            "Epoch 10/10\n",
            "60/60 [==============================] - 1s 18ms/step - loss: 0.1785 - accuracy: 0.9345 - val_loss: 0.3261 - val_accuracy: 0.8908\n"
          ],
          "name": "stdout"
        },
        {
          "output_type": "execute_result",
          "data": {
            "text/plain": [
              "<tensorflow.python.keras.callbacks.History at 0x7f15b471c190>"
            ]
          },
          "metadata": {
            "tags": []
          },
          "execution_count": 92
        }
      ]
    },
    {
      "cell_type": "code",
      "metadata": {
        "colab": {
          "base_uri": "https://localhost:8080/"
        },
        "id": "ahurm1_rZXyu",
        "outputId": "f1f83e24-a484-4185-873c-730f0aad3994"
      },
      "source": [
        "ypred = model.predict(xts)\n",
        "ypred = [np.argmax(i) for i in ypred]\n",
        "yts2 = [np.argmax(i) for i in yts]\n",
        "from sklearn.metrics import accuracy_score\n",
        "accuracy_score(yts2,ypred)"
      ],
      "execution_count": 93,
      "outputs": [
        {
          "output_type": "execute_result",
          "data": {
            "text/plain": [
              "0.8908"
            ]
          },
          "metadata": {
            "tags": []
          },
          "execution_count": 93
        }
      ]
    },
    {
      "cell_type": "code",
      "metadata": {
        "colab": {
          "base_uri": "https://localhost:8080/"
        },
        "id": "VJsvScoNZtmJ",
        "outputId": "64bbfe9c-2872-4d8b-993d-573f7c7c2f63"
      },
      "source": [
        "from sklearn import metrics\n",
        "print(metrics.classification_report(yts2,ypred))"
      ],
      "execution_count": 94,
      "outputs": [
        {
          "output_type": "stream",
          "text": [
            "              precision    recall  f1-score   support\n",
            "\n",
            "           0       0.82      0.88      0.85      1000\n",
            "           1       0.99      0.98      0.98      1000\n",
            "           2       0.81      0.83      0.82      1000\n",
            "           3       0.91      0.89      0.90      1000\n",
            "           4       0.80      0.83      0.81      1000\n",
            "           5       0.96      0.98      0.97      1000\n",
            "           6       0.73      0.66      0.69      1000\n",
            "           7       0.95      0.95      0.95      1000\n",
            "           8       0.97      0.96      0.97      1000\n",
            "           9       0.97      0.95      0.96      1000\n",
            "\n",
            "    accuracy                           0.89     10000\n",
            "   macro avg       0.89      0.89      0.89     10000\n",
            "weighted avg       0.89      0.89      0.89     10000\n",
            "\n"
          ],
          "name": "stdout"
        }
      ]
    },
    {
      "cell_type": "code",
      "metadata": {
        "colab": {
          "base_uri": "https://localhost:8080/",
          "height": 357
        },
        "id": "TFQkhgxHZ_kZ",
        "outputId": "bc43d405-2b25-4c4f-cfd4-8f0922230209"
      },
      "source": [
        "import pandas as pd\n",
        "pd.DataFrame(metrics.confusion_matrix(yts2,ypred),columns=names,index=names)"
      ],
      "execution_count": 95,
      "outputs": [
        {
          "output_type": "execute_result",
          "data": {
            "text/html": [
              "<div>\n",
              "<style scoped>\n",
              "    .dataframe tbody tr th:only-of-type {\n",
              "        vertical-align: middle;\n",
              "    }\n",
              "\n",
              "    .dataframe tbody tr th {\n",
              "        vertical-align: top;\n",
              "    }\n",
              "\n",
              "    .dataframe thead th {\n",
              "        text-align: right;\n",
              "    }\n",
              "</style>\n",
              "<table border=\"1\" class=\"dataframe\">\n",
              "  <thead>\n",
              "    <tr style=\"text-align: right;\">\n",
              "      <th></th>\n",
              "      <th>T-shirt/top</th>\n",
              "      <th>Trouser</th>\n",
              "      <th>Pullover</th>\n",
              "      <th>Dress</th>\n",
              "      <th>Coat</th>\n",
              "      <th>Sandal</th>\n",
              "      <th>Shirt</th>\n",
              "      <th>Sneaker</th>\n",
              "      <th>Bag</th>\n",
              "      <th>Ankle boot</th>\n",
              "    </tr>\n",
              "  </thead>\n",
              "  <tbody>\n",
              "    <tr>\n",
              "      <th>T-shirt/top</th>\n",
              "      <td>876</td>\n",
              "      <td>2</td>\n",
              "      <td>23</td>\n",
              "      <td>11</td>\n",
              "      <td>4</td>\n",
              "      <td>1</td>\n",
              "      <td>75</td>\n",
              "      <td>0</td>\n",
              "      <td>8</td>\n",
              "      <td>0</td>\n",
              "    </tr>\n",
              "    <tr>\n",
              "      <th>Trouser</th>\n",
              "      <td>2</td>\n",
              "      <td>979</td>\n",
              "      <td>0</td>\n",
              "      <td>8</td>\n",
              "      <td>3</td>\n",
              "      <td>0</td>\n",
              "      <td>8</td>\n",
              "      <td>0</td>\n",
              "      <td>0</td>\n",
              "      <td>0</td>\n",
              "    </tr>\n",
              "    <tr>\n",
              "      <th>Pullover</th>\n",
              "      <td>24</td>\n",
              "      <td>0</td>\n",
              "      <td>828</td>\n",
              "      <td>8</td>\n",
              "      <td>77</td>\n",
              "      <td>0</td>\n",
              "      <td>59</td>\n",
              "      <td>0</td>\n",
              "      <td>4</td>\n",
              "      <td>0</td>\n",
              "    </tr>\n",
              "    <tr>\n",
              "      <th>Dress</th>\n",
              "      <td>22</td>\n",
              "      <td>7</td>\n",
              "      <td>11</td>\n",
              "      <td>893</td>\n",
              "      <td>34</td>\n",
              "      <td>0</td>\n",
              "      <td>31</td>\n",
              "      <td>0</td>\n",
              "      <td>2</td>\n",
              "      <td>0</td>\n",
              "    </tr>\n",
              "    <tr>\n",
              "      <th>Coat</th>\n",
              "      <td>2</td>\n",
              "      <td>2</td>\n",
              "      <td>77</td>\n",
              "      <td>28</td>\n",
              "      <td>830</td>\n",
              "      <td>0</td>\n",
              "      <td>61</td>\n",
              "      <td>0</td>\n",
              "      <td>0</td>\n",
              "      <td>0</td>\n",
              "    </tr>\n",
              "    <tr>\n",
              "      <th>Sandal</th>\n",
              "      <td>0</td>\n",
              "      <td>0</td>\n",
              "      <td>0</td>\n",
              "      <td>0</td>\n",
              "      <td>0</td>\n",
              "      <td>982</td>\n",
              "      <td>0</td>\n",
              "      <td>10</td>\n",
              "      <td>0</td>\n",
              "      <td>8</td>\n",
              "    </tr>\n",
              "    <tr>\n",
              "      <th>Shirt</th>\n",
              "      <td>133</td>\n",
              "      <td>2</td>\n",
              "      <td>80</td>\n",
              "      <td>24</td>\n",
              "      <td>90</td>\n",
              "      <td>0</td>\n",
              "      <td>660</td>\n",
              "      <td>0</td>\n",
              "      <td>11</td>\n",
              "      <td>0</td>\n",
              "    </tr>\n",
              "    <tr>\n",
              "      <th>Sneaker</th>\n",
              "      <td>0</td>\n",
              "      <td>0</td>\n",
              "      <td>0</td>\n",
              "      <td>0</td>\n",
              "      <td>0</td>\n",
              "      <td>30</td>\n",
              "      <td>0</td>\n",
              "      <td>952</td>\n",
              "      <td>0</td>\n",
              "      <td>18</td>\n",
              "    </tr>\n",
              "    <tr>\n",
              "      <th>Bag</th>\n",
              "      <td>11</td>\n",
              "      <td>0</td>\n",
              "      <td>7</td>\n",
              "      <td>7</td>\n",
              "      <td>3</td>\n",
              "      <td>3</td>\n",
              "      <td>6</td>\n",
              "      <td>5</td>\n",
              "      <td>958</td>\n",
              "      <td>0</td>\n",
              "    </tr>\n",
              "    <tr>\n",
              "      <th>Ankle boot</th>\n",
              "      <td>1</td>\n",
              "      <td>0</td>\n",
              "      <td>0</td>\n",
              "      <td>1</td>\n",
              "      <td>0</td>\n",
              "      <td>12</td>\n",
              "      <td>0</td>\n",
              "      <td>36</td>\n",
              "      <td>0</td>\n",
              "      <td>950</td>\n",
              "    </tr>\n",
              "  </tbody>\n",
              "</table>\n",
              "</div>"
            ],
            "text/plain": [
              "             T-shirt/top  Trouser  Pullover  ...  Sneaker  Bag  Ankle boot\n",
              "T-shirt/top          876        2        23  ...        0    8           0\n",
              "Trouser                2      979         0  ...        0    0           0\n",
              "Pullover              24        0       828  ...        0    4           0\n",
              "Dress                 22        7        11  ...        0    2           0\n",
              "Coat                   2        2        77  ...        0    0           0\n",
              "Sandal                 0        0         0  ...       10    0           8\n",
              "Shirt                133        2        80  ...        0   11           0\n",
              "Sneaker                0        0         0  ...      952    0          18\n",
              "Bag                   11        0         7  ...        5  958           0\n",
              "Ankle boot             1        0         0  ...       36    0         950\n",
              "\n",
              "[10 rows x 10 columns]"
            ]
          },
          "metadata": {
            "tags": []
          },
          "execution_count": 95
        }
      ]
    },
    {
      "cell_type": "code",
      "metadata": {
        "colab": {
          "base_uri": "https://localhost:8080/",
          "height": 265
        },
        "id": "Vqxdhz-dZwfS",
        "outputId": "f5b1c677-a80d-4b66-8f58-daf0123beaf1"
      },
      "source": [
        "plt.imshow(xts[60].reshape(28,28),cmap='gray')\n",
        "plt.show()"
      ],
      "execution_count": 81,
      "outputs": [
        {
          "output_type": "display_data",
          "data": {
            "image/png": "[encoded data removed]",
            "text/plain": [
              "<Figure size 432x288 with 1 Axes>"
            ]
          },
          "metadata": {
            "tags": [],
            "needs_background": "light"
          }
        }
      ]
    },
    {
      "cell_type": "code",
      "metadata": {
        "colab": {
          "base_uri": "https://localhost:8080/"
        },
        "id": "PYiJt5BlbNgs",
        "outputId": "cefd9e08-c365-44e1-eaec-156b7114a514"
      },
      "source": [
        "prob = model.predict(xts[60].reshape(1,28,28))\n",
        "np.argmax(prob)"
      ],
      "execution_count": 82,
      "outputs": [
        {
          "output_type": "execute_result",
          "data": {
            "text/plain": [
              "7"
            ]
          },
          "metadata": {
            "tags": []
          },
          "execution_count": 82
        }
      ]
    },
    {
      "cell_type": "code",
      "metadata": {
        "colab": {
          "base_uri": "https://localhost:8080/",
          "height": 35
        },
        "id": "EWnAOm5EbQhy",
        "outputId": "86f7b270-dcf6-4d16-97ca-91b17b009aa4"
      },
      "source": [
        "names[7]"
      ],
      "execution_count": 83,
      "outputs": [
        {
          "output_type": "execute_result",
          "data": {
            "application/vnd.google.colaboratory.intrinsic+json": {
              "type": "string"
            },
            "text/plain": [
              "'Sneaker'"
            ]
          },
          "metadata": {
            "tags": []
          },
          "execution_count": 83
        }
      ]
    },
    {
      "cell_type": "code",
      "metadata": {
        "id": "E98ntROcbfCG"
      },
      "source": [
        "!wget -q https://www.heuritech.com/wp-content/uploads/2019/07/Sneakers-Chanel-Spring-Summer-2018-pre-collection-1030x687.jpg"
      ],
      "execution_count": 84,
      "outputs": []
    },
    {
      "cell_type": "code",
      "metadata": {
        "id": "mUHvA1pYdwNE"
      },
      "source": [
        "!wget -q https://st2.depositphotos.com/3280929/8595/v/950/depositphotos_85955332-stock-illustration-floral-mosaic-white-ankle-boot.jpg"
      ],
      "execution_count": 85,
      "outputs": []
    },
    {
      "cell_type": "code",
      "metadata": {
        "colab": {
          "base_uri": "https://localhost:8080/"
        },
        "id": "Uy1cU3Ptc9WP",
        "outputId": "91b9a8ca-db29-4199-b925-a483262a9891"
      },
      "source": [
        "from tensorflow.keras.preprocessing import image\n",
        "img = image.img_to_array(image.load_img(\"depositphotos_85955332-stock-illustration-floral-mosaic-white-ankle-boot.jpg\",target_size=(28,28),grayscale=True))\n",
        "img.shape"
      ],
      "execution_count": 86,
      "outputs": [
        {
          "output_type": "stream",
          "text": [
            "/usr/local/lib/python3.7/dist-packages/keras_preprocessing/image/utils.py:107: UserWarning: grayscale is deprecated. Please use color_mode = \"grayscale\"\n",
            "  warnings.warn('grayscale is deprecated. Please use '\n"
          ],
          "name": "stderr"
        },
        {
          "output_type": "execute_result",
          "data": {
            "text/plain": [
              "(28, 28, 1)"
            ]
          },
          "metadata": {
            "tags": []
          },
          "execution_count": 86
        }
      ]
    },
    {
      "cell_type": "code",
      "metadata": {
        "colab": {
          "base_uri": "https://localhost:8080/",
          "height": 265
        },
        "id": "bSmxkXMldHIk",
        "outputId": "a2adeaf7-8f90-4021-e3ff-3222f66a8d4a"
      },
      "source": [
        "plt.imshow(img.reshape(28,28),cmap='gray')\n",
        "plt.show()"
      ],
      "execution_count": 87,
      "outputs": [
        {
          "output_type": "display_data",
          "data": {
            "image/png": "[encoded data removed]",
            "text/plain": [
              "<Figure size 432x288 with 1 Axes>"
            ]
          },
          "metadata": {
            "tags": [],
            "needs_background": "light"
          }
        }
      ]
    },
    {
      "cell_type": "code",
      "metadata": {
        "colab": {
          "base_uri": "https://localhost:8080/"
        },
        "id": "dbrheVTsdKVB",
        "outputId": "6b79bec0-ca77-47ac-ec4b-2ff2a9545aac"
      },
      "source": [
        "proba = model.predict(img.reshape(1,28,28,1))\n",
        "np.argmax(proba)"
      ],
      "execution_count": 88,
      "outputs": [
        {
          "output_type": "execute_result",
          "data": {
            "text/plain": [
              "0"
            ]
          },
          "metadata": {
            "tags": []
          },
          "execution_count": 88
        }
      ]
    },
    {
      "cell_type": "code",
      "metadata": {
        "colab": {
          "base_uri": "https://localhost:8080/",
          "height": 35
        },
        "id": "NqUwLieDdmuJ",
        "outputId": "8f460d34-e2ad-410f-bfb4-87a806f13800"
      },
      "source": [
        "names[6]"
      ],
      "execution_count": 89,
      "outputs": [
        {
          "output_type": "execute_result",
          "data": {
            "application/vnd.google.colaboratory.intrinsic+json": {
              "type": "string"
            },
            "text/plain": [
              "'Shirt'"
            ]
          },
          "metadata": {
            "tags": []
          },
          "execution_count": 89
        }
      ]
    },
    {
      "cell_type": "code",
      "metadata": {
        "id": "VsOK_ZUJdnk4"
      },
      "source": [
        ""
      ],
      "execution_count": 89,
      "outputs": []
    }
  ]
}