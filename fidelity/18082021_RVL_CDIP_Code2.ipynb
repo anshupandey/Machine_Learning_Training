{
 "cells": [
  {
   "cell_type": "code",
   "execution_count": 18,
   "id": "d264a183",
   "metadata": {},
   "outputs": [],
   "source": [
    "from skimage import io\n",
    "import matplotlib.pyplot as plt\n",
    "import numpy as np\n",
    "import pandas as pd\n",
    "import os\n",
    "import pytesseract"
   ]
  },
  {
   "cell_type": "code",
   "execution_count": 22,
   "id": "8e3ce4bd",
   "metadata": {},
   "outputs": [],
   "source": [
    "pytesseract.pytesseract.tesseract_cmd = r\"C:\\Program Files\\Tesseract-OCR\\tesseract.exe\""
   ]
  },
  {
   "cell_type": "code",
   "execution_count": 4,
   "id": "ecc2ae4a",
   "metadata": {},
   "outputs": [
    {
     "data": {
      "text/plain": [
       "(9998, 2)"
      ]
     },
     "execution_count": 4,
     "metadata": {},
     "output_type": "execute_result"
    }
   ],
   "source": [
    "df = pd.read_csv(r\"C:\\Users\\Nitu\\Desktop\\dataset\\updateddf_5classes.csv\")\n",
    "df.shape\n",
    "\n"
   ]
  },
  {
   "cell_type": "code",
   "execution_count": 5,
   "id": "4b137ea1",
   "metadata": {
    "scrolled": true
   },
   "outputs": [
    {
     "data": {
      "text/html": [
       "<div>\n",
       "<style scoped>\n",
       "    .dataframe tbody tr th:only-of-type {\n",
       "        vertical-align: middle;\n",
       "    }\n",
       "\n",
       "    .dataframe tbody tr th {\n",
       "        vertical-align: top;\n",
       "    }\n",
       "\n",
       "    .dataframe thead th {\n",
       "        text-align: right;\n",
       "    }\n",
       "</style>\n",
       "<table border=\"1\" class=\"dataframe\">\n",
       "  <thead>\n",
       "    <tr style=\"text-align: right;\">\n",
       "      <th></th>\n",
       "      <th>iname</th>\n",
       "      <th>label</th>\n",
       "    </tr>\n",
       "  </thead>\n",
       "  <tbody>\n",
       "    <tr>\n",
       "      <th>0</th>\n",
       "      <td>imagesw/w/x/r/wxr64a00/2064001385.tif</td>\n",
       "      <td>1</td>\n",
       "    </tr>\n",
       "    <tr>\n",
       "      <th>1</th>\n",
       "      <td>imagesk/k/j/k/kjk96d00/tcal0350176_0177.tif</td>\n",
       "      <td>10</td>\n",
       "    </tr>\n",
       "    <tr>\n",
       "      <th>2</th>\n",
       "      <td>imagesw/w/j/v/wjv60c00/2076832482_2483.tif</td>\n",
       "      <td>1</td>\n",
       "    </tr>\n",
       "    <tr>\n",
       "      <th>3</th>\n",
       "      <td>imagesm/m/k/d/mkd16d00/50543781-3782.tif</td>\n",
       "      <td>14</td>\n",
       "    </tr>\n",
       "    <tr>\n",
       "      <th>4</th>\n",
       "      <td>imagesx/x/d/p/xdp02e00/2028743987.tif</td>\n",
       "      <td>11</td>\n",
       "    </tr>\n",
       "  </tbody>\n",
       "</table>\n",
       "</div>"
      ],
      "text/plain": [
       "                                         iname  label\n",
       "0        imagesw/w/x/r/wxr64a00/2064001385.tif      1\n",
       "1  imagesk/k/j/k/kjk96d00/tcal0350176_0177.tif     10\n",
       "2   imagesw/w/j/v/wjv60c00/2076832482_2483.tif      1\n",
       "3     imagesm/m/k/d/mkd16d00/50543781-3782.tif     14\n",
       "4        imagesx/x/d/p/xdp02e00/2028743987.tif     11"
      ]
     },
     "execution_count": 5,
     "metadata": {},
     "output_type": "execute_result"
    }
   ],
   "source": [
    "df.head()"
   ]
  },
  {
   "cell_type": "code",
   "execution_count": 7,
   "id": "452469ae",
   "metadata": {},
   "outputs": [
    {
     "data": {
      "text/html": [
       "<div>\n",
       "<style scoped>\n",
       "    .dataframe tbody tr th:only-of-type {\n",
       "        vertical-align: middle;\n",
       "    }\n",
       "\n",
       "    .dataframe tbody tr th {\n",
       "        vertical-align: top;\n",
       "    }\n",
       "\n",
       "    .dataframe thead th {\n",
       "        text-align: right;\n",
       "    }\n",
       "</style>\n",
       "<table border=\"1\" class=\"dataframe\">\n",
       "  <thead>\n",
       "    <tr style=\"text-align: right;\">\n",
       "      <th></th>\n",
       "      <th>cat</th>\n",
       "      <th>id</th>\n",
       "    </tr>\n",
       "  </thead>\n",
       "  <tbody>\n",
       "    <tr>\n",
       "      <th>0</th>\n",
       "      <td>0</td>\n",
       "      <td>letter</td>\n",
       "    </tr>\n",
       "    <tr>\n",
       "      <th>1</th>\n",
       "      <td>1</td>\n",
       "      <td>form</td>\n",
       "    </tr>\n",
       "    <tr>\n",
       "      <th>2</th>\n",
       "      <td>2</td>\n",
       "      <td>email</td>\n",
       "    </tr>\n",
       "    <tr>\n",
       "      <th>3</th>\n",
       "      <td>3</td>\n",
       "      <td>handwritten</td>\n",
       "    </tr>\n",
       "    <tr>\n",
       "      <th>4</th>\n",
       "      <td>4</td>\n",
       "      <td>advertisement</td>\n",
       "    </tr>\n",
       "  </tbody>\n",
       "</table>\n",
       "</div>"
      ],
      "text/plain": [
       "   cat             id\n",
       "0    0         letter\n",
       "1    1           form\n",
       "2    2          email\n",
       "3    3    handwritten\n",
       "4    4  advertisement"
      ]
     },
     "execution_count": 7,
     "metadata": {},
     "output_type": "execute_result"
    }
   ],
   "source": [
    "labs = pd.read_csv(r\"C:\\Users\\Nitu\\Desktop\\dataset\\label_names.txt\",header=None)\n",
    "labs.columns=['cat','id']\n",
    "labs.head()"
   ]
  },
  {
   "cell_type": "code",
   "execution_count": 11,
   "id": "bb27173c",
   "metadata": {},
   "outputs": [],
   "source": [
    "mydic = labs.id.to_dict()"
   ]
  },
  {
   "cell_type": "code",
   "execution_count": 8,
   "id": "8a0fa031",
   "metadata": {
    "scrolled": false
   },
   "outputs": [
    {
     "data": {
      "text/plain": [
       "[1, 3, 10, 11, 14]"
      ]
     },
     "execution_count": 8,
     "metadata": {},
     "output_type": "execute_result"
    }
   ],
   "source": [
    "myclass = sorted(df.label.unique())\n",
    "myclass"
   ]
  },
  {
   "cell_type": "code",
   "execution_count": 14,
   "id": "0030ce45",
   "metadata": {},
   "outputs": [],
   "source": [
    "main_folder = r\"C:\\Users\\Nitu\\Desktop\\dataset\\textdata\""
   ]
  },
  {
   "cell_type": "code",
   "execution_count": 17,
   "id": "bdb895d0",
   "metadata": {},
   "outputs": [],
   "source": [
    "#create folder\n",
    "try:\n",
    "    for cl in myclass:\n",
    "        clname = mydic[cl]\n",
    "        os.mkdir(main_folder+\"\\\\\"+clname)\n",
    "except:\n",
    "    print(\"folder laready exist\")"
   ]
  },
  {
   "cell_type": "code",
   "execution_count": 29,
   "id": "23eb45fe",
   "metadata": {},
   "outputs": [],
   "source": [
    "def img2text(img_path,class_name,idx):\n",
    "    img = io.imread(img_path)\n",
    "    text = pytesseract.image_to_string(img)\n",
    "    loc = main_folder+\"\\\\\"+class_name+\"\\\\\"+str(idx)+\".txt\"\n",
    "    with open(loc,'w') as file:\n",
    "        file.write(text)\n",
    "    return loc"
   ]
  },
  {
   "cell_type": "code",
   "execution_count": 30,
   "id": "66594d75",
   "metadata": {},
   "outputs": [],
   "source": [
    "final_data = {\"textfile\":[],\"label\":[]}"
   ]
  },
  {
   "cell_type": "code",
   "execution_count": null,
   "id": "2c2e6c6a",
   "metadata": {},
   "outputs": [],
   "source": [
    "for i in range(df.shape[0]):\n",
    "    img_path = r\"C:\\Users\\Nitu\\Desktop\\dataset\\images\\\\\"+df.iname[i]\n",
    "    class_name = mydic[df.label[i]]\n",
    "    idx = i\n",
    "    loc = img2text(img_path,class_name,idx)\n",
    "    final_data['textfile'].append(loc)\n",
    "    final_data['label'].append(class_name)\n",
    "    \n",
    "    \n",
    "    "
   ]
  },
  {
   "cell_type": "code",
   "execution_count": null,
   "id": "f49d0f6c",
   "metadata": {},
   "outputs": [],
   "source": [
    "final_df = pd.DataFrame(final_data)\n",
    "final_df.to_csv(\"main_file.csv\")"
   ]
  }
 ],
 "metadata": {
  "kernelspec": {
   "display_name": "Python 3",
   "language": "python",
   "name": "python3"
  },
  "language_info": {
   "codemirror_mode": {
    "name": "ipython",
    "version": 3
   },
   "file_extension": ".py",
   "mimetype": "text/x-python",
   "name": "python",
   "nbconvert_exporter": "python",
   "pygments_lexer": "ipython3",
   "version": "3.8.8"
  }
 },
 "nbformat": 4,
 "nbformat_minor": 5
}
