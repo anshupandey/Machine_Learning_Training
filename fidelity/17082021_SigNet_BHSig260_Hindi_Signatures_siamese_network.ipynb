{
  "nbformat": 4,
  "nbformat_minor": 0,
  "metadata": {
    "accelerator": "GPU",
    "colab": {
      "name": "SigNet_BHSig260_Hindi_Signatures.ipynb",
      "provenance": [],
      "collapsed_sections": [],
      "toc_visible": true
    },
    "kernelspec": {
      "display_name": "Python 3",
      "language": "python",
      "name": "python3"
    },
    "language_info": {
      "codemirror_mode": {
        "name": "ipython",
        "version": 3
      },
      "file_extension": ".py",
      "mimetype": "text/x-python",
      "name": "python",
      "nbconvert_exporter": "python",
      "pygments_lexer": "ipython3",
      "version": "3.7.4"
    },
    "latex_envs": {
      "LaTeX_envs_menu_present": true,
      "autoclose": false,
      "autocomplete": true,
      "bibliofile": "biblio.bib",
      "cite_by": "apalike",
      "current_citInitial": 1,
      "eqLabelWithNumbers": true,
      "eqNumInitial": 1,
      "hotkeys": {
        "equation": "Ctrl-E",
        "itemize": "Ctrl-I"
      },
      "labels_anchors": false,
      "latex_user_defs": false,
      "report_style_numbering": false,
      "user_envs_cfg": false
    }
  },
  "cells": [
    {
      "cell_type": "markdown",
      "metadata": {
        "id": "GTEqqZMIiom-"
      },
      "source": [
        "### Problem Statement\n",
        "Signature is one of the most popular and commonly accepted biometric hallmarks that has been used since the ancient times for verifying different entities related to human beings, viz. documents, forms, bank checks, individuals, etc. Therefore, signature verification is a critical task and many efforts have been made to remove the uncertainty involved in the manual authentication procedure, which makes signature verification an important research line in the field of machine learning and pattern recognition. \n",
        "\n",
        "\n",
        "In this notebook, we model a writer independent **signature verification** task with a **convolutional Siamese network**.\n",
        "\n"
      ]
    },
    {
      "cell_type": "code",
      "metadata": {
        "id": "z5aDCGKFnWEd"
      },
      "source": [
        "import sys\n",
        "import numpy as np\n",
        "import pickle\n",
        "import os\n",
        "import matplotlib.pyplot as plt\n",
        "%matplotlib inline\n",
        "\n",
        "import cv2\n",
        "import time\n",
        "import itertools\n",
        "import random\n",
        "\n",
        "from sklearn.utils import shuffle\n",
        "\n",
        "import tensorflow as tf\n",
        "from keras.models import Sequential\n",
        "from keras.optimizers import Adam, RMSprop\n",
        "from keras.layers import Conv2D, ZeroPadding2D, Activation, Input, concatenate, Dropout\n",
        "from keras.models import Model\n",
        "\n",
        "from keras.layers.normalization import BatchNormalization\n",
        "from keras.layers.pooling import MaxPooling2D\n",
        "from keras.layers.merge import Concatenate\n",
        "from keras.layers.core import Lambda, Flatten, Dense\n",
        "from keras.initializers import glorot_uniform\n",
        "\n",
        "from keras.engine.topology import Layer\n",
        "from keras.regularizers import l2\n",
        "from keras import backend as K\n",
        "from keras.callbacks import EarlyStopping, ModelCheckpoint, ReduceLROnPlateau"
      ],
      "execution_count": null,
      "outputs": []
    },
    {
      "cell_type": "markdown",
      "metadata": {
        "id": "rQ6uGxWagd1G"
      },
      "source": [
        "### Dataset Links:\n",
        "\n",
        "https://drive.google.com/open?id=0B29vNACcjvzVc1RfVkg5dUh2b1E"
      ]
    },
    {
      "cell_type": "markdown",
      "metadata": {
        "id": "V6kP3WD_hlYA"
      },
      "source": [
        "### About the Dataset:\n",
        "\n",
        "\n",
        "The BHSig260 signature dataset contains the signatures of 260 persons, among them 100 were signed in Bengali and 160 are signed in Hindi. \n",
        "\n",
        "For each of the signers, 24 genuine and 30 forged signatures are available. This results in 100 × 24 = 2, 400 genuine and 100 × 30 = 3, 000 forged signatures in Bengali, and 160 × 24 = 3, 840 genuine and 160×30 = 4, 800 forged signatures in Hindi.\n",
        "\n",
        "In this task we are considering only Hindi singatures for easeness. \n",
        "\n",
        "\n",
        "**Paper Link:**  https://arxiv.org/pdf/1707.02131.pdf"
      ]
    },
    {
      "cell_type": "code",
      "metadata": {
        "id": "go2w2yTW1XRR"
      },
      "source": [
        "!wget -q https://www.dropbox.com/s/s59wvm0uxxx4oag/BHSig260.zip"
      ],
      "execution_count": null,
      "outputs": []
    },
    {
      "cell_type": "code",
      "metadata": {
        "id": "gUTs4SGb1dXN"
      },
      "source": [
        "#project_path = \"/content/drive/My Drive/AIML Notes/Siamese/\""
      ],
      "execution_count": null,
      "outputs": []
    },
    {
      "cell_type": "code",
      "metadata": {
        "id": "jLLR_9XE2BEe"
      },
      "source": [
        "from zipfile import ZipFile\n",
        "\n",
        "with ZipFile('BHSig260.zip', 'r') as z:\n",
        "  z.extractall()"
      ],
      "execution_count": null,
      "outputs": []
    },
    {
      "cell_type": "markdown",
      "metadata": {
        "id": "4riEsNPriAzR"
      },
      "source": [
        "### Considering only Hindi signatures from the dataset."
      ]
    },
    {
      "cell_type": "code",
      "metadata": {
        "id": "9JUlueyvnWEh"
      },
      "source": [
        "path = \"./BHSig260/Hindi/\""
      ],
      "execution_count": null,
      "outputs": []
    },
    {
      "cell_type": "code",
      "metadata": {
        "id": "Rp9uAdz8nWEi"
      },
      "source": [
        "# Get the list of all directories and sort them\n",
        "dir_list = next(os.walk(path))[1]\n",
        "dir_list.sort()"
      ],
      "execution_count": null,
      "outputs": []
    },
    {
      "cell_type": "code",
      "metadata": {
        "colab": {
          "base_uri": "https://localhost:8080/"
        },
        "id": "RGVjXiD33BVC",
        "outputId": "25aa6762-ef23-4a7c-bca7-9db43c47947d"
      },
      "source": [
        "dir_list"
      ],
      "execution_count": null,
      "outputs": [
        {
          "output_type": "execute_result",
          "data": {
            "text/plain": [
              "['001',\n",
              " '002',\n",
              " '003',\n",
              " '004',\n",
              " '005',\n",
              " '006',\n",
              " '007',\n",
              " '008',\n",
              " '009',\n",
              " '010',\n",
              " '011',\n",
              " '012',\n",
              " '013',\n",
              " '014',\n",
              " '015',\n",
              " '016',\n",
              " '017',\n",
              " '018',\n",
              " '019',\n",
              " '020',\n",
              " '021',\n",
              " '022',\n",
              " '023',\n",
              " '024',\n",
              " '025',\n",
              " '026',\n",
              " '027',\n",
              " '028',\n",
              " '029',\n",
              " '030',\n",
              " '031',\n",
              " '032',\n",
              " '033',\n",
              " '034',\n",
              " '035',\n",
              " '036',\n",
              " '037',\n",
              " '038',\n",
              " '039',\n",
              " '040',\n",
              " '041',\n",
              " '042',\n",
              " '043',\n",
              " '044',\n",
              " '045',\n",
              " '046',\n",
              " '047',\n",
              " '048',\n",
              " '049',\n",
              " '050',\n",
              " '051',\n",
              " '052',\n",
              " '053',\n",
              " '054',\n",
              " '055',\n",
              " '056',\n",
              " '057',\n",
              " '058',\n",
              " '059',\n",
              " '060',\n",
              " '061',\n",
              " '062',\n",
              " '063',\n",
              " '064',\n",
              " '065',\n",
              " '066',\n",
              " '067',\n",
              " '068',\n",
              " '069',\n",
              " '070',\n",
              " '071',\n",
              " '072',\n",
              " '073',\n",
              " '074',\n",
              " '075',\n",
              " '076',\n",
              " '077',\n",
              " '078',\n",
              " '079',\n",
              " '080',\n",
              " '081',\n",
              " '082',\n",
              " '083',\n",
              " '084',\n",
              " '085',\n",
              " '086',\n",
              " '087',\n",
              " '088',\n",
              " '089',\n",
              " '090',\n",
              " '091',\n",
              " '092',\n",
              " '093',\n",
              " '094',\n",
              " '095',\n",
              " '096',\n",
              " '097',\n",
              " '098',\n",
              " '099',\n",
              " '100',\n",
              " '101',\n",
              " '102',\n",
              " '103',\n",
              " '104',\n",
              " '105',\n",
              " '106',\n",
              " '107',\n",
              " '108',\n",
              " '109',\n",
              " '110',\n",
              " '111',\n",
              " '112',\n",
              " '113',\n",
              " '114',\n",
              " '115',\n",
              " '116',\n",
              " '117',\n",
              " '118',\n",
              " '119',\n",
              " '120',\n",
              " '121',\n",
              " '122',\n",
              " '123',\n",
              " '124',\n",
              " '125',\n",
              " '126',\n",
              " '127',\n",
              " '128',\n",
              " '129',\n",
              " '130',\n",
              " '131',\n",
              " '132',\n",
              " '133',\n",
              " '134',\n",
              " '135',\n",
              " '136',\n",
              " '137',\n",
              " '138',\n",
              " '139',\n",
              " '140',\n",
              " '141',\n",
              " '142',\n",
              " '143',\n",
              " '144',\n",
              " '145',\n",
              " '146',\n",
              " '147',\n",
              " '148',\n",
              " '149',\n",
              " '150',\n",
              " '151',\n",
              " '152',\n",
              " '153',\n",
              " '154',\n",
              " '155',\n",
              " '156',\n",
              " '157',\n",
              " '158',\n",
              " '159',\n",
              " '160']"
            ]
          },
          "metadata": {
            "tags": []
          },
          "execution_count": 9
        }
      ]
    },
    {
      "cell_type": "code",
      "metadata": {
        "id": "tgDwb6QinWEk"
      },
      "source": [
        "# For each person segregate the genuine signatures from the forged signatures\n",
        "# Genuine signatures are stored in the list \"orig_groups\"\n",
        "# Forged signatures are stored in the list \"forged_groups\"\n",
        "orig_groups, forg_groups = [], []\n",
        "for directory in dir_list:\n",
        "    images = os.listdir(path+directory)\n",
        "    images.sort()\n",
        "    images = [path+directory+'/'+x for x in images]\n",
        "    forg_groups.append(images[:30]) # First 30 signatures in each folder are forrged\n",
        "    orig_groups.append(images[30:]) # Next 24 signatures are genuine"
      ],
      "execution_count": null,
      "outputs": []
    },
    {
      "cell_type": "code",
      "metadata": {
        "colab": {
          "base_uri": "https://localhost:8080/"
        },
        "id": "d3I2PbRpnWEm",
        "outputId": "8d3c2030-0514-4eee-a019-b27b4fb74f8c"
      },
      "source": [
        "# Quick check to confirm we have data of all the 160 individuals\n",
        "len(orig_groups), len(forg_groups)"
      ],
      "execution_count": null,
      "outputs": [
        {
          "output_type": "execute_result",
          "data": {
            "text/plain": [
              "(160, 160)"
            ]
          },
          "metadata": {
            "tags": []
          },
          "execution_count": 11
        }
      ]
    },
    {
      "cell_type": "code",
      "metadata": {
        "id": "J2wsugOEnWEq"
      },
      "source": [
        "orig_lengths = [len(x) for x in orig_groups]\n",
        "forg_lengths = [len(x) for x in forg_groups]"
      ],
      "execution_count": null,
      "outputs": []
    },
    {
      "cell_type": "code",
      "metadata": {
        "colab": {
          "base_uri": "https://localhost:8080/"
        },
        "id": "k2BcZNg4nWEr",
        "outputId": "52d3dd65-0856-4a51-e801-7c3d1ff9bb01"
      },
      "source": [
        "# Quick check to confirm that there are 24 Genuine signatures for each individual\n",
        "print(orig_lengths)"
      ],
      "execution_count": null,
      "outputs": [
        {
          "output_type": "stream",
          "text": [
            "[24, 24, 24, 24, 24, 24, 24, 24, 24, 24, 24, 24, 24, 24, 24, 24, 24, 24, 24, 24, 24, 24, 24, 24, 24, 24, 24, 24, 24, 24, 24, 24, 24, 24, 24, 24, 24, 24, 24, 24, 24, 24, 24, 24, 24, 24, 24, 24, 24, 24, 24, 24, 24, 24, 24, 24, 24, 24, 24, 24, 24, 24, 24, 24, 24, 24, 24, 24, 24, 24, 24, 24, 24, 24, 24, 24, 24, 24, 24, 24, 24, 24, 24, 24, 24, 24, 24, 24, 24, 24, 24, 24, 24, 24, 24, 24, 24, 24, 24, 24, 24, 24, 24, 24, 24, 24, 24, 24, 24, 24, 24, 24, 24, 24, 24, 24, 24, 24, 24, 24, 24, 24, 24, 24, 24, 24, 24, 24, 24, 24, 24, 24, 24, 24, 24, 24, 24, 24, 24, 24, 24, 24, 24, 24, 24, 24, 24, 24, 24, 24, 24, 24, 24, 24, 24, 24, 24, 24, 24, 24]\n"
          ],
          "name": "stdout"
        }
      ]
    },
    {
      "cell_type": "code",
      "metadata": {
        "colab": {
          "base_uri": "https://localhost:8080/"
        },
        "id": "6BRlxrMynWEu",
        "outputId": "2d126bba-a444-4a3a-8b33-c3c4b6079c20"
      },
      "source": [
        "# Quick check to confirm that there are 30 Forged signatures for each individual\n",
        "print(forg_lengths)"
      ],
      "execution_count": null,
      "outputs": [
        {
          "output_type": "stream",
          "text": [
            "[30, 30, 30, 30, 30, 30, 30, 30, 30, 30, 30, 30, 30, 30, 30, 30, 30, 30, 30, 30, 30, 30, 30, 30, 30, 30, 30, 30, 30, 30, 30, 30, 30, 30, 30, 30, 30, 30, 30, 30, 30, 30, 30, 30, 30, 30, 30, 30, 30, 30, 30, 30, 30, 30, 30, 30, 30, 30, 30, 30, 30, 30, 30, 30, 30, 30, 30, 30, 30, 30, 30, 30, 30, 30, 30, 30, 30, 30, 30, 30, 30, 30, 30, 30, 30, 30, 30, 30, 30, 30, 30, 30, 30, 30, 30, 30, 30, 30, 30, 30, 30, 30, 30, 30, 30, 30, 30, 30, 30, 30, 30, 30, 30, 30, 30, 30, 30, 30, 30, 30, 30, 30, 30, 30, 30, 30, 30, 30, 30, 30, 30, 30, 30, 30, 30, 30, 30, 30, 30, 30, 30, 30, 30, 30, 30, 30, 30, 30, 30, 30, 30, 30, 30, 30, 30, 30, 30, 30, 30, 30]\n"
          ],
          "name": "stdout"
        }
      ]
    },
    {
      "cell_type": "markdown",
      "metadata": {
        "id": "qEnPfM3YnWEw"
      },
      "source": [
        "#### Train-Validation-Test Split\n",
        "* Signatures of 120 people are used for training\n",
        "* Signatures of 20 people are used for validation\n",
        "* Signatures of 20 people are used for testing"
      ]
    },
    {
      "cell_type": "code",
      "metadata": {
        "id": "CKzLFT5snWEx"
      },
      "source": [
        "orig_train, orig_val, orig_test = orig_groups[:120], orig_groups[120:140], orig_groups[140:]\n",
        "forg_train, forg_val, forg_test = forg_groups[:120], forg_groups[120:140], forg_groups[140:]"
      ],
      "execution_count": null,
      "outputs": []
    },
    {
      "cell_type": "code",
      "metadata": {
        "id": "tB0Q2clbnWE0"
      },
      "source": [
        "# Delete unnecessary variables\n",
        "del orig_groups, forg_groups"
      ],
      "execution_count": null,
      "outputs": []
    },
    {
      "cell_type": "code",
      "metadata": {
        "id": "efvMVtVanWE2"
      },
      "source": [
        "# All the images will be converted to the same size before processing\n",
        "img_h, img_w = 155, 220"
      ],
      "execution_count": null,
      "outputs": []
    },
    {
      "cell_type": "code",
      "metadata": {
        "id": "dSxGYc3ZnWE5"
      },
      "source": [
        "def visualize_sample_signature():\n",
        "    '''Function to randomly select a signature from train set and\n",
        "    print two genuine copies and one forged copy'''\n",
        "    fig, (ax1, ax2, ax3) = plt.subplots(1, 3, figsize = (10, 10))\n",
        "    k = np.random.randint(len(orig_train))\n",
        "    orig_img_names = random.sample(orig_train[k], 2)\n",
        "    forg_img_name = random.sample(forg_train[k], 1)\n",
        "    orig_img1 = cv2.imread(orig_img_names[0], 0)\n",
        "    orig_img2 = cv2.imread(orig_img_names[1], 0)\n",
        "    forg_img = cv2.imread(forg_img_name[0], 0)\n",
        "    orig_img1 = cv2.resize(orig_img1, (img_w, img_h))\n",
        "    orig_img2 = cv2.resize(orig_img2, (img_w, img_h))\n",
        "    forg_img = cv2.resize(forg_img, (img_w, img_h))\n",
        "\n",
        "    ax1.imshow(orig_img1, cmap = 'gray')\n",
        "    ax2.imshow(orig_img2, cmap = 'gray')\n",
        "    ax3.imshow(forg_img, cmap = 'gray')\n",
        "\n",
        "    ax1.set_title('Genuine Copy')\n",
        "    ax1.axis('off')\n",
        "    ax2.set_title('Genuine Copy')\n",
        "    ax2.axis('off')\n",
        "    ax3.set_title('Forged Copy')\n",
        "    ax3.axis('off')"
      ],
      "execution_count": null,
      "outputs": []
    },
    {
      "cell_type": "code",
      "metadata": {
        "colab": {
          "base_uri": "https://localhost:8080/",
          "height": 163
        },
        "id": "1ZsvrJh6nWE7",
        "outputId": "aeb36043-b8e1-495b-e1a7-8972ac3f797c"
      },
      "source": [
        "visualize_sample_signature()"
      ],
      "execution_count": null,
      "outputs": [
        {
          "output_type": "display_data",
          "data": {
            "image/png": "[encoded data removed]",
            "text/plain": [
              "<Figure size 720x720 with 3 Axes>"
            ]
          },
          "metadata": {
            "tags": [],
            "needs_background": "light"
          }
        }
      ]
    },
    {
      "cell_type": "code",
      "metadata": {
        "id": "_ck9wd_AnWFa"
      },
      "source": [
        "def generate_batch(orig_groups, forg_groups, batch_size = 32):\n",
        "    '''Function to generate a batch of data with batch_size number of data points\n",
        "    Half of the data points will be Genuine-Genuine pairs and half will be Genuine-Forged pairs'''\n",
        "    while True:\n",
        "        orig_pairs = []\n",
        "        forg_pairs = []\n",
        "        gen_gen_labels = []\n",
        "        gen_for_labels = []\n",
        "        all_pairs = []\n",
        "        all_labels = []\n",
        "        \n",
        "        # Here we create pairs of Genuine-Genuine image names and Genuine-Forged image names\n",
        "        # For every person we have 24 genuine signatures, hence we have \n",
        "        # 24 choose 2 = 276 Genuine-Genuine image pairs for one person.\n",
        "        # To make Genuine-Forged pairs, we pair every Genuine signature of a person\n",
        "        # with 12 randomly sampled Forged signatures of the same person.\n",
        "        # Thus we make 24 * 12 = 288 Genuine-Forged image pairs for one person.\n",
        "        # In all we have 120 person's data in the training data.\n",
        "        # Total no. of Genuine-Genuine pairs = 120 * 276 = 33120\n",
        "        # Total number of Genuine-Forged pairs = 120 * 288 = 34560\n",
        "        # Total no. of data points = 33120 + 34560 = 67680\n",
        "        for orig, forg in zip(orig_groups, forg_groups):\n",
        "            orig_pairs.extend(list(itertools.combinations(orig, 2)))\n",
        "            for i in range(len(forg)):\n",
        "                forg_pairs.extend(list(itertools.product(orig[i:i+1], random.sample(forg, 12))))\n",
        "        \n",
        "        # Label for Genuine-Genuine pairs is 1\n",
        "        # Label for Genuine-Forged pairs is 0\n",
        "        gen_gen_labels = [1]*len(orig_pairs)\n",
        "        gen_for_labels = [0]*len(forg_pairs)\n",
        "        \n",
        "        # Concatenate all the pairs together along with their labels and shuffle them\n",
        "        all_pairs = orig_pairs + forg_pairs\n",
        "        all_labels = gen_gen_labels + gen_for_labels\n",
        "        del orig_pairs, forg_pairs, gen_gen_labels, gen_for_labels\n",
        "        all_pairs, all_labels = shuffle(all_pairs, all_labels)\n",
        "        \n",
        "        # Note the lists above contain only the image names and\n",
        "        # actual images are loaded and yielded below in batches\n",
        "        # Below we prepare a batch of data points and yield the batch\n",
        "        # In each batch we load \"batch_size\" number of image pairs\n",
        "        # These images are then removed from the original set so that\n",
        "        # they are not added again in the next batch.\n",
        "            \n",
        "        k = 0\n",
        "        pairs=[np.zeros((batch_size, img_h, img_w, 1)) for i in range(2)]\n",
        "        targets=np.zeros((batch_size,))\n",
        "        for ix, pair in enumerate(all_pairs):\n",
        "            img1 = cv2.imread(pair[0], 0)\n",
        "            img2 = cv2.imread(pair[1], 0)\n",
        "            img1 = cv2.resize(img1, (img_w, img_h))\n",
        "            img2 = cv2.resize(img2, (img_w, img_h))\n",
        "            img1 = np.array(img1, dtype = np.float64)\n",
        "            img2 = np.array(img2, dtype = np.float64)\n",
        "            img1 /= 255\n",
        "            img2 /= 255\n",
        "            img1 = img1[..., np.newaxis]\n",
        "            img2 = img2[..., np.newaxis]\n",
        "            pairs[0][k, :, :, :] = img1\n",
        "            pairs[1][k, :, :, :] = img2\n",
        "            targets[k] = all_labels[ix]\n",
        "            k += 1\n",
        "            if k == batch_size:\n",
        "                yield pairs, targets\n",
        "                k = 0\n",
        "                pairs=[np.zeros((batch_size, img_h, img_w, 1)) for i in range(2)]\n",
        "                targets=np.zeros((batch_size,))"
      ],
      "execution_count": null,
      "outputs": []
    },
    {
      "cell_type": "code",
      "metadata": {
        "id": "eMaOGzbRnWFb"
      },
      "source": [
        "def euclidean_distance(vects):\n",
        "    '''Compute Euclidean Distance between two vectors'''\n",
        "    x, y = vects\n",
        "    return K.sqrt(K.sum(K.square(x - y), axis=1, keepdims=True))"
      ],
      "execution_count": null,
      "outputs": []
    },
    {
      "cell_type": "code",
      "metadata": {
        "id": "q2QzzPdsnWFd"
      },
      "source": [
        "def eucl_dist_output_shape(shapes):\n",
        "    shape1, shape2 = shapes\n",
        "    return (shape1[0], 1)"
      ],
      "execution_count": null,
      "outputs": []
    },
    {
      "cell_type": "code",
      "metadata": {
        "id": "YZogiZ3UnWFf"
      },
      "source": [
        "def contrastive_loss(y_true, y_pred):\n",
        "    '''Contrastive loss from Hadsell-et-al.'06\n",
        "    Source: http://yann.lecun.com/exdb/publis/pdf/hadsell-chopra-lecun-06.pdf\n",
        "    \n",
        "    Explanation:\n",
        "    When ytrue is 1, that means the sample are duplicates of each other, \n",
        "    so the Euclidean distance (ypred) between their outputs must be minimized.\n",
        "    So the loss is taken as the square of that Euclidean distance itself - K.square(y_pred).\n",
        "    When ytrue is 0, i.e. the samples are not duplicates, then the Euclidean distance \n",
        "    between them must be maximized, at least to the margin. So the loss to be minimized\n",
        "    is the difference of the margin and the Euclidean distance - (margin - y_pred).\n",
        "    If the Euclidean distance (ypred) is already greater than the margin, \n",
        "    then nothing is to be learned, so the loss is made to be zero in \n",
        "    that case by saying K.maximum(margin - y_pred, 0).\n",
        "    '''\n",
        "    margin = 1\n",
        "    return K.mean(y_true * K.square(y_pred) + (1 - y_true) * K.square(K.maximum(margin - y_pred, 0)))"
      ],
      "execution_count": null,
      "outputs": []
    },
    {
      "cell_type": "code",
      "metadata": {
        "id": "X_ZCMO1PnWFg"
      },
      "source": [
        "def create_base_network_signet(input_shape):\n",
        "    '''Base Siamese Network'''\n",
        "    \n",
        "    seq = Sequential()\n",
        "    seq.add(Conv2D(96, kernel_size=(11, 11), activation='relu', name='conv1_1', strides=4, input_shape= input_shape))\n",
        "    seq.add(BatchNormalization())\n",
        "    seq.add(MaxPooling2D((3,3), strides=(2, 2)))    \n",
        "    seq.add(ZeroPadding2D((2, 2)))\n",
        "    \n",
        "    seq.add(Conv2D(256, kernel_size=(5, 5), activation='relu', name='conv2_1'))\n",
        "    seq.add(BatchNormalization())\n",
        "    seq.add(MaxPooling2D((3,3), strides=(2, 2)))\n",
        "    seq.add(Dropout(0.3))\n",
        "    seq.add(ZeroPadding2D((1, 1)))\n",
        "    \n",
        "    seq.add(Conv2D(384, kernel_size=(3, 3), activation='relu', name='conv3_1'))\n",
        "    seq.add(ZeroPadding2D((1, 1)))\n",
        "    \n",
        "    seq.add(Conv2D(256, kernel_size=(3, 3), activation='relu', name='conv3_2'))    \n",
        "    seq.add(MaxPooling2D((3,3), strides=(2, 2)))\n",
        "    seq.add(Dropout(0.3))\n",
        "    seq.add(Flatten(name='flatten'))\n",
        "    seq.add(Dense(1024, activation='relu'))\n",
        "    seq.add(Dropout(0.5))\n",
        "    \n",
        "    seq.add(Dense(128, activation='relu')) # softmax changed to relu\n",
        "    \n",
        "    return seq"
      ],
      "execution_count": null,
      "outputs": []
    },
    {
      "cell_type": "code",
      "metadata": {
        "id": "ATNgZH4DnWFi"
      },
      "source": [
        "input_shape=(img_h, img_w, 1)"
      ],
      "execution_count": null,
      "outputs": []
    },
    {
      "cell_type": "code",
      "metadata": {
        "id": "fERanusdnWFk"
      },
      "source": [
        "# network definition\n",
        "base_network = create_base_network_signet(input_shape)\n",
        "\n",
        "input_a = Input(shape=(input_shape))\n",
        "input_b = Input(shape=(input_shape))\n",
        "\n",
        "# because we re-use the same instance `base_network`,\n",
        "# the weights of the network\n",
        "# will be shared across the two branches\n",
        "processed_a = base_network(input_a)\n",
        "processed_b = base_network(input_b)\n",
        "\n",
        "# Compute the Euclidean distance between the two vectors in the latent space\n",
        "distance = Lambda(euclidean_distance, output_shape=eucl_dist_output_shape)([processed_a, processed_b])\n",
        "\n",
        "model = Model(inputs=[input_a, input_b], outputs=distance)"
      ],
      "execution_count": null,
      "outputs": []
    },
    {
      "cell_type": "code",
      "metadata": {
        "colab": {
          "base_uri": "https://localhost:8080/"
        },
        "id": "VD6jzf-XnWFn",
        "outputId": "ca10f707-7776-4221-f697-1efc361d5e1f"
      },
      "source": [
        "batch_sz = 128\n",
        "num_train_samples = 276*120 + 300*120\n",
        "num_val_samples = num_test_samples = 276*20 + 300*20\n",
        "num_train_samples, num_val_samples, num_test_samples"
      ],
      "execution_count": null,
      "outputs": [
        {
          "output_type": "execute_result",
          "data": {
            "text/plain": [
              "(69120, 11520, 11520)"
            ]
          },
          "metadata": {
            "tags": []
          },
          "execution_count": 38
        }
      ]
    },
    {
      "cell_type": "code",
      "metadata": {
        "id": "eGGpGBl-nWFq"
      },
      "source": [
        "# compile model using RMSProp Optimizer and Contrastive loss function defined above\n",
        "rms = RMSprop(lr=1e-4, rho=0.9, epsilon=1e-08)\n",
        "model.compile(loss=contrastive_loss, optimizer=rms)"
      ],
      "execution_count": null,
      "outputs": []
    },
    {
      "cell_type": "code",
      "metadata": {
        "id": "Ez4LVXT3nWFs"
      },
      "source": [
        "# Using Keras Callbacks, save the model after every epoch\n",
        "# Reduce the learning rate by a factor of 0.1 if the validation loss does not improve for 5 epochs\n",
        "# Stop the training using early stopping if the validation loss does not improve for 12 epochs\n",
        "callbacks = [\n",
        "    EarlyStopping(patience=12, verbose=1),\n",
        "    ReduceLROnPlateau(factor=0.1, patience=5, min_lr=0.000001, verbose=1),\n",
        "    ModelCheckpoint('./signet-bhsig260-{epoch:03d}.h5', verbose=1, save_weights_only=True)\n",
        "]"
      ],
      "execution_count": null,
      "outputs": []
    },
    {
      "cell_type": "code",
      "metadata": {
        "colab": {
          "base_uri": "https://localhost:8080/"
        },
        "id": "yU3jpTHWnWFt",
        "outputId": "436c71ff-5b3e-449c-e931-65d68c6919de"
      },
      "source": [
        "results = model.fit_generator(generate_batch(orig_train, forg_train, batch_sz),\n",
        "                              steps_per_epoch = num_train_samples//batch_sz,\n",
        "                              epochs = 5,\n",
        "                              validation_data = generate_batch(orig_val, forg_val, batch_sz),\n",
        "                              validation_steps = num_val_samples//batch_sz,\n",
        "                              callbacks = callbacks)"
      ],
      "execution_count": null,
      "outputs": [
        {
          "output_type": "stream",
          "text": [
            "/usr/local/lib/python3.7/dist-packages/tensorflow/python/keras/engine/training.py:1844: UserWarning: `Model.fit_generator` is deprecated and will be removed in a future version. Please use `Model.fit`, which supports generators.\n",
            "  warnings.warn('`Model.fit_generator` is deprecated and '\n"
          ],
          "name": "stderr"
        },
        {
          "output_type": "stream",
          "text": [
            "Epoch 1/5\n",
            "540/540 [==============================] - 225s 417ms/step - loss: 0.1349 - val_loss: 0.3785\n",
            "\n",
            "Epoch 00001: saving model to ./signet-bhsig260-001.h5\n",
            "Epoch 2/5\n",
            "540/540 [==============================] - 219s 406ms/step - loss: 0.0666 - val_loss: 0.4109\n",
            "\n",
            "Epoch 00002: saving model to ./signet-bhsig260-002.h5\n",
            "Epoch 3/5\n",
            "540/540 [==============================] - 218s 404ms/step - loss: 0.0340 - val_loss: 0.4721\n",
            "\n",
            "Epoch 00003: saving model to ./signet-bhsig260-003.h5\n",
            "Epoch 4/5\n",
            "540/540 [==============================] - 218s 405ms/step - loss: 0.0207 - val_loss: 0.5076\n",
            "\n",
            "Epoch 00004: saving model to ./signet-bhsig260-004.h5\n",
            "Epoch 5/5\n",
            "540/540 [==============================] - 219s 405ms/step - loss: 0.0152 - val_loss: 0.2985\n",
            "\n",
            "Epoch 00005: saving model to ./signet-bhsig260-005.h5\n"
          ],
          "name": "stdout"
        }
      ]
    },
    {
      "cell_type": "markdown",
      "metadata": {
        "id": "8-P6xy_JJk3e"
      },
      "source": [
        "### Accuracy ROC"
      ]
    },
    {
      "cell_type": "code",
      "metadata": {
        "id": "H6sQrs2VnWFx"
      },
      "source": [
        "def compute_accuracy_roc(predictions, labels):\n",
        "    '''Compute ROC accuracy with a range of thresholds on distances.\n",
        "    '''\n",
        "    dmax = np.max(predictions)\n",
        "    dmin = np.min(predictions)\n",
        "    nsame = np.sum(labels == 1)\n",
        "    ndiff = np.sum(labels == 0)\n",
        "   \n",
        "    step = 0.01\n",
        "    max_acc = 0\n",
        "    best_thresh = -1\n",
        "   \n",
        "    for d in np.arange(dmin, dmax+step, step):\n",
        "        idx1 = predictions.ravel() <= d\n",
        "        idx2 = predictions.ravel() > d\n",
        "       \n",
        "        tpr = float(np.sum(labels[idx1] == 1)) / nsame       \n",
        "        tnr = float(np.sum(labels[idx2] == 0)) / ndiff\n",
        "        acc = 0.5 * (tpr + tnr)       \n",
        "#       print ('ROC', acc, tpr, tnr)\n",
        "       \n",
        "        if (acc > max_acc):\n",
        "            max_acc, best_thresh = acc, d\n",
        "           \n",
        "    return max_acc, best_thresh"
      ],
      "execution_count": null,
      "outputs": []
    },
    {
      "cell_type": "markdown",
      "metadata": {
        "id": "XYtVsXTtnWFy"
      },
      "source": [
        "#### Load the weights from the epoch which gave the best validation accuracy"
      ]
    },
    {
      "cell_type": "code",
      "metadata": {
        "id": "ZNp3lXV7nWFy"
      },
      "source": [
        "model.load_weights('./signet-bhsig260-005.h5')"
      ],
      "execution_count": null,
      "outputs": []
    },
    {
      "cell_type": "code",
      "metadata": {
        "id": "khoJxhf4nWF0"
      },
      "source": [
        "test_gen = generate_batch(orig_test, forg_test, 1)\n",
        "pred, tr_y = [], []\n",
        "for i in range(num_test_samples):\n",
        "    (img1, img2), label = next(test_gen)\n",
        "    tr_y.append(label)\n",
        "    pred.append(model.predict([img1, img2])[0][0])"
      ],
      "execution_count": null,
      "outputs": []
    },
    {
      "cell_type": "code",
      "metadata": {
        "colab": {
          "base_uri": "https://localhost:8080/"
        },
        "id": "oHfM7N0OnWF1",
        "outputId": "416dffd9-b1f0-434b-b930-527d55a1c06c"
      },
      "source": [
        "tr_acc, threshold = compute_accuracy_roc(np.array(pred), np.array(tr_y))\n",
        "tr_acc, threshold"
      ],
      "execution_count": null,
      "outputs": [
        {
          "output_type": "execute_result",
          "data": {
            "text/plain": [
              "(0.7997812136837946, 0.03)"
            ]
          },
          "metadata": {
            "tags": []
          },
          "execution_count": 46
        }
      ]
    },
    {
      "cell_type": "markdown",
      "metadata": {
        "id": "xSP7Z6hDnWF4"
      },
      "source": [
        "#### Accuracy = 79.37% and Threshold = 0.32\n",
        "Thus if the differnce score is less than 0.32, we predict the test image as Genuine and if the difference score is greater than 0.32, we predict it to be as forged\n",
        "\n",
        "#### Below we see some sample results"
      ]
    },
    {
      "cell_type": "code",
      "metadata": {
        "id": "ut9LUxfZnWF5"
      },
      "source": [
        "def predict_score():\n",
        "    '''Predict distance score and classify test images as Genuine or Forged'''\n",
        "    test_point, test_label = next(test_gen)\n",
        "    img1, img2 = test_point[0], test_point[1]\n",
        "    \n",
        "    fig, (ax1, ax2) = plt.subplots(1, 2, figsize = (10, 10))\n",
        "    ax1.imshow(np.squeeze(img1), cmap='gray')\n",
        "    ax2.imshow(np.squeeze(img2), cmap='gray')\n",
        "    ax1.set_title('Genuine')\n",
        "    if test_label == 1:\n",
        "        ax2.set_title('Genuine')\n",
        "    else:\n",
        "        ax2.set_title('Forged')\n",
        "    ax1.axis('off')\n",
        "    ax2.axis('off')\n",
        "    plt.show()\n",
        "    result = model.predict([img1, img2])\n",
        "    diff = result[0][0]\n",
        "    print(\"Difference Score = \", diff)\n",
        "    if diff > threshold:\n",
        "        print(\"Its a Forged Signature\")\n",
        "    else:\n",
        "        print(\"Its a Genuine Signature\")"
      ],
      "execution_count": null,
      "outputs": []
    },
    {
      "cell_type": "code",
      "metadata": {
        "colab": {
          "base_uri": "https://localhost:8080/",
          "height": 260
        },
        "id": "cHGCy1EEnWF8",
        "outputId": "67ea1632-8b06-4638-b585-b66cee284900"
      },
      "source": [
        "predict_score()"
      ],
      "execution_count": null,
      "outputs": [
        {
          "output_type": "display_data",
          "data": {
            "image/png": "[encoded data removed]",
            "text/plain": [
              "<Figure size 720x720 with 2 Axes>"
            ]
          },
          "metadata": {
            "tags": [],
            "needs_background": "light"
          }
        },
        {
          "output_type": "stream",
          "text": [
            "Difference Score =  0.52416015\n",
            "Its a Forged Signature\n"
          ],
          "name": "stdout"
        }
      ]
    },
    {
      "cell_type": "markdown",
      "metadata": {
        "id": "2iSJxGC_nWGB"
      },
      "source": [
        "### Note: The first image is always Genuine. Score prediction and classification is done for the second image"
      ]
    },
    {
      "cell_type": "code",
      "metadata": {
        "colab": {
          "base_uri": "https://localhost:8080/",
          "height": 260
        },
        "id": "KZZeA1SnnWGF",
        "outputId": "05bfb53c-8f9b-4dc9-84d7-c7c3416eeac6"
      },
      "source": [
        "predict_score()"
      ],
      "execution_count": null,
      "outputs": [
        {
          "output_type": "display_data",
          "data": {
            "image/png": "[encoded data removed]",
            "text/plain": [
              "<Figure size 720x720 with 2 Axes>"
            ]
          },
          "metadata": {
            "tags": [],
            "needs_background": "light"
          }
        },
        {
          "output_type": "stream",
          "text": [
            "Difference Score =  0.011033133\n",
            "Its a Genuine Signature\n"
          ],
          "name": "stdout"
        }
      ]
    },
    {
      "cell_type": "code",
      "metadata": {
        "colab": {
          "base_uri": "https://localhost:8080/",
          "height": 260
        },
        "id": "_VWmvVlGnWGI",
        "outputId": "d90d71cc-6bd6-4673-8d93-f9cfa1a5ba27"
      },
      "source": [
        "predict_score()"
      ],
      "execution_count": null,
      "outputs": [
        {
          "output_type": "display_data",
          "data": {
            "image/png": "[encoded data removed]",
            "text/plain": [
              "<Figure size 720x720 with 2 Axes>"
            ]
          },
          "metadata": {
            "tags": [],
            "needs_background": "light"
          }
        },
        {
          "output_type": "stream",
          "text": [
            "Difference Score =  0.49201375\n",
            "Its a Forged Signature\n"
          ],
          "name": "stdout"
        }
      ]
    },
    {
      "cell_type": "code",
      "metadata": {
        "colab": {
          "base_uri": "https://localhost:8080/",
          "height": 260
        },
        "id": "C8ICcWijnWGM",
        "outputId": "5f26d580-8e2c-447d-9e03-e32030bf822b"
      },
      "source": [
        "predict_score()"
      ],
      "execution_count": null,
      "outputs": [
        {
          "output_type": "display_data",
          "data": {
            "image/png": "[encoded data removed]",
            "text/plain": [
              "<Figure size 720x720 with 2 Axes>"
            ]
          },
          "metadata": {
            "tags": [],
            "needs_background": "light"
          }
        },
        {
          "output_type": "stream",
          "text": [
            "Difference Score =  0.61000997\n",
            "Its a Forged Signature\n"
          ],
          "name": "stdout"
        }
      ]
    },
    {
      "cell_type": "code",
      "metadata": {
        "id": "Mp8-ehO4_7TB"
      },
      "source": [
        ""
      ],
      "execution_count": null,
      "outputs": []
    }
  ]
}