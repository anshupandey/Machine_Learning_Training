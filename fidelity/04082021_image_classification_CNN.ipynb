{
 "cells": [
  {
   "cell_type": "markdown",
   "id": "c141d8a4",
   "metadata": {},
   "source": [
    "# Image Classification with Convolutional neural networks"
   ]
  },
  {
   "cell_type": "code",
   "execution_count": 1,
   "id": "9e00a314",
   "metadata": {},
   "outputs": [],
   "source": [
    "from tensorflow.keras import datasets\n",
    "import numpy as np\n",
    "import pandas as pd\n",
    "import matplotlib.pyplot as plt"
   ]
  },
  {
   "cell_type": "code",
   "execution_count": 2,
   "id": "235f6df1",
   "metadata": {},
   "outputs": [
    {
     "name": "stdout",
     "output_type": "stream",
     "text": [
      "(60000, 28, 28)\n",
      "(60000,)\n",
      "(10000, 28, 28)\n",
      "(10000,)\n"
     ]
    }
   ],
   "source": [
    "(xtrain,ytrain),(xtest,ytest) = datasets.fashion_mnist.load_data()\n",
    "print(xtrain.shape)\n",
    "print(ytrain.shape)\n",
    "print(xtest.shape)\n",
    "print(ytest.shape)"
   ]
  },
  {
   "cell_type": "code",
   "execution_count": 3,
   "id": "c9f3c65d",
   "metadata": {},
   "outputs": [],
   "source": [
    "cnames = [\"T-shirt/top\",\"Trouser\",\"Pullover\",\"Dress\",\"Coat\",\"Sandal\",\"Shirt\",\"Sneaker\",\"Bag\",\"Ankle boot\"]"
   ]
  },
  {
   "cell_type": "code",
   "execution_count": 4,
   "id": "d2924dca",
   "metadata": {},
   "outputs": [
    {
     "name": "stdout",
     "output_type": "stream",
     "text": [
      "9 Ankle boot\n"
     ]
    },
    {
     "data": {
      "image/png": "[encoded data removed]",
      "text/plain": [
       "<Figure size 432x288 with 1 Axes>"
      ]
     },
     "metadata": {
      "needs_background": "light"
     },
     "output_type": "display_data"
    }
   ],
   "source": [
    "ind=50000\n",
    "print(ytrain[ind],cnames[ytrain[ind]])\n",
    "plt.imshow(xtrain[ind],cmap='gray')\n",
    "plt.show()"
   ]
  },
  {
   "cell_type": "markdown",
   "id": "500567c7",
   "metadata": {},
   "source": [
    "### Data processing"
   ]
  },
  {
   "cell_type": "code",
   "execution_count": 5,
   "id": "f617cdfa",
   "metadata": {},
   "outputs": [],
   "source": [
    "# scale the images\n",
    "xtrain = xtrain/255\n",
    "xtest = xtest/255"
   ]
  },
  {
   "cell_type": "code",
   "execution_count": 6,
   "id": "7b5ef551",
   "metadata": {},
   "outputs": [
    {
     "name": "stdout",
     "output_type": "stream",
     "text": [
      "(60000,)\n",
      "(10000,)\n",
      "(60000, 10)\n",
      "(10000, 10)\n"
     ]
    }
   ],
   "source": [
    "# onehot encode the labels\n",
    "print(ytrain.shape)\n",
    "print(ytest.shape)\n",
    "from tensorflow.keras.utils import to_categorical\n",
    "ytrain = to_categorical(ytrain)\n",
    "ytest = to_categorical(ytest)\n",
    "print(ytrain.shape)\n",
    "print(ytest.shape)"
   ]
  },
  {
   "cell_type": "code",
   "execution_count": 7,
   "id": "fdfbc704",
   "metadata": {},
   "outputs": [
    {
     "name": "stdout",
     "output_type": "stream",
     "text": [
      "(60000, 28, 28)\n",
      "(10000, 28, 28)\n"
     ]
    }
   ],
   "source": [
    "print(xtrain.shape)\n",
    "print(xtest.shape)"
   ]
  },
  {
   "cell_type": "code",
   "execution_count": 8,
   "id": "afcfeb2d",
   "metadata": {},
   "outputs": [],
   "source": [
    "# samples, rows, cols, channel\n",
    "xtrain = xtrain.reshape(60000,28,28,1)\n",
    "xtest = xtest.reshape(10000,28,28,1)"
   ]
  },
  {
   "cell_type": "code",
   "execution_count": 9,
   "id": "b2c0bab8",
   "metadata": {},
   "outputs": [
    {
     "name": "stdout",
     "output_type": "stream",
     "text": [
      "(60000, 28, 28, 1)\n",
      "(10000, 28, 28, 1)\n"
     ]
    }
   ],
   "source": [
    "print(xtrain.shape)\n",
    "print(xtest.shape)"
   ]
  },
  {
   "cell_type": "markdown",
   "id": "ef1ad038",
   "metadata": {},
   "source": [
    "## Modelling the CNN"
   ]
  },
  {
   "cell_type": "markdown",
   "id": "7e4142e0",
   "metadata": {},
   "source": [
    "<img src=\"https://miro.medium.com/max/2000/1*1TI1aGBZ4dybR6__DI9dzA.png\">"
   ]
  },
  {
   "cell_type": "code",
   "execution_count": 10,
   "id": "0383b612",
   "metadata": {},
   "outputs": [],
   "source": [
    "from tensorflow.keras import models,layers"
   ]
  },
  {
   "cell_type": "code",
   "execution_count": 30,
   "id": "e7634756",
   "metadata": {},
   "outputs": [
    {
     "name": "stdout",
     "output_type": "stream",
     "text": [
      "Model: \"model_2\"\n",
      "_________________________________________________________________\n",
      "Layer (type)                 Output Shape              Param #   \n",
      "=================================================================\n",
      "input_3 (InputLayer)         [(None, 28, 28, 1)]       0         \n",
      "_________________________________________________________________\n",
      "conv2d_8 (Conv2D)            (None, 26, 26, 10)        100       \n",
      "_________________________________________________________________\n",
      "conv2d_9 (Conv2D)            (None, 24, 24, 30)        2730      \n",
      "_________________________________________________________________\n",
      "max_pooling2d_4 (MaxPooling2 (None, 12, 12, 30)        0         \n",
      "_________________________________________________________________\n",
      "conv2d_10 (Conv2D)           (None, 10, 10, 40)        10840     \n",
      "_________________________________________________________________\n",
      "conv2d_11 (Conv2D)           (None, 8, 8, 50)          18050     \n",
      "_________________________________________________________________\n",
      "max_pooling2d_5 (MaxPooling2 (None, 4, 4, 50)          0         \n",
      "_________________________________________________________________\n",
      "flatten_2 (Flatten)          (None, 800)               0         \n",
      "_________________________________________________________________\n",
      "dense_6 (Dense)              (None, 120)               96120     \n",
      "_________________________________________________________________\n",
      "dense_7 (Dense)              (None, 84)                10164     \n",
      "_________________________________________________________________\n",
      "dense_8 (Dense)              (None, 10)                850       \n",
      "=================================================================\n",
      "Total params: 138,854\n",
      "Trainable params: 138,854\n",
      "Non-trainable params: 0\n",
      "_________________________________________________________________\n"
     ]
    }
   ],
   "source": [
    "# add the input layer\n",
    "ip = layers.Input(shape=(28,28,1))\n",
    "\n",
    "# first conv layer\n",
    "conv1 = layers.Conv2D(filters=10,kernel_size=(3,3),activation='relu')(ip)\n",
    "conv2 = layers.Conv2D(filters=30,kernel_size=(3,3),activation='relu')(conv1)\n",
    "\n",
    "# add the maxpooling layer\n",
    "mp1 = layers.MaxPooling2D()(conv2)\n",
    "\n",
    "# add the conv layer\n",
    "conv3 = layers.Conv2D(filters=40,kernel_size=(3,3),activation='relu')(mp1)\n",
    "conv4 = layers.Conv2D(filters=50,kernel_size=(3,3),activation='relu')(conv3)\n",
    "\n",
    "# add the maxpooling layer\n",
    "mp2 = layers.MaxPooling2D(pool_size=(2,2))(conv4)\n",
    "\n",
    "# add the flatten layer\n",
    "ft = layers.Flatten()(mp2)\n",
    "\n",
    "# add dense layers\n",
    "d1 = layers.Dense(120,activation='relu')(ft)\n",
    "\n",
    "# add dense layers\n",
    "d2 = layers.Dense(84,activation='relu')(d1)\n",
    "\n",
    "# ouput layer\n",
    "op = layers.Dense(10,activation='softmax')(d2)\n",
    "\n",
    "model = models.Model(inputs=ip,outputs=op)\n",
    "model.summary()"
   ]
  },
  {
   "cell_type": "code",
   "execution_count": 31,
   "id": "95f0ea78",
   "metadata": {},
   "outputs": [
    {
     "name": "stdout",
     "output_type": "stream",
     "text": [
      "Epoch 1/10\n",
      "60/60 [==============================] - 45s 745ms/step - loss: 1.0340 - accuracy: 0.6462 - val_loss: 0.6420 - val_accuracy: 0.7403\n",
      "Epoch 2/10\n",
      "60/60 [==============================] - 37s 622ms/step - loss: 0.5615 - accuracy: 0.7844 - val_loss: 0.5275 - val_accuracy: 0.8037\n",
      "Epoch 3/10\n",
      "60/60 [==============================] - 38s 637ms/step - loss: 0.4881 - accuracy: 0.8179 - val_loss: 0.5037 - val_accuracy: 0.8185\n",
      "Epoch 4/10\n",
      "60/60 [==============================] - 44s 741ms/step - loss: 0.4373 - accuracy: 0.8404 - val_loss: 0.4555 - val_accuracy: 0.8318\n",
      "Epoch 5/10\n",
      "60/60 [==============================] - 36s 605ms/step - loss: 0.3998 - accuracy: 0.8542 - val_loss: 0.4110 - val_accuracy: 0.8527\n",
      "Epoch 6/10\n",
      "60/60 [==============================] - 46s 773ms/step - loss: 0.3677 - accuracy: 0.8672 - val_loss: 0.3939 - val_accuracy: 0.8555\n",
      "Epoch 7/10\n",
      "60/60 [==============================] - 38s 637ms/step - loss: 0.3476 - accuracy: 0.8745 - val_loss: 0.3704 - val_accuracy: 0.8690\n",
      "Epoch 8/10\n",
      "60/60 [==============================] - 42s 703ms/step - loss: 0.3225 - accuracy: 0.8836 - val_loss: 0.3529 - val_accuracy: 0.8719\n",
      "Epoch 9/10\n",
      "60/60 [==============================] - 38s 623ms/step - loss: 0.3084 - accuracy: 0.8878 - val_loss: 0.3351 - val_accuracy: 0.8782\n",
      "Epoch 10/10\n",
      "60/60 [==============================] - 37s 615ms/step - loss: 0.3010 - accuracy: 0.8910 - val_loss: 0.3252 - val_accuracy: 0.8842\n"
     ]
    },
    {
     "data": {
      "text/plain": [
       "<tensorflow.python.keras.callbacks.History at 0x232fd4eabb0>"
      ]
     },
     "execution_count": 31,
     "metadata": {},
     "output_type": "execute_result"
    }
   ],
   "source": [
    "model.compile(loss='categorical_crossentropy',optimizer='adam',metrics=['accuracy'])\n",
    "model.fit(xtrain,ytrain,epochs=10,batch_size=1000,validation_data=(xtest,ytest))"
   ]
  },
  {
   "cell_type": "code",
   "execution_count": 32,
   "id": "04c12e1a",
   "metadata": {},
   "outputs": [
    {
     "name": "stdout",
     "output_type": "stream",
     "text": [
      "(10000, 10)\n"
     ]
    }
   ],
   "source": [
    "ypred = model.predict(xtest)\n",
    "print(ypred.shape)\n",
    "ypred = [np.argmax(i) for i in ypred]\n",
    "ytest2 = [np.argmax(i) for i in ytest]"
   ]
  },
  {
   "cell_type": "code",
   "execution_count": 33,
   "id": "1ff95a2d",
   "metadata": {},
   "outputs": [
    {
     "name": "stdout",
     "output_type": "stream",
     "text": [
      "              precision    recall  f1-score   support\n",
      "\n",
      "           0       0.88      0.77      0.82      1000\n",
      "           1       0.99      0.97      0.98      1000\n",
      "           2       0.85      0.79      0.82      1000\n",
      "           3       0.89      0.89      0.89      1000\n",
      "           4       0.79      0.84      0.82      1000\n",
      "           5       0.98      0.97      0.97      1000\n",
      "           6       0.65      0.74      0.69      1000\n",
      "           7       0.94      0.96      0.95      1000\n",
      "           8       0.97      0.96      0.97      1000\n",
      "           9       0.96      0.95      0.95      1000\n",
      "\n",
      "    accuracy                           0.88     10000\n",
      "   macro avg       0.89      0.88      0.89     10000\n",
      "weighted avg       0.89      0.88      0.89     10000\n",
      "\n"
     ]
    }
   ],
   "source": [
    "from sklearn import metrics\n",
    "print(metrics.classification_report(ytest2,ypred))"
   ]
  },
  {
   "cell_type": "code",
   "execution_count": 34,
   "id": "13abfef3",
   "metadata": {},
   "outputs": [
    {
     "data": {
      "text/plain": [
       "'Shirt'"
      ]
     },
     "execution_count": 34,
     "metadata": {},
     "output_type": "execute_result"
    }
   ],
   "source": [
    "cnames[6]"
   ]
  },
  {
   "cell_type": "code",
   "execution_count": 35,
   "id": "2eba7bb1",
   "metadata": {},
   "outputs": [
    {
     "data": {
      "text/html": [
       "<div>\n",
       "<style scoped>\n",
       "    .dataframe tbody tr th:only-of-type {\n",
       "        vertical-align: middle;\n",
       "    }\n",
       "\n",
       "    .dataframe tbody tr th {\n",
       "        vertical-align: top;\n",
       "    }\n",
       "\n",
       "    .dataframe thead th {\n",
       "        text-align: right;\n",
       "    }\n",
       "</style>\n",
       "<table border=\"1\" class=\"dataframe\">\n",
       "  <thead>\n",
       "    <tr style=\"text-align: right;\">\n",
       "      <th></th>\n",
       "      <th>T-shirt/top</th>\n",
       "      <th>Trouser</th>\n",
       "      <th>Pullover</th>\n",
       "      <th>Dress</th>\n",
       "      <th>Coat</th>\n",
       "      <th>Sandal</th>\n",
       "      <th>Shirt</th>\n",
       "      <th>Sneaker</th>\n",
       "      <th>Bag</th>\n",
       "      <th>Ankle boot</th>\n",
       "    </tr>\n",
       "  </thead>\n",
       "  <tbody>\n",
       "    <tr>\n",
       "      <th>T-shirt/top</th>\n",
       "      <td>767</td>\n",
       "      <td>1</td>\n",
       "      <td>18</td>\n",
       "      <td>27</td>\n",
       "      <td>7</td>\n",
       "      <td>1</td>\n",
       "      <td>170</td>\n",
       "      <td>0</td>\n",
       "      <td>9</td>\n",
       "      <td>0</td>\n",
       "    </tr>\n",
       "    <tr>\n",
       "      <th>Trouser</th>\n",
       "      <td>1</td>\n",
       "      <td>969</td>\n",
       "      <td>1</td>\n",
       "      <td>21</td>\n",
       "      <td>3</td>\n",
       "      <td>0</td>\n",
       "      <td>3</td>\n",
       "      <td>0</td>\n",
       "      <td>2</td>\n",
       "      <td>0</td>\n",
       "    </tr>\n",
       "    <tr>\n",
       "      <th>Pullover</th>\n",
       "      <td>8</td>\n",
       "      <td>0</td>\n",
       "      <td>789</td>\n",
       "      <td>7</td>\n",
       "      <td>101</td>\n",
       "      <td>1</td>\n",
       "      <td>91</td>\n",
       "      <td>0</td>\n",
       "      <td>3</td>\n",
       "      <td>0</td>\n",
       "    </tr>\n",
       "    <tr>\n",
       "      <th>Dress</th>\n",
       "      <td>8</td>\n",
       "      <td>4</td>\n",
       "      <td>10</td>\n",
       "      <td>891</td>\n",
       "      <td>37</td>\n",
       "      <td>0</td>\n",
       "      <td>46</td>\n",
       "      <td>0</td>\n",
       "      <td>4</td>\n",
       "      <td>0</td>\n",
       "    </tr>\n",
       "    <tr>\n",
       "      <th>Coat</th>\n",
       "      <td>0</td>\n",
       "      <td>1</td>\n",
       "      <td>41</td>\n",
       "      <td>23</td>\n",
       "      <td>844</td>\n",
       "      <td>0</td>\n",
       "      <td>90</td>\n",
       "      <td>0</td>\n",
       "      <td>1</td>\n",
       "      <td>0</td>\n",
       "    </tr>\n",
       "    <tr>\n",
       "      <th>Sandal</th>\n",
       "      <td>0</td>\n",
       "      <td>0</td>\n",
       "      <td>0</td>\n",
       "      <td>0</td>\n",
       "      <td>0</td>\n",
       "      <td>970</td>\n",
       "      <td>0</td>\n",
       "      <td>19</td>\n",
       "      <td>0</td>\n",
       "      <td>11</td>\n",
       "    </tr>\n",
       "    <tr>\n",
       "      <th>Shirt</th>\n",
       "      <td>87</td>\n",
       "      <td>3</td>\n",
       "      <td>64</td>\n",
       "      <td>23</td>\n",
       "      <td>70</td>\n",
       "      <td>0</td>\n",
       "      <td>741</td>\n",
       "      <td>0</td>\n",
       "      <td>12</td>\n",
       "      <td>0</td>\n",
       "    </tr>\n",
       "    <tr>\n",
       "      <th>Sneaker</th>\n",
       "      <td>0</td>\n",
       "      <td>0</td>\n",
       "      <td>0</td>\n",
       "      <td>0</td>\n",
       "      <td>0</td>\n",
       "      <td>10</td>\n",
       "      <td>0</td>\n",
       "      <td>957</td>\n",
       "      <td>1</td>\n",
       "      <td>32</td>\n",
       "    </tr>\n",
       "    <tr>\n",
       "      <th>Bag</th>\n",
       "      <td>3</td>\n",
       "      <td>0</td>\n",
       "      <td>8</td>\n",
       "      <td>7</td>\n",
       "      <td>5</td>\n",
       "      <td>2</td>\n",
       "      <td>6</td>\n",
       "      <td>5</td>\n",
       "      <td>963</td>\n",
       "      <td>1</td>\n",
       "    </tr>\n",
       "    <tr>\n",
       "      <th>Ankle boot</th>\n",
       "      <td>1</td>\n",
       "      <td>0</td>\n",
       "      <td>0</td>\n",
       "      <td>0</td>\n",
       "      <td>0</td>\n",
       "      <td>7</td>\n",
       "      <td>0</td>\n",
       "      <td>41</td>\n",
       "      <td>0</td>\n",
       "      <td>951</td>\n",
       "    </tr>\n",
       "  </tbody>\n",
       "</table>\n",
       "</div>"
      ],
      "text/plain": [
       "             T-shirt/top  Trouser  Pullover  Dress  Coat  Sandal  Shirt  \\\n",
       "T-shirt/top          767        1        18     27     7       1    170   \n",
       "Trouser                1      969         1     21     3       0      3   \n",
       "Pullover               8        0       789      7   101       1     91   \n",
       "Dress                  8        4        10    891    37       0     46   \n",
       "Coat                   0        1        41     23   844       0     90   \n",
       "Sandal                 0        0         0      0     0     970      0   \n",
       "Shirt                 87        3        64     23    70       0    741   \n",
       "Sneaker                0        0         0      0     0      10      0   \n",
       "Bag                    3        0         8      7     5       2      6   \n",
       "Ankle boot             1        0         0      0     0       7      0   \n",
       "\n",
       "             Sneaker  Bag  Ankle boot  \n",
       "T-shirt/top        0    9           0  \n",
       "Trouser            0    2           0  \n",
       "Pullover           0    3           0  \n",
       "Dress              0    4           0  \n",
       "Coat               0    1           0  \n",
       "Sandal            19    0          11  \n",
       "Shirt              0   12           0  \n",
       "Sneaker          957    1          32  \n",
       "Bag                5  963           1  \n",
       "Ankle boot        41    0         951  "
      ]
     },
     "execution_count": 35,
     "metadata": {},
     "output_type": "execute_result"
    }
   ],
   "source": [
    "pd.DataFrame(metrics.confusion_matrix(ytest2,ypred),columns=cnames,index=cnames)"
   ]
  },
  {
   "cell_type": "markdown",
   "id": "f866e38d",
   "metadata": {},
   "source": [
    "### Exploring the CNN model"
   ]
  },
  {
   "cell_type": "code",
   "execution_count": 47,
   "id": "4781b4d8",
   "metadata": {},
   "outputs": [
    {
     "data": {
      "text/plain": [
       "14"
      ]
     },
     "execution_count": 47,
     "metadata": {},
     "output_type": "execute_result"
    }
   ],
   "source": [
    "wt = model.weights\n",
    "len(wt)"
   ]
  },
  {
   "cell_type": "code",
   "execution_count": 48,
   "id": "a0984959",
   "metadata": {},
   "outputs": [
    {
     "name": "stdout",
     "output_type": "stream",
     "text": [
      "(3, 3, 1, 10)\n",
      "(10,)\n",
      "(3, 3, 10, 30)\n",
      "(30,)\n",
      "(3, 3, 30, 40)\n",
      "(40,)\n",
      "(3, 3, 40, 50)\n",
      "(50,)\n",
      "(800, 120)\n",
      "(120,)\n",
      "(120, 84)\n",
      "(84,)\n",
      "(84, 10)\n",
      "(10,)\n"
     ]
    }
   ],
   "source": [
    "for w in wt:\n",
    "    print(w.shape)"
   ]
  },
  {
   "cell_type": "code",
   "execution_count": 49,
   "id": "8608e5af",
   "metadata": {},
   "outputs": [
    {
     "data": {
      "text/plain": [
       "(3, 3, 1, 10)"
      ]
     },
     "execution_count": 49,
     "metadata": {},
     "output_type": "execute_result"
    }
   ],
   "source": [
    "firstwt = wt[0].numpy()\n",
    "firstwt.shape"
   ]
  },
  {
   "cell_type": "code",
   "execution_count": 50,
   "id": "aae277e1",
   "metadata": {},
   "outputs": [
    {
     "data": {
      "image/png": "[encoded data removed]",
      "text/plain": [
       "<Figure size 432x288 with 1 Axes>"
      ]
     },
     "metadata": {
      "needs_background": "light"
     },
     "output_type": "display_data"
    }
   ],
   "source": [
    "model2 = models.Model(inputs=ip,outputs=conv1)\n",
    "plt.imshow(xtest[0].reshape(28,28),cmap='gray')\n",
    "plt.show()"
   ]
  },
  {
   "cell_type": "code",
   "execution_count": 51,
   "id": "a3ec6946",
   "metadata": {},
   "outputs": [
    {
     "data": {
      "text/plain": [
       "(1, 26, 26, 10)"
      ]
     },
     "execution_count": 51,
     "metadata": {},
     "output_type": "execute_result"
    }
   ],
   "source": [
    "preds = model2.predict(xtest[0].reshape(1,28,28,1))\n",
    "preds.shape"
   ]
  },
  {
   "cell_type": "code",
   "execution_count": 52,
   "id": "4b3eafa2",
   "metadata": {
    "scrolled": true
   },
   "outputs": [
    {
     "data": {
      "image/png": "[encoded data removed]",
      "text/plain": [
       "<Figure size 432x288 with 3 Axes>"
      ]
     },
     "metadata": {
      "needs_background": "light"
     },
     "output_type": "display_data"
    },
    {
     "data": {
      "image/png": "[encoded data removed]",
      "text/plain": [
       "<Figure size 432x288 with 3 Axes>"
      ]
     },
     "metadata": {
      "needs_background": "light"
     },
     "output_type": "display_data"
    },
    {
     "data": {
      "image/png": "[encoded data removed]",
      "text/plain": [
       "<Figure size 432x288 with 3 Axes>"
      ]
     },
     "metadata": {
      "needs_background": "light"
     },
     "output_type": "display_data"
    },
    {
     "data": {
      "image/png": "[encoded data removed]",
      "text/plain": [
       "<Figure size 432x288 with 3 Axes>"
      ]
     },
     "metadata": {
      "needs_background": "light"
     },
     "output_type": "display_data"
    },
    {
     "data": {
      "image/png": "[encoded data removed]",
      "text/plain": [
       "<Figure size 432x288 with 3 Axes>"
      ]
     },
     "metadata": {
      "needs_background": "light"
     },
     "output_type": "display_data"
    },
    {
     "data": {
      "image/png": "[encoded data removed]",
      "text/plain": [
       "<Figure size 432x288 with 3 Axes>"
      ]
     },
     "metadata": {
      "needs_background": "light"
     },
     "output_type": "display_data"
    },
    {
     "data": {
      "image/png": "[encoded data removed]",
      "text/plain": [
       "<Figure size 432x288 with 3 Axes>"
      ]
     },
     "metadata": {
      "needs_background": "light"
     },
     "output_type": "display_data"
    },
    {
     "data": {
      "image/png": "[encoded data removed]",
      "text/plain": [
       "<Figure size 432x288 with 3 Axes>"
      ]
     },
     "metadata": {
      "needs_background": "light"
     },
     "output_type": "display_data"
    },
    {
     "data": {
      "image/png": "[encoded data removed]",
      "text/plain": [
       "<Figure size 432x288 with 3 Axes>"
      ]
     },
     "metadata": {
      "needs_background": "light"
     },
     "output_type": "display_data"
    },
    {
     "data": {
      "image/png": "[encoded data removed]",
      "text/plain": [
       "<Figure size 432x288 with 3 Axes>"
      ]
     },
     "metadata": {
      "needs_background": "light"
     },
     "output_type": "display_data"
    }
   ],
   "source": [
    "for i in range(10):\n",
    "    plt.subplot(131)\n",
    "    plt.imshow(xtest[0].reshape(28,28),cmap='gray')\n",
    "    plt.subplot(132)\n",
    "    plt.imshow(firstwt[:,:,0,i].reshape(3,3),cmap='gray')\n",
    "    plt.subplot(133)\n",
    "    plt.imshow(preds[:,:,:,i].reshape(26,26),cmap='gray')\n",
    "    plt.show()"
   ]
  },
  {
   "cell_type": "code",
   "execution_count": null,
   "id": "37de7cf3",
   "metadata": {},
   "outputs": [],
   "source": []
  }
 ],
 "metadata": {
  "kernelspec": {
   "display_name": "Python 3",
   "language": "python",
   "name": "python3"
  },
  "language_info": {
   "codemirror_mode": {
    "name": "ipython",
    "version": 3
   },
   "file_extension": ".py",
   "mimetype": "text/x-python",
   "name": "python",
   "nbconvert_exporter": "python",
   "pygments_lexer": "ipython3",
   "version": "3.8.8"
  }
 },
 "nbformat": 4,
 "nbformat_minor": 5
}
