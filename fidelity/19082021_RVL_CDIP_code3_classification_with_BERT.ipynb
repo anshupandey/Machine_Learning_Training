{
  "nbformat": 4,
  "nbformat_minor": 0,
  "metadata": {
    "colab": {
      "name": "RVL_CDIP - code3 - classification with BERT.ipynb",
      "provenance": [],
      "collapsed_sections": [],
      "include_colab_link": true
    },
    "kernelspec": {
      "name": "python3",
      "display_name": "Python 3"
    },
    "language_info": {
      "name": "python"
    },
    "accelerator": "GPU"
  },
  "cells": [
    {
      "cell_type": "markdown",
      "metadata": {
        "id": "view-in-github",
        "colab_type": "text"
      },
      "source": [
        "<a href=\"https://colab.research.google.com/github/anshupandey/Machine_Learning_Training/blob/master/fidelity/RVL_CDIP_code3_classification_with_BERT.ipynb\" target=\"_parent\"><img src=\"https://colab.research.google.com/assets/colab-badge.svg\" alt=\"Open In Colab\"/></a>"
      ]
    },
    {
      "cell_type": "code",
      "metadata": {
        "colab": {
          "base_uri": "https://localhost:8080/"
        },
        "id": "MtRBXjyABDA7",
        "outputId": "15f6b787-2846-4c03-95d4-95348615f9c1"
      },
      "source": [
        "!pip install tensorflow-text"
      ],
      "execution_count": null,
      "outputs": [
        {
          "output_type": "stream",
          "text": [
            "Collecting tensorflow-text\n",
            "  Downloading tensorflow_text-2.5.0-cp37-cp37m-manylinux1_x86_64.whl (4.3 MB)\n",
            "\u001b[K     |████████████████████████████████| 4.3 MB 8.2 MB/s \n",
            "\u001b[?25hRequirement already satisfied: tensorflow-hub>=0.8.0 in /usr/local/lib/python3.7/dist-packages (from tensorflow-text) (0.12.0)\n",
            "Collecting tensorflow<2.6,>=2.5.0\n",
            "  Downloading tensorflow-2.5.1-cp37-cp37m-manylinux2010_x86_64.whl (454.4 MB)\n",
            "\u001b[K     |████████████████████████████████| 454.4 MB 10 kB/s \n",
            "\u001b[?25hCollecting tensorflow-estimator<2.6.0,>=2.5.0\n",
            "  Downloading tensorflow_estimator-2.5.0-py2.py3-none-any.whl (462 kB)\n",
            "\u001b[K     |████████████████████████████████| 462 kB 38.1 MB/s \n",
            "\u001b[?25hRequirement already satisfied: wrapt~=1.12.1 in /usr/local/lib/python3.7/dist-packages (from tensorflow<2.6,>=2.5.0->tensorflow-text) (1.12.1)\n",
            "Requirement already satisfied: google-pasta~=0.2 in /usr/local/lib/python3.7/dist-packages (from tensorflow<2.6,>=2.5.0->tensorflow-text) (0.2.0)\n",
            "Requirement already satisfied: absl-py~=0.10 in /usr/local/lib/python3.7/dist-packages (from tensorflow<2.6,>=2.5.0->tensorflow-text) (0.12.0)\n",
            "Requirement already satisfied: tensorboard~=2.5 in /usr/local/lib/python3.7/dist-packages (from tensorflow<2.6,>=2.5.0->tensorflow-text) (2.6.0)\n",
            "Requirement already satisfied: h5py~=3.1.0 in /usr/local/lib/python3.7/dist-packages (from tensorflow<2.6,>=2.5.0->tensorflow-text) (3.1.0)\n",
            "Requirement already satisfied: termcolor~=1.1.0 in /usr/local/lib/python3.7/dist-packages (from tensorflow<2.6,>=2.5.0->tensorflow-text) (1.1.0)\n",
            "Collecting grpcio~=1.34.0\n",
            "  Downloading grpcio-1.34.1-cp37-cp37m-manylinux2014_x86_64.whl (4.0 MB)\n",
            "\u001b[K     |████████████████████████████████| 4.0 MB 41.8 MB/s \n",
            "\u001b[?25hRequirement already satisfied: typing-extensions~=3.7.4 in /usr/local/lib/python3.7/dist-packages (from tensorflow<2.6,>=2.5.0->tensorflow-text) (3.7.4.3)\n",
            "Requirement already satisfied: keras-preprocessing~=1.1.2 in /usr/local/lib/python3.7/dist-packages (from tensorflow<2.6,>=2.5.0->tensorflow-text) (1.1.2)\n",
            "Collecting keras-nightly~=2.5.0.dev\n",
            "  Downloading keras_nightly-2.5.0.dev2021032900-py2.py3-none-any.whl (1.2 MB)\n",
            "\u001b[K     |████████████████████████████████| 1.2 MB 53.1 MB/s \n",
            "\u001b[?25hRequirement already satisfied: astunparse~=1.6.3 in /usr/local/lib/python3.7/dist-packages (from tensorflow<2.6,>=2.5.0->tensorflow-text) (1.6.3)\n",
            "Requirement already satisfied: protobuf>=3.9.2 in /usr/local/lib/python3.7/dist-packages (from tensorflow<2.6,>=2.5.0->tensorflow-text) (3.17.3)\n",
            "Requirement already satisfied: six~=1.15.0 in /usr/local/lib/python3.7/dist-packages (from tensorflow<2.6,>=2.5.0->tensorflow-text) (1.15.0)\n",
            "Requirement already satisfied: numpy~=1.19.2 in /usr/local/lib/python3.7/dist-packages (from tensorflow<2.6,>=2.5.0->tensorflow-text) (1.19.5)\n",
            "Requirement already satisfied: opt-einsum~=3.3.0 in /usr/local/lib/python3.7/dist-packages (from tensorflow<2.6,>=2.5.0->tensorflow-text) (3.3.0)\n",
            "Requirement already satisfied: wheel~=0.35 in /usr/local/lib/python3.7/dist-packages (from tensorflow<2.6,>=2.5.0->tensorflow-text) (0.37.0)\n",
            "Requirement already satisfied: gast==0.4.0 in /usr/local/lib/python3.7/dist-packages (from tensorflow<2.6,>=2.5.0->tensorflow-text) (0.4.0)\n",
            "Requirement already satisfied: flatbuffers~=1.12.0 in /usr/local/lib/python3.7/dist-packages (from tensorflow<2.6,>=2.5.0->tensorflow-text) (1.12)\n",
            "Requirement already satisfied: cached-property in /usr/local/lib/python3.7/dist-packages (from h5py~=3.1.0->tensorflow<2.6,>=2.5.0->tensorflow-text) (1.5.2)\n",
            "Requirement already satisfied: requests<3,>=2.21.0 in /usr/local/lib/python3.7/dist-packages (from tensorboard~=2.5->tensorflow<2.6,>=2.5.0->tensorflow-text) (2.23.0)\n",
            "Requirement already satisfied: tensorboard-plugin-wit>=1.6.0 in /usr/local/lib/python3.7/dist-packages (from tensorboard~=2.5->tensorflow<2.6,>=2.5.0->tensorflow-text) (1.8.0)\n",
            "Requirement already satisfied: google-auth-oauthlib<0.5,>=0.4.1 in /usr/local/lib/python3.7/dist-packages (from tensorboard~=2.5->tensorflow<2.6,>=2.5.0->tensorflow-text) (0.4.5)\n",
            "Requirement already satisfied: setuptools>=41.0.0 in /usr/local/lib/python3.7/dist-packages (from tensorboard~=2.5->tensorflow<2.6,>=2.5.0->tensorflow-text) (57.4.0)\n",
            "Requirement already satisfied: google-auth<2,>=1.6.3 in /usr/local/lib/python3.7/dist-packages (from tensorboard~=2.5->tensorflow<2.6,>=2.5.0->tensorflow-text) (1.34.0)\n",
            "Requirement already satisfied: werkzeug>=0.11.15 in /usr/local/lib/python3.7/dist-packages (from tensorboard~=2.5->tensorflow<2.6,>=2.5.0->tensorflow-text) (1.0.1)\n",
            "Requirement already satisfied: tensorboard-data-server<0.7.0,>=0.6.0 in /usr/local/lib/python3.7/dist-packages (from tensorboard~=2.5->tensorflow<2.6,>=2.5.0->tensorflow-text) (0.6.1)\n",
            "Requirement already satisfied: markdown>=2.6.8 in /usr/local/lib/python3.7/dist-packages (from tensorboard~=2.5->tensorflow<2.6,>=2.5.0->tensorflow-text) (3.3.4)\n",
            "Requirement already satisfied: pyasn1-modules>=0.2.1 in /usr/local/lib/python3.7/dist-packages (from google-auth<2,>=1.6.3->tensorboard~=2.5->tensorflow<2.6,>=2.5.0->tensorflow-text) (0.2.8)\n",
            "Requirement already satisfied: cachetools<5.0,>=2.0.0 in /usr/local/lib/python3.7/dist-packages (from google-auth<2,>=1.6.3->tensorboard~=2.5->tensorflow<2.6,>=2.5.0->tensorflow-text) (4.2.2)\n",
            "Requirement already satisfied: rsa<5,>=3.1.4 in /usr/local/lib/python3.7/dist-packages (from google-auth<2,>=1.6.3->tensorboard~=2.5->tensorflow<2.6,>=2.5.0->tensorflow-text) (4.7.2)\n",
            "Requirement already satisfied: requests-oauthlib>=0.7.0 in /usr/local/lib/python3.7/dist-packages (from google-auth-oauthlib<0.5,>=0.4.1->tensorboard~=2.5->tensorflow<2.6,>=2.5.0->tensorflow-text) (1.3.0)\n",
            "Requirement already satisfied: importlib-metadata in /usr/local/lib/python3.7/dist-packages (from markdown>=2.6.8->tensorboard~=2.5->tensorflow<2.6,>=2.5.0->tensorflow-text) (4.6.3)\n",
            "Requirement already satisfied: pyasn1<0.5.0,>=0.4.6 in /usr/local/lib/python3.7/dist-packages (from pyasn1-modules>=0.2.1->google-auth<2,>=1.6.3->tensorboard~=2.5->tensorflow<2.6,>=2.5.0->tensorflow-text) (0.4.8)\n",
            "Requirement already satisfied: chardet<4,>=3.0.2 in /usr/local/lib/python3.7/dist-packages (from requests<3,>=2.21.0->tensorboard~=2.5->tensorflow<2.6,>=2.5.0->tensorflow-text) (3.0.4)\n",
            "Requirement already satisfied: urllib3!=1.25.0,!=1.25.1,<1.26,>=1.21.1 in /usr/local/lib/python3.7/dist-packages (from requests<3,>=2.21.0->tensorboard~=2.5->tensorflow<2.6,>=2.5.0->tensorflow-text) (1.24.3)\n",
            "Requirement already satisfied: certifi>=2017.4.17 in /usr/local/lib/python3.7/dist-packages (from requests<3,>=2.21.0->tensorboard~=2.5->tensorflow<2.6,>=2.5.0->tensorflow-text) (2021.5.30)\n",
            "Requirement already satisfied: idna<3,>=2.5 in /usr/local/lib/python3.7/dist-packages (from requests<3,>=2.21.0->tensorboard~=2.5->tensorflow<2.6,>=2.5.0->tensorflow-text) (2.10)\n",
            "Requirement already satisfied: oauthlib>=3.0.0 in /usr/local/lib/python3.7/dist-packages (from requests-oauthlib>=0.7.0->google-auth-oauthlib<0.5,>=0.4.1->tensorboard~=2.5->tensorflow<2.6,>=2.5.0->tensorflow-text) (3.1.1)\n",
            "Requirement already satisfied: zipp>=0.5 in /usr/local/lib/python3.7/dist-packages (from importlib-metadata->markdown>=2.6.8->tensorboard~=2.5->tensorflow<2.6,>=2.5.0->tensorflow-text) (3.5.0)\n",
            "Installing collected packages: grpcio, tensorflow-estimator, keras-nightly, tensorflow, tensorflow-text\n",
            "  Attempting uninstall: grpcio\n",
            "    Found existing installation: grpcio 1.39.0\n",
            "    Uninstalling grpcio-1.39.0:\n",
            "      Successfully uninstalled grpcio-1.39.0\n",
            "  Attempting uninstall: tensorflow-estimator\n",
            "    Found existing installation: tensorflow-estimator 2.6.0\n",
            "    Uninstalling tensorflow-estimator-2.6.0:\n",
            "      Successfully uninstalled tensorflow-estimator-2.6.0\n",
            "  Attempting uninstall: tensorflow\n",
            "    Found existing installation: tensorflow 2.6.0\n",
            "    Uninstalling tensorflow-2.6.0:\n",
            "      Successfully uninstalled tensorflow-2.6.0\n",
            "Successfully installed grpcio-1.34.1 keras-nightly-2.5.0.dev2021032900 tensorflow-2.5.1 tensorflow-estimator-2.5.0 tensorflow-text-2.5.0\n"
          ],
          "name": "stdout"
        }
      ]
    },
    {
      "cell_type": "code",
      "metadata": {
        "id": "t8yWZX5uB1fw"
      },
      "source": [
        "import tensorflow as tf\n",
        "import tensorflow_hub as hub\n",
        "from tensorflow.keras import models,layers\n",
        "import tensorflow_text as text"
      ],
      "execution_count": null,
      "outputs": []
    },
    {
      "cell_type": "code",
      "metadata": {
        "id": "06eIqSTOCHlM"
      },
      "source": [
        "text_input = layers.Input(shape=(), dtype=tf.string)\n",
        "preprocessor = hub.KerasLayer(\"https://tfhub.dev/tensorflow/bert_en_uncased_preprocess/3\")\n",
        "encoder_inputs = preprocessor(text_input)\n",
        "encoder = hub.KerasLayer(\"https://tfhub.dev/tensorflow/small_bert/bert_en_uncased_L-8_H-512_A-8/2\",trainable=False)\n",
        "outputs = encoder(encoder_inputs)\n",
        "pooled_output = outputs[\"pooled_output\"]# [batch_size, 512]. - sentence vectorization\n",
        "sequence_output = outputs[\"sequence_output\"]# [batch_size, seq_length, 512]. - word vectoriation"
      ],
      "execution_count": null,
      "outputs": []
    },
    {
      "cell_type": "code",
      "metadata": {
        "colab": {
          "base_uri": "https://localhost:8080/"
        },
        "id": "kISH68N_CSFM",
        "outputId": "3ad0135c-35cf-4d37-e4be-61271d613c29"
      },
      "source": [
        "embedding_model = tf.keras.Model(text_input, pooled_output)\n",
        "sentences = tf.constant([\"Hello, how are you doing?\"])\n",
        "print(embedding_model(sentences).shape)"
      ],
      "execution_count": null,
      "outputs": [
        {
          "output_type": "stream",
          "text": [
            "(1, 512)\n"
          ],
          "name": "stdout"
        }
      ]
    },
    {
      "cell_type": "code",
      "metadata": {
        "colab": {
          "base_uri": "https://localhost:8080/"
        },
        "id": "PXy9m_roCgP0",
        "outputId": "f48a0bff-8afd-4e4f-bc93-912c170c9f33"
      },
      "source": [
        "embedding_model2 = tf.keras.Model(text_input, sequence_output)\n",
        "sentences = tf.constant([\"Hello, how are you doing?\"])\n",
        "print(embedding_model2(sentences).shape)"
      ],
      "execution_count": null,
      "outputs": [
        {
          "output_type": "stream",
          "text": [
            "(1, 128, 512)\n"
          ],
          "name": "stdout"
        }
      ]
    },
    {
      "cell_type": "markdown",
      "metadata": {
        "id": "Y3bETXTNEhGi"
      },
      "source": [
        "## Modelling the network"
      ]
    },
    {
      "cell_type": "code",
      "metadata": {
        "id": "_G857LwxENmp"
      },
      "source": [
        "# create a function which accepts a text doc and return corresponding vector\n",
        "def doc2vec(doc):\n",
        "  vector = embedding_model(tf.squeeze(tf.cast(doc,tf.string),axis=1))\n",
        "  return vector"
      ],
      "execution_count": null,
      "outputs": []
    },
    {
      "cell_type": "code",
      "metadata": {
        "colab": {
          "base_uri": "https://localhost:8080/"
        },
        "id": "-O1Tv1ChE5M0",
        "outputId": "69346340-758b-4c21-a2fc-41fd6233e63d"
      },
      "source": [
        "input_layer = layers.Input(shape=(1,),dtype='string')\n",
        "# adding embedding layer - BERT\n",
        "emb = layers.Lambda(doc2vec,output_shape=(512,))(input_layer)\n",
        "dense1 = layers.Dense(256,activation='relu')(emb)\n",
        "op_layer = layers.Dense(5,activation='softmax')(dense1)\n",
        "\n",
        "model = models.Model(inputs=input_layer,outputs=op_layer)\n",
        "model.compile(loss='categorical_crossentropy',optimizer='adam',metrics=['accuracy'])"
      ],
      "execution_count": null,
      "outputs": [
        {
          "output_type": "stream",
          "text": [
            "WARNING:tensorflow:\n",
            "The following Variables were used a Lambda layer's call (lambda), but\n",
            "are not present in its tracked objects:\n",
            "  <tf.Variable 'word_embeddings/embeddings:0' shape=(30522, 512) dtype=float32>\n",
            "  <tf.Variable 'position_embedding/embeddings:0' shape=(512, 512) dtype=float32>\n",
            "  <tf.Variable 'type_embeddings/embeddings:0' shape=(2, 512) dtype=float32>\n",
            "  <tf.Variable 'embeddings/layer_norm/gamma:0' shape=(512,) dtype=float32>\n",
            "  <tf.Variable 'embeddings/layer_norm/beta:0' shape=(512,) dtype=float32>\n",
            "  <tf.Variable 'transformer/layer_0/self_attention/query/kernel:0' shape=(512, 8, 64) dtype=float32>\n",
            "  <tf.Variable 'transformer/layer_0/self_attention/query/bias:0' shape=(8, 64) dtype=float32>\n",
            "  <tf.Variable 'transformer/layer_0/self_attention/key/kernel:0' shape=(512, 8, 64) dtype=float32>\n",
            "  <tf.Variable 'transformer/layer_0/self_attention/key/bias:0' shape=(8, 64) dtype=float32>\n",
            "  <tf.Variable 'transformer/layer_0/self_attention/value/kernel:0' shape=(512, 8, 64) dtype=float32>\n",
            "  <tf.Variable 'transformer/layer_0/self_attention/value/bias:0' shape=(8, 64) dtype=float32>\n",
            "  <tf.Variable 'transformer/layer_0/self_attention/attention_output/kernel:0' shape=(8, 64, 512) dtype=float32>\n",
            "  <tf.Variable 'transformer/layer_0/self_attention/attention_output/bias:0' shape=(512,) dtype=float32>\n",
            "  <tf.Variable 'transformer/layer_0/self_attention_layer_norm/gamma:0' shape=(512,) dtype=float32>\n",
            "  <tf.Variable 'transformer/layer_0/self_attention_layer_norm/beta:0' shape=(512,) dtype=float32>\n",
            "  <tf.Variable 'transformer/layer_0/intermediate/kernel:0' shape=(512, 2048) dtype=float32>\n",
            "  <tf.Variable 'transformer/layer_0/intermediate/bias:0' shape=(2048,) dtype=float32>\n",
            "  <tf.Variable 'transformer/layer_0/output/kernel:0' shape=(2048, 512) dtype=float32>\n",
            "  <tf.Variable 'transformer/layer_0/output/bias:0' shape=(512,) dtype=float32>\n",
            "  <tf.Variable 'transformer/layer_0/output_layer_norm/gamma:0' shape=(512,) dtype=float32>\n",
            "  <tf.Variable 'transformer/layer_0/output_layer_norm/beta:0' shape=(512,) dtype=float32>\n",
            "  <tf.Variable 'transformer/layer_1/self_attention/query/kernel:0' shape=(512, 8, 64) dtype=float32>\n",
            "  <tf.Variable 'transformer/layer_1/self_attention/query/bias:0' shape=(8, 64) dtype=float32>\n",
            "  <tf.Variable 'transformer/layer_1/self_attention/key/kernel:0' shape=(512, 8, 64) dtype=float32>\n",
            "  <tf.Variable 'transformer/layer_1/self_attention/key/bias:0' shape=(8, 64) dtype=float32>\n",
            "  <tf.Variable 'transformer/layer_1/self_attention/value/kernel:0' shape=(512, 8, 64) dtype=float32>\n",
            "  <tf.Variable 'transformer/layer_1/self_attention/value/bias:0' shape=(8, 64) dtype=float32>\n",
            "  <tf.Variable 'transformer/layer_1/self_attention/attention_output/kernel:0' shape=(8, 64, 512) dtype=float32>\n",
            "  <tf.Variable 'transformer/layer_1/self_attention/attention_output/bias:0' shape=(512,) dtype=float32>\n",
            "  <tf.Variable 'transformer/layer_1/self_attention_layer_norm/gamma:0' shape=(512,) dtype=float32>\n",
            "  <tf.Variable 'transformer/layer_1/self_attention_layer_norm/beta:0' shape=(512,) dtype=float32>\n",
            "  <tf.Variable 'transformer/layer_1/intermediate/kernel:0' shape=(512, 2048) dtype=float32>\n",
            "  <tf.Variable 'transformer/layer_1/intermediate/bias:0' shape=(2048,) dtype=float32>\n",
            "  <tf.Variable 'transformer/layer_1/output/kernel:0' shape=(2048, 512) dtype=float32>\n",
            "  <tf.Variable 'transformer/layer_1/output/bias:0' shape=(512,) dtype=float32>\n",
            "  <tf.Variable 'transformer/layer_1/output_layer_norm/gamma:0' shape=(512,) dtype=float32>\n",
            "  <tf.Variable 'transformer/layer_1/output_layer_norm/beta:0' shape=(512,) dtype=float32>\n",
            "  <tf.Variable 'transformer/layer_2/self_attention/query/kernel:0' shape=(512, 8, 64) dtype=float32>\n",
            "  <tf.Variable 'transformer/layer_2/self_attention/query/bias:0' shape=(8, 64) dtype=float32>\n",
            "  <tf.Variable 'transformer/layer_2/self_attention/key/kernel:0' shape=(512, 8, 64) dtype=float32>\n",
            "  <tf.Variable 'transformer/layer_2/self_attention/key/bias:0' shape=(8, 64) dtype=float32>\n",
            "  <tf.Variable 'transformer/layer_2/self_attention/value/kernel:0' shape=(512, 8, 64) dtype=float32>\n",
            "  <tf.Variable 'transformer/layer_2/self_attention/value/bias:0' shape=(8, 64) dtype=float32>\n",
            "  <tf.Variable 'transformer/layer_2/self_attention/attention_output/kernel:0' shape=(8, 64, 512) dtype=float32>\n",
            "  <tf.Variable 'transformer/layer_2/self_attention/attention_output/bias:0' shape=(512,) dtype=float32>\n",
            "  <tf.Variable 'transformer/layer_2/self_attention_layer_norm/gamma:0' shape=(512,) dtype=float32>\n",
            "  <tf.Variable 'transformer/layer_2/self_attention_layer_norm/beta:0' shape=(512,) dtype=float32>\n",
            "  <tf.Variable 'transformer/layer_2/intermediate/kernel:0' shape=(512, 2048) dtype=float32>\n",
            "  <tf.Variable 'transformer/layer_2/intermediate/bias:0' shape=(2048,) dtype=float32>\n",
            "  <tf.Variable 'transformer/layer_2/output/kernel:0' shape=(2048, 512) dtype=float32>\n",
            "  <tf.Variable 'transformer/layer_2/output/bias:0' shape=(512,) dtype=float32>\n",
            "  <tf.Variable 'transformer/layer_2/output_layer_norm/gamma:0' shape=(512,) dtype=float32>\n",
            "  <tf.Variable 'transformer/layer_2/output_layer_norm/beta:0' shape=(512,) dtype=float32>\n",
            "  <tf.Variable 'transformer/layer_3/self_attention/query/kernel:0' shape=(512, 8, 64) dtype=float32>\n",
            "  <tf.Variable 'transformer/layer_3/self_attention/query/bias:0' shape=(8, 64) dtype=float32>\n",
            "  <tf.Variable 'transformer/layer_3/self_attention/key/kernel:0' shape=(512, 8, 64) dtype=float32>\n",
            "  <tf.Variable 'transformer/layer_3/self_attention/key/bias:0' shape=(8, 64) dtype=float32>\n",
            "  <tf.Variable 'transformer/layer_3/self_attention/value/kernel:0' shape=(512, 8, 64) dtype=float32>\n",
            "  <tf.Variable 'transformer/layer_3/self_attention/value/bias:0' shape=(8, 64) dtype=float32>\n",
            "  <tf.Variable 'transformer/layer_3/self_attention/attention_output/kernel:0' shape=(8, 64, 512) dtype=float32>\n",
            "  <tf.Variable 'transformer/layer_3/self_attention/attention_output/bias:0' shape=(512,) dtype=float32>\n",
            "  <tf.Variable 'transformer/layer_3/self_attention_layer_norm/gamma:0' shape=(512,) dtype=float32>\n",
            "  <tf.Variable 'transformer/layer_3/self_attention_layer_norm/beta:0' shape=(512,) dtype=float32>\n",
            "  <tf.Variable 'transformer/layer_3/intermediate/kernel:0' shape=(512, 2048) dtype=float32>\n",
            "  <tf.Variable 'transformer/layer_3/intermediate/bias:0' shape=(2048,) dtype=float32>\n",
            "  <tf.Variable 'transformer/layer_3/output/kernel:0' shape=(2048, 512) dtype=float32>\n",
            "  <tf.Variable 'transformer/layer_3/output/bias:0' shape=(512,) dtype=float32>\n",
            "  <tf.Variable 'transformer/layer_3/output_layer_norm/gamma:0' shape=(512,) dtype=float32>\n",
            "  <tf.Variable 'transformer/layer_3/output_layer_norm/beta:0' shape=(512,) dtype=float32>\n",
            "  <tf.Variable 'transformer/layer_4/self_attention/query/kernel:0' shape=(512, 8, 64) dtype=float32>\n",
            "  <tf.Variable 'transformer/layer_4/self_attention/query/bias:0' shape=(8, 64) dtype=float32>\n",
            "  <tf.Variable 'transformer/layer_4/self_attention/key/kernel:0' shape=(512, 8, 64) dtype=float32>\n",
            "  <tf.Variable 'transformer/layer_4/self_attention/key/bias:0' shape=(8, 64) dtype=float32>\n",
            "  <tf.Variable 'transformer/layer_4/self_attention/value/kernel:0' shape=(512, 8, 64) dtype=float32>\n",
            "  <tf.Variable 'transformer/layer_4/self_attention/value/bias:0' shape=(8, 64) dtype=float32>\n",
            "  <tf.Variable 'transformer/layer_4/self_attention/attention_output/kernel:0' shape=(8, 64, 512) dtype=float32>\n",
            "  <tf.Variable 'transformer/layer_4/self_attention/attention_output/bias:0' shape=(512,) dtype=float32>\n",
            "  <tf.Variable 'transformer/layer_4/self_attention_layer_norm/gamma:0' shape=(512,) dtype=float32>\n",
            "  <tf.Variable 'transformer/layer_4/self_attention_layer_norm/beta:0' shape=(512,) dtype=float32>\n",
            "  <tf.Variable 'transformer/layer_4/intermediate/kernel:0' shape=(512, 2048) dtype=float32>\n",
            "  <tf.Variable 'transformer/layer_4/intermediate/bias:0' shape=(2048,) dtype=float32>\n",
            "  <tf.Variable 'transformer/layer_4/output/kernel:0' shape=(2048, 512) dtype=float32>\n",
            "  <tf.Variable 'transformer/layer_4/output/bias:0' shape=(512,) dtype=float32>\n",
            "  <tf.Variable 'transformer/layer_4/output_layer_norm/gamma:0' shape=(512,) dtype=float32>\n",
            "  <tf.Variable 'transformer/layer_4/output_layer_norm/beta:0' shape=(512,) dtype=float32>\n",
            "  <tf.Variable 'transformer/layer_5/self_attention/query/kernel:0' shape=(512, 8, 64) dtype=float32>\n",
            "  <tf.Variable 'transformer/layer_5/self_attention/query/bias:0' shape=(8, 64) dtype=float32>\n",
            "  <tf.Variable 'transformer/layer_5/self_attention/key/kernel:0' shape=(512, 8, 64) dtype=float32>\n",
            "  <tf.Variable 'transformer/layer_5/self_attention/key/bias:0' shape=(8, 64) dtype=float32>\n",
            "  <tf.Variable 'transformer/layer_5/self_attention/value/kernel:0' shape=(512, 8, 64) dtype=float32>\n",
            "  <tf.Variable 'transformer/layer_5/self_attention/value/bias:0' shape=(8, 64) dtype=float32>\n",
            "  <tf.Variable 'transformer/layer_5/self_attention/attention_output/kernel:0' shape=(8, 64, 512) dtype=float32>\n",
            "  <tf.Variable 'transformer/layer_5/self_attention/attention_output/bias:0' shape=(512,) dtype=float32>\n",
            "  <tf.Variable 'transformer/layer_5/self_attention_layer_norm/gamma:0' shape=(512,) dtype=float32>\n",
            "  <tf.Variable 'transformer/layer_5/self_attention_layer_norm/beta:0' shape=(512,) dtype=float32>\n",
            "  <tf.Variable 'transformer/layer_5/intermediate/kernel:0' shape=(512, 2048) dtype=float32>\n",
            "  <tf.Variable 'transformer/layer_5/intermediate/bias:0' shape=(2048,) dtype=float32>\n",
            "  <tf.Variable 'transformer/layer_5/output/kernel:0' shape=(2048, 512) dtype=float32>\n",
            "  <tf.Variable 'transformer/layer_5/output/bias:0' shape=(512,) dtype=float32>\n",
            "  <tf.Variable 'transformer/layer_5/output_layer_norm/gamma:0' shape=(512,) dtype=float32>\n",
            "  <tf.Variable 'transformer/layer_5/output_layer_norm/beta:0' shape=(512,) dtype=float32>\n",
            "  <tf.Variable 'transformer/layer_6/self_attention/query/kernel:0' shape=(512, 8, 64) dtype=float32>\n",
            "  <tf.Variable 'transformer/layer_6/self_attention/query/bias:0' shape=(8, 64) dtype=float32>\n",
            "  <tf.Variable 'transformer/layer_6/self_attention/key/kernel:0' shape=(512, 8, 64) dtype=float32>\n",
            "  <tf.Variable 'transformer/layer_6/self_attention/key/bias:0' shape=(8, 64) dtype=float32>\n",
            "  <tf.Variable 'transformer/layer_6/self_attention/value/kernel:0' shape=(512, 8, 64) dtype=float32>\n",
            "  <tf.Variable 'transformer/layer_6/self_attention/value/bias:0' shape=(8, 64) dtype=float32>\n",
            "  <tf.Variable 'transformer/layer_6/self_attention/attention_output/kernel:0' shape=(8, 64, 512) dtype=float32>\n",
            "  <tf.Variable 'transformer/layer_6/self_attention/attention_output/bias:0' shape=(512,) dtype=float32>\n",
            "  <tf.Variable 'transformer/layer_6/self_attention_layer_norm/gamma:0' shape=(512,) dtype=float32>\n",
            "  <tf.Variable 'transformer/layer_6/self_attention_layer_norm/beta:0' shape=(512,) dtype=float32>\n",
            "  <tf.Variable 'transformer/layer_6/intermediate/kernel:0' shape=(512, 2048) dtype=float32>\n",
            "  <tf.Variable 'transformer/layer_6/intermediate/bias:0' shape=(2048,) dtype=float32>\n",
            "  <tf.Variable 'transformer/layer_6/output/kernel:0' shape=(2048, 512) dtype=float32>\n",
            "  <tf.Variable 'transformer/layer_6/output/bias:0' shape=(512,) dtype=float32>\n",
            "  <tf.Variable 'transformer/layer_6/output_layer_norm/gamma:0' shape=(512,) dtype=float32>\n",
            "  <tf.Variable 'transformer/layer_6/output_layer_norm/beta:0' shape=(512,) dtype=float32>\n",
            "  <tf.Variable 'transformer/layer_7/self_attention/query/kernel:0' shape=(512, 8, 64) dtype=float32>\n",
            "  <tf.Variable 'transformer/layer_7/self_attention/query/bias:0' shape=(8, 64) dtype=float32>\n",
            "  <tf.Variable 'transformer/layer_7/self_attention/key/kernel:0' shape=(512, 8, 64) dtype=float32>\n",
            "  <tf.Variable 'transformer/layer_7/self_attention/key/bias:0' shape=(8, 64) dtype=float32>\n",
            "  <tf.Variable 'transformer/layer_7/self_attention/value/kernel:0' shape=(512, 8, 64) dtype=float32>\n",
            "  <tf.Variable 'transformer/layer_7/self_attention/value/bias:0' shape=(8, 64) dtype=float32>\n",
            "  <tf.Variable 'transformer/layer_7/self_attention/attention_output/kernel:0' shape=(8, 64, 512) dtype=float32>\n",
            "  <tf.Variable 'transformer/layer_7/self_attention/attention_output/bias:0' shape=(512,) dtype=float32>\n",
            "  <tf.Variable 'transformer/layer_7/self_attention_layer_norm/gamma:0' shape=(512,) dtype=float32>\n",
            "  <tf.Variable 'transformer/layer_7/self_attention_layer_norm/beta:0' shape=(512,) dtype=float32>\n",
            "  <tf.Variable 'transformer/layer_7/intermediate/kernel:0' shape=(512, 2048) dtype=float32>\n",
            "  <tf.Variable 'transformer/layer_7/intermediate/bias:0' shape=(2048,) dtype=float32>\n",
            "  <tf.Variable 'transformer/layer_7/output/kernel:0' shape=(2048, 512) dtype=float32>\n",
            "  <tf.Variable 'transformer/layer_7/output/bias:0' shape=(512,) dtype=float32>\n",
            "  <tf.Variable 'transformer/layer_7/output_layer_norm/gamma:0' shape=(512,) dtype=float32>\n",
            "  <tf.Variable 'transformer/layer_7/output_layer_norm/beta:0' shape=(512,) dtype=float32>\n",
            "  <tf.Variable 'pooler_transform/kernel:0' shape=(512, 512) dtype=float32>\n",
            "  <tf.Variable 'pooler_transform/bias:0' shape=(512,) dtype=float32>\n",
            "It is possible that this is intended behavior, but it is more likely\n",
            "an omission. This is a strong indication that this layer should be\n",
            "formulated as a subclassed Layer rather than a Lambda layer.\n"
          ],
          "name": "stdout"
        },
        {
          "output_type": "stream",
          "text": [
            "WARNING:tensorflow:\n",
            "The following Variables were used a Lambda layer's call (lambda), but\n",
            "are not present in its tracked objects:\n",
            "  <tf.Variable 'word_embeddings/embeddings:0' shape=(30522, 512) dtype=float32>\n",
            "  <tf.Variable 'position_embedding/embeddings:0' shape=(512, 512) dtype=float32>\n",
            "  <tf.Variable 'type_embeddings/embeddings:0' shape=(2, 512) dtype=float32>\n",
            "  <tf.Variable 'embeddings/layer_norm/gamma:0' shape=(512,) dtype=float32>\n",
            "  <tf.Variable 'embeddings/layer_norm/beta:0' shape=(512,) dtype=float32>\n",
            "  <tf.Variable 'transformer/layer_0/self_attention/query/kernel:0' shape=(512, 8, 64) dtype=float32>\n",
            "  <tf.Variable 'transformer/layer_0/self_attention/query/bias:0' shape=(8, 64) dtype=float32>\n",
            "  <tf.Variable 'transformer/layer_0/self_attention/key/kernel:0' shape=(512, 8, 64) dtype=float32>\n",
            "  <tf.Variable 'transformer/layer_0/self_attention/key/bias:0' shape=(8, 64) dtype=float32>\n",
            "  <tf.Variable 'transformer/layer_0/self_attention/value/kernel:0' shape=(512, 8, 64) dtype=float32>\n",
            "  <tf.Variable 'transformer/layer_0/self_attention/value/bias:0' shape=(8, 64) dtype=float32>\n",
            "  <tf.Variable 'transformer/layer_0/self_attention/attention_output/kernel:0' shape=(8, 64, 512) dtype=float32>\n",
            "  <tf.Variable 'transformer/layer_0/self_attention/attention_output/bias:0' shape=(512,) dtype=float32>\n",
            "  <tf.Variable 'transformer/layer_0/self_attention_layer_norm/gamma:0' shape=(512,) dtype=float32>\n",
            "  <tf.Variable 'transformer/layer_0/self_attention_layer_norm/beta:0' shape=(512,) dtype=float32>\n",
            "  <tf.Variable 'transformer/layer_0/intermediate/kernel:0' shape=(512, 2048) dtype=float32>\n",
            "  <tf.Variable 'transformer/layer_0/intermediate/bias:0' shape=(2048,) dtype=float32>\n",
            "  <tf.Variable 'transformer/layer_0/output/kernel:0' shape=(2048, 512) dtype=float32>\n",
            "  <tf.Variable 'transformer/layer_0/output/bias:0' shape=(512,) dtype=float32>\n",
            "  <tf.Variable 'transformer/layer_0/output_layer_norm/gamma:0' shape=(512,) dtype=float32>\n",
            "  <tf.Variable 'transformer/layer_0/output_layer_norm/beta:0' shape=(512,) dtype=float32>\n",
            "  <tf.Variable 'transformer/layer_1/self_attention/query/kernel:0' shape=(512, 8, 64) dtype=float32>\n",
            "  <tf.Variable 'transformer/layer_1/self_attention/query/bias:0' shape=(8, 64) dtype=float32>\n",
            "  <tf.Variable 'transformer/layer_1/self_attention/key/kernel:0' shape=(512, 8, 64) dtype=float32>\n",
            "  <tf.Variable 'transformer/layer_1/self_attention/key/bias:0' shape=(8, 64) dtype=float32>\n",
            "  <tf.Variable 'transformer/layer_1/self_attention/value/kernel:0' shape=(512, 8, 64) dtype=float32>\n",
            "  <tf.Variable 'transformer/layer_1/self_attention/value/bias:0' shape=(8, 64) dtype=float32>\n",
            "  <tf.Variable 'transformer/layer_1/self_attention/attention_output/kernel:0' shape=(8, 64, 512) dtype=float32>\n",
            "  <tf.Variable 'transformer/layer_1/self_attention/attention_output/bias:0' shape=(512,) dtype=float32>\n",
            "  <tf.Variable 'transformer/layer_1/self_attention_layer_norm/gamma:0' shape=(512,) dtype=float32>\n",
            "  <tf.Variable 'transformer/layer_1/self_attention_layer_norm/beta:0' shape=(512,) dtype=float32>\n",
            "  <tf.Variable 'transformer/layer_1/intermediate/kernel:0' shape=(512, 2048) dtype=float32>\n",
            "  <tf.Variable 'transformer/layer_1/intermediate/bias:0' shape=(2048,) dtype=float32>\n",
            "  <tf.Variable 'transformer/layer_1/output/kernel:0' shape=(2048, 512) dtype=float32>\n",
            "  <tf.Variable 'transformer/layer_1/output/bias:0' shape=(512,) dtype=float32>\n",
            "  <tf.Variable 'transformer/layer_1/output_layer_norm/gamma:0' shape=(512,) dtype=float32>\n",
            "  <tf.Variable 'transformer/layer_1/output_layer_norm/beta:0' shape=(512,) dtype=float32>\n",
            "  <tf.Variable 'transformer/layer_2/self_attention/query/kernel:0' shape=(512, 8, 64) dtype=float32>\n",
            "  <tf.Variable 'transformer/layer_2/self_attention/query/bias:0' shape=(8, 64) dtype=float32>\n",
            "  <tf.Variable 'transformer/layer_2/self_attention/key/kernel:0' shape=(512, 8, 64) dtype=float32>\n",
            "  <tf.Variable 'transformer/layer_2/self_attention/key/bias:0' shape=(8, 64) dtype=float32>\n",
            "  <tf.Variable 'transformer/layer_2/self_attention/value/kernel:0' shape=(512, 8, 64) dtype=float32>\n",
            "  <tf.Variable 'transformer/layer_2/self_attention/value/bias:0' shape=(8, 64) dtype=float32>\n",
            "  <tf.Variable 'transformer/layer_2/self_attention/attention_output/kernel:0' shape=(8, 64, 512) dtype=float32>\n",
            "  <tf.Variable 'transformer/layer_2/self_attention/attention_output/bias:0' shape=(512,) dtype=float32>\n",
            "  <tf.Variable 'transformer/layer_2/self_attention_layer_norm/gamma:0' shape=(512,) dtype=float32>\n",
            "  <tf.Variable 'transformer/layer_2/self_attention_layer_norm/beta:0' shape=(512,) dtype=float32>\n",
            "  <tf.Variable 'transformer/layer_2/intermediate/kernel:0' shape=(512, 2048) dtype=float32>\n",
            "  <tf.Variable 'transformer/layer_2/intermediate/bias:0' shape=(2048,) dtype=float32>\n",
            "  <tf.Variable 'transformer/layer_2/output/kernel:0' shape=(2048, 512) dtype=float32>\n",
            "  <tf.Variable 'transformer/layer_2/output/bias:0' shape=(512,) dtype=float32>\n",
            "  <tf.Variable 'transformer/layer_2/output_layer_norm/gamma:0' shape=(512,) dtype=float32>\n",
            "  <tf.Variable 'transformer/layer_2/output_layer_norm/beta:0' shape=(512,) dtype=float32>\n",
            "  <tf.Variable 'transformer/layer_3/self_attention/query/kernel:0' shape=(512, 8, 64) dtype=float32>\n",
            "  <tf.Variable 'transformer/layer_3/self_attention/query/bias:0' shape=(8, 64) dtype=float32>\n",
            "  <tf.Variable 'transformer/layer_3/self_attention/key/kernel:0' shape=(512, 8, 64) dtype=float32>\n",
            "  <tf.Variable 'transformer/layer_3/self_attention/key/bias:0' shape=(8, 64) dtype=float32>\n",
            "  <tf.Variable 'transformer/layer_3/self_attention/value/kernel:0' shape=(512, 8, 64) dtype=float32>\n",
            "  <tf.Variable 'transformer/layer_3/self_attention/value/bias:0' shape=(8, 64) dtype=float32>\n",
            "  <tf.Variable 'transformer/layer_3/self_attention/attention_output/kernel:0' shape=(8, 64, 512) dtype=float32>\n",
            "  <tf.Variable 'transformer/layer_3/self_attention/attention_output/bias:0' shape=(512,) dtype=float32>\n",
            "  <tf.Variable 'transformer/layer_3/self_attention_layer_norm/gamma:0' shape=(512,) dtype=float32>\n",
            "  <tf.Variable 'transformer/layer_3/self_attention_layer_norm/beta:0' shape=(512,) dtype=float32>\n",
            "  <tf.Variable 'transformer/layer_3/intermediate/kernel:0' shape=(512, 2048) dtype=float32>\n",
            "  <tf.Variable 'transformer/layer_3/intermediate/bias:0' shape=(2048,) dtype=float32>\n",
            "  <tf.Variable 'transformer/layer_3/output/kernel:0' shape=(2048, 512) dtype=float32>\n",
            "  <tf.Variable 'transformer/layer_3/output/bias:0' shape=(512,) dtype=float32>\n",
            "  <tf.Variable 'transformer/layer_3/output_layer_norm/gamma:0' shape=(512,) dtype=float32>\n",
            "  <tf.Variable 'transformer/layer_3/output_layer_norm/beta:0' shape=(512,) dtype=float32>\n",
            "  <tf.Variable 'transformer/layer_4/self_attention/query/kernel:0' shape=(512, 8, 64) dtype=float32>\n",
            "  <tf.Variable 'transformer/layer_4/self_attention/query/bias:0' shape=(8, 64) dtype=float32>\n",
            "  <tf.Variable 'transformer/layer_4/self_attention/key/kernel:0' shape=(512, 8, 64) dtype=float32>\n",
            "  <tf.Variable 'transformer/layer_4/self_attention/key/bias:0' shape=(8, 64) dtype=float32>\n",
            "  <tf.Variable 'transformer/layer_4/self_attention/value/kernel:0' shape=(512, 8, 64) dtype=float32>\n",
            "  <tf.Variable 'transformer/layer_4/self_attention/value/bias:0' shape=(8, 64) dtype=float32>\n",
            "  <tf.Variable 'transformer/layer_4/self_attention/attention_output/kernel:0' shape=(8, 64, 512) dtype=float32>\n",
            "  <tf.Variable 'transformer/layer_4/self_attention/attention_output/bias:0' shape=(512,) dtype=float32>\n",
            "  <tf.Variable 'transformer/layer_4/self_attention_layer_norm/gamma:0' shape=(512,) dtype=float32>\n",
            "  <tf.Variable 'transformer/layer_4/self_attention_layer_norm/beta:0' shape=(512,) dtype=float32>\n",
            "  <tf.Variable 'transformer/layer_4/intermediate/kernel:0' shape=(512, 2048) dtype=float32>\n",
            "  <tf.Variable 'transformer/layer_4/intermediate/bias:0' shape=(2048,) dtype=float32>\n",
            "  <tf.Variable 'transformer/layer_4/output/kernel:0' shape=(2048, 512) dtype=float32>\n",
            "  <tf.Variable 'transformer/layer_4/output/bias:0' shape=(512,) dtype=float32>\n",
            "  <tf.Variable 'transformer/layer_4/output_layer_norm/gamma:0' shape=(512,) dtype=float32>\n",
            "  <tf.Variable 'transformer/layer_4/output_layer_norm/beta:0' shape=(512,) dtype=float32>\n",
            "  <tf.Variable 'transformer/layer_5/self_attention/query/kernel:0' shape=(512, 8, 64) dtype=float32>\n",
            "  <tf.Variable 'transformer/layer_5/self_attention/query/bias:0' shape=(8, 64) dtype=float32>\n",
            "  <tf.Variable 'transformer/layer_5/self_attention/key/kernel:0' shape=(512, 8, 64) dtype=float32>\n",
            "  <tf.Variable 'transformer/layer_5/self_attention/key/bias:0' shape=(8, 64) dtype=float32>\n",
            "  <tf.Variable 'transformer/layer_5/self_attention/value/kernel:0' shape=(512, 8, 64) dtype=float32>\n",
            "  <tf.Variable 'transformer/layer_5/self_attention/value/bias:0' shape=(8, 64) dtype=float32>\n",
            "  <tf.Variable 'transformer/layer_5/self_attention/attention_output/kernel:0' shape=(8, 64, 512) dtype=float32>\n",
            "  <tf.Variable 'transformer/layer_5/self_attention/attention_output/bias:0' shape=(512,) dtype=float32>\n",
            "  <tf.Variable 'transformer/layer_5/self_attention_layer_norm/gamma:0' shape=(512,) dtype=float32>\n",
            "  <tf.Variable 'transformer/layer_5/self_attention_layer_norm/beta:0' shape=(512,) dtype=float32>\n",
            "  <tf.Variable 'transformer/layer_5/intermediate/kernel:0' shape=(512, 2048) dtype=float32>\n",
            "  <tf.Variable 'transformer/layer_5/intermediate/bias:0' shape=(2048,) dtype=float32>\n",
            "  <tf.Variable 'transformer/layer_5/output/kernel:0' shape=(2048, 512) dtype=float32>\n",
            "  <tf.Variable 'transformer/layer_5/output/bias:0' shape=(512,) dtype=float32>\n",
            "  <tf.Variable 'transformer/layer_5/output_layer_norm/gamma:0' shape=(512,) dtype=float32>\n",
            "  <tf.Variable 'transformer/layer_5/output_layer_norm/beta:0' shape=(512,) dtype=float32>\n",
            "  <tf.Variable 'transformer/layer_6/self_attention/query/kernel:0' shape=(512, 8, 64) dtype=float32>\n",
            "  <tf.Variable 'transformer/layer_6/self_attention/query/bias:0' shape=(8, 64) dtype=float32>\n",
            "  <tf.Variable 'transformer/layer_6/self_attention/key/kernel:0' shape=(512, 8, 64) dtype=float32>\n",
            "  <tf.Variable 'transformer/layer_6/self_attention/key/bias:0' shape=(8, 64) dtype=float32>\n",
            "  <tf.Variable 'transformer/layer_6/self_attention/value/kernel:0' shape=(512, 8, 64) dtype=float32>\n",
            "  <tf.Variable 'transformer/layer_6/self_attention/value/bias:0' shape=(8, 64) dtype=float32>\n",
            "  <tf.Variable 'transformer/layer_6/self_attention/attention_output/kernel:0' shape=(8, 64, 512) dtype=float32>\n",
            "  <tf.Variable 'transformer/layer_6/self_attention/attention_output/bias:0' shape=(512,) dtype=float32>\n",
            "  <tf.Variable 'transformer/layer_6/self_attention_layer_norm/gamma:0' shape=(512,) dtype=float32>\n",
            "  <tf.Variable 'transformer/layer_6/self_attention_layer_norm/beta:0' shape=(512,) dtype=float32>\n",
            "  <tf.Variable 'transformer/layer_6/intermediate/kernel:0' shape=(512, 2048) dtype=float32>\n",
            "  <tf.Variable 'transformer/layer_6/intermediate/bias:0' shape=(2048,) dtype=float32>\n",
            "  <tf.Variable 'transformer/layer_6/output/kernel:0' shape=(2048, 512) dtype=float32>\n",
            "  <tf.Variable 'transformer/layer_6/output/bias:0' shape=(512,) dtype=float32>\n",
            "  <tf.Variable 'transformer/layer_6/output_layer_norm/gamma:0' shape=(512,) dtype=float32>\n",
            "  <tf.Variable 'transformer/layer_6/output_layer_norm/beta:0' shape=(512,) dtype=float32>\n",
            "  <tf.Variable 'transformer/layer_7/self_attention/query/kernel:0' shape=(512, 8, 64) dtype=float32>\n",
            "  <tf.Variable 'transformer/layer_7/self_attention/query/bias:0' shape=(8, 64) dtype=float32>\n",
            "  <tf.Variable 'transformer/layer_7/self_attention/key/kernel:0' shape=(512, 8, 64) dtype=float32>\n",
            "  <tf.Variable 'transformer/layer_7/self_attention/key/bias:0' shape=(8, 64) dtype=float32>\n",
            "  <tf.Variable 'transformer/layer_7/self_attention/value/kernel:0' shape=(512, 8, 64) dtype=float32>\n",
            "  <tf.Variable 'transformer/layer_7/self_attention/value/bias:0' shape=(8, 64) dtype=float32>\n",
            "  <tf.Variable 'transformer/layer_7/self_attention/attention_output/kernel:0' shape=(8, 64, 512) dtype=float32>\n",
            "  <tf.Variable 'transformer/layer_7/self_attention/attention_output/bias:0' shape=(512,) dtype=float32>\n",
            "  <tf.Variable 'transformer/layer_7/self_attention_layer_norm/gamma:0' shape=(512,) dtype=float32>\n",
            "  <tf.Variable 'transformer/layer_7/self_attention_layer_norm/beta:0' shape=(512,) dtype=float32>\n",
            "  <tf.Variable 'transformer/layer_7/intermediate/kernel:0' shape=(512, 2048) dtype=float32>\n",
            "  <tf.Variable 'transformer/layer_7/intermediate/bias:0' shape=(2048,) dtype=float32>\n",
            "  <tf.Variable 'transformer/layer_7/output/kernel:0' shape=(2048, 512) dtype=float32>\n",
            "  <tf.Variable 'transformer/layer_7/output/bias:0' shape=(512,) dtype=float32>\n",
            "  <tf.Variable 'transformer/layer_7/output_layer_norm/gamma:0' shape=(512,) dtype=float32>\n",
            "  <tf.Variable 'transformer/layer_7/output_layer_norm/beta:0' shape=(512,) dtype=float32>\n",
            "  <tf.Variable 'pooler_transform/kernel:0' shape=(512, 512) dtype=float32>\n",
            "  <tf.Variable 'pooler_transform/bias:0' shape=(512,) dtype=float32>\n",
            "It is possible that this is intended behavior, but it is more likely\n",
            "an omission. This is a strong indication that this layer should be\n",
            "formulated as a subclassed Layer rather than a Lambda layer.\n"
          ],
          "name": "stderr"
        }
      ]
    },
    {
      "cell_type": "code",
      "metadata": {
        "colab": {
          "base_uri": "https://localhost:8080/"
        },
        "id": "cMW_aQhXFpKf",
        "outputId": "d616b67d-5e2f-4012-89ba-8895eb675848"
      },
      "source": [
        "model.summary()"
      ],
      "execution_count": null,
      "outputs": [
        {
          "output_type": "stream",
          "text": [
            "Model: \"model_2\"\n",
            "_________________________________________________________________\n",
            "Layer (type)                 Output Shape              Param #   \n",
            "=================================================================\n",
            "input_2 (InputLayer)         [(None, 1)]               0         \n",
            "_________________________________________________________________\n",
            "lambda (Lambda)              (None, 512)               0         \n",
            "_________________________________________________________________\n",
            "dense (Dense)                (None, 256)               131328    \n",
            "_________________________________________________________________\n",
            "dense_1 (Dense)              (None, 5)                 1285      \n",
            "=================================================================\n",
            "Total params: 132,613\n",
            "Trainable params: 132,613\n",
            "Non-trainable params: 0\n",
            "_________________________________________________________________\n"
          ],
          "name": "stdout"
        }
      ]
    },
    {
      "cell_type": "markdown",
      "metadata": {
        "id": "EZ3RaH0pIZ1T"
      },
      "source": [
        "## Data Preparation"
      ]
    },
    {
      "cell_type": "code",
      "metadata": {
        "id": "JDTIYU99IZHu"
      },
      "source": [
        "!wget -q https://www.dropbox.com/s/p3tpkhk53ypb2cn/final_data.zip"
      ],
      "execution_count": null,
      "outputs": []
    },
    {
      "cell_type": "code",
      "metadata": {
        "colab": {
          "base_uri": "https://localhost:8080/"
        },
        "id": "ZrGxptkIQ8Ww",
        "outputId": "e9ea4fd7-75d7-451d-ec91-77b38fcf46fe"
      },
      "source": [
        "!unzip final_data.zip > /dev/null; echo \" done.\""
      ],
      "execution_count": null,
      "outputs": [
        {
          "output_type": "stream",
          "text": [
            " done.\n"
          ],
          "name": "stdout"
        }
      ]
    },
    {
      "cell_type": "code",
      "metadata": {
        "id": "TLzL-QhmIiIE"
      },
      "source": [
        "import numpy as np\n",
        "import pandas as pd\n",
        "import os"
      ],
      "execution_count": null,
      "outputs": []
    },
    {
      "cell_type": "code",
      "metadata": {
        "colab": {
          "base_uri": "https://localhost:8080/"
        },
        "id": "ZKECThj_ItGV",
        "outputId": "4ed3cb85-f809-4a6e-b2a8-e673c5788454"
      },
      "source": [
        "mainfolder = \"/content/final_data/textdata/\"\n",
        "cnames = sorted(os.listdir(mainfolder))\n",
        "cnames"
      ],
      "execution_count": null,
      "outputs": [
        {
          "output_type": "execute_result",
          "data": {
            "text/plain": [
              "['budget', 'form', 'handwritten', 'invoice', 'resume']"
            ]
          },
          "metadata": {
            "tags": []
          },
          "execution_count": 4
        }
      ]
    },
    {
      "cell_type": "code",
      "metadata": {
        "id": "OeJgwkDjJbjW"
      },
      "source": [
        "x = []\n",
        "y = []\n",
        "for folder in cnames:\n",
        "  files = os.listdir(mainfolder+folder)\n",
        "  for file in files:\n",
        "    path = mainfolder + folder + \"/\" + file\n",
        "    with open(path,'r',encoding='cp1252') as file:\n",
        "      x.append(file.read())\n",
        "    y.append(cnames.index(folder))"
      ],
      "execution_count": null,
      "outputs": []
    },
    {
      "cell_type": "code",
      "metadata": {
        "colab": {
          "base_uri": "https://localhost:8080/"
        },
        "id": "PHbc7qEdKMNw",
        "outputId": "984e9ba1-1b83-4b9c-ea7f-06ec93a2b43b"
      },
      "source": [
        "len(x),len(y)"
      ],
      "execution_count": null,
      "outputs": [
        {
          "output_type": "execute_result",
          "data": {
            "text/plain": [
              "(4628, 4628)"
            ]
          },
          "metadata": {
            "tags": []
          },
          "execution_count": 9
        }
      ]
    },
    {
      "cell_type": "code",
      "metadata": {
        "colab": {
          "base_uri": "https://localhost:8080/"
        },
        "id": "nML1SqCSKT-v",
        "outputId": "fae041d4-fafb-46af-98f7-bcfe5f9c3af3"
      },
      "source": [
        "x = np.array(x).reshape(-1,1)\n",
        "from tensorflow.keras.utils import to_categorical\n",
        "y = to_categorical(y)\n",
        "print(x.shape,y.shape)"
      ],
      "execution_count": null,
      "outputs": [
        {
          "output_type": "stream",
          "text": [
            "(4628, 1) (4628, 5)\n"
          ],
          "name": "stdout"
        }
      ]
    },
    {
      "cell_type": "code",
      "metadata": {
        "colab": {
          "base_uri": "https://localhost:8080/"
        },
        "id": "G-thEBuTK9b9",
        "outputId": "5a229aff-9fc5-46b8-f93d-f8ed15fe8b79"
      },
      "source": [
        "model.fit(x,y,epochs=4,batch_size=32,validation_split=0.2)"
      ],
      "execution_count": null,
      "outputs": [
        {
          "output_type": "stream",
          "text": [
            "Epoch 1/4\n",
            "116/116 [==============================] - 409s 3s/step - loss: 0.9804 - accuracy: 0.6099 - val_loss: 0.8570 - val_accuracy: 0.6523\n",
            "Epoch 2/4\n",
            "116/116 [==============================] - 392s 3s/step - loss: 0.8034 - accuracy: 0.6910 - val_loss: 0.7641 - val_accuracy: 0.7009\n",
            "Epoch 3/4\n",
            " 86/116 [=====================>........] - ETA: 1:20 - loss: 0.7771 - accuracy: 0.6962"
          ],
          "name": "stdout"
        }
      ]
    },
    {
      "cell_type": "code",
      "metadata": {
        "id": "0wcbb9VYLIYC"
      },
      "source": [
        ""
      ],
      "execution_count": null,
      "outputs": []
    }
  ]
}