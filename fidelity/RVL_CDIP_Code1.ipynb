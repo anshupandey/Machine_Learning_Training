{
 "cells": [
  {
   "cell_type": "code",
   "execution_count": 2,
   "id": "333c58fc",
   "metadata": {},
   "outputs": [],
   "source": [
    "from skimage import io\n",
    "import matplotlib.pyplot as plt\n",
    "import numpy as np\n",
    "import pandas as pd"
   ]
  },
  {
   "cell_type": "code",
   "execution_count": 8,
   "id": "a3caa79f",
   "metadata": {},
   "outputs": [
    {
     "data": {
      "text/plain": [
       "(320000, 2)"
      ]
     },
     "execution_count": 8,
     "metadata": {},
     "output_type": "execute_result"
    }
   ],
   "source": [
    "df = pd.read_csv(r\"C:\\Users\\Nitu\\Desktop\\dataset\\labels\\train.txt\",sep=\" \",header=None)\n",
    "df.columns=[\"iname\",'label']\n",
    "df.shape"
   ]
  },
  {
   "cell_type": "code",
   "execution_count": 9,
   "id": "70937ccb",
   "metadata": {},
   "outputs": [
    {
     "data": {
      "text/html": [
       "<div>\n",
       "<style scoped>\n",
       "    .dataframe tbody tr th:only-of-type {\n",
       "        vertical-align: middle;\n",
       "    }\n",
       "\n",
       "    .dataframe tbody tr th {\n",
       "        vertical-align: top;\n",
       "    }\n",
       "\n",
       "    .dataframe thead th {\n",
       "        text-align: right;\n",
       "    }\n",
       "</style>\n",
       "<table border=\"1\" class=\"dataframe\">\n",
       "  <thead>\n",
       "    <tr style=\"text-align: right;\">\n",
       "      <th></th>\n",
       "      <th>iname</th>\n",
       "      <th>label</th>\n",
       "    </tr>\n",
       "  </thead>\n",
       "  <tbody>\n",
       "    <tr>\n",
       "      <th>0</th>\n",
       "      <td>imagesq/q/o/c/qoc54c00/80035521.tif</td>\n",
       "      <td>15</td>\n",
       "    </tr>\n",
       "    <tr>\n",
       "      <th>1</th>\n",
       "      <td>imagese/e/w/c/ewc23d00/513280028.tif</td>\n",
       "      <td>1</td>\n",
       "    </tr>\n",
       "    <tr>\n",
       "      <th>2</th>\n",
       "      <td>imagesw/w/b/t/wbt26e00/2053453161.tif</td>\n",
       "      <td>7</td>\n",
       "    </tr>\n",
       "    <tr>\n",
       "      <th>3</th>\n",
       "      <td>imagesm/m/k/m/mkm05e00/2040792992_2040792994.tif</td>\n",
       "      <td>10</td>\n",
       "    </tr>\n",
       "    <tr>\n",
       "      <th>4</th>\n",
       "      <td>imageso/o/e/x/oex80d00/522787731+-7732.tif</td>\n",
       "      <td>3</td>\n",
       "    </tr>\n",
       "  </tbody>\n",
       "</table>\n",
       "</div>"
      ],
      "text/plain": [
       "                                              iname  label\n",
       "0               imagesq/q/o/c/qoc54c00/80035521.tif     15\n",
       "1              imagese/e/w/c/ewc23d00/513280028.tif      1\n",
       "2             imagesw/w/b/t/wbt26e00/2053453161.tif      7\n",
       "3  imagesm/m/k/m/mkm05e00/2040792992_2040792994.tif     10\n",
       "4        imageso/o/e/x/oex80d00/522787731+-7732.tif      3"
      ]
     },
     "execution_count": 9,
     "metadata": {},
     "output_type": "execute_result"
    }
   ],
   "source": [
    "df.head()"
   ]
  },
  {
   "cell_type": "code",
   "execution_count": 10,
   "id": "b6c373fe",
   "metadata": {},
   "outputs": [],
   "source": [
    "main_folder = r\"C:\\Users\\Nitu\\Desktop\\dataset\\images\""
   ]
  },
  {
   "cell_type": "code",
   "execution_count": 12,
   "id": "3e24c05b",
   "metadata": {},
   "outputs": [
    {
     "data": {
      "image/png": "[encoded data removed]",
      "text/plain": [
       "<Figure size 432x288 with 1 Axes>"
      ]
     },
     "metadata": {
      "needs_background": "light"
     },
     "output_type": "display_data"
    }
   ],
   "source": [
    "path = main_folder+\"\\\\\"+df.iname[0]\n",
    "img = io.imread(path)\n",
    "plt.imshow(img,cmap='gray')\n",
    "plt.show()"
   ]
  },
  {
   "cell_type": "code",
   "execution_count": 15,
   "id": "5f6c9a8b",
   "metadata": {},
   "outputs": [
    {
     "data": {
      "text/html": [
       "<div>\n",
       "<style scoped>\n",
       "    .dataframe tbody tr th:only-of-type {\n",
       "        vertical-align: middle;\n",
       "    }\n",
       "\n",
       "    .dataframe tbody tr th {\n",
       "        vertical-align: top;\n",
       "    }\n",
       "\n",
       "    .dataframe thead th {\n",
       "        text-align: right;\n",
       "    }\n",
       "</style>\n",
       "<table border=\"1\" class=\"dataframe\">\n",
       "  <thead>\n",
       "    <tr style=\"text-align: right;\">\n",
       "      <th></th>\n",
       "      <th>cat</th>\n",
       "      <th>id</th>\n",
       "    </tr>\n",
       "  </thead>\n",
       "  <tbody>\n",
       "    <tr>\n",
       "      <th>0</th>\n",
       "      <td>0</td>\n",
       "      <td>letter</td>\n",
       "    </tr>\n",
       "    <tr>\n",
       "      <th>1</th>\n",
       "      <td>1</td>\n",
       "      <td>form</td>\n",
       "    </tr>\n",
       "    <tr>\n",
       "      <th>2</th>\n",
       "      <td>2</td>\n",
       "      <td>email</td>\n",
       "    </tr>\n",
       "    <tr>\n",
       "      <th>3</th>\n",
       "      <td>3</td>\n",
       "      <td>handwritten</td>\n",
       "    </tr>\n",
       "    <tr>\n",
       "      <th>4</th>\n",
       "      <td>4</td>\n",
       "      <td>advertisement</td>\n",
       "    </tr>\n",
       "    <tr>\n",
       "      <th>5</th>\n",
       "      <td>5</td>\n",
       "      <td>scientific report</td>\n",
       "    </tr>\n",
       "    <tr>\n",
       "      <th>6</th>\n",
       "      <td>6</td>\n",
       "      <td>scientific publication</td>\n",
       "    </tr>\n",
       "    <tr>\n",
       "      <th>7</th>\n",
       "      <td>7</td>\n",
       "      <td>specification</td>\n",
       "    </tr>\n",
       "    <tr>\n",
       "      <th>8</th>\n",
       "      <td>8</td>\n",
       "      <td>file folder</td>\n",
       "    </tr>\n",
       "    <tr>\n",
       "      <th>9</th>\n",
       "      <td>9</td>\n",
       "      <td>news article</td>\n",
       "    </tr>\n",
       "    <tr>\n",
       "      <th>10</th>\n",
       "      <td>10</td>\n",
       "      <td>budget</td>\n",
       "    </tr>\n",
       "    <tr>\n",
       "      <th>11</th>\n",
       "      <td>11</td>\n",
       "      <td>invoice</td>\n",
       "    </tr>\n",
       "    <tr>\n",
       "      <th>12</th>\n",
       "      <td>12</td>\n",
       "      <td>presentation</td>\n",
       "    </tr>\n",
       "    <tr>\n",
       "      <th>13</th>\n",
       "      <td>13</td>\n",
       "      <td>questionnaire</td>\n",
       "    </tr>\n",
       "    <tr>\n",
       "      <th>14</th>\n",
       "      <td>14</td>\n",
       "      <td>resume</td>\n",
       "    </tr>\n",
       "    <tr>\n",
       "      <th>15</th>\n",
       "      <td>15</td>\n",
       "      <td>memo</td>\n",
       "    </tr>\n",
       "  </tbody>\n",
       "</table>\n",
       "</div>"
      ],
      "text/plain": [
       "    cat                      id\n",
       "0     0                  letter\n",
       "1     1                    form\n",
       "2     2                   email\n",
       "3     3             handwritten\n",
       "4     4           advertisement\n",
       "5     5       scientific report\n",
       "6     6  scientific publication\n",
       "7     7           specification\n",
       "8     8             file folder\n",
       "9     9            news article\n",
       "10   10                  budget\n",
       "11   11                 invoice\n",
       "12   12            presentation\n",
       "13   13           questionnaire\n",
       "14   14                  resume\n",
       "15   15                    memo"
      ]
     },
     "execution_count": 15,
     "metadata": {},
     "output_type": "execute_result"
    }
   ],
   "source": [
    "labs = pd.read_csv(r\"C:\\Users\\Nitu\\Desktop\\dataset\\label_names.txt\",header=None)\n",
    "labs.columns=['cat','id']\n",
    "labs"
   ]
  },
  {
   "cell_type": "code",
   "execution_count": 16,
   "id": "31d1de3e",
   "metadata": {},
   "outputs": [
    {
     "data": {
      "text/plain": [
       "0     20106\n",
       "13    20048\n",
       "12    20043\n",
       "14    20037\n",
       "3     20034\n",
       "8     20022\n",
       "9     20011\n",
       "10    20010\n",
       "7     19997\n",
       "5     19994\n",
       "15    19975\n",
       "4     19963\n",
       "1     19957\n",
       "2     19954\n",
       "11    19947\n",
       "6     19902\n",
       "Name: label, dtype: int64"
      ]
     },
     "execution_count": 16,
     "metadata": {},
     "output_type": "execute_result"
    }
   ],
   "source": [
    "df.label.value_counts()"
   ]
  },
  {
   "cell_type": "code",
   "execution_count": 17,
   "id": "1d21f94f",
   "metadata": {},
   "outputs": [],
   "source": [
    "myclass = [1,3,10,11,14]"
   ]
  },
  {
   "cell_type": "code",
   "execution_count": 18,
   "id": "d0bbe484",
   "metadata": {},
   "outputs": [
    {
     "data": {
      "text/plain": [
       "(320000, 2)"
      ]
     },
     "execution_count": 18,
     "metadata": {},
     "output_type": "execute_result"
    }
   ],
   "source": [
    "df.shape"
   ]
  },
  {
   "cell_type": "code",
   "execution_count": 19,
   "id": "bcbe4af2",
   "metadata": {},
   "outputs": [
    {
     "data": {
      "text/plain": [
       "(99985, 2)"
      ]
     },
     "execution_count": 19,
     "metadata": {},
     "output_type": "execute_result"
    }
   ],
   "source": [
    "newdf = df[df.label.isin(myclass)]\n",
    "newdf.shape"
   ]
  },
  {
   "cell_type": "code",
   "execution_count": 24,
   "id": "79c41d62",
   "metadata": {},
   "outputs": [
    {
     "data": {
      "text/plain": [
       "(9998, 2)"
      ]
     },
     "execution_count": 24,
     "metadata": {},
     "output_type": "execute_result"
    }
   ],
   "source": [
    "newdf2 = newdf.sample(frac=0.10,random_state=5)\n",
    "newdf2.shape"
   ]
  },
  {
   "cell_type": "code",
   "execution_count": 25,
   "id": "eb3e14c6",
   "metadata": {},
   "outputs": [
    {
     "data": {
      "text/plain": [
       "10    2029\n",
       "1     2021\n",
       "3     2002\n",
       "14    1985\n",
       "11    1961\n",
       "Name: label, dtype: int64"
      ]
     },
     "execution_count": 25,
     "metadata": {},
     "output_type": "execute_result"
    }
   ],
   "source": [
    "newdf2.label.value_counts()"
   ]
  },
  {
   "cell_type": "code",
   "execution_count": 29,
   "id": "55c31b29",
   "metadata": {},
   "outputs": [],
   "source": [
    "newdf2.to_csv(r\"C:\\Users\\Nitu\\Desktop\\dataset\\updateddf_5classes.csv\",index=False)"
   ]
  },
  {
   "cell_type": "code",
   "execution_count": null,
   "id": "54af0fa0",
   "metadata": {},
   "outputs": [],
   "source": []
  }
 ],
 "metadata": {
  "kernelspec": {
   "display_name": "Python 3",
   "language": "python",
   "name": "python3"
  },
  "language_info": {
   "codemirror_mode": {
    "name": "ipython",
    "version": 3
   },
   "file_extension": ".py",
   "mimetype": "text/x-python",
   "name": "python",
   "nbconvert_exporter": "python",
   "pygments_lexer": "ipython3",
   "version": "3.8.8"
  }
 },
 "nbformat": 4,
 "nbformat_minor": 5
}
