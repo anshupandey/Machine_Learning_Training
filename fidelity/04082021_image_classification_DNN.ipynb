{
 "cells": [
  {
   "cell_type": "markdown",
   "id": "c141d8a4",
   "metadata": {},
   "source": [
    "# Image Classification with deep neural networks"
   ]
  },
  {
   "cell_type": "code",
   "execution_count": 1,
   "id": "9e00a314",
   "metadata": {},
   "outputs": [],
   "source": [
    "from tensorflow.keras import datasets\n",
    "import numpy as np\n",
    "import pandas as pd\n",
    "import matplotlib.pyplot as plt"
   ]
  },
  {
   "cell_type": "code",
   "execution_count": 3,
   "id": "235f6df1",
   "metadata": {},
   "outputs": [
    {
     "name": "stdout",
     "output_type": "stream",
     "text": [
      "(60000, 28, 28)\n",
      "(60000,)\n",
      "(10000, 28, 28)\n",
      "(10000,)\n"
     ]
    }
   ],
   "source": [
    "(xtrain,ytrain),(xtest,ytest) = datasets.fashion_mnist.load_data()\n",
    "print(xtrain.shape)\n",
    "print(ytrain.shape)\n",
    "print(xtest.shape)\n",
    "print(ytest.shape)"
   ]
  },
  {
   "cell_type": "code",
   "execution_count": 4,
   "id": "c9f3c65d",
   "metadata": {},
   "outputs": [],
   "source": [
    "cnames = [\"T-shirt/top\",\"Trouser\",\"Pullover\",\"Dress\",\"Coat\",\"Sandal\",\"Shirt\",\"Sneaker\",\"Bag\",\"Ankle boot\"]"
   ]
  },
  {
   "cell_type": "code",
   "execution_count": 15,
   "id": "d2924dca",
   "metadata": {},
   "outputs": [
    {
     "name": "stdout",
     "output_type": "stream",
     "text": [
      "9 Ankle boot\n"
     ]
    },
    {
     "data": {
      "image/png": "[encoded data removed]",
      "text/plain": [
       "<Figure size 432x288 with 1 Axes>"
      ]
     },
     "metadata": {
      "needs_background": "light"
     },
     "output_type": "display_data"
    }
   ],
   "source": [
    "ind=50000\n",
    "print(ytrain[ind],cnames[ytrain[ind]])\n",
    "plt.imshow(xtrain[ind],cmap='gray')\n",
    "plt.show()"
   ]
  },
  {
   "cell_type": "markdown",
   "id": "500567c7",
   "metadata": {},
   "source": [
    "### Data processing"
   ]
  },
  {
   "cell_type": "code",
   "execution_count": 16,
   "id": "f617cdfa",
   "metadata": {},
   "outputs": [],
   "source": [
    "# scale the images\n",
    "xtrain = xtrain/255\n",
    "xtest = xtest/255"
   ]
  },
  {
   "cell_type": "code",
   "execution_count": 17,
   "id": "7b5ef551",
   "metadata": {
    "collapsed": true
   },
   "outputs": [
    {
     "name": "stdout",
     "output_type": "stream",
     "text": [
      "(60000,)\n",
      "(10000,)\n",
      "(60000, 10)\n",
      "(10000, 10)\n"
     ]
    }
   ],
   "source": [
    "# onehot encode the labels\n",
    "print(ytrain.shape)\n",
    "print(ytest.shape)\n",
    "from tensorflow.keras.utils import to_categorical\n",
    "ytrain = to_categorical(ytrain)\n",
    "ytest = to_categorical(ytest)\n",
    "print(ytrain.shape)\n",
    "print(ytest.shape)"
   ]
  },
  {
   "cell_type": "markdown",
   "id": "7a3ac0f3",
   "metadata": {},
   "source": [
    "## Modelling the Deep Neural Network"
   ]
  },
  {
   "cell_type": "code",
   "execution_count": 18,
   "id": "c38067f2",
   "metadata": {},
   "outputs": [],
   "source": [
    "from tensorflow.keras import models,layers"
   ]
  },
  {
   "cell_type": "code",
   "execution_count": 21,
   "id": "7f34b52f",
   "metadata": {},
   "outputs": [
    {
     "name": "stdout",
     "output_type": "stream",
     "text": [
      "Model: \"mnist_classifier\"\n",
      "_________________________________________________________________\n",
      "Layer (type)                 Output Shape              Param #   \n",
      "=================================================================\n",
      "input_3 (InputLayer)         [(None, 28, 28)]          0         \n",
      "_________________________________________________________________\n",
      "flatten_2 (Flatten)          (None, 784)               0         \n",
      "_________________________________________________________________\n",
      "dense_8 (Dense)              (None, 200)               157000    \n",
      "_________________________________________________________________\n",
      "dense_9 (Dense)              (None, 100)               20100     \n",
      "_________________________________________________________________\n",
      "dense_10 (Dense)             (None, 50)                5050      \n",
      "_________________________________________________________________\n",
      "dense_11 (Dense)             (None, 10)                510       \n",
      "=================================================================\n",
      "Total params: 182,660\n",
      "Trainable params: 182,660\n",
      "Non-trainable params: 0\n",
      "_________________________________________________________________\n"
     ]
    }
   ],
   "source": [
    "# the input layer\n",
    "input_layer = layers.Input(shape=(28,28))\n",
    "\n",
    "# flatten layer - will convert data from 28x28 to 1x784\n",
    "ft = layers.Flatten()(input_layer)\n",
    "\n",
    "# first hidden layer\n",
    "h1 = layers.Dense(200,activation='relu')(ft)\n",
    "\n",
    "# second hidden layer\n",
    "h2 = layers.Dense(100,activation='relu')(h1)\n",
    "\n",
    "# third hidden layer\n",
    "h3 = layers.Dense(50,activation = 'relu')(h2)\n",
    "\n",
    "# add the output layer\n",
    "op = layers.Dense(10,activation='softmax')(h3)\n",
    "\n",
    "model = models.Model(inputs=input_layer,outputs=op,name='mnist_classifier')\n",
    "model.summary()"
   ]
  },
  {
   "cell_type": "code",
   "execution_count": 30,
   "id": "b3f2c6a7",
   "metadata": {
    "collapsed": true
   },
   "outputs": [
    {
     "name": "stdout",
     "output_type": "stream",
     "text": [
      "Epoch 1/10\n",
      "60/60 [==============================] - 1s 14ms/step - loss: 0.3262 - accuracy: 0.8839 - val_loss: 0.3434 - val_accuracy: 0.8793\n",
      "Epoch 2/10\n",
      "60/60 [==============================] - 1s 10ms/step - loss: 0.2805 - accuracy: 0.8980 - val_loss: 0.3502 - val_accuracy: 0.8782\n",
      "Epoch 3/10\n",
      "60/60 [==============================] - 1s 11ms/step - loss: 0.2707 - accuracy: 0.9010 - val_loss: 0.3471 - val_accuracy: 0.8760\n",
      "Epoch 4/10\n",
      "60/60 [==============================] - 1s 11ms/step - loss: 0.2655 - accuracy: 0.9042 - val_loss: 0.3457 - val_accuracy: 0.8775\n",
      "Epoch 5/10\n",
      "60/60 [==============================] - 1s 11ms/step - loss: 0.2616 - accuracy: 0.9046 - val_loss: 0.3452 - val_accuracy: 0.8765\n",
      "Epoch 6/10\n",
      "60/60 [==============================] - 1s 10ms/step - loss: 0.2476 - accuracy: 0.9100 - val_loss: 0.3356 - val_accuracy: 0.8813\n",
      "Epoch 7/10\n",
      "60/60 [==============================] - 1s 10ms/step - loss: 0.2453 - accuracy: 0.9087 - val_loss: 0.3336 - val_accuracy: 0.8838\n",
      "Epoch 8/10\n",
      "60/60 [==============================] - 1s 14ms/step - loss: 0.2434 - accuracy: 0.9109 - val_loss: 0.3319 - val_accuracy: 0.8833\n",
      "Epoch 9/10\n",
      "60/60 [==============================] - 1s 16ms/step - loss: 0.2350 - accuracy: 0.9137 - val_loss: 0.3359 - val_accuracy: 0.8812\n",
      "Epoch 10/10\n",
      "60/60 [==============================] - 1s 14ms/step - loss: 0.2268 - accuracy: 0.9150 - val_loss: 0.3559 - val_accuracy: 0.8754\n"
     ]
    },
    {
     "data": {
      "text/plain": [
       "<tensorflow.python.keras.callbacks.History at 0x1a6865bbbe0>"
      ]
     },
     "execution_count": 30,
     "metadata": {},
     "output_type": "execute_result"
    }
   ],
   "source": [
    "model.compile(loss='categorical_crossentropy',optimizer='adam',metrics=['accuracy'])\n",
    "model.fit(xtrain,ytrain,epochs=10,batch_size=1000,validation_data=(xtest,ytest))"
   ]
  },
  {
   "cell_type": "code",
   "execution_count": 31,
   "id": "e5a16003",
   "metadata": {
    "collapsed": true
   },
   "outputs": [
    {
     "data": {
      "image/png": "[encoded data removed]",
      "text/plain": [
       "<Figure size 432x288 with 1 Axes>"
      ]
     },
     "metadata": {
      "needs_background": "light"
     },
     "output_type": "display_data"
    }
   ],
   "source": [
    "plt.imshow(xtest[10],cmap='gray')\n",
    "plt.show()"
   ]
  },
  {
   "cell_type": "code",
   "execution_count": 32,
   "id": "54385a5c",
   "metadata": {},
   "outputs": [
    {
     "data": {
      "text/plain": [
       "array([[5.4641368e-06, 1.1279950e-06, 1.4572138e-02, 5.7102789e-06,\n",
       "        9.8077184e-01, 6.5107102e-08, 4.6311151e-03, 9.7646407e-08,\n",
       "        9.0476951e-06, 3.3634178e-06]], dtype=float32)"
      ]
     },
     "execution_count": 32,
     "metadata": {},
     "output_type": "execute_result"
    }
   ],
   "source": [
    "pred = model.predict(xtest[10].reshape(1,28,28))\n",
    "pred"
   ]
  },
  {
   "cell_type": "code",
   "execution_count": 29,
   "id": "5a3defd3",
   "metadata": {},
   "outputs": [
    {
     "data": {
      "text/plain": [
       "'Coat'"
      ]
     },
     "execution_count": 29,
     "metadata": {},
     "output_type": "execute_result"
    }
   ],
   "source": [
    "pred = np.argmax(pred)\n",
    "cnames[pred]"
   ]
  },
  {
   "cell_type": "code",
   "execution_count": null,
   "id": "f216cb90",
   "metadata": {},
   "outputs": [],
   "source": []
  }
 ],
 "metadata": {
  "kernelspec": {
   "display_name": "Python 3",
   "language": "python",
   "name": "python3"
  },
  "language_info": {
   "codemirror_mode": {
    "name": "ipython",
    "version": 3
   },
   "file_extension": ".py",
   "mimetype": "text/x-python",
   "name": "python",
   "nbconvert_exporter": "python",
   "pygments_lexer": "ipython3",
   "version": "3.8.8"
  }
 },
 "nbformat": 4,
 "nbformat_minor": 5
}
