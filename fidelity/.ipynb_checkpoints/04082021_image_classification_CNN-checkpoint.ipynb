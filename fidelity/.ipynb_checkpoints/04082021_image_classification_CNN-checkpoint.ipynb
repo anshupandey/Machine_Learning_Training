{
 "cells": [
  {
   "cell_type": "markdown",
   "id": "c141d8a4",
   "metadata": {},
   "source": [
    "# Image Classification with Convolutional neural networks"
   ]
  },
  {
   "cell_type": "code",
   "execution_count": 1,
   "id": "9e00a314",
   "metadata": {},
   "outputs": [],
   "source": [
    "from tensorflow.keras import datasets\n",
    "import numpy as np\n",
    "import pandas as pd\n",
    "import matplotlib.pyplot as plt"
   ]
  },
  {
   "cell_type": "code",
   "execution_count": 2,
   "id": "235f6df1",
   "metadata": {},
   "outputs": [
    {
     "name": "stdout",
     "output_type": "stream",
     "text": [
      "(60000, 28, 28)\n",
      "(60000,)\n",
      "(10000, 28, 28)\n",
      "(10000,)\n"
     ]
    }
   ],
   "source": [
    "(xtrain,ytrain),(xtest,ytest) = datasets.fashion_mnist.load_data()\n",
    "print(xtrain.shape)\n",
    "print(ytrain.shape)\n",
    "print(xtest.shape)\n",
    "print(ytest.shape)"
   ]
  },
  {
   "cell_type": "code",
   "execution_count": 3,
   "id": "c9f3c65d",
   "metadata": {},
   "outputs": [],
   "source": [
    "cnames = [\"T-shirt/top\",\"Trouser\",\"Pullover\",\"Dress\",\"Coat\",\"Sandal\",\"Shirt\",\"Sneaker\",\"Bag\",\"Ankle boot\"]"
   ]
  },
  {
   "cell_type": "code",
   "execution_count": 4,
   "id": "d2924dca",
   "metadata": {},
   "outputs": [
    {
     "name": "stdout",
     "output_type": "stream",
     "text": [
      "9 Ankle boot\n"
     ]
    },
    {
     "data": {
      "image/png": "[encoded data removed]",
      "text/plain": [
       "<Figure size 432x288 with 1 Axes>"
      ]
     },
     "metadata": {
      "needs_background": "light"
     },
     "output_type": "display_data"
    }
   ],
   "source": [
    "ind=50000\n",
    "print(ytrain[ind],cnames[ytrain[ind]])\n",
    "plt.imshow(xtrain[ind],cmap='gray')\n",
    "plt.show()"
   ]
  },
  {
   "cell_type": "markdown",
   "id": "500567c7",
   "metadata": {},
   "source": [
    "### Data processing"
   ]
  },
  {
   "cell_type": "code",
   "execution_count": 5,
   "id": "f617cdfa",
   "metadata": {},
   "outputs": [],
   "source": [
    "# scale the images\n",
    "xtrain = xtrain/255\n",
    "xtest = xtest/255"
   ]
  },
  {
   "cell_type": "code",
   "execution_count": 6,
   "id": "7b5ef551",
   "metadata": {},
   "outputs": [
    {
     "name": "stdout",
     "output_type": "stream",
     "text": [
      "(60000,)\n",
      "(10000,)\n",
      "(60000, 10)\n",
      "(10000, 10)\n"
     ]
    }
   ],
   "source": [
    "# onehot encode the labels\n",
    "print(ytrain.shape)\n",
    "print(ytest.shape)\n",
    "from tensorflow.keras.utils import to_categorical\n",
    "ytrain = to_categorical(ytrain)\n",
    "ytest = to_categorical(ytest)\n",
    "print(ytrain.shape)\n",
    "print(ytest.shape)"
   ]
  },
  {
   "cell_type": "code",
   "execution_count": 7,
   "id": "fdfbc704",
   "metadata": {},
   "outputs": [
    {
     "name": "stdout",
     "output_type": "stream",
     "text": [
      "(60000, 28, 28)\n",
      "(10000, 28, 28)\n"
     ]
    }
   ],
   "source": [
    "print(xtrain.shape)\n",
    "print(xtest.shape)"
   ]
  },
  {
   "cell_type": "code",
   "execution_count": 8,
   "id": "afcfeb2d",
   "metadata": {},
   "outputs": [],
   "source": [
    "# samples, rows, cols, channel\n",
    "xtrain = xtrain.reshape(60000,28,28,1)\n",
    "xtest = xtest.reshape(10000,28,28,1)"
   ]
  },
  {
   "cell_type": "code",
   "execution_count": 9,
   "id": "b2c0bab8",
   "metadata": {},
   "outputs": [
    {
     "name": "stdout",
     "output_type": "stream",
     "text": [
      "(60000, 28, 28, 1)\n",
      "(10000, 28, 28, 1)\n"
     ]
    }
   ],
   "source": [
    "print(xtrain.shape)\n",
    "print(xtest.shape)"
   ]
  },
  {
   "cell_type": "markdown",
   "id": "ef1ad038",
   "metadata": {},
   "source": [
    "## Modelling the CNN"
   ]
  },
  {
   "cell_type": "markdown",
   "id": "7e4142e0",
   "metadata": {},
   "source": [
    "<img src=\"https://miro.medium.com/max/2000/1*1TI1aGBZ4dybR6__DI9dzA.png\">"
   ]
  },
  {
   "cell_type": "code",
   "execution_count": 10,
   "id": "0383b612",
   "metadata": {},
   "outputs": [],
   "source": [
    "from tensorflow.keras import models,layers"
   ]
  },
  {
   "cell_type": "code",
   "execution_count": 21,
   "id": "e7634756",
   "metadata": {},
   "outputs": [
    {
     "name": "stdout",
     "output_type": "stream",
     "text": [
      "Model: \"functional_5\"\n",
      "_________________________________________________________________\n",
      "Layer (type)                 Output Shape              Param #   \n",
      "=================================================================\n",
      "input_4 (InputLayer)         [(None, 28, 28, 1)]       0         \n",
      "_________________________________________________________________\n",
      "conv2d_5 (Conv2D)            (None, 26, 26, 15)        150       \n",
      "_________________________________________________________________\n",
      "conv2d_6 (Conv2D)            (None, 24, 24, 25)        3400      \n",
      "_________________________________________________________________\n",
      "max_pooling2d_4 (MaxPooling2 (None, 12, 12, 25)        0         \n",
      "_________________________________________________________________\n",
      "conv2d_7 (Conv2D)            (None, 10, 10, 30)        6780      \n",
      "_________________________________________________________________\n",
      "conv2d_8 (Conv2D)            (None, 8, 8, 40)          10840     \n",
      "_________________________________________________________________\n",
      "max_pooling2d_5 (MaxPooling2 (None, 4, 4, 40)          0         \n",
      "_________________________________________________________________\n",
      "flatten_2 (Flatten)          (None, 640)               0         \n",
      "_________________________________________________________________\n",
      "dense_6 (Dense)              (None, 120)               76920     \n",
      "_________________________________________________________________\n",
      "dense_7 (Dense)              (None, 84)                10164     \n",
      "_________________________________________________________________\n",
      "dense_8 (Dense)              (None, 10)                850       \n",
      "=================================================================\n",
      "Total params: 109,104\n",
      "Trainable params: 109,104\n",
      "Non-trainable params: 0\n",
      "_________________________________________________________________\n"
     ]
    }
   ],
   "source": [
    "# add the input layer\n",
    "ip = layers.Input(shape=(28,28,1))\n",
    "\n",
    "# first conv layer\n",
    "conv1 = layers.Conv2D(filters=15,kernel_size=(3,3),activation='relu')(ip)\n",
    "conv2 = layers.Conv2D(filters=25,kernel_size=(3,3),activation='relu')(conv1)\n",
    "\n",
    "# add the maxpooling layer\n",
    "mp1 = layers.MaxPooling2D()(conv2)\n",
    "\n",
    "# add the conv layer\n",
    "conv3 = layers.Conv2D(filters=30,kernel_size=(3,3),activation='relu')(mp1)\n",
    "conv4 = layers.Conv2D(filters=40,kernel_size=(3,3),activation='relu')(conv3)\n",
    "\n",
    "# add the maxpooling layer\n",
    "mp2 = layers.MaxPooling2D(pool_size=(2,2))(conv4)\n",
    "\n",
    "# add the flatten layer\n",
    "ft = layers.Flatten()(mp2)\n",
    "\n",
    "# add dense layers\n",
    "d1 = layers.Dense(120,activation='relu')(ft)\n",
    "\n",
    "# add dense layers\n",
    "d2 = layers.Dense(84,activation='relu')(d1)\n",
    "\n",
    "# ouput layer\n",
    "op = layers.Dense(10,activation='softmax')(d2)\n",
    "\n",
    "model = models.Model(inputs=ip,outputs=op)\n",
    "model.summary()"
   ]
  },
  {
   "cell_type": "code",
   "execution_count": 22,
   "id": "95f0ea78",
   "metadata": {},
   "outputs": [
    {
     "name": "stdout",
     "output_type": "stream",
     "text": [
      "Epoch 1/10\n",
      "60/60 [==============================] - 48s 793ms/step - loss: 1.1004 - accuracy: 0.5937 - val_loss: 0.7097 - val_accuracy: 0.7316\n",
      "Epoch 2/10\n",
      "60/60 [==============================] - 36s 601ms/step - loss: 0.5970 - accuracy: 0.7734 - val_loss: 0.5511 - val_accuracy: 0.7837\n",
      "Epoch 3/10\n",
      "60/60 [==============================] - 50s 827ms/step - loss: 0.4961 - accuracy: 0.8141 - val_loss: 0.4909 - val_accuracy: 0.8237\n",
      "Epoch 4/10\n",
      "60/60 [==============================] - 43s 717ms/step - loss: 0.4317 - accuracy: 0.8423 - val_loss: 0.4322 - val_accuracy: 0.8438\n",
      "Epoch 5/10\n",
      "60/60 [==============================] - 39s 651ms/step - loss: 0.3947 - accuracy: 0.8566 - val_loss: 0.4116 - val_accuracy: 0.8521\n",
      "Epoch 6/10\n",
      "60/60 [==============================] - 34s 574ms/step - loss: 0.3711 - accuracy: 0.8662 - val_loss: 0.3975 - val_accuracy: 0.8596\n",
      "Epoch 7/10\n",
      "60/60 [==============================] - 45s 744ms/step - loss: 0.3438 - accuracy: 0.8753 - val_loss: 0.3755 - val_accuracy: 0.8636\n",
      "Epoch 8/10\n",
      "60/60 [==============================] - 35s 584ms/step - loss: 0.3279 - accuracy: 0.8796 - val_loss: 0.3539 - val_accuracy: 0.8718\n",
      "Epoch 9/10\n",
      "60/60 [==============================] - 45s 755ms/step - loss: 0.3157 - accuracy: 0.8834 - val_loss: 0.3435 - val_accuracy: 0.8792\n",
      "Epoch 10/10\n",
      "60/60 [==============================] - 37s 615ms/step - loss: 0.3105 - accuracy: 0.8860 - val_loss: 0.3520 - val_accuracy: 0.8732\n"
     ]
    },
    {
     "data": {
      "text/plain": [
       "<tensorflow.python.keras.callbacks.History at 0x1fe358fa5b0>"
      ]
     },
     "execution_count": 22,
     "metadata": {},
     "output_type": "execute_result"
    }
   ],
   "source": [
    "model.compile(loss='categorical_crossentropy',optimizer='adam',metrics=['accuracy'])\n",
    "model.fit(xtrain,ytrain,epochs=10,batch_size=1000,validation_data=(xtest,ytest))"
   ]
  },
  {
   "cell_type": "code",
   "execution_count": 23,
   "id": "04c12e1a",
   "metadata": {},
   "outputs": [
    {
     "name": "stdout",
     "output_type": "stream",
     "text": [
      "(10000, 10)\n"
     ]
    }
   ],
   "source": [
    "ypred = model.predict(xtest)\n",
    "print(ypred.shape)\n",
    "ypred = [np.argmax(i) for i in ypred]\n",
    "ytest2 = [np.argmax(i) for i in ytest]"
   ]
  },
  {
   "cell_type": "code",
   "execution_count": 24,
   "id": "1ff95a2d",
   "metadata": {},
   "outputs": [
    {
     "name": "stdout",
     "output_type": "stream",
     "text": [
      "              precision    recall  f1-score   support\n",
      "\n",
      "           0       0.87      0.77      0.82      1000\n",
      "           1       1.00      0.96      0.98      1000\n",
      "           2       0.86      0.75      0.80      1000\n",
      "           3       0.83      0.93      0.88      1000\n",
      "           4       0.81      0.78      0.79      1000\n",
      "           5       0.98      0.95      0.97      1000\n",
      "           6       0.60      0.75      0.67      1000\n",
      "           7       0.90      0.97      0.94      1000\n",
      "           8       0.99      0.94      0.96      1000\n",
      "           9       0.97      0.94      0.95      1000\n",
      "\n",
      "    accuracy                           0.87     10000\n",
      "   macro avg       0.88      0.87      0.88     10000\n",
      "weighted avg       0.88      0.87      0.88     10000\n",
      "\n"
     ]
    }
   ],
   "source": [
    "from sklearn import metrics\n",
    "print(metrics.classification_report(ytest2,ypred))"
   ]
  },
  {
   "cell_type": "code",
   "execution_count": 25,
   "id": "13abfef3",
   "metadata": {},
   "outputs": [
    {
     "data": {
      "text/plain": [
       "'Shirt'"
      ]
     },
     "execution_count": 25,
     "metadata": {},
     "output_type": "execute_result"
    }
   ],
   "source": [
    "cnames[6]"
   ]
  },
  {
   "cell_type": "code",
   "execution_count": 26,
   "id": "2eba7bb1",
   "metadata": {},
   "outputs": [
    {
     "data": {
      "text/html": [
       "<div>\n",
       "<style scoped>\n",
       "    .dataframe tbody tr th:only-of-type {\n",
       "        vertical-align: middle;\n",
       "    }\n",
       "\n",
       "    .dataframe tbody tr th {\n",
       "        vertical-align: top;\n",
       "    }\n",
       "\n",
       "    .dataframe thead th {\n",
       "        text-align: right;\n",
       "    }\n",
       "</style>\n",
       "<table border=\"1\" class=\"dataframe\">\n",
       "  <thead>\n",
       "    <tr style=\"text-align: right;\">\n",
       "      <th></th>\n",
       "      <th>T-shirt/top</th>\n",
       "      <th>Trouser</th>\n",
       "      <th>Pullover</th>\n",
       "      <th>Dress</th>\n",
       "      <th>Coat</th>\n",
       "      <th>Sandal</th>\n",
       "      <th>Shirt</th>\n",
       "      <th>Sneaker</th>\n",
       "      <th>Bag</th>\n",
       "      <th>Ankle boot</th>\n",
       "    </tr>\n",
       "  </thead>\n",
       "  <tbody>\n",
       "    <tr>\n",
       "      <th>T-shirt/top</th>\n",
       "      <td>769</td>\n",
       "      <td>0</td>\n",
       "      <td>17</td>\n",
       "      <td>54</td>\n",
       "      <td>3</td>\n",
       "      <td>1</td>\n",
       "      <td>152</td>\n",
       "      <td>0</td>\n",
       "      <td>4</td>\n",
       "      <td>0</td>\n",
       "    </tr>\n",
       "    <tr>\n",
       "      <th>Trouser</th>\n",
       "      <td>0</td>\n",
       "      <td>963</td>\n",
       "      <td>0</td>\n",
       "      <td>24</td>\n",
       "      <td>3</td>\n",
       "      <td>0</td>\n",
       "      <td>9</td>\n",
       "      <td>0</td>\n",
       "      <td>1</td>\n",
       "      <td>0</td>\n",
       "    </tr>\n",
       "    <tr>\n",
       "      <th>Pullover</th>\n",
       "      <td>11</td>\n",
       "      <td>0</td>\n",
       "      <td>747</td>\n",
       "      <td>11</td>\n",
       "      <td>92</td>\n",
       "      <td>0</td>\n",
       "      <td>139</td>\n",
       "      <td>0</td>\n",
       "      <td>0</td>\n",
       "      <td>0</td>\n",
       "    </tr>\n",
       "    <tr>\n",
       "      <th>Dress</th>\n",
       "      <td>5</td>\n",
       "      <td>1</td>\n",
       "      <td>8</td>\n",
       "      <td>932</td>\n",
       "      <td>16</td>\n",
       "      <td>0</td>\n",
       "      <td>38</td>\n",
       "      <td>0</td>\n",
       "      <td>0</td>\n",
       "      <td>0</td>\n",
       "    </tr>\n",
       "    <tr>\n",
       "      <th>Coat</th>\n",
       "      <td>2</td>\n",
       "      <td>1</td>\n",
       "      <td>34</td>\n",
       "      <td>52</td>\n",
       "      <td>779</td>\n",
       "      <td>0</td>\n",
       "      <td>131</td>\n",
       "      <td>0</td>\n",
       "      <td>1</td>\n",
       "      <td>0</td>\n",
       "    </tr>\n",
       "    <tr>\n",
       "      <th>Sandal</th>\n",
       "      <td>0</td>\n",
       "      <td>0</td>\n",
       "      <td>0</td>\n",
       "      <td>1</td>\n",
       "      <td>0</td>\n",
       "      <td>947</td>\n",
       "      <td>0</td>\n",
       "      <td>39</td>\n",
       "      <td>0</td>\n",
       "      <td>13</td>\n",
       "    </tr>\n",
       "    <tr>\n",
       "      <th>Shirt</th>\n",
       "      <td>94</td>\n",
       "      <td>1</td>\n",
       "      <td>56</td>\n",
       "      <td>36</td>\n",
       "      <td>62</td>\n",
       "      <td>0</td>\n",
       "      <td>747</td>\n",
       "      <td>0</td>\n",
       "      <td>4</td>\n",
       "      <td>0</td>\n",
       "    </tr>\n",
       "    <tr>\n",
       "      <th>Sneaker</th>\n",
       "      <td>0</td>\n",
       "      <td>0</td>\n",
       "      <td>0</td>\n",
       "      <td>0</td>\n",
       "      <td>0</td>\n",
       "      <td>9</td>\n",
       "      <td>0</td>\n",
       "      <td>974</td>\n",
       "      <td>0</td>\n",
       "      <td>17</td>\n",
       "    </tr>\n",
       "    <tr>\n",
       "      <th>Bag</th>\n",
       "      <td>4</td>\n",
       "      <td>1</td>\n",
       "      <td>11</td>\n",
       "      <td>13</td>\n",
       "      <td>5</td>\n",
       "      <td>1</td>\n",
       "      <td>22</td>\n",
       "      <td>5</td>\n",
       "      <td>938</td>\n",
       "      <td>0</td>\n",
       "    </tr>\n",
       "    <tr>\n",
       "      <th>Ankle boot</th>\n",
       "      <td>1</td>\n",
       "      <td>0</td>\n",
       "      <td>0</td>\n",
       "      <td>0</td>\n",
       "      <td>0</td>\n",
       "      <td>4</td>\n",
       "      <td>0</td>\n",
       "      <td>59</td>\n",
       "      <td>0</td>\n",
       "      <td>936</td>\n",
       "    </tr>\n",
       "  </tbody>\n",
       "</table>\n",
       "</div>"
      ],
      "text/plain": [
       "             T-shirt/top  Trouser  Pullover  Dress  Coat  Sandal  Shirt  \\\n",
       "T-shirt/top          769        0        17     54     3       1    152   \n",
       "Trouser                0      963         0     24     3       0      9   \n",
       "Pullover              11        0       747     11    92       0    139   \n",
       "Dress                  5        1         8    932    16       0     38   \n",
       "Coat                   2        1        34     52   779       0    131   \n",
       "Sandal                 0        0         0      1     0     947      0   \n",
       "Shirt                 94        1        56     36    62       0    747   \n",
       "Sneaker                0        0         0      0     0       9      0   \n",
       "Bag                    4        1        11     13     5       1     22   \n",
       "Ankle boot             1        0         0      0     0       4      0   \n",
       "\n",
       "             Sneaker  Bag  Ankle boot  \n",
       "T-shirt/top        0    4           0  \n",
       "Trouser            0    1           0  \n",
       "Pullover           0    0           0  \n",
       "Dress              0    0           0  \n",
       "Coat               0    1           0  \n",
       "Sandal            39    0          13  \n",
       "Shirt              0    4           0  \n",
       "Sneaker          974    0          17  \n",
       "Bag                5  938           0  \n",
       "Ankle boot        59    0         936  "
      ]
     },
     "execution_count": 26,
     "metadata": {},
     "output_type": "execute_result"
    }
   ],
   "source": [
    "pd.DataFrame(metrics.confusion_matrix(ytest2,ypred),columns=cnames,index=cnames)"
   ]
  },
  {
   "cell_type": "code",
   "execution_count": null,
   "id": "fca0b2b8",
   "metadata": {},
   "outputs": [],
   "source": []
  }
 ],
 "metadata": {
  "kernelspec": {
   "display_name": "Python 3",
   "language": "python",
   "name": "python3"
  },
  "language_info": {
   "codemirror_mode": {
    "name": "ipython",
    "version": 3
   },
   "file_extension": ".py",
   "mimetype": "text/x-python",
   "name": "python",
   "nbconvert_exporter": "python",
   "pygments_lexer": "ipython3",
   "version": "3.8.8"
  }
 },
 "nbformat": 4,
 "nbformat_minor": 5
}
