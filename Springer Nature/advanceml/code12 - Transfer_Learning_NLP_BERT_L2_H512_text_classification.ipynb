{
  "nbformat": 4,
  "nbformat_minor": 0,
  "metadata": {
    "colab": {
      "name": "Transfer Learning - NLP -BERT_L2_H512_text_classification.ipynb",
      "provenance": [],
      "collapsed_sections": [],
      "toc_visible": true
    },
    "kernelspec": {
      "name": "python3",
      "display_name": "Python 3"
    },
    "accelerator": "TPU"
  },
  "cells": [
    {
      "cell_type": "code",
      "metadata": {
        "colab": {
          "base_uri": "https://localhost:8080/"
        },
        "id": "S8XyBIszEmuF",
        "outputId": "65dd4b84-c54b-49f9-cd43-7f4a209fe16e"
      },
      "source": [
        "!pip install tensorflow-text"
      ],
      "execution_count": null,
      "outputs": [
        {
          "output_type": "stream",
          "text": [
            "Collecting tensorflow-text\n",
            "\u001b[?25l  Downloading https://files.pythonhosted.org/packages/c0/ed/bbb51e9eccca0c2bfdf9df66e54cdff563b6f32daed9255da9b9a541368f/tensorflow_text-2.5.0-cp37-cp37m-manylinux1_x86_64.whl (4.3MB)\n",
            "\u001b[K     |████████████████████████████████| 4.3MB 5.3MB/s \n",
            "\u001b[?25hRequirement already satisfied: tensorflow-hub>=0.8.0 in /usr/local/lib/python3.7/dist-packages (from tensorflow-text) (0.12.0)\n",
            "Requirement already satisfied: tensorflow<2.6,>=2.5.0 in /usr/local/lib/python3.7/dist-packages (from tensorflow-text) (2.5.0)\n",
            "Requirement already satisfied: numpy>=1.12.0 in /usr/local/lib/python3.7/dist-packages (from tensorflow-hub>=0.8.0->tensorflow-text) (1.19.5)\n",
            "Requirement already satisfied: protobuf>=3.8.0 in /usr/local/lib/python3.7/dist-packages (from tensorflow-hub>=0.8.0->tensorflow-text) (3.17.3)\n",
            "Requirement already satisfied: astunparse~=1.6.3 in /usr/local/lib/python3.7/dist-packages (from tensorflow<2.6,>=2.5.0->tensorflow-text) (1.6.3)\n",
            "Requirement already satisfied: tensorboard~=2.5 in /usr/local/lib/python3.7/dist-packages (from tensorflow<2.6,>=2.5.0->tensorflow-text) (2.5.0)\n",
            "Requirement already satisfied: gast==0.4.0 in /usr/local/lib/python3.7/dist-packages (from tensorflow<2.6,>=2.5.0->tensorflow-text) (0.4.0)\n",
            "Requirement already satisfied: wheel~=0.35 in /usr/local/lib/python3.7/dist-packages (from tensorflow<2.6,>=2.5.0->tensorflow-text) (0.36.2)\n",
            "Requirement already satisfied: termcolor~=1.1.0 in /usr/local/lib/python3.7/dist-packages (from tensorflow<2.6,>=2.5.0->tensorflow-text) (1.1.0)\n",
            "Requirement already satisfied: absl-py~=0.10 in /usr/local/lib/python3.7/dist-packages (from tensorflow<2.6,>=2.5.0->tensorflow-text) (0.12.0)\n",
            "Requirement already satisfied: flatbuffers~=1.12.0 in /usr/local/lib/python3.7/dist-packages (from tensorflow<2.6,>=2.5.0->tensorflow-text) (1.12)\n",
            "Requirement already satisfied: keras-preprocessing~=1.1.2 in /usr/local/lib/python3.7/dist-packages (from tensorflow<2.6,>=2.5.0->tensorflow-text) (1.1.2)\n",
            "Requirement already satisfied: six~=1.15.0 in /usr/local/lib/python3.7/dist-packages (from tensorflow<2.6,>=2.5.0->tensorflow-text) (1.15.0)\n",
            "Requirement already satisfied: tensorflow-estimator<2.6.0,>=2.5.0rc0 in /usr/local/lib/python3.7/dist-packages (from tensorflow<2.6,>=2.5.0->tensorflow-text) (2.5.0)\n",
            "Requirement already satisfied: h5py~=3.1.0 in /usr/local/lib/python3.7/dist-packages (from tensorflow<2.6,>=2.5.0->tensorflow-text) (3.1.0)\n",
            "Requirement already satisfied: wrapt~=1.12.1 in /usr/local/lib/python3.7/dist-packages (from tensorflow<2.6,>=2.5.0->tensorflow-text) (1.12.1)\n",
            "Requirement already satisfied: opt-einsum~=3.3.0 in /usr/local/lib/python3.7/dist-packages (from tensorflow<2.6,>=2.5.0->tensorflow-text) (3.3.0)\n",
            "Requirement already satisfied: google-pasta~=0.2 in /usr/local/lib/python3.7/dist-packages (from tensorflow<2.6,>=2.5.0->tensorflow-text) (0.2.0)\n",
            "Requirement already satisfied: keras-nightly~=2.5.0.dev in /usr/local/lib/python3.7/dist-packages (from tensorflow<2.6,>=2.5.0->tensorflow-text) (2.5.0.dev2021032900)\n",
            "Requirement already satisfied: typing-extensions~=3.7.4 in /usr/local/lib/python3.7/dist-packages (from tensorflow<2.6,>=2.5.0->tensorflow-text) (3.7.4.3)\n",
            "Requirement already satisfied: grpcio~=1.34.0 in /usr/local/lib/python3.7/dist-packages (from tensorflow<2.6,>=2.5.0->tensorflow-text) (1.34.1)\n",
            "Requirement already satisfied: google-auth<2,>=1.6.3 in /usr/local/lib/python3.7/dist-packages (from tensorboard~=2.5->tensorflow<2.6,>=2.5.0->tensorflow-text) (1.32.1)\n",
            "Requirement already satisfied: werkzeug>=0.11.15 in /usr/local/lib/python3.7/dist-packages (from tensorboard~=2.5->tensorflow<2.6,>=2.5.0->tensorflow-text) (1.0.1)\n",
            "Requirement already satisfied: requests<3,>=2.21.0 in /usr/local/lib/python3.7/dist-packages (from tensorboard~=2.5->tensorflow<2.6,>=2.5.0->tensorflow-text) (2.23.0)\n",
            "Requirement already satisfied: markdown>=2.6.8 in /usr/local/lib/python3.7/dist-packages (from tensorboard~=2.5->tensorflow<2.6,>=2.5.0->tensorflow-text) (3.3.4)\n",
            "Requirement already satisfied: setuptools>=41.0.0 in /usr/local/lib/python3.7/dist-packages (from tensorboard~=2.5->tensorflow<2.6,>=2.5.0->tensorflow-text) (57.0.0)\n",
            "Requirement already satisfied: tensorboard-data-server<0.7.0,>=0.6.0 in /usr/local/lib/python3.7/dist-packages (from tensorboard~=2.5->tensorflow<2.6,>=2.5.0->tensorflow-text) (0.6.1)\n",
            "Requirement already satisfied: tensorboard-plugin-wit>=1.6.0 in /usr/local/lib/python3.7/dist-packages (from tensorboard~=2.5->tensorflow<2.6,>=2.5.0->tensorflow-text) (1.8.0)\n",
            "Requirement already satisfied: google-auth-oauthlib<0.5,>=0.4.1 in /usr/local/lib/python3.7/dist-packages (from tensorboard~=2.5->tensorflow<2.6,>=2.5.0->tensorflow-text) (0.4.4)\n",
            "Requirement already satisfied: cached-property; python_version < \"3.8\" in /usr/local/lib/python3.7/dist-packages (from h5py~=3.1.0->tensorflow<2.6,>=2.5.0->tensorflow-text) (1.5.2)\n",
            "Requirement already satisfied: cachetools<5.0,>=2.0.0 in /usr/local/lib/python3.7/dist-packages (from google-auth<2,>=1.6.3->tensorboard~=2.5->tensorflow<2.6,>=2.5.0->tensorflow-text) (4.2.2)\n",
            "Requirement already satisfied: pyasn1-modules>=0.2.1 in /usr/local/lib/python3.7/dist-packages (from google-auth<2,>=1.6.3->tensorboard~=2.5->tensorflow<2.6,>=2.5.0->tensorflow-text) (0.2.8)\n",
            "Requirement already satisfied: rsa<5,>=3.1.4; python_version >= \"3.6\" in /usr/local/lib/python3.7/dist-packages (from google-auth<2,>=1.6.3->tensorboard~=2.5->tensorflow<2.6,>=2.5.0->tensorflow-text) (4.7.2)\n",
            "Requirement already satisfied: chardet<4,>=3.0.2 in /usr/local/lib/python3.7/dist-packages (from requests<3,>=2.21.0->tensorboard~=2.5->tensorflow<2.6,>=2.5.0->tensorflow-text) (3.0.4)\n",
            "Requirement already satisfied: certifi>=2017.4.17 in /usr/local/lib/python3.7/dist-packages (from requests<3,>=2.21.0->tensorboard~=2.5->tensorflow<2.6,>=2.5.0->tensorflow-text) (2021.5.30)\n",
            "Requirement already satisfied: urllib3!=1.25.0,!=1.25.1,<1.26,>=1.21.1 in /usr/local/lib/python3.7/dist-packages (from requests<3,>=2.21.0->tensorboard~=2.5->tensorflow<2.6,>=2.5.0->tensorflow-text) (1.24.3)\n",
            "Requirement already satisfied: idna<3,>=2.5 in /usr/local/lib/python3.7/dist-packages (from requests<3,>=2.21.0->tensorboard~=2.5->tensorflow<2.6,>=2.5.0->tensorflow-text) (2.10)\n",
            "Requirement already satisfied: importlib-metadata; python_version < \"3.8\" in /usr/local/lib/python3.7/dist-packages (from markdown>=2.6.8->tensorboard~=2.5->tensorflow<2.6,>=2.5.0->tensorflow-text) (4.6.1)\n",
            "Requirement already satisfied: requests-oauthlib>=0.7.0 in /usr/local/lib/python3.7/dist-packages (from google-auth-oauthlib<0.5,>=0.4.1->tensorboard~=2.5->tensorflow<2.6,>=2.5.0->tensorflow-text) (1.3.0)\n",
            "Requirement already satisfied: pyasn1<0.5.0,>=0.4.6 in /usr/local/lib/python3.7/dist-packages (from pyasn1-modules>=0.2.1->google-auth<2,>=1.6.3->tensorboard~=2.5->tensorflow<2.6,>=2.5.0->tensorflow-text) (0.4.8)\n",
            "Requirement already satisfied: zipp>=0.5 in /usr/local/lib/python3.7/dist-packages (from importlib-metadata; python_version < \"3.8\"->markdown>=2.6.8->tensorboard~=2.5->tensorflow<2.6,>=2.5.0->tensorflow-text) (3.5.0)\n",
            "Requirement already satisfied: oauthlib>=3.0.0 in /usr/local/lib/python3.7/dist-packages (from requests-oauthlib>=0.7.0->google-auth-oauthlib<0.5,>=0.4.1->tensorboard~=2.5->tensorflow<2.6,>=2.5.0->tensorflow-text) (3.1.1)\n",
            "Installing collected packages: tensorflow-text\n",
            "Successfully installed tensorflow-text-2.5.0\n"
          ],
          "name": "stdout"
        }
      ]
    },
    {
      "cell_type": "code",
      "metadata": {
        "id": "3mRd3jqVisNU"
      },
      "source": [
        "import tensorflow as tf\n",
        "import tensorflow_hub as hub\n",
        "from tensorflow.keras import models,layers\n",
        "import tensorflow_text as text"
      ],
      "execution_count": null,
      "outputs": []
    },
    {
      "cell_type": "code",
      "metadata": {
        "id": "0LBV4lgLEDYb"
      },
      "source": [
        "text_input = layers.Input(shape=(),dtype=tf.string)\n",
        "prep = hub.KerasLayer(\"https://tfhub.dev/tensorflow/bert_en_uncased_preprocess/3\")\n",
        "encoder_inputs = prep(text_input)\n",
        "\n",
        "encoder = hub.KerasLayer(\"https://tfhub.dev/tensorflow/small_bert/bert_en_uncased_L-4_H-512_A-8/2\",trainable=True)\n",
        "outputs = encoder(encoder_inputs)\n",
        "pooled_output = outputs[\"pooled_output\"] #[batchsize,512]\n",
        "sequence_ouptut = outputs[\"sequence_output\"] #[batchsize,seqlength,512]"
      ],
      "execution_count": null,
      "outputs": []
    },
    {
      "cell_type": "code",
      "metadata": {
        "colab": {
          "base_uri": "https://localhost:8080/"
        },
        "id": "BZ_mFcJ5FPBm",
        "outputId": "93388d85-9dc2-47de-c11d-acd8f8aa7cb5"
      },
      "source": [
        "embedding_model = tf.keras.Model(text_input, pooled_output)\n",
        "sentences = tf.constant([\"(your text here)\"])\n",
        "print(embedding_model(sentences).shape)"
      ],
      "execution_count": null,
      "outputs": [
        {
          "output_type": "stream",
          "text": [
            "(1, 512)\n"
          ],
          "name": "stdout"
        }
      ]
    },
    {
      "cell_type": "code",
      "metadata": {
        "colab": {
          "base_uri": "https://localhost:8080/"
        },
        "id": "g8jZZtGXGP__",
        "outputId": "0364a0d7-ce14-49db-c88a-da75ba0e84af"
      },
      "source": [
        "embedding_model2 = tf.keras.Model(text_input, sequence_ouptut)\n",
        "sentences = tf.constant([\"My name is anshu here, who are you\"])\n",
        "print(embedding_model2(sentences).shape)"
      ],
      "execution_count": null,
      "outputs": [
        {
          "output_type": "stream",
          "text": [
            "(1, 128, 512)\n"
          ],
          "name": "stdout"
        }
      ]
    },
    {
      "cell_type": "code",
      "metadata": {
        "colab": {
          "base_uri": "https://localhost:8080/"
        },
        "id": "atCflHNeGlNG",
        "outputId": "ebcb869c-360d-48af-9d04-5de6590a620a"
      },
      "source": [
        "sentences.shape"
      ],
      "execution_count": null,
      "outputs": [
        {
          "output_type": "execute_result",
          "data": {
            "text/plain": [
              "TensorShape([1])"
            ]
          },
          "metadata": {
            "tags": []
          },
          "execution_count": 46
        }
      ]
    },
    {
      "cell_type": "code",
      "metadata": {
        "id": "5YOVb8_Yi9Oy",
        "colab": {
          "base_uri": "https://localhost:8080/"
        },
        "outputId": "7b13757e-9aa0-463b-d50a-b4d6fe51c23a"
      },
      "source": [
        "doc1 = [\"India\"]\n",
        "doc2 = [\"I love coding\"]\n",
        "doc3 = [\"I love python porgamming and Data Science. Machine Learning is amazing.\"]\n",
        "data = [doc1,doc2,doc3]\n",
        "for doc in data:\n",
        "  doc = tf.constant(doc)\n",
        "  print(embedding_model(doc).shape)"
      ],
      "execution_count": null,
      "outputs": [
        {
          "output_type": "stream",
          "text": [
            "(1, 512)\n",
            "(1, 512)\n",
            "(1, 512)\n"
          ],
          "name": "stdout"
        }
      ]
    },
    {
      "cell_type": "code",
      "metadata": {
        "colab": {
          "base_uri": "https://localhost:8080/"
        },
        "id": "qzfdge_vTTI7",
        "outputId": "b8422426-b546-459a-b54e-243c8722d707"
      },
      "source": [
        "for doc in data:\n",
        "  doc = tf.constant(doc)\n",
        "  print(embedding_model2(doc).shape)"
      ],
      "execution_count": null,
      "outputs": [
        {
          "output_type": "stream",
          "text": [
            "(1, 128, 512)\n",
            "(1, 128, 512)\n",
            "(1, 128, 512)\n"
          ],
          "name": "stdout"
        }
      ]
    },
    {
      "cell_type": "markdown",
      "metadata": {
        "id": "2aps-TOgTWb8"
      },
      "source": [
        "# Text Classification"
      ]
    },
    {
      "cell_type": "code",
      "metadata": {
        "id": "HIAXLtnvkEms"
      },
      "source": [
        "# Text Classification"
      ],
      "execution_count": null,
      "outputs": []
    },
    {
      "cell_type": "code",
      "metadata": {
        "id": "ZG8sUdKtzMih"
      },
      "source": [
        "!wget -q https://www.dropbox.com/s/p1z32pkhs9j7cv3/test_data.txt\n",
        "!wget -q https://www.dropbox.com/s/ed3qcu1231e8ubx/train_5500.txt"
      ],
      "execution_count": null,
      "outputs": []
    },
    {
      "cell_type": "code",
      "metadata": {
        "id": "518KnDYKnKjf"
      },
      "source": [
        "train_data = open(\"train_5500.txt\").readlines()\n",
        "test_data = open(\"test_data.txt\").readlines()"
      ],
      "execution_count": null,
      "outputs": []
    },
    {
      "cell_type": "code",
      "metadata": {
        "id": "x6cb1MnSnTW4",
        "colab": {
          "base_uri": "https://localhost:8080/"
        },
        "outputId": "78bf0c1f-6b18-45c4-c46d-e8ab53c50bb1"
      },
      "source": [
        "len(train_data)"
      ],
      "execution_count": null,
      "outputs": [
        {
          "output_type": "execute_result",
          "data": {
            "text/plain": [
              "5452"
            ]
          },
          "metadata": {
            "tags": []
          },
          "execution_count": 8
        }
      ]
    },
    {
      "cell_type": "code",
      "metadata": {
        "id": "WyI6gZ85nVUA",
        "colab": {
          "base_uri": "https://localhost:8080/"
        },
        "outputId": "b19077b4-334b-42b6-b540-b9a86f41d8ef"
      },
      "source": [
        "len(test_data)"
      ],
      "execution_count": null,
      "outputs": [
        {
          "output_type": "execute_result",
          "data": {
            "text/plain": [
              "500"
            ]
          },
          "metadata": {
            "tags": []
          },
          "execution_count": 9
        }
      ]
    },
    {
      "cell_type": "code",
      "metadata": {
        "id": "hq43cNhJnepg",
        "colab": {
          "base_uri": "https://localhost:8080/"
        },
        "outputId": "6c48334d-1120-4697-f584-cecf5921b50a"
      },
      "source": [
        "train_data[:5]"
      ],
      "execution_count": null,
      "outputs": [
        {
          "output_type": "execute_result",
          "data": {
            "text/plain": [
              "['DESC:manner How did serfdom develop in and then leave Russia ?\\n',\n",
              " 'ENTY:cremat What films featured the character Popeye Doyle ?\\n',\n",
              " \"DESC:manner How can I find a list of celebrities ' real names ?\\n\",\n",
              " 'ENTY:animal What fowl grabs the spotlight after the Chinese Year of the Monkey ?\\n',\n",
              " 'ABBR:exp What is the full form of .com ?\\n']"
            ]
          },
          "metadata": {
            "tags": []
          },
          "execution_count": 10
        }
      ]
    },
    {
      "cell_type": "code",
      "metadata": {
        "id": "pXN2j4kln5Ow"
      },
      "source": [
        "def prepare_data(data):\n",
        "  x = []\n",
        "  y = []\n",
        "  for doc in data:\n",
        "    docs = doc.split(\" \")\n",
        "    y.append(docs[0].split(\":\")[0])\n",
        "    x.append(\" \".join(docs[1:]).strip())\n",
        "  return x,y\n"
      ],
      "execution_count": null,
      "outputs": []
    },
    {
      "cell_type": "code",
      "metadata": {
        "id": "h1PMEX4DoIHT"
      },
      "source": [
        "xtrain,ytrain = prepare_data(train_data)\n",
        "xtest,ytest = prepare_data(test_data)"
      ],
      "execution_count": null,
      "outputs": []
    },
    {
      "cell_type": "code",
      "metadata": {
        "id": "KapSq4tDpS0e"
      },
      "source": [
        "import pandas as pd"
      ],
      "execution_count": null,
      "outputs": []
    },
    {
      "cell_type": "code",
      "metadata": {
        "id": "kVT4C3pFpO1T",
        "colab": {
          "base_uri": "https://localhost:8080/",
          "height": 203
        },
        "outputId": "238ac96f-824a-40a3-fc0f-94dc139816d8"
      },
      "source": [
        "ytrain = pd.DataFrame(ytrain)\n",
        "ytrain = pd.get_dummies(ytrain)\n",
        "ytrain.head()"
      ],
      "execution_count": null,
      "outputs": [
        {
          "output_type": "execute_result",
          "data": {
            "text/html": [
              "<div>\n",
              "<style scoped>\n",
              "    .dataframe tbody tr th:only-of-type {\n",
              "        vertical-align: middle;\n",
              "    }\n",
              "\n",
              "    .dataframe tbody tr th {\n",
              "        vertical-align: top;\n",
              "    }\n",
              "\n",
              "    .dataframe thead th {\n",
              "        text-align: right;\n",
              "    }\n",
              "</style>\n",
              "<table border=\"1\" class=\"dataframe\">\n",
              "  <thead>\n",
              "    <tr style=\"text-align: right;\">\n",
              "      <th></th>\n",
              "      <th>0_ABBR</th>\n",
              "      <th>0_DESC</th>\n",
              "      <th>0_ENTY</th>\n",
              "      <th>0_HUM</th>\n",
              "      <th>0_LOC</th>\n",
              "      <th>0_NUM</th>\n",
              "    </tr>\n",
              "  </thead>\n",
              "  <tbody>\n",
              "    <tr>\n",
              "      <th>0</th>\n",
              "      <td>0</td>\n",
              "      <td>1</td>\n",
              "      <td>0</td>\n",
              "      <td>0</td>\n",
              "      <td>0</td>\n",
              "      <td>0</td>\n",
              "    </tr>\n",
              "    <tr>\n",
              "      <th>1</th>\n",
              "      <td>0</td>\n",
              "      <td>0</td>\n",
              "      <td>1</td>\n",
              "      <td>0</td>\n",
              "      <td>0</td>\n",
              "      <td>0</td>\n",
              "    </tr>\n",
              "    <tr>\n",
              "      <th>2</th>\n",
              "      <td>0</td>\n",
              "      <td>1</td>\n",
              "      <td>0</td>\n",
              "      <td>0</td>\n",
              "      <td>0</td>\n",
              "      <td>0</td>\n",
              "    </tr>\n",
              "    <tr>\n",
              "      <th>3</th>\n",
              "      <td>0</td>\n",
              "      <td>0</td>\n",
              "      <td>1</td>\n",
              "      <td>0</td>\n",
              "      <td>0</td>\n",
              "      <td>0</td>\n",
              "    </tr>\n",
              "    <tr>\n",
              "      <th>4</th>\n",
              "      <td>1</td>\n",
              "      <td>0</td>\n",
              "      <td>0</td>\n",
              "      <td>0</td>\n",
              "      <td>0</td>\n",
              "      <td>0</td>\n",
              "    </tr>\n",
              "  </tbody>\n",
              "</table>\n",
              "</div>"
            ],
            "text/plain": [
              "   0_ABBR  0_DESC  0_ENTY  0_HUM  0_LOC  0_NUM\n",
              "0       0       1       0      0      0      0\n",
              "1       0       0       1      0      0      0\n",
              "2       0       1       0      0      0      0\n",
              "3       0       0       1      0      0      0\n",
              "4       1       0       0      0      0      0"
            ]
          },
          "metadata": {
            "tags": []
          },
          "execution_count": 14
        }
      ]
    },
    {
      "cell_type": "code",
      "metadata": {
        "id": "fKQBHApYoKV0",
        "colab": {
          "base_uri": "https://localhost:8080/",
          "height": 203
        },
        "outputId": "d7f6cbef-317f-40a5-d68e-dc259d73617b"
      },
      "source": [
        "ytest = pd.DataFrame(ytest)\n",
        "ytest = pd.get_dummies(ytest)\n",
        "ytest.head()"
      ],
      "execution_count": null,
      "outputs": [
        {
          "output_type": "execute_result",
          "data": {
            "text/html": [
              "<div>\n",
              "<style scoped>\n",
              "    .dataframe tbody tr th:only-of-type {\n",
              "        vertical-align: middle;\n",
              "    }\n",
              "\n",
              "    .dataframe tbody tr th {\n",
              "        vertical-align: top;\n",
              "    }\n",
              "\n",
              "    .dataframe thead th {\n",
              "        text-align: right;\n",
              "    }\n",
              "</style>\n",
              "<table border=\"1\" class=\"dataframe\">\n",
              "  <thead>\n",
              "    <tr style=\"text-align: right;\">\n",
              "      <th></th>\n",
              "      <th>0_ABBR</th>\n",
              "      <th>0_DESC</th>\n",
              "      <th>0_ENTY</th>\n",
              "      <th>0_HUM</th>\n",
              "      <th>0_LOC</th>\n",
              "      <th>0_NUM</th>\n",
              "    </tr>\n",
              "  </thead>\n",
              "  <tbody>\n",
              "    <tr>\n",
              "      <th>0</th>\n",
              "      <td>0</td>\n",
              "      <td>0</td>\n",
              "      <td>0</td>\n",
              "      <td>0</td>\n",
              "      <td>0</td>\n",
              "      <td>1</td>\n",
              "    </tr>\n",
              "    <tr>\n",
              "      <th>1</th>\n",
              "      <td>0</td>\n",
              "      <td>0</td>\n",
              "      <td>0</td>\n",
              "      <td>0</td>\n",
              "      <td>1</td>\n",
              "      <td>0</td>\n",
              "    </tr>\n",
              "    <tr>\n",
              "      <th>2</th>\n",
              "      <td>0</td>\n",
              "      <td>0</td>\n",
              "      <td>0</td>\n",
              "      <td>1</td>\n",
              "      <td>0</td>\n",
              "      <td>0</td>\n",
              "    </tr>\n",
              "    <tr>\n",
              "      <th>3</th>\n",
              "      <td>0</td>\n",
              "      <td>1</td>\n",
              "      <td>0</td>\n",
              "      <td>0</td>\n",
              "      <td>0</td>\n",
              "      <td>0</td>\n",
              "    </tr>\n",
              "    <tr>\n",
              "      <th>4</th>\n",
              "      <td>0</td>\n",
              "      <td>0</td>\n",
              "      <td>0</td>\n",
              "      <td>0</td>\n",
              "      <td>0</td>\n",
              "      <td>1</td>\n",
              "    </tr>\n",
              "  </tbody>\n",
              "</table>\n",
              "</div>"
            ],
            "text/plain": [
              "   0_ABBR  0_DESC  0_ENTY  0_HUM  0_LOC  0_NUM\n",
              "0       0       0       0      0      0      1\n",
              "1       0       0       0      0      1      0\n",
              "2       0       0       0      1      0      0\n",
              "3       0       1       0      0      0      0\n",
              "4       0       0       0      0      0      1"
            ]
          },
          "metadata": {
            "tags": []
          },
          "execution_count": 15
        }
      ]
    },
    {
      "cell_type": "code",
      "metadata": {
        "id": "Bqnk0y76pC8p",
        "colab": {
          "base_uri": "https://localhost:8080/"
        },
        "outputId": "1deedfeb-6174-459f-dac9-1185ed8cd388"
      },
      "source": [
        "categories = list(ytrain.columns)\n",
        "categories = [i[2:] for i in categories]\n",
        "categories"
      ],
      "execution_count": null,
      "outputs": [
        {
          "output_type": "execute_result",
          "data": {
            "text/plain": [
              "['ABBR', 'DESC', 'ENTY', 'HUM', 'LOC', 'NUM']"
            ]
          },
          "metadata": {
            "tags": []
          },
          "execution_count": 16
        }
      ]
    },
    {
      "cell_type": "markdown",
      "metadata": {
        "id": "RHaiJMIVqIcb"
      },
      "source": [
        "### Text Classification using Transfer learning"
      ]
    },
    {
      "cell_type": "code",
      "metadata": {
        "id": "Io5eVHdyqHqt"
      },
      "source": [
        "# create a function which will accept a text doc and return the corresponding vector\n",
        "def sent2vec(doc):\n",
        "  vector = embedding_model(tf.squeeze(tf.cast(doc,tf.string),axis=1))\n",
        "  return vector"
      ],
      "execution_count": null,
      "outputs": []
    },
    {
      "cell_type": "code",
      "metadata": {
        "id": "6v4iwecapr98"
      },
      "source": [
        "from tensorflow.keras import models,layers"
      ],
      "execution_count": null,
      "outputs": []
    },
    {
      "cell_type": "code",
      "metadata": {
        "id": "T3hyI3-orHCi",
        "colab": {
          "base_uri": "https://localhost:8080/"
        },
        "outputId": "ca1b4883-4b8c-4294-d736-4a7e038f1ce7"
      },
      "source": [
        "input_layer = layers.Input(shape=(1,),dtype='string')\n",
        "embedding_layer = layers.Lambda(sent2vec,output_shape=(512,))(input_layer)\n",
        "dense1 = layers.Dense(256,activation='relu')(embedding_layer)\n",
        "output_layer = layers.Dense(6,activation='softmax')(dense1)\n",
        "\n",
        "model = models.Model(inputs=[input_layer],outputs=output_layer)\n",
        "model.compile(loss='categorical_crossentropy',optimizer='adam',metrics=['accuracy'])"
      ],
      "execution_count": null,
      "outputs": [
        {
          "output_type": "stream",
          "text": [
            "WARNING:tensorflow:\n",
            "The following Variables were used a Lambda layer's call (lambda), but\n",
            "are not present in its tracked objects:\n",
            "  <tf.Variable 'word_embeddings/embeddings:0' shape=(30522, 512) dtype=float32>\n",
            "  <tf.Variable 'position_embedding/embeddings:0' shape=(512, 512) dtype=float32>\n",
            "  <tf.Variable 'type_embeddings/embeddings:0' shape=(2, 512) dtype=float32>\n",
            "  <tf.Variable 'embeddings/layer_norm/gamma:0' shape=(512,) dtype=float32>\n",
            "  <tf.Variable 'embeddings/layer_norm/beta:0' shape=(512,) dtype=float32>\n",
            "  <tf.Variable 'transformer/layer_0/self_attention/query/kernel:0' shape=(512, 8, 64) dtype=float32>\n",
            "  <tf.Variable 'transformer/layer_0/self_attention/query/bias:0' shape=(8, 64) dtype=float32>\n",
            "  <tf.Variable 'transformer/layer_0/self_attention/key/kernel:0' shape=(512, 8, 64) dtype=float32>\n",
            "  <tf.Variable 'transformer/layer_0/self_attention/key/bias:0' shape=(8, 64) dtype=float32>\n",
            "  <tf.Variable 'transformer/layer_0/self_attention/value/kernel:0' shape=(512, 8, 64) dtype=float32>\n",
            "  <tf.Variable 'transformer/layer_0/self_attention/value/bias:0' shape=(8, 64) dtype=float32>\n",
            "  <tf.Variable 'transformer/layer_0/self_attention/attention_output/kernel:0' shape=(8, 64, 512) dtype=float32>\n",
            "  <tf.Variable 'transformer/layer_0/self_attention/attention_output/bias:0' shape=(512,) dtype=float32>\n",
            "  <tf.Variable 'transformer/layer_0/self_attention_layer_norm/gamma:0' shape=(512,) dtype=float32>\n",
            "  <tf.Variable 'transformer/layer_0/self_attention_layer_norm/beta:0' shape=(512,) dtype=float32>\n",
            "  <tf.Variable 'transformer/layer_0/intermediate/kernel:0' shape=(512, 2048) dtype=float32>\n",
            "  <tf.Variable 'transformer/layer_0/intermediate/bias:0' shape=(2048,) dtype=float32>\n",
            "  <tf.Variable 'transformer/layer_0/output/kernel:0' shape=(2048, 512) dtype=float32>\n",
            "  <tf.Variable 'transformer/layer_0/output/bias:0' shape=(512,) dtype=float32>\n",
            "  <tf.Variable 'transformer/layer_0/output_layer_norm/gamma:0' shape=(512,) dtype=float32>\n",
            "  <tf.Variable 'transformer/layer_0/output_layer_norm/beta:0' shape=(512,) dtype=float32>\n",
            "  <tf.Variable 'transformer/layer_1/self_attention/query/kernel:0' shape=(512, 8, 64) dtype=float32>\n",
            "  <tf.Variable 'transformer/layer_1/self_attention/query/bias:0' shape=(8, 64) dtype=float32>\n",
            "  <tf.Variable 'transformer/layer_1/self_attention/key/kernel:0' shape=(512, 8, 64) dtype=float32>\n",
            "  <tf.Variable 'transformer/layer_1/self_attention/key/bias:0' shape=(8, 64) dtype=float32>\n",
            "  <tf.Variable 'transformer/layer_1/self_attention/value/kernel:0' shape=(512, 8, 64) dtype=float32>\n",
            "  <tf.Variable 'transformer/layer_1/self_attention/value/bias:0' shape=(8, 64) dtype=float32>\n",
            "  <tf.Variable 'transformer/layer_1/self_attention/attention_output/kernel:0' shape=(8, 64, 512) dtype=float32>\n",
            "  <tf.Variable 'transformer/layer_1/self_attention/attention_output/bias:0' shape=(512,) dtype=float32>\n",
            "  <tf.Variable 'transformer/layer_1/self_attention_layer_norm/gamma:0' shape=(512,) dtype=float32>\n",
            "  <tf.Variable 'transformer/layer_1/self_attention_layer_norm/beta:0' shape=(512,) dtype=float32>\n",
            "  <tf.Variable 'transformer/layer_1/intermediate/kernel:0' shape=(512, 2048) dtype=float32>\n",
            "  <tf.Variable 'transformer/layer_1/intermediate/bias:0' shape=(2048,) dtype=float32>\n",
            "  <tf.Variable 'transformer/layer_1/output/kernel:0' shape=(2048, 512) dtype=float32>\n",
            "  <tf.Variable 'transformer/layer_1/output/bias:0' shape=(512,) dtype=float32>\n",
            "  <tf.Variable 'transformer/layer_1/output_layer_norm/gamma:0' shape=(512,) dtype=float32>\n",
            "  <tf.Variable 'transformer/layer_1/output_layer_norm/beta:0' shape=(512,) dtype=float32>\n",
            "  <tf.Variable 'transformer/layer_2/self_attention/query/kernel:0' shape=(512, 8, 64) dtype=float32>\n",
            "  <tf.Variable 'transformer/layer_2/self_attention/query/bias:0' shape=(8, 64) dtype=float32>\n",
            "  <tf.Variable 'transformer/layer_2/self_attention/key/kernel:0' shape=(512, 8, 64) dtype=float32>\n",
            "  <tf.Variable 'transformer/layer_2/self_attention/key/bias:0' shape=(8, 64) dtype=float32>\n",
            "  <tf.Variable 'transformer/layer_2/self_attention/value/kernel:0' shape=(512, 8, 64) dtype=float32>\n",
            "  <tf.Variable 'transformer/layer_2/self_attention/value/bias:0' shape=(8, 64) dtype=float32>\n",
            "  <tf.Variable 'transformer/layer_2/self_attention/attention_output/kernel:0' shape=(8, 64, 512) dtype=float32>\n",
            "  <tf.Variable 'transformer/layer_2/self_attention/attention_output/bias:0' shape=(512,) dtype=float32>\n",
            "  <tf.Variable 'transformer/layer_2/self_attention_layer_norm/gamma:0' shape=(512,) dtype=float32>\n",
            "  <tf.Variable 'transformer/layer_2/self_attention_layer_norm/beta:0' shape=(512,) dtype=float32>\n",
            "  <tf.Variable 'transformer/layer_2/intermediate/kernel:0' shape=(512, 2048) dtype=float32>\n",
            "  <tf.Variable 'transformer/layer_2/intermediate/bias:0' shape=(2048,) dtype=float32>\n",
            "  <tf.Variable 'transformer/layer_2/output/kernel:0' shape=(2048, 512) dtype=float32>\n",
            "  <tf.Variable 'transformer/layer_2/output/bias:0' shape=(512,) dtype=float32>\n",
            "  <tf.Variable 'transformer/layer_2/output_layer_norm/gamma:0' shape=(512,) dtype=float32>\n",
            "  <tf.Variable 'transformer/layer_2/output_layer_norm/beta:0' shape=(512,) dtype=float32>\n",
            "  <tf.Variable 'transformer/layer_3/self_attention/query/kernel:0' shape=(512, 8, 64) dtype=float32>\n",
            "  <tf.Variable 'transformer/layer_3/self_attention/query/bias:0' shape=(8, 64) dtype=float32>\n",
            "  <tf.Variable 'transformer/layer_3/self_attention/key/kernel:0' shape=(512, 8, 64) dtype=float32>\n",
            "  <tf.Variable 'transformer/layer_3/self_attention/key/bias:0' shape=(8, 64) dtype=float32>\n",
            "  <tf.Variable 'transformer/layer_3/self_attention/value/kernel:0' shape=(512, 8, 64) dtype=float32>\n",
            "  <tf.Variable 'transformer/layer_3/self_attention/value/bias:0' shape=(8, 64) dtype=float32>\n",
            "  <tf.Variable 'transformer/layer_3/self_attention/attention_output/kernel:0' shape=(8, 64, 512) dtype=float32>\n",
            "  <tf.Variable 'transformer/layer_3/self_attention/attention_output/bias:0' shape=(512,) dtype=float32>\n",
            "  <tf.Variable 'transformer/layer_3/self_attention_layer_norm/gamma:0' shape=(512,) dtype=float32>\n",
            "  <tf.Variable 'transformer/layer_3/self_attention_layer_norm/beta:0' shape=(512,) dtype=float32>\n",
            "  <tf.Variable 'transformer/layer_3/intermediate/kernel:0' shape=(512, 2048) dtype=float32>\n",
            "  <tf.Variable 'transformer/layer_3/intermediate/bias:0' shape=(2048,) dtype=float32>\n",
            "  <tf.Variable 'transformer/layer_3/output/kernel:0' shape=(2048, 512) dtype=float32>\n",
            "  <tf.Variable 'transformer/layer_3/output/bias:0' shape=(512,) dtype=float32>\n",
            "  <tf.Variable 'transformer/layer_3/output_layer_norm/gamma:0' shape=(512,) dtype=float32>\n",
            "  <tf.Variable 'transformer/layer_3/output_layer_norm/beta:0' shape=(512,) dtype=float32>\n",
            "  <tf.Variable 'pooler_transform/kernel:0' shape=(512, 512) dtype=float32>\n",
            "  <tf.Variable 'pooler_transform/bias:0' shape=(512,) dtype=float32>\n",
            "It is possible that this is intended behavior, but it is more likely\n",
            "an omission. This is a strong indication that this layer should be\n",
            "formulated as a subclassed Layer rather than a Lambda layer.\n"
          ],
          "name": "stdout"
        },
        {
          "output_type": "stream",
          "text": [
            "WARNING:tensorflow:\n",
            "The following Variables were used a Lambda layer's call (lambda), but\n",
            "are not present in its tracked objects:\n",
            "  <tf.Variable 'word_embeddings/embeddings:0' shape=(30522, 512) dtype=float32>\n",
            "  <tf.Variable 'position_embedding/embeddings:0' shape=(512, 512) dtype=float32>\n",
            "  <tf.Variable 'type_embeddings/embeddings:0' shape=(2, 512) dtype=float32>\n",
            "  <tf.Variable 'embeddings/layer_norm/gamma:0' shape=(512,) dtype=float32>\n",
            "  <tf.Variable 'embeddings/layer_norm/beta:0' shape=(512,) dtype=float32>\n",
            "  <tf.Variable 'transformer/layer_0/self_attention/query/kernel:0' shape=(512, 8, 64) dtype=float32>\n",
            "  <tf.Variable 'transformer/layer_0/self_attention/query/bias:0' shape=(8, 64) dtype=float32>\n",
            "  <tf.Variable 'transformer/layer_0/self_attention/key/kernel:0' shape=(512, 8, 64) dtype=float32>\n",
            "  <tf.Variable 'transformer/layer_0/self_attention/key/bias:0' shape=(8, 64) dtype=float32>\n",
            "  <tf.Variable 'transformer/layer_0/self_attention/value/kernel:0' shape=(512, 8, 64) dtype=float32>\n",
            "  <tf.Variable 'transformer/layer_0/self_attention/value/bias:0' shape=(8, 64) dtype=float32>\n",
            "  <tf.Variable 'transformer/layer_0/self_attention/attention_output/kernel:0' shape=(8, 64, 512) dtype=float32>\n",
            "  <tf.Variable 'transformer/layer_0/self_attention/attention_output/bias:0' shape=(512,) dtype=float32>\n",
            "  <tf.Variable 'transformer/layer_0/self_attention_layer_norm/gamma:0' shape=(512,) dtype=float32>\n",
            "  <tf.Variable 'transformer/layer_0/self_attention_layer_norm/beta:0' shape=(512,) dtype=float32>\n",
            "  <tf.Variable 'transformer/layer_0/intermediate/kernel:0' shape=(512, 2048) dtype=float32>\n",
            "  <tf.Variable 'transformer/layer_0/intermediate/bias:0' shape=(2048,) dtype=float32>\n",
            "  <tf.Variable 'transformer/layer_0/output/kernel:0' shape=(2048, 512) dtype=float32>\n",
            "  <tf.Variable 'transformer/layer_0/output/bias:0' shape=(512,) dtype=float32>\n",
            "  <tf.Variable 'transformer/layer_0/output_layer_norm/gamma:0' shape=(512,) dtype=float32>\n",
            "  <tf.Variable 'transformer/layer_0/output_layer_norm/beta:0' shape=(512,) dtype=float32>\n",
            "  <tf.Variable 'transformer/layer_1/self_attention/query/kernel:0' shape=(512, 8, 64) dtype=float32>\n",
            "  <tf.Variable 'transformer/layer_1/self_attention/query/bias:0' shape=(8, 64) dtype=float32>\n",
            "  <tf.Variable 'transformer/layer_1/self_attention/key/kernel:0' shape=(512, 8, 64) dtype=float32>\n",
            "  <tf.Variable 'transformer/layer_1/self_attention/key/bias:0' shape=(8, 64) dtype=float32>\n",
            "  <tf.Variable 'transformer/layer_1/self_attention/value/kernel:0' shape=(512, 8, 64) dtype=float32>\n",
            "  <tf.Variable 'transformer/layer_1/self_attention/value/bias:0' shape=(8, 64) dtype=float32>\n",
            "  <tf.Variable 'transformer/layer_1/self_attention/attention_output/kernel:0' shape=(8, 64, 512) dtype=float32>\n",
            "  <tf.Variable 'transformer/layer_1/self_attention/attention_output/bias:0' shape=(512,) dtype=float32>\n",
            "  <tf.Variable 'transformer/layer_1/self_attention_layer_norm/gamma:0' shape=(512,) dtype=float32>\n",
            "  <tf.Variable 'transformer/layer_1/self_attention_layer_norm/beta:0' shape=(512,) dtype=float32>\n",
            "  <tf.Variable 'transformer/layer_1/intermediate/kernel:0' shape=(512, 2048) dtype=float32>\n",
            "  <tf.Variable 'transformer/layer_1/intermediate/bias:0' shape=(2048,) dtype=float32>\n",
            "  <tf.Variable 'transformer/layer_1/output/kernel:0' shape=(2048, 512) dtype=float32>\n",
            "  <tf.Variable 'transformer/layer_1/output/bias:0' shape=(512,) dtype=float32>\n",
            "  <tf.Variable 'transformer/layer_1/output_layer_norm/gamma:0' shape=(512,) dtype=float32>\n",
            "  <tf.Variable 'transformer/layer_1/output_layer_norm/beta:0' shape=(512,) dtype=float32>\n",
            "  <tf.Variable 'transformer/layer_2/self_attention/query/kernel:0' shape=(512, 8, 64) dtype=float32>\n",
            "  <tf.Variable 'transformer/layer_2/self_attention/query/bias:0' shape=(8, 64) dtype=float32>\n",
            "  <tf.Variable 'transformer/layer_2/self_attention/key/kernel:0' shape=(512, 8, 64) dtype=float32>\n",
            "  <tf.Variable 'transformer/layer_2/self_attention/key/bias:0' shape=(8, 64) dtype=float32>\n",
            "  <tf.Variable 'transformer/layer_2/self_attention/value/kernel:0' shape=(512, 8, 64) dtype=float32>\n",
            "  <tf.Variable 'transformer/layer_2/self_attention/value/bias:0' shape=(8, 64) dtype=float32>\n",
            "  <tf.Variable 'transformer/layer_2/self_attention/attention_output/kernel:0' shape=(8, 64, 512) dtype=float32>\n",
            "  <tf.Variable 'transformer/layer_2/self_attention/attention_output/bias:0' shape=(512,) dtype=float32>\n",
            "  <tf.Variable 'transformer/layer_2/self_attention_layer_norm/gamma:0' shape=(512,) dtype=float32>\n",
            "  <tf.Variable 'transformer/layer_2/self_attention_layer_norm/beta:0' shape=(512,) dtype=float32>\n",
            "  <tf.Variable 'transformer/layer_2/intermediate/kernel:0' shape=(512, 2048) dtype=float32>\n",
            "  <tf.Variable 'transformer/layer_2/intermediate/bias:0' shape=(2048,) dtype=float32>\n",
            "  <tf.Variable 'transformer/layer_2/output/kernel:0' shape=(2048, 512) dtype=float32>\n",
            "  <tf.Variable 'transformer/layer_2/output/bias:0' shape=(512,) dtype=float32>\n",
            "  <tf.Variable 'transformer/layer_2/output_layer_norm/gamma:0' shape=(512,) dtype=float32>\n",
            "  <tf.Variable 'transformer/layer_2/output_layer_norm/beta:0' shape=(512,) dtype=float32>\n",
            "  <tf.Variable 'transformer/layer_3/self_attention/query/kernel:0' shape=(512, 8, 64) dtype=float32>\n",
            "  <tf.Variable 'transformer/layer_3/self_attention/query/bias:0' shape=(8, 64) dtype=float32>\n",
            "  <tf.Variable 'transformer/layer_3/self_attention/key/kernel:0' shape=(512, 8, 64) dtype=float32>\n",
            "  <tf.Variable 'transformer/layer_3/self_attention/key/bias:0' shape=(8, 64) dtype=float32>\n",
            "  <tf.Variable 'transformer/layer_3/self_attention/value/kernel:0' shape=(512, 8, 64) dtype=float32>\n",
            "  <tf.Variable 'transformer/layer_3/self_attention/value/bias:0' shape=(8, 64) dtype=float32>\n",
            "  <tf.Variable 'transformer/layer_3/self_attention/attention_output/kernel:0' shape=(8, 64, 512) dtype=float32>\n",
            "  <tf.Variable 'transformer/layer_3/self_attention/attention_output/bias:0' shape=(512,) dtype=float32>\n",
            "  <tf.Variable 'transformer/layer_3/self_attention_layer_norm/gamma:0' shape=(512,) dtype=float32>\n",
            "  <tf.Variable 'transformer/layer_3/self_attention_layer_norm/beta:0' shape=(512,) dtype=float32>\n",
            "  <tf.Variable 'transformer/layer_3/intermediate/kernel:0' shape=(512, 2048) dtype=float32>\n",
            "  <tf.Variable 'transformer/layer_3/intermediate/bias:0' shape=(2048,) dtype=float32>\n",
            "  <tf.Variable 'transformer/layer_3/output/kernel:0' shape=(2048, 512) dtype=float32>\n",
            "  <tf.Variable 'transformer/layer_3/output/bias:0' shape=(512,) dtype=float32>\n",
            "  <tf.Variable 'transformer/layer_3/output_layer_norm/gamma:0' shape=(512,) dtype=float32>\n",
            "  <tf.Variable 'transformer/layer_3/output_layer_norm/beta:0' shape=(512,) dtype=float32>\n",
            "  <tf.Variable 'pooler_transform/kernel:0' shape=(512, 512) dtype=float32>\n",
            "  <tf.Variable 'pooler_transform/bias:0' shape=(512,) dtype=float32>\n",
            "It is possible that this is intended behavior, but it is more likely\n",
            "an omission. This is a strong indication that this layer should be\n",
            "formulated as a subclassed Layer rather than a Lambda layer.\n"
          ],
          "name": "stderr"
        }
      ]
    },
    {
      "cell_type": "code",
      "metadata": {
        "id": "doFLeyrEujrJ",
        "colab": {
          "base_uri": "https://localhost:8080/"
        },
        "outputId": "c9789bff-ea91-46ed-e331-2a24c7feee86"
      },
      "source": [
        "import numpy as np\n",
        "xtrain = np.array(xtrain).reshape(-1,1)\n",
        "xtest = np.array(xtest).reshape(-1,1)\n",
        "print(xtrain.shape)\n",
        "print(xtest.shape)"
      ],
      "execution_count": null,
      "outputs": [
        {
          "output_type": "stream",
          "text": [
            "(5452, 1)\n",
            "(500, 1)\n"
          ],
          "name": "stdout"
        }
      ]
    },
    {
      "cell_type": "code",
      "metadata": {
        "id": "be_JzeQtsMRl",
        "colab": {
          "base_uri": "https://localhost:8080/"
        },
        "outputId": "25879324-4251-4b3c-b0a1-7e8dcdcdf690"
      },
      "source": [
        "model.fit(xtrain,ytrain,epochs=4,batch_size=64,validation_data=(xtest,ytest))"
      ],
      "execution_count": null,
      "outputs": [
        {
          "output_type": "stream",
          "text": [
            "Epoch 1/4\n",
            "86/86 [==============================] - 465s 5s/step - loss: 1.0941 - accuracy: 0.5816 - val_loss: 0.8676 - val_accuracy: 0.6620\n",
            "Epoch 2/4\n",
            "86/86 [==============================] - 463s 5s/step - loss: 0.9886 - accuracy: 0.6212 - val_loss: 0.7115 - val_accuracy: 0.7800\n",
            "Epoch 3/4\n",
            "86/86 [==============================] - 464s 5s/step - loss: 0.9388 - accuracy: 0.6399 - val_loss: 0.6178 - val_accuracy: 0.7640\n",
            "Epoch 4/4\n",
            "86/86 [==============================] - 464s 5s/step - loss: 0.9144 - accuracy: 0.6517 - val_loss: 0.6001 - val_accuracy: 0.7740\n"
          ],
          "name": "stdout"
        },
        {
          "output_type": "execute_result",
          "data": {
            "text/plain": [
              "<tensorflow.python.keras.callbacks.History at 0x7f70994f9d10>"
            ]
          },
          "metadata": {
            "tags": []
          },
          "execution_count": 22
        }
      ]
    },
    {
      "cell_type": "code",
      "metadata": {
        "id": "QNu0tJaCuNsm"
      },
      "source": [
        "new_doc = [\"Who is president of United States of America?\",\"What is price for Harley Davidson?\"]\n",
        "new_doc = np.array(new_doc).reshape(-1,1)\n",
        "output = model.predict(new_doc)"
      ],
      "execution_count": null,
      "outputs": []
    },
    {
      "cell_type": "code",
      "metadata": {
        "id": "06KNi_1CxoGn",
        "colab": {
          "base_uri": "https://localhost:8080/"
        },
        "outputId": "95f520b9-e64c-418e-accb-ea4a7d48fea4"
      },
      "source": [
        "output2 = [np.argmax(i) for i in output]\n",
        "output2 = [categories[i] for i in output2]\n",
        "output2"
      ],
      "execution_count": null,
      "outputs": [
        {
          "output_type": "execute_result",
          "data": {
            "text/plain": [
              "['HUM', 'DESC']"
            ]
          },
          "metadata": {
            "tags": []
          },
          "execution_count": 25
        }
      ]
    },
    {
      "cell_type": "code",
      "metadata": {
        "id": "bfdGBvuXx3A_"
      },
      "source": [
        ""
      ],
      "execution_count": null,
      "outputs": []
    }
  ]
}