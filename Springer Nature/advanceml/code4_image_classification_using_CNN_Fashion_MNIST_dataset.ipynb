{
  "nbformat": 4,
  "nbformat_minor": 0,
  "metadata": {
    "kernelspec": {
      "display_name": "Python 3",
      "language": "python",
      "name": "python3"
    },
    "language_info": {
      "codemirror_mode": {
        "name": "ipython",
        "version": 3
      },
      "file_extension": ".py",
      "mimetype": "text/x-python",
      "name": "python",
      "nbconvert_exporter": "python",
      "pygments_lexer": "ipython3",
      "version": "3.7.4"
    },
    "latex_envs": {
      "LaTeX_envs_menu_present": true,
      "autoclose": false,
      "autocomplete": true,
      "bibliofile": "biblio.bib",
      "cite_by": "apalike",
      "current_citInitial": 1,
      "eqLabelWithNumbers": true,
      "eqNumInitial": 1,
      "hotkeys": {
        "equation": "Ctrl-E",
        "itemize": "Ctrl-I"
      },
      "labels_anchors": false,
      "latex_user_defs": false,
      "report_style_numbering": false,
      "user_envs_cfg": false
    },
    "colab": {
      "name": "code4 - image classification using CNN - Fashion MNIST dataset.ipynb",
      "provenance": []
    },
    "accelerator": "GPU"
  },
  "cells": [
    {
      "cell_type": "markdown",
      "metadata": {
        "id": "VamF270dDuiA"
      },
      "source": [
        "# Image Classification using MNIST dataset with CNN"
      ]
    },
    {
      "cell_type": "code",
      "metadata": {
        "collapsed": true,
        "colab": {
          "base_uri": "https://localhost:8080/"
        },
        "id": "b3AWay6iDuiE",
        "outputId": "c8b34fb8-5dd1-4e49-86d1-57eb54c71a20"
      },
      "source": [
        "from tensorflow.keras.datasets import fashion_mnist\n",
        "(xtrain,ytrain),(xtest,ytest) = fashion_mnist.load_data()"
      ],
      "execution_count": 1,
      "outputs": [
        {
          "output_type": "stream",
          "text": [
            "Downloading data from https://storage.googleapis.com/tensorflow/tf-keras-datasets/train-labels-idx1-ubyte.gz\n",
            "32768/29515 [=================================] - 0s 0us/step\n",
            "Downloading data from https://storage.googleapis.com/tensorflow/tf-keras-datasets/train-images-idx3-ubyte.gz\n",
            "26427392/26421880 [==============================] - 0s 0us/step\n",
            "Downloading data from https://storage.googleapis.com/tensorflow/tf-keras-datasets/t10k-labels-idx1-ubyte.gz\n",
            "8192/5148 [===============================================] - 0s 0us/step\n",
            "Downloading data from https://storage.googleapis.com/tensorflow/tf-keras-datasets/t10k-images-idx3-ubyte.gz\n",
            "4423680/4422102 [==============================] - 0s 0us/step\n"
          ],
          "name": "stdout"
        }
      ]
    },
    {
      "cell_type": "code",
      "metadata": {
        "collapsed": true,
        "colab": {
          "base_uri": "https://localhost:8080/"
        },
        "id": "qsqihv36DuiG",
        "outputId": "87396e22-5e96-4244-9fc3-16a87c446ff5"
      },
      "source": [
        "print(xtrain.shape)\n",
        "print(ytrain.shape)\n",
        "print(xtest.shape)\n",
        "print(ytest.shape)"
      ],
      "execution_count": 2,
      "outputs": [
        {
          "output_type": "stream",
          "text": [
            "(60000, 28, 28)\n",
            "(60000,)\n",
            "(10000, 28, 28)\n",
            "(10000,)\n"
          ],
          "name": "stdout"
        }
      ]
    },
    {
      "cell_type": "code",
      "metadata": {
        "id": "-YhFJzoADuiH"
      },
      "source": [
        "cnames = [\"T-shirt/top\",\"Trouser\",\"Pullover\",\"Dress\",\"Coat\",\"Sandal\",\"Shirt\",\"Sneaker\",\"Bag\",\"Ankle boot\"]"
      ],
      "execution_count": 3,
      "outputs": []
    },
    {
      "cell_type": "code",
      "metadata": {
        "id": "ooWiS3dqDuiH"
      },
      "source": [
        "import matplotlib.pyplot as plt\n",
        "import numpy as np"
      ],
      "execution_count": 4,
      "outputs": []
    },
    {
      "cell_type": "code",
      "metadata": {
        "scrolled": true,
        "colab": {
          "base_uri": "https://localhost:8080/",
          "height": 283
        },
        "id": "ksjt_MMFDuiH",
        "outputId": "2e770142-d778-4d78-a65a-9412f4e38e8f"
      },
      "source": [
        "ind=16625\n",
        "print(ytrain[ind],cnames[ytrain[ind]])\n",
        "plt.imshow(xtrain[ind],cmap='gray')\n",
        "plt.show()"
      ],
      "execution_count": 5,
      "outputs": [
        {
          "output_type": "stream",
          "text": [
            "1 Trouser\n"
          ],
          "name": "stdout"
        },
        {
          "output_type": "display_data",
          "data": {
            "image/png": "[encoded data removed]",
            "text/plain": [
              "<Figure size 432x288 with 1 Axes>"
            ]
          },
          "metadata": {
            "tags": [],
            "needs_background": "light"
          }
        }
      ]
    },
    {
      "cell_type": "markdown",
      "metadata": {
        "id": "cdLhnJskDuiI"
      },
      "source": [
        "## Data Preprocessing"
      ]
    },
    {
      "cell_type": "code",
      "metadata": {
        "id": "dxIpNYtBDuiI"
      },
      "source": [
        "# scale the images\n",
        "xtrain = xtrain/255\n",
        "xtest = xtest/255"
      ],
      "execution_count": 6,
      "outputs": []
    },
    {
      "cell_type": "code",
      "metadata": {
        "collapsed": true,
        "colab": {
          "base_uri": "https://localhost:8080/"
        },
        "id": "-tLGelDLDuiJ",
        "outputId": "2b4acf8b-440b-4b42-cc3a-45136dd22d90"
      },
      "source": [
        "# onehot encode the labels\n",
        "print(ytrain.shape)\n",
        "print(ytest.shape)"
      ],
      "execution_count": 7,
      "outputs": [
        {
          "output_type": "stream",
          "text": [
            "(60000,)\n",
            "(10000,)\n"
          ],
          "name": "stdout"
        }
      ]
    },
    {
      "cell_type": "code",
      "metadata": {
        "scrolled": true,
        "colab": {
          "base_uri": "https://localhost:8080/"
        },
        "id": "ePJ2xHLcDuiJ",
        "outputId": "c2465c9c-b038-473b-8f94-48ace560b599"
      },
      "source": [
        "ytrain"
      ],
      "execution_count": 8,
      "outputs": [
        {
          "output_type": "execute_result",
          "data": {
            "text/plain": [
              "array([9, 0, 0, ..., 3, 0, 5], dtype=uint8)"
            ]
          },
          "metadata": {
            "tags": []
          },
          "execution_count": 8
        }
      ]
    },
    {
      "cell_type": "code",
      "metadata": {
        "colab": {
          "base_uri": "https://localhost:8080/"
        },
        "id": "74bfZsgBDuiK",
        "outputId": "20355272-cdd2-4a72-bfcd-a21297f3c689"
      },
      "source": [
        "from tensorflow.keras.utils import to_categorical\n",
        "ytrain = to_categorical(ytrain)\n",
        "ytest = to_categorical(ytest)\n",
        "print(ytrain.shape)\n",
        "print(ytest.shape)"
      ],
      "execution_count": 9,
      "outputs": [
        {
          "output_type": "stream",
          "text": [
            "(60000, 10)\n",
            "(10000, 10)\n"
          ],
          "name": "stdout"
        }
      ]
    },
    {
      "cell_type": "code",
      "metadata": {
        "collapsed": true,
        "colab": {
          "base_uri": "https://localhost:8080/"
        },
        "id": "AAvJkjk1DuiK",
        "outputId": "ecdfbaaf-311b-4f08-a9fd-d7471efa940f"
      },
      "source": [
        "ytrain[:5,:]"
      ],
      "execution_count": 10,
      "outputs": [
        {
          "output_type": "execute_result",
          "data": {
            "text/plain": [
              "array([[0., 0., 0., 0., 0., 0., 0., 0., 0., 1.],\n",
              "       [1., 0., 0., 0., 0., 0., 0., 0., 0., 0.],\n",
              "       [1., 0., 0., 0., 0., 0., 0., 0., 0., 0.],\n",
              "       [0., 0., 0., 1., 0., 0., 0., 0., 0., 0.],\n",
              "       [1., 0., 0., 0., 0., 0., 0., 0., 0., 0.]], dtype=float32)"
            ]
          },
          "metadata": {
            "tags": []
          },
          "execution_count": 10
        }
      ]
    },
    {
      "cell_type": "code",
      "metadata": {
        "colab": {
          "base_uri": "https://localhost:8080/"
        },
        "id": "gHLdVGtZDuiL",
        "outputId": "236d4d4e-cd2b-45f7-9f90-0c104883cf48"
      },
      "source": [
        "print(xtrain.shape)\n",
        "print(xtest.shape)"
      ],
      "execution_count": 11,
      "outputs": [
        {
          "output_type": "stream",
          "text": [
            "(60000, 28, 28)\n",
            "(10000, 28, 28)\n"
          ],
          "name": "stdout"
        }
      ]
    },
    {
      "cell_type": "code",
      "metadata": {
        "colab": {
          "base_uri": "https://localhost:8080/"
        },
        "id": "AG2KDZ6EDuiM",
        "outputId": "a3696fa9-c659-499f-cf7f-93c51242865a"
      },
      "source": [
        "# converting images into channel format - samples,rows,cols,channel\n",
        "xtrain = xtrain.reshape(60000,28,28,1)\n",
        "xtest = xtest.reshape(10000,28,28,1)\n",
        "print(xtrain.shape)\n",
        "print(xtest.shape)"
      ],
      "execution_count": 12,
      "outputs": [
        {
          "output_type": "stream",
          "text": [
            "(60000, 28, 28, 1)\n",
            "(10000, 28, 28, 1)\n"
          ],
          "name": "stdout"
        }
      ]
    },
    {
      "cell_type": "markdown",
      "metadata": {
        "id": "T6gDo1XZDuiN"
      },
      "source": [
        "## Modelling the Convolutional Neural Network"
      ]
    },
    {
      "cell_type": "markdown",
      "metadata": {
        "id": "knb39hVtDuiN"
      },
      "source": [
        "<img src=\"https://miro.medium.com/max/2625/1*1TI1aGBZ4dybR6__DI9dzA.png\">"
      ]
    },
    {
      "cell_type": "code",
      "metadata": {
        "id": "Aos5cgQ4DuiN"
      },
      "source": [
        "from tensorflow.keras import models,layers"
      ],
      "execution_count": 13,
      "outputs": []
    },
    {
      "cell_type": "code",
      "metadata": {
        "id": "zOijxAFPDuiN"
      },
      "source": [
        "# input layer, we need to mention shape of imput data excluding the sample size\n",
        "input_layer = layers.Input(shape=(28,28,1))\n",
        "\n",
        "#################################################################################\n",
        "# Feature Extraction Section\n",
        "# first convolutional layer with 6 filters of size 3x3 each\n",
        "c1 = layers.Conv2D(filters=6,kernel_size=(3,3),activation='relu')(input_layer)\n",
        "\n",
        "# add a maxpooling layer\n",
        "p1 = layers.MaxPooling2D()(c1)\n",
        "\n",
        "# second convolutional layer with 16 filters of size 3x3 each\n",
        "c2 = layers.Conv2D(filters=16,kernel_size=(3,3),activation='relu')(p1)\n",
        "\n",
        "# add a maxpooling layer\n",
        "p2 = layers.MaxPooling2D(pool_size=(2,2))(c2)\n",
        "\n",
        "#####################################################################################\n",
        "# using a flatten layer to convert the image from 2D array to 1D array -> 28x28 -->> 784x1\n",
        "flatten = layers.Flatten()(p2)\n",
        "\n",
        "# add the first hidden layer - for computaional layers  dense layer\n",
        "h1 = layers.Dense(128,activation='relu')(flatten)\n",
        "\n",
        "# add the next hidden layer\n",
        "h2 = layers.Dense(84,activation='relu')(h1)\n",
        "\n",
        "# add the output layer\n",
        "output_layer = layers.Dense(10,activation='softmax')(h2)\n",
        "model = models.Model(inputs=input_layer,outputs=output_layer)"
      ],
      "execution_count": 14,
      "outputs": []
    },
    {
      "cell_type": "code",
      "metadata": {
        "id": "qQx66xUHKq6Z"
      },
      "source": [
        "# input layer, we need to mention shape of imput data excluding the sample size\n",
        "input_layer = layers.Input(shape=(28,28,1))\n",
        "\n",
        "#################################################################################\n",
        "# Feature Extraction Section\n",
        "# first convolutional layer with 10 filters of size 3x3 each\n",
        "c1 = layers.Conv2D(filters=10,kernel_size=(3,3),activation='relu',padding='same')(input_layer)\n",
        "\n",
        "# second convolutional layer with 30 filters of size 3x3 each\n",
        "c2 = layers.Conv2D(filters=30,kernel_size=(3,3),activation='relu')(c1)\n",
        "\n",
        "# add a maxpooling layer\n",
        "p1 = layers.MaxPooling2D()(c2)\n",
        "\n",
        "# third conv layer\n",
        "c3 = layers.Conv2D(filters=45,kernel_size=(3,3),activation='relu')(p1)\n",
        "\n",
        "# fourth conv layer\n",
        "c4 = layers.Conv2D(filters=60,kernel_size=(3,3),activation='relu')(c3)\n",
        "\n",
        "#####################################################################################\n",
        "# using a flatten layer to convert the image from 2D array to 1D array -> 28x28 -->> 784x1\n",
        "flatten = layers.Flatten()(c4)\n",
        "\n",
        "# add the first hidden layer - for computaional layers  dense layer\n",
        "h1 = layers.Dense(128,activation='relu')(flatten)\n",
        "\n",
        "# add the next hidden layer\n",
        "h2 = layers.Dense(84,activation='relu')(h1)\n",
        "\n",
        "# add the output layer\n",
        "output_layer = layers.Dense(10,activation='softmax')(h2)\n",
        "model = models.Model(inputs=input_layer,outputs=output_layer)"
      ],
      "execution_count": 64,
      "outputs": []
    },
    {
      "cell_type": "code",
      "metadata": {
        "colab": {
          "base_uri": "https://localhost:8080/"
        },
        "id": "Dqd8ZmVzDuiO",
        "outputId": "1f9403ec-6b29-445c-cc69-55d479d6b4ed"
      },
      "source": [
        "model.summary()"
      ],
      "execution_count": 65,
      "outputs": [
        {
          "output_type": "stream",
          "text": [
            "Model: \"model_6\"\n",
            "_________________________________________________________________\n",
            "Layer (type)                 Output Shape              Param #   \n",
            "=================================================================\n",
            "input_6 (InputLayer)         [(None, 28, 28, 1)]       0         \n",
            "_________________________________________________________________\n",
            "conv2d_17 (Conv2D)           (None, 28, 28, 10)        100       \n",
            "_________________________________________________________________\n",
            "conv2d_18 (Conv2D)           (None, 26, 26, 30)        2730      \n",
            "_________________________________________________________________\n",
            "max_pooling2d_6 (MaxPooling2 (None, 13, 13, 30)        0         \n",
            "_________________________________________________________________\n",
            "conv2d_19 (Conv2D)           (None, 11, 11, 45)        12195     \n",
            "_________________________________________________________________\n",
            "conv2d_20 (Conv2D)           (None, 9, 9, 60)          24360     \n",
            "_________________________________________________________________\n",
            "flatten_5 (Flatten)          (None, 4860)              0         \n",
            "_________________________________________________________________\n",
            "dense_15 (Dense)             (None, 128)               622208    \n",
            "_________________________________________________________________\n",
            "dense_16 (Dense)             (None, 84)                10836     \n",
            "_________________________________________________________________\n",
            "dense_17 (Dense)             (None, 10)                850       \n",
            "=================================================================\n",
            "Total params: 673,279\n",
            "Trainable params: 673,279\n",
            "Non-trainable params: 0\n",
            "_________________________________________________________________\n"
          ],
          "name": "stdout"
        }
      ]
    },
    {
      "cell_type": "code",
      "metadata": {
        "colab": {
          "base_uri": "https://localhost:8080/"
        },
        "id": "on86hibNDuiO",
        "outputId": "32680bad-bbae-4244-cd2a-192186098c0f"
      },
      "source": [
        "model.compile(optimizer='adam',loss='categorical_crossentropy',metrics=['accuracy'])\n",
        "model.fit(xtrain,ytrain,epochs=10,batch_size=2000,shuffle=True,validation_data=(xtest,ytest),verbose=True)"
      ],
      "execution_count": 41,
      "outputs": [
        {
          "output_type": "stream",
          "text": [
            "Epoch 1/10\n",
            "30/30 [==============================] - 3s 51ms/step - loss: 0.3366 - accuracy: 0.8803 - val_loss: 0.2945 - val_accuracy: 0.8936\n",
            "Epoch 2/10\n",
            "30/30 [==============================] - 1s 47ms/step - loss: 0.2428 - accuracy: 0.9110 - val_loss: 0.2725 - val_accuracy: 0.9005\n",
            "Epoch 3/10\n",
            "30/30 [==============================] - 1s 49ms/step - loss: 0.2284 - accuracy: 0.9153 - val_loss: 0.2709 - val_accuracy: 0.9008\n",
            "Epoch 4/10\n",
            "30/30 [==============================] - 1s 47ms/step - loss: 0.2190 - accuracy: 0.9195 - val_loss: 0.2629 - val_accuracy: 0.9047\n",
            "Epoch 5/10\n",
            "30/30 [==============================] - 1s 47ms/step - loss: 0.2120 - accuracy: 0.9215 - val_loss: 0.2604 - val_accuracy: 0.9044\n",
            "Epoch 6/10\n",
            "30/30 [==============================] - 1s 47ms/step - loss: 0.2041 - accuracy: 0.9251 - val_loss: 0.2634 - val_accuracy: 0.9036\n",
            "Epoch 7/10\n",
            "30/30 [==============================] - 1s 47ms/step - loss: 0.1969 - accuracy: 0.9273 - val_loss: 0.2523 - val_accuracy: 0.9093\n",
            "Epoch 8/10\n",
            "30/30 [==============================] - 1s 48ms/step - loss: 0.1896 - accuracy: 0.9298 - val_loss: 0.2565 - val_accuracy: 0.9076\n",
            "Epoch 9/10\n",
            "30/30 [==============================] - 1s 47ms/step - loss: 0.1886 - accuracy: 0.9301 - val_loss: 0.2450 - val_accuracy: 0.9132\n",
            "Epoch 10/10\n",
            "30/30 [==============================] - 1s 47ms/step - loss: 0.1765 - accuracy: 0.9358 - val_loss: 0.2497 - val_accuracy: 0.9141\n"
          ],
          "name": "stdout"
        },
        {
          "output_type": "execute_result",
          "data": {
            "text/plain": [
              "<tensorflow.python.keras.callbacks.History at 0x7fdb8c61f8d0>"
            ]
          },
          "metadata": {
            "tags": []
          },
          "execution_count": 41
        }
      ]
    },
    {
      "cell_type": "code",
      "metadata": {
        "collapsed": true,
        "colab": {
          "base_uri": "https://localhost:8080/",
          "height": 265
        },
        "id": "CuW6k6TiDuiP",
        "outputId": "2a910d15-b244-4183-a465-9551c7082237"
      },
      "source": [
        "plt.imshow(xtest[60].reshape(28,28),cmap='gray')\n",
        "plt.show()"
      ],
      "execution_count": 18,
      "outputs": [
        {
          "output_type": "display_data",
          "data": {
            "image/png": "[encoded data removed]",
            "text/plain": [
              "<Figure size 432x288 with 1 Axes>"
            ]
          },
          "metadata": {
            "tags": [],
            "needs_background": "light"
          }
        }
      ]
    },
    {
      "cell_type": "code",
      "metadata": {
        "colab": {
          "base_uri": "https://localhost:8080/"
        },
        "id": "RYoc2FeEDuiP",
        "outputId": "ecb7d49a-ab59-4885-ad22-2d7923950ca1"
      },
      "source": [
        "xtest[56].shape"
      ],
      "execution_count": 19,
      "outputs": [
        {
          "output_type": "execute_result",
          "data": {
            "text/plain": [
              "(28, 28, 1)"
            ]
          },
          "metadata": {
            "tags": []
          },
          "execution_count": 19
        }
      ]
    },
    {
      "cell_type": "code",
      "metadata": {
        "colab": {
          "base_uri": "https://localhost:8080/"
        },
        "id": "6DgDiReKDuiP",
        "outputId": "906d1f37-f706-49f7-861a-ee3067053ff7"
      },
      "source": [
        "prediction = model.predict(xtest[60].reshape(1,28,28))\n",
        "print(prediction)\n",
        "\n",
        "pred = np.argmax(prediction)\n",
        "print(pred,cnames[pred])"
      ],
      "execution_count": 20,
      "outputs": [
        {
          "output_type": "stream",
          "text": [
            "[[1.8485678e-05 1.3526434e-07 6.9596526e-06 1.4835942e-06 4.4121155e-08\n",
            "  1.6132456e-03 4.4926387e-07 9.9742317e-01 3.9975625e-04 5.3622545e-04]]\n",
            "7 Sneaker\n"
          ],
          "name": "stdout"
        }
      ]
    },
    {
      "cell_type": "code",
      "metadata": {
        "colab": {
          "base_uri": "https://localhost:8080/"
        },
        "id": "F0jvjvluDuiQ",
        "outputId": "45282966-9daf-4225-e08e-e748321f37dc"
      },
      "source": [
        "ypred = model.predict(xtest)\n",
        "ypred = [np.argmax(i) for i in ypred]\n",
        "ytest2 = [np.argmax(i) for i in ytest]\n",
        "\n",
        "from sklearn import metrics\n",
        "print(metrics.classification_report(ytest2,ypred))"
      ],
      "execution_count": 39,
      "outputs": [
        {
          "output_type": "stream",
          "text": [
            "              precision    recall  f1-score   support\n",
            "\n",
            "           0       0.84      0.86      0.85      1000\n",
            "           1       0.97      0.99      0.98      1000\n",
            "           2       0.84      0.83      0.84      1000\n",
            "           3       0.92      0.86      0.89      1000\n",
            "           4       0.79      0.88      0.83      1000\n",
            "           5       0.98      0.98      0.98      1000\n",
            "           6       0.74      0.67      0.70      1000\n",
            "           7       0.94      0.97      0.96      1000\n",
            "           8       0.98      0.97      0.98      1000\n",
            "           9       0.97      0.95      0.96      1000\n",
            "\n",
            "    accuracy                           0.90     10000\n",
            "   macro avg       0.90      0.90      0.90     10000\n",
            "weighted avg       0.90      0.90      0.90     10000\n",
            "\n"
          ],
          "name": "stdout"
        }
      ]
    },
    {
      "cell_type": "code",
      "metadata": {
        "colab": {
          "base_uri": "https://localhost:8080/",
          "height": 355
        },
        "id": "cypBZKUHDuiQ",
        "outputId": "2483c8d4-a0a6-49cf-9f61-b3b677911766"
      },
      "source": [
        "import pandas as pd\n",
        "pd.DataFrame(metrics.confusion_matrix(ytest2,ypred),columns=cnames,index=cnames)"
      ],
      "execution_count": 40,
      "outputs": [
        {
          "output_type": "execute_result",
          "data": {
            "text/html": [
              "<div>\n",
              "<style scoped>\n",
              "    .dataframe tbody tr th:only-of-type {\n",
              "        vertical-align: middle;\n",
              "    }\n",
              "\n",
              "    .dataframe tbody tr th {\n",
              "        vertical-align: top;\n",
              "    }\n",
              "\n",
              "    .dataframe thead th {\n",
              "        text-align: right;\n",
              "    }\n",
              "</style>\n",
              "<table border=\"1\" class=\"dataframe\">\n",
              "  <thead>\n",
              "    <tr style=\"text-align: right;\">\n",
              "      <th></th>\n",
              "      <th>T-shirt/top</th>\n",
              "      <th>Trouser</th>\n",
              "      <th>Pullover</th>\n",
              "      <th>Dress</th>\n",
              "      <th>Coat</th>\n",
              "      <th>Sandal</th>\n",
              "      <th>Shirt</th>\n",
              "      <th>Sneaker</th>\n",
              "      <th>Bag</th>\n",
              "      <th>Ankle boot</th>\n",
              "    </tr>\n",
              "  </thead>\n",
              "  <tbody>\n",
              "    <tr>\n",
              "      <th>T-shirt/top</th>\n",
              "      <td>863</td>\n",
              "      <td>1</td>\n",
              "      <td>21</td>\n",
              "      <td>20</td>\n",
              "      <td>7</td>\n",
              "      <td>1</td>\n",
              "      <td>78</td>\n",
              "      <td>0</td>\n",
              "      <td>9</td>\n",
              "      <td>0</td>\n",
              "    </tr>\n",
              "    <tr>\n",
              "      <th>Trouser</th>\n",
              "      <td>0</td>\n",
              "      <td>986</td>\n",
              "      <td>0</td>\n",
              "      <td>6</td>\n",
              "      <td>3</td>\n",
              "      <td>0</td>\n",
              "      <td>5</td>\n",
              "      <td>0</td>\n",
              "      <td>0</td>\n",
              "      <td>0</td>\n",
              "    </tr>\n",
              "    <tr>\n",
              "      <th>Pullover</th>\n",
              "      <td>16</td>\n",
              "      <td>0</td>\n",
              "      <td>835</td>\n",
              "      <td>7</td>\n",
              "      <td>80</td>\n",
              "      <td>0</td>\n",
              "      <td>62</td>\n",
              "      <td>0</td>\n",
              "      <td>0</td>\n",
              "      <td>0</td>\n",
              "    </tr>\n",
              "    <tr>\n",
              "      <th>Dress</th>\n",
              "      <td>12</td>\n",
              "      <td>23</td>\n",
              "      <td>14</td>\n",
              "      <td>862</td>\n",
              "      <td>56</td>\n",
              "      <td>0</td>\n",
              "      <td>31</td>\n",
              "      <td>0</td>\n",
              "      <td>1</td>\n",
              "      <td>1</td>\n",
              "    </tr>\n",
              "    <tr>\n",
              "      <th>Coat</th>\n",
              "      <td>0</td>\n",
              "      <td>1</td>\n",
              "      <td>39</td>\n",
              "      <td>14</td>\n",
              "      <td>884</td>\n",
              "      <td>0</td>\n",
              "      <td>62</td>\n",
              "      <td>0</td>\n",
              "      <td>0</td>\n",
              "      <td>0</td>\n",
              "    </tr>\n",
              "    <tr>\n",
              "      <th>Sandal</th>\n",
              "      <td>0</td>\n",
              "      <td>0</td>\n",
              "      <td>0</td>\n",
              "      <td>1</td>\n",
              "      <td>0</td>\n",
              "      <td>979</td>\n",
              "      <td>0</td>\n",
              "      <td>13</td>\n",
              "      <td>0</td>\n",
              "      <td>7</td>\n",
              "    </tr>\n",
              "    <tr>\n",
              "      <th>Shirt</th>\n",
              "      <td>134</td>\n",
              "      <td>4</td>\n",
              "      <td>72</td>\n",
              "      <td>19</td>\n",
              "      <td>91</td>\n",
              "      <td>0</td>\n",
              "      <td>673</td>\n",
              "      <td>0</td>\n",
              "      <td>7</td>\n",
              "      <td>0</td>\n",
              "    </tr>\n",
              "    <tr>\n",
              "      <th>Sneaker</th>\n",
              "      <td>0</td>\n",
              "      <td>0</td>\n",
              "      <td>0</td>\n",
              "      <td>0</td>\n",
              "      <td>0</td>\n",
              "      <td>10</td>\n",
              "      <td>0</td>\n",
              "      <td>974</td>\n",
              "      <td>0</td>\n",
              "      <td>16</td>\n",
              "    </tr>\n",
              "    <tr>\n",
              "      <th>Bag</th>\n",
              "      <td>2</td>\n",
              "      <td>1</td>\n",
              "      <td>8</td>\n",
              "      <td>4</td>\n",
              "      <td>5</td>\n",
              "      <td>2</td>\n",
              "      <td>2</td>\n",
              "      <td>3</td>\n",
              "      <td>972</td>\n",
              "      <td>1</td>\n",
              "    </tr>\n",
              "    <tr>\n",
              "      <th>Ankle boot</th>\n",
              "      <td>0</td>\n",
              "      <td>0</td>\n",
              "      <td>0</td>\n",
              "      <td>0</td>\n",
              "      <td>0</td>\n",
              "      <td>6</td>\n",
              "      <td>0</td>\n",
              "      <td>41</td>\n",
              "      <td>0</td>\n",
              "      <td>953</td>\n",
              "    </tr>\n",
              "  </tbody>\n",
              "</table>\n",
              "</div>"
            ],
            "text/plain": [
              "             T-shirt/top  Trouser  Pullover  ...  Sneaker  Bag  Ankle boot\n",
              "T-shirt/top          863        1        21  ...        0    9           0\n",
              "Trouser                0      986         0  ...        0    0           0\n",
              "Pullover              16        0       835  ...        0    0           0\n",
              "Dress                 12       23        14  ...        0    1           1\n",
              "Coat                   0        1        39  ...        0    0           0\n",
              "Sandal                 0        0         0  ...       13    0           7\n",
              "Shirt                134        4        72  ...        0    7           0\n",
              "Sneaker                0        0         0  ...      974    0          16\n",
              "Bag                    2        1         8  ...        3  972           1\n",
              "Ankle boot             0        0         0  ...       41    0         953\n",
              "\n",
              "[10 rows x 10 columns]"
            ]
          },
          "metadata": {
            "tags": []
          },
          "execution_count": 40
        }
      ]
    },
    {
      "cell_type": "code",
      "metadata": {
        "id": "d3Hg5wh8GSGk"
      },
      "source": [
        ""
      ],
      "execution_count": null,
      "outputs": []
    },
    {
      "cell_type": "markdown",
      "metadata": {
        "id": "A3s_mRRePd6B"
      },
      "source": [
        "## Exploring a trained CNN"
      ]
    },
    {
      "cell_type": "code",
      "metadata": {
        "colab": {
          "base_uri": "https://localhost:8080/"
        },
        "id": "o4dvuesWPgA7",
        "outputId": "d4a2af51-581a-43ef-e016-86fff215f3a8"
      },
      "source": [
        "model2 = models.Model(inputs=input_layer,outputs=c1)\n",
        "model2.summary()"
      ],
      "execution_count": 42,
      "outputs": [
        {
          "output_type": "stream",
          "text": [
            "Model: \"model_5\"\n",
            "_________________________________________________________________\n",
            "Layer (type)                 Output Shape              Param #   \n",
            "=================================================================\n",
            "input_5 (InputLayer)         [(None, 28, 28, 1)]       0         \n",
            "_________________________________________________________________\n",
            "conv2d_13 (Conv2D)           (None, 26, 26, 10)        100       \n",
            "=================================================================\n",
            "Total params: 100\n",
            "Trainable params: 100\n",
            "Non-trainable params: 0\n",
            "_________________________________________________________________\n"
          ],
          "name": "stdout"
        }
      ]
    },
    {
      "cell_type": "code",
      "metadata": {
        "colab": {
          "base_uri": "https://localhost:8080/"
        },
        "id": "zRpJrj00Po8z",
        "outputId": "bda8648e-7696-474f-e3fc-2011e5666280"
      },
      "source": [
        "len(model.weights)"
      ],
      "execution_count": 44,
      "outputs": [
        {
          "output_type": "execute_result",
          "data": {
            "text/plain": [
              "14"
            ]
          },
          "metadata": {
            "tags": []
          },
          "execution_count": 44
        }
      ]
    },
    {
      "cell_type": "code",
      "metadata": {
        "colab": {
          "base_uri": "https://localhost:8080/"
        },
        "id": "HX9X0xz5Pzw8",
        "outputId": "98dd3cc0-82d0-4fe4-a172-29148280c26d"
      },
      "source": [
        "model.weights[0].shape"
      ],
      "execution_count": 45,
      "outputs": [
        {
          "output_type": "execute_result",
          "data": {
            "text/plain": [
              "TensorShape([3, 3, 1, 10])"
            ]
          },
          "metadata": {
            "tags": []
          },
          "execution_count": 45
        }
      ]
    },
    {
      "cell_type": "code",
      "metadata": {
        "id": "K48BR91gP6Ry"
      },
      "source": [
        "filters_c1 = model.weights[0].numpy()"
      ],
      "execution_count": 55,
      "outputs": []
    },
    {
      "cell_type": "code",
      "metadata": {
        "colab": {
          "base_uri": "https://localhost:8080/"
        },
        "id": "dT4UBrhFQ2b8",
        "outputId": "46c08849-237c-4b75-c994-6d5117d5961e"
      },
      "source": [
        "type(filters_c1.numpy())"
      ],
      "execution_count": 54,
      "outputs": [
        {
          "output_type": "execute_result",
          "data": {
            "text/plain": [
              "numpy.ndarray"
            ]
          },
          "metadata": {
            "tags": []
          },
          "execution_count": 54
        }
      ]
    },
    {
      "cell_type": "code",
      "metadata": {
        "colab": {
          "base_uri": "https://localhost:8080/",
          "height": 283
        },
        "id": "btVFSw-qQCXC",
        "outputId": "863ab13f-6b1c-4b43-8761-494e2b330d75"
      },
      "source": [
        "plt.imshow(xtest[200].reshape(28,28),cmap='gray')"
      ],
      "execution_count": 61,
      "outputs": [
        {
          "output_type": "execute_result",
          "data": {
            "text/plain": [
              "<matplotlib.image.AxesImage at 0x7fdb2361d850>"
            ]
          },
          "metadata": {
            "tags": []
          },
          "execution_count": 61
        },
        {
          "output_type": "display_data",
          "data": {
            "image/png": "[encoded data removed]",
            "text/plain": [
              "<Figure size 432x288 with 1 Axes>"
            ]
          },
          "metadata": {
            "tags": [],
            "needs_background": "light"
          }
        }
      ]
    },
    {
      "cell_type": "code",
      "metadata": {
        "colab": {
          "base_uri": "https://localhost:8080/"
        },
        "id": "mPj2Wm4pQJUC",
        "outputId": "96dc9ad7-893a-4868-8e02-80c275b0f0ca"
      },
      "source": [
        "fmap = model2.predict(xtest[200].reshape(1,28,28,1))\n",
        "fmap.shape"
      ],
      "execution_count": 62,
      "outputs": [
        {
          "output_type": "execute_result",
          "data": {
            "text/plain": [
              "(1, 26, 26, 10)"
            ]
          },
          "metadata": {
            "tags": []
          },
          "execution_count": 62
        }
      ]
    },
    {
      "cell_type": "code",
      "metadata": {
        "colab": {
          "base_uri": "https://localhost:8080/",
          "height": 1000
        },
        "id": "iOnaDO7-QTJq",
        "outputId": "d030dc42-86c8-4e09-b20b-add488666e13"
      },
      "source": [
        "for i in range(10):\n",
        "  plt.subplot(131)\n",
        "  plt.imshow(xtest[200].reshape(28,28),cmap='gray')\n",
        "  plt.subplot(132)\n",
        "  plt.imshow(filters_c1[:,:,:,i].reshape(3,3),cmap='gray')\n",
        "  plt.subplot(133)\n",
        "  plt.imshow(fmap[:,:,:,i].reshape(26,26),cmap='gray')\n",
        "  plt.show()"
      ],
      "execution_count": 63,
      "outputs": [
        {
          "output_type": "display_data",
          "data": {
            "image/png": "[encoded data removed]",
            "text/plain": [
              "<Figure size 432x288 with 3 Axes>"
            ]
          },
          "metadata": {
            "tags": [],
            "needs_background": "light"
          }
        },
        {
          "output_type": "display_data",
          "data": {
            "image/png": "[encoded data removed]",
            "text/plain": [
              "<Figure size 432x288 with 3 Axes>"
            ]
          },
          "metadata": {
            "tags": [],
            "needs_background": "light"
          }
        },
        {
          "output_type": "display_data",
          "data": {
            "image/png": "[encoded data removed]",
            "text/plain": [
              "<Figure size 432x288 with 3 Axes>"
            ]
          },
          "metadata": {
            "tags": [],
            "needs_background": "light"
          }
        },
        {
          "output_type": "display_data",
          "data": {
            "image/png": "[encoded data removed]",
            "text/plain": [
              "<Figure size 432x288 with 3 Axes>"
            ]
          },
          "metadata": {
            "tags": [],
            "needs_background": "light"
          }
        },
        {
          "output_type": "display_data",
          "data": {
            "image/png": "[encoded data removed]",
            "text/plain": [
              "<Figure size 432x288 with 3 Axes>"
            ]
          },
          "metadata": {
            "tags": [],
            "needs_background": "light"
          }
        },
        {
          "output_type": "display_data",
          "data": {
            "image/png": "[encoded data removed]",
            "text/plain": [
              "<Figure size 432x288 with 3 Axes>"
            ]
          },
          "metadata": {
            "tags": [],
            "needs_background": "light"
          }
        },
        {
          "output_type": "display_data",
          "data": {
            "image/png": "[encoded data removed]",
            "text/plain": [
              "<Figure size 432x288 with 3 Axes>"
            ]
          },
          "metadata": {
            "tags": [],
            "needs_background": "light"
          }
        },
        {
          "output_type": "display_data",
          "data": {
            "image/png": "[encoded data removed]",
            "text/plain": [
              "<Figure size 432x288 with 3 Axes>"
            ]
          },
          "metadata": {
            "tags": [],
            "needs_background": "light"
          }
        },
        {
          "output_type": "display_data",
          "data": {
            "image/png": "[encoded data removed]",
            "text/plain": [
              "<Figure size 432x288 with 3 Axes>"
            ]
          },
          "metadata": {
            "tags": [],
            "needs_background": "light"
          }
        },
        {
          "output_type": "display_data",
          "data": {
            "image/png": "[encoded data removed]",
            "text/plain": [
              "<Figure size 432x288 with 3 Axes>"
            ]
          },
          "metadata": {
            "tags": [],
            "needs_background": "light"
          }
        }
      ]
    },
    {
      "cell_type": "code",
      "metadata": {
        "id": "WQjqqy57QyAP"
      },
      "source": [
        ""
      ],
      "execution_count": null,
      "outputs": []
    }
  ]
}