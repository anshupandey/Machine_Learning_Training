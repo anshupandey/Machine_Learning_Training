{
 "cells": [
  {
   "cell_type": "code",
   "execution_count": 2,
   "metadata": {},
   "outputs": [],
   "source": [
    "import numpy as np\n",
    "import matplotlib.pyplot as plt\n",
    "from tensorflow.keras.preprocessing import image\n",
    "from tensorflow.keras.utils import to_categorical\n",
    "import os"
   ]
  },
  {
   "cell_type": "markdown",
   "metadata": {},
   "source": [
    "## Data Preparation"
   ]
  },
  {
   "cell_type": "code",
   "execution_count": 30,
   "metadata": {},
   "outputs": [],
   "source": [
    "dataget = image.ImageDataGenerator(rotation_range=30,\n",
    "                                   brightness_range=(0.2,0.4),\n",
    "                                   zoom_range=0.2,horizontal_flip=True,\n",
    "                                   vertical_flip=True,rescale=1.0/255.0,\n",
    "                                   shear_range=0.1,\n",
    "                                   validation_split=0.2\n",
    "                                  )"
   ]
  },
  {
   "cell_type": "code",
   "execution_count": 31,
   "metadata": {},
   "outputs": [
    {
     "name": "stdout",
     "output_type": "stream",
     "text": [
      "Found 606 images belonging to 3 classes.\n"
     ]
    }
   ],
   "source": [
    "generator = dataget.flow_from_directory(r\"E:\\image_data\\data\\\\\",\n",
    "                                       target_size=(100, 100),\n",
    "                                       batch_size=32,shuffle=True)"
   ]
  },
  {
   "cell_type": "markdown",
   "metadata": {},
   "source": [
    "## Modelling"
   ]
  },
  {
   "cell_type": "code",
   "execution_count": 32,
   "metadata": {},
   "outputs": [],
   "source": [
    "from tensorflow.keras import models,layers"
   ]
  },
  {
   "cell_type": "code",
   "execution_count": 33,
   "metadata": {},
   "outputs": [
    {
     "name": "stdout",
     "output_type": "stream",
     "text": [
      "Model: \"model_3\"\n",
      "_________________________________________________________________\n",
      "Layer (type)                 Output Shape              Param #   \n",
      "=================================================================\n",
      "input_4 (InputLayer)         [(None, 100, 100, 3)]     0         \n",
      "_________________________________________________________________\n",
      "conv2d_12 (Conv2D)           (None, 98, 98, 24)        672       \n",
      "_________________________________________________________________\n",
      "conv2d_13 (Conv2D)           (None, 96, 96, 36)        7812      \n",
      "_________________________________________________________________\n",
      "max_pooling2d_6 (MaxPooling2 (None, 48, 48, 36)        0         \n",
      "_________________________________________________________________\n",
      "conv2d_14 (Conv2D)           (None, 46, 46, 48)        15600     \n",
      "_________________________________________________________________\n",
      "conv2d_15 (Conv2D)           (None, 44, 44, 60)        25980     \n",
      "_________________________________________________________________\n",
      "dropout_6 (Dropout)          (None, 44, 44, 60)        0         \n",
      "_________________________________________________________________\n",
      "max_pooling2d_7 (MaxPooling2 (None, 22, 22, 60)        0         \n",
      "_________________________________________________________________\n",
      "flatten_3 (Flatten)          (None, 29040)             0         \n",
      "_________________________________________________________________\n",
      "dropout_7 (Dropout)          (None, 29040)             0         \n",
      "_________________________________________________________________\n",
      "dense_9 (Dense)              (None, 120)               3484920   \n",
      "_________________________________________________________________\n",
      "dense_10 (Dense)             (None, 40)                4840      \n",
      "_________________________________________________________________\n",
      "dense_11 (Dense)             (None, 3)                 123       \n",
      "=================================================================\n",
      "Total params: 3,539,947\n",
      "Trainable params: 3,539,947\n",
      "Non-trainable params: 0\n",
      "_________________________________________________________________\n"
     ]
    }
   ],
   "source": [
    "input_layer = layers.Input(shape=(100,100,3))\n",
    "\n",
    "# first block\n",
    "c1 = layers.Conv2D(filters=24,kernel_size=(3,3),activation='relu')(input_layer)\n",
    "c2 = layers.Conv2D(filters=36,kernel_size=(3,3),activation='relu')(c1)\n",
    "p1 = layers.MaxPooling2D()(c2)\n",
    "\n",
    "# second block\n",
    "c3 = layers.Conv2D(filters=48,kernel_size=(3,3),activation='relu')(p1)\n",
    "c4 = layers.Conv2D(filters=60,kernel_size=(3,3),activation='relu')(c3)\n",
    "dp = layers.Dropout(0.5)(c4)\n",
    "p2 = layers.MaxPooling2D()(dp)\n",
    "\n",
    "# flatten layer\n",
    "ft = layers.Flatten()(p2)\n",
    "\n",
    "dp = layers.Dropout(0.5)(ft)\n",
    "# fist dense layer\n",
    "h1 = layers.Dense(120,activation='relu')(dp)\n",
    "\n",
    "#second dense layer\n",
    "h2 = layers.Dense(40,activation='relu')(h1)\n",
    "\n",
    "#outputlayer\n",
    "op_layer = layers.Dense(3,activation='softmax')(h2)\n",
    "\n",
    "model = models.Model(inputs=input_layer,outputs=op_layer)\n",
    "model.summary()"
   ]
  },
  {
   "cell_type": "code",
   "execution_count": 34,
   "metadata": {},
   "outputs": [
    {
     "name": "stderr",
     "output_type": "stream",
     "text": [
      "C:\\Users\\anshu\\AppData\\Roaming\\Python\\Python37\\site-packages\\tensorflow\\python\\keras\\engine\\training.py:1940: UserWarning: `Model.fit_generator` is deprecated and will be removed in a future version. Please use `Model.fit`, which supports generators.\n",
      "  warnings.warn('`Model.fit_generator` is deprecated and '\n"
     ]
    },
    {
     "name": "stdout",
     "output_type": "stream",
     "text": [
      "Epoch 1/3\n",
      "WARNING:tensorflow:AutoGraph could not transform <function Model.make_train_function.<locals>.train_function at 0x0000019AA77EFEE8> and will run it as-is.\n",
      "Please report this to the TensorFlow team. When filing the bug, set the verbosity to 10 (on Linux, `export AUTOGRAPH_VERBOSITY=10`) and attach the full output.\n",
      "Cause: 'arguments' object has no attribute 'posonlyargs'\n",
      "To silence this warning, decorate the function with @tf.autograph.experimental.do_not_convert\n",
      "WARNING: AutoGraph could not transform <function Model.make_train_function.<locals>.train_function at 0x0000019AA77EFEE8> and will run it as-is.\n",
      "Please report this to the TensorFlow team. When filing the bug, set the verbosity to 10 (on Linux, `export AUTOGRAPH_VERBOSITY=10`) and attach the full output.\n",
      "Cause: 'arguments' object has no attribute 'posonlyargs'\n",
      "To silence this warning, decorate the function with @tf.autograph.experimental.do_not_convert\n",
      "19/19 [==============================] - 10s 484ms/step - loss: 1.1070 - accuracy: 0.3473\n",
      "Epoch 2/3\n",
      "19/19 [==============================] - 10s 492ms/step - loss: 1.0762 - accuracy: 0.4284\n",
      "Epoch 3/3\n",
      "19/19 [==============================] - 9s 482ms/step - loss: 0.9845 - accuracy: 0.5439\n"
     ]
    },
    {
     "data": {
      "text/plain": [
       "<tensorflow.python.keras.callbacks.History at 0x19aa77f77c8>"
      ]
     },
     "execution_count": 34,
     "metadata": {},
     "output_type": "execute_result"
    }
   ],
   "source": [
    "model.compile(loss='categorical_crossentropy',optimizer='adam',\n",
    "             metrics=['accuracy'])\n",
    "model.fit_generator(generator,epochs=3)"
   ]
  },
  {
   "cell_type": "code",
   "execution_count": 35,
   "metadata": {
    "scrolled": true
   },
   "outputs": [
    {
     "name": "stdout",
     "output_type": "stream",
     "text": [
      "Epoch 1/3\n",
      "19/19 [==============================] - 9s 473ms/step - loss: 0.9075 - accuracy: 0.5891\n",
      "Epoch 2/3\n",
      "19/19 [==============================] - 9s 489ms/step - loss: 0.8624 - accuracy: 0.5891\n",
      "Epoch 3/3\n",
      "19/19 [==============================] - 9s 472ms/step - loss: 0.8700 - accuracy: 0.5957\n"
     ]
    },
    {
     "data": {
      "text/plain": [
       "<tensorflow.python.keras.callbacks.History at 0x19aa7918788>"
      ]
     },
     "execution_count": 35,
     "metadata": {},
     "output_type": "execute_result"
    }
   ],
   "source": [
    "model.fit(generator,epochs=3)"
   ]
  },
  {
   "cell_type": "code",
   "execution_count": 36,
   "metadata": {},
   "outputs": [
    {
     "name": "stdout",
     "output_type": "stream",
     "text": [
      "Epoch 1/3\n",
      "19/19 [==============================] - 10s 532ms/step - loss: 0.8615 - accuracy: 0.6155\n",
      "Epoch 2/3\n",
      "19/19 [==============================] - 9s 487ms/step - loss: 0.7997 - accuracy: 0.6502\n",
      "Epoch 3/3\n",
      "19/19 [==============================] - 10s 522ms/step - loss: 0.7689 - accuracy: 0.6782\n"
     ]
    },
    {
     "data": {
      "text/plain": [
       "<tensorflow.python.keras.callbacks.History at 0x19aa792f208>"
      ]
     },
     "execution_count": 36,
     "metadata": {},
     "output_type": "execute_result"
    }
   ],
   "source": [
    "model.fit_generator(generator,epochs=3)"
   ]
  },
  {
   "cell_type": "code",
   "execution_count": 37,
   "metadata": {},
   "outputs": [
    {
     "name": "stdout",
     "output_type": "stream",
     "text": [
      "Epoch 1/3\n",
      "19/19 [==============================] - 9s 475ms/step - loss: 0.7196 - accuracy: 0.6980\n",
      "Epoch 2/3\n",
      "19/19 [==============================] - 10s 496ms/step - loss: 0.7533 - accuracy: 0.6749\n",
      "Epoch 3/3\n",
      "19/19 [==============================] - 11s 563ms/step - loss: 0.7282 - accuracy: 0.6865\n"
     ]
    },
    {
     "data": {
      "text/plain": [
       "<tensorflow.python.keras.callbacks.History at 0x19aa7945bc8>"
      ]
     },
     "execution_count": 37,
     "metadata": {},
     "output_type": "execute_result"
    }
   ],
   "source": [
    "model.fit_generator(generator,epochs=3)"
   ]
  },
  {
   "cell_type": "code",
   "execution_count": null,
   "metadata": {},
   "outputs": [],
   "source": []
  }
 ],
 "metadata": {
  "kernelspec": {
   "display_name": "Python 3",
   "language": "python",
   "name": "python3"
  },
  "language_info": {
   "codemirror_mode": {
    "name": "ipython",
    "version": 3
   },
   "file_extension": ".py",
   "mimetype": "text/x-python",
   "name": "python",
   "nbconvert_exporter": "python",
   "pygments_lexer": "ipython3",
   "version": "3.7.4"
  },
  "latex_envs": {
   "LaTeX_envs_menu_present": true,
   "autoclose": false,
   "autocomplete": true,
   "bibliofile": "biblio.bib",
   "cite_by": "apalike",
   "current_citInitial": 1,
   "eqLabelWithNumbers": true,
   "eqNumInitial": 1,
   "hotkeys": {
    "equation": "Ctrl-E",
    "itemize": "Ctrl-I"
   },
   "labels_anchors": false,
   "latex_user_defs": false,
   "report_style_numbering": false,
   "user_envs_cfg": false
  }
 },
 "nbformat": 4,
 "nbformat_minor": 2
}
