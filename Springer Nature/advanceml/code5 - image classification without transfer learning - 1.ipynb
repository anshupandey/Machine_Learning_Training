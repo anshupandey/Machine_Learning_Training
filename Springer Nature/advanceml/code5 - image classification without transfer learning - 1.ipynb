{
 "cells": [
  {
   "cell_type": "markdown",
   "metadata": {},
   "source": [
    "# Image classificatin with CNN"
   ]
  },
  {
   "cell_type": "code",
   "execution_count": 1,
   "metadata": {},
   "outputs": [
    {
     "name": "stdout",
     "output_type": "stream",
     "text": [
      "INFO:tensorflow:Enabling eager execution\n",
      "INFO:tensorflow:Enabling v2 tensorshape\n",
      "INFO:tensorflow:Enabling resource variables\n",
      "INFO:tensorflow:Enabling tensor equality\n",
      "INFO:tensorflow:Enabling control flow v2\n"
     ]
    }
   ],
   "source": [
    "import numpy as np\n",
    "import matplotlib.pyplot as plt\n",
    "from tensorflow.keras.preprocessing import image\n",
    "from tensorflow.keras.utils import to_categorical\n",
    "import os"
   ]
  },
  {
   "cell_type": "markdown",
   "metadata": {},
   "source": [
    "## Data Preparation"
   ]
  },
  {
   "cell_type": "code",
   "execution_count": 2,
   "metadata": {},
   "outputs": [
    {
     "data": {
      "text/plain": [
       "['dogs', 'horses', 'Humans']"
      ]
     },
     "execution_count": 2,
     "metadata": {},
     "output_type": "execute_result"
    }
   ],
   "source": [
    "main_folder = r\"E:\\image_data\\data\\\\\"\n",
    "cnames = os.listdir(main_folder)\n",
    "cnames"
   ]
  },
  {
   "cell_type": "code",
   "execution_count": 3,
   "metadata": {},
   "outputs": [],
   "source": [
    "x = []\n",
    "y = []\n",
    "\n",
    "for  folder in cnames:\n",
    "    # get the list of all image names\n",
    "    imglist = os.listdir(main_folder+folder)\n",
    "    for imgname in imglist:\n",
    "        img = image.load_img(main_folder+folder+\"\\\\\"+imgname,target_size=(100,100))\n",
    "        img = image.img_to_array(img)\n",
    "        x.append(img)\n",
    "        y.append(cnames.index(folder))"
   ]
  },
  {
   "cell_type": "code",
   "execution_count": 4,
   "metadata": {
    "scrolled": true
   },
   "outputs": [
    {
     "name": "stdout",
     "output_type": "stream",
     "text": [
      "(606, 100, 100, 3)\n",
      "(606, 3)\n"
     ]
    }
   ],
   "source": [
    "x = np.array(x)\n",
    "print(x.shape)\n",
    "y = to_categorical(y)# onehot encoding the labels\n",
    "print(y.shape)"
   ]
  },
  {
   "cell_type": "markdown",
   "metadata": {},
   "source": [
    "## Modelling the CNN"
   ]
  },
  {
   "cell_type": "code",
   "execution_count": 5,
   "metadata": {},
   "outputs": [],
   "source": [
    "from tensorflow.keras import models,layers"
   ]
  },
  {
   "cell_type": "code",
   "execution_count": 6,
   "metadata": {},
   "outputs": [
    {
     "name": "stdout",
     "output_type": "stream",
     "text": [
      "Model: \"model\"\n",
      "_________________________________________________________________\n",
      "Layer (type)                 Output Shape              Param #   \n",
      "=================================================================\n",
      "input_1 (InputLayer)         [(None, 100, 100, 3)]     0         \n",
      "_________________________________________________________________\n",
      "conv2d (Conv2D)              (None, 98, 98, 24)        672       \n",
      "_________________________________________________________________\n",
      "conv2d_1 (Conv2D)            (None, 96, 96, 36)        7812      \n",
      "_________________________________________________________________\n",
      "max_pooling2d (MaxPooling2D) (None, 48, 48, 36)        0         \n",
      "_________________________________________________________________\n",
      "conv2d_2 (Conv2D)            (None, 46, 46, 48)        15600     \n",
      "_________________________________________________________________\n",
      "conv2d_3 (Conv2D)            (None, 44, 44, 60)        25980     \n",
      "_________________________________________________________________\n",
      "dropout (Dropout)            (None, 44, 44, 60)        0         \n",
      "_________________________________________________________________\n",
      "max_pooling2d_1 (MaxPooling2 (None, 22, 22, 60)        0         \n",
      "_________________________________________________________________\n",
      "flatten (Flatten)            (None, 29040)             0         \n",
      "_________________________________________________________________\n",
      "dropout_1 (Dropout)          (None, 29040)             0         \n",
      "_________________________________________________________________\n",
      "dense (Dense)                (None, 120)               3484920   \n",
      "_________________________________________________________________\n",
      "dense_1 (Dense)              (None, 40)                4840      \n",
      "_________________________________________________________________\n",
      "dense_2 (Dense)              (None, 3)                 123       \n",
      "=================================================================\n",
      "Total params: 3,539,947\n",
      "Trainable params: 3,539,947\n",
      "Non-trainable params: 0\n",
      "_________________________________________________________________\n"
     ]
    }
   ],
   "source": [
    "input_layer = layers.Input(shape=(100,100,3))\n",
    "\n",
    "# first block\n",
    "c1 = layers.Conv2D(filters=24,kernel_size=(3,3),activation='relu')(input_layer)\n",
    "c2 = layers.Conv2D(filters=36,kernel_size=(3,3),activation='relu')(c1)\n",
    "p1 = layers.MaxPooling2D()(c2)\n",
    "\n",
    "# second block\n",
    "c3 = layers.Conv2D(filters=48,kernel_size=(3,3),activation='relu')(p1)\n",
    "c4 = layers.Conv2D(filters=60,kernel_size=(3,3),activation='relu')(c3)\n",
    "dp = layers.Dropout(0.5)(c4)\n",
    "p2 = layers.MaxPooling2D()(dp)\n",
    "\n",
    "# flatten layer\n",
    "ft = layers.Flatten()(p2)\n",
    "\n",
    "dp = layers.Dropout(0.5)(ft)\n",
    "# fist dense layer\n",
    "h1 = layers.Dense(120,activation='relu')(dp)\n",
    "\n",
    "#second dense layer\n",
    "h2 = layers.Dense(40,activation='relu')(h1)\n",
    "\n",
    "#outputlayer\n",
    "op_layer = layers.Dense(3,activation='softmax')(h2)\n",
    "\n",
    "model = models.Model(inputs=input_layer,outputs=op_layer)\n",
    "model.summary()"
   ]
  },
  {
   "cell_type": "code",
   "execution_count": 7,
   "metadata": {},
   "outputs": [
    {
     "name": "stdout",
     "output_type": "stream",
     "text": [
      "(484, 100, 100, 3) (122, 100, 100, 3)\n",
      "(484, 3) (122, 3)\n"
     ]
    }
   ],
   "source": [
    "from sklearn.model_selection import train_test_split\n",
    "xtr,xts,ytr,yts = train_test_split(x,y,test_size=0.2,random_state=5)\n",
    "print(xtr.shape,xts.shape)\n",
    "print(ytr.shape,yts.shape)"
   ]
  },
  {
   "cell_type": "code",
   "execution_count": 8,
   "metadata": {},
   "outputs": [
    {
     "name": "stdout",
     "output_type": "stream",
     "text": [
      "Epoch 1/10\n",
      "WARNING:tensorflow:AutoGraph could not transform <function Model.make_train_function.<locals>.train_function at 0x000001B221546C18> and will run it as-is.\n",
      "Please report this to the TensorFlow team. When filing the bug, set the verbosity to 10 (on Linux, `export AUTOGRAPH_VERBOSITY=10`) and attach the full output.\n",
      "Cause: 'arguments' object has no attribute 'posonlyargs'\n",
      "To silence this warning, decorate the function with @tf.autograph.experimental.do_not_convert\n",
      "WARNING: AutoGraph could not transform <function Model.make_train_function.<locals>.train_function at 0x000001B221546C18> and will run it as-is.\n",
      "Please report this to the TensorFlow team. When filing the bug, set the verbosity to 10 (on Linux, `export AUTOGRAPH_VERBOSITY=10`) and attach the full output.\n",
      "Cause: 'arguments' object has no attribute 'posonlyargs'\n",
      "To silence this warning, decorate the function with @tf.autograph.experimental.do_not_convert\n",
      "16/16 [==============================] - ETA: 0s - loss: 72.0520 - accuracy: 0.3593WARNING:tensorflow:AutoGraph could not transform <function Model.make_test_function.<locals>.test_function at 0x000001B22911F9D8> and will run it as-is.\n",
      "Please report this to the TensorFlow team. When filing the bug, set the verbosity to 10 (on Linux, `export AUTOGRAPH_VERBOSITY=10`) and attach the full output.\n",
      "Cause: 'arguments' object has no attribute 'posonlyargs'\n",
      "To silence this warning, decorate the function with @tf.autograph.experimental.do_not_convert\n",
      "WARNING: AutoGraph could not transform <function Model.make_test_function.<locals>.test_function at 0x000001B22911F9D8> and will run it as-is.\n",
      "Please report this to the TensorFlow team. When filing the bug, set the verbosity to 10 (on Linux, `export AUTOGRAPH_VERBOSITY=10`) and attach the full output.\n",
      "Cause: 'arguments' object has no attribute 'posonlyargs'\n",
      "To silence this warning, decorate the function with @tf.autograph.experimental.do_not_convert\n",
      "16/16 [==============================] - 8s 463ms/step - loss: 70.0464 - accuracy: 0.3590 - val_loss: 1.0187 - val_accuracy: 0.5082\n",
      "Epoch 2/10\n",
      "16/16 [==============================] - 7s 465ms/step - loss: 1.0259 - accuracy: 0.5077 - val_loss: 0.9141 - val_accuracy: 0.5082\n",
      "Epoch 3/10\n",
      "16/16 [==============================] - 7s 436ms/step - loss: 0.7808 - accuracy: 0.6562 - val_loss: 0.8973 - val_accuracy: 0.5902\n",
      "Epoch 4/10\n",
      "16/16 [==============================] - 7s 460ms/step - loss: 0.6655 - accuracy: 0.7259 - val_loss: 0.7631 - val_accuracy: 0.6721\n",
      "Epoch 5/10\n",
      "16/16 [==============================] - 8s 474ms/step - loss: 0.5731 - accuracy: 0.7665 - val_loss: 0.8182 - val_accuracy: 0.7213\n",
      "Epoch 6/10\n",
      "16/16 [==============================] - 8s 472ms/step - loss: 0.3455 - accuracy: 0.8909 - val_loss: 0.7499 - val_accuracy: 0.7131\n",
      "Epoch 7/10\n",
      "16/16 [==============================] - 7s 450ms/step - loss: 0.2867 - accuracy: 0.8983 - val_loss: 0.6974 - val_accuracy: 0.7049\n",
      "Epoch 8/10\n",
      "16/16 [==============================] - 7s 439ms/step - loss: 0.2559 - accuracy: 0.9345 - val_loss: 0.8356 - val_accuracy: 0.7377\n",
      "Epoch 9/10\n",
      "16/16 [==============================] - 7s 442ms/step - loss: 0.2710 - accuracy: 0.9207 - val_loss: 0.8904 - val_accuracy: 0.6721\n",
      "Epoch 10/10\n",
      "16/16 [==============================] - 7s 442ms/step - loss: 0.2430 - accuracy: 0.9079 - val_loss: 0.7903 - val_accuracy: 0.7295\n"
     ]
    },
    {
     "data": {
      "text/plain": [
       "<tensorflow.python.keras.callbacks.History at 0x1b2217b8d88>"
      ]
     },
     "execution_count": 8,
     "metadata": {},
     "output_type": "execute_result"
    }
   ],
   "source": [
    "model.compile(loss='categorical_crossentropy',optimizer='adam',\n",
    "             metrics=['accuracy'])\n",
    "model.fit(xtr,ytr,epochs=10,batch_size=32,validation_data=(xts,yts))"
   ]
  },
  {
   "cell_type": "code",
   "execution_count": 12,
   "metadata": {},
   "outputs": [],
   "source": [
    "model.save(\"model.h5\")"
   ]
  },
  {
   "cell_type": "code",
   "execution_count": 11,
   "metadata": {},
   "outputs": [
    {
     "data": {
      "text/plain": [
       "'F:\\\\Machine_Learning_Training\\\\Springer Nature\\\\advanceml'"
      ]
     },
     "execution_count": 11,
     "metadata": {},
     "output_type": "execute_result"
    }
   ],
   "source": [
    "os.getcwd()"
   ]
  },
  {
   "cell_type": "code",
   "execution_count": 13,
   "metadata": {},
   "outputs": [],
   "source": [
    "from tensorflow.keras import models"
   ]
  },
  {
   "cell_type": "code",
   "execution_count": 14,
   "metadata": {},
   "outputs": [],
   "source": [
    "model2 = models.load_model(\"model.h5\")"
   ]
  },
  {
   "cell_type": "code",
   "execution_count": 15,
   "metadata": {
    "collapsed": true
   },
   "outputs": [
    {
     "name": "stdout",
     "output_type": "stream",
     "text": [
      "Model: \"model\"\n",
      "_________________________________________________________________\n",
      "Layer (type)                 Output Shape              Param #   \n",
      "=================================================================\n",
      "input_1 (InputLayer)         [(None, 100, 100, 3)]     0         \n",
      "_________________________________________________________________\n",
      "conv2d (Conv2D)              (None, 98, 98, 24)        672       \n",
      "_________________________________________________________________\n",
      "conv2d_1 (Conv2D)            (None, 96, 96, 36)        7812      \n",
      "_________________________________________________________________\n",
      "max_pooling2d (MaxPooling2D) (None, 48, 48, 36)        0         \n",
      "_________________________________________________________________\n",
      "conv2d_2 (Conv2D)            (None, 46, 46, 48)        15600     \n",
      "_________________________________________________________________\n",
      "conv2d_3 (Conv2D)            (None, 44, 44, 60)        25980     \n",
      "_________________________________________________________________\n",
      "dropout (Dropout)            (None, 44, 44, 60)        0         \n",
      "_________________________________________________________________\n",
      "max_pooling2d_1 (MaxPooling2 (None, 22, 22, 60)        0         \n",
      "_________________________________________________________________\n",
      "flatten (Flatten)            (None, 29040)             0         \n",
      "_________________________________________________________________\n",
      "dropout_1 (Dropout)          (None, 29040)             0         \n",
      "_________________________________________________________________\n",
      "dense (Dense)                (None, 120)               3484920   \n",
      "_________________________________________________________________\n",
      "dense_1 (Dense)              (None, 40)                4840      \n",
      "_________________________________________________________________\n",
      "dense_2 (Dense)              (None, 3)                 123       \n",
      "=================================================================\n",
      "Total params: 3,539,947\n",
      "Trainable params: 3,539,947\n",
      "Non-trainable params: 0\n",
      "_________________________________________________________________\n"
     ]
    }
   ],
   "source": [
    "model2.summary()"
   ]
  },
  {
   "cell_type": "code",
   "execution_count": 16,
   "metadata": {
    "collapsed": true
   },
   "outputs": [
    {
     "data": {
      "image/png": "[encoded data removed]",
      "text/plain": [
       "<Figure size 432x288 with 1 Axes>"
      ]
     },
     "metadata": {
      "needs_background": "light"
     },
     "output_type": "display_data"
    }
   ],
   "source": [
    "img = image.load_img('img.jpg',target_size=(100,100))\n",
    "img = image.img_to_array(img)\n",
    "plt.imshow(img.astype('int32'))\n",
    "plt.show()"
   ]
  },
  {
   "cell_type": "code",
   "execution_count": 17,
   "metadata": {},
   "outputs": [
    {
     "name": "stdout",
     "output_type": "stream",
     "text": [
      "WARNING:tensorflow:AutoGraph could not transform <function Model.make_predict_function.<locals>.predict_function at 0x000001B22D0900D8> and will run it as-is.\n",
      "Please report this to the TensorFlow team. When filing the bug, set the verbosity to 10 (on Linux, `export AUTOGRAPH_VERBOSITY=10`) and attach the full output.\n",
      "Cause: 'arguments' object has no attribute 'posonlyargs'\n",
      "To silence this warning, decorate the function with @tf.autograph.experimental.do_not_convert\n",
      "WARNING: AutoGraph could not transform <function Model.make_predict_function.<locals>.predict_function at 0x000001B22D0900D8> and will run it as-is.\n",
      "Please report this to the TensorFlow team. When filing the bug, set the verbosity to 10 (on Linux, `export AUTOGRAPH_VERBOSITY=10`) and attach the full output.\n",
      "Cause: 'arguments' object has no attribute 'posonlyargs'\n",
      "To silence this warning, decorate the function with @tf.autograph.experimental.do_not_convert\n"
     ]
    },
    {
     "data": {
      "text/plain": [
       "array([[0.52838117, 0.03866125, 0.43295756]], dtype=float32)"
      ]
     },
     "execution_count": 17,
     "metadata": {},
     "output_type": "execute_result"
    }
   ],
   "source": [
    "model2.predict(img.reshape(1,100,100,3))"
   ]
  },
  {
   "cell_type": "code",
   "execution_count": 18,
   "metadata": {},
   "outputs": [
    {
     "data": {
      "text/plain": [
       "['dogs', 'horses', 'Humans']"
      ]
     },
     "execution_count": 18,
     "metadata": {},
     "output_type": "execute_result"
    }
   ],
   "source": [
    "cnames"
   ]
  },
  {
   "cell_type": "code",
   "execution_count": null,
   "metadata": {},
   "outputs": [],
   "source": []
  }
 ],
 "metadata": {
  "kernelspec": {
   "display_name": "Python 3",
   "language": "python",
   "name": "python3"
  },
  "language_info": {
   "codemirror_mode": {
    "name": "ipython",
    "version": 3
   },
   "file_extension": ".py",
   "mimetype": "text/x-python",
   "name": "python",
   "nbconvert_exporter": "python",
   "pygments_lexer": "ipython3",
   "version": "3.7.4"
  },
  "latex_envs": {
   "LaTeX_envs_menu_present": true,
   "autoclose": false,
   "autocomplete": true,
   "bibliofile": "biblio.bib",
   "cite_by": "apalike",
   "current_citInitial": 1,
   "eqLabelWithNumbers": true,
   "eqNumInitial": 1,
   "hotkeys": {
    "equation": "Ctrl-E",
    "itemize": "Ctrl-I"
   },
   "labels_anchors": false,
   "latex_user_defs": false,
   "report_style_numbering": false,
   "user_envs_cfg": false
  }
 },
 "nbformat": 4,
 "nbformat_minor": 2
}
