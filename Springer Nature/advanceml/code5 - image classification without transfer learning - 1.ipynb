{
 "cells": [
  {
   "cell_type": "markdown",
   "metadata": {},
   "source": [
    "# Image classificatin with CNN"
   ]
  },
  {
   "cell_type": "code",
   "execution_count": 2,
   "metadata": {},
   "outputs": [],
   "source": [
    "import numpy as np\n",
    "import matplotlib.pyplot as plt\n",
    "from tensorflow.keras.preprocessing import image\n",
    "from tensorflow.keras.utils import to_categorical\n",
    "import os"
   ]
  },
  {
   "cell_type": "markdown",
   "metadata": {},
   "source": [
    "## Data Preparation"
   ]
  },
  {
   "cell_type": "code",
   "execution_count": 4,
   "metadata": {
    "collapsed": true
   },
   "outputs": [
    {
     "data": {
      "text/plain": [
       "['dogs', 'horses', 'Humans']"
      ]
     },
     "execution_count": 4,
     "metadata": {},
     "output_type": "execute_result"
    }
   ],
   "source": [
    "main_folder = r\"E:\\image_data\\data\\\\\"\n",
    "cnames = os.listdir(main_folder)\n",
    "cnames"
   ]
  },
  {
   "cell_type": "code",
   "execution_count": 5,
   "metadata": {},
   "outputs": [],
   "source": [
    "x = []\n",
    "y = []\n",
    "\n",
    "for  folder in cnames:\n",
    "    # get the list of all image names\n",
    "    imglist = os.listdir(main_folder+folder)\n",
    "    for imgname in imglist:\n",
    "        img = image.load_img(main_folder+folder+\"\\\\\"+imgname,target_size=(100,100))\n",
    "        img = image.img_to_array(img)\n",
    "        x.append(img)\n",
    "        y.append(cnames.index(folder))"
   ]
  },
  {
   "cell_type": "code",
   "execution_count": 6,
   "metadata": {
    "scrolled": true
   },
   "outputs": [
    {
     "name": "stdout",
     "output_type": "stream",
     "text": [
      "(606, 100, 100, 3)\n",
      "(606, 3)\n"
     ]
    }
   ],
   "source": [
    "x = np.array(x)\n",
    "print(x.shape)\n",
    "y = to_categorical(y)# onehot encoding the labels\n",
    "print(y.shape)"
   ]
  },
  {
   "cell_type": "markdown",
   "metadata": {},
   "source": [
    "## Modelling the CNN"
   ]
  },
  {
   "cell_type": "code",
   "execution_count": 7,
   "metadata": {},
   "outputs": [],
   "source": [
    "from tensorflow.keras import models,layers"
   ]
  },
  {
   "cell_type": "code",
   "execution_count": 14,
   "metadata": {},
   "outputs": [
    {
     "name": "stdout",
     "output_type": "stream",
     "text": [
      "Model: \"model_2\"\n",
      "_________________________________________________________________\n",
      "Layer (type)                 Output Shape              Param #   \n",
      "=================================================================\n",
      "input_3 (InputLayer)         [(None, 100, 100, 3)]     0         \n",
      "_________________________________________________________________\n",
      "conv2d_8 (Conv2D)            (None, 98, 98, 24)        672       \n",
      "_________________________________________________________________\n",
      "conv2d_9 (Conv2D)            (None, 96, 96, 36)        7812      \n",
      "_________________________________________________________________\n",
      "max_pooling2d_4 (MaxPooling2 (None, 48, 48, 36)        0         \n",
      "_________________________________________________________________\n",
      "conv2d_10 (Conv2D)           (None, 46, 46, 48)        15600     \n",
      "_________________________________________________________________\n",
      "conv2d_11 (Conv2D)           (None, 44, 44, 60)        25980     \n",
      "_________________________________________________________________\n",
      "dropout (Dropout)            (None, 44, 44, 60)        0         \n",
      "_________________________________________________________________\n",
      "max_pooling2d_5 (MaxPooling2 (None, 22, 22, 60)        0         \n",
      "_________________________________________________________________\n",
      "flatten_2 (Flatten)          (None, 29040)             0         \n",
      "_________________________________________________________________\n",
      "dropout_1 (Dropout)          (None, 29040)             0         \n",
      "_________________________________________________________________\n",
      "dense_6 (Dense)              (None, 120)               3484920   \n",
      "_________________________________________________________________\n",
      "dense_7 (Dense)              (None, 40)                4840      \n",
      "_________________________________________________________________\n",
      "dense_8 (Dense)              (None, 3)                 123       \n",
      "=================================================================\n",
      "Total params: 3,539,947\n",
      "Trainable params: 3,539,947\n",
      "Non-trainable params: 0\n",
      "_________________________________________________________________\n"
     ]
    }
   ],
   "source": [
    "input_layer = layers.Input(shape=(100,100,3))\n",
    "\n",
    "# first block\n",
    "c1 = layers.Conv2D(filters=24,kernel_size=(3,3),activation='relu')(input_layer)\n",
    "c2 = layers.Conv2D(filters=36,kernel_size=(3,3),activation='relu')(c1)\n",
    "p1 = layers.MaxPooling2D()(c2)\n",
    "\n",
    "# second block\n",
    "c3 = layers.Conv2D(filters=48,kernel_size=(3,3),activation='relu')(p1)\n",
    "c4 = layers.Conv2D(filters=60,kernel_size=(3,3),activation='relu')(c3)\n",
    "dp = layers.Dropout(0.5)(c4)\n",
    "p2 = layers.MaxPooling2D()(dp)\n",
    "\n",
    "# flatten layer\n",
    "ft = layers.Flatten()(p2)\n",
    "\n",
    "dp = layers.Dropout(0.5)(ft)\n",
    "# fist dense layer\n",
    "h1 = layers.Dense(120,activation='relu')(dp)\n",
    "\n",
    "#second dense layer\n",
    "h2 = layers.Dense(40,activation='relu')(h1)\n",
    "\n",
    "#outputlayer\n",
    "op_layer = layers.Dense(3,activation='softmax')(h2)\n",
    "\n",
    "model = models.Model(inputs=input_layer,outputs=op_layer)\n",
    "model.summary()"
   ]
  },
  {
   "cell_type": "code",
   "execution_count": 15,
   "metadata": {},
   "outputs": [
    {
     "name": "stdout",
     "output_type": "stream",
     "text": [
      "(484, 100, 100, 3) (122, 100, 100, 3)\n",
      "(484, 3) (122, 3)\n"
     ]
    }
   ],
   "source": [
    "from sklearn.model_selection import train_test_split\n",
    "xtr,xts,ytr,yts = train_test_split(x,y,test_size=0.2,random_state=5)\n",
    "print(xtr.shape,xts.shape)\n",
    "print(ytr.shape,yts.shape)"
   ]
  },
  {
   "cell_type": "code",
   "execution_count": 16,
   "metadata": {},
   "outputs": [
    {
     "name": "stdout",
     "output_type": "stream",
     "text": [
      "Epoch 1/10\n",
      "WARNING:tensorflow:AutoGraph could not transform <function Model.make_train_function.<locals>.train_function at 0x000001E30C0A5828> and will run it as-is.\n",
      "Please report this to the TensorFlow team. When filing the bug, set the verbosity to 10 (on Linux, `export AUTOGRAPH_VERBOSITY=10`) and attach the full output.\n",
      "Cause: 'arguments' object has no attribute 'posonlyargs'\n",
      "To silence this warning, decorate the function with @tf.autograph.experimental.do_not_convert\n",
      "WARNING: AutoGraph could not transform <function Model.make_train_function.<locals>.train_function at 0x000001E30C0A5828> and will run it as-is.\n",
      "Please report this to the TensorFlow team. When filing the bug, set the verbosity to 10 (on Linux, `export AUTOGRAPH_VERBOSITY=10`) and attach the full output.\n",
      "Cause: 'arguments' object has no attribute 'posonlyargs'\n",
      "To silence this warning, decorate the function with @tf.autograph.experimental.do_not_convert\n",
      "16/16 [==============================] - ETA: 0s - loss: 57.7735 - accuracy: 0.3425WARNING:tensorflow:AutoGraph could not transform <function Model.make_test_function.<locals>.test_function at 0x000001E30C0CFF78> and will run it as-is.\n",
      "Please report this to the TensorFlow team. When filing the bug, set the verbosity to 10 (on Linux, `export AUTOGRAPH_VERBOSITY=10`) and attach the full output.\n",
      "Cause: 'arguments' object has no attribute 'posonlyargs'\n",
      "To silence this warning, decorate the function with @tf.autograph.experimental.do_not_convert\n",
      "WARNING: AutoGraph could not transform <function Model.make_test_function.<locals>.test_function at 0x000001E30C0CFF78> and will run it as-is.\n",
      "Please report this to the TensorFlow team. When filing the bug, set the verbosity to 10 (on Linux, `export AUTOGRAPH_VERBOSITY=10`) and attach the full output.\n",
      "Cause: 'arguments' object has no attribute 'posonlyargs'\n",
      "To silence this warning, decorate the function with @tf.autograph.experimental.do_not_convert\n",
      "16/16 [==============================] - 8s 495ms/step - loss: 56.0824 - accuracy: 0.3431 - val_loss: 1.1749 - val_accuracy: 0.3607\n",
      "Epoch 2/10\n",
      "16/16 [==============================] - 7s 456ms/step - loss: 1.0962 - accuracy: 0.4879 - val_loss: 0.9808 - val_accuracy: 0.5082\n",
      "Epoch 3/10\n",
      "16/16 [==============================] - 8s 479ms/step - loss: 0.8058 - accuracy: 0.6301 - val_loss: 0.9043 - val_accuracy: 0.5492\n",
      "Epoch 4/10\n",
      "16/16 [==============================] - 8s 465ms/step - loss: 0.5556 - accuracy: 0.7650 - val_loss: 0.7755 - val_accuracy: 0.6311\n",
      "Epoch 5/10\n",
      "16/16 [==============================] - 7s 458ms/step - loss: 0.4544 - accuracy: 0.8374 - val_loss: 0.7661 - val_accuracy: 0.6967\n",
      "Epoch 6/10\n",
      "16/16 [==============================] - 7s 448ms/step - loss: 0.2606 - accuracy: 0.9119 - val_loss: 0.7959 - val_accuracy: 0.6721\n",
      "Epoch 7/10\n",
      "16/16 [==============================] - 7s 445ms/step - loss: 0.2741 - accuracy: 0.8782 - val_loss: 0.8227 - val_accuracy: 0.7377\n",
      "Epoch 8/10\n",
      "16/16 [==============================] - 7s 449ms/step - loss: 0.1883 - accuracy: 0.9266 - val_loss: 0.6944 - val_accuracy: 0.7869\n",
      "Epoch 9/10\n",
      "16/16 [==============================] - 7s 436ms/step - loss: 0.1425 - accuracy: 0.9399 - val_loss: 0.8020 - val_accuracy: 0.7869\n",
      "Epoch 10/10\n",
      "16/16 [==============================] - 7s 434ms/step - loss: 0.1527 - accuracy: 0.9344 - val_loss: 0.8195 - val_accuracy: 0.7869\n"
     ]
    },
    {
     "data": {
      "text/plain": [
       "<tensorflow.python.keras.callbacks.History at 0x1e30c0bf108>"
      ]
     },
     "execution_count": 16,
     "metadata": {},
     "output_type": "execute_result"
    }
   ],
   "source": [
    "model.compile(loss='categorical_crossentropy',optimizer='adam',\n",
    "             metrics=['accuracy'])\n",
    "model.fit(xtr,ytr,epochs=10,batch_size=32,validation_data=(xts,yts))"
   ]
  },
  {
   "cell_type": "code",
   "execution_count": null,
   "metadata": {},
   "outputs": [],
   "source": []
  }
 ],
 "metadata": {
  "kernelspec": {
   "display_name": "Python 3",
   "language": "python",
   "name": "python3"
  },
  "language_info": {
   "codemirror_mode": {
    "name": "ipython",
    "version": 3
   },
   "file_extension": ".py",
   "mimetype": "text/x-python",
   "name": "python",
   "nbconvert_exporter": "python",
   "pygments_lexer": "ipython3",
   "version": "3.7.4"
  },
  "latex_envs": {
   "LaTeX_envs_menu_present": true,
   "autoclose": false,
   "autocomplete": true,
   "bibliofile": "biblio.bib",
   "cite_by": "apalike",
   "current_citInitial": 1,
   "eqLabelWithNumbers": true,
   "eqNumInitial": 1,
   "hotkeys": {
    "equation": "Ctrl-E",
    "itemize": "Ctrl-I"
   },
   "labels_anchors": false,
   "latex_user_defs": false,
   "report_style_numbering": false,
   "user_envs_cfg": false
  }
 },
 "nbformat": 4,
 "nbformat_minor": 2
}
