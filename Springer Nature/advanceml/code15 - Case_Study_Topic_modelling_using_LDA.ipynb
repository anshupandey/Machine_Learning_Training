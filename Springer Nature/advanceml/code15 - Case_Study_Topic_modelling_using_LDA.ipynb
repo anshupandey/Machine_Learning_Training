{
  "nbformat": 4,
  "nbformat_minor": 0,
  "metadata": {
    "kernelspec": {
      "display_name": "Python 3",
      "language": "python",
      "name": "python3"
    },
    "language_info": {
      "codemirror_mode": {
        "name": "ipython",
        "version": 3
      },
      "file_extension": ".py",
      "mimetype": "text/x-python",
      "name": "python",
      "nbconvert_exporter": "python",
      "pygments_lexer": "ipython3",
      "version": "3.7.4"
    },
    "colab": {
      "name": "Case_Study_Topic_modelling_using_LDA.ipynb",
      "provenance": []
    }
  },
  "cells": [
    {
      "cell_type": "markdown",
      "metadata": {
        "id": "mennIfwaZ5rz"
      },
      "source": [
        "# Installation and Setup"
      ]
    },
    {
      "cell_type": "code",
      "metadata": {
        "id": "m8OVevbkZ5sC",
        "colab": {
          "base_uri": "https://localhost:8080/"
        },
        "outputId": "643e5a4d-d51e-4068-9c0a-2bb3a124fb43"
      },
      "source": [
        "# download the corpus for nltk and spacy's english language model\n",
        "import nltk\n",
        "nltk.download(\"punkt\")\n",
        "nltk.download(\"wordnet\")\n",
        "nltk.download(\"stopwords\")"
      ],
      "execution_count": null,
      "outputs": [
        {
          "output_type": "stream",
          "text": [
            "[nltk_data] Downloading package punkt to /root/nltk_data...\n",
            "[nltk_data]   Unzipping tokenizers/punkt.zip.\n",
            "[nltk_data] Downloading package wordnet to /root/nltk_data...\n",
            "[nltk_data]   Unzipping corpora/wordnet.zip.\n",
            "[nltk_data] Downloading package stopwords to /root/nltk_data...\n",
            "[nltk_data]   Unzipping corpora/stopwords.zip.\n"
          ],
          "name": "stdout"
        },
        {
          "output_type": "execute_result",
          "data": {
            "text/plain": [
              "True"
            ]
          },
          "metadata": {
            "tags": []
          },
          "execution_count": 1
        }
      ]
    },
    {
      "cell_type": "code",
      "metadata": {
        "id": "h8BoxQpGaGlh",
        "colab": {
          "base_uri": "https://localhost:8080/"
        },
        "outputId": "accfd417-1932-465f-fb23-3af603fb9508"
      },
      "source": [
        "!pip install pyLDAvis==3.2.2"
      ],
      "execution_count": null,
      "outputs": [
        {
          "output_type": "stream",
          "text": [
            "Collecting pyLDAvis==3.2.2\n",
            "\u001b[?25l  Downloading https://files.pythonhosted.org/packages/24/38/6d81eff34c84c9158d3b7c846bff978ac88b0c2665548941946d3d591158/pyLDAvis-3.2.2.tar.gz (1.7MB)\n",
            "\u001b[K     |████████████████████████████████| 1.7MB 3.8MB/s \n",
            "\u001b[?25hRequirement already satisfied: wheel>=0.23.0 in /usr/local/lib/python3.7/dist-packages (from pyLDAvis==3.2.2) (0.36.2)\n",
            "Requirement already satisfied: numpy>=1.9.2 in /usr/local/lib/python3.7/dist-packages (from pyLDAvis==3.2.2) (1.19.5)\n",
            "Requirement already satisfied: scipy>=0.18.0 in /usr/local/lib/python3.7/dist-packages (from pyLDAvis==3.2.2) (1.4.1)\n",
            "Requirement already satisfied: joblib>=0.8.4 in /usr/local/lib/python3.7/dist-packages (from pyLDAvis==3.2.2) (1.0.1)\n",
            "Requirement already satisfied: jinja2>=2.7.2 in /usr/local/lib/python3.7/dist-packages (from pyLDAvis==3.2.2) (2.11.3)\n",
            "Requirement already satisfied: numexpr in /usr/local/lib/python3.7/dist-packages (from pyLDAvis==3.2.2) (2.7.3)\n",
            "Requirement already satisfied: future in /usr/local/lib/python3.7/dist-packages (from pyLDAvis==3.2.2) (0.16.0)\n",
            "Collecting funcy\n",
            "  Downloading https://files.pythonhosted.org/packages/44/52/5cf7401456a461e4b481650dfb8279bc000f31a011d0918904f86e755947/funcy-1.16-py2.py3-none-any.whl\n",
            "Requirement already satisfied: pandas>=0.17.0 in /usr/local/lib/python3.7/dist-packages (from pyLDAvis==3.2.2) (1.1.5)\n",
            "Requirement already satisfied: MarkupSafe>=0.23 in /usr/local/lib/python3.7/dist-packages (from jinja2>=2.7.2->pyLDAvis==3.2.2) (2.0.1)\n",
            "Requirement already satisfied: pytz>=2017.2 in /usr/local/lib/python3.7/dist-packages (from pandas>=0.17.0->pyLDAvis==3.2.2) (2018.9)\n",
            "Requirement already satisfied: python-dateutil>=2.7.3 in /usr/local/lib/python3.7/dist-packages (from pandas>=0.17.0->pyLDAvis==3.2.2) (2.8.1)\n",
            "Requirement already satisfied: six>=1.5 in /usr/local/lib/python3.7/dist-packages (from python-dateutil>=2.7.3->pandas>=0.17.0->pyLDAvis==3.2.2) (1.15.0)\n",
            "Building wheels for collected packages: pyLDAvis\n",
            "  Building wheel for pyLDAvis (setup.py) ... \u001b[?25l\u001b[?25hdone\n",
            "  Created wheel for pyLDAvis: filename=pyLDAvis-3.2.2-py2.py3-none-any.whl size=135618 sha256=0ed7dae71701208e7057533162dba6296f0cbad165e226c875958610c08c297f\n",
            "  Stored in directory: /root/.cache/pip/wheels/74/df/b6/97234c8446a43be05c9a8687ee0db1f1b5ade5f27729187eae\n",
            "Successfully built pyLDAvis\n",
            "Installing collected packages: funcy, pyLDAvis\n",
            "Successfully installed funcy-1.16 pyLDAvis-3.2.2\n"
          ],
          "name": "stdout"
        }
      ]
    },
    {
      "cell_type": "markdown",
      "metadata": {
        "id": "4xbQgSDGZ5sJ"
      },
      "source": [
        "# importing packages"
      ]
    },
    {
      "cell_type": "code",
      "metadata": {
        "id": "8Ao9VNJjZ5sM"
      },
      "source": [
        "import re\n",
        "import numpy as np\n",
        "import pandas as pd\n",
        "\n",
        "# GENSIM\n",
        "import gensim\n",
        "import gensim.corpora as corpora\n",
        "from gensim.utils import simple_preprocess\n",
        "from gensim.models import CoherenceModel\n",
        "\n",
        "# Plotting tools\n",
        "import pyLDAvis\n",
        "import pyLDAvis.gensim  # don't skip this\n",
        "import matplotlib.pyplot as plt\n",
        "%matplotlib inline\n",
        "\n",
        "import warnings\n",
        "warnings.filterwarnings(\"ignore\",category=DeprecationWarning)\n",
        "\n",
        "import spacy"
      ],
      "execution_count": null,
      "outputs": []
    },
    {
      "cell_type": "markdown",
      "metadata": {
        "id": "CvvI8PGjZ5sl"
      },
      "source": [
        "# importing data"
      ]
    },
    {
      "cell_type": "code",
      "metadata": {
        "id": "QQHMUD26Z5so"
      },
      "source": [
        "# importing newsgroup data\n",
        "from sklearn import datasets\n",
        "emaildata = datasets.fetch_20newsgroups()\n",
        "data = emaildata.data"
      ],
      "execution_count": null,
      "outputs": []
    },
    {
      "cell_type": "code",
      "metadata": {
        "id": "bZ1jqBlsZ5sv"
      },
      "source": [
        "len(data)"
      ],
      "execution_count": null,
      "outputs": []
    },
    {
      "cell_type": "code",
      "metadata": {
        "scrolled": false,
        "id": "ERplKM5SZ5s7",
        "colab": {
          "base_uri": "https://localhost:8080/"
        },
        "outputId": "92d5b92a-a235-426a-dd46-4b8502b3afd1"
      },
      "source": [
        "print(data[100])"
      ],
      "execution_count": null,
      "outputs": [
        {
          "output_type": "stream",
          "text": [
            "From: (Tsung-Kun Chen) Subject: ** Software forsale (lots) ** Nntp-Posting-Host: magnusug.magnus.acs.ohio-state.edu Organization: The Ohio State University **** This is a post for my friend, You can either call **** **** him J.K Lee (614)791-0748 or Drop me a mail **** Distribution: usa Lines: 39 1. Software publishing SuperBase 4 windows v.1.3 --->$80 2. OCR System ReadRight v.3.1 for Windows --->$65 3. OCR System ReadRight v.2.01 for DOS --->$65 4. Unregistered Zortech 32 bit C++ Compiler v.3.1 --->$ 250 with Multiscope windows Debugger, WhiteWater Resource Toolkit, Library Source Code 5. Glockenspiel/ImageSoft Commonview 2 Windows Applications Framework for Borland C++ --->$70 6. Spontaneous Assembly Library With Source Code --->$50 7. Microsoft Macro Assembly 6.0 --->$50 8. Microsoft Windows v.3.1 SDK Documentation --->$125 9. Microsoft FoxPro V.2.0 --->$75 10. WordPerfect 5.0 Developers Toolkit --->$20 11. Kedwell Software DataBoss v.3.5 C Code Generator --->$100 12. Kedwell InstallBoss v.2.0 Installation Generator --->$35 13. Liant Software C++/Views v.2.1 Windows Application Framework with Source Code --->$195 14. IBM OS/2 2.0 & Developers Toolkit --->$95 15. CBTree DOS/Windows Library with Source Code --->$120 16. Symantec TimeLine for Windows --->$90 17. TimeSlip TimeSheet Professional for Windows --->$30 Many More Software/Books Available,Price Negotiable \n"
          ],
          "name": "stdout"
        }
      ]
    },
    {
      "cell_type": "markdown",
      "metadata": {
        "id": "RjDY7sMgZ5tS"
      },
      "source": [
        "# Data Cleaning"
      ]
    },
    {
      "cell_type": "code",
      "metadata": {
        "id": "4UB2VOcZZ5tU"
      },
      "source": [
        "# NLTK Stop words\n",
        "from nltk.corpus import stopwords\n",
        "stop_words = stopwords.words('english')\n",
        "stop_words.extend(['from', 'subject', 're', 'edu', 'use'])"
      ],
      "execution_count": null,
      "outputs": []
    },
    {
      "cell_type": "code",
      "metadata": {
        "id": "0TU2ftCMZ5tb"
      },
      "source": [
        "# Remove Emails\n",
        "data = [re.sub('\\S*@\\S*\\s?', '', sent) for sent in data]\n",
        "\n",
        "# Remove new line characters\n",
        "data = [re.sub('\\s+', ' ', sent) for sent in data]\n",
        "\n",
        "# Remove distracting single quotes\n",
        "data = [re.sub(\"\\'\", \"\", sent) for sent in data]"
      ],
      "execution_count": null,
      "outputs": []
    },
    {
      "cell_type": "markdown",
      "metadata": {
        "id": "LdkGBOeSZ5tq"
      },
      "source": [
        "## Tokenize words and Clean-up text"
      ]
    },
    {
      "cell_type": "code",
      "metadata": {
        "id": "BLxg1Y29Z5tt",
        "colab": {
          "base_uri": "https://localhost:8080/"
        },
        "outputId": "18f2f491-9ced-4896-a07e-82e1da946b58"
      },
      "source": [
        "def sent_to_words(sentences):\n",
        "    for sentence in sentences:\n",
        "        yield(gensim.utils.simple_preprocess(str(sentence), deacc=True))  # deacc=True removes punctuations\n",
        "\n",
        "data_words = list(sent_to_words(data))\n",
        "\n",
        "print(data_words[:1])"
      ],
      "execution_count": null,
      "outputs": [
        {
          "output_type": "stream",
          "text": [
            "[['from', 'wheres', 'my', 'thing', 'subject', 'what', 'car', 'is', 'this', 'nntp', 'posting', 'host', 'rac', 'wam', 'umd', 'edu', 'organization', 'university', 'of', 'maryland', 'college', 'park', 'lines', 'was', 'wondering', 'if', 'anyone', 'out', 'there', 'could', 'enlighten', 'me', 'on', 'this', 'car', 'saw', 'the', 'other', 'day', 'it', 'was', 'door', 'sports', 'car', 'looked', 'to', 'be', 'from', 'the', 'late', 'early', 'it', 'was', 'called', 'bricklin', 'the', 'doors', 'were', 'really', 'small', 'in', 'addition', 'the', 'front', 'bumper', 'was', 'separate', 'from', 'the', 'rest', 'of', 'the', 'body', 'this', 'is', 'all', 'know', 'if', 'anyone', 'can', 'tellme', 'model', 'name', 'engine', 'specs', 'years', 'of', 'production', 'where', 'this', 'car', 'is', 'made', 'history', 'or', 'whatever', 'info', 'you', 'have', 'on', 'this', 'funky', 'looking', 'car', 'please', 'mail', 'thanks', 'il', 'brought', 'to', 'you', 'by', 'your', 'neighborhood', 'lerxst']]\n"
          ],
          "name": "stdout"
        }
      ]
    },
    {
      "cell_type": "markdown",
      "metadata": {
        "id": "zzWo4Jq4Z5t0"
      },
      "source": [
        "# Creating Bigram and Trigram Models"
      ]
    },
    {
      "cell_type": "code",
      "metadata": {
        "id": "RY_SIwpLZ5uM",
        "colab": {
          "base_uri": "https://localhost:8080/"
        },
        "outputId": "89193e98-8489-43c3-b198-699a7688ee79"
      },
      "source": [
        "# Build the bigram and trigram models\n",
        "bigram = gensim.models.Phrases(data_words, min_count=5, threshold=100) # higher threshold fewer phrases.\n",
        "trigram = gensim.models.Phrases(bigram[data_words], threshold=100)  \n",
        "\n",
        "# Faster way to get a sentence clubbed as a trigram/bigram\n",
        "bigram_mod = gensim.models.phrases.Phraser(bigram)\n",
        "trigram_mod = gensim.models.phrases.Phraser(trigram)\n",
        "\n",
        "# See trigram example\n",
        "print(trigram_mod[bigram_mod[data_words[0]]])"
      ],
      "execution_count": null,
      "outputs": [
        {
          "output_type": "stream",
          "text": [
            "/usr/local/lib/python3.7/dist-packages/gensim/models/phrases.py:598: UserWarning: For a faster implementation, use the gensim.models.phrases.Phraser class\n",
            "  warnings.warn(\"For a faster implementation, use the gensim.models.phrases.Phraser class\")\n"
          ],
          "name": "stderr"
        },
        {
          "output_type": "stream",
          "text": [
            "['from', 'wheres', 'my', 'thing', 'subject', 'what', 'car', 'is', 'this', 'nntp_posting_host', 'rac_wam_umd_edu', 'organization', 'university', 'of', 'maryland_college_park', 'lines', 'was', 'wondering', 'if', 'anyone', 'out', 'there', 'could', 'enlighten', 'me', 'on', 'this', 'car', 'saw', 'the', 'other', 'day', 'it', 'was', 'door', 'sports', 'car', 'looked', 'to', 'be', 'from', 'the', 'late', 'early', 'it', 'was', 'called', 'bricklin', 'the', 'doors', 'were', 'really', 'small', 'in', 'addition', 'the', 'front_bumper', 'was', 'separate', 'from', 'the', 'rest', 'of', 'the', 'body', 'this', 'is', 'all', 'know', 'if', 'anyone', 'can', 'tellme', 'model', 'name', 'engine', 'specs', 'years', 'of', 'production', 'where', 'this', 'car', 'is', 'made', 'history', 'or', 'whatever', 'info', 'you', 'have', 'on', 'this', 'funky', 'looking', 'car', 'please', 'mail', 'thanks', 'il', 'brought', 'to', 'you', 'by', 'your', 'neighborhood', 'lerxst']\n"
          ],
          "name": "stdout"
        }
      ]
    },
    {
      "cell_type": "markdown",
      "metadata": {
        "id": "2dWVIQOXZ5uT"
      },
      "source": [
        "# Remove Stopwords, Make Bigrams and Lemmatize"
      ]
    },
    {
      "cell_type": "code",
      "metadata": {
        "id": "5yU68uApZ5uZ"
      },
      "source": [
        "# Define functions for stopwords, bigrams, trigrams and lemmatization\n",
        "def remove_stopwords(texts):\n",
        "    return [[word for word in simple_preprocess(str(doc)) if word not in stop_words] for doc in texts]\n",
        "\n",
        "def make_bigrams(texts):\n",
        "    return [bigram_mod[doc] for doc in texts]\n",
        "\n",
        "def make_trigrams(texts):\n",
        "    return [trigram_mod[bigram_mod[doc]] for doc in texts]\n",
        "\n",
        "def lemmatization(texts, allowed_postags=['NOUN', 'ADJ', 'VERB', 'ADV']):\n",
        "    \"\"\"https://spacy.io/api/annotation\"\"\"\n",
        "    texts_out = []\n",
        "    for sent in texts:\n",
        "        doc = nlp(\" \".join(sent)) \n",
        "        texts_out.append([token.lemma_ for token in doc if token.pos_ in allowed_postags])\n",
        "    return texts_out"
      ],
      "execution_count": null,
      "outputs": []
    },
    {
      "cell_type": "code",
      "metadata": {
        "id": "Vkmefd0_Z5uf",
        "colab": {
          "base_uri": "https://localhost:8080/"
        },
        "outputId": "01e9ce20-1a7f-4430-9ba2-96dc5e0d8327"
      },
      "source": [
        "# Remove Stop Words\n",
        "data_words_nostops = remove_stopwords(data_words)\n",
        "\n",
        "# Form Bigrams\n",
        "data_words_bigrams = make_bigrams(data_words_nostops)\n",
        "\n",
        "# Initialize spacy 'en' model, keeping only tagger component (for efficiency)\n",
        "# python3 -m spacy download en\n",
        "nlp = spacy.load('en', disable=['parser', 'ner'])\n",
        "\n",
        "# Do lemmatization keeping only noun, adj, vb, adv\n",
        "data_lemmatized = lemmatization(data_words_bigrams, allowed_postags=['NOUN', 'ADJ', 'VERB', 'ADV'])\n",
        "\n",
        "print(data_lemmatized[:1])"
      ],
      "execution_count": null,
      "outputs": [
        {
          "output_type": "stream",
          "text": [
            "[['where', 'thing', 'car', 'nntp_poste', 'host', 'park', 'line', 'wonder', 'could', 'enlighten', 'car', 'see', 'day', 'door', 'sport', 'car', 'look', 'late', 'early', 'call', 'bricklin', 'door', 'really', 'small', 'addition', 'separate', 'rest', 'body', 'know', 'tellme', 'model', 'name', 'engine', 'year', 'production', 'car', 'make', 'history', 'info', 'funky', 'look', 'car', 'mail', 'thank', 'bring', 'neighborhood', 'lerxst']]\n"
          ],
          "name": "stdout"
        }
      ]
    },
    {
      "cell_type": "markdown",
      "metadata": {
        "id": "dvTqA52lZ5um"
      },
      "source": [
        "# Topic Modeling"
      ]
    },
    {
      "cell_type": "code",
      "metadata": {
        "id": "xUmt5AbbZ5uo",
        "colab": {
          "base_uri": "https://localhost:8080/"
        },
        "outputId": "5d6518e5-fb49-479f-b92e-a03c5249adb5"
      },
      "source": [
        "# Create Dictionary\n",
        "dictionary = corpora.Dictionary(data_lemmatized)\n",
        "\n",
        "# Create Corpus\n",
        "texts = data_lemmatized\n",
        "\n",
        "# Term Document Frequency\n",
        "corpus = [dictionary.doc2bow(text) for text in texts]\n",
        "\n",
        "# View\n",
        "print(corpus[:1])"
      ],
      "execution_count": null,
      "outputs": [
        {
          "output_type": "stream",
          "text": [
            "[[(0, 1), (1, 1), (2, 1), (3, 1), (4, 1), (5, 5), (6, 1), (7, 1), (8, 2), (9, 1), (10, 1), (11, 1), (12, 1), (13, 1), (14, 1), (15, 1), (16, 1), (17, 1), (18, 1), (19, 1), (20, 2), (21, 1), (22, 1), (23, 1), (24, 1), (25, 1), (26, 1), (27, 1), (28, 1), (29, 1), (30, 1), (31, 1), (32, 1), (33, 1), (34, 1), (35, 1), (36, 1), (37, 1), (38, 1), (39, 1), (40, 1)]]\n"
          ],
          "name": "stdout"
        }
      ]
    },
    {
      "cell_type": "code",
      "metadata": {
        "id": "uqL7-3-KZ5uv"
      },
      "source": [
        "# Build LDA model\n",
        "lda_model = gensim.models.ldamodel.LdaModel(corpus=corpus,\n",
        "                                           id2word=dictionary,\n",
        "                                           num_topics=20, \n",
        "                                           random_state=100,\n",
        "                                           update_every=1,\n",
        "                                           chunksize=100,\n",
        "                                           passes=10,\n",
        "                                           alpha='auto',\n",
        "                                           per_word_topics=True)"
      ],
      "execution_count": null,
      "outputs": []
    },
    {
      "cell_type": "markdown",
      "metadata": {
        "id": "cdAGui8UZ5u3"
      },
      "source": [
        "# View the topics in LDA model"
      ]
    },
    {
      "cell_type": "code",
      "metadata": {
        "id": "LgFX9gWtZ5u5",
        "colab": {
          "base_uri": "https://localhost:8080/"
        },
        "outputId": "86ef64f4-94d1-478f-8881-68045a99b55e"
      },
      "source": [
        "# Print the Keyword in the 10 topics\n",
        "print(lda_model.print_topics())\n",
        "doc_lda = lda_model[corpus]"
      ],
      "execution_count": null,
      "outputs": [
        {
          "output_type": "stream",
          "text": [
            "[(0, '0.051*\"report\" + 0.027*\"black\" + 0.020*\"fire\" + 0.020*\"white\" + 0.016*\"trial\" + 0.016*\"cover\" + 0.015*\"medium\" + 0.013*\"vote\" + 0.012*\"minor\" + 0.012*\"title\"'), (1, '0.021*\"god\" + 0.020*\"accept\" + 0.016*\"member\" + 0.015*\"man\" + 0.014*\"israeli\" + 0.014*\"season\" + 0.012*\"publish\" + 0.012*\"lebanese\" + 0.012*\"jewish\" + 0.011*\"brain\"'), (2, '0.017*\"package\" + 0.016*\"press\" + 0.015*\"item\" + 0.015*\"break\" + 0.011*\"level\" + 0.010*\"edge\" + 0.009*\"hole\" + 0.007*\"eye\" + 0.007*\"contribute\" + 0.007*\"equipment\"'), (3, '0.025*\"pc\" + 0.022*\"contain\" + 0.020*\"input\" + 0.020*\"reality\" + 0.017*\"picture\" + 0.016*\"object\" + 0.016*\"level\" + 0.015*\"box\" + 0.015*\"quality\" + 0.013*\"greek\"'), (4, '0.089*\"ax\" + 0.076*\"max\" + 0.032*\"space\" + 0.021*\"launch\" + 0.018*\"di_di\" + 0.017*\"orbit\" + 0.016*\"sphere\" + 0.015*\"satellite\" + 0.014*\"plane\" + 0.014*\"mission\"'), (5, '0.019*\"people\" + 0.017*\"kill\" + 0.015*\"child\" + 0.015*\"government\" + 0.012*\"attack\" + 0.012*\"year\" + 0.012*\"die\" + 0.011*\"country\" + 0.010*\"say\" + 0.009*\"war\"'), (6, '0.035*\"window\" + 0.032*\"card\" + 0.020*\"image\" + 0.020*\"driver\" + 0.020*\"problem\" + 0.019*\"run\" + 0.018*\"sale\" + 0.018*\"machine\" + 0.017*\"color\" + 0.016*\"screen\"'), (7, '0.025*\"people\" + 0.021*\"say\" + 0.014*\"reason\" + 0.014*\"believe\" + 0.012*\"may\" + 0.012*\"evidence\" + 0.010*\"make\" + 0.010*\"think\" + 0.009*\"many\" + 0.009*\"mean\"'), (8, '0.032*\"book\" + 0.023*\"physical\" + 0.021*\"science\" + 0.017*\"choose\" + 0.016*\"explain\" + 0.015*\"create\" + 0.011*\"author\" + 0.011*\"earth\" + 0.010*\"study\" + 0.010*\"nature\"'), (9, '0.033*\"mail\" + 0.028*\"file\" + 0.027*\"send\" + 0.026*\"program\" + 0.025*\"thank\" + 0.024*\"information\" + 0.021*\"software\" + 0.021*\"list\" + 0.019*\"include\" + 0.019*\"address\"'), (10, '0.073*\"group\" + 0.031*\"week\" + 0.021*\"young\" + 0.017*\"drug\" + 0.015*\"watch\" + 0.013*\"nntp_posting\" + 0.013*\"age\" + 0.013*\"route\" + 0.011*\"kid\" + 0.010*\"capable\"'), (11, '0.073*\"car\" + 0.023*\"existence\" + 0.022*\"model\" + 0.020*\"engine\" + 0.016*\"pain\" + 0.012*\"keyboard\" + 0.012*\"mile\" + 0.011*\"should\" + 0.011*\"price\" + 0.011*\"insurance\"'), (12, '0.070*\"drive\" + 0.025*\"power\" + 0.024*\"player\" + 0.017*\"speed\" + 0.017*\"light\" + 0.014*\"high\" + 0.013*\"bus\" + 0.012*\"university\" + 0.012*\"fast\" + 0.012*\"scsi\"'), (13, '0.040*\"line\" + 0.039*\"would\" + 0.035*\"write\" + 0.024*\"article\" + 0.021*\"be\" + 0.020*\"get\" + 0.020*\"know\" + 0.020*\"go\" + 0.014*\"good\" + 0.014*\"think\"'), (14, '0.027*\"patient\" + 0.017*\"family\" + 0.014*\"food\" + 0.013*\"treatment\" + 0.012*\"disease\" + 0.012*\"doctor\" + 0.011*\"cd\" + 0.011*\"diagnosis\" + 0.011*\"risk\" + 0.010*\"cause\"'), (15, '0.029*\"wire\" + 0.021*\"ground\" + 0.021*\"eat\" + 0.019*\"material\" + 0.018*\"seller\" + 0.018*\"controller\" + 0.016*\"signal\" + 0.016*\"trust\" + 0.015*\"lead\" + 0.015*\"expensive\"'), (16, '0.042*\"gun\" + 0.025*\"right\" + 0.016*\"carry\" + 0.015*\"law\" + 0.014*\"state\" + 0.014*\"crime\" + 0.014*\"weapon\" + 0.014*\"shoot\" + 0.013*\"steal\" + 0.013*\"protect\"'), (17, '0.028*\"use\" + 0.025*\"system\" + 0.016*\"also\" + 0.014*\"may\" + 0.014*\"number\" + 0.012*\"new\" + 0.009*\"work\" + 0.009*\"support\" + 0.008*\"bit\" + 0.008*\"need\"'), (18, '0.043*\"team\" + 0.039*\"game\" + 0.036*\"year\" + 0.030*\"play\" + 0.024*\"win\" + 0.017*\"lose\" + 0.013*\"hit\" + 0.013*\"fan\" + 0.012*\"last\" + 0.012*\"hockey\"'), (19, '0.054*\"key\" + 0.030*\"public\" + 0.021*\"government\" + 0.017*\"internet\" + 0.015*\"encryption\" + 0.015*\"technology\" + 0.014*\"chip\" + 0.014*\"security\" + 0.014*\"instal\" + 0.013*\"private\"')]\n"
          ],
          "name": "stdout"
        }
      ]
    },
    {
      "cell_type": "code",
      "metadata": {
        "id": "icT7lXGbtXWi",
        "colab": {
          "base_uri": "https://localhost:8080/"
        },
        "outputId": "49278a64-fd81-4e07-ac2e-2ba9efa2d820"
      },
      "source": [
        "lda_model.print_topics()"
      ],
      "execution_count": null,
      "outputs": [
        {
          "output_type": "execute_result",
          "data": {
            "text/plain": [
              "[(0,\n",
              "  '0.051*\"report\" + 0.027*\"black\" + 0.020*\"fire\" + 0.020*\"white\" + 0.016*\"trial\" + 0.016*\"cover\" + 0.015*\"medium\" + 0.013*\"vote\" + 0.012*\"minor\" + 0.012*\"title\"'),\n",
              " (1,\n",
              "  '0.021*\"god\" + 0.020*\"accept\" + 0.016*\"member\" + 0.015*\"man\" + 0.014*\"israeli\" + 0.014*\"season\" + 0.012*\"publish\" + 0.012*\"lebanese\" + 0.012*\"jewish\" + 0.011*\"brain\"'),\n",
              " (2,\n",
              "  '0.017*\"package\" + 0.016*\"press\" + 0.015*\"item\" + 0.015*\"break\" + 0.011*\"level\" + 0.010*\"edge\" + 0.009*\"hole\" + 0.007*\"eye\" + 0.007*\"contribute\" + 0.007*\"equipment\"'),\n",
              " (3,\n",
              "  '0.025*\"pc\" + 0.022*\"contain\" + 0.020*\"input\" + 0.020*\"reality\" + 0.017*\"picture\" + 0.016*\"object\" + 0.016*\"level\" + 0.015*\"box\" + 0.015*\"quality\" + 0.013*\"greek\"'),\n",
              " (4,\n",
              "  '0.089*\"ax\" + 0.076*\"max\" + 0.032*\"space\" + 0.021*\"launch\" + 0.018*\"di_di\" + 0.017*\"orbit\" + 0.016*\"sphere\" + 0.015*\"satellite\" + 0.014*\"plane\" + 0.014*\"mission\"'),\n",
              " (5,\n",
              "  '0.019*\"people\" + 0.017*\"kill\" + 0.015*\"child\" + 0.015*\"government\" + 0.012*\"attack\" + 0.012*\"year\" + 0.012*\"die\" + 0.011*\"country\" + 0.010*\"say\" + 0.009*\"war\"'),\n",
              " (6,\n",
              "  '0.035*\"window\" + 0.032*\"card\" + 0.020*\"image\" + 0.020*\"driver\" + 0.020*\"problem\" + 0.019*\"run\" + 0.018*\"sale\" + 0.018*\"machine\" + 0.017*\"color\" + 0.016*\"screen\"'),\n",
              " (7,\n",
              "  '0.025*\"people\" + 0.021*\"say\" + 0.014*\"reason\" + 0.014*\"believe\" + 0.012*\"may\" + 0.012*\"evidence\" + 0.010*\"make\" + 0.010*\"think\" + 0.009*\"many\" + 0.009*\"mean\"'),\n",
              " (8,\n",
              "  '0.032*\"book\" + 0.023*\"physical\" + 0.021*\"science\" + 0.017*\"choose\" + 0.016*\"explain\" + 0.015*\"create\" + 0.011*\"author\" + 0.011*\"earth\" + 0.010*\"study\" + 0.010*\"nature\"'),\n",
              " (9,\n",
              "  '0.033*\"mail\" + 0.028*\"file\" + 0.027*\"send\" + 0.026*\"program\" + 0.025*\"thank\" + 0.024*\"information\" + 0.021*\"software\" + 0.021*\"list\" + 0.019*\"include\" + 0.019*\"address\"'),\n",
              " (10,\n",
              "  '0.073*\"group\" + 0.031*\"week\" + 0.021*\"young\" + 0.017*\"drug\" + 0.015*\"watch\" + 0.013*\"nntp_posting\" + 0.013*\"age\" + 0.013*\"route\" + 0.011*\"kid\" + 0.010*\"capable\"'),\n",
              " (11,\n",
              "  '0.073*\"car\" + 0.023*\"existence\" + 0.022*\"model\" + 0.020*\"engine\" + 0.016*\"pain\" + 0.012*\"keyboard\" + 0.012*\"mile\" + 0.011*\"should\" + 0.011*\"price\" + 0.011*\"insurance\"'),\n",
              " (12,\n",
              "  '0.070*\"drive\" + 0.025*\"power\" + 0.024*\"player\" + 0.017*\"speed\" + 0.017*\"light\" + 0.014*\"high\" + 0.013*\"bus\" + 0.012*\"university\" + 0.012*\"fast\" + 0.012*\"scsi\"'),\n",
              " (13,\n",
              "  '0.040*\"line\" + 0.039*\"would\" + 0.035*\"write\" + 0.024*\"article\" + 0.021*\"be\" + 0.020*\"get\" + 0.020*\"know\" + 0.020*\"go\" + 0.014*\"good\" + 0.014*\"think\"'),\n",
              " (14,\n",
              "  '0.027*\"patient\" + 0.017*\"family\" + 0.014*\"food\" + 0.013*\"treatment\" + 0.012*\"disease\" + 0.012*\"doctor\" + 0.011*\"cd\" + 0.011*\"diagnosis\" + 0.011*\"risk\" + 0.010*\"cause\"'),\n",
              " (15,\n",
              "  '0.029*\"wire\" + 0.021*\"ground\" + 0.021*\"eat\" + 0.019*\"material\" + 0.018*\"seller\" + 0.018*\"controller\" + 0.016*\"signal\" + 0.016*\"trust\" + 0.015*\"lead\" + 0.015*\"expensive\"'),\n",
              " (16,\n",
              "  '0.042*\"gun\" + 0.025*\"right\" + 0.016*\"carry\" + 0.015*\"law\" + 0.014*\"state\" + 0.014*\"crime\" + 0.014*\"weapon\" + 0.014*\"shoot\" + 0.013*\"steal\" + 0.013*\"protect\"'),\n",
              " (17,\n",
              "  '0.028*\"use\" + 0.025*\"system\" + 0.016*\"also\" + 0.014*\"may\" + 0.014*\"number\" + 0.012*\"new\" + 0.009*\"work\" + 0.009*\"support\" + 0.008*\"bit\" + 0.008*\"need\"'),\n",
              " (18,\n",
              "  '0.043*\"team\" + 0.039*\"game\" + 0.036*\"year\" + 0.030*\"play\" + 0.024*\"win\" + 0.017*\"lose\" + 0.013*\"hit\" + 0.013*\"fan\" + 0.012*\"last\" + 0.012*\"hockey\"'),\n",
              " (19,\n",
              "  '0.054*\"key\" + 0.030*\"public\" + 0.021*\"government\" + 0.017*\"internet\" + 0.015*\"encryption\" + 0.015*\"technology\" + 0.014*\"chip\" + 0.014*\"security\" + 0.014*\"instal\" + 0.013*\"private\"')]"
            ]
          },
          "metadata": {
            "tags": []
          },
          "execution_count": 27
        }
      ]
    },
    {
      "cell_type": "markdown",
      "metadata": {
        "id": "Vod5_bTmZ5u_"
      },
      "source": [
        "# Compute Model Coherence Score"
      ]
    },
    {
      "cell_type": "code",
      "metadata": {
        "id": "LA15iJG2Z5vB"
      },
      "source": [
        "# Compute Coherence Score\n",
        "coherence_model_lda = CoherenceModel(model=lda_model, texts=data_lemmatized, dictionary=dictionary, coherence='c_v')\n",
        "coherence_lda = coherence_model_lda.get_coherence()\n",
        "print('\\nCoherence Score: ', coherence_lda)"
      ],
      "execution_count": null,
      "outputs": []
    },
    {
      "cell_type": "markdown",
      "metadata": {
        "id": "Rz4HQG8QZ5vG"
      },
      "source": [
        "# Visualize the topics-keywords"
      ]
    },
    {
      "cell_type": "code",
      "metadata": {
        "id": "ECiu3xU8Z5vI",
        "colab": {
          "base_uri": "https://localhost:8080/",
          "height": 881
        },
        "outputId": "22b7954b-54cd-4b09-bf36-c8c99fb1e9d1"
      },
      "source": [
        "# Visualize the topics\n",
        "pyLDAvis.enable_notebook()\n",
        "vis = pyLDAvis.gensim.prepare(lda_model, corpus, dictionary)\n",
        "vis"
      ],
      "execution_count": null,
      "outputs": [
        {
          "output_type": "execute_result",
          "data": {
            "text/html": [
              "\n",
              "<link rel=\"stylesheet\" type=\"text/css\" href=\"https://cdn.jsdelivr.net/gh/bmabey/pyLDAvis@3.2.2/pyLDAvis/js/ldavis.v1.0.0.css\">\n",
              "\n",
              "\n",
              "<div id=\"ldavis_el631404751137425445495419928\"></div>\n",
              "<script type=\"text/javascript\">\n",
              "\n",
              "var ldavis_el631404751137425445495419928_data = {\"mdsDat\": {\"x\": [-0.338658286897009, -0.3105535362316242, -0.22956319095420177, -0.1411878024681844, -0.05018151419505332, -0.022122862652228882, 0.020493330365386343, 0.04033858981345447, -0.05165792277056173, 0.023277586664219776, 0.06298386833793065, 0.11421002740376633, 0.055806988716775814, 0.1115749146980129, 0.12665630560020305, 0.09591618500395911, 0.13173779144335984, 0.10880360808866964, 0.12175435549321262, 0.13037156453991247], \"y\": [0.01579463453870421, -0.10208721992460167, 0.07667521218535771, -0.1922199891174191, 0.2537957367451472, 0.2859041603763609, -0.012532730980008863, -0.0008976332762119295, -0.01465506403580798, -0.1294770833126727, 0.06451222281763463, -0.004330220937546687, -0.14087773443252447, -0.040582877421634495, 0.02091249673504789, -0.07602534061934574, 0.01756363573828881, 0.029916191857588332, -0.036483935435072265, -0.014904461501283493], \"topics\": [1, 2, 3, 4, 5, 6, 7, 8, 9, 10, 11, 12, 13, 14, 15, 16, 17, 18, 19, 20], \"cluster\": [1, 1, 1, 1, 1, 1, 1, 1, 1, 1, 1, 1, 1, 1, 1, 1, 1, 1, 1, 1], \"Freq\": [24.176075938535476, 15.732083322567137, 12.43631250607731, 5.44205515599723, 4.782110608440165, 3.871352149834157, 3.3018038312071196, 3.247853767683141, 3.241522943647727, 3.160816155818328, 2.9086466352903044, 2.658865636050484, 2.3524110593678182, 2.1602031714825336, 2.000028778826942, 1.89646413791381, 1.7522286462692458, 1.7426858605568227, 1.6319092002211342, 1.5045704942131133]}, \"tinfo\": {\"Term\": [\"line\", \"write\", \"would\", \"people\", \"article\", \"drive\", \"be\", \"use\", \"year\", \"system\", \"ax\", \"key\", \"get\", \"group\", \"say\", \"go\", \"know\", \"max\", \"car\", \"problem\", \"right\", \"good\", \"team\", \"thank\", \"mail\", \"think\", \"window\", \"game\", \"file\", \"program\", \"be\", \"have\", \"lot\", \"will\", \"nntp_poste\", \"maybe\", \"like\", \"test\", \"ill\", \"distribution_usa\", \"pretty\", \"bike\", \"guess\", \"wonder\", \"pin\", \"nice\", \"sorry\", \"there\", \"worth\", \"anyway\", \"wait\", \"internal\", \"advice\", \"drop\", \"motif\", \"pull\", \"disclaimer\", \"personally\", \"laugh\", \"folk\", \"article\", \"get\", \"organization\", \"s\", \"hear\", \"money\", \"want\", \"write\", \"turn\", \"go\", \"line\", \"friend\", \"host\", \"look\", \"back\", \"sure\", \"would\", \"really\", \"much\", \"put\", \"know\", \"could\", \"good\", \"little\", \"try\", \"probably\", \"time\", \"bad\", \"take\", \"think\", \"see\", \"well\", \"make\", \"thing\", \"come\", \"still\", \"way\", \"say\", \"need\", \"reason\", \"believe\", \"claim\", \"sense\", \"faith\", \"agree\", \"rule\", \"religion\", \"argument\", \"prove\", \"matter\", \"understand\", \"mind\", \"truth\", \"atheist\", \"belief\", \"certainly\", \"church\", \"conclusion\", \"statement\", \"christian\", \"religious\", \"slave\", \"indeed\", \"sin\", \"logic\", \"therefore\", \"judge\", \"clearly\", \"argue\", \"evidence\", \"true\", \"person\", \"certain\", \"fact\", \"clear\", \"word\", \"people\", \"life\", \"exist\", \"mean\", \"talk\", \"say\", \"world\", \"view\", \"many\", \"point\", \"may\", \"must\", \"become\", \"even\", \"think\", \"make\", \"question\", \"law\", \"see\", \"would\", \"thing\", \"give\", \"come\", \"can\", \"know\", \"system\", \"add\", \"cheap\", \"hardware\", \"function\", \"currently\", \"device\", \"section\", \"field\", \"remove\", \"replace\", \"release\", \"block\", \"special\", \"secure\", \"period\", \"announce\", \"port\", \"nee\", \"mount\", \"operate\", \"recommend\", \"site\", \"development\", \"transfer\", \"external\", \"tool\", \"convince\", \"secret\", \"master\", \"build\", \"connect\", \"standard\", \"type\", \"support\", \"use\", \"service\", \"datum\", \"number\", \"require\", \"large\", \"design\", \"receive\", \"detail\", \"note\", \"new\", \"single\", \"bit\", \"provide\", \"base\", \"also\", \"high\", \"allow\", \"return\", \"order\", \"cost\", \"may\", \"possible\", \"work\", \"part\", \"need\", \"case\", \"call\", \"set\", \"first\", \"attack\", \"war\", \"soldier\", \"murder\", \"village\", \"visit\", \"terrorist\", \"turkish\", \"withdraw\", \"population\", \"gift\", \"president\", \"town\", \"house\", \"armenian\", \"door\", \"civilian\", \"male\", \"justify\", \"education\", \"minority\", \"somehow\", \"girl\", \"inhabitant\", \"border\", \"restraint\", \"role\", \"victim\", \"islamic\", \"escape\", \"country\", \"national\", \"kill\", \"military\", \"die\", \"burn\", \"child\", \"woman\", \"american\", \"city\", \"fight\", \"government\", \"death\", \"force\", \"live\", \"people\", \"year\", \"say\", \"today\", \"state\", \"area\", \"place\", \"mail\", \"software\", \"address\", \"email\", \"com\", \"copy\", \"info\", \"entry\", \"appreciate\", \"server\", \"distribution\", \"faq\", \"connection\", \"library\", \"select\", \"client\", \"update\", \"mine\", \"byte\", \"winner\", \"welcome\", \"frame\", \"localtalk\", \"shipping\", \"travel\", \"guilty\", \"variable\", \"conference\", \"beautiful\", \"educational\", \"ca\", \"list\", \"send\", \"advance\", \"originator\", \"page\", \"file\", \"information\", \"request\", \"program\", \"source\", \"thank\", \"include\", \"news\", \"available\", \"network\", \"name\", \"computer\", \"post\", \"message\", \"interested\", \"line\", \"window\", \"card\", \"image\", \"color\", \"screen\", \"memory\", \"disk\", \"tape\", \"display\", \"graphic\", \"monitor\", \"video\", \"mouse\", \"apple\", \"convert\", \"processor\", \"font\", \"blind\", \"resolution\", \"accelerator\", \"map\", \"este\", \"compatible\", \"egg\", \"default\", \"string\", \"setup\", \"icon\", \"utility\", \"specification\", \"sale\", \"mode\", \"machine\", \"driver\", \"version\", \"character\", \"application\", \"run\", \"error\", \"problem\", \"offer\", \"set\", \"user\", \"bit\", \"use\", \"program\", \"computer\", \"file\", \"key\", \"internet\", \"encryption\", \"security\", \"instal\", \"ripem\", \"private\", \"clipper\", \"encrypt\", \"tap\", \"market\", \"communication\", \"rational\", \"tax\", \"crash\", \"ram\", \"federal\", \"ensure\", \"pgp\", \"proposal\", \"illegal\", \"random\", \"privacy\", \"predict\", \"manage\", \"sequence\", \"amendment\", \"hint\", \"scheme\", \"corporation\", \"public\", \"pro\", \"step\", \"solution\", \"technology\", \"government\", \"chip\", \"access\", \"message\", \"information\", \"issue\", \"book\", \"physical\", \"science\", \"choose\", \"author\", \"nature\", \"revelation\", \"scientific\", \"direct\", \"theory\", \"animal\", \"objective\", \"translation\", \"benefit\", \"language\", \"topic\", \"statistic\", \"specifically\", \"energy\", \"attitude\", \"principle\", \"contradict\", \"prize\", \"cry\", \"daughter\", \"scientist\", \"element\", \"pattern\", \"implementation\", \"explicitly\", \"student\", \"earth\", \"explain\", \"create\", \"son\", \"study\", \"consistent\", \"research\", \"examine\", \"describe\", \"purpose\", \"concern\", \"necessarily\", \"define\", \"team\", \"game\", \"play\", \"hit\", \"fan\", \"hockey\", \"score\", \"wing\", \"cpu\", \"playoff\", \"average\", \"defense\", \"rider\", \"upgrade\", \"stat\", \"award\", \"coach\", \"king\", \"yesterday\", \"talent\", \"ball\", \"blue\", \"clock\", \"tie\", \"club\", \"offense\", \"weekend\", \"rock\", \"soul\", \"pitch\", \"win\", \"division\", \"trade\", \"goal\", \"lose\", \"year\", \"pick\", \"boy\", \"last\", \"final\", \"run\", \"next\", \"first\", \"great\", \"good\", \"point\", \"throw\", \"god\", \"israeli\", \"season\", \"publish\", \"lebanese\", \"jewish\", \"brain\", \"society\", \"respect\", \"practice\", \"pen\", \"terrorism\", \"evil\", \"hide\", \"interpretation\", \"homosexual\", \"sex\", \"marriage\", \"impact\", \"imply\", \"gay\", \"arab\", \"northern\", \"acquire\", \"economic\", \"compromise\", \"western\", \"penguin\", \"neutral\", \"aid\", \"accept\", \"member\", \"community\", \"shall\", \"assumption\", \"man\", \"exactly\", \"necessary\", \"state\", \"history\", \"whole\", \"right\", \"force\", \"drive\", \"player\", \"bus\", \"university\", \"scsi\", \"switch\", \"cool\", \"printer\", \"baseball\", \"air\", \"hot\", \"star\", \"foot\", \"cycle\", \"stick\", \"helmet\", \"ice\", \"slip\", \"water\", \"tube\", \"jumper\", \"electronic\", \"oil\", \"cold\", \"cap\", \"gas\", \"saturn\", \"remind\", \"maxtor\", \"deliver\", \"light\", \"blow\", \"speed\", \"power\", \"performance\", \"compare\", \"fast\", \"slow\", \"high\", \"low\", \"ride\", \"ever\", \"head\", \"extra\", \"driver\", \"rate\", \"package\", \"press\", \"item\", \"edge\", \"hole\", \"contribute\", \"extremely\", \"slightly\", \"promise\", \"fun\", \"pad\", \"mac\", \"miracle\", \"negative\", \"violence\", \"registration\", \"finish\", \"fool\", \"professional\", \"pitcher\", \"detailed\", \"audio\", \"detect\", \"wind\", \"vertical\", \"essentially\", \"storage\", \"mhz\", \"bend\", \"differential\", \"equipment\", \"break\", \"degree\", \"level\", \"eye\", \"overall\", \"due\", \"gun\", \"weapon\", \"steal\", \"firearm\", \"tv\", \"cop\", \"beat\", \"review\", \"blank\", \"militia\", \"headache\", \"shell\", \"rsa\", \"specify\", \"patent\", \"permit\", \"shot\", \"export\", \"glock\", \"sink\", \"gang\", \"floor\", \"distance\", \"truck\", \"usage\", \"sky\", \"knife\", \"rush\", \"islander\", \"park\", \"criminal\", \"shoot\", \"crime\", \"police\", \"carry\", \"protect\", \"right\", \"arm\", \"rate\", \"law\", \"state\", \"keep\", \"stop\", \"group\", \"young\", \"nntp_posting\", \"route\", \"kid\", \"waste\", \"fax\", \"link\", \"dangerous\", \"btw\", \"conversation\", \"planet\", \"tomorrow\", \"telephone\", \"dream\", \"direction\", \"taste\", \"relevant\", \"funny\", \"buyer\", \"warrant\", \"advocate\", \"wisdom\", \"decade\", \"newspaper\", \"gold\", \"contrary\", \"opponent\", \"imho\", \"warning\", \"week\", \"drug\", \"watch\", \"capable\", \"age\", \"recent\", \"laboratory\", \"issue\", \"environment\", \"discussion\", \"primarily\", \"pc\", \"input\", \"reality\", \"picture\", \"object\", \"box\", \"quality\", \"greek\", \"generate\", \"tumor\", \"interface\", \"ide\", \"digital\", \"status\", \"workstation\", \"mirror\", \"unlikely\", \"unix\", \"management\", \"technique\", \"anywhere\", \"algorithm\", \"expansion\", \"universe\", \"drink\", \"manufacturer\", \"manufacture\", \"routine\", \"shape\", \"compression\", \"contain\", \"scan\", \"level\", \"sample\", \"method\", \"original\", \"patient\", \"family\", \"food\", \"treatment\", \"disease\", \"doctor\", \"cd\", \"diagnosis\", \"medical\", \"wave\", \"ticket\", \"syndrome\", \"health\", \"neurologist\", \"dn\", \"father\", \"liar\", \"immediate\", \"msg\", \"diagnose\", \"spring\", \"eeg\", \"modem\", \"researcher\", \"migraine\", \"surrender\", \"probability\", \"confirm\", \"optional\", \"estimate\", \"adult\", \"blood\", \"risk\", \"cause\", \"effect\", \"study\", \"serious\", \"ax\", \"max\", \"launch\", \"di_di\", \"orbit\", \"sphere\", \"satellite\", \"plane\", \"flight\", \"prediction\", \"moon\", \"shuttle\", \"realistic\", \"lunar\", \"velocity\", \"investigation\", \"solar\", \"horse\", \"wide_range\", \"univ\", \"specifie\", \"film\", \"distant\", \"straightforward\", \"pot\", \"scare\", \"farin\", \"consultation\", \"comet\", \"vat\", \"mission\", \"space\", \"fuel\", \"car\", \"existence\", \"engine\", \"pain\", \"keyboard\", \"mile\", \"should\", \"motorcycle\", \"prayer\", \"battery\", \"observation\", \"accident\", \"morality\", \"sight\", \"cross\", \"arrogance\", \"up\", \"thinking\", \"leg\", \"honor\", \"tongue\", \"freenet\", \"national_capital\", \"react\", \"enjoyable\", \"luxury\", \"cure\", \"jungle\", \"necessarilly\", \"mechanic\", \"insurance\", \"concept\", \"auto\", \"model\", \"dealer\", \"vehicle\", \"mid\", \"pound\", \"safety\", \"race\", \"price\", \"ride\", \"owner\", \"sound\", \"report\", \"black\", \"white\", \"trial\", \"medium\", \"vote\", \"minor\", \"title\", \"past\", \"smoke\", \"ethnic\", \"benign\", \"tank\", \"devil\", \"canadian\", \"wise\", \"trace\", \"brother\", \"assist\", \"echo\", \"channel\", \"advertising\", \"penalty\", \"injury\", \"surveillance\", \"mass\", \"correctly\", \"occupant\", \"revolver\", \"blanking\", \"fire\", \"strange\", \"cover\", \"schedule\", \"table\", \"official\", \"begin\", \"third\", \"wire\", \"eat\", \"material\", \"seller\", \"controller\", \"signal\", \"trust\", \"expensive\", \"sensitive\", \"circuit\", \"damage\", \"decent\", \"metal\", \"insert\", \"noise\", \"configuration\", \"dept\", \"own\", \"fair\", \"contest\", \"timer\", \"few\", \"voltage\", \"struggle\", \"biker\", \"tire\", \"fold\", \"surgery\", \"stock\", \"unusual\", \"firm\", \"ground\", \"seat\", \"purchase\", \"lead\", \"condition\", \"stop\"], \"Freq\": [11975.0, 10060.0, 12046.0, 5647.0, 6479.0, 2284.0, 5686.0, 4580.0, 3537.0, 3512.0, 1769.0, 2027.0, 5394.0, 1780.0, 6429.0, 5622.0, 6321.0, 1498.0, 1438.0, 3003.0, 2638.0, 4558.0, 1575.0, 2494.0, 1764.0, 5551.0, 1542.0, 1439.0, 1855.0, 2036.0, 5685.098002173675, 2113.2621200342423, 1414.0534721122153, 1338.856236789278, 1087.4604163719398, 1070.9213414302546, 886.7211139733389, 826.3589754534719, 693.0309168106802, 667.8801105041467, 662.9430229312468, 619.3171148989799, 616.4359236651239, 606.8468041683986, 570.1315730100483, 469.6304530013587, 412.66908875463054, 412.04473108045374, 401.8700240201281, 390.97603607227165, 362.9030439067644, 349.4388200791428, 340.28751682291903, 335.16735170327246, 317.59123986122546, 307.5156508131031, 303.1923703596986, 297.08162891482345, 292.74099724799703, 274.94271996083523, 6443.250692374287, 5343.440025499436, 2885.3542539260498, 2819.1687176824817, 1499.5359728681797, 900.7306616513639, 3293.439794025947, 9678.655825666121, 941.1832679117267, 5327.713343268224, 11036.877796245899, 620.3805599648247, 3447.259762835148, 2735.1992681599327, 1753.3455822354733, 1834.2230836607705, 10541.72679084247, 2085.5472111523213, 2489.323294567749, 1352.7054287476565, 5329.677526050609, 3297.5893398936782, 3888.5950582258847, 1386.5643196774547, 2517.937924245277, 1325.5747409418323, 3580.3815772011844, 1441.184668378506, 2679.948174250093, 3854.6794739540633, 3150.564945220273, 2370.909716118372, 3701.614060477262, 2243.962645658441, 2222.957635323698, 1663.0900359646384, 1897.3774328328427, 2125.446612425049, 1882.372764464169, 2467.706180679135, 2424.6508722519325, 1516.4335887009706, 1298.5785753073585, 1056.0754710992965, 931.1944799921441, 789.1496813820887, 788.4439353032412, 751.309796773148, 714.6732869831329, 714.0789614350177, 705.407350507932, 660.5076476605346, 646.8292679179874, 637.5427347745219, 622.9523941178521, 557.0933065788508, 517.985031162005, 492.2269122761656, 476.4812970519591, 472.1641857531865, 467.1525366026742, 465.1133423681703, 421.6827030885567, 393.6297514008578, 369.8390692807693, 362.3135926326933, 340.49005776695446, 325.72081974366165, 322.19345418888764, 2088.8945740490053, 1165.3244181690984, 1141.8945086138121, 499.34947177116305, 1511.310229508325, 616.8835734060752, 877.1734722938853, 4487.302643970535, 886.5930152468663, 1115.3761741469077, 1554.4863055486449, 994.8137005367629, 3665.2461041051774, 928.0627938054159, 723.8927361990379, 1649.9089325498308, 1453.1409370170281, 2185.743416930581, 1108.2554344378611, 811.7346312332695, 1294.4635429666994, 1694.7459768582307, 1709.883618139689, 1163.1605272381737, 889.1387303573457, 1165.0873496901982, 1479.4533875188306, 1056.7746824922285, 981.5310001622614, 990.269860451994, 956.5225090119536, 990.3956738352484, 3511.865348914554, 757.3959611066182, 688.3226889104732, 634.7381146229465, 537.1064379188912, 528.0279623579922, 521.7933087961718, 517.1457055146308, 480.2617114796536, 476.98184462069946, 467.4336489951807, 458.39385087817715, 451.2939407206747, 376.674100748189, 368.6635215101603, 364.7348348083454, 360.55181857477874, 354.4124691118214, 346.6840423174253, 342.0776666409156, 335.5914952634676, 333.6799860201975, 333.6429759893525, 324.90412958076587, 318.1405791382219, 316.95004622021077, 312.99500785332424, 308.5235291620322, 308.055182261101, 299.1662686779751, 1058.2536405052058, 441.82081137679904, 683.9307883243725, 959.2006086059616, 1303.6201405290274, 3903.806283552533, 616.997624431275, 721.713975714764, 1924.0794452305013, 949.4532388568496, 981.2369433142792, 631.8261575494148, 830.4418612426131, 433.49270438296975, 783.6745869477268, 1688.1560611156474, 660.3765846301818, 1153.6982597858132, 1049.741594965852, 907.1533891509366, 2210.7833379920253, 1037.1535418775213, 848.9356951893461, 673.6866602637248, 990.2689601703806, 741.0470742302164, 1997.2438297761976, 820.2074107165326, 1307.5833524892985, 870.9840614271257, 1069.8537350139668, 869.0533932809623, 867.073748963239, 758.9318773866843, 703.3917218403582, 743.2966104348333, 568.4500687158031, 534.9762507430708, 466.079734304926, 464.3680615539038, 358.7877541535928, 324.6825172140131, 321.4419275438105, 291.8227782935992, 275.16618802024067, 273.07026161870897, 264.81171242537, 259.9280657055318, 248.90119629628018, 247.75899380755894, 237.0565610664361, 234.08401042156282, 228.483175108144, 212.6347793659226, 189.23180348514367, 187.6564464978438, 177.736970986514, 173.08004507982739, 161.12858052507622, 160.63520845203206, 155.9647482556224, 154.5150055006359, 151.8485787428708, 151.20375424804197, 150.54954445294004, 687.6966037036848, 269.2428331579561, 1067.94954106201, 416.1656457846413, 720.3485784006756, 216.94844077649358, 911.9611006459421, 468.56343384456954, 328.7586561320024, 402.95529198960304, 271.82115827077973, 892.4220500262157, 566.3234970197823, 453.5160505896788, 551.8585174287882, 1157.25651035926, 722.32189501053, 637.4936024490793, 292.3755667569392, 329.5641895871475, 298.10517811876946, 276.43569295077566, 1763.3306446738184, 1145.7086696034191, 1032.6247067169193, 929.8756524356595, 874.9674148895614, 823.6663076605863, 796.5403155475013, 775.5641462125, 593.9790537387851, 570.3639414559004, 502.50513552044345, 484.5251523198978, 346.7808240178414, 333.1116959588692, 282.63110653024734, 281.61129892860095, 281.4387621362121, 262.6766305822945, 230.33146335896146, 197.11041167586976, 194.04834877136759, 180.0858553633431, 171.78267937841517, 157.19160340826244, 151.14355018237848, 134.0105486373288, 132.77962107396675, 120.5753585434375, 115.78268523162942, 114.88402048421344, 592.2957765450717, 1131.078595591151, 1452.2199041250585, 558.9718364104418, 330.6730485644935, 476.67922900736664, 1530.5779585775965, 1295.5649449546208, 354.0146968202693, 1413.8845521438805, 918.2559959516817, 1338.2225170773957, 1038.1613726574637, 488.3426860002838, 647.0311252855059, 378.38533016664843, 667.9854697974538, 583.6469109521348, 720.4010510552604, 575.4861369088702, 456.31581420901864, 937.5511510354522, 1541.2995736912283, 1402.9362508407373, 891.7771924103522, 759.5229352212876, 680.4096352086858, 677.2520646656334, 657.5192639302915, 596.3447848546678, 596.0475591186781, 577.5062667850544, 532.1527378802963, 494.7230166768505, 305.40557062608553, 287.73684202514676, 265.82496262147896, 242.46727806772168, 238.8207160265403, 213.4949948829902, 210.7059541269595, 168.4276083411737, 167.68205049670314, 166.01456770808508, 161.672501108613, 160.35766092122438, 154.86045037540643, 151.89125646389184, 151.59462102692592, 147.10640453124745, 144.49431099634796, 135.63921498706435, 794.2611778487191, 498.680218490456, 788.4221841681934, 885.8117526079277, 620.130130873508, 391.7935529653449, 458.6336813599213, 843.1239326735298, 354.86371325925785, 872.1681102083171, 345.4178704132471, 524.251727934381, 328.8870551337045, 412.4798698201702, 538.0450213140626, 416.66517131857916, 344.97714094908827, 324.24813936830964, 2026.5039911394836, 628.6961263881194, 574.6845023164673, 527.0417575389877, 521.8171099252353, 472.0225637773307, 487.6804307797763, 431.1822598474571, 405.4462654725724, 328.6179221353167, 282.63808920690997, 245.9042767070155, 245.03475784879186, 237.74106644951158, 231.33331695760796, 223.07080454243442, 217.8819543148909, 202.29679315795582, 192.53325571543468, 190.45905585633548, 178.8267108322307, 174.99713701011655, 165.1613103744947, 161.72995209304926, 161.0181188114188, 159.0830982177107, 153.25508583301308, 149.85912564588378, 144.22606318768106, 143.46077687397633, 1110.997400952175, 272.94272651494276, 234.12030492677675, 450.007935121631, 547.7651109346411, 768.0482330872237, 532.3040427537588, 336.53341517467595, 487.4709587807481, 293.54922627016373, 219.48769798123553, 1163.1913888186618, 834.3405055618346, 755.2567083336575, 612.4556864763974, 395.0028915249622, 353.6344867986703, 347.55929365320196, 322.4443649969312, 321.2126456971967, 315.8489084283025, 261.319218905828, 244.8269401144298, 219.56731927722166, 205.60140729097566, 197.54876572393246, 192.14281447282684, 189.10892357733374, 183.5456603504468, 173.43754621752294, 169.48715766373556, 165.50912168389627, 159.6881858123541, 143.45798549385168, 139.06056760376217, 136.82303016274122, 135.74615523343627, 132.3057412984879, 131.74516796229761, 129.37756466548655, 129.20846112226312, 243.36994296140537, 386.84230716602644, 587.4153495168497, 538.6244903535903, 213.2175303251355, 362.0258477577698, 223.89146892674563, 315.13895531484917, 195.10513627469214, 252.2612800415345, 238.79855462480347, 206.6268552755275, 190.04113194098176, 191.7121020701829, 1574.828715468531, 1438.3501039486155, 1092.9734699365279, 476.6054519753578, 464.88735209174934, 446.2443146374041, 440.5769536922676, 382.0220412418647, 377.45535384565704, 325.4289796875613, 282.78214055828806, 224.4965675952454, 205.15566425154682, 190.4273295860893, 176.84686210624352, 171.31688935370403, 166.0067104396128, 161.21763858279155, 153.45518013570978, 152.93645917780253, 151.14766865977407, 149.3054124724519, 148.0066245021426, 147.61530420664235, 139.58261148493932, 136.93151874432638, 135.65562028433317, 133.31147366139496, 132.51265020364457, 124.76192625235772, 879.8790485821215, 371.8063317784804, 311.67448034633253, 362.42855223704623, 617.223161885666, 1314.8850056563763, 234.55476041355075, 185.79398479982495, 451.22089981700816, 205.23699615268478, 433.2904538937982, 290.96838729577115, 353.19867676897223, 253.79868586171816, 298.84882131277686, 228.75582313212234, 186.71989361399508, 749.8655687301847, 502.1486888834383, 496.2372324827719, 438.5418168735373, 421.24815613606677, 411.8223663269165, 374.8635819348073, 337.4525553397886, 336.03257598138055, 278.8494976730168, 264.8893366159007, 255.83176223551948, 242.7686069354165, 215.16257088245226, 200.17314831899355, 195.86275429315816, 193.66238624145214, 191.89405142165987, 189.73441707711729, 187.10427600735886, 179.00709308742665, 176.2080342699697, 161.312177912684, 147.95866822749238, 147.78689197402798, 137.11427014554846, 134.0345542576213, 127.44550734630046, 126.07321683844545, 119.439048745995, 715.8377166628119, 555.3149018219931, 340.89748688735267, 338.7570975990709, 193.16480680755853, 525.1666736092292, 241.85134234974885, 222.5763216360516, 303.5726475650184, 208.35098431149376, 202.15030363266933, 204.4871819539145, 194.7246368986391, 2283.437383521511, 796.825177806112, 414.55110035593174, 406.23632534440077, 397.96498341930715, 309.4716603107066, 303.4552602387234, 275.4462109824093, 265.7880995460617, 258.6573961135171, 258.01440291416156, 252.24656550199012, 245.0116379553363, 214.99772354641271, 195.10798511932143, 188.56370482038182, 181.65148204728905, 180.91773816662405, 180.16787510528832, 178.18954389809036, 176.20419304769706, 170.91488425335058, 158.56353912438328, 155.1618108559253, 151.9328820394585, 142.39015885563538, 140.20945087631603, 138.69213741230547, 129.97389349711653, 129.06471970992962, 544.9907831184076, 184.3441192996373, 569.1291797061439, 819.2622208727298, 299.12669437503797, 396.0560686837074, 402.48116798172947, 370.6729777160561, 450.1942792206154, 326.4357368593774, 229.67807617553828, 255.95472642993545, 221.46125500859569, 190.7147437195292, 221.68051562840256, 200.09970080487096, 522.2265959157027, 465.78690814790724, 463.6049346488054, 290.51610314024725, 263.4840856016684, 200.42406169223761, 194.18101831956236, 181.16868169641552, 181.04472086262385, 178.09165142245433, 174.7603245919723, 170.86739241412602, 166.59810412863274, 165.49032737554245, 159.21875078286394, 157.80003043383425, 156.5338460786583, 149.35381985234383, 148.82573859197996, 146.2624041382144, 141.4483424489551, 138.9552995337375, 138.2423185341463, 138.20139901677763, 137.93776380716406, 133.297739381903, 130.25925202197854, 129.316761040617, 128.91631735919955, 125.27092938840738, 200.4082363100506, 441.4873413601931, 169.41309291521478, 330.9462918629085, 208.82792679436017, 146.64210147054573, 167.24762981926034, 1106.9244434231477, 378.209495397518, 357.04024084786863, 296.8792537251477, 294.3304077759685, 279.8475571611903, 276.5434527035831, 238.53584935132952, 219.39560837405847, 209.48609033094937, 191.01288181414498, 190.92445786673494, 185.72839757367075, 181.46049806359676, 171.29195437960627, 169.78715170933066, 155.4670486536546, 154.5496857593326, 147.14545104926364, 129.8794291693623, 127.98807940096685, 126.96062256960518, 123.36576671575125, 122.804325979867, 108.64171377918773, 105.19042160663027, 96.5399336716187, 92.48754666114918, 91.70925760438189, 91.41025627486863, 283.52791794558635, 377.00290245896093, 380.42450971421755, 319.0722668602117, 424.46265349101014, 348.05095524108725, 675.6934308880849, 186.89157632067523, 313.9955770408437, 410.4665860451044, 382.48632512021334, 254.10041835255234, 196.4104903269667, 1779.518918597883, 504.8189181728796, 315.1276131435023, 309.7796934905086, 275.0752220893938, 235.2953801914706, 219.06673395276007, 209.39585029997164, 200.04690085633962, 197.30832475423273, 170.66107926426585, 168.18634064961643, 156.83560420258502, 150.4762450447445, 147.29404396587955, 138.20813694215482, 138.00758683168792, 135.45242145528866, 132.16051241261331, 128.24209014043376, 123.32198497805831, 121.40172647287109, 120.40497300148603, 120.09395393398215, 119.6410380249954, 119.63048634279436, 115.74768309686073, 114.40931181539956, 112.78555671587236, 111.19338851430113, 745.1995958474274, 416.6035838371165, 362.9655555268785, 246.36067602989664, 310.58854978358164, 192.33445030925265, 143.00861851255894, 230.77644339867618, 147.59596518898832, 172.18849489293274, 130.96977381710383, 560.5361855701652, 445.4550353988785, 440.99047682519995, 390.9288092196369, 362.93982363358043, 347.7059445124308, 347.0178452319891, 304.57456838516543, 261.83175582443005, 250.8300122201946, 248.10907875718442, 237.98678227254027, 237.7116435132794, 204.3920284952961, 189.12967223914882, 181.44555692585428, 156.85245917233865, 152.71327394945854, 151.39192647282468, 146.01597338807662, 145.96337271257505, 144.9176792757098, 144.0040974514647, 141.44414182543534, 139.3868791404298, 126.61787061774352, 125.34445474425563, 125.12737442750657, 116.62440477595617, 115.95094366830499, 490.007912707991, 254.50964084169647, 350.17495838681333, 162.14559931834728, 225.02259811264707, 238.4798741706347, 577.25703708128, 355.09601869176794, 297.30203883154775, 273.5268172764762, 264.3650175990087, 250.01053296838606, 245.51736148373973, 238.20930440629238, 171.1922207175556, 165.18470308527313, 156.3246179495171, 153.03264087800872, 150.20509161054397, 143.467807290123, 133.17286798658813, 122.09929217638985, 119.73707811012969, 119.34728621542276, 113.90338187685288, 113.15525784615075, 110.67116338980072, 137.5264498794102, 109.83168141636742, 104.09946409415537, 101.03481493995605, 100.59027010227412, 100.45997385280147, 99.99225548762476, 98.60963149928556, 98.02111962633263, 147.17535231854745, 155.9751304429917, 232.6491335743536, 221.275797616329, 136.26962504032844, 117.0448805906057, 109.66485993831756, 1768.627013864651, 1497.2063382021413, 425.0201249218291, 349.87612797144646, 329.2754395521017, 317.7454515605859, 287.9105131253814, 272.94594693312763, 254.67355531346442, 182.0912394667288, 180.45738350455306, 167.8975085004414, 142.92533269800197, 139.2253272985729, 125.32738965547806, 123.1023063548224, 122.5455080840797, 119.71670458547086, 118.45183020287095, 117.17445374777456, 109.17233503002505, 109.07050348448068, 107.27093287381979, 105.06603530701808, 97.63028719112687, 93.94330900651727, 93.25578714944244, 88.39477499108732, 86.0161105935146, 84.47374916484117, 268.7400912813093, 634.0501336994392, 131.29951083905178, 1437.4912456103152, 449.7990921051222, 392.5963464208555, 316.5782048614534, 237.154434169687, 227.34377248935505, 222.73757199495924, 212.65327101284205, 202.0980179535364, 201.45533577341268, 171.8935864747192, 146.16307144931625, 139.82734668592877, 130.26442093522337, 129.43097741623455, 126.87970142269147, 112.7796172395696, 110.78309673381396, 107.8392201789398, 94.69928338117046, 92.53357088146008, 81.00255694328993, 80.96541991910912, 79.65557242819028, 78.8269668931066, 75.09454019451475, 70.54929554846899, 70.40307939663944, 70.38474453718082, 67.25118327811745, 213.5805329356274, 177.3406432323827, 95.57325417821298, 431.79138298238973, 205.53005441471615, 181.20888624997775, 92.12288285757462, 97.09845609284794, 188.04043106085388, 158.56668175728313, 217.3062020335942, 134.1870362946612, 121.05000411980461, 106.18058886728514, 939.5968489321684, 492.92276586461446, 366.8301258964932, 299.6628815066193, 283.9691467093181, 243.54427105832337, 228.80321773480676, 218.92064257846135, 192.2606971327208, 168.96620646259595, 161.6264147827263, 152.64495291447287, 151.58566858893386, 144.48883942920904, 136.59274629323428, 135.76739791024468, 124.56476300413925, 119.34899710781026, 118.15114795186373, 115.96528324747676, 115.54972604260547, 114.12765395346126, 113.64352221613491, 113.27671882675533, 109.32588362975795, 107.50565538076485, 100.8770070004292, 91.35948483248481, 88.26138664555369, 86.35709624760383, 375.79392930781563, 138.838510748756, 288.441644299918, 125.90490946316822, 146.36973108466577, 141.90218438310833, 141.05473289756566, 113.65803166738385, 496.5076401375325, 351.4222323158118, 326.9119700916884, 311.7766831816449, 299.9075073126421, 277.1448815662512, 272.53452483525496, 247.85985903112717, 202.66286093785922, 192.53182850953738, 175.81794446819262, 160.77663862495945, 144.9480593973133, 136.651050083893, 134.62547330301973, 133.66333817611726, 128.39350016115029, 125.4079637410322, 111.20971078575407, 108.87741397774539, 102.1330858044757, 90.69516278699616, 90.6942846810689, 90.0060157622393, 89.45007186904402, 89.24935742231753, 86.94988278991457, 86.30921354103427, 79.42301983989344, 72.760482091687, 155.66478056825858, 355.0021198748629, 121.90644911370586, 167.27463830847, 254.0044962321224, 153.8866397981338, 136.92155417467677], \"Total\": [11975.0, 10060.0, 12046.0, 5647.0, 6479.0, 2284.0, 5686.0, 4580.0, 3537.0, 3512.0, 1769.0, 2027.0, 5394.0, 1780.0, 6429.0, 5622.0, 6321.0, 1498.0, 1438.0, 3003.0, 2638.0, 4558.0, 1575.0, 2494.0, 1764.0, 5551.0, 1542.0, 1439.0, 1855.0, 2036.0, 5686.074547825529, 2114.238665681597, 1415.0300177595718, 1339.8327824366345, 1088.4369620192963, 1071.8978870776111, 887.6976596206948, 827.3355211195601, 694.0074624580361, 668.8566561515026, 663.9195685786027, 620.2936605508098, 617.4124693169784, 607.8233498157546, 571.1081187084889, 470.6069986487148, 413.6456344070353, 413.02127672780983, 402.8465696674842, 391.95258171962774, 363.8795895541205, 350.4153657430559, 341.26406247451354, 336.14389735436225, 318.5677855236807, 308.4921964604592, 304.1689160112931, 298.05817457615444, 293.7175429014917, 275.9192656081913, 6479.28248698915, 5394.158967129663, 2904.297721949015, 2862.7913332196495, 1514.106939997142, 910.4735522378545, 3379.954715316611, 10060.336497217402, 955.8168415188803, 5622.476746321219, 11975.351338251969, 630.0014152718225, 3698.8186384858195, 2914.524391173708, 1843.4480836757193, 1943.1355878285335, 12046.435352698627, 2230.493541319242, 2716.488253804129, 1433.2771495795034, 6321.001421731403, 3779.2178751471506, 4558.392561141294, 1480.005822211242, 3072.5597159801737, 1435.179612968383, 4685.836769461282, 1588.8586366364843, 3424.214814523191, 5551.465563133211, 4330.062004983382, 3118.1739433042308, 5896.968774846896, 3301.665549996215, 3430.1150349973045, 1966.4710594089486, 2944.585697455405, 6429.059381294796, 3218.098293981869, 2468.6867983418438, 2425.6314899104723, 1517.4142063595118, 1299.5591929745428, 1057.0560887620068, 932.1750976582351, 790.1302990509291, 789.424552961782, 752.2904144316888, 715.6539047871764, 715.0595790977968, 706.3879681664728, 661.4882653239442, 647.8098855765281, 638.5233524330627, 623.9330117763928, 558.0739242373916, 518.9656488205458, 493.2075299388756, 477.46191471049997, 473.14480341172737, 468.1331542612151, 466.0939601962689, 422.6633207470976, 394.6103690593987, 370.8196869910209, 363.294210296103, 341.47067543163394, 326.70143740220254, 323.17407185921724, 2108.7292757315226, 1196.6220452175153, 1174.95234268921, 505.5574567602087, 1603.5095718735456, 637.980457827529, 934.0274891952163, 5647.9851397937455, 959.3612516028043, 1277.1417457873024, 2034.188915790857, 1206.9727669606439, 6429.059381294796, 1109.9156386638265, 818.1991752671632, 2872.279468266868, 2658.133620548486, 5440.902489668586, 1695.8029051653543, 1033.727475232858, 2928.5873281433815, 5551.465563133211, 5896.968774846896, 2442.9945507591005, 1328.6388577425002, 4330.062004983382, 12046.435352698627, 3301.665549996215, 3003.9610393600256, 3430.1150349973045, 2632.5948630638736, 6321.001421731403, 3512.8400579311074, 758.3706698250018, 689.2973976424736, 635.7128233597459, 538.081146644825, 529.0026713648912, 522.7680175145554, 518.1204142451924, 481.236420215788, 477.9565533517938, 468.40835771729803, 459.3685595965608, 452.26864944329674, 377.64880946657263, 369.63823023278235, 365.7095435308901, 361.52652731789885, 355.387177830205, 347.6587510358089, 343.05237540600956, 336.5662039955431, 334.6546947502761, 334.61768470773615, 325.87883830814656, 319.1152878566055, 317.92475495116037, 313.9697165762064, 309.4982379187976, 309.029890983723, 300.1409774219456, 1080.4311878662788, 446.2927942330164, 706.8257403941246, 1007.2953606078088, 1412.1184788496737, 4580.86856616188, 644.3929988404549, 771.2746171899468, 2269.436487562508, 1055.2549014242688, 1118.086796990515, 691.9671814061946, 950.1926951821448, 450.746512302359, 941.1807501801201, 2517.7863119527397, 772.5745651318697, 1603.922023210252, 1449.7619820944772, 1190.4319962819802, 4347.15795331618, 1506.7641656348615, 1140.20651718297, 810.446985082185, 1498.9521843294463, 953.5072710135345, 5440.902489668586, 1226.901891556636, 3428.772164533895, 1690.8631522875064, 3218.098293981869, 2002.8384637157667, 2284.0306157018517, 1520.8341298977775, 2754.993991881252, 744.2703923754074, 569.4238506460995, 535.9500326733671, 467.05351623522245, 465.34184348825767, 359.7615361190043, 325.656299148548, 322.41570947410696, 292.79656023399247, 276.13996995053714, 274.0440436361108, 265.78549435566646, 260.9018476358283, 249.87497823043932, 248.73277573785538, 238.0303430091095, 235.05779235609768, 229.4569570518408, 213.60856131506287, 190.2055854347795, 188.63022842814024, 178.71075296002806, 174.0538270149927, 162.10236245943008, 161.6089903913256, 156.93853074942137, 155.48878744843793, 152.82236068989556, 152.1775361783384, 151.52332638323648, 699.4686353865395, 275.0595680920519, 1145.8319561068563, 432.3879714682661, 793.0067959712229, 223.9188246232308, 1171.9325298214442, 552.0851919651321, 370.25935408298045, 507.81856337969646, 311.38374975810865, 1661.391961558752, 894.5196720607626, 715.0142866044821, 1274.8211059910072, 5647.9851397937455, 3537.3668404446853, 6429.059381294796, 687.4994610041932, 1869.1532666988883, 911.2353482795376, 1356.8619227007175, 1764.3047178696754, 1146.6827427992762, 1033.598779917825, 930.8497256315161, 875.9414881149213, 824.6403808564429, 797.5143887433579, 776.5382194123475, 594.9531269396111, 571.338014651757, 503.4792087163001, 485.499225520253, 347.75489722129447, 334.0857691547258, 283.60517973806714, 282.5853721244576, 282.41283533206877, 263.6507037781511, 231.30553656751235, 198.08448487588745, 195.02242197644208, 181.0599285808362, 172.75675265850234, 158.16567660411908, 152.11762341978118, 134.98462190016795, 133.75369427805282, 121.54943174335155, 116.75675847658279, 115.85809372257347, 608.0872540872236, 1193.7121950362584, 1587.4864068611025, 605.0189591331477, 349.20494631144743, 516.5225147645991, 1855.7437968097577, 1590.0361474689446, 386.0929638853118, 2036.1284373407173, 1323.3302736897917, 2494.8926323104283, 1794.3305594599883, 720.1897362624679, 1190.9086760643245, 479.6726676943435, 1442.0773731321774, 1264.0840336200558, 2078.893167079565, 1288.3690563603159, 743.2399893914555, 11975.351338251969, 1542.2721408195737, 1403.9088179826726, 892.7497595480647, 760.4955023545016, 681.3822023370309, 678.2246317939785, 658.4918310586365, 597.3173519911139, 597.0201262470232, 578.4788339133995, 533.1253050086414, 495.6955838094341, 306.3781377544307, 288.70953398373297, 266.79752975904194, 243.43984519606684, 239.79328315488547, 214.46756225553045, 211.67852125879756, 169.4001754814128, 168.6546176250483, 166.98713697839005, 162.64506826054406, 161.3302283905605, 155.83301752662186, 152.8638236065358, 152.56718815900481, 148.0789716595926, 145.46687812855583, 136.61178217757555, 809.8945981791366, 548.6948599159907, 923.7275205865452, 1108.4146364686478, 818.141788143663, 476.4862990589311, 710.6984339254994, 2287.103443789933, 591.5861688756956, 3003.7668187086306, 671.7950326652606, 1520.8341298977775, 683.3568663717385, 1603.922023210252, 4580.86856616188, 2036.1284373407173, 1264.0840336200558, 1855.7437968097577, 2027.4808291148504, 629.6729643696245, 575.6613402918338, 528.0185955143542, 522.7939479232974, 472.99940182483874, 488.7481468684271, 432.1590978228237, 406.423103447939, 329.5947601106833, 283.61492719061334, 246.8811146873516, 246.011595950862, 238.71790443091757, 232.3101549897183, 224.04764253677942, 218.85879229025747, 203.2736311333224, 193.51009369080126, 191.43589383170206, 179.8035488136367, 175.97397498965228, 166.13814834986127, 162.70679013764942, 161.99495681392716, 160.0599361980468, 154.23192381441908, 150.8359636463674, 145.20290117202023, 144.43761485730985, 1223.5867431324648, 287.64364110707834, 262.7834099982604, 634.2700671988429, 968.9760715341356, 1661.391961558752, 1094.994844201946, 553.6371071779197, 1288.3690563603159, 1590.0361474689446, 1378.0181105793172, 1164.170281602281, 835.3193983855093, 756.2356011172765, 613.4345792823885, 395.9817843147199, 354.6133795867634, 348.5381864418697, 323.4232577805503, 322.1915384850542, 316.82780121192155, 262.29811169844413, 245.80583289804886, 220.54621206457446, 206.58030008393766, 198.52765850755154, 193.12170726258452, 190.0878163691713, 184.52455313406588, 174.41643900601088, 170.46605046069914, 166.48801446751534, 160.66707860526026, 144.4368783004522, 140.0394604432029, 137.80192297453357, 136.72504801705534, 133.28463408210698, 132.724060780812, 130.3564574744826, 130.18735390961592, 247.38529658970324, 454.2964484883057, 771.4928975554371, 778.0944759060328, 251.9701258032741, 559.8895075385085, 292.49606727575053, 565.7519202883284, 253.97607138038325, 590.7382200267302, 670.7998068789013, 522.8597669539753, 319.5422490691407, 418.906726920198, 1575.807727795554, 1439.3291162756384, 1093.9524822711012, 477.58446430238075, 465.86636441877226, 447.22332696442703, 441.5559660192905, 383.00105356888764, 378.43436621505924, 326.40799201458424, 283.76115291509, 225.4755799318006, 206.1346766118591, 191.40634193968702, 177.82587443326642, 172.29590172755545, 166.9857227666357, 162.19665090981445, 154.4341924754434, 153.91547150482543, 152.12668099103539, 150.2844247994748, 148.9856368666594, 148.59431653752796, 140.56162382149452, 137.9105310866758, 136.63463263647216, 134.29048598841786, 133.49166254743562, 125.7409385793806, 1033.4839335551856, 407.61381103918023, 366.80707739748954, 455.5539939863055, 902.9108261708474, 3537.3668404446853, 373.6095949209866, 238.17037215109906, 1654.7319870851163, 333.1932709971244, 2287.103443789933, 1211.935063823042, 2754.993991881252, 1323.2779563790716, 4558.392561141294, 2658.133620548486, 335.4207896495678, 750.8466251000044, 503.12974523956615, 497.2182888472218, 439.52287323979476, 422.2292125172542, 412.80342268304435, 375.8446383329489, 338.43361176659795, 337.01363234255706, 279.83055403401346, 265.8703929840843, 256.8128186291748, 243.74966329659304, 216.1436272757054, 201.15420468433928, 196.84381064928604, 194.64344259758002, 192.87510777778775, 190.71547347666555, 188.08533236348674, 179.98814944355453, 177.18909062609757, 162.2932342980407, 148.93972459805912, 148.76794833015586, 138.09532650940764, 135.0156106217406, 128.4265637107504, 127.05427322071236, 120.42010511048456, 727.4259571758005, 567.2236367995524, 383.62078870957913, 388.5630958533157, 214.2418238665401, 1443.6606490653091, 427.0458105814964, 384.36504343253876, 1869.1532666988883, 599.8041851467349, 777.1452585064533, 2638.2613019354512, 715.0142866044821, 2284.416126085834, 797.8039203745963, 415.5298429252244, 407.2150679129623, 398.94372598363026, 310.45040287502974, 304.4340028265034, 276.4249535578406, 266.76684211454585, 259.63613868133314, 258.9931454784847, 253.2253080704743, 245.99038051965948, 215.97646611560475, 196.08672768978323, 189.54244738470499, 182.63022461577324, 181.89648077606788, 181.1466176696115, 179.16828647827774, 177.18293562098077, 171.8936268362802, 159.54228168870645, 156.14055346147134, 152.91162460982108, 143.36890141995855, 141.18819346182778, 139.67088001786337, 130.95263607653885, 130.04346229435288, 596.7919946627678, 189.5244948439674, 654.540921360031, 1204.6251477569263, 376.559299539971, 569.3291047114049, 601.9673449689125, 537.5246866905235, 1506.7641656348615, 821.8026421740079, 364.7955754722874, 955.7787254537283, 553.1067070928345, 245.93947092944495, 1108.4146364686478, 706.9743568510951, 523.2008427030293, 466.76115494981474, 464.57918145110284, 291.4903499275738, 264.4583408659053, 201.3983084795642, 195.1552651119376, 182.14292849798932, 182.01896764995044, 179.06589821798872, 175.73457141116685, 171.84163922416474, 167.5723509385775, 166.46457416703007, 160.19299758882892, 158.77427724205134, 157.5080928659849, 150.32806663967042, 149.7999853937454, 147.23665093386305, 142.4225892767964, 139.9295463210641, 139.21656532571131, 139.17564580410422, 138.91201061134592, 134.2719861692296, 131.23349883237643, 130.2910078279436, 129.89056417139844, 126.24517626269896, 213.99205782273174, 532.6817607036123, 210.94356004312144, 699.6520417840244, 336.92884651345634, 171.13483226171795, 438.5375992072778, 1107.9018537948443, 379.18690576921455, 358.01765121956515, 297.8566640968442, 295.3078181518261, 280.82496753712525, 277.5208630855793, 239.5132597373249, 220.37301881992485, 210.46350071019626, 191.99029241168324, 191.9018682805688, 186.70580796397377, 182.43790845829537, 172.26936476591828, 170.76456209501958, 156.4444590295122, 155.5270961414062, 148.12286144925977, 130.85683962454738, 128.96548977615632, 127.93803295376702, 124.34317711723895, 123.78173635156355, 109.61912416955377, 106.16783199085725, 97.51734405222665, 93.46495705453725, 92.68666798440049, 92.3876666507262, 287.30253644158154, 424.2994527839006, 451.22842592518384, 380.34728197470326, 607.6308777833231, 510.1101773395646, 2638.2613019354512, 266.4970156822422, 706.9743568510951, 1328.6388577425002, 1869.1532666988883, 1602.4167930073443, 898.9960995674207, 1780.4995768914655, 505.7995764788813, 316.10827143708485, 310.7603518886453, 276.0558803905267, 236.2760384939811, 220.04739225131217, 210.3765086123871, 201.02755915596163, 198.28898304781532, 171.64173760398882, 169.16699894769755, 157.81626250608625, 151.45690335029022, 148.27470225946215, 139.18879523573742, 138.98824513013938, 136.43307975765364, 133.1411707061959, 129.22274847644462, 124.30264327587929, 122.38238476645365, 121.38563129923776, 121.07461223172575, 120.62169631857796, 120.61114464053796, 116.72834140072112, 115.3899701367209, 113.76621503664744, 112.17404681402233, 828.9304629679662, 469.3005107993378, 430.19234514393, 284.6441799044182, 559.5994641120421, 275.59011474043575, 194.11306056321428, 1378.0181105793172, 271.56940435261265, 634.2518878919733, 207.04656308241994, 561.5138690561513, 446.43271887989516, 441.96816036667815, 391.9064927098714, 363.9175071145971, 348.68362799344743, 347.99552871300574, 305.55225186967493, 262.8094393136761, 251.80769589142133, 249.08676224193474, 238.96446575729058, 238.6893270178027, 205.3697119927229, 190.10735573551196, 182.4232404495156, 157.8301426705968, 153.69095746425185, 152.36960996294854, 146.99365687820048, 146.94105620155858, 145.8953627609648, 144.98178093664234, 142.42182531566976, 140.36456262631526, 127.59562255400206, 126.32213823131164, 126.10505790852316, 117.60208825697276, 116.92862714932158, 597.958619585703, 342.30438536300085, 699.6520417840244, 209.54150569549483, 417.3814080175962, 560.7772623012374, 578.2402647628822, 356.07924638515897, 298.2852665131501, 274.51004495807854, 265.3482452866504, 250.9937606499884, 246.50058916534206, 239.19253209544502, 172.17544839915794, 166.16793076687546, 157.30784563528044, 154.01586855961105, 151.1883192956392, 144.45103499495326, 134.2314020534251, 123.08251987476031, 120.72030589016943, 120.3305139547039, 114.88660955845519, 114.13848553540697, 111.65439111505532, 138.74908215166903, 110.81490910293925, 105.08269183934463, 102.01804262155837, 101.57349778387643, 101.4432016164319, 100.97548320486183, 99.59285935776705, 99.00434731243351, 178.0875100414109, 210.43798859507484, 449.7558217855441, 1066.3506078527241, 559.3959727712493, 559.8895075385085, 397.1995338622436, 1769.596417795477, 1498.1757421329673, 425.98952885265504, 350.8455319022724, 330.24484348292765, 318.71485563116323, 288.8799170562073, 273.91535086892304, 255.64295924429032, 183.06064343775222, 181.42678743537897, 168.8669124312673, 143.89473682674588, 140.1947312293988, 126.29679362510994, 124.07171037194011, 123.51491201490562, 120.68610856156569, 119.42123447131675, 118.14385774418966, 110.14173931828236, 110.03990743147567, 108.24033691194482, 106.03543936121133, 98.59969123443409, 94.91271300038066, 94.22519115310828, 89.36418421730934, 86.98551452434052, 85.4431531439018, 312.70658282087845, 1188.3801864032844, 182.11999255893303, 1438.4719075084306, 450.7797540200057, 393.5770083189709, 317.5588667644376, 238.13509607277186, 228.32443439519585, 223.71823390653083, 213.6339329109574, 203.07867985670046, 202.43599767152804, 172.8742483770037, 147.1437333474316, 140.80800858810156, 131.24508285632072, 130.4116393143499, 127.8603633340821, 113.76027916692759, 111.76375863192932, 108.81988208091788, 95.67994529265656, 93.51423279366212, 81.98321890225317, 81.94608187807236, 80.6362343402806, 79.80790168020425, 76.07520213736298, 71.52995748797986, 71.39739515775351, 71.3920355616769, 68.23184518489239, 228.52868214628035, 201.92105966483288, 100.6803357196253, 627.4893929647951, 268.0084600893664, 255.28016654436436, 99.26667812150666, 107.81736788549281, 381.4087872779471, 308.1560275600867, 1035.9802606872431, 364.7955754722874, 297.3620315224482, 796.7903797820285, 940.5775460648306, 493.9034608757191, 367.8108209075978, 300.64357651772394, 284.94984172042274, 244.52496606942796, 229.78391275855648, 219.901337599943, 193.2413921480638, 169.94690148778722, 162.60710982816198, 153.62564833802944, 152.56636360003844, 145.46953444447465, 137.57344130433887, 136.748092930872, 125.54545801524384, 120.32969211891485, 119.13184302304872, 116.94597826968949, 116.5304210661779, 115.1083489690644, 114.62421723140054, 114.25741385138834, 110.30657884952703, 108.48635039869562, 101.85770202663295, 92.34017989624455, 89.24208166717173, 87.33794298483882, 524.8973517120131, 160.5709650746044, 614.8986616964952, 173.50493985058347, 253.81807131123753, 255.0834295686767, 683.3685866719142, 263.0328889188839, 497.4867041436859, 352.4012963268341, 327.8910341070596, 312.75574729090044, 300.8865713274988, 278.123945578444, 273.51358885387623, 248.8389230497268, 203.64192505285996, 193.5108925156908, 176.79700847434606, 161.7557026352739, 145.92712340346674, 137.63011410910264, 135.60453730917317, 134.6424022060731, 129.3725641759388, 126.38702775322506, 112.1887747919075, 109.85647805446175, 103.11214981062913, 91.67422683179142, 91.67334868722233, 90.9850797893219, 90.42913590501891, 90.22842142847097, 87.92894680627657, 87.28827759442888, 80.40208385394163, 73.73954614498936, 159.40713965071578, 372.45262785786707, 145.08789925530237, 311.11366198960945, 862.1046241505773, 421.6397763099693, 898.9960995674207], \"Category\": [\"Default\", \"Default\", \"Default\", \"Default\", \"Default\", \"Default\", \"Default\", \"Default\", \"Default\", \"Default\", \"Default\", \"Default\", \"Default\", \"Default\", \"Default\", \"Default\", \"Default\", \"Default\", \"Default\", \"Default\", \"Default\", \"Default\", \"Default\", \"Default\", \"Default\", \"Default\", \"Default\", \"Default\", \"Default\", \"Default\", \"Topic1\", \"Topic1\", \"Topic1\", \"Topic1\", \"Topic1\", \"Topic1\", \"Topic1\", \"Topic1\", \"Topic1\", \"Topic1\", \"Topic1\", \"Topic1\", \"Topic1\", \"Topic1\", \"Topic1\", \"Topic1\", \"Topic1\", \"Topic1\", \"Topic1\", \"Topic1\", \"Topic1\", \"Topic1\", \"Topic1\", \"Topic1\", \"Topic1\", \"Topic1\", \"Topic1\", \"Topic1\", \"Topic1\", \"Topic1\", \"Topic1\", \"Topic1\", \"Topic1\", \"Topic1\", \"Topic1\", \"Topic1\", \"Topic1\", \"Topic1\", \"Topic1\", \"Topic1\", \"Topic1\", \"Topic1\", \"Topic1\", \"Topic1\", \"Topic1\", \"Topic1\", \"Topic1\", \"Topic1\", \"Topic1\", \"Topic1\", \"Topic1\", \"Topic1\", \"Topic1\", \"Topic1\", \"Topic1\", \"Topic1\", \"Topic1\", \"Topic1\", \"Topic1\", \"Topic1\", \"Topic1\", \"Topic1\", \"Topic1\", \"Topic1\", \"Topic1\", \"Topic1\", \"Topic1\", \"Topic1\", \"Topic1\", \"Topic2\", \"Topic2\", \"Topic2\", \"Topic2\", \"Topic2\", \"Topic2\", \"Topic2\", \"Topic2\", \"Topic2\", \"Topic2\", \"Topic2\", \"Topic2\", \"Topic2\", \"Topic2\", \"Topic2\", \"Topic2\", \"Topic2\", \"Topic2\", \"Topic2\", \"Topic2\", \"Topic2\", \"Topic2\", \"Topic2\", \"Topic2\", \"Topic2\", \"Topic2\", \"Topic2\", \"Topic2\", \"Topic2\", \"Topic2\", \"Topic2\", \"Topic2\", \"Topic2\", \"Topic2\", \"Topic2\", \"Topic2\", \"Topic2\", \"Topic2\", \"Topic2\", \"Topic2\", \"Topic2\", \"Topic2\", \"Topic2\", \"Topic2\", \"Topic2\", \"Topic2\", \"Topic2\", \"Topic2\", \"Topic2\", \"Topic2\", \"Topic2\", \"Topic2\", \"Topic2\", \"Topic2\", \"Topic2\", \"Topic2\", \"Topic2\", \"Topic2\", \"Topic2\", \"Topic2\", \"Topic2\", \"Topic2\", \"Topic3\", \"Topic3\", \"Topic3\", \"Topic3\", \"Topic3\", \"Topic3\", \"Topic3\", \"Topic3\", \"Topic3\", \"Topic3\", \"Topic3\", \"Topic3\", \"Topic3\", \"Topic3\", \"Topic3\", \"Topic3\", \"Topic3\", \"Topic3\", \"Topic3\", \"Topic3\", \"Topic3\", \"Topic3\", \"Topic3\", \"Topic3\", \"Topic3\", \"Topic3\", \"Topic3\", \"Topic3\", \"Topic3\", \"Topic3\", \"Topic3\", \"Topic3\", \"Topic3\", \"Topic3\", \"Topic3\", \"Topic3\", \"Topic3\", \"Topic3\", \"Topic3\", \"Topic3\", \"Topic3\", \"Topic3\", \"Topic3\", \"Topic3\", \"Topic3\", \"Topic3\", \"Topic3\", \"Topic3\", \"Topic3\", \"Topic3\", \"Topic3\", \"Topic3\", \"Topic3\", \"Topic3\", \"Topic3\", \"Topic3\", \"Topic3\", \"Topic3\", \"Topic3\", \"Topic3\", \"Topic3\", \"Topic3\", \"Topic3\", \"Topic3\", \"Topic3\", \"Topic4\", \"Topic4\", \"Topic4\", \"Topic4\", \"Topic4\", \"Topic4\", \"Topic4\", \"Topic4\", \"Topic4\", \"Topic4\", \"Topic4\", \"Topic4\", \"Topic4\", \"Topic4\", \"Topic4\", \"Topic4\", \"Topic4\", \"Topic4\", \"Topic4\", \"Topic4\", \"Topic4\", \"Topic4\", \"Topic4\", \"Topic4\", \"Topic4\", \"Topic4\", \"Topic4\", \"Topic4\", \"Topic4\", \"Topic4\", \"Topic4\", \"Topic4\", \"Topic4\", \"Topic4\", \"Topic4\", \"Topic4\", \"Topic4\", \"Topic4\", \"Topic4\", \"Topic4\", \"Topic4\", \"Topic4\", \"Topic4\", \"Topic4\", \"Topic4\", \"Topic4\", \"Topic4\", \"Topic4\", \"Topic4\", \"Topic4\", \"Topic4\", \"Topic4\", \"Topic5\", \"Topic5\", \"Topic5\", \"Topic5\", \"Topic5\", \"Topic5\", \"Topic5\", \"Topic5\", \"Topic5\", \"Topic5\", \"Topic5\", \"Topic5\", \"Topic5\", \"Topic5\", \"Topic5\", \"Topic5\", \"Topic5\", \"Topic5\", \"Topic5\", \"Topic5\", \"Topic5\", \"Topic5\", \"Topic5\", \"Topic5\", \"Topic5\", \"Topic5\", \"Topic5\", \"Topic5\", \"Topic5\", \"Topic5\", \"Topic5\", \"Topic5\", \"Topic5\", \"Topic5\", \"Topic5\", \"Topic5\", \"Topic5\", \"Topic5\", \"Topic5\", \"Topic5\", \"Topic5\", \"Topic5\", \"Topic5\", \"Topic5\", \"Topic5\", \"Topic5\", \"Topic5\", \"Topic5\", \"Topic5\", \"Topic5\", \"Topic5\", \"Topic5\", \"Topic6\", \"Topic6\", \"Topic6\", \"Topic6\", \"Topic6\", \"Topic6\", \"Topic6\", \"Topic6\", \"Topic6\", \"Topic6\", \"Topic6\", \"Topic6\", \"Topic6\", \"Topic6\", \"Topic6\", \"Topic6\", \"Topic6\", \"Topic6\", \"Topic6\", \"Topic6\", \"Topic6\", \"Topic6\", \"Topic6\", \"Topic6\", \"Topic6\", \"Topic6\", \"Topic6\", \"Topic6\", \"Topic6\", \"Topic6\", \"Topic6\", \"Topic6\", \"Topic6\", \"Topic6\", \"Topic6\", \"Topic6\", \"Topic6\", \"Topic6\", \"Topic6\", \"Topic6\", \"Topic6\", \"Topic6\", \"Topic6\", \"Topic6\", \"Topic6\", \"Topic6\", \"Topic6\", \"Topic6\", \"Topic7\", \"Topic7\", \"Topic7\", \"Topic7\", \"Topic7\", \"Topic7\", \"Topic7\", \"Topic7\", \"Topic7\", \"Topic7\", \"Topic7\", \"Topic7\", \"Topic7\", \"Topic7\", \"Topic7\", \"Topic7\", \"Topic7\", \"Topic7\", \"Topic7\", \"Topic7\", \"Topic7\", \"Topic7\", \"Topic7\", \"Topic7\", \"Topic7\", \"Topic7\", \"Topic7\", \"Topic7\", \"Topic7\", \"Topic7\", \"Topic7\", \"Topic7\", \"Topic7\", \"Topic7\", \"Topic7\", \"Topic7\", \"Topic7\", \"Topic7\", \"Topic7\", \"Topic7\", \"Topic7\", \"Topic8\", \"Topic8\", \"Topic8\", \"Topic8\", \"Topic8\", \"Topic8\", \"Topic8\", \"Topic8\", \"Topic8\", \"Topic8\", \"Topic8\", \"Topic8\", \"Topic8\", \"Topic8\", \"Topic8\", \"Topic8\", \"Topic8\", \"Topic8\", \"Topic8\", \"Topic8\", \"Topic8\", \"Topic8\", \"Topic8\", \"Topic8\", \"Topic8\", \"Topic8\", \"Topic8\", \"Topic8\", \"Topic8\", \"Topic8\", \"Topic8\", \"Topic8\", \"Topic8\", \"Topic8\", \"Topic8\", \"Topic8\", \"Topic8\", \"Topic8\", \"Topic8\", \"Topic8\", \"Topic8\", \"Topic8\", \"Topic8\", \"Topic8\", \"Topic9\", \"Topic9\", \"Topic9\", \"Topic9\", \"Topic9\", \"Topic9\", \"Topic9\", \"Topic9\", \"Topic9\", \"Topic9\", \"Topic9\", \"Topic9\", \"Topic9\", \"Topic9\", \"Topic9\", \"Topic9\", \"Topic9\", \"Topic9\", \"Topic9\", \"Topic9\", \"Topic9\", \"Topic9\", \"Topic9\", \"Topic9\", \"Topic9\", \"Topic9\", \"Topic9\", \"Topic9\", \"Topic9\", \"Topic9\", \"Topic9\", \"Topic9\", \"Topic9\", \"Topic9\", \"Topic9\", \"Topic9\", \"Topic9\", \"Topic9\", \"Topic9\", \"Topic9\", \"Topic9\", \"Topic9\", \"Topic9\", \"Topic9\", \"Topic9\", \"Topic9\", \"Topic9\", \"Topic10\", \"Topic10\", \"Topic10\", \"Topic10\", \"Topic10\", \"Topic10\", \"Topic10\", \"Topic10\", \"Topic10\", \"Topic10\", \"Topic10\", \"Topic10\", \"Topic10\", \"Topic10\", \"Topic10\", \"Topic10\", \"Topic10\", \"Topic10\", \"Topic10\", \"Topic10\", \"Topic10\", \"Topic10\", \"Topic10\", \"Topic10\", \"Topic10\", \"Topic10\", \"Topic10\", \"Topic10\", \"Topic10\", \"Topic10\", \"Topic10\", \"Topic10\", \"Topic10\", \"Topic10\", \"Topic10\", \"Topic10\", \"Topic10\", \"Topic10\", \"Topic10\", \"Topic10\", \"Topic10\", \"Topic10\", \"Topic10\", \"Topic11\", \"Topic11\", \"Topic11\", \"Topic11\", \"Topic11\", \"Topic11\", \"Topic11\", \"Topic11\", \"Topic11\", \"Topic11\", \"Topic11\", \"Topic11\", \"Topic11\", \"Topic11\", \"Topic11\", \"Topic11\", \"Topic11\", \"Topic11\", \"Topic11\", \"Topic11\", \"Topic11\", \"Topic11\", \"Topic11\", \"Topic11\", \"Topic11\", \"Topic11\", \"Topic11\", \"Topic11\", \"Topic11\", \"Topic11\", \"Topic11\", \"Topic11\", \"Topic11\", \"Topic11\", \"Topic11\", \"Topic11\", \"Topic11\", \"Topic11\", \"Topic11\", \"Topic11\", \"Topic11\", \"Topic11\", \"Topic11\", \"Topic11\", \"Topic11\", \"Topic11\", \"Topic12\", \"Topic12\", \"Topic12\", \"Topic12\", \"Topic12\", \"Topic12\", \"Topic12\", \"Topic12\", \"Topic12\", \"Topic12\", \"Topic12\", \"Topic12\", \"Topic12\", \"Topic12\", \"Topic12\", \"Topic12\", \"Topic12\", \"Topic12\", \"Topic12\", \"Topic12\", \"Topic12\", \"Topic12\", \"Topic12\", \"Topic12\", \"Topic12\", \"Topic12\", \"Topic12\", \"Topic12\", \"Topic12\", \"Topic12\", \"Topic12\", \"Topic12\", \"Topic12\", \"Topic12\", \"Topic12\", \"Topic12\", \"Topic12\", \"Topic13\", \"Topic13\", \"Topic13\", \"Topic13\", \"Topic13\", \"Topic13\", \"Topic13\", \"Topic13\", \"Topic13\", \"Topic13\", \"Topic13\", \"Topic13\", \"Topic13\", \"Topic13\", \"Topic13\", \"Topic13\", \"Topic13\", \"Topic13\", \"Topic13\", \"Topic13\", \"Topic13\", \"Topic13\", \"Topic13\", \"Topic13\", \"Topic13\", \"Topic13\", \"Topic13\", \"Topic13\", \"Topic13\", \"Topic13\", \"Topic13\", \"Topic13\", \"Topic13\", \"Topic13\", \"Topic13\", \"Topic13\", \"Topic13\", \"Topic13\", \"Topic13\", \"Topic13\", \"Topic13\", \"Topic13\", \"Topic13\", \"Topic14\", \"Topic14\", \"Topic14\", \"Topic14\", \"Topic14\", \"Topic14\", \"Topic14\", \"Topic14\", \"Topic14\", \"Topic14\", \"Topic14\", \"Topic14\", \"Topic14\", \"Topic14\", \"Topic14\", \"Topic14\", \"Topic14\", \"Topic14\", \"Topic14\", \"Topic14\", \"Topic14\", \"Topic14\", \"Topic14\", \"Topic14\", \"Topic14\", \"Topic14\", \"Topic14\", \"Topic14\", \"Topic14\", \"Topic14\", \"Topic14\", \"Topic14\", \"Topic14\", \"Topic14\", \"Topic14\", \"Topic14\", \"Topic14\", \"Topic14\", \"Topic14\", \"Topic14\", \"Topic14\", \"Topic15\", \"Topic15\", \"Topic15\", \"Topic15\", \"Topic15\", \"Topic15\", \"Topic15\", \"Topic15\", \"Topic15\", \"Topic15\", \"Topic15\", \"Topic15\", \"Topic15\", \"Topic15\", \"Topic15\", \"Topic15\", \"Topic15\", \"Topic15\", \"Topic15\", \"Topic15\", \"Topic15\", \"Topic15\", \"Topic15\", \"Topic15\", \"Topic15\", \"Topic15\", \"Topic15\", \"Topic15\", \"Topic15\", \"Topic15\", \"Topic15\", \"Topic15\", \"Topic15\", \"Topic15\", \"Topic15\", \"Topic15\", \"Topic16\", \"Topic16\", \"Topic16\", \"Topic16\", \"Topic16\", \"Topic16\", \"Topic16\", \"Topic16\", \"Topic16\", \"Topic16\", \"Topic16\", \"Topic16\", \"Topic16\", \"Topic16\", \"Topic16\", \"Topic16\", \"Topic16\", \"Topic16\", \"Topic16\", \"Topic16\", \"Topic16\", \"Topic16\", \"Topic16\", \"Topic16\", \"Topic16\", \"Topic16\", \"Topic16\", \"Topic16\", \"Topic16\", \"Topic16\", \"Topic16\", \"Topic16\", \"Topic16\", \"Topic16\", \"Topic16\", \"Topic16\", \"Topic16\", \"Topic17\", \"Topic17\", \"Topic17\", \"Topic17\", \"Topic17\", \"Topic17\", \"Topic17\", \"Topic17\", \"Topic17\", \"Topic17\", \"Topic17\", \"Topic17\", \"Topic17\", \"Topic17\", \"Topic17\", \"Topic17\", \"Topic17\", \"Topic17\", \"Topic17\", \"Topic17\", \"Topic17\", \"Topic17\", \"Topic17\", \"Topic17\", \"Topic17\", \"Topic17\", \"Topic17\", \"Topic17\", \"Topic17\", \"Topic17\", \"Topic17\", \"Topic17\", \"Topic17\", \"Topic18\", \"Topic18\", \"Topic18\", \"Topic18\", \"Topic18\", \"Topic18\", \"Topic18\", \"Topic18\", \"Topic18\", \"Topic18\", \"Topic18\", \"Topic18\", \"Topic18\", \"Topic18\", \"Topic18\", \"Topic18\", \"Topic18\", \"Topic18\", \"Topic18\", \"Topic18\", \"Topic18\", \"Topic18\", \"Topic18\", \"Topic18\", \"Topic18\", \"Topic18\", \"Topic18\", \"Topic18\", \"Topic18\", \"Topic18\", \"Topic18\", \"Topic18\", \"Topic18\", \"Topic18\", \"Topic18\", \"Topic18\", \"Topic18\", \"Topic18\", \"Topic18\", \"Topic18\", \"Topic18\", \"Topic18\", \"Topic18\", \"Topic18\", \"Topic19\", \"Topic19\", \"Topic19\", \"Topic19\", \"Topic19\", \"Topic19\", \"Topic19\", \"Topic19\", \"Topic19\", \"Topic19\", \"Topic19\", \"Topic19\", \"Topic19\", \"Topic19\", \"Topic19\", \"Topic19\", \"Topic19\", \"Topic19\", \"Topic19\", \"Topic19\", \"Topic19\", \"Topic19\", \"Topic19\", \"Topic19\", \"Topic19\", \"Topic19\", \"Topic19\", \"Topic19\", \"Topic19\", \"Topic19\", \"Topic19\", \"Topic19\", \"Topic19\", \"Topic19\", \"Topic19\", \"Topic19\", \"Topic19\", \"Topic19\", \"Topic20\", \"Topic20\", \"Topic20\", \"Topic20\", \"Topic20\", \"Topic20\", \"Topic20\", \"Topic20\", \"Topic20\", \"Topic20\", \"Topic20\", \"Topic20\", \"Topic20\", \"Topic20\", \"Topic20\", \"Topic20\", \"Topic20\", \"Topic20\", \"Topic20\", \"Topic20\", \"Topic20\", \"Topic20\", \"Topic20\", \"Topic20\", \"Topic20\", \"Topic20\", \"Topic20\", \"Topic20\", \"Topic20\", \"Topic20\", \"Topic20\", \"Topic20\", \"Topic20\", \"Topic20\", \"Topic20\", \"Topic20\", \"Topic20\"], \"logprob\": [30.0, 29.0, 28.0, 27.0, 26.0, 25.0, 24.0, 23.0, 22.0, 21.0, 20.0, 19.0, 18.0, 17.0, 16.0, 15.0, 14.0, 13.0, 12.0, 11.0, 10.0, 9.0, 8.0, 7.0, 6.0, 5.0, 4.0, 3.0, 2.0, 1.0, -3.8715, -4.8612, -5.2629, -5.3176, -5.5255, -5.5409, -5.7296, -5.8001, -5.9761, -6.013, -6.0205, -6.0885, -6.0932, -6.1089, -6.1713, -6.3652, -6.4945, -6.496, -6.521, -6.5485, -6.623, -6.6608, -6.6874, -6.7025, -6.7564, -6.7886, -6.8028, -6.8231, -6.8379, -6.9006, -3.7464, -3.9335, -4.5497, -4.5729, -5.2042, -5.7139, -4.4175, -3.3395, -5.67, -3.9365, -3.2081, -6.0868, -4.3718, -4.6032, -5.0479, -5.0028, -3.254, -4.8744, -4.6974, -5.3073, -3.9361, -4.4162, -4.2513, -5.2826, -4.6859, -5.3275, -4.3339, -5.2439, -4.6236, -4.2601, -4.4618, -4.7461, -4.3006, -4.8011, -4.8106, -5.1007, -4.9689, -4.8554, -4.9769, -4.2764, -4.294, -4.7634, -4.9185, -5.1252, -5.251, -5.4165, -5.4174, -5.4657, -5.5157, -5.5165, -5.5287, -5.5945, -5.6154, -5.6299, -5.653, -5.7648, -5.8375, -5.8885, -5.9211, -5.9302, -5.9408, -5.9452, -6.0432, -6.1121, -6.1744, -6.195, -6.2571, -6.3014, -6.3123, -4.4431, -5.0267, -5.047, -5.8742, -4.7668, -5.6628, -5.3108, -3.6785, -5.3001, -5.0705, -4.7386, -5.1849, -3.8808, -5.2544, -5.5028, -4.679, -4.806, -4.3978, -5.0769, -5.3883, -4.9216, -4.6522, -4.6433, -5.0286, -5.2972, -5.0269, -4.7881, -5.1245, -5.1984, -5.1895, -5.2242, -5.1894, -3.6885, -5.2225, -5.3181, -5.3992, -5.5662, -5.5833, -5.5951, -5.6041, -5.6781, -5.6849, -5.7051, -5.7247, -5.7403, -5.921, -5.9425, -5.9532, -5.9648, -5.9819, -6.004, -6.0174, -6.0365, -6.0422, -6.0423, -6.0689, -6.0899, -6.0937, -6.1062, -6.1206, -6.1221, -6.1514, -4.888, -5.7615, -5.3245, -4.9863, -4.6795, -3.5827, -5.4275, -5.2708, -4.2902, -4.9965, -4.9636, -5.4038, -5.1304, -5.7805, -5.1884, -4.421, -5.3596, -4.8017, -4.8961, -5.0421, -4.1513, -4.9082, -5.1084, -5.3396, -4.9544, -5.2443, -4.2529, -5.1428, -4.6765, -5.0828, -4.8771, -5.085, -5.0873, -5.2205, -5.2965, -4.4148, -4.683, -4.7437, -4.8816, -4.8853, -5.1432, -5.2431, -5.2531, -5.3498, -5.4086, -5.4162, -5.4469, -5.4655, -5.5089, -5.5135, -5.5576, -5.5703, -5.5945, -5.6664, -5.783, -5.7913, -5.8456, -5.8722, -5.9437, -5.9468, -5.9763, -5.9856, -6.0031, -6.0073, -6.0116, -4.4926, -5.4303, -4.0524, -4.9949, -4.4462, -5.6463, -4.2103, -4.8763, -5.2306, -5.0271, -5.4208, -4.232, -4.6868, -4.9089, -4.7126, -3.9721, -4.4435, -4.5684, -5.3479, -5.2282, -5.3285, -5.404, -3.4217, -3.8529, -3.9568, -4.0616, -4.1225, -4.1829, -4.2164, -4.2431, -4.5098, -4.5504, -4.6771, -4.7135, -5.048, -5.0882, -5.2525, -5.2561, -5.2567, -5.3257, -5.4571, -5.6129, -5.6286, -5.7032, -5.7504, -5.8392, -5.8784, -5.9987, -6.008, -6.1044, -6.1449, -6.1527, -4.5127, -3.8657, -3.6158, -4.5706, -5.0955, -4.7298, -3.5633, -3.73, -5.0273, -3.6426, -4.0742, -3.6976, -3.9515, -4.7056, -4.4243, -4.9608, -4.3924, -4.5274, -4.3169, -4.5414, -4.7735, -4.0534, -3.345, -3.4391, -3.8922, -4.0527, -4.1627, -4.1673, -4.1969, -4.2946, -4.2951, -4.3267, -4.4085, -4.4814, -4.9637, -5.0233, -5.1025, -5.1945, -5.2097, -5.3218, -5.3349, -5.5589, -5.5633, -5.5733, -5.5998, -5.608, -5.6429, -5.6622, -5.6642, -5.6942, -5.7121, -5.7754, -4.008, -4.4734, -4.0154, -3.8989, -4.2555, -4.7147, -4.5571, -3.9483, -4.8137, -3.9144, -4.8406, -4.4234, -4.8897, -4.6632, -4.3974, -4.6531, -4.8419, -4.9039, -2.9122, -4.0826, -4.1724, -4.259, -4.2689, -4.3692, -4.3366, -4.4597, -4.5213, -4.7314, -4.8821, -5.0213, -5.0249, -5.0551, -5.0824, -5.1188, -5.1423, -5.2165, -5.266, -5.2768, -5.3398, -5.3615, -5.4193, -5.4403, -5.4447, -5.4568, -5.4941, -5.5166, -5.5549, -5.5602, -3.5132, -4.917, -5.0704, -4.417, -4.2204, -3.8824, -4.249, -4.7076, -4.337, -4.8442, -5.135, -3.4509, -3.7831, -3.8827, -4.0923, -4.5309, -4.6415, -4.6588, -4.7338, -4.7377, -4.7545, -4.944, -5.0092, -5.1181, -5.1838, -5.2238, -5.2515, -5.2675, -5.2973, -5.354, -5.377, -5.4007, -5.4366, -5.5437, -5.5749, -5.5911, -5.599, -5.6247, -5.6289, -5.647, -5.6483, -5.0152, -4.5518, -4.134, -4.2208, -5.1475, -4.6181, -5.0986, -4.7568, -5.2362, -4.9793, -5.0342, -5.1789, -5.2625, -5.2538, -3.1459, -3.2366, -3.5112, -4.3411, -4.366, -4.407, -4.4197, -4.5623, -4.5744, -4.7227, -4.8631, -5.094, -5.1841, -5.2586, -5.3325, -5.3643, -5.3958, -5.4251, -5.4744, -5.4778, -5.4896, -5.5018, -5.5106, -5.5132, -5.5692, -5.5883, -5.5977, -5.6151, -5.6211, -5.6814, -3.728, -4.5895, -4.7659, -4.615, -4.0826, -3.3263, -5.0501, -5.2832, -4.3959, -5.1837, -4.4364, -4.8346, -4.6408, -4.9713, -4.8079, -5.0752, -5.2782, -3.8627, -4.2637, -4.2756, -4.3992, -4.4394, -4.462, -4.556, -4.6612, -4.6654, -4.8519, -4.9033, -4.9381, -4.9905, -5.1112, -5.1834, -5.2052, -5.2165, -5.2257, -5.237, -5.2509, -5.2952, -5.3109, -5.3993, -5.4857, -5.4868, -5.5618, -5.5845, -5.6349, -5.6457, -5.6998, -3.9092, -4.1631, -4.651, -4.6573, -5.2191, -4.2189, -4.9943, -5.0773, -4.767, -5.1434, -5.1736, -5.1621, -5.211, -2.666, -3.7188, -4.3723, -4.3925, -4.4131, -4.6646, -4.6842, -4.7811, -4.8168, -4.844, -4.8465, -4.8691, -4.8982, -5.0288, -5.1259, -5.16, -5.1974, -5.2014, -5.2056, -5.2166, -5.2278, -5.2583, -5.3333, -5.355, -5.376, -5.4409, -5.4563, -5.4672, -5.5321, -5.5392, -4.0987, -5.1827, -4.0554, -3.6911, -4.6986, -4.4179, -4.4018, -4.4841, -4.2898, -4.6112, -4.9628, -4.8545, -4.9992, -5.1487, -4.9982, -5.1007, -4.0516, -4.166, -4.1706, -4.638, -4.7357, -5.0092, -5.0409, -5.1103, -5.1109, -5.1274, -5.1463, -5.1688, -5.1941, -5.2008, -5.2394, -5.2484, -5.2564, -5.3034, -5.3069, -5.3243, -5.3577, -5.3755, -5.3807, -5.381, -5.3829, -5.4171, -5.4402, -5.4474, -5.4505, -5.4792, -5.0093, -4.2195, -5.1773, -4.5077, -4.9682, -5.3217, -5.1902, -3.1779, -4.2518, -4.3094, -4.4939, -4.5025, -4.553, -4.5649, -4.7127, -4.7963, -4.8426, -4.9349, -4.9353, -4.9629, -4.9862, -5.0439, -5.0527, -5.1408, -5.1467, -5.1958, -5.3206, -5.3353, -5.3433, -5.3721, -5.3766, -5.4992, -5.5315, -5.6173, -5.6601, -5.6686, -5.6719, -4.5399, -4.255, -4.2459, -4.4218, -4.1364, -4.3349, -3.6715, -4.9567, -4.4378, -4.1699, -4.2405, -4.6495, -4.907, -2.6179, -3.8778, -4.349, -4.3661, -4.4849, -4.6411, -4.7126, -4.7578, -4.8034, -4.8172, -4.9623, -4.9769, -5.0468, -5.0882, -5.1096, -5.1732, -5.1747, -5.1934, -5.218, -5.2481, -5.2872, -5.3029, -5.3111, -5.3137, -5.3175, -5.3176, -5.3506, -5.3622, -5.3765, -5.3907, -3.4883, -4.0698, -4.2077, -4.5952, -4.3635, -4.8427, -5.1391, -4.6605, -5.1075, -4.9534, -5.227, -3.696, -3.9258, -3.9359, -4.0564, -4.1307, -4.1736, -4.1756, -4.306, -4.4572, -4.5002, -4.5111, -4.5527, -4.5539, -4.7049, -4.7825, -4.824, -4.9696, -4.9964, -5.0051, -5.0412, -5.0416, -5.0488, -5.0551, -5.073, -5.0877, -5.1838, -5.1939, -5.1956, -5.266, -5.2718, -3.8305, -4.4856, -4.1665, -4.9364, -4.6087, -4.5507, -3.6135, -4.0994, -4.277, -4.3604, -4.3944, -4.4503, -4.4684, -4.4986, -4.829, -4.8647, -4.9198, -4.9411, -4.9598, -5.0057, -5.0801, -5.1669, -5.1865, -5.1897, -5.2364, -5.243, -5.2652, -5.048, -5.2728, -5.3264, -5.3563, -5.3607, -5.362, -5.3667, -5.3806, -5.3866, -4.9801, -4.9221, -4.5222, -4.5724, -5.0571, -5.2092, -5.2743, -2.4147, -2.5813, -3.8405, -4.0351, -4.0958, -4.1314, -4.23, -4.2834, -4.3527, -4.6882, -4.6972, -4.7693, -4.9303, -4.9566, -5.0617, -5.0797, -5.0842, -5.1075, -5.1182, -5.129, -5.1997, -5.2007, -5.2173, -5.2381, -5.3115, -5.35, -5.3573, -5.4109, -5.4381, -5.4562, -4.2989, -3.4405, -5.0152, -2.6166, -3.7784, -3.9144, -4.1296, -4.4185, -4.4607, -4.4812, -4.5275, -4.5785, -4.5816, -4.7403, -4.9025, -4.9468, -5.0176, -5.0241, -5.044, -5.1618, -5.1796, -5.2066, -5.3365, -5.3596, -5.4927, -5.4932, -5.5095, -5.52, -5.5685, -5.6309, -5.633, -5.6332, -5.6788, -4.5232, -4.7091, -5.3273, -3.8193, -4.5616, -4.6876, -5.3641, -5.3115, -4.6506, -4.821, -4.5059, -4.988, -5.091, -5.2221, -2.9761, -3.6212, -3.9166, -4.1189, -4.1727, -4.3262, -4.3887, -4.4328, -4.5627, -4.6918, -4.7362, -4.7934, -4.8004, -4.8483, -4.9045, -4.9106, -4.9967, -5.0395, -5.0496, -5.0682, -5.0718, -5.0842, -5.0885, -5.0917, -5.1272, -5.144, -5.2076, -5.3067, -5.3412, -5.363, -3.8925, -4.8882, -4.157, -4.986, -4.8354, -4.8664, -4.8724, -5.0883, -3.5327, -3.8783, -3.9506, -3.998, -4.0368, -4.1157, -4.1325, -4.2274, -4.4287, -4.48, -4.5708, -4.6603, -4.7639, -4.8229, -4.8378, -4.845, -4.8852, -4.9087, -5.0289, -5.0501, -5.114, -5.2328, -5.2328, -5.2404, -5.2466, -5.2489, -5.275, -5.2824, -5.3655, -5.4531, -4.6926, -3.8682, -4.937, -4.6207, -4.2029, -4.7041, -4.8209], \"loglift\": [30.0, 29.0, 28.0, 27.0, 26.0, 25.0, 24.0, 23.0, 22.0, 21.0, 20.0, 19.0, 18.0, 17.0, 16.0, 15.0, 14.0, 13.0, 12.0, 11.0, 10.0, 9.0, 8.0, 7.0, 6.0, 5.0, 4.0, 3.0, 2.0, 1.0, 1.4196, 1.4193, 1.4191, 1.4191, 1.4189, 1.4189, 1.4187, 1.4186, 1.4184, 1.4183, 1.4183, 1.4182, 1.4182, 1.4182, 1.4181, 1.4177, 1.4174, 1.4174, 1.4174, 1.4173, 1.4171, 1.417, 1.4169, 1.4169, 1.4167, 1.4166, 1.4166, 1.4165, 1.4165, 1.4163, 1.4142, 1.4104, 1.4133, 1.4045, 1.4101, 1.409, 1.3939, 1.3811, 1.4044, 1.366, 1.3382, 1.4044, 1.3494, 1.3563, 1.3697, 1.3621, 1.2864, 1.3526, 1.3325, 1.3619, 1.2492, 1.2835, 1.2609, 1.3546, 1.2207, 1.3404, 1.1507, 1.3223, 1.1747, 1.055, 1.1018, 1.1458, 0.9541, 1.0336, 0.9861, 1.2522, 0.9803, 0.313, 0.8835, 1.8491, 1.8491, 1.8488, 1.8487, 1.8485, 1.8484, 1.8482, 1.8482, 1.8482, 1.8481, 1.8481, 1.8481, 1.848, 1.848, 1.8479, 1.8479, 1.8477, 1.8476, 1.8475, 1.8474, 1.8474, 1.8474, 1.8474, 1.8471, 1.847, 1.8468, 1.8468, 1.8466, 1.8465, 1.8464, 1.84, 1.823, 1.8209, 1.8371, 1.7903, 1.8158, 1.7867, 1.6194, 1.7706, 1.714, 1.5805, 1.6562, 1.2875, 1.6705, 1.727, 1.2951, 1.2456, 0.9375, 1.4241, 1.6077, 1.033, 0.6629, 0.6115, 1.1074, 1.4478, 0.5367, -0.2476, 0.7103, 0.7309, 0.6071, 0.837, -0.0041, 2.0843, 2.0833, 2.0831, 2.083, 2.0827, 2.0827, 2.0827, 2.0827, 2.0825, 2.0825, 2.0825, 2.0824, 2.0824, 2.082, 2.0819, 2.0819, 2.0818, 2.0818, 2.0817, 2.0817, 2.0816, 2.0816, 2.0816, 2.0816, 2.0815, 2.0815, 2.0814, 2.0814, 2.0814, 2.0813, 2.0638, 2.0745, 2.0516, 2.0356, 2.0046, 1.9246, 2.0411, 2.0181, 1.9195, 1.9789, 1.954, 1.9936, 1.9498, 2.0455, 1.9014, 1.6848, 1.9276, 1.7551, 1.7617, 1.8128, 1.4084, 1.7111, 1.7896, 1.8997, 1.67, 1.8325, 1.0824, 1.6819, 1.1205, 1.4212, 0.9833, 1.2496, 1.116, 1.3894, 0.7193, 2.9097, 2.9093, 2.9092, 2.9089, 2.9089, 2.9083, 2.908, 2.908, 2.9077, 2.9075, 2.9075, 2.9073, 2.9073, 2.9071, 2.9071, 2.9069, 2.9069, 2.9068, 2.9064, 2.9059, 2.9058, 2.9055, 2.9054, 2.905, 2.905, 2.9048, 2.9047, 2.9046, 2.9046, 2.9046, 2.894, 2.8896, 2.8406, 2.8728, 2.8149, 2.8794, 2.6602, 2.747, 2.7921, 2.6797, 2.7751, 2.2895, 2.4539, 2.4557, 2.0737, 1.3258, 1.3223, 0.6, 2.056, 1.1755, 1.7937, 1.3201, 3.0397, 3.0394, 3.0393, 3.0392, 3.0392, 3.0391, 3.0391, 3.039, 3.0386, 3.0386, 3.0384, 3.0383, 3.0375, 3.0374, 3.0368, 3.0368, 3.0368, 3.0366, 3.0361, 3.0354, 3.0353, 3.0349, 3.0346, 3.0341, 3.0339, 3.033, 3.033, 3.0322, 3.0319, 3.0318, 3.014, 2.9864, 2.9512, 2.9611, 2.9858, 2.96, 2.8476, 2.8355, 2.9535, 2.6756, 2.6749, 2.4174, 2.4931, 2.6518, 2.4302, 2.8031, 2.2707, 2.2675, 1.9805, 2.2344, 2.5525, 0.493, 3.2509, 3.2509, 3.2505, 3.2503, 3.2501, 3.2501, 3.2501, 3.2499, 3.2499, 3.2499, 3.2497, 3.2496, 3.2484, 3.2482, 3.2479, 3.2476, 3.2475, 3.247, 3.247, 3.2458, 3.2458, 3.2457, 3.2456, 3.2455, 3.2453, 3.2452, 3.2452, 3.245, 3.2449, 3.2444, 3.2321, 3.156, 3.0932, 3.0274, 2.9745, 3.0559, 2.8136, 2.2536, 2.7405, 2.0149, 2.5864, 2.1865, 2.5203, 1.8935, 1.1099, 1.665, 1.9529, 1.507, 3.4102, 3.4091, 3.409, 3.4088, 3.4088, 3.4086, 3.4085, 3.4084, 3.4083, 3.4077, 3.4073, 3.4067, 3.4067, 3.4066, 3.4065, 3.4063, 3.4062, 3.4059, 3.4056, 3.4056, 3.4053, 3.4051, 3.4048, 3.4047, 3.4047, 3.4046, 3.4043, 3.4042, 3.404, 3.4039, 3.3142, 3.3582, 3.2952, 3.0675, 2.8403, 2.6391, 2.6894, 2.9129, 2.4388, 1.7212, 1.5736, 3.4263, 3.426, 3.4259, 3.4256, 3.4247, 3.4244, 3.4244, 3.4241, 3.4241, 3.4241, 3.4234, 3.4232, 3.4227, 3.4224, 3.4222, 3.4221, 3.422, 3.4219, 3.4215, 3.4214, 3.4213, 3.4211, 3.4204, 3.4202, 3.42, 3.42, 3.4198, 3.4198, 3.4196, 3.4196, 3.4108, 3.2664, 3.1546, 3.0593, 3.2602, 2.9912, 3.1599, 2.842, 3.1635, 2.5763, 2.3943, 2.4988, 2.9075, 2.6455, 3.4285, 3.4284, 3.4282, 3.4271, 3.427, 3.4269, 3.4269, 3.4266, 3.4265, 3.4261, 3.4257, 3.4248, 3.4244, 3.424, 3.4236, 3.4234, 3.4232, 3.4231, 3.4228, 3.4227, 3.4227, 3.4226, 3.4225, 3.4225, 3.4221, 3.422, 3.4219, 3.4218, 3.4218, 3.4213, 3.2682, 3.3372, 3.2663, 3.2004, 3.0487, 2.4395, 2.9636, 3.1808, 2.1297, 2.9446, 1.7655, 2.0024, 1.375, 1.7778, 0.7043, 0.9764, 2.8434, 3.453, 3.4524, 3.4524, 3.4521, 3.452, 3.452, 3.4517, 3.4514, 3.4514, 3.4508, 3.4506, 3.4505, 3.4503, 3.4498, 3.4495, 3.4493, 3.4493, 3.4492, 3.4492, 3.4491, 3.4489, 3.4488, 3.4483, 3.4477, 3.4477, 3.4472, 3.447, 3.4467, 3.4466, 3.4462, 3.4383, 3.4331, 3.3363, 3.3172, 3.3508, 2.4431, 2.8858, 2.908, 1.6367, 2.397, 2.1077, 0.897, 2.1536, 3.5371, 3.5363, 3.5351, 3.5351, 3.535, 3.5343, 3.5343, 3.5339, 3.5338, 3.5337, 3.5337, 3.5336, 3.5335, 3.5329, 3.5325, 3.5323, 3.5321, 3.5321, 3.5321, 3.532, 3.5319, 3.5318, 3.5313, 3.5312, 3.5311, 3.5306, 3.5305, 3.5305, 3.53, 3.5299, 3.4467, 3.5098, 3.3977, 3.152, 3.3073, 3.1746, 3.1349, 3.1658, 2.3294, 2.6142, 3.0748, 2.22, 2.6222, 3.2832, 1.928, 2.2753, 3.6254, 3.6252, 3.6252, 3.6239, 3.6236, 3.6224, 3.6223, 3.6219, 3.6219, 3.6218, 3.6217, 3.6216, 3.6214, 3.6214, 3.6212, 3.6211, 3.6211, 3.6208, 3.6207, 3.6206, 3.6204, 3.6203, 3.6202, 3.6202, 3.6202, 3.62, 3.6198, 3.6198, 3.6197, 3.6195, 3.5617, 3.4395, 3.408, 2.8786, 3.1489, 3.4728, 2.6633, 3.7488, 3.7471, 3.747, 3.7464, 3.7464, 3.7462, 3.7462, 3.7456, 3.7453, 3.7451, 3.7446, 3.7446, 3.7445, 3.7444, 3.744, 3.744, 3.7435, 3.7434, 3.7431, 3.7422, 3.7421, 3.7421, 3.7418, 3.7418, 3.7408, 3.7405, 3.7397, 3.7392, 3.7391, 3.7391, 3.7365, 3.6315, 3.579, 3.5741, 3.391, 3.3675, 2.3876, 3.3949, 2.9381, 2.5751, 2.1632, 1.9082, 2.2287, 3.8344, 3.833, 3.8319, 3.8318, 3.8314, 3.8308, 3.8305, 3.8303, 3.8301, 3.83, 3.8292, 3.8292, 3.8287, 3.8285, 3.8283, 3.8279, 3.8279, 3.8278, 3.8276, 3.8274, 3.827, 3.8269, 3.8269, 3.8268, 3.8268, 3.8268, 3.8265, 3.8264, 3.8263, 3.8262, 3.7285, 3.7159, 3.665, 3.6905, 3.2462, 3.4753, 3.5294, 2.048, 3.2252, 2.5311, 3.377, 3.9103, 3.9098, 3.9098, 3.9095, 3.9093, 3.9092, 3.9092, 3.9088, 3.9083, 3.9081, 3.9081, 3.9079, 3.9079, 3.9072, 3.9069, 3.9066, 3.9058, 3.9056, 3.9056, 3.9053, 3.9053, 3.9053, 3.9052, 3.9051, 3.905, 3.9043, 3.9042, 3.9042, 3.9037, 3.9036, 3.7129, 3.6156, 3.2199, 3.6556, 3.2942, 3.057, 3.9635, 3.9624, 3.9619, 3.9616, 3.9615, 3.9613, 3.9612, 3.9611, 3.9595, 3.9592, 3.9589, 3.9588, 3.9587, 3.9583, 3.9573, 3.9572, 3.957, 3.957, 3.9566, 3.9565, 3.9563, 3.9563, 3.9563, 3.9558, 3.9555, 3.9555, 3.9554, 3.9554, 3.9553, 3.9552, 3.7745, 3.6657, 3.306, 2.3926, 2.553, 2.4, 2.6782, 4.0437, 4.0436, 4.042, 4.0415, 4.0413, 4.0412, 4.0409, 4.0407, 4.0405, 4.039, 4.0389, 4.0385, 4.0375, 4.0373, 4.0366, 4.0364, 4.0364, 4.0362, 4.0361, 4.036, 4.0354, 4.0354, 4.0353, 4.0351, 4.0344, 4.034, 4.0339, 4.0334, 4.0331, 4.0329, 3.8928, 3.4161, 3.7171, 4.0491, 4.0476, 4.0472, 4.0466, 4.0456, 4.0454, 4.0453, 4.0451, 4.0449, 4.0449, 4.0441, 4.0431, 4.0428, 4.0422, 4.0422, 4.042, 4.0411, 4.0409, 4.0407, 4.0394, 4.0392, 4.0377, 4.0377, 4.0375, 4.0374, 4.0368, 4.0359, 4.0357, 4.0355, 4.0353, 3.9821, 3.9199, 3.9977, 3.676, 3.7843, 3.707, 3.9751, 3.945, 3.3425, 3.3853, 2.4879, 3.0496, 3.151, 2.0343, 4.1144, 4.1134, 4.1127, 4.1122, 4.112, 4.1114, 4.1111, 4.1109, 4.1103, 4.1096, 4.1094, 4.109, 4.109, 4.1087, 4.1083, 4.1082, 4.1076, 4.1072, 4.1072, 4.107, 4.107, 4.1069, 4.1068, 4.1068, 4.1065, 4.1063, 4.1057, 4.1047, 4.1044, 4.1041, 3.7813, 3.97, 3.3585, 3.7947, 3.5649, 3.529, 2.5375, 3.2763, 4.1947, 4.1939, 4.1937, 4.1935, 4.1934, 4.1931, 4.1931, 4.1927, 4.1918, 4.1916, 4.1911, 4.1906, 4.1899, 4.1895, 4.1894, 4.1894, 4.1891, 4.1889, 4.1879, 4.1877, 4.1871, 4.1859, 4.1859, 4.1858, 4.1858, 4.1858, 4.1855, 4.1854, 4.1844, 4.1833, 4.1729, 4.1487, 4.0226, 3.5761, 2.9746, 3.1887, 2.3148]}, \"token.table\": {\"Topic\": [6, 6, 10, 3, 6, 7, 18, 10, 3, 5, 2, 16, 1, 5, 19, 1, 14, 4, 9, 10, 14, 16, 2, 10, 11, 15, 2, 3, 10, 13, 1, 2, 3, 4, 5, 6, 7, 4, 7, 10, 8, 3, 1, 15, 6, 3, 5, 6, 5, 10, 1, 3, 4, 12, 2, 2, 4, 13, 4, 18, 1, 2, 19, 10, 18, 2, 4, 8, 12, 8, 13, 18, 3, 5, 6, 9, 9, 17, 1, 4, 9, 1, 2, 9, 9, 2, 3, 9, 11, 18, 1, 13, 5, 2, 3, 4, 2, 3, 4, 8, 19, 2, 2, 12, 8, 19, 1, 20, 3, 6, 15, 19, 13, 19, 6, 3, 2, 16, 10, 11, 9, 8, 4, 15, 9, 13, 10, 12, 13, 19, 14, 1, 3, 4, 19, 11, 14, 5, 5, 9, 1, 2, 3, 4, 5, 1, 2, 6, 19, 11, 14, 19, 20, 18, 6, 4, 8, 12, 13, 1, 2, 3, 7, 13, 16, 2, 3, 12, 16, 16, 2, 14, 2, 19, 3, 6, 3, 2, 4, 16, 3, 7, 8, 2, 2, 20, 4, 13, 4, 2, 2, 3, 2, 5, 7, 9, 9, 9, 11, 6, 5, 1, 2, 4, 9, 17, 7, 4, 10, 11, 13, 15, 6, 15, 10, 1, 3, 5, 6, 7, 15, 18, 3, 7, 8, 10, 2, 2, 4, 7, 16, 18, 20, 5, 20, 16, 3, 6, 5, 2, 8, 17, 8, 10, 15, 20, 8, 14, 12, 20, 14, 6, 3, 11, 13, 5, 7, 19, 1, 3, 11, 1, 2, 4, 7, 4, 13, 2, 3, 4, 19, 9, 7, 6, 7, 8, 10, 4, 13, 4, 13, 18, 8, 18, 3, 11, 20, 14, 3, 7, 8, 3, 18, 2, 4, 13, 14, 20, 6, 9, 2, 3, 8, 8, 12, 11, 20, 2, 3, 8, 3, 20, 3, 8, 12, 12, 3, 3, 19, 17, 16, 16, 4, 16, 12, 15, 8, 14, 1, 2, 7, 14, 16, 6, 6, 13, 17, 5, 1, 9, 12, 16, 16, 4, 14, 15, 11, 6, 11, 1, 14, 16, 1, 2, 11, 12, 13, 8, 17, 20, 19, 10, 12, 4, 5, 16, 2, 13, 16, 20, 6, 11, 8, 5, 7, 7, 8, 18, 18, 7, 5, 5, 6, 10, 14, 1, 12, 2, 3, 6, 4, 12, 6, 16, 19, 1, 2, 7, 9, 2, 9, 11, 2, 16, 10, 4, 10, 15, 20, 7, 8, 2, 3, 8, 18, 15, 20, 1, 8, 8, 13, 3, 6, 11, 18, 12, 2, 12, 2, 7, 10, 20, 2, 16, 9, 5, 17, 6, 11, 15, 16, 14, 7, 20, 3, 4, 7, 5, 6, 17, 2, 5, 8, 9, 12, 4, 13, 19, 13, 4, 20, 1, 2, 3, 4, 9, 17, 13, 20, 1, 6, 16, 12, 11, 2, 4, 10, 5, 18, 1, 2, 17, 19, 12, 3, 14, 9, 13, 11, 10, 15, 1, 6, 9, 4, 4, 1, 2, 3, 4, 9, 13, 1, 4, 9, 9, 10, 10, 14, 1, 2, 9, 4, 7, 6, 2, 3, 9, 11, 14, 15, 4, 20, 14, 1, 5, 13, 3, 1, 1, 2, 4, 11, 13, 16, 1, 2, 11, 10, 1, 3, 9, 11, 7, 2, 4, 8, 10, 9, 9, 12, 10, 18, 17, 1, 5, 11, 4, 11, 6, 15, 1, 7, 6, 14, 16, 10, 8, 10, 2, 3, 4, 5, 2, 5, 5, 7, 4, 19, 15, 20, 7, 16, 18, 1, 5, 15, 1, 7, 10, 17, 4, 13, 10, 2, 5, 7, 10, 13, 14, 19, 12, 10, 2, 11, 18, 4, 1, 2, 13, 7, 18, 14, 4, 13, 9, 13, 1, 2, 8, 14, 8, 1, 3, 4, 1, 3, 4, 9, 1, 17, 2, 7, 13, 2, 3, 9, 19, 20, 10, 18, 9, 12, 15, 16, 5, 2, 4, 2, 11, 1, 1, 5, 14, 3, 5, 9, 1, 2, 1, 2, 4, 5, 2, 1, 5, 9, 10, 15, 16, 1, 1, 3, 11, 20, 17, 18, 12, 3, 6, 5, 1, 2, 3, 4, 2, 4, 10, 7, 15, 15, 15, 1, 2, 3, 4, 6, 7, 10, 19, 3, 20, 2, 17, 11, 1, 2, 3, 5, 9, 1, 1, 2, 3, 18, 16, 19, 4, 10, 6, 1, 2, 5, 7, 20, 4, 7, 15, 16, 12, 18, 20, 16, 18, 4, 13, 13, 2, 5, 19, 4, 12, 15, 8, 17, 3, 6, 6, 18, 16, 1, 4, 6, 17, 18, 1, 18, 3, 6, 16, 1, 2, 3, 4, 2, 3, 1, 2, 5, 9, 4, 20, 18, 8, 18, 7, 8, 9, 18, 7, 10, 12, 15, 16, 3, 1, 3, 5, 6, 7, 12, 5, 7, 16, 10, 1, 3, 5, 2, 4, 5, 14, 1, 3, 5, 9, 1, 1, 14, 20, 10, 1, 3, 5, 8, 9, 3, 4, 5, 9, 10, 15, 8, 18, 19, 9, 1, 6, 7, 8, 3, 19, 11, 3, 14, 16, 17, 1, 2, 3, 4, 1, 7, 10, 2, 6, 8, 15, 5, 9, 9, 12, 20, 1, 18, 12, 12, 5, 10, 18, 13, 1, 2, 3, 10, 17, 19, 13, 16, 8, 15, 10, 19, 10, 1, 2, 4, 3, 11, 3, 13, 2, 7, 16, 1, 7, 8, 3, 9, 13, 15, 1, 9, 12, 1, 2, 3, 4, 17, 14, 9, 11, 9, 1, 2, 3, 9, 7, 13, 4, 3, 2, 3, 1, 2, 5, 14, 17, 10, 18, 2, 4, 11, 20, 10, 18, 7, 17, 4, 12, 1, 1, 5, 6, 18, 12, 14, 8, 11, 7, 7, 8, 7, 9, 16, 1, 2, 3, 1, 3, 6, 16, 6, 12, 3, 5, 6, 12, 7, 3, 4, 13, 2, 2, 3, 7, 10, 4, 7, 10, 10, 1, 6, 15, 20, 3, 8, 10, 1, 2, 11, 15, 1, 2, 3, 5, 2, 4, 18, 7, 7, 1, 11, 13, 15, 7, 18, 17, 15, 1, 2, 2, 3, 4, 8, 2, 10, 12, 14, 16, 3, 12, 3, 14, 2, 2, 11, 3, 3, 19, 3, 5, 2, 3, 3, 8, 16, 16, 6, 10, 4, 3, 4, 10, 8, 13, 19, 11, 18, 9, 1, 2, 7, 10, 13, 7, 4, 13, 16, 9, 4, 14, 15, 13, 2, 1, 3, 6, 9, 11, 13, 1, 2, 3, 18, 6, 11, 5, 15, 17, 11, 1, 2, 4, 5, 15, 17, 3, 17, 19, 7, 8, 8, 8, 9, 6, 11, 10, 9, 20, 3, 3, 3, 7, 1, 2, 3, 5, 20, 1, 4, 5, 2, 20, 7, 10, 11, 16, 5, 1, 3, 5, 1, 2, 3, 4, 6, 6, 10, 10, 13, 15, 13, 5, 4, 13, 13, 18, 17, 18, 20, 2, 1, 2, 3, 9, 13, 3, 13, 2, 12, 11, 6, 11, 19, 10, 5, 17, 4, 7, 11, 4, 8, 10, 1, 9, 3, 6, 11, 18, 2, 3, 4, 5, 8, 10, 3, 5, 17, 3, 8, 6, 17, 13, 6, 11, 17, 16, 2, 3, 11, 9, 1, 2, 3, 4, 7, 10, 13, 2, 8, 15, 13, 7, 20, 11, 1, 2, 4, 9, 20, 2, 4, 13, 14, 20, 12, 17, 7, 19, 6, 20, 3, 8, 12, 8, 10, 16, 2, 3, 4, 1, 2, 20, 16, 19, 11, 16, 3, 6, 10, 19, 1, 2, 4, 9, 2, 3, 4, 9, 19, 7, 6, 14, 7, 9, 15, 3, 7, 14, 10, 4, 1, 1, 5, 6, 8, 1, 2, 1, 2, 1, 2, 9, 18, 3, 10, 13, 19, 2, 4, 9, 16, 16, 9, 1, 2, 3, 4, 9, 20, 20, 19, 1, 2, 4, 7, 14, 18, 3, 8, 4, 19, 9, 10, 3, 8, 5, 16, 19, 13, 2, 3, 20, 2, 1, 2, 6, 11, 15, 4, 1, 2, 11, 13, 3, 6, 2, 17, 15, 11, 15, 15, 20, 18, 5, 9, 13, 1, 2, 3, 6, 3, 5, 6, 7, 6, 5, 17, 17, 18, 17, 3, 6, 12, 4, 6, 2, 6, 8, 4, 12, 4, 20, 19, 1, 1, 2, 4, 14, 14, 14, 14, 19, 11, 16, 1, 2, 3, 4, 13, 14, 16, 9, 5, 1, 2, 3, 9, 10, 19, 1, 10, 17, 1, 6, 9, 12, 6, 9, 5, 20, 14, 19, 4, 2, 4, 1, 2, 6, 8, 1, 3, 4, 6, 15, 1, 2, 4, 10, 1, 1, 2, 17, 1, 2, 1, 3, 4, 8, 9, 16, 9, 14], \"Freq\": [0.9917345098525803, 0.015121813968128138, 0.9842926182890679, 0.007224949245886691, 0.3829223100319946, 0.6087019739659537, 0.9922271012063351, 0.9936905711314081, 0.9981926122943046, 0.999420684380188, 0.16845650766313744, 0.8254368875493735, 0.07437783448055016, 0.9239379883250564, 0.9903712547439781, 0.996295940260021, 0.9887043811975743, 0.1125805223919697, 0.04824879531084415, 0.1822732267298557, 0.5557546422841678, 0.10185856787844877, 0.9987394024350285, 0.9882070763085481, 0.9975498839084419, 0.993862979987707, 0.1701446159765009, 0.7446019534229343, 0.04999094386938428, 0.035081364118866164, 0.29214489412127176, 0.1745968304236577, 0.5086081581906551, 0.00575088374254472, 0.011041696785685862, 0.007821201889860819, 0.9920125238410343, 0.8885663424083713, 0.06481942923343742, 0.04591376237368484, 0.9950510063147671, 0.9985435997689988, 0.9975696506055696, 0.9935956891430824, 0.9975423950364835, 0.2307589156967126, 0.12241479064398779, 0.64584355063897, 0.998397979779493, 0.9932891431301109, 0.11083854482894409, 0.5410237881254399, 0.32702857781213207, 0.01975340402892073, 0.996367060474676, 0.998284685798285, 0.296438591620837, 0.7016964130771712, 0.9970539638948601, 0.9932710707865418, 0.9944002307258546, 0.005401832698340045, 0.9904992402171623, 0.9008511807677081, 0.0933524539655656, 0.9991803707240018, 0.9982931037047533, 0.9913997511132744, 0.9933570404142433, 0.9975206326310717, 0.039729704628113316, 0.9535129110747196, 0.3996947957194073, 0.5432826319967574, 0.056259561582353554, 0.9973176281979733, 0.9924786270911736, 0.9996629639450672, 0.9509353778516119, 0.040684628259481395, 0.00813692565189628, 0.9069403449576282, 0.045315548117244434, 0.047203695955462956, 0.9925937975922726, 0.2150479832527626, 0.7619082844150612, 0.021840810799108698, 0.9971254219284997, 0.9929064114680923, 0.9998110211506214, 0.9981231570131767, 0.9935185038839994, 0.7855068375899444, 0.11995424613442501, 0.09383517641160667, 0.3043745411432864, 0.18877074907444202, 0.27364441920093535, 0.026340104522015167, 0.2063308187557855, 0.9985046282873598, 0.9997396595842778, 0.9931437346732648, 0.9971909224466134, 0.9959274486728102, 0.9979144385424461, 0.9841960681066334, 0.7194863486507077, 0.25687034284583327, 0.023068453119650074, 0.9981707743571645, 0.9937695693089961, 0.9846808507377935, 0.9931571831185273, 0.9971949206630654, 0.25660766081501996, 0.7413110201322798, 0.021105451320649282, 0.970850760749867, 0.9914533738197513, 0.9989947504924535, 0.9962317047470505, 0.9980394032338671, 0.7809535599247359, 0.21413242772129856, 0.9977526928767821, 0.8278864277565819, 0.16895641382787385, 0.9889495926109344, 0.9934994721945571, 0.019436684386603523, 0.9792386705250727, 0.9691011926537552, 0.02679542468167065, 0.9987248980205743, 0.99053766855402, 0.9943557919672568, 0.973544497143964, 0.024667512596553143, 0.4386981475255308, 0.15061094086704852, 0.3795921096852647, 0.021015480120983514, 0.009632095055450778, 0.6153624405825237, 0.36351966397375013, 0.020891934711135065, 0.9958317441295206, 0.9940382255950309, 0.8642368871993283, 0.06675000348287495, 0.0632368454048289, 0.9989767561669104, 0.9993526517028516, 0.17115654224057664, 0.03949766359397923, 0.08722400710337079, 0.6977920568269663, 0.02246811253889829, 0.4333849263058603, 0.4338842176956136, 0.03844543701100374, 0.028958900605691125, 0.04293905951878339, 0.5861111677504853, 0.17817779499614755, 0.027195558183622518, 0.2072489089165716, 0.9979692171648065, 0.9870292551864802, 0.009890072697259321, 0.998075659530484, 0.9954482180590709, 0.17629048341138348, 0.8226889225864563, 0.9981177969815193, 0.19625703199402003, 0.778201796428462, 0.024745451860115567, 0.5132444257393711, 0.48584703646502747, 0.9976613980841009, 0.9975804375246806, 0.9981392818142387, 0.9973598772190595, 0.7935905243752905, 0.20479755467749433, 0.9954998626274206, 0.9990680156060324, 0.9671142625606868, 0.03134892261136748, 0.9978529711782719, 0.9979285122932698, 0.9973178909603821, 0.9933843497441197, 0.996004429898962, 0.9940969637984366, 0.9926953412410391, 0.999348448014528, 0.9989251700853359, 0.6480832209179093, 0.288620057898664, 0.053642515811468866, 0.009620668596622134, 0.9886703604648479, 0.9964310162465547, 0.1094831177978631, 0.8888986468826503, 0.6955555174027752, 0.21428730586651157, 0.08957911966550892, 0.9960338898225262, 0.9920581711086397, 0.9920683303548797, 0.003955433236254959, 0.19065188198748903, 0.4619946019945792, 0.2729248933015922, 0.07040671160533828, 0.11885833027935473, 0.8765801858102412, 0.20655634039156565, 0.18169307719628458, 0.39589965241716746, 0.21420657522088288, 0.9975516798394679, 0.16364679965410692, 0.10198278819024054, 0.0071150782458307355, 0.23716927486102451, 0.1209563301791225, 0.36524068328597775, 0.9954797670752451, 0.9952288269107834, 0.9903394054289124, 0.9903812154520804, 0.008962725931693035, 0.9978292261954428, 0.23248175824495115, 0.7658222624539567, 0.9847345530062467, 0.1521844439052481, 0.026757704422900763, 0.8194546979513359, 0.9922036636379591, 0.9958480691187571, 0.9937603722285339, 0.9930569998818729, 0.9970534699385643, 0.9962611797518071, 0.9970107303476077, 0.998390175265139, 0.9952896101841796, 0.9970623426244456, 0.9992234422770107, 0.9900468111528283, 0.9915794092192588, 0.17724038938933392, 0.7771309380916949, 0.04509666712272993, 0.8726673372520463, 0.08546741962777772, 0.026195896418421037, 0.015611695845321627, 0.9836037889244287, 0.01572622336943127, 0.06830393789461615, 0.3220042786460476, 0.1398604442604045, 0.46836985984879653, 0.9962097358403118, 0.994360319763997, 0.22233803909037453, 0.03084458345762421, 0.6927179368191437, 0.053978021050842366, 0.15513207053938216, 0.8421455257852175, 0.010441954453854962, 0.9885050216316031, 0.9891755113134708, 0.9925773746920106, 0.9925911113805861, 0.9981046005641065, 0.9954788309431728, 0.9954919572382827, 0.9948884662367888, 0.9361127462362584, 0.06353119745924746, 0.994180611146611, 0.2313359808840599, 0.7686324526147797, 0.3275500910170003, 0.632741814046492, 0.03800922557876454, 0.9911243801494153, 0.9953281236892286, 0.9946544221510724, 0.9934556995828687, 0.0692278212221799, 0.4702717510610151, 0.4583359198158117, 0.19436478644628313, 0.8011621685224841, 0.9919760495764792, 0.9893906085522723, 0.13880936973451555, 0.43335608112239005, 0.4265848923548527, 0.9133381133996397, 0.08526415932053598, 0.9606286198162423, 0.0354966695544108, 0.9900114912667989, 0.9912613465009351, 0.9973031746623708, 0.9985308636167016, 0.989897991699179, 0.9975900166158937, 0.9900254017734115, 0.9950143422748283, 0.9079367335284826, 0.09079367335284826, 0.9901368408713856, 0.9971120325051179, 0.9963017697775155, 0.9914591168511516, 0.9961570168752888, 0.6243576212538563, 0.10248294288257742, 0.2711856334738972, 0.994918959101486, 0.9992530946696091, 0.9982913034214844, 0.9891978221211727, 0.9885408993788161, 0.9990482055504896, 0.9987192231046459, 0.9126285467403925, 0.08586558907503693, 0.9908262743695773, 0.9960406958028961, 0.9956713795557146, 0.9914031035636034, 0.9902784392243784, 0.9993800927643334, 0.7993398596961427, 0.20028605965298385, 0.9965970009767681, 0.8885564588236718, 0.11080320349839554, 0.36712929584836407, 0.10261377834271045, 0.13681837112361392, 0.38081113296072544, 0.011401530926967827, 0.851866663910233, 0.14748079194311528, 0.9960235778317499, 0.9919109807478119, 0.9948379450091522, 0.9983177833238883, 0.9936616717536253, 0.9925935798268163, 0.9946011740038021, 0.5720455912736001, 0.057204559127360013, 0.24311937629128005, 0.12513497309110003, 0.9917546240166463, 0.9948012799966613, 0.9903617240580366, 0.9990871505806809, 0.9964984681336618, 0.9988511643121657, 0.9918789821986788, 0.9985339379415596, 0.9898769211670096, 0.9937344006390723, 0.9993068990052353, 0.15097429733566214, 0.2761724951262112, 0.025776099545113045, 0.5449803903823901, 0.06074991816177137, 0.9346141255657134, 0.21129635305294817, 0.18763116151101797, 0.6000816426703728, 0.9965462322156731, 0.9905267941175276, 0.9940885448049942, 0.9898555231189593, 0.9962664004741025, 0.5514604206881725, 0.4418512596721332, 0.00034146156079763, 0.00580484653355971, 0.609973819749166, 0.12136700358645497, 0.26784442170803857, 0.9906439978054183, 0.0090101656095275, 0.9969244540219904, 0.17796685535098192, 0.5666839341439162, 0.22480023833808244, 0.03044169894161533, 0.228367970591736, 0.7677888666446296, 0.8730432653054113, 0.09082781952953158, 0.03445193154568439, 0.9982702106448837, 0.9932282461265158, 0.9966286502149861, 0.23720244292573048, 0.76086248086013, 0.9908796524857533, 0.9966109047588276, 0.9970912773014406, 0.13824539782698772, 0.7766138524986663, 0.08132082225116925, 0.9940802769975231, 0.37693418451461635, 0.6203090123114553, 0.9423080638268613, 0.012472641480170235, 0.04427787725460434, 0.9894037991402215, 0.9990009151139334, 0.9969690837191012, 0.9981403155820164, 0.9989717274631735, 0.9869972017237147, 0.32227661786208484, 0.6678103112399902, 0.008306098398507341, 0.9912049259646146, 0.9952401514937474, 0.9960760439127412, 0.9926454047654144, 0.9974307426374056, 0.873520214883715, 0.12524738375170913, 0.8250061256472846, 0.1745930664335207, 0.9905497245885704, 0.09003783272759705, 0.22509458181899264, 0.06602774400023784, 0.6152585236385799, 0.9967741793025378, 0.10478239187264171, 0.1771774989846487, 0.7163305335293324, 0.9971239048841101, 0.018819734213746237, 0.9786261791148043, 0.3829409440125826, 0.14337599325589587, 0.25517297027568303, 0.09001834513281563, 0.1281309509350158, 0.9974849327116577, 0.9926680680317634, 0.9894352560787154, 0.9966683529467758, 0.9966918041054007, 0.9956911498574019, 0.9911655443367489, 0.9959739054935104, 0.09230584792008305, 0.6349523478139046, 0.27272182340024537, 0.9941459792393379, 0.9880070712589921, 0.9841247733268865, 0.014285682193454805, 0.7193059815089171, 0.27454426775149504, 0.994047452761267, 0.9979907368032378, 0.9914288668175065, 0.999076572369301, 0.99251358035524, 0.9904518943341224, 0.994509919421865, 0.9969200523550831, 0.9905158584607145, 0.001112314271151841, 0.00815697132178017, 0.9961902341599618, 0.9939453958981211, 0.5183156437780261, 0.32690170982018085, 0.09953524565807952, 0.025632822460441882, 0.029294654240505008, 0.9924193913196552, 0.9476250841741773, 0.025077916078933747, 0.027212206809055766, 0.7946368702254911, 0.20195191177001431, 0.9988724393615118, 0.9949329339145285, 0.8531516204094329, 0.08116896362856522, 0.06559329763497568, 0.5368991909429413, 0.4622629805428014, 0.9991722533559954, 0.42999280480495056, 0.35593429009337735, 0.1919475789463224, 0.008312690426809237, 0.012846885205068822, 0.9981926107030935, 0.045643388523727714, 0.9531413485837259, 0.9997194175736128, 0.9977122760113009, 0.9927056735329736, 0.9991859804261946, 0.9988787022480078, 0.9994141315728905, 0.46103219637363807, 0.02892751036069886, 0.1102861332501644, 0.399561236857153, 0.9948419662304604, 0.9921401381986693, 0.9906829962768887, 0.009246374631917628, 0.9971381218709073, 0.9947089475173533, 0.005309390933536883, 0.6882297997597185, 0.006636738666921104, 0.29865324001144966, 0.9944577962300337, 0.32343889023138483, 0.2250734545424585, 0.10336706801209206, 0.34677984107282495, 0.9987762074647162, 0.997264617271352, 0.9944855554143979, 0.9957132985461786, 0.9928935442994161, 0.9943149334273572, 0.9319191712008604, 0.06785950448837133, 0.9961653599880033, 0.9964983359412946, 0.9965491768019278, 0.9927135389481704, 0.9959639783503621, 0.9985483405978548, 0.9955309624368451, 0.9991601683001917, 0.9932650037060596, 0.9889428382629135, 0.9962484770447685, 0.9895942441152321, 0.9942295746837437, 0.024521680115196832, 0.3661532689928254, 0.03065210014399604, 0.5784887263539616, 0.9984306167236724, 0.9993550100780395, 0.815075809479553, 0.1849014567800838, 0.9931995904149393, 0.9889949036215381, 0.9967907395239984, 0.9954216843226393, 0.9984813368126176, 0.06126145684872349, 0.936425126116202, 0.38480168462701925, 0.6135299587060167, 0.9956370132553284, 0.9959608913266272, 0.9989312477941653, 0.9942620901902075, 0.9913621697587036, 0.9922620893470213, 0.9925915128968057, 0.9977545648011166, 0.46806351458533646, 0.07184230688984233, 0.15892389099874213, 0.10957766000369892, 0.007982478543315815, 0.1676320494096321, 0.01596495708663163, 0.9987533202643868, 0.9980537402577178, 0.9956931135308327, 0.9933236481445864, 0.9804279252111937, 0.9971510443620971, 0.7320192880646027, 0.10858598134973646, 0.15851057047605208, 0.9997628440634576, 0.9952333944408388, 0.9961751208159995, 0.9320738475724638, 0.06720008077067388, 0.9926222218331757, 0.9946948508775056, 0.8432208196751275, 0.15662075262258465, 0.2575818435654264, 0.7366840725971195, 0.9973421410824151, 0.04114170753452715, 0.8773916324211116, 0.08049464517624877, 0.5650461871151979, 0.04109426815383258, 0.12086549457009582, 0.2725516902555661, 0.9975570308317186, 0.9976771052205903, 0.6691058257249124, 0.02107419923543031, 0.3085864888045153, 0.40946306296385687, 0.10555563379521524, 0.14615395448568264, 0.04407817674965032, 0.2946278130108205, 0.9970887553944316, 0.9924656959257848, 0.02572707420977758, 0.4730923090797988, 0.5002486651901196, 0.9940332665258091, 0.9967500287202506, 0.9245735102580906, 0.07504993544372325, 0.08545691037430692, 0.9132160030195543, 0.9992140796890319, 0.9216431057638649, 0.07832755578567593, 0.993456928145322, 0.04021069751954911, 0.9474645603043759, 0.011728120109868491, 0.937158475449587, 0.06283759063937389, 0.01255078059565235, 0.5538031937831599, 0.433001930550006, 0.9956195480242775, 0.9977895267706196, 0.9384035379091779, 0.06107342952388799, 0.6833454446621645, 0.1495164263037151, 0.1362260772989404, 0.029903285260743016, 0.9992720876966252, 0.025553580534185574, 0.5049874248422387, 0.39668891686402363, 0.07179339292937852, 0.9914780589903633, 0.9858665884919823, 0.9951022393177544, 0.14506442323480107, 0.853065414246442, 0.9992604917640017, 0.6277801598323904, 0.28997949036018034, 0.08224564492671782, 0.9936504123886223, 0.46201993552421466, 0.17386357393789786, 0.36365886979042383, 0.9938581000699299, 0.9910112655451334, 0.9895335983872389, 0.9953319515036656, 0.1897447675343558, 0.5744566356544717, 0.21028594420321267, 0.02541535418350087, 0.9961185905594139, 0.997831823604263, 0.9954628267593972, 0.9955169438652122, 0.9961985283324324, 0.9972825298212677, 0.9985181946668924, 0.9992152174808988, 0.9927253386790774, 0.22000026691765084, 0.4017715818562947, 0.3670346976061393, 0.0033082746904909903, 0.007903100649506254, 0.9991623389798266, 0.21581083083884786, 0.7639408453839854, 0.019172260598439787, 0.9819461839035075, 0.9931729615918706, 0.9966666353815536, 0.019392703840878937, 0.9784500574261646, 0.9981943566532829, 0.11487391696452627, 0.05898930871151349, 0.4463006909094771, 0.3779972808224615, 0.9936466684065074, 0.08625204503235154, 0.24438079425832937, 0.5390752814521972, 0.12937806754852732, 0.9900913512799867, 0.9267964007759791, 0.0604432435288682, 0.9900209551624622, 0.9941993313212223, 0.9620989191428772, 0.0346910667960172, 0.9930462968388449, 0.9992618685023761, 0.9975319475016511, 0.9965884785007548, 0.996658921354271, 0.9965844548019304, 0.9921981407302681, 0.13750909754474483, 0.8602313311520083, 0.08930282308003079, 0.909430790141538, 0.31076222512488005, 0.6884578525843497, 0.9926462142185014, 0.9895949177056604, 0.009884965881632568, 0.9978892297963176, 0.9921357399557815, 0.9942616290351411, 0.9982176932210916, 0.9970326206969113, 0.9969323185570015, 0.9955018404233029, 0.9922827424200026, 0.9162564927400081, 0.07656944575730079, 0.006626202036689492, 0.9977443350738165, 0.6533778168589475, 0.3461487170543341, 0.2739104068612241, 0.2558808610931435, 0.4632206374260701, 0.006240996612027891, 0.9779699788882675, 0.01817788064848081, 0.9884548247287767, 0.9982702863961924, 0.980501528626757, 0.1658622612640251, 0.5946005592483918, 0.07197796243533165, 0.1658622612640251, 0.19772869905465018, 0.5801776301208814, 0.09886434952732509, 0.08065249566702837, 0.04162709453782109, 0.9981051791912436, 0.5848174381495767, 0.3324945052178784, 0.053136972329212336, 0.026102372372244654, 0.003107425282410078, 0.9912018868016896, 0.7880373960370591, 0.20847550159710557, 0.9899548314416442, 0.9917021821148752, 0.3276687922574923, 0.6704302076735116, 0.001588697174581781, 0.12635559133660815, 0.1943932174409356, 0.6775992150798327, 0.9948458997215892, 0.554485153585853, 0.1980304119949475, 0.006601013733164917, 0.24011187454387387, 0.9987101792993778, 0.9986797930707623, 0.9964940131681893, 0.9955419094289238, 0.9920314959299797, 0.03931232124426585, 0.8329962123109304, 0.01168744685640336, 0.09881205069504659, 0.015937427531459127, 0.8477875501448712, 0.049351458220491466, 0.006168932277561433, 0.02996338534815553, 0.06653634099369832, 0.9974788046833148, 0.9967216689345891, 0.9949428652028198, 0.9854864924700124, 0.9933976681874748, 0.3646945691574913, 0.5135494953442225, 0.017862591142407735, 0.10122134980697718, 0.4390720329791002, 0.5566806132413592, 0.9966010158375161, 0.9983177039500062, 0.9879541511703834, 0.9940471700321674, 0.9962305437692868, 0.10340556664877139, 0.204809735233373, 0.6604613611760236, 0.03002097096254653, 0.9933554601502547, 0.0027545385376783493, 0.0034431731720979365, 0.41014501739275044, 0.14444237569049037, 0.0196156312666098, 0.42441093104119393, 0.9478674443081603, 0.05154566162400872, 0.14024029873296978, 0.85897182973944, 0.9890255528760968, 0.5885082204477374, 0.4069113981381499, 0.9977048150442088, 0.9958199948634571, 0.923483461737169, 0.07550493712316476, 0.9982401160133496, 0.9849799578122012, 0.0005914139169968526, 0.4157639836487874, 0.5151215217042587, 0.047313113359748214, 0.020699487094889845, 0.9935759511238016, 0.9926315118904449, 0.9978551048094327, 0.9945446155237235, 0.9990848506431105, 0.9967262508084668, 0.9945542290584163, 0.9888919887791797, 0.0005311628706072614, 0.7944426001382605, 0.20485181376420045, 0.2044830657324574, 0.7940316448572047, 0.9980598167495452, 0.9955227121737696, 0.9719543155139474, 0.017873065346578718, 0.0093620818482079, 0.9964497716673626, 0.9973639943990916, 0.9984204863576024, 0.29442498665823486, 0.6289988351335017, 0.07494454205845978, 0.9976869668486394, 0.9980597041572535, 0.9941074196856512, 0.991600930026461, 0.48715347445548185, 0.08549138129627216, 0.22330938390319366, 0.20341052791181996, 0.9966582710095679, 0.9931014976032154, 0.9991293202524448, 0.9989923333866061, 0.9956864045947706, 0.30096304934246537, 0.5466241383682526, 0.06621187085534237, 0.0861506728742807, 0.15775056860795597, 0.8387071897656325, 0.9958717676736861, 0.9960967139032018, 0.3309148048381327, 0.6683500984415487, 0.39684578941541393, 0.2135751884853864, 0.3463381434898158, 0.04281124273693556, 0.9939179197528292, 0.09274943542139219, 0.8996695235875043, 0.12535019734659344, 0.14278300624909981, 0.6798795471977486, 0.050638159192994706, 0.9970319394289142, 0.9946883648374039, 0.9956560501436266, 0.9942060542461008, 0.9970446304544547, 0.9983692838580439, 0.9986149397877043, 0.44209336546255656, 0.34170535234442145, 0.0057916161414308725, 0.20946345044841655, 0.3622373580291909, 0.6327079186909866, 0.99706877117205, 0.994845061780783, 0.9931493858504761, 0.9984692589154133, 0.9900518599033741, 0.9490910313514385, 0.04867133494109941, 0.9857733037459837, 0.923926167859529, 0.000696776898838257, 0.07525190507453176, 0.6168920931074922, 0.08655798392226009, 0.2903021614623492, 0.005992475810002622, 0.9940854168925913, 0.9946596430457408, 0.10068127149569207, 0.6944552092434565, 0.2048004400668468, 0.9944018600747694, 0.9924993489832977, 0.23524329709681466, 0.08037479317474501, 0.6822055615807625, 0.9990862834915002, 0.13933321641402802, 0.72425681799371, 0.12001970126752909, 0.016554441554141944, 0.05639158840782741, 0.9079863003057428, 0.03514258408024027, 0.9988103617089582, 0.9984045092028049, 0.2989261204578859, 0.16071296798811072, 0.5367813130802898, 0.4039953458855472, 0.35629109840090695, 0.2385212374232013, 0.943990490880947, 0.05232763253220327, 0.003488508835480218, 0.9971392485510159, 0.3258296256750399, 0.4760550937940596, 0.18788416857392376, 0.009414675113726028, 0.11357882653512406, 0.3699424635715469, 0.5159723834024207, 0.995324018923308, 0.9944652327725759, 0.1343754537620509, 0.2828956921306335, 0.44414623664509456, 0.13720441068335723, 0.9958880151687483, 0.9921098207835981, 0.99378200449525, 0.9978094341323708, 0.9352190272500048, 0.064559702744008, 0.9997217960810966, 0.8735070309511223, 0.0757741038897359, 0.04946365115024427, 0.061685811974828746, 0.07257154349979852, 0.14151450982460712, 0.6966868175980658, 0.025400040224929483, 0.9980436708029312, 0.9951234088071398, 0.9970207808785113, 0.9894960975725299, 0.9981954539462482, 0.9975794189091277, 0.9951967080197565, 0.9979986604533703, 0.996993312151471, 0.9993859665614527, 0.08029154348746043, 0.9168776256309997, 0.0995020253952693, 0.8993087819058149, 0.34644159917320483, 0.5567811415283649, 0.09544819569057685, 0.9896967633737447, 0.9967945672770078, 0.9969923105617082, 0.9940197557289491, 0.8316398387633605, 0.11845315210872791, 0.049355480045303296, 0.99845587524465, 0.9978570717216751, 0.9860818837484756, 0.6304901031275598, 0.3673290166047522, 0.9944954598105022, 0.4396835139677082, 0.19558335621322193, 0.031081075987372475, 0.07732365245639006, 0.25622935813980235, 0.9978870970640068, 0.3868765929681906, 0.09338400519921841, 0.5180588859861402, 0.9903903394278493, 0.996856445686799, 0.997553253225438, 0.9912370056613845, 0.9962196785859497, 0.9985694776516142, 0.18363839254424924, 0.23698097323567402, 0.36858848789238596, 0.18932243802776172, 0.021424479130162412, 0.9843261356908083, 0.9847032744889586, 0.015020305357582553, 0.5033968969888528, 0.49290946163491833, 0.980374485501111, 0.01852092856740134, 0.21952691352159642, 0.7731165215325787, 0.9969540386705521, 0.9915843284576835, 0.3305304670513139, 0.5700678408202661, 0.09908136824079385, 0.2541597587414482, 0.7449510170007964, 0.9903836591376647, 0.19595983854569005, 0.07492582062041091, 0.7262041075516749, 0.9917157221907352, 0.9983661161740456, 0.9955993956949256, 0.994697035930352, 0.9987408934267096, 0.9979714727912027, 0.9976344383376291, 0.9975497907567995, 0.15163221821337378, 0.8408695737287091, 0.996667341853422, 0.9978375408218095, 0.9982733651971539, 0.9980709097690738, 0.7277032052597807, 0.26904926503574883, 0.0032332100519317456, 0.9978661188817988, 0.9975835862411906, 0.02582699279993728, 0.05921310544375864, 0.9146535011099739, 0.9995697056528353, 0.9968477755614747, 0.9933778794167747, 0.47583137412630705, 0.24420975285847504, 0.276938894994147, 0.9976581032288345, 0.037244352504118616, 0.9574902289600494, 0.004655544063014827, 0.009863008532697922, 0.12558897531635355, 0.49906823175451487, 0.021041084869755568, 0.3445477647422474, 0.9962823712893385, 0.9966942498088142, 0.872445179734655, 0.12610564544837197, 0.994880292808601, 0.9953003673770896, 0.992630028024116, 0.10841399793986582, 0.8885234178984656, 0.9907669530869118, 0.9967895602696788, 0.9948662978508583, 0.9905132990187239, 0.9959588320376139, 0.9984532361355491, 0.045303070512068826, 0.054363684614482585, 0.8542864725132978, 0.045303070512068826, 0.9934520837656954, 0.9981540583897243, 0.9890001333835486, 0.997652919175764, 0.9937251009006264, 0.9950714781713038, 0.3088230254540355, 0.6902008580930553, 0.9944282509448679, 0.9957639793544305, 0.999404593115608, 0.9958311753090714, 0.9982273857347703, 0.7094769614264732, 0.2885206309800991, 0.9960228864337725, 0.8453383087418067, 0.15081152925910166, 0.9984391605922281, 0.9963169044564044, 0.7906721968359407, 0.0037651056992187653, 0.07153700828515654, 0.1330337347057297, 0.008312361788058484, 0.12317408831395753, 0.04534015520759173, 0.6937043746761534, 0.1277081038347167, 0.0007556692534598622, 0.41485040363395737, 0.05048889293719562, 0.5334993020363671, 0.9982819766663926, 0.9971572718906152, 0.9955217466032299, 0.9896339087674745, 0.9921183679946426, 0.1283342221376495, 0.8693115761466973, 0.9977570683683772, 0.9941391367726774, 0.031125069083835066, 0.9677066933337812, 0.9951611942747314, 0.9953557127954608, 0.1112803340987381, 0.2931808802216754, 0.01712005139980586, 0.17655053006049795, 0.034775104405855656, 0.16264048829815567, 0.20437061358518246, 0.9969381542999375, 0.9942772956733922, 0.9933305063369255, 0.9971575389758058, 0.8904671721915361, 0.10655162744172227, 0.9944579232741214, 0.8456773325206417, 0.07831287384737151, 0.0625485940469266, 0.012713128871326545, 0.9825615980738925, 0.2658520989301312, 0.2569532839031812, 0.21802096816027494, 0.10567342844503122, 0.1523922073365187, 0.9906007319521979, 0.9902349689174759, 0.13078329566147273, 0.8656608617592719, 0.9943490645062024, 0.9891731722211721, 0.008084554852575037, 0.982273414587867, 0.004042277426287519, 0.6465561421064889, 0.14288533527215225, 0.20896980283552266, 0.055944314293198835, 0.9234352637763453, 0.01982836455961478, 0.9438353203388687, 0.055580269681896305, 0.9852411156465402, 0.9943538639862861, 0.9881550233616675, 0.9953280689553056, 0.9934041305671184, 0.9997608607516273, 0.22457029834611458, 0.19305165998174761, 0.575215150149697, 0.7826611778657292, 0.14105423466759223, 0.07592981576309313, 0.9940521151260825, 0.824376512243581, 0.05136818468251459, 0.09610821650276924, 0.02734113055682228, 0.9962877557891908, 0.9981954806851797, 0.997794552616423, 0.9928897215069228, 0.9969926661654098, 0.9994874198283797, 0.9932401377086371, 0.4334472360447799, 0.5655454413155699, 0.990380739880039, 0.9968349764100036, 0.9979846876898621, 0.9983857563401208, 0.37316235093364925, 0.5362956235759643, 0.09018424163272941, 0.997387220411987, 0.997527302380398, 0.9964375697178104, 0.6796569688903144, 0.3201414510325589, 0.6944112245963863, 0.30532477968634886, 0.0001801326133842766, 0.9931663122171419, 0.2775318337567752, 0.19769390897742892, 0.09124334260496719, 0.43340587737359415, 0.137141171386719, 0.22658106576936185, 0.5575086749851403, 0.07751457513162378, 0.991686074969759, 0.9960004086873816, 0.7640044193028054, 0.1037168010561909, 0.11118611800468202, 0.020273860288761596, 0.0004268181113423494, 0.9892141729886181, 0.9863854270193034, 0.9959011727269128, 0.27054566665160706, 0.18909105733714474, 0.4247276057111251, 0.11490918099718796, 0.9948277668402218, 0.9945010210927275, 0.9969114327751701, 0.9941917080245187, 0.9965433451545077, 0.9956552947126323, 0.8505833699111045, 0.14721635248461426, 0.9965050629065861, 0.9975233668288325, 0.9926528998109772, 0.9981419807127406, 0.9978593372086032, 0.9936845582021626, 0.9735739071965975, 0.02507057271750895, 0.9981222547076057, 0.998749809790557, 0.8195121438662538, 0.12823184459225734, 0.05207384551969842, 0.9934793902356186, 0.9967924098246401, 0.9956090555375973, 0.9844982418437669, 0.008369804393995893, 0.006277353295496919, 0.9955713392215247, 0.9520544196901025, 0.04665960138210096, 0.9980351191851761, 0.9903180938388995, 0.990016801761118, 0.997016151884581, 0.9955042412666825, 0.9947402780194567, 0.9899708340551047, 0.9933168310372025, 0.9949972694038233, 0.9926525844157756, 0.9943520423626434, 0.02859719682151009, 0.0015280944866455774, 0.8522401251234762, 0.11744497625933151, 0.04682765561412001, 0.20194426483589253, 0.4814468342826714, 0.2677956555432488, 0.989916067853883, 0.9943650582354308, 0.9831097859711326, 0.28596032738529864, 0.7090249213251926, 0.9897321730196948, 0.2407895585519309, 0.7578148543258739, 0.9934346165797169, 0.9946188457881221, 0.9985967520547823, 0.8848701170636052, 0.1026644887200868, 0.012221962942867476, 0.997116434924057, 0.9925527482050682, 0.9978832197371084, 0.9926549133759724, 0.99785311873112, 0.9975827455582262, 0.9742734081842674, 0.025444127878483755, 0.9974994889229106, 0.9895337036741767, 0.9895203895786175, 0.9945993740960168, 0.84380859886884, 0.15341974524888, 0.9936702231354781, 0.9929713828565754, 0.6442332453218504, 0.30191004485562734, 0.007131733343046315, 0.04618646355496661, 0.9968698661500275, 0.8987484876988896, 0.10012902614631924, 0.9953552578564715, 0.9947574131934144, 0.7603809290663003, 0.1433531317134695, 0.04361527049895269, 0.05259488501344295, 0.9924778281780622, 0.9977955490662372, 0.7386006589078785, 0.2599256674205426, 0.9880989802390787, 0.9993784430060593, 0.148042940032633, 0.8514888054164512, 0.991552790739272, 0.9991751515274745, 0.9973862902998318, 0.9945251397323371, 0.9990216740676041, 0.9885848820457017, 0.9945294086751896, 0.9972794754372938, 0.15033911651309423, 0.8495065740318216, 0.9986454126581281, 0.9389445280198844, 0.037472130536711466, 0.022483278322026876, 0.5453847354871438, 0.38147766524983107, 0.02537351443175482, 0.04753888336064409, 0.9941751031609078, 0.029731989396714058, 0.8360995806106256, 0.09009693756580017, 0.04324653003158408, 0.9978985307776532, 0.8751136490877689, 0.1227749086511867, 0.0019922906069158087, 0.962095055436478, 0.0378714966547472, 0.2962655690717831, 0.1181669922442799, 0.20410662296739254, 0.006502011534972338, 0.3717454421082011, 0.0031096576906389445, 0.9907132452182087, 0.9984191831783499], \"Term\": [\"accelerator\", \"accept\", \"accept\", \"access\", \"access\", \"access\", \"accident\", \"acquire\", \"add\", \"address\", \"adult\", \"adult\", \"advance\", \"advance\", \"advertising\", \"advice\", \"advocate\", \"age\", \"age\", \"age\", \"age\", \"age\", \"agree\", \"aid\", \"air\", \"algorithm\", \"allow\", \"allow\", \"allow\", \"allow\", \"also\", \"also\", \"also\", \"also\", \"also\", \"also\", \"amendment\", \"american\", \"american\", \"american\", \"animal\", \"announce\", \"anyway\", \"anywhere\", \"apple\", \"application\", \"application\", \"application\", \"appreciate\", \"arab\", \"area\", \"area\", \"area\", \"area\", \"argue\", \"argument\", \"arm\", \"arm\", \"armenian\", \"arrogance\", \"article\", \"article\", \"assist\", \"assumption\", \"assumption\", \"atheist\", \"attack\", \"attitude\", \"audio\", \"author\", \"auto\", \"auto\", \"available\", \"available\", \"available\", \"average\", \"award\", \"ax\", \"back\", \"back\", \"back\", \"bad\", \"bad\", \"bad\", \"ball\", \"base\", \"base\", \"base\", \"baseball\", \"battery\", \"be\", \"beat\", \"beautiful\", \"become\", \"become\", \"become\", \"begin\", \"begin\", \"begin\", \"begin\", \"begin\", \"belief\", \"believe\", \"bend\", \"benefit\", \"benign\", \"bike\", \"biker\", \"bit\", \"bit\", \"bit\", \"black\", \"blank\", \"blanking\", \"blind\", \"block\", \"blood\", \"blood\", \"blow\", \"blow\", \"blue\", \"book\", \"border\", \"box\", \"boy\", \"boy\", \"brain\", \"break\", \"break\", \"brother\", \"btw\", \"build\", \"build\", \"burn\", \"burn\", \"bus\", \"buyer\", \"byte\", \"ca\", \"ca\", \"call\", \"call\", \"call\", \"call\", \"call\", \"can\", \"can\", \"can\", \"canadian\", \"cap\", \"capable\", \"capable\", \"capable\", \"car\", \"card\", \"carry\", \"carry\", \"carry\", \"carry\", \"case\", \"case\", \"case\", \"case\", \"case\", \"case\", \"cause\", \"cause\", \"cause\", \"cause\", \"cd\", \"certain\", \"certain\", \"certainly\", \"channel\", \"character\", \"character\", \"cheap\", \"child\", \"child\", \"child\", \"chip\", \"chip\", \"choose\", \"christian\", \"church\", \"circuit\", \"city\", \"city\", \"civilian\", \"claim\", \"clear\", \"clear\", \"clearly\", \"client\", \"clipper\", \"clock\", \"club\", \"coach\", \"cold\", \"color\", \"com\", \"come\", \"come\", \"come\", \"come\", \"comet\", \"communication\", \"community\", \"community\", \"compare\", \"compare\", \"compare\", \"compatible\", \"compression\", \"compromise\", \"computer\", \"computer\", \"computer\", \"computer\", \"computer\", \"concept\", \"concept\", \"concern\", \"concern\", \"concern\", \"concern\", \"conclusion\", \"condition\", \"condition\", \"condition\", \"condition\", \"condition\", \"condition\", \"conference\", \"configuration\", \"confirm\", \"connect\", \"connect\", \"connection\", \"consistent\", \"consistent\", \"consultation\", \"contain\", \"contain\", \"contain\", \"contest\", \"contradict\", \"contrary\", \"contribute\", \"controller\", \"conversation\", \"convert\", \"convince\", \"cool\", \"cop\", \"copy\", \"corporation\", \"correctly\", \"cost\", \"cost\", \"cost\", \"could\", \"could\", \"could\", \"could\", \"country\", \"country\", \"cover\", \"cover\", \"cover\", \"cover\", \"cpu\", \"crash\", \"create\", \"create\", \"create\", \"create\", \"crime\", \"crime\", \"criminal\", \"criminal\", \"cross\", \"cry\", \"cure\", \"currently\", \"cycle\", \"damage\", \"dangerous\", \"datum\", \"datum\", \"daughter\", \"dealer\", \"dealer\", \"death\", \"death\", \"death\", \"decade\", \"decent\", \"default\", \"defense\", \"define\", \"define\", \"define\", \"degree\", \"degree\", \"deliver\", \"dept\", \"describe\", \"describe\", \"describe\", \"design\", \"design\", \"detail\", \"detail\", \"detailed\", \"detect\", \"development\", \"device\", \"devil\", \"di_di\", \"diagnose\", \"diagnosis\", \"die\", \"die\", \"differential\", \"digital\", \"direct\", \"direction\", \"disclaimer\", \"discussion\", \"discussion\", \"discussion\", \"disease\", \"disk\", \"display\", \"distance\", \"distant\", \"distribution\", \"distribution_usa\", \"division\", \"division\", \"dn\", \"doctor\", \"door\", \"dream\", \"drink\", \"drive\", \"driver\", \"driver\", \"drop\", \"drug\", \"drug\", \"due\", \"due\", \"due\", \"due\", \"due\", \"earth\", \"earth\", \"eat\", \"echo\", \"economic\", \"edge\", \"education\", \"educational\", \"eeg\", \"effect\", \"effect\", \"effect\", \"effect\", \"egg\", \"electronic\", \"element\", \"email\", \"encrypt\", \"encryption\", \"energy\", \"engine\", \"enjoyable\", \"ensure\", \"entry\", \"environment\", \"environment\", \"environment\", \"environment\", \"equipment\", \"equipment\", \"error\", \"error\", \"error\", \"escape\", \"essentially\", \"este\", \"estimate\", \"ethnic\", \"even\", \"even\", \"even\", \"even\", \"ever\", \"ever\", \"ever\", \"evidence\", \"evidence\", \"evil\", \"exactly\", \"exactly\", \"exactly\", \"exactly\", \"examine\", \"examine\", \"exist\", \"exist\", \"exist\", \"existence\", \"expansion\", \"expensive\", \"explain\", \"explain\", \"explicitly\", \"export\", \"external\", \"extra\", \"extra\", \"extra\", \"extremely\", \"eye\", \"eye\", \"fact\", \"fact\", \"fact\", \"fair\", \"faith\", \"family\", \"fan\", \"faq\", \"farin\", \"fast\", \"fast\", \"fast\", \"father\", \"fax\", \"federal\", \"few\", \"field\", \"fight\", \"fight\", \"file\", \"file\", \"film\", \"final\", \"final\", \"final\", \"final\", \"finish\", \"fire\", \"fire\", \"fire\", \"firearm\", \"firm\", \"firm\", \"first\", \"first\", \"first\", \"first\", \"first\", \"flight\", \"floor\", \"fold\", \"folk\", \"font\", \"food\", \"fool\", \"foot\", \"force\", \"force\", \"force\", \"frame\", \"freenet\", \"friend\", \"friend\", \"fuel\", \"fuel\", \"fun\", \"function\", \"funny\", \"game\", \"gang\", \"gas\", \"gay\", \"generate\", \"get\", \"get\", \"get\", \"gift\", \"girl\", \"give\", \"give\", \"give\", \"give\", \"give\", \"glock\", \"go\", \"go\", \"go\", \"goal\", \"goal\", \"god\", \"gold\", \"good\", \"good\", \"good\", \"government\", \"government\", \"graphic\", \"great\", \"great\", \"great\", \"great\", \"great\", \"greek\", \"ground\", \"ground\", \"group\", \"guess\", \"guilty\", \"gun\", \"hardware\", \"have\", \"head\", \"head\", \"head\", \"head\", \"headache\", \"health\", \"hear\", \"hear\", \"helmet\", \"hide\", \"high\", \"high\", \"high\", \"high\", \"hint\", \"history\", \"history\", \"history\", \"history\", \"hit\", \"hockey\", \"hole\", \"homosexual\", \"honor\", \"horse\", \"host\", \"host\", \"hot\", \"house\", \"ice\", \"icon\", \"ide\", \"ill\", \"illegal\", \"image\", \"imho\", \"immediate\", \"impact\", \"implementation\", \"imply\", \"include\", \"include\", \"include\", \"include\", \"indeed\", \"info\", \"information\", \"information\", \"inhabitant\", \"injury\", \"input\", \"insert\", \"instal\", \"insurance\", \"insurance\", \"interested\", \"interested\", \"interface\", \"internal\", \"internet\", \"interpretation\", \"investigation\", \"islamic\", \"islander\", \"israeli\", \"issue\", \"issue\", \"issue\", \"issue\", \"issue\", \"issue\", \"issue\", \"item\", \"jewish\", \"judge\", \"jumper\", \"jungle\", \"justify\", \"keep\", \"keep\", \"keep\", \"key\", \"keyboard\", \"kid\", \"kill\", \"kill\", \"king\", \"knife\", \"know\", \"know\", \"laboratory\", \"laboratory\", \"language\", \"large\", \"large\", \"large\", \"last\", \"last\", \"last\", \"last\", \"laugh\", \"launch\", \"law\", \"law\", \"law\", \"lead\", \"lead\", \"lead\", \"lead\", \"lead\", \"lebanese\", \"leg\", \"level\", \"level\", \"level\", \"liar\", \"library\", \"life\", \"life\", \"light\", \"light\", \"like\", \"line\", \"line\", \"link\", \"list\", \"list\", \"list\", \"little\", \"little\", \"live\", \"live\", \"live\", \"localtalk\", \"logic\", \"look\", \"look\", \"lose\", \"lose\", \"lose\", \"lose\", \"lot\", \"low\", \"low\", \"low\", \"low\", \"lunar\", \"luxury\", \"mac\", \"machine\", \"machine\", \"mail\", \"make\", \"make\", \"make\", \"male\", \"man\", \"man\", \"man\", \"manage\", \"management\", \"manufacture\", \"manufacturer\", \"many\", \"many\", \"many\", \"many\", \"map\", \"market\", \"marriage\", \"mass\", \"master\", \"material\", \"matter\", \"max\", \"maxtor\", \"may\", \"may\", \"may\", \"may\", \"may\", \"maybe\", \"mean\", \"mean\", \"mean\", \"mechanic\", \"medical\", \"medium\", \"member\", \"member\", \"memory\", \"message\", \"message\", \"message\", \"message\", \"metal\", \"method\", \"method\", \"method\", \"method\", \"mhz\", \"mid\", \"mid\", \"migraine\", \"mile\", \"military\", \"military\", \"militia\", \"mind\", \"mine\", \"minor\", \"minority\", \"miracle\", \"mirror\", \"mission\", \"mission\", \"mode\", \"mode\", \"model\", \"model\", \"modem\", \"money\", \"money\", \"monitor\", \"moon\", \"morality\", \"motif\", \"motorcycle\", \"mount\", \"mouse\", \"msg\", \"much\", \"much\", \"much\", \"murder\", \"must\", \"must\", \"name\", \"name\", \"name\", \"name\", \"national\", \"national\", \"national_capital\", \"nature\", \"necessarilly\", \"necessarily\", \"necessarily\", \"necessarily\", \"necessarily\", \"necessary\", \"necessary\", \"necessary\", \"necessary\", \"necessary\", \"nee\", \"need\", \"need\", \"need\", \"need\", \"need\", \"negative\", \"network\", \"network\", \"neurologist\", \"neutral\", \"new\", \"new\", \"new\", \"news\", \"news\", \"news\", \"newspaper\", \"next\", \"next\", \"next\", \"next\", \"nice\", \"nntp_poste\", \"nntp_posting\", \"noise\", \"northern\", \"note\", \"note\", \"note\", \"note\", \"note\", \"number\", \"number\", \"number\", \"number\", \"number\", \"object\", \"objective\", \"observation\", \"occupant\", \"offense\", \"offer\", \"offer\", \"offer\", \"offer\", \"official\", \"official\", \"oil\", \"operate\", \"opponent\", \"optional\", \"orbit\", \"order\", \"order\", \"order\", \"order\", \"organization\", \"organization\", \"organization\", \"original\", \"original\", \"original\", \"original\", \"originator\", \"originator\", \"overall\", \"overall\", \"own\", \"owner\", \"owner\", \"package\", \"pad\", \"page\", \"page\", \"pain\", \"park\", \"part\", \"part\", \"part\", \"part\", \"part\", \"past\", \"patent\", \"patient\", \"pattern\", \"pc\", \"pen\", \"penalty\", \"penguin\", \"people\", \"people\", \"people\", \"performance\", \"performance\", \"period\", \"permit\", \"person\", \"person\", \"person\", \"personally\", \"pgp\", \"physical\", \"pick\", \"pick\", \"pick\", \"picture\", \"pin\", \"pitch\", \"pitcher\", \"place\", \"place\", \"place\", \"place\", \"plane\", \"planet\", \"play\", \"player\", \"playoff\", \"point\", \"point\", \"point\", \"point\", \"police\", \"police\", \"population\", \"port\", \"possible\", \"possible\", \"post\", \"post\", \"post\", \"post\", \"pot\", \"pound\", \"pound\", \"power\", \"power\", \"power\", \"power\", \"practice\", \"prayer\", \"predict\", \"prediction\", \"president\", \"press\", \"pretty\", \"price\", \"price\", \"price\", \"price\", \"primarily\", \"primarily\", \"principle\", \"printer\", \"privacy\", \"private\", \"prize\", \"pro\", \"pro\", \"probability\", \"probably\", \"probably\", \"probably\", \"problem\", \"problem\", \"problem\", \"problem\", \"processor\", \"professional\", \"program\", \"program\", \"program\", \"promise\", \"proposal\", \"protect\", \"protect\", \"protect\", \"prove\", \"provide\", \"provide\", \"provide\", \"provide\", \"public\", \"public\", \"public\", \"publish\", \"pull\", \"purchase\", \"purchase\", \"purchase\", \"purpose\", \"purpose\", \"purpose\", \"put\", \"put\", \"put\", \"quality\", \"question\", \"question\", \"question\", \"question\", \"race\", \"race\", \"race\", \"ram\", \"random\", \"rate\", \"rate\", \"rate\", \"rate\", \"rational\", \"react\", \"realistic\", \"reality\", \"really\", \"really\", \"reason\", \"receive\", \"receive\", \"receive\", \"recent\", \"recent\", \"recent\", \"recent\", \"recent\", \"recommend\", \"registration\", \"release\", \"relevant\", \"religion\", \"religious\", \"remind\", \"remove\", \"replace\", \"report\", \"request\", \"request\", \"require\", \"require\", \"research\", \"research\", \"research\", \"researcher\", \"resolution\", \"respect\", \"restraint\", \"return\", \"return\", \"return\", \"revelation\", \"review\", \"revolver\", \"ride\", \"ride\", \"rider\", \"right\", \"right\", \"right\", \"right\", \"right\", \"ripem\", \"risk\", \"risk\", \"risk\", \"rock\", \"role\", \"route\", \"routine\", \"rsa\", \"rule\", \"run\", \"run\", \"run\", \"run\", \"run\", \"rush\", \"s\", \"s\", \"safety\", \"safety\", \"sale\", \"sale\", \"sample\", \"sample\", \"satellite\", \"saturn\", \"say\", \"say\", \"say\", \"scan\", \"scan\", \"scare\", \"schedule\", \"schedule\", \"schedule\", \"scheme\", \"science\", \"scientific\", \"scientist\", \"score\", \"screen\", \"scsi\", \"season\", \"seat\", \"seat\", \"secret\", \"section\", \"secure\", \"security\", \"see\", \"see\", \"see\", \"select\", \"seller\", \"send\", \"send\", \"send\", \"sense\", \"sensitive\", \"sequence\", \"serious\", \"serious\", \"serious\", \"server\", \"service\", \"service\", \"service\", \"set\", \"set\", \"set\", \"set\", \"set\", \"setup\", \"sex\", \"shall\", \"shall\", \"shape\", \"shell\", \"shipping\", \"shoot\", \"shoot\", \"shot\", \"should\", \"shuttle\", \"sight\", \"signal\", \"sin\", \"single\", \"single\", \"single\", \"single\", \"sink\", \"site\", \"sky\", \"slave\", \"slightly\", \"slip\", \"slow\", \"slow\", \"smoke\", \"society\", \"software\", \"solar\", \"soldier\", \"solution\", \"solution\", \"somehow\", \"son\", \"son\", \"sorry\", \"soul\", \"sound\", \"sound\", \"sound\", \"sound\", \"source\", \"source\", \"source\", \"source\", \"source\", \"source\", \"space\", \"space\", \"space\", \"special\", \"specifically\", \"specification\", \"specifie\", \"specify\", \"speed\", \"speed\", \"sphere\", \"spring\", \"standard\", \"standard\", \"star\", \"stat\", \"state\", \"state\", \"state\", \"state\", \"state\", \"state\", \"state\", \"statement\", \"statistic\", \"status\", \"steal\", \"step\", \"step\", \"stick\", \"still\", \"still\", \"still\", \"still\", \"stock\", \"stop\", \"stop\", \"stop\", \"stop\", \"stop\", \"storage\", \"straightforward\", \"strange\", \"strange\", \"string\", \"struggle\", \"student\", \"student\", \"student\", \"study\", \"study\", \"study\", \"support\", \"support\", \"support\", \"sure\", \"sure\", \"surgery\", \"surrender\", \"surveillance\", \"switch\", \"syndrome\", \"system\", \"table\", \"table\", \"table\", \"take\", \"take\", \"take\", \"talent\", \"talk\", \"talk\", \"talk\", \"talk\", \"tank\", \"tap\", \"tape\", \"taste\", \"tax\", \"team\", \"technique\", \"technology\", \"technology\", \"telephone\", \"terrorism\", \"terrorist\", \"test\", \"thank\", \"thank\", \"thank\", \"theory\", \"there\", \"therefore\", \"thing\", \"thing\", \"think\", \"think\", \"think\", \"thinking\", \"third\", \"third\", \"third\", \"third\", \"throw\", \"throw\", \"throw\", \"throw\", \"ticket\", \"tie\", \"time\", \"time\", \"time\", \"time\", \"time\", \"timer\", \"tire\", \"title\", \"today\", \"today\", \"today\", \"today\", \"tomorrow\", \"tongue\", \"tool\", \"topic\", \"town\", \"trace\", \"trade\", \"trade\", \"transfer\", \"translation\", \"travel\", \"treatment\", \"trial\", \"truck\", \"true\", \"true\", \"trust\", \"truth\", \"try\", \"try\", \"try\", \"tube\", \"tumor\", \"turkish\", \"turn\", \"turn\", \"turn\", \"tv\", \"type\", \"type\", \"understand\", \"univ\", \"universe\", \"university\", \"unix\", \"unlikely\", \"unusual\", \"up\", \"update\", \"upgrade\", \"usage\", \"use\", \"use\", \"use\", \"use\", \"user\", \"user\", \"user\", \"user\", \"utility\", \"variable\", \"vat\", \"vehicle\", \"vehicle\", \"velocity\", \"version\", \"version\", \"vertical\", \"victim\", \"video\", \"view\", \"view\", \"view\", \"village\", \"violence\", \"visit\", \"voltage\", \"vote\", \"wait\", \"want\", \"want\", \"war\", \"warning\", \"warrant\", \"waste\", \"watch\", \"watch\", \"water\", \"wave\", \"way\", \"way\", \"way\", \"way\", \"weapon\", \"week\", \"week\", \"weekend\", \"welcome\", \"well\", \"well\", \"well\", \"well\", \"western\", \"white\", \"whole\", \"whole\", \"wide_range\", \"will\", \"win\", \"win\", \"wind\", \"window\", \"wing\", \"winner\", \"wire\", \"wisdom\", \"wise\", \"withdraw\", \"woman\", \"woman\", \"wonder\", \"word\", \"word\", \"word\", \"work\", \"work\", \"work\", \"work\", \"workstation\", \"world\", \"world\", \"world\", \"world\", \"worth\", \"would\", \"would\", \"would\", \"write\", \"write\", \"year\", \"year\", \"year\", \"year\", \"year\", \"year\", \"yesterday\", \"young\"]}, \"R\": 30, \"lambda.step\": 0.01, \"plot.opts\": {\"xlab\": \"PC1\", \"ylab\": \"PC2\"}, \"topic.order\": [14, 8, 18, 6, 10, 7, 20, 9, 19, 2, 13, 3, 17, 11, 4, 15, 5, 12, 1, 16]};\n",
              "\n",
              "function LDAvis_load_lib(url, callback){\n",
              "  var s = document.createElement('script');\n",
              "  s.src = url;\n",
              "  s.async = true;\n",
              "  s.onreadystatechange = s.onload = callback;\n",
              "  s.onerror = function(){console.warn(\"failed to load library \" + url);};\n",
              "  document.getElementsByTagName(\"head\")[0].appendChild(s);\n",
              "}\n",
              "\n",
              "if(typeof(LDAvis) !== \"undefined\"){\n",
              "   // already loaded: just create the visualization\n",
              "   !function(LDAvis){\n",
              "       new LDAvis(\"#\" + \"ldavis_el631404751137425445495419928\", ldavis_el631404751137425445495419928_data);\n",
              "   }(LDAvis);\n",
              "}else if(typeof define === \"function\" && define.amd){\n",
              "   // require.js is available: use it to load d3/LDAvis\n",
              "   require.config({paths: {d3: \"https://d3js.org/d3.v5\"}});\n",
              "   require([\"d3\"], function(d3){\n",
              "      window.d3 = d3;\n",
              "      LDAvis_load_lib(\"https://cdn.jsdelivr.net/gh/bmabey/pyLDAvis@3.2.2/pyLDAvis/js/ldavis.v3.0.0.js\", function(){\n",
              "        new LDAvis(\"#\" + \"ldavis_el631404751137425445495419928\", ldavis_el631404751137425445495419928_data);\n",
              "      });\n",
              "    });\n",
              "}else{\n",
              "    // require.js not available: dynamically load d3 & LDAvis\n",
              "    LDAvis_load_lib(\"https://d3js.org/d3.v5.js\", function(){\n",
              "         LDAvis_load_lib(\"https://cdn.jsdelivr.net/gh/bmabey/pyLDAvis@3.2.2/pyLDAvis/js/ldavis.v3.0.0.js\", function(){\n",
              "                 new LDAvis(\"#\" + \"ldavis_el631404751137425445495419928\", ldavis_el631404751137425445495419928_data);\n",
              "            })\n",
              "         });\n",
              "}\n",
              "</script>"
            ],
            "text/plain": [
              "PreparedData(topic_coordinates=              x         y  topics  cluster       Freq\n",
              "topic                                                \n",
              "13    -0.338658  0.015795       1        1  24.176076\n",
              "7     -0.310554 -0.102087       2        1  15.732083\n",
              "17    -0.229563  0.076675       3        1  12.436313\n",
              "5     -0.141188 -0.192220       4        1   5.442055\n",
              "9     -0.050182  0.253796       5        1   4.782111\n",
              "6     -0.022123  0.285904       6        1   3.871352\n",
              "19     0.020493 -0.012533       7        1   3.301804\n",
              "8      0.040339 -0.000898       8        1   3.247854\n",
              "18    -0.051658 -0.014655       9        1   3.241523\n",
              "1      0.023278 -0.129477      10        1   3.160816\n",
              "12     0.062984  0.064512      11        1   2.908647\n",
              "2      0.114210 -0.004330      12        1   2.658866\n",
              "16     0.055807 -0.140878      13        1   2.352411\n",
              "10     0.111575 -0.040583      14        1   2.160203\n",
              "3      0.126656  0.020912      15        1   2.000029\n",
              "14     0.095916 -0.076025      16        1   1.896464\n",
              "4      0.131738  0.017564      17        1   1.752229\n",
              "11     0.108804  0.029916      18        1   1.742686\n",
              "0      0.121754 -0.036484      19        1   1.631909\n",
              "15     0.130372 -0.014904      20        1   1.504570, topic_info=           Term          Freq         Total Category  logprob  loglift\n",
              "19         line  11975.000000  11975.000000  Default  30.0000  30.0000\n",
              "197       write  10060.000000  10060.000000  Default  29.0000  29.0000\n",
              "174       would  12046.000000  12046.000000  Default  28.0000  28.0000\n",
              "139      people   5647.000000   5647.000000  Default  27.0000  27.0000\n",
              "177     article   6479.000000   6479.000000  Default  26.0000  26.0000\n",
              "...         ...           ...           ...      ...      ...      ...\n",
              "3369       seat    121.906449    145.087899  Topic20  -4.9370   4.0226\n",
              "756    purchase    167.274638    311.113662  Topic20  -4.6207   3.5761\n",
              "521        lead    254.004496    862.104624  Topic20  -4.2029   2.9746\n",
              "205   condition    153.886640    421.639776  Topic20  -4.7041   3.1887\n",
              "989        stop    136.921554    898.996100  Topic20  -4.8209   2.3148\n",
              "\n",
              "[945 rows x 6 columns], token_table=      Topic      Freq         Term\n",
              "term                              \n",
              "4621      6  0.991735  accelerator\n",
              "1211      6  0.015122       accept\n",
              "1211     10  0.984293       accept\n",
              "81        3  0.007225       access\n",
              "81        6  0.382922       access\n",
              "...     ...       ...          ...\n",
              "40        8  0.006502         year\n",
              "40        9  0.371745         year\n",
              "40       16  0.003110         year\n",
              "720       9  0.990713    yesterday\n",
              "570      14  0.998419        young\n",
              "\n",
              "[1424 rows x 3 columns], R=30, lambda_step=0.01, plot_opts={'xlab': 'PC1', 'ylab': 'PC2'}, topic_order=[14, 8, 18, 6, 10, 7, 20, 9, 19, 2, 13, 3, 17, 11, 4, 15, 5, 12, 1, 16])"
            ]
          },
          "metadata": {
            "tags": []
          },
          "execution_count": 28
        }
      ]
    },
    {
      "cell_type": "code",
      "metadata": {
        "id": "n1DRyS4jZ5vS"
      },
      "source": [
        ""
      ],
      "execution_count": null,
      "outputs": []
    },
    {
      "cell_type": "code",
      "metadata": {
        "id": "Tj6sBBZ8Z5vd"
      },
      "source": [
        ""
      ],
      "execution_count": null,
      "outputs": []
    },
    {
      "cell_type": "code",
      "metadata": {
        "id": "4m7ijUy0Z5vi"
      },
      "source": [
        ""
      ],
      "execution_count": null,
      "outputs": []
    },
    {
      "cell_type": "code",
      "metadata": {
        "id": "z9eR8RCiZ5vn"
      },
      "source": [
        ""
      ],
      "execution_count": null,
      "outputs": []
    },
    {
      "cell_type": "code",
      "metadata": {
        "id": "iEWPiZpSZ5vs"
      },
      "source": [
        ""
      ],
      "execution_count": null,
      "outputs": []
    },
    {
      "cell_type": "code",
      "metadata": {
        "id": "uXtnJf23Z5vy"
      },
      "source": [
        ""
      ],
      "execution_count": null,
      "outputs": []
    },
    {
      "cell_type": "code",
      "metadata": {
        "id": "uRYQkBJNZ5v5"
      },
      "source": [
        ""
      ],
      "execution_count": null,
      "outputs": []
    },
    {
      "cell_type": "code",
      "metadata": {
        "id": "rAyLfgdNZ5wH"
      },
      "source": [
        ""
      ],
      "execution_count": null,
      "outputs": []
    },
    {
      "cell_type": "markdown",
      "metadata": {
        "id": "xV7iZS8QZ5wO"
      },
      "source": [
        "# LDA Mallet Model\n",
        "\n",
        "You can achive better performance with LDA Mallet model"
      ]
    },
    {
      "cell_type": "code",
      "metadata": {
        "id": "zhVIk9wmZ5wS"
      },
      "source": [
        "# Download File: http://mallet.cs.umass.edu/dist/mallet-2.0.8.zip\n",
        "mallet_path = r\"D:\\AI\\jpmc_mumbai\\mallet-2.0.8\\mallet-2.0.8\\bin\\mallet\" # update this path\n",
        "ldamallet = gensim.models.wrappers.LdaMallet(mallet_path, corpus=corpus, num_topics=20, id2word=dictionary)\n"
      ],
      "execution_count": null,
      "outputs": []
    },
    {
      "cell_type": "code",
      "metadata": {
        "id": "s7DIhTKPZ5wc"
      },
      "source": [
        "# Show Topics\n",
        "print(ldamallet.show_topics(formatted=False))\n",
        "\n",
        "# Compute Coherence Score\n",
        "coherence_model_ldamallet = CoherenceModel(model=ldamallet, texts=data_lemmatized, dictionary=id2word, coherence='c_v')\n",
        "coherence_ldamallet = coherence_model_ldamallet.get_coherence()\n",
        "print('\\nCoherence Score: ', coherence_ldamallet)"
      ],
      "execution_count": null,
      "outputs": []
    },
    {
      "cell_type": "markdown",
      "metadata": {
        "id": "rGK9RAoeZ5wi"
      },
      "source": [
        "# finding the optimal number of topics for LDA?"
      ]
    },
    {
      "cell_type": "markdown",
      "metadata": {
        "id": "0Nd5-om2Z5wk"
      },
      "source": [
        "Choosing a ‘k’ that marks the end of a rapid growth of topic coherence usually offers meaningful and interpretable topics. Picking an even higher value can sometimes provide more granular sub-topics.\n",
        "\n",
        "If you see the same keywords being repeated in multiple topics, it’s probably a sign that the ‘k’ is too large."
      ]
    },
    {
      "cell_type": "code",
      "metadata": {
        "id": "ev0WG3yWZ5wm"
      },
      "source": [
        "def compute_coherence_values(dictionary, corpus, texts, limit, start=2, step=3):\n",
        "    \"\"\"\n",
        "    Compute c_v coherence for various number of topics\n",
        "\n",
        "    Parameters:\n",
        "    ----------\n",
        "    dictionary : Gensim dictionary\n",
        "    corpus : Gensim corpus\n",
        "    texts : List of input texts\n",
        "    limit : Max num of topics\n",
        "\n",
        "    Returns:\n",
        "    -------\n",
        "    model_list : List of LDA topic models\n",
        "    coherence_values : Coherence values corresponding to the LDA model with respective number of topics\n",
        "    \"\"\"\n",
        "    coherence_values = []\n",
        "    model_list = []\n",
        "    for num_topics in range(start, limit, step):\n",
        "        model = gensim.models.wrappers.LdaMallet(mallet_path, corpus=corpus, num_topics=num_topics, id2word=dictionary)\n",
        "        model_list.append(model)\n",
        "        coherencemodel = CoherenceModel(model=model, texts=texts, dictionary=dictionary, coherence='c_v')\n",
        "        coherence_values.append(coherencemodel.get_coherence())\n",
        "\n",
        "    return model_list, coherence_values"
      ],
      "execution_count": null,
      "outputs": []
    },
    {
      "cell_type": "code",
      "metadata": {
        "id": "YlpUXDMaZ5w7"
      },
      "source": [
        "# Can take a long time to run.\n",
        "model_list, coherence_values = compute_coherence_values(dictionary=dictionary, corpus=corpus, texts=data_lemmatized, start=2, limit=40, step=6)"
      ],
      "execution_count": null,
      "outputs": []
    },
    {
      "cell_type": "code",
      "metadata": {
        "id": "XbRHohIzZ5xB"
      },
      "source": [
        "# Show graph\n",
        "limit=40; start=2; step=6;\n",
        "x = range(start, limit, step)\n",
        "plt.plot(x, coherence_values)\n",
        "plt.xlabel(\"Num Topics\")\n",
        "plt.ylabel(\"Coherence score\")\n",
        "plt.legend((\"coherence_values\"), loc='best')\n",
        "plt.show()"
      ],
      "execution_count": null,
      "outputs": []
    },
    {
      "cell_type": "code",
      "metadata": {
        "id": "ml5LufiGZ5xG"
      },
      "source": [
        ""
      ],
      "execution_count": null,
      "outputs": []
    }
  ]
}