{
 "cells": [
  {
   "cell_type": "markdown",
   "metadata": {},
   "source": [
    "# text processing with regular expressions\n",
    "    - information extraction\n",
    "    - information hiding/masking\n",
    "    - text cleaning\n",
    "\n",
    "\n",
    "\n",
    "    [0-9] = anything between 0 to 9 - \\d\n",
    "    [a-z] = anything between small a to small z\n",
    "    [A-Z] = anything between capital A to capital Z\n",
    "    \\s = space\n",
    "    {} = curly braces can be used to specify size of the word"
   ]
  },
  {
   "cell_type": "code",
   "execution_count": 1,
   "metadata": {},
   "outputs": [],
   "source": [
    "import re"
   ]
  },
  {
   "cell_type": "code",
   "execution_count": 2,
   "metadata": {},
   "outputs": [],
   "source": [
    "data = \"my mobile number is 9898785645 and you mobile number is 9898784545 thank you.\""
   ]
  },
  {
   "cell_type": "code",
   "execution_count": 3,
   "metadata": {},
   "outputs": [
    {
     "data": {
      "text/plain": [
       "['9898785645', '9898784545']"
      ]
     },
     "execution_count": 3,
     "metadata": {},
     "output_type": "execute_result"
    }
   ],
   "source": [
    "pattern = '[0-9]{10}'\n",
    "re.findall(pattern,data)"
   ]
  },
  {
   "cell_type": "code",
   "execution_count": 4,
   "metadata": {},
   "outputs": [
    {
     "data": {
      "text/plain": [
       "'my mobile number is ********* and you mobile number is ********* thank you.'"
      ]
     },
     "execution_count": 4,
     "metadata": {},
     "output_type": "execute_result"
    }
   ],
   "source": [
    "re.sub(pattern,\"*********\",data)"
   ]
  },
  {
   "cell_type": "code",
   "execution_count": 5,
   "metadata": {},
   "outputs": [
    {
     "data": {
      "text/plain": [
       "'my mobile number is  and you mobile number is  thank you.'"
      ]
     },
     "execution_count": 5,
     "metadata": {},
     "output_type": "execute_result"
    }
   ],
   "source": [
    "re.sub(pattern,\"\",data)"
   ]
  },
  {
   "cell_type": "code",
   "execution_count": 9,
   "metadata": {},
   "outputs": [
    {
     "name": "stdout",
     "output_type": "stream",
     "text": [
      " my birthday is 30-02-2000 and your birthday is 31-04-2002 and his birthday is 12-5-1990 and\n",
      "his friend's birthday is 15/05/1999 thank you for your email, please resply me back on \n",
      "the id anshu_pandey@abccompany.com and also keep john.weka@yourcompany.com in cc and you may wanna \n",
      "include cera@gmail.com as well.\n"
     ]
    }
   ],
   "source": [
    "data = \"\"\" my birthday is 30-02-2000 and your birthday is 31-04-2002 and his birthday is 12-5-1990 and\n",
    "his friend's birthday is 15/05/1999 thank you for your email, please resply me back on \n",
    "the id anshu_pandey@abccompany.com and also keep john.weka@yourcompany.com in cc and you may wanna \n",
    "include cera@gmail.com as well.\"\"\"\n",
    "print(data)"
   ]
  },
  {
   "cell_type": "code",
   "execution_count": 7,
   "metadata": {},
   "outputs": [
    {
     "data": {
      "text/plain": [
       "['30-02-2000', '31-04-2002']"
      ]
     },
     "execution_count": 7,
     "metadata": {},
     "output_type": "execute_result"
    }
   ],
   "source": [
    "pattern = \"[0-9]{2}-[0-9]{2}-[0-9]{4}\"\n",
    "re.findall(pattern,data)"
   ]
  },
  {
   "cell_type": "code",
   "execution_count": 8,
   "metadata": {},
   "outputs": [
    {
     "data": {
      "text/plain": [
       "['30-02-2000', '31-04-2002']"
      ]
     },
     "execution_count": 8,
     "metadata": {},
     "output_type": "execute_result"
    }
   ],
   "source": [
    "pattern = \"\\d{2}-\\d{2}-\\d{4}\"\n",
    "re.findall(pattern,data)"
   ]
  },
  {
   "cell_type": "code",
   "execution_count": 10,
   "metadata": {},
   "outputs": [
    {
     "data": {
      "text/plain": [
       "['30-02-2000', '31-04-2002', '12-5-1990']"
      ]
     },
     "execution_count": 10,
     "metadata": {},
     "output_type": "execute_result"
    }
   ],
   "source": [
    "pattern = \"\\d{1,2}-\\d{1,2}-\\d{4}\"\n",
    "re.findall(pattern,data)"
   ]
  },
  {
   "cell_type": "code",
   "execution_count": 11,
   "metadata": {},
   "outputs": [
    {
     "data": {
      "text/plain": [
       "['30-02-2000', '31-04-2002', '12-5-1990', '15/05/1999']"
      ]
     },
     "execution_count": 11,
     "metadata": {},
     "output_type": "execute_result"
    }
   ],
   "source": [
    "pattern = \"\\d{1,2}-\\d{1,2}-\\d{4}|\\d{1,2}/\\d{1,2}/\\d{4}\"\n",
    "re.findall(pattern,data)"
   ]
  },
  {
   "cell_type": "code",
   "execution_count": 12,
   "metadata": {},
   "outputs": [
    {
     "data": {
      "text/plain": [
       "['anshu_pandey@abccompany.com', 'john.weka@yourcompany.com', 'cera@gmail.com']"
      ]
     },
     "execution_count": 12,
     "metadata": {},
     "output_type": "execute_result"
    }
   ],
   "source": [
    "pattern = \"[0-9a-zA-Z_.]+@[0-9a-zA-Z._]+\"\n",
    "re.findall(pattern,data)"
   ]
  },
  {
   "cell_type": "code",
   "execution_count": 13,
   "metadata": {},
   "outputs": [
    {
     "data": {
      "text/plain": [
       "['01 JUL 2021']"
      ]
     },
     "execution_count": 13,
     "metadata": {},
     "output_type": "execute_result"
    }
   ],
   "source": [
    "data = \"my birthday is 01 JUL 2021 and what is your birthday?\"\n",
    "pattern = \"\\d{1,2}\\s[a-zA-Z]{3}\\s\\d{4}\"\n",
    "re.findall(pattern,data)"
   ]
  },
  {
   "cell_type": "markdown",
   "metadata": {},
   "source": [
    "### Grouping - can be done using ()"
   ]
  },
  {
   "cell_type": "code",
   "execution_count": 16,
   "metadata": {},
   "outputs": [],
   "source": [
    "data = \"my birthday is 01 JUL 2021 and what is your birthday?\"\n",
    "pattern = \"\\d{1,2}\\s[a-zA-Z]{3}\\s\\d{4}\""
   ]
  },
  {
   "cell_type": "code",
   "execution_count": 17,
   "metadata": {},
   "outputs": [
    {
     "data": {
      "text/plain": [
       "<re.Match object; span=(15, 26), match='01 JUL 2021'>"
      ]
     },
     "execution_count": 17,
     "metadata": {},
     "output_type": "execute_result"
    }
   ],
   "source": [
    "re.search(pattern,data)"
   ]
  },
  {
   "cell_type": "code",
   "execution_count": 18,
   "metadata": {},
   "outputs": [
    {
     "name": "stdout",
     "output_type": "stream",
     "text": [
      "01 JUL 2021\n"
     ]
    }
   ],
   "source": [
    "pattern = \"(\\d{1,2})\\s([a-zA-Z]{3})\\s(\\d{4})\"\n",
    "match = re.search(pattern,data)\n",
    "print(match.group())"
   ]
  },
  {
   "cell_type": "code",
   "execution_count": 19,
   "metadata": {
    "collapsed": true
   },
   "outputs": [
    {
     "name": "stdout",
     "output_type": "stream",
     "text": [
      "01\n",
      "JUL\n",
      "2021\n"
     ]
    }
   ],
   "source": [
    "print(match.group(1))\n",
    "print(match.group(2))\n",
    "print(match.group(3))"
   ]
  },
  {
   "cell_type": "code",
   "execution_count": 20,
   "metadata": {},
   "outputs": [
    {
     "data": {
      "text/plain": [
       "'my birthday is 01-07-2021 and what is your birthday?'"
      ]
     },
     "execution_count": 20,
     "metadata": {},
     "output_type": "execute_result"
    }
   ],
   "source": [
    "re.sub(pattern,match.group(1)+\"-07-\"+match.group(3),data)"
   ]
  },
  {
   "cell_type": "code",
   "execution_count": 21,
   "metadata": {
    "collapsed": true
   },
   "outputs": [
    {
     "name": "stdout",
     "output_type": "stream",
     "text": [
      "anshu.pandey@abccompany.com\n",
      "anshu.pandey\n",
      "abccompany.com\n"
     ]
    }
   ],
   "source": [
    "data = \"my email id is anshu.pandey@abccompany.com what is yours?\"\n",
    "pattern = \"([0-9a-zA-Z_.]+)@([0-9a-zA-Z._]+)\"\n",
    "match = re.search(pattern,data)\n",
    "print(match.group(0))\n",
    "print(match.group(1))\n",
    "print(match.group(2))"
   ]
  },
  {
   "cell_type": "code",
   "execution_count": 22,
   "metadata": {
    "collapsed": true
   },
   "outputs": [
    {
     "name": "stdout",
     "output_type": "stream",
     "text": [
      "anshu.pandey@abccompany.com\n",
      "anshu.pandey\n",
      "abccompany.com\n"
     ]
    }
   ],
   "source": [
    "pattern = \"(?P<username>[0-9a-zA-Z_.]+)@(?P<host>[0-9a-zA-Z._]+)\"\n",
    "match = re.search(pattern,data)\n",
    "print(match.group(0))\n",
    "print(match.group(\"username\"))\n",
    "print(match.group('host'))"
   ]
  },
  {
   "cell_type": "code",
   "execution_count": null,
   "metadata": {},
   "outputs": [],
   "source": []
  }
 ],
 "metadata": {
  "kernelspec": {
   "display_name": "Python 3",
   "language": "python",
   "name": "python3"
  },
  "language_info": {
   "codemirror_mode": {
    "name": "ipython",
    "version": 3
   },
   "file_extension": ".py",
   "mimetype": "text/x-python",
   "name": "python",
   "nbconvert_exporter": "python",
   "pygments_lexer": "ipython3",
   "version": "3.7.4"
  },
  "latex_envs": {
   "LaTeX_envs_menu_present": true,
   "autoclose": false,
   "autocomplete": true,
   "bibliofile": "biblio.bib",
   "cite_by": "apalike",
   "current_citInitial": 1,
   "eqLabelWithNumbers": true,
   "eqNumInitial": 1,
   "hotkeys": {
    "equation": "Ctrl-E",
    "itemize": "Ctrl-I"
   },
   "labels_anchors": false,
   "latex_user_defs": false,
   "report_style_numbering": false,
   "user_envs_cfg": false
  }
 },
 "nbformat": 4,
 "nbformat_minor": 2
}
