{
 "cells": [
  {
   "cell_type": "code",
   "execution_count": 1,
   "metadata": {},
   "outputs": [],
   "source": [
    "import numpy as np"
   ]
  },
  {
   "cell_type": "code",
   "execution_count": 2,
   "metadata": {},
   "outputs": [
    {
     "data": {
      "text/plain": [
       "array([[7, 5, 2],\n",
       "       [3, 6, 7],\n",
       "       [2, 4, 9]])"
      ]
     },
     "execution_count": 2,
     "metadata": {},
     "output_type": "execute_result"
    }
   ],
   "source": [
    "x = np.array([[7,5,2],\n",
    "             [3,6,7],\n",
    "             [2,4,9]])\n",
    "x"
   ]
  },
  {
   "cell_type": "code",
   "execution_count": 3,
   "metadata": {},
   "outputs": [
    {
     "data": {
      "text/plain": [
       "(array([15.09291827,  5.49681386,  1.41026787]),\n",
       " array([[-0.5269699 , -0.91544309,  0.59586932],\n",
       "        [-0.62074589,  0.12178491, -0.76450905],\n",
       "        [-0.58049743,  0.3835784 ,  0.24589768]]))"
      ]
     },
     "execution_count": 3,
     "metadata": {},
     "output_type": "execute_result"
    }
   ],
   "source": [
    "np.linalg.eig(x)"
   ]
  },
  {
   "cell_type": "code",
   "execution_count": 4,
   "metadata": {},
   "outputs": [
    {
     "data": {
      "text/plain": [
       "array([[1., 0., 0.],\n",
       "       [0., 1., 0.],\n",
       "       [0., 0., 1.]])"
      ]
     },
     "execution_count": 4,
     "metadata": {},
     "output_type": "execute_result"
    }
   ],
   "source": [
    "e = np.eye(3)\n",
    "e"
   ]
  },
  {
   "cell_type": "code",
   "execution_count": 5,
   "metadata": {},
   "outputs": [
    {
     "data": {
      "text/plain": [
       "(array([60.09291827, 50.49681386, 46.41026787]),\n",
       " array([[-0.5269699 , -0.91544309,  0.59586932],\n",
       "        [-0.62074589,  0.12178491, -0.76450905],\n",
       "        [-0.58049743,  0.3835784 ,  0.24589768]]))"
      ]
     },
     "execution_count": 5,
     "metadata": {},
     "output_type": "execute_result"
    }
   ],
   "source": [
    "y = x + 45*e\n",
    "np.linalg.eig(y)"
   ]
  },
  {
   "cell_type": "markdown",
   "metadata": {},
   "source": [
    "# Dimensionality Reduction using PCA"
   ]
  },
  {
   "cell_type": "code",
   "execution_count": 6,
   "metadata": {},
   "outputs": [],
   "source": [
    "import numpy as np\n",
    "import matplotlib.pyplot as plt"
   ]
  },
  {
   "cell_type": "code",
   "execution_count": 8,
   "metadata": {
    "collapsed": true
   },
   "outputs": [
    {
     "data": {
      "image/png": "[encoded data removed]",
      "text/plain": [
       "<Figure size 432x288 with 1 Axes>"
      ]
     },
     "metadata": {
      "needs_background": "light"
     },
     "output_type": "display_data"
    }
   ],
   "source": [
    "x1 = np.random.randint(20,100,30)\n",
    "x2 = np.random.randint(2,15,30)+0.4*x1\n",
    "\n",
    "plt.scatter(x1,x2)\n",
    "plt.show()"
   ]
  },
  {
   "cell_type": "code",
   "execution_count": 10,
   "metadata": {
    "collapsed": true
   },
   "outputs": [
    {
     "name": "stdout",
     "output_type": "stream",
     "text": [
      "(2, 30)\n",
      "(30, 2)\n"
     ]
    }
   ],
   "source": [
    "data = np.concatenate([[x1],[x2]])\n",
    "print(data.shape)\n",
    "data = data.T\n",
    "print(data.shape)"
   ]
  },
  {
   "cell_type": "markdown",
   "metadata": {},
   "source": [
    "### Apply PCA"
   ]
  },
  {
   "cell_type": "code",
   "execution_count": 11,
   "metadata": {},
   "outputs": [],
   "source": [
    "from sklearn.decomposition import PCA\n",
    "model = PCA(n_components=1)"
   ]
  },
  {
   "cell_type": "code",
   "execution_count": 12,
   "metadata": {},
   "outputs": [
    {
     "data": {
      "text/plain": [
       "PCA(n_components=1)"
      ]
     },
     "execution_count": 12,
     "metadata": {},
     "output_type": "execute_result"
    }
   ],
   "source": [
    "# train the model\n",
    "model.fit(data)"
   ]
  },
  {
   "cell_type": "code",
   "execution_count": 13,
   "metadata": {},
   "outputs": [
    {
     "data": {
      "text/plain": [
       "(30, 1)"
      ]
     },
     "execution_count": 13,
     "metadata": {},
     "output_type": "execute_result"
    }
   ],
   "source": [
    "data2 = model.transform(data)\n",
    "data2.shape"
   ]
  },
  {
   "cell_type": "code",
   "execution_count": 14,
   "metadata": {},
   "outputs": [
    {
     "data": {
      "text/plain": [
       "array([0.97515477])"
      ]
     },
     "execution_count": 14,
     "metadata": {},
     "output_type": "execute_result"
    }
   ],
   "source": [
    "model.explained_variance_ratio_"
   ]
  },
  {
   "cell_type": "code",
   "execution_count": 15,
   "metadata": {},
   "outputs": [
    {
     "name": "stdout",
     "output_type": "stream",
     "text": [
      "(30, 2)\n"
     ]
    }
   ],
   "source": [
    "data3 = model.inverse_transform(data2)\n",
    "print(data3.shape)"
   ]
  },
  {
   "cell_type": "code",
   "execution_count": 16,
   "metadata": {
    "collapsed": true
   },
   "outputs": [
    {
     "data": {
      "text/plain": [
       "array([[89. , 38.6],\n",
       "       [80. , 41. ],\n",
       "       [75. , 44. ],\n",
       "       [63. , 35.2],\n",
       "       [35. , 21. ],\n",
       "       [59. , 28.6],\n",
       "       [86. , 42.4],\n",
       "       [57. , 33.8],\n",
       "       [87. , 36.8],\n",
       "       [59. , 35.6],\n",
       "       [94. , 43.6],\n",
       "       [95. , 49. ],\n",
       "       [54. , 24.6],\n",
       "       [46. , 32.4],\n",
       "       [79. , 43.6],\n",
       "       [71. , 34.4],\n",
       "       [94. , 43.6],\n",
       "       [82. , 34.8],\n",
       "       [35. , 26. ],\n",
       "       [77. , 33.8],\n",
       "       [80. , 42. ],\n",
       "       [39. , 17.6],\n",
       "       [96. , 41.4],\n",
       "       [45. , 30. ],\n",
       "       [24. , 13.6],\n",
       "       [31. , 15.4],\n",
       "       [63. , 31.2],\n",
       "       [34. , 21.6],\n",
       "       [64. , 28.6],\n",
       "       [45. , 31. ]])"
      ]
     },
     "execution_count": 16,
     "metadata": {},
     "output_type": "execute_result"
    }
   ],
   "source": [
    "data"
   ]
  },
  {
   "cell_type": "code",
   "execution_count": 17,
   "metadata": {
    "collapsed": true
   },
   "outputs": [
    {
     "data": {
      "text/plain": [
       "array([[87.6312991 , 42.12246152],\n",
       "       [80.62211182, 39.39894535],\n",
       "       [77.2907744 , 38.10450836],\n",
       "       [63.89407156, 32.89903513],\n",
       "       [34.77318927, 21.58371559],\n",
       "       [58.1906618 , 30.68289678],\n",
       "       [86.30768329, 41.60815238],\n",
       "       [58.20850009, 30.68982809],\n",
       "       [85.28598419, 41.21115714],\n",
       "       [60.553815  , 31.60113248],\n",
       "       [93.66338304, 44.46631074],\n",
       "       [96.35521042, 45.51225731],\n",
       "       [52.49617117, 28.47022409],\n",
       "       [48.17881126, 26.79265448],\n",
       "       [80.63103096, 39.40241101],\n",
       "       [70.57458469, 35.49484043],\n",
       "       [93.66338304, 44.46631074],\n",
       "       [80.2666802 , 39.26083751],\n",
       "       [36.46115585, 22.23959824],\n",
       "       [75.58496953, 37.4416944 ],\n",
       "       [80.95970513, 39.53012188],\n",
       "       [37.10066589, 22.48808866],\n",
       "       [94.65832469, 44.85290901],\n",
       "       [46.49976383, 26.1402375 ],\n",
       "       [22.71794055, 16.89948282],\n",
       "       [29.40737282, 19.49875377],\n",
       "       [62.5436983 , 32.37432901],\n",
       "       [34.10692179, 21.3248282 ],\n",
       "       [62.53477915, 32.37086336],\n",
       "       [46.83735715, 26.27141403]])"
      ]
     },
     "execution_count": 17,
     "metadata": {},
     "output_type": "execute_result"
    }
   ],
   "source": [
    "data3"
   ]
  },
  {
   "cell_type": "code",
   "execution_count": null,
   "metadata": {},
   "outputs": [],
   "source": []
  }
 ],
 "metadata": {
  "kernelspec": {
   "display_name": "Python 3",
   "language": "python",
   "name": "python3"
  },
  "language_info": {
   "codemirror_mode": {
    "name": "ipython",
    "version": 3
   },
   "file_extension": ".py",
   "mimetype": "text/x-python",
   "name": "python",
   "nbconvert_exporter": "python",
   "pygments_lexer": "ipython3",
   "version": "3.7.4"
  },
  "latex_envs": {
   "LaTeX_envs_menu_present": true,
   "autoclose": false,
   "autocomplete": true,
   "bibliofile": "biblio.bib",
   "cite_by": "apalike",
   "current_citInitial": 1,
   "eqLabelWithNumbers": true,
   "eqNumInitial": 1,
   "hotkeys": {
    "equation": "Ctrl-E",
    "itemize": "Ctrl-I"
   },
   "labels_anchors": false,
   "latex_user_defs": false,
   "report_style_numbering": false,
   "user_envs_cfg": false
  }
 },
 "nbformat": 4,
 "nbformat_minor": 2
}
