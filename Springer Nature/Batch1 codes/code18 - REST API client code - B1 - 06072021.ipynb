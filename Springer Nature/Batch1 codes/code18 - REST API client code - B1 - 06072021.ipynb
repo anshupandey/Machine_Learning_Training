{
 "cells": [
  {
   "cell_type": "code",
   "execution_count": 1,
   "metadata": {},
   "outputs": [],
   "source": [
    "import json\n",
    "import requests"
   ]
  },
  {
   "cell_type": "code",
   "execution_count": 5,
   "metadata": {
    "scrolled": true
   },
   "outputs": [
    {
     "name": "stdout",
     "output_type": "stream",
     "text": [
      "{\"values\": [[19.07, 49.69, 1007.22, 76.79]], \"prediction\": [455.65016027451463]}\n"
     ]
    }
   ],
   "source": [
    "data = [[19.07,49.69,1007.22,76.79]]\n",
    "data = {'values':data}\n",
    "data = json.dumps(data)\n",
    "\n",
    "url = \"http://127.0.0.1:5000/predict\"\n",
    "\n",
    "response = requests.post(url,data)\n",
    "print(response.text)"
   ]
  },
  {
   "cell_type": "code",
   "execution_count": null,
   "metadata": {},
   "outputs": [],
   "source": []
  },
  {
   "cell_type": "code",
   "execution_count": 6,
   "metadata": {},
   "outputs": [],
   "source": [
    "import joblib"
   ]
  },
  {
   "cell_type": "code",
   "execution_count": 7,
   "metadata": {},
   "outputs": [],
   "source": [
    "model = joblib.load(\"ccpp_model.pkl\")"
   ]
  },
  {
   "cell_type": "code",
   "execution_count": 8,
   "metadata": {},
   "outputs": [
    {
     "data": {
      "text/plain": [
       "'\\n    Ordinary least squares Linear Regression.\\n\\n    LinearRegression fits a linear model with coefficients w = (w1, ..., wp)\\n    to minimize the residual sum of squares between the observed targets in\\n    the dataset, and the targets predicted by the linear approximation.\\n\\n    Parameters\\n    ----------\\n    fit_intercept : bool, default=True\\n        Whether to calculate the intercept for this model. If set\\n        to False, no intercept will be used in calculations\\n        (i.e. data is expected to be centered).\\n\\n    normalize : bool, default=False\\n        This parameter is ignored when ``fit_intercept`` is set to False.\\n        If True, the regressors X will be normalized before regression by\\n        subtracting the mean and dividing by the l2-norm.\\n        If you wish to standardize, please use\\n        :class:`~sklearn.preprocessing.StandardScaler` before calling ``fit``\\n        on an estimator with ``normalize=False``.\\n\\n    copy_X : bool, default=True\\n        If True, X will be copied; else, it may be overwritten.\\n\\n    n_jobs : int, default=None\\n        The number of jobs to use for the computation. This will only provide\\n        speedup for n_targets > 1 and sufficient large problems.\\n        ``None`` means 1 unless in a :obj:`joblib.parallel_backend` context.\\n        ``-1`` means using all processors. See :term:`Glossary <n_jobs>`\\n        for more details.\\n\\n    positive : bool, default=False\\n        When set to ``True``, forces the coefficients to be positive. This\\n        option is only supported for dense arrays.\\n\\n        .. versionadded:: 0.24\\n\\n    Attributes\\n    ----------\\n    coef_ : array of shape (n_features, ) or (n_targets, n_features)\\n        Estimated coefficients for the linear regression problem.\\n        If multiple targets are passed during the fit (y 2D), this\\n        is a 2D array of shape (n_targets, n_features), while if only\\n        one target is passed, this is a 1D array of length n_features.\\n\\n    rank_ : int\\n        Rank of matrix `X`. Only available when `X` is dense.\\n\\n    singular_ : array of shape (min(X, y),)\\n        Singular values of `X`. Only available when `X` is dense.\\n\\n    intercept_ : float or array of shape (n_targets,)\\n        Independent term in the linear model. Set to 0.0 if\\n        `fit_intercept = False`.\\n\\n    See Also\\n    --------\\n    Ridge : Ridge regression addresses some of the\\n        problems of Ordinary Least Squares by imposing a penalty on the\\n        size of the coefficients with l2 regularization.\\n    Lasso : The Lasso is a linear model that estimates\\n        sparse coefficients with l1 regularization.\\n    ElasticNet : Elastic-Net is a linear regression\\n        model trained with both l1 and l2 -norm regularization of the\\n        coefficients.\\n\\n    Notes\\n    -----\\n    From the implementation point of view, this is just plain Ordinary\\n    Least Squares (scipy.linalg.lstsq) or Non Negative Least Squares\\n    (scipy.optimize.nnls) wrapped as a predictor object.\\n\\n    Examples\\n    --------\\n    >>> import numpy as np\\n    >>> from sklearn.linear_model import LinearRegression\\n    >>> X = np.array([[1, 1], [1, 2], [2, 2], [2, 3]])\\n    >>> # y = 1 * x_0 + 2 * x_1 + 3\\n    >>> y = np.dot(X, np.array([1, 2])) + 3\\n    >>> reg = LinearRegression().fit(X, y)\\n    >>> reg.score(X, y)\\n    1.0\\n    >>> reg.coef_\\n    array([1., 2.])\\n    >>> reg.intercept_\\n    3.0000...\\n    >>> reg.predict(np.array([[3, 5]]))\\n    array([16.])\\n    '"
      ]
     },
     "execution_count": 8,
     "metadata": {},
     "output_type": "execute_result"
    }
   ],
   "source": [
    "model.__doc__"
   ]
  },
  {
   "cell_type": "code",
   "execution_count": null,
   "metadata": {},
   "outputs": [],
   "source": []
  }
 ],
 "metadata": {
  "kernelspec": {
   "display_name": "Python 3",
   "language": "python",
   "name": "python3"
  },
  "language_info": {
   "codemirror_mode": {
    "name": "ipython",
    "version": 3
   },
   "file_extension": ".py",
   "mimetype": "text/x-python",
   "name": "python",
   "nbconvert_exporter": "python",
   "pygments_lexer": "ipython3",
   "version": "3.7.4"
  },
  "latex_envs": {
   "LaTeX_envs_menu_present": true,
   "autoclose": false,
   "autocomplete": true,
   "bibliofile": "biblio.bib",
   "cite_by": "apalike",
   "current_citInitial": 1,
   "eqLabelWithNumbers": true,
   "eqNumInitial": 1,
   "hotkeys": {
    "equation": "Ctrl-E",
    "itemize": "Ctrl-I"
   },
   "labels_anchors": false,
   "latex_user_defs": false,
   "report_style_numbering": false,
   "user_envs_cfg": false
  }
 },
 "nbformat": 4,
 "nbformat_minor": 2
}
