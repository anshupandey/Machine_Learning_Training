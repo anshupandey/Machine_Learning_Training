{
 "cells": [
  {
   "cell_type": "markdown",
   "metadata": {},
   "source": [
    "# Social Media Analytics"
   ]
  },
  {
   "cell_type": "code",
   "execution_count": 3,
   "metadata": {},
   "outputs": [],
   "source": [
    "import tweepy\n",
    "import wordcloud\n",
    "import matplotlib.pyplot as plt\n",
    "import seaborn as sns\n",
    "import re\n",
    "from textblob import TextBlob\n",
    "import pandas as pd\n",
    "import spacy\n",
    "from spacy import displacy"
   ]
  },
  {
   "cell_type": "code",
   "execution_count": 4,
   "metadata": {},
   "outputs": [],
   "source": [
    "api_key = \"3uj873csO0CJkdUzDlH7dM0xY\"\n",
    "api_secret = \"hyKsFbBHBIHfPxzOiQ5RRNqSk8HbZIWxW3M2VfVDQuKs4uM2Nl\"\n",
    "access_token = \"857530568-6DCJWOxpoSh0eUY8UQYsWulSnmqbmhSLf2d6XZWY\"\n",
    "access_token_secret = \"M7U4QIEeoAaeRhTA9glHX6pxAM0BNEAeUCGpgnWTdyHJr\""
   ]
  },
  {
   "cell_type": "code",
   "execution_count": 5,
   "metadata": {},
   "outputs": [],
   "source": [
    "auth = tweepy.OAuthHandler(api_key,api_secret)\n",
    "auth.set_access_token(access_token,access_token_secret)\n",
    "api = tweepy.API(auth)"
   ]
  },
  {
   "cell_type": "code",
   "execution_count": 34,
   "metadata": {},
   "outputs": [],
   "source": [
    "tweets = api.search(q=\"Reliance jio\",count=50,tweet_mode=\"extended\")"
   ]
  },
  {
   "cell_type": "code",
   "execution_count": 42,
   "metadata": {
    "collapsed": true
   },
   "outputs": [
    {
     "name": "stdout",
     "output_type": "stream",
     "text": [
      "Just like PehlaPyaar, the first smartphone is super-special for everyone. itel A23 Pro packs a lot of SAHI features to mak…\n",
      "Positive\n",
      "***********************************************************\n",
      "\n",
      "\n",
      "08- यूजर्स के साथ गद्दारी, बहुत पड़ेगी भारी reliance jio\n",
      "\n",
      "\n",
      "jio_chor_hai\n",
      "08- Betrayal with users, jio will have a lot of reliance\n",
      "\n",
      "\n",
      "jio_chor_hai\n",
      "Neutral\n",
      "***********************************************************\n",
      "\n",
      "\n",
      "jio Reliance भारत की नंबर वन कंपनी होने के बाद भी इतना घटिया काम कर रही है लोगों का डाटा चुरा रही है कुछ तो शर्म करो जिओ रि…\n",
      "jio Reliance is doing such a poor job even after being the number one company of India, stealing people's data, do some shame jio re…\n",
      "Negative\n",
      "***********************************************************\n",
      "\n",
      "\n",
      "08- यूजर्स के साथ गद्दारी, बहुत पड़ेगी भारी reliance jio\n",
      "\n",
      "\n",
      "jio_chor_hai\n",
      "08- Betrayal with users, jio will have a lot of reliance\n",
      "\n",
      "\n",
      "jio_chor_hai\n",
      "Neutral\n",
      "***********************************************************\n",
      "\n",
      "\n",
      "लोगों से की होशियारी, नियत जो न सुधारी\n",
      "यूजर्स के साथ गद्दारी, बहुत पड़ेगी भारी\n",
      " reliance jio\n",
      "\n",
      "\n",
      "jio_cho…\n",
      "The wisdom of the people, the intention that did not improve\n",
      "Betrayal with users, it will be very heavy\n",
      " Reliance Jio\n",
      "\n",
      "\n",
      "jio_cho…\n",
      "Negative\n",
      "***********************************************************\n",
      "\n",
      "\n",
      "5ஜிபி டேட்டா வரை இனி ஜியோவிடம் இருந்து நீங்கள் கடனாகப் பெறலாம்.. எப்படித் தெரியுமா?  jio howto news ஜியோ நியூஸ்\n",
      "You can now borrow up to 5GB of data from Geo .. How do you know? jio howto news ஜியோ நியூஸ்\n",
      "Neutral\n",
      "***********************************************************\n",
      "\n",
      "\n",
      "Impressive in a graph, but the cash-burning / scorched earth strategy used by Reliance Jio in India isn’t really a fair com…\n",
      "Positive\n",
      "***********************************************************\n",
      "\n",
      "\n",
      "If edge computing takes off in India, one could see co-located data centres and apps which run on near-shore servers  @…\n",
      "Neutral\n",
      "***********************************************************\n",
      "\n",
      "\n",
      "jio Reliance भारत की नंबर वन कंपनी होने के बाद भी इतना घटिया काम कर रही है लोगों का डाटा चुरा रही है कुछ तो शर्म करो जि…\n",
      "Jio Reliance is doing such a poor job even after being the number one company of India, stealing people's data, be ashamed of something…\n",
      "Negative\n",
      "***********************************************************\n",
      "\n",
      "\n",
      "Jio Emergency Data Loan : జియోలో ఎమర్జెన్సీ ‘డేటా లోన్’.. రీచార్జ్ చేసుకోండి.. తర్వాత చెల్లించండి!  \n",
      "RelianceJio Jio DataPlan\n",
      "Jio Emergency Data Loan: Emergency ‘Data Loan’ in Jio .. Recharge .. Pay Later!\n",
      "RelianceJio Jio DataPlan\n",
      "Neutral\n",
      "***********************************************************\n",
      "\n",
      "\n",
      "Money is being fraud with public for job by Reliance Jio company\n",
      "Neutral\n",
      "***********************************************************\n",
      "\n",
      "\n",
      "jio Reliance भारत की नंबर वन कंपनी होने के बाद भी इतना घटिया काम कर रही है लोगों का डाटा चुरा रही है कुछ तो शर्म करो…\n",
      "Jio Reliance is doing such a poor job even after being India's number one company, stealing people's data, be ashamed of something…\n",
      "Negative\n",
      "***********************************************************\n",
      "\n",
      "\n",
      "At 6th road reliance mall /acme mall gully next to bharat petrol pump santacruz west mumbai…\n",
      "Neutral\n",
      "***********************************************************\n",
      "\n",
      "\n",
      "Jio Reliance भारत की नंबर वन.कंपनी होने के बाद भी इतना घटिया काम कर रही हैं लोगो का डाटा चुरा रही हैं कुछ तो शर्म करो…\n",
      "Jio Reliance is doing such a poor job even after being India's number one company, stealing people's data, be ashamed of something…\n",
      "Negative\n",
      "***********************************************************\n",
      "\n",
      "\n",
      "यूजर्स के.साथ.गद्दारी बहुत पडेगी भारी reliance jio   jio_chor_hai\n",
      "There will be a lot of reliance with the users. jio jio_chor_hai\n",
      "Neutral\n",
      "***********************************************************\n",
      "\n",
      "\n",
      "Jio Reliance भारत की नंबर वन.कंपनी होने के बाद भी इतना घटिया काम कर रही हैं लोगो का डाटा चुरा रही हैं कुछ तो शर्म करो…\n",
      "Jio Reliance is doing such a poor job even after being India's number one company, stealing people's data, be ashamed of something…\n",
      "Negative\n",
      "***********************************************************\n",
      "\n",
      "\n",
      "Dholera, Smart City in Gujarat, Potential Manufacturing Unit for Google-Reliance Smartphone ‘JioPhone Next’\n",
      "\n",
      "Dholera SmartC…\n",
      "Neutral\n",
      "***********************************************************\n",
      "\n",
      "\n",
      "jio Reliance भारत की नंबर वन कंपनी होने के बाद भी इतना घटिया काम कर रही है लोगों का डाटा चुरा रही है कुछ तो शर्म करो जिओ रि…\n",
      "jio Reliance is doing such a poor job even after being the number one company of India, stealing people's data, do some shame jio re…\n",
      "Negative\n",
      "***********************************************************\n",
      "\n",
      "\n",
      "Dholera, Smart City in Gujarat, Potential Manufacturing Unit for Google-Reliance Smartphone ‘JioPhone Next’\n",
      "\n",
      "Dholera SmartCity Gujarat Google RelianceIndustries Jio smartphone  jiophone reliancejio MukeshAmbani\n",
      "Dholera, Smart City in Gujarat, Potential Manufacturing Unit for Google-Reliance Smartphone ‘JioPhone Next’\n",
      "\n",
      "Dholera SmartCity Gujarat Google RelianceIndustries Jio smartphone jiophone reliancejio MukeshAmbani\n",
      "Neutral\n",
      "***********************************************************\n",
      "\n",
      "\n",
      "jio Reliance भारत की नंबर वन कंपनी होने के बाद भी इतना घटिया काम कर रही है लोगों का डाटा चुरा रही है कुछ तो शर्म करो…\n",
      "Jio Reliance is doing such a poor job even after being India's number one company, stealing people's data, be ashamed of something…\n",
      "Negative\n",
      "***********************************************************\n",
      "\n",
      "\n",
      "At 6th road reliance mall /acme mall gully next to bharat petrol pump santacruz west mumbai 400054\n",
      "Aman stand a red colour shirt use a jio company umbrella sell jio sim card and phone for inlegal types\n",
      " not a company tshirt and id\n",
      "Neutral\n",
      "***********************************************************\n",
      "\n",
      "\n",
      "jio Reliance भारत की नंबर वन कंपनी होने के बाद भी इतना घटिया काम कर रही है लोगों का डाटा चुरा रही है कुछ तो शर्म करो…\n",
      "Jio Reliance is doing such a poor job even after being India's number one company, stealing people's data, be ashamed of something…\n",
      "Negative\n",
      "***********************************************************\n",
      "\n",
      "\n",
      "jio Reliance भारत की नंबर वन कंपनी होने के बाद भी इतना घटिया काम कर रही है लोगों का डाटा चुरा रही है कुछ तो शर्म करो…\n",
      "Jio Reliance is doing such a poor job even after being India's number one company, stealing people's data, be ashamed of something…\n",
      "Negative\n",
      "***********************************************************\n",
      "\n",
      "\n",
      "If edge computing takes off in India, one could see co-located data centres and apps which run on near-shore servers  @…\n",
      "Neutral\n",
      "***********************************************************\n",
      "\n",
      "\n",
      "Claiming to be India's largest telecom service provider, Reliance Jio tower's power goes off when there is a power cut…\n",
      "Neutral\n",
      "***********************************************************\n",
      "\n",
      "\n",
      "Claiming to be India's largest telecom service provider, Reliance Jio tower's power goes off when there is a power cut. Cant you guys have a power backup in your towers?Tower is in Vilakethi, Erode district, TN.Even after multiple complaints..no use.MukeshAmbani pls look into it\n",
      "Neutral\n",
      "***********************************************************\n",
      "\n",
      "\n",
      "Reliance Jio Emergency Data Loan Will Let You Browse Internet Even if You \n",
      "Exhaust it\n",
      "data cybersecurity ai blockc…\n",
      "Neutral\n",
      "***********************************************************\n",
      "\n",
      "\n",
      "In February 2019, The Caravan's cover story reported how government decisions are helping Reliance Jio monopolise the…\n",
      "Neutral\n",
      "***********************************************************\n",
      "\n",
      "\n",
      "Hello guys.... I got a message/SMS, is this true ? Is this message sent by jio/reliance group ? Kindly check and let me know.... If not by you then make sure you catch this fraud. All the best.\n",
      "Positive\n",
      "***********************************************************\n",
      "\n",
      "\n",
      "Wanted to know that what reliance jio did to telecom industry, wasn’t that predatory pricing?\n",
      "Neutral\n",
      "***********************************************************\n",
      "\n",
      "\n",
      "Reliance Jio Emergency Data Loan Will Let You Browse Internet Even if You \n",
      "Exhaust it\n",
      "data cybersecurity ai blockc…\n",
      "Neutral\n",
      "***********************************************************\n",
      "\n",
      "\n",
      "Reliance Jio Emergency Data Loan Will Let You Browse Internet Even if You \n",
      "Exhaust it\n",
      "data cybersecurity ai blockc…\n",
      "Neutral\n"
     ]
    },
    {
     "name": "stdout",
     "output_type": "stream",
     "text": [
      "***********************************************************\n",
      "\n",
      "\n",
      "Reliance Jio Emergency Data Loan Will Let You Browse Internet Even if You \n",
      "Exhaust it\n",
      "data cybersecurity ai blockc…\n",
      "Neutral\n",
      "***********************************************************\n",
      "\n",
      "\n",
      "Reliance Jio Emergency Data Loan Will Let You Browse Internet Even if You \n",
      "Exhaust it\n",
      "data cybersecurity ai blockc…\n",
      "Neutral\n",
      "***********************************************************\n",
      "\n",
      "\n",
      "Reliance Jio Emergency Data Loan Will Let You Browse Internet Even if You \n",
      "Exhaust it\n",
      "data cybersecurity ai blockchain databreach privacy infosec security \n",
      "encryption gdpr dataprotection cyberattack gdpr cloudsecurity \n",
      "datasecurity\n",
      "Neutral\n",
      "***********************************************************\n",
      "\n",
      "\n",
      "In February 2019, The Caravan's cover story reported how government decisions are helping Reliance Jio monopolise the…\n",
      "Neutral\n",
      "***********************************************************\n",
      "\n",
      "\n",
      "RELIANCE JIO - 3GB RS3499 -  innovation marketing ai cybersecurity \n",
      "machinelearning artificialintelligence digitaltransformation iot digital \n",
      "data\n",
      "Neutral\n",
      "***********************************************************\n",
      "\n",
      "\n",
      "Reliance Jio :   innovation marketing cybersecurity digital \n",
      "digitalmarketing artificialintelligence socialmedia\n",
      "Neutral\n",
      "***********************************************************\n",
      "\n",
      "\n",
      "Reliance industries k bina Jio ka kya astitva h\n",
      "got some error\n",
      "Neutral\n",
      "***********************************************************\n",
      "\n",
      "\n",
      "genei's AI summary:\n",
      "\n",
      "Reliance Industries’ websites, Facebook and Twitter are threadbare.\n",
      "\n",
      "Most of Reliance’s brands, except Reliance Jio, have a minimal social media presence.\n",
      "\n",
      "The problem lies in a lack of vision, experts believe.\n",
      "\n",
      "geneinews\n",
      "Positive\n",
      "***********************************************************\n",
      "\n",
      "\n",
      "Sh.  Chairman/CEC  inaugurates 4G Mobile Tower in one of the remotest village Fotoksar in Leh under…\n",
      "Neutral\n",
      "***********************************************************\n",
      "\n",
      "\n",
      "Dear Reliance Jio team.\n",
      "I am a graduated student and I want to learn some useful skills online  for my professional career. I only like your service. But your JioFiber service is not available at my pincode.\n",
      "Please provide your services at my pincode.Please\n",
      "Neutral\n",
      "***********************************************************\n",
      "\n",
      "\n",
      "With the end of interconnection usage charges (IUC), the combined revenues of the top three telecom companies declined 7% QoQ in Q4FY21.\n",
      "RelianceJio BhartiAirtel VodafoneIdea\n",
      "Positive\n",
      "***********************************************************\n",
      "\n",
      "\n",
      "ಜಿಯೋ 1 GB ಡೇಟಾ ಸಾಲ ಪಡೆಯುವುದು ಹೇಗೆ?\n",
      "RelianceJio Jio jio5g\n",
      "How to get Geo 1 GB Data Loan?\n",
      "RelianceJio Jio jio5g\n",
      "Neutral\n",
      "***********************************************************\n",
      "\n",
      "\n",
      "Work From Home Plans: घर से कर रहे हैं ऑफिस का काम और चाहिए ज्यादा डाटा, देखें Airtel-Jio-Vi के ये प्लान्स\n",
      "\n",
      "…\n",
      "Work From Home Plans: Doing office work from home and need more data, see these Airtel-Jio-Vi plans\n",
      "\n",
      "…\n",
      "Positive\n",
      "***********************************************************\n",
      "\n",
      "\n",
      "घरून काम करताय ? Work From Home साठी बेस्ट आहेत ‘हे’ रिचार्ज\n",
      "WFH Recharge Jio Airtel Vi\n",
      "Work from home ‘Hey’ recharges are best for Work From Home\n",
      "WFH Recharge Jio Airtel Vi\n",
      "Positive\n",
      "***********************************************************\n",
      "\n",
      "\n",
      "1GB data and 90 days validity for 8 rupees, did you see this best prepaid plan of Reliance Jio?\n",
      "Positive\n",
      "***********************************************************\n",
      "\n",
      "\n",
      "Jio_Froud\n",
      "JioFiber \n",
      "Jio fibber service provider through jio but on my case when i cancel my order .jio did not gave refund. Need Help.\n",
      "Jio \n",
      "Reliance \n",
      "jio5g\n",
      "Neutral\n",
      "***********************************************************\n",
      "\n",
      "\n",
      "A new report indicates that Reliance and Google might establish their manufacturing plant for the JioPhone Next in Gujara…\n",
      "Neutral\n",
      "***********************************************************\n",
      "\n",
      "\n"
     ]
    }
   ],
   "source": [
    "clean_tweets=[]\n",
    "sents = []\n",
    "for tw in tweets:\n",
    "    tw = tw.full_text\n",
    "    tw = re.sub(\"RT\\s\",\"\",tw)# removing RT from each tweet\n",
    "    tw = re.sub(\"#\",\"\",tw)# removing # from each tweet\n",
    "    tw = re.sub(\"@[a-zA-Z0-9_:]+\",\"\",tw) # removing twitter handles\n",
    "    tw = re.sub(\"http[a-zA-Z0-9-.\\/\\%:]+\",\"\",tw) # remove URLS\n",
    "    tw = tw.strip()\n",
    "    if len(tw)>12:\n",
    "        print(tw)\n",
    "        tw = TextBlob(tw)\n",
    "        try:\n",
    "            if tw.detect_language()!='en':\n",
    "                tw = tw.translate(to='en')\n",
    "                print(tw)\n",
    "        except:\n",
    "            print(\"got some error\")\n",
    "        clean_tweets.append(tw.raw)\n",
    "\n",
    "        if tw.sentiment.polarity>+0.1:\n",
    "            print(\"Positive\")\n",
    "            sents.append(\"Positive\")\n",
    "        elif tw.sentiment.polarity<-0.1:\n",
    "            print(\"Negative\")\n",
    "            sents.append(\"Negative\")\n",
    "        else:\n",
    "            print(\"Neutral\")\n",
    "            sents.append(\"Neutral\")\n",
    "        print('***********************************************************')\n",
    "        print(\"\\n\")"
   ]
  },
  {
   "cell_type": "code",
   "execution_count": 43,
   "metadata": {
    "collapsed": true
   },
   "outputs": [
    {
     "name": "stderr",
     "output_type": "stream",
     "text": [
      "C:\\Users\\anshu\\AppData\\Roaming\\Python\\Python37\\site-packages\\seaborn\\_decorators.py:43: FutureWarning: Pass the following variable as a keyword arg: x. From version 0.12, the only valid positional argument will be `data`, and passing other arguments without an explicit keyword will result in an error or misinterpretation.\n",
      "  FutureWarning\n"
     ]
    },
    {
     "data": {
      "image/png": "[encoded data removed]",
      "text/plain": [
       "<Figure size 864x360 with 1 Axes>"
      ]
     },
     "metadata": {
      "needs_background": "light"
     },
     "output_type": "display_data"
    }
   ],
   "source": [
    "plt.figure(figsize=(12,5))\n",
    "sns.countplot(sents)\n",
    "plt.show()"
   ]
  },
  {
   "cell_type": "markdown",
   "metadata": {},
   "source": [
    "### Wordcloud Analysis"
   ]
  },
  {
   "cell_type": "code",
   "execution_count": 44,
   "metadata": {},
   "outputs": [
    {
     "data": {
      "text/html": [
       "<div>\n",
       "<style scoped>\n",
       "    .dataframe tbody tr th:only-of-type {\n",
       "        vertical-align: middle;\n",
       "    }\n",
       "\n",
       "    .dataframe tbody tr th {\n",
       "        vertical-align: top;\n",
       "    }\n",
       "\n",
       "    .dataframe thead th {\n",
       "        text-align: right;\n",
       "    }\n",
       "</style>\n",
       "<table border=\"1\" class=\"dataframe\">\n",
       "  <thead>\n",
       "    <tr style=\"text-align: right;\">\n",
       "      <th></th>\n",
       "      <th>tweets</th>\n",
       "      <th>sents</th>\n",
       "    </tr>\n",
       "  </thead>\n",
       "  <tbody>\n",
       "    <tr>\n",
       "      <th>0</th>\n",
       "      <td>Just like PehlaPyaar, the first smartphone is ...</td>\n",
       "      <td>Positive</td>\n",
       "    </tr>\n",
       "    <tr>\n",
       "      <th>1</th>\n",
       "      <td>08- Betrayal with users, jio will have a lot o...</td>\n",
       "      <td>Neutral</td>\n",
       "    </tr>\n",
       "    <tr>\n",
       "      <th>2</th>\n",
       "      <td>jio Reliance is doing such a poor job even aft...</td>\n",
       "      <td>Negative</td>\n",
       "    </tr>\n",
       "    <tr>\n",
       "      <th>3</th>\n",
       "      <td>08- Betrayal with users, jio will have a lot o...</td>\n",
       "      <td>Neutral</td>\n",
       "    </tr>\n",
       "    <tr>\n",
       "      <th>4</th>\n",
       "      <td>The wisdom of the people, the intention that d...</td>\n",
       "      <td>Negative</td>\n",
       "    </tr>\n",
       "  </tbody>\n",
       "</table>\n",
       "</div>"
      ],
      "text/plain": [
       "                                              tweets     sents\n",
       "0  Just like PehlaPyaar, the first smartphone is ...  Positive\n",
       "1  08- Betrayal with users, jio will have a lot o...   Neutral\n",
       "2  jio Reliance is doing such a poor job even aft...  Negative\n",
       "3  08- Betrayal with users, jio will have a lot o...   Neutral\n",
       "4  The wisdom of the people, the intention that d...  Negative"
      ]
     },
     "execution_count": 44,
     "metadata": {},
     "output_type": "execute_result"
    }
   ],
   "source": [
    "df = pd.DataFrame({'tweets':clean_tweets,\"sents\":sents})\n",
    "df.head()"
   ]
  },
  {
   "cell_type": "code",
   "execution_count": 45,
   "metadata": {
    "collapsed": true
   },
   "outputs": [
    {
     "data": {
      "image/png": "[encoded data removed]",
      "text/plain": [
       "<Figure size 864x360 with 1 Axes>"
      ]
     },
     "metadata": {
      "needs_background": "light"
     },
     "output_type": "display_data"
    }
   ],
   "source": [
    "ptweets = df.tweets[df.sents=='Positive'].tolist()\n",
    "\n",
    "wd = wordcloud.WordCloud(background_color='white',width=1200,height=600,\n",
    "                        max_words=20).generate_from_text(\" \".join(ptweets))\n",
    "\n",
    "plt.figure(figsize=(12,5))\n",
    "plt.imshow(wd)\n",
    "plt.show()"
   ]
  },
  {
   "cell_type": "code",
   "execution_count": 46,
   "metadata": {
    "collapsed": true
   },
   "outputs": [
    {
     "data": {
      "image/png": "[encoded data removed]",
      "text/plain": [
       "<Figure size 864x360 with 1 Axes>"
      ]
     },
     "metadata": {
      "needs_background": "light"
     },
     "output_type": "display_data"
    }
   ],
   "source": [
    "ntweets = df.tweets[df.sents=='Negative'].tolist()\n",
    "\n",
    "wd = wordcloud.WordCloud(background_color='white',width=1200,height=600,\n",
    "                        max_words=20).generate_from_text(\" \".join(ntweets))\n",
    "\n",
    "plt.figure(figsize=(12,5))\n",
    "plt.imshow(wd)\n",
    "plt.show()"
   ]
  },
  {
   "cell_type": "markdown",
   "metadata": {},
   "source": [
    "### NER Analysis = Named Entity Recognition"
   ]
  },
  {
   "cell_type": "code",
   "execution_count": 50,
   "metadata": {},
   "outputs": [
    {
     "data": {
      "text/html": [
       "<div class=\"entities\" style=\"line-height: 2.5; direction: ltr\">\n",
       "<mark class=\"entity\" style=\"background: #aa9cfc; padding: 0.45em 0.6em; margin: 0 0.25em; line-height: 1; border-radius: 0.35em;\">\n",
       "    John\n",
       "    <span style=\"font-size: 0.8em; font-weight: bold; line-height: 1; border-radius: 0.35em; text-transform: uppercase; vertical-align: middle; margin-left: 0.5rem\">PERSON</span>\n",
       "</mark>\n",
       " purchased a watch from a street close to \n",
       "<mark class=\"entity\" style=\"background: #7aecec; padding: 0.45em 0.6em; margin: 0 0.25em; line-height: 1; border-radius: 0.35em;\">\n",
       "    State Bank of India\n",
       "    <span style=\"font-size: 0.8em; font-weight: bold; line-height: 1; border-radius: 0.35em; text-transform: uppercase; vertical-align: middle; margin-left: 0.5rem\">ORG</span>\n",
       "</mark>\n",
       ", \n",
       "<mark class=\"entity\" style=\"background: #feca74; padding: 0.45em 0.6em; margin: 0 0.25em; line-height: 1; border-radius: 0.35em;\">\n",
       "    Bandra\n",
       "    <span style=\"font-size: 0.8em; font-weight: bold; line-height: 1; border-radius: 0.35em; text-transform: uppercase; vertical-align: middle; margin-left: 0.5rem\">GPE</span>\n",
       "</mark>\n",
       " and gifted it on \n",
       "<mark class=\"entity\" style=\"background: #bfe1d9; padding: 0.45em 0.6em; margin: 0 0.25em; line-height: 1; border-radius: 0.35em;\">\n",
       "    last sunday\n",
       "    <span style=\"font-size: 0.8em; font-weight: bold; line-height: 1; border-radius: 0.35em; text-transform: uppercase; vertical-align: middle; margin-left: 0.5rem\">DATE</span>\n",
       "</mark>\n",
       " to his friend \n",
       "<mark class=\"entity\" style=\"background: #aa9cfc; padding: 0.45em 0.6em; margin: 0 0.25em; line-height: 1; border-radius: 0.35em;\">\n",
       "    Deepak Singh\n",
       "    <span style=\"font-size: 0.8em; font-weight: bold; line-height: 1; border-radius: 0.35em; text-transform: uppercase; vertical-align: middle; margin-left: 0.5rem\">PERSON</span>\n",
       "</mark>\n",
       " from \n",
       "<mark class=\"entity\" style=\"background: #feca74; padding: 0.45em 0.6em; margin: 0 0.25em; line-height: 1; border-radius: 0.35em;\">\n",
       "    Delhi\n",
       "    <span style=\"font-size: 0.8em; font-weight: bold; line-height: 1; border-radius: 0.35em; text-transform: uppercase; vertical-align: middle; margin-left: 0.5rem\">GPE</span>\n",
       "</mark>\n",
       ".</div>"
      ],
      "text/plain": [
       "<IPython.core.display.HTML object>"
      ]
     },
     "metadata": {},
     "output_type": "display_data"
    }
   ],
   "source": [
    "nlp = spacy.load('en_core_web_sm')\n",
    "doc = nlp(\"John purchased a watch from a street close to State Bank of India, Bandra and gifted it on last sunday to his friend Deepak Singh from Delhi.\")\n",
    "\n",
    "displacy.render(doc,style='ent',jupyter = True)"
   ]
  },
  {
   "cell_type": "code",
   "execution_count": 48,
   "metadata": {
    "collapsed": true
   },
   "outputs": [
    {
     "data": {
      "text/html": [
       "<div class=\"entities\" style=\"line-height: 2.5; direction: ltr\">Just like \n",
       "<mark class=\"entity\" style=\"background: #7aecec; padding: 0.45em 0.6em; margin: 0 0.25em; line-height: 1; border-radius: 0.35em;\">\n",
       "    PehlaPyaar\n",
       "    <span style=\"font-size: 0.8em; font-weight: bold; line-height: 1; border-radius: 0.35em; text-transform: uppercase; vertical-align: middle; margin-left: 0.5rem\">ORG</span>\n",
       "</mark>\n",
       ", the \n",
       "<mark class=\"entity\" style=\"background: #e4e7d2; padding: 0.45em 0.6em; margin: 0 0.25em; line-height: 1; border-radius: 0.35em;\">\n",
       "    first\n",
       "    <span style=\"font-size: 0.8em; font-weight: bold; line-height: 1; border-radius: 0.35em; text-transform: uppercase; vertical-align: middle; margin-left: 0.5rem\">ORDINAL</span>\n",
       "</mark>\n",
       " smartphone is super-special for everyone. \n",
       "<mark class=\"entity\" style=\"background: #7aecec; padding: 0.45em 0.6em; margin: 0 0.25em; line-height: 1; border-radius: 0.35em;\">\n",
       "    itel A23 Pro\n",
       "    <span style=\"font-size: 0.8em; font-weight: bold; line-height: 1; border-radius: 0.35em; text-transform: uppercase; vertical-align: middle; margin-left: 0.5rem\">ORG</span>\n",
       "</mark>\n",
       " packs a lot of \n",
       "<mark class=\"entity\" style=\"background: #bfeeb7; padding: 0.45em 0.6em; margin: 0 0.25em; line-height: 1; border-radius: 0.35em;\">\n",
       "    SAHI\n",
       "    <span style=\"font-size: 0.8em; font-weight: bold; line-height: 1; border-radius: 0.35em; text-transform: uppercase; vertical-align: middle; margin-left: 0.5rem\">PRODUCT</span>\n",
       "</mark>\n",
       " features to mak…</div>"
      ],
      "text/plain": [
       "<IPython.core.display.HTML object>"
      ]
     },
     "metadata": {},
     "output_type": "display_data"
    },
    {
     "data": {
      "text/html": [
       "<div class=\"entities\" style=\"line-height: 2.5; direction: ltr\">Impressive in a graph, but the cash-burning / scorched earth strategy used by \n",
       "<mark class=\"entity\" style=\"background: #aa9cfc; padding: 0.45em 0.6em; margin: 0 0.25em; line-height: 1; border-radius: 0.35em;\">\n",
       "    Reliance Jio\n",
       "    <span style=\"font-size: 0.8em; font-weight: bold; line-height: 1; border-radius: 0.35em; text-transform: uppercase; vertical-align: middle; margin-left: 0.5rem\">PERSON</span>\n",
       "</mark>\n",
       " in \n",
       "<mark class=\"entity\" style=\"background: #feca74; padding: 0.45em 0.6em; margin: 0 0.25em; line-height: 1; border-radius: 0.35em;\">\n",
       "    India\n",
       "    <span style=\"font-size: 0.8em; font-weight: bold; line-height: 1; border-radius: 0.35em; text-transform: uppercase; vertical-align: middle; margin-left: 0.5rem\">GPE</span>\n",
       "</mark>\n",
       " isn’t really a fair com…</div>"
      ],
      "text/plain": [
       "<IPython.core.display.HTML object>"
      ]
     },
     "metadata": {},
     "output_type": "display_data"
    },
    {
     "data": {
      "text/html": [
       "<div class=\"entities\" style=\"line-height: 2.5; direction: ltr\">Hello guys.... I got a message/SMS, is this true ? Is this message sent by \n",
       "<mark class=\"entity\" style=\"background: #7aecec; padding: 0.45em 0.6em; margin: 0 0.25em; line-height: 1; border-radius: 0.35em;\">\n",
       "    jio/reliance group\n",
       "    <span style=\"font-size: 0.8em; font-weight: bold; line-height: 1; border-radius: 0.35em; text-transform: uppercase; vertical-align: middle; margin-left: 0.5rem\">ORG</span>\n",
       "</mark>\n",
       " ? Kindly check and let me know.... If not by you then make sure you catch this fraud. All the best.</div>"
      ],
      "text/plain": [
       "<IPython.core.display.HTML object>"
      ]
     },
     "metadata": {},
     "output_type": "display_data"
    },
    {
     "data": {
      "text/html": [
       "<div class=\"entities\" style=\"line-height: 2.5; direction: ltr\">\n",
       "<mark class=\"entity\" style=\"background: #aa9cfc; padding: 0.45em 0.6em; margin: 0 0.25em; line-height: 1; border-radius: 0.35em;\">\n",
       "    genei\n",
       "    <span style=\"font-size: 0.8em; font-weight: bold; line-height: 1; border-radius: 0.35em; text-transform: uppercase; vertical-align: middle; margin-left: 0.5rem\">PERSON</span>\n",
       "</mark>\n",
       "'s AI summary:</br></br>\n",
       "<mark class=\"entity\" style=\"background: #7aecec; padding: 0.45em 0.6em; margin: 0 0.25em; line-height: 1; border-radius: 0.35em;\">\n",
       "    Reliance Industries\n",
       "    <span style=\"font-size: 0.8em; font-weight: bold; line-height: 1; border-radius: 0.35em; text-transform: uppercase; vertical-align: middle; margin-left: 0.5rem\">ORG</span>\n",
       "</mark>\n",
       "’ websites, Facebook and Twitter are threadbare.</br></br>Most of \n",
       "<mark class=\"entity\" style=\"background: #7aecec; padding: 0.45em 0.6em; margin: 0 0.25em; line-height: 1; border-radius: 0.35em;\">\n",
       "    Reliance\n",
       "    <span style=\"font-size: 0.8em; font-weight: bold; line-height: 1; border-radius: 0.35em; text-transform: uppercase; vertical-align: middle; margin-left: 0.5rem\">ORG</span>\n",
       "</mark>\n",
       "’s brands, except \n",
       "<mark class=\"entity\" style=\"background: #aa9cfc; padding: 0.45em 0.6em; margin: 0 0.25em; line-height: 1; border-radius: 0.35em;\">\n",
       "    Reliance Jio\n",
       "    <span style=\"font-size: 0.8em; font-weight: bold; line-height: 1; border-radius: 0.35em; text-transform: uppercase; vertical-align: middle; margin-left: 0.5rem\">PERSON</span>\n",
       "</mark>\n",
       ", have a minimal social media presence.\n",
       "\n",
       "The problem lies in a lack of vision, experts believe.\n",
       "\n",
       "geneinews</div>"
      ],
      "text/plain": [
       "<IPython.core.display.HTML object>"
      ]
     },
     "metadata": {},
     "output_type": "display_data"
    },
    {
     "data": {
      "text/html": [
       "<div class=\"entities\" style=\"line-height: 2.5; direction: ltr\">With the end of interconnection usage charges (\n",
       "<mark class=\"entity\" style=\"background: #7aecec; padding: 0.45em 0.6em; margin: 0 0.25em; line-height: 1; border-radius: 0.35em;\">\n",
       "    IUC\n",
       "    <span style=\"font-size: 0.8em; font-weight: bold; line-height: 1; border-radius: 0.35em; text-transform: uppercase; vertical-align: middle; margin-left: 0.5rem\">ORG</span>\n",
       "</mark>\n",
       "), the combined revenues of the top \n",
       "<mark class=\"entity\" style=\"background: #e4e7d2; padding: 0.45em 0.6em; margin: 0 0.25em; line-height: 1; border-radius: 0.35em;\">\n",
       "    three\n",
       "    <span style=\"font-size: 0.8em; font-weight: bold; line-height: 1; border-radius: 0.35em; text-transform: uppercase; vertical-align: middle; margin-left: 0.5rem\">CARDINAL</span>\n",
       "</mark>\n",
       " telecom companies declined \n",
       "<mark class=\"entity\" style=\"background: #e4e7d2; padding: 0.45em 0.6em; margin: 0 0.25em; line-height: 1; border-radius: 0.35em;\">\n",
       "    7%\n",
       "    <span style=\"font-size: 0.8em; font-weight: bold; line-height: 1; border-radius: 0.35em; text-transform: uppercase; vertical-align: middle; margin-left: 0.5rem\">PERCENT</span>\n",
       "</mark>\n",
       " \n",
       "<mark class=\"entity\" style=\"background: #aa9cfc; padding: 0.45em 0.6em; margin: 0 0.25em; line-height: 1; border-radius: 0.35em;\">\n",
       "    QoQ\n",
       "    <span style=\"font-size: 0.8em; font-weight: bold; line-height: 1; border-radius: 0.35em; text-transform: uppercase; vertical-align: middle; margin-left: 0.5rem\">PERSON</span>\n",
       "</mark>\n",
       " in \n",
       "<mark class=\"entity\" style=\"background: #feca74; padding: 0.45em 0.6em; margin: 0 0.25em; line-height: 1; border-radius: 0.35em;\">\n",
       "    Q4FY21.\n",
       "    <span style=\"font-size: 0.8em; font-weight: bold; line-height: 1; border-radius: 0.35em; text-transform: uppercase; vertical-align: middle; margin-left: 0.5rem\">GPE</span>\n",
       "</mark>\n",
       "</br>\n",
       "<mark class=\"entity\" style=\"background: #7aecec; padding: 0.45em 0.6em; margin: 0 0.25em; line-height: 1; border-radius: 0.35em;\">\n",
       "    RelianceJio BhartiAirtel VodafoneIdea\n",
       "    <span style=\"font-size: 0.8em; font-weight: bold; line-height: 1; border-radius: 0.35em; text-transform: uppercase; vertical-align: middle; margin-left: 0.5rem\">ORG</span>\n",
       "</mark>\n",
       "</div>"
      ],
      "text/plain": [
       "<IPython.core.display.HTML object>"
      ]
     },
     "metadata": {},
     "output_type": "display_data"
    },
    {
     "data": {
      "text/html": [
       "<div class=\"entities\" style=\"line-height: 2.5; direction: ltr\">Work From Home Plans: Doing office work from home and need more data, see these \n",
       "<mark class=\"entity\" style=\"background: #7aecec; padding: 0.45em 0.6em; margin: 0 0.25em; line-height: 1; border-radius: 0.35em;\">\n",
       "    Airtel\n",
       "    <span style=\"font-size: 0.8em; font-weight: bold; line-height: 1; border-radius: 0.35em; text-transform: uppercase; vertical-align: middle; margin-left: 0.5rem\">ORG</span>\n",
       "</mark>\n",
       "-Jio-Vi plans\n",
       "\n",
       "…</div>"
      ],
      "text/plain": [
       "<IPython.core.display.HTML object>"
      ]
     },
     "metadata": {},
     "output_type": "display_data"
    },
    {
     "data": {
      "text/html": [
       "<div class=\"entities\" style=\"line-height: 2.5; direction: ltr\">Work from home ‘Hey’ recharges are best for Work From Home</br>WFH Recharge Jio \n",
       "<mark class=\"entity\" style=\"background: #aa9cfc; padding: 0.45em 0.6em; margin: 0 0.25em; line-height: 1; border-radius: 0.35em;\">\n",
       "    Airtel Vi\n",
       "    <span style=\"font-size: 0.8em; font-weight: bold; line-height: 1; border-radius: 0.35em; text-transform: uppercase; vertical-align: middle; margin-left: 0.5rem\">PERSON</span>\n",
       "</mark>\n",
       "</div>"
      ],
      "text/plain": [
       "<IPython.core.display.HTML object>"
      ]
     },
     "metadata": {},
     "output_type": "display_data"
    },
    {
     "data": {
      "text/html": [
       "<div class=\"entities\" style=\"line-height: 2.5; direction: ltr\">\n",
       "<mark class=\"entity\" style=\"background: #e4e7d2; padding: 0.45em 0.6em; margin: 0 0.25em; line-height: 1; border-radius: 0.35em;\">\n",
       "    1\n",
       "    <span style=\"font-size: 0.8em; font-weight: bold; line-height: 1; border-radius: 0.35em; text-transform: uppercase; vertical-align: middle; margin-left: 0.5rem\">CARDINAL</span>\n",
       "</mark>\n",
       "GB data and \n",
       "<mark class=\"entity\" style=\"background: #bfe1d9; padding: 0.45em 0.6em; margin: 0 0.25em; line-height: 1; border-radius: 0.35em;\">\n",
       "    90 days\n",
       "    <span style=\"font-size: 0.8em; font-weight: bold; line-height: 1; border-radius: 0.35em; text-transform: uppercase; vertical-align: middle; margin-left: 0.5rem\">DATE</span>\n",
       "</mark>\n",
       " validity for \n",
       "<mark class=\"entity\" style=\"background: #e4e7d2; padding: 0.45em 0.6em; margin: 0 0.25em; line-height: 1; border-radius: 0.35em;\">\n",
       "    8\n",
       "    <span style=\"font-size: 0.8em; font-weight: bold; line-height: 1; border-radius: 0.35em; text-transform: uppercase; vertical-align: middle; margin-left: 0.5rem\">CARDINAL</span>\n",
       "</mark>\n",
       " rupees, did you see this best prepaid plan of \n",
       "<mark class=\"entity\" style=\"background: #aa9cfc; padding: 0.45em 0.6em; margin: 0 0.25em; line-height: 1; border-radius: 0.35em;\">\n",
       "    Reliance Jio\n",
       "    <span style=\"font-size: 0.8em; font-weight: bold; line-height: 1; border-radius: 0.35em; text-transform: uppercase; vertical-align: middle; margin-left: 0.5rem\">PERSON</span>\n",
       "</mark>\n",
       "?</div>"
      ],
      "text/plain": [
       "<IPython.core.display.HTML object>"
      ]
     },
     "metadata": {},
     "output_type": "display_data"
    }
   ],
   "source": [
    "for tw in ptweets:\n",
    "    tw = nlp(tw)\n",
    "    displacy.render(tw,style='ent',jupyter = True)"
   ]
  },
  {
   "cell_type": "code",
   "execution_count": 49,
   "metadata": {
    "collapsed": true
   },
   "outputs": [
    {
     "data": {
      "text/html": [
       "<div class=\"entities\" style=\"line-height: 2.5; direction: ltr\">\n",
       "<mark class=\"entity\" style=\"background: #7aecec; padding: 0.45em 0.6em; margin: 0 0.25em; line-height: 1; border-radius: 0.35em;\">\n",
       "    jio Reliance\n",
       "    <span style=\"font-size: 0.8em; font-weight: bold; line-height: 1; border-radius: 0.35em; text-transform: uppercase; vertical-align: middle; margin-left: 0.5rem\">ORG</span>\n",
       "</mark>\n",
       " is doing such a poor job even after being the number \n",
       "<mark class=\"entity\" style=\"background: #e4e7d2; padding: 0.45em 0.6em; margin: 0 0.25em; line-height: 1; border-radius: 0.35em;\">\n",
       "    one\n",
       "    <span style=\"font-size: 0.8em; font-weight: bold; line-height: 1; border-radius: 0.35em; text-transform: uppercase; vertical-align: middle; margin-left: 0.5rem\">CARDINAL</span>\n",
       "</mark>\n",
       " company of \n",
       "<mark class=\"entity\" style=\"background: #feca74; padding: 0.45em 0.6em; margin: 0 0.25em; line-height: 1; border-radius: 0.35em;\">\n",
       "    India\n",
       "    <span style=\"font-size: 0.8em; font-weight: bold; line-height: 1; border-radius: 0.35em; text-transform: uppercase; vertical-align: middle; margin-left: 0.5rem\">GPE</span>\n",
       "</mark>\n",
       ", stealing people's data, do some shame jio re…</div>"
      ],
      "text/plain": [
       "<IPython.core.display.HTML object>"
      ]
     },
     "metadata": {},
     "output_type": "display_data"
    },
    {
     "data": {
      "text/html": [
       "<div class=\"entities\" style=\"line-height: 2.5; direction: ltr\">The wisdom of the people, the intention that did not improve</br>\n",
       "<mark class=\"entity\" style=\"background: #7aecec; padding: 0.45em 0.6em; margin: 0 0.25em; line-height: 1; border-radius: 0.35em;\">\n",
       "    Betrayal\n",
       "    <span style=\"font-size: 0.8em; font-weight: bold; line-height: 1; border-radius: 0.35em; text-transform: uppercase; vertical-align: middle; margin-left: 0.5rem\">ORG</span>\n",
       "</mark>\n",
       " with users, it will be very heavy</br> \n",
       "<mark class=\"entity\" style=\"background: #aa9cfc; padding: 0.45em 0.6em; margin: 0 0.25em; line-height: 1; border-radius: 0.35em;\">\n",
       "    Reliance Jio\n",
       "    <span style=\"font-size: 0.8em; font-weight: bold; line-height: 1; border-radius: 0.35em; text-transform: uppercase; vertical-align: middle; margin-left: 0.5rem\">PERSON</span>\n",
       "</mark>\n",
       "\n",
       "\n",
       "\n",
       "jio_cho…</div>"
      ],
      "text/plain": [
       "<IPython.core.display.HTML object>"
      ]
     },
     "metadata": {},
     "output_type": "display_data"
    },
    {
     "data": {
      "text/html": [
       "<div class=\"entities\" style=\"line-height: 2.5; direction: ltr\">\n",
       "<mark class=\"entity\" style=\"background: #7aecec; padding: 0.45em 0.6em; margin: 0 0.25em; line-height: 1; border-radius: 0.35em;\">\n",
       "    Jio Reliance\n",
       "    <span style=\"font-size: 0.8em; font-weight: bold; line-height: 1; border-radius: 0.35em; text-transform: uppercase; vertical-align: middle; margin-left: 0.5rem\">ORG</span>\n",
       "</mark>\n",
       " is doing such a poor job even after being the number \n",
       "<mark class=\"entity\" style=\"background: #e4e7d2; padding: 0.45em 0.6em; margin: 0 0.25em; line-height: 1; border-radius: 0.35em;\">\n",
       "    one\n",
       "    <span style=\"font-size: 0.8em; font-weight: bold; line-height: 1; border-radius: 0.35em; text-transform: uppercase; vertical-align: middle; margin-left: 0.5rem\">CARDINAL</span>\n",
       "</mark>\n",
       " company of \n",
       "<mark class=\"entity\" style=\"background: #feca74; padding: 0.45em 0.6em; margin: 0 0.25em; line-height: 1; border-radius: 0.35em;\">\n",
       "    India\n",
       "    <span style=\"font-size: 0.8em; font-weight: bold; line-height: 1; border-radius: 0.35em; text-transform: uppercase; vertical-align: middle; margin-left: 0.5rem\">GPE</span>\n",
       "</mark>\n",
       ", stealing people's data, be ashamed of something…</div>"
      ],
      "text/plain": [
       "<IPython.core.display.HTML object>"
      ]
     },
     "metadata": {},
     "output_type": "display_data"
    },
    {
     "data": {
      "text/html": [
       "<div class=\"entities\" style=\"line-height: 2.5; direction: ltr\">\n",
       "<mark class=\"entity\" style=\"background: #7aecec; padding: 0.45em 0.6em; margin: 0 0.25em; line-height: 1; border-radius: 0.35em;\">\n",
       "    Jio Reliance\n",
       "    <span style=\"font-size: 0.8em; font-weight: bold; line-height: 1; border-radius: 0.35em; text-transform: uppercase; vertical-align: middle; margin-left: 0.5rem\">ORG</span>\n",
       "</mark>\n",
       " is doing such a poor job even after being \n",
       "<mark class=\"entity\" style=\"background: #feca74; padding: 0.45em 0.6em; margin: 0 0.25em; line-height: 1; border-radius: 0.35em;\">\n",
       "    India\n",
       "    <span style=\"font-size: 0.8em; font-weight: bold; line-height: 1; border-radius: 0.35em; text-transform: uppercase; vertical-align: middle; margin-left: 0.5rem\">GPE</span>\n",
       "</mark>\n",
       "'s number \n",
       "<mark class=\"entity\" style=\"background: #e4e7d2; padding: 0.45em 0.6em; margin: 0 0.25em; line-height: 1; border-radius: 0.35em;\">\n",
       "    one\n",
       "    <span style=\"font-size: 0.8em; font-weight: bold; line-height: 1; border-radius: 0.35em; text-transform: uppercase; vertical-align: middle; margin-left: 0.5rem\">CARDINAL</span>\n",
       "</mark>\n",
       " company, stealing people's data, be ashamed of something…</div>"
      ],
      "text/plain": [
       "<IPython.core.display.HTML object>"
      ]
     },
     "metadata": {},
     "output_type": "display_data"
    },
    {
     "data": {
      "text/html": [
       "<div class=\"entities\" style=\"line-height: 2.5; direction: ltr\">\n",
       "<mark class=\"entity\" style=\"background: #7aecec; padding: 0.45em 0.6em; margin: 0 0.25em; line-height: 1; border-radius: 0.35em;\">\n",
       "    Jio Reliance\n",
       "    <span style=\"font-size: 0.8em; font-weight: bold; line-height: 1; border-radius: 0.35em; text-transform: uppercase; vertical-align: middle; margin-left: 0.5rem\">ORG</span>\n",
       "</mark>\n",
       " is doing such a poor job even after being \n",
       "<mark class=\"entity\" style=\"background: #feca74; padding: 0.45em 0.6em; margin: 0 0.25em; line-height: 1; border-radius: 0.35em;\">\n",
       "    India\n",
       "    <span style=\"font-size: 0.8em; font-weight: bold; line-height: 1; border-radius: 0.35em; text-transform: uppercase; vertical-align: middle; margin-left: 0.5rem\">GPE</span>\n",
       "</mark>\n",
       "'s number \n",
       "<mark class=\"entity\" style=\"background: #e4e7d2; padding: 0.45em 0.6em; margin: 0 0.25em; line-height: 1; border-radius: 0.35em;\">\n",
       "    one\n",
       "    <span style=\"font-size: 0.8em; font-weight: bold; line-height: 1; border-radius: 0.35em; text-transform: uppercase; vertical-align: middle; margin-left: 0.5rem\">CARDINAL</span>\n",
       "</mark>\n",
       " company, stealing people's data, be ashamed of something…</div>"
      ],
      "text/plain": [
       "<IPython.core.display.HTML object>"
      ]
     },
     "metadata": {},
     "output_type": "display_data"
    },
    {
     "data": {
      "text/html": [
       "<div class=\"entities\" style=\"line-height: 2.5; direction: ltr\">\n",
       "<mark class=\"entity\" style=\"background: #7aecec; padding: 0.45em 0.6em; margin: 0 0.25em; line-height: 1; border-radius: 0.35em;\">\n",
       "    Jio Reliance\n",
       "    <span style=\"font-size: 0.8em; font-weight: bold; line-height: 1; border-radius: 0.35em; text-transform: uppercase; vertical-align: middle; margin-left: 0.5rem\">ORG</span>\n",
       "</mark>\n",
       " is doing such a poor job even after being \n",
       "<mark class=\"entity\" style=\"background: #feca74; padding: 0.45em 0.6em; margin: 0 0.25em; line-height: 1; border-radius: 0.35em;\">\n",
       "    India\n",
       "    <span style=\"font-size: 0.8em; font-weight: bold; line-height: 1; border-radius: 0.35em; text-transform: uppercase; vertical-align: middle; margin-left: 0.5rem\">GPE</span>\n",
       "</mark>\n",
       "'s number \n",
       "<mark class=\"entity\" style=\"background: #e4e7d2; padding: 0.45em 0.6em; margin: 0 0.25em; line-height: 1; border-radius: 0.35em;\">\n",
       "    one\n",
       "    <span style=\"font-size: 0.8em; font-weight: bold; line-height: 1; border-radius: 0.35em; text-transform: uppercase; vertical-align: middle; margin-left: 0.5rem\">CARDINAL</span>\n",
       "</mark>\n",
       " company, stealing people's data, be ashamed of something…</div>"
      ],
      "text/plain": [
       "<IPython.core.display.HTML object>"
      ]
     },
     "metadata": {},
     "output_type": "display_data"
    },
    {
     "data": {
      "text/html": [
       "<div class=\"entities\" style=\"line-height: 2.5; direction: ltr\">\n",
       "<mark class=\"entity\" style=\"background: #7aecec; padding: 0.45em 0.6em; margin: 0 0.25em; line-height: 1; border-radius: 0.35em;\">\n",
       "    jio Reliance\n",
       "    <span style=\"font-size: 0.8em; font-weight: bold; line-height: 1; border-radius: 0.35em; text-transform: uppercase; vertical-align: middle; margin-left: 0.5rem\">ORG</span>\n",
       "</mark>\n",
       " is doing such a poor job even after being the number \n",
       "<mark class=\"entity\" style=\"background: #e4e7d2; padding: 0.45em 0.6em; margin: 0 0.25em; line-height: 1; border-radius: 0.35em;\">\n",
       "    one\n",
       "    <span style=\"font-size: 0.8em; font-weight: bold; line-height: 1; border-radius: 0.35em; text-transform: uppercase; vertical-align: middle; margin-left: 0.5rem\">CARDINAL</span>\n",
       "</mark>\n",
       " company of \n",
       "<mark class=\"entity\" style=\"background: #feca74; padding: 0.45em 0.6em; margin: 0 0.25em; line-height: 1; border-radius: 0.35em;\">\n",
       "    India\n",
       "    <span style=\"font-size: 0.8em; font-weight: bold; line-height: 1; border-radius: 0.35em; text-transform: uppercase; vertical-align: middle; margin-left: 0.5rem\">GPE</span>\n",
       "</mark>\n",
       ", stealing people's data, do some shame jio re…</div>"
      ],
      "text/plain": [
       "<IPython.core.display.HTML object>"
      ]
     },
     "metadata": {},
     "output_type": "display_data"
    },
    {
     "data": {
      "text/html": [
       "<div class=\"entities\" style=\"line-height: 2.5; direction: ltr\">\n",
       "<mark class=\"entity\" style=\"background: #7aecec; padding: 0.45em 0.6em; margin: 0 0.25em; line-height: 1; border-radius: 0.35em;\">\n",
       "    Jio Reliance\n",
       "    <span style=\"font-size: 0.8em; font-weight: bold; line-height: 1; border-radius: 0.35em; text-transform: uppercase; vertical-align: middle; margin-left: 0.5rem\">ORG</span>\n",
       "</mark>\n",
       " is doing such a poor job even after being \n",
       "<mark class=\"entity\" style=\"background: #feca74; padding: 0.45em 0.6em; margin: 0 0.25em; line-height: 1; border-radius: 0.35em;\">\n",
       "    India\n",
       "    <span style=\"font-size: 0.8em; font-weight: bold; line-height: 1; border-radius: 0.35em; text-transform: uppercase; vertical-align: middle; margin-left: 0.5rem\">GPE</span>\n",
       "</mark>\n",
       "'s number \n",
       "<mark class=\"entity\" style=\"background: #e4e7d2; padding: 0.45em 0.6em; margin: 0 0.25em; line-height: 1; border-radius: 0.35em;\">\n",
       "    one\n",
       "    <span style=\"font-size: 0.8em; font-weight: bold; line-height: 1; border-radius: 0.35em; text-transform: uppercase; vertical-align: middle; margin-left: 0.5rem\">CARDINAL</span>\n",
       "</mark>\n",
       " company, stealing people's data, be ashamed of something…</div>"
      ],
      "text/plain": [
       "<IPython.core.display.HTML object>"
      ]
     },
     "metadata": {},
     "output_type": "display_data"
    },
    {
     "data": {
      "text/html": [
       "<div class=\"entities\" style=\"line-height: 2.5; direction: ltr\">\n",
       "<mark class=\"entity\" style=\"background: #7aecec; padding: 0.45em 0.6em; margin: 0 0.25em; line-height: 1; border-radius: 0.35em;\">\n",
       "    Jio Reliance\n",
       "    <span style=\"font-size: 0.8em; font-weight: bold; line-height: 1; border-radius: 0.35em; text-transform: uppercase; vertical-align: middle; margin-left: 0.5rem\">ORG</span>\n",
       "</mark>\n",
       " is doing such a poor job even after being \n",
       "<mark class=\"entity\" style=\"background: #feca74; padding: 0.45em 0.6em; margin: 0 0.25em; line-height: 1; border-radius: 0.35em;\">\n",
       "    India\n",
       "    <span style=\"font-size: 0.8em; font-weight: bold; line-height: 1; border-radius: 0.35em; text-transform: uppercase; vertical-align: middle; margin-left: 0.5rem\">GPE</span>\n",
       "</mark>\n",
       "'s number \n",
       "<mark class=\"entity\" style=\"background: #e4e7d2; padding: 0.45em 0.6em; margin: 0 0.25em; line-height: 1; border-radius: 0.35em;\">\n",
       "    one\n",
       "    <span style=\"font-size: 0.8em; font-weight: bold; line-height: 1; border-radius: 0.35em; text-transform: uppercase; vertical-align: middle; margin-left: 0.5rem\">CARDINAL</span>\n",
       "</mark>\n",
       " company, stealing people's data, be ashamed of something…</div>"
      ],
      "text/plain": [
       "<IPython.core.display.HTML object>"
      ]
     },
     "metadata": {},
     "output_type": "display_data"
    },
    {
     "data": {
      "text/html": [
       "<div class=\"entities\" style=\"line-height: 2.5; direction: ltr\">\n",
       "<mark class=\"entity\" style=\"background: #7aecec; padding: 0.45em 0.6em; margin: 0 0.25em; line-height: 1; border-radius: 0.35em;\">\n",
       "    Jio Reliance\n",
       "    <span style=\"font-size: 0.8em; font-weight: bold; line-height: 1; border-radius: 0.35em; text-transform: uppercase; vertical-align: middle; margin-left: 0.5rem\">ORG</span>\n",
       "</mark>\n",
       " is doing such a poor job even after being \n",
       "<mark class=\"entity\" style=\"background: #feca74; padding: 0.45em 0.6em; margin: 0 0.25em; line-height: 1; border-radius: 0.35em;\">\n",
       "    India\n",
       "    <span style=\"font-size: 0.8em; font-weight: bold; line-height: 1; border-radius: 0.35em; text-transform: uppercase; vertical-align: middle; margin-left: 0.5rem\">GPE</span>\n",
       "</mark>\n",
       "'s number \n",
       "<mark class=\"entity\" style=\"background: #e4e7d2; padding: 0.45em 0.6em; margin: 0 0.25em; line-height: 1; border-radius: 0.35em;\">\n",
       "    one\n",
       "    <span style=\"font-size: 0.8em; font-weight: bold; line-height: 1; border-radius: 0.35em; text-transform: uppercase; vertical-align: middle; margin-left: 0.5rem\">CARDINAL</span>\n",
       "</mark>\n",
       " company, stealing people's data, be ashamed of something…</div>"
      ],
      "text/plain": [
       "<IPython.core.display.HTML object>"
      ]
     },
     "metadata": {},
     "output_type": "display_data"
    }
   ],
   "source": [
    "for tw in ntweets:\n",
    "    tw = nlp(tw)\n",
    "    displacy.render(tw,style='ent',jupyter = True)"
   ]
  },
  {
   "cell_type": "markdown",
   "metadata": {},
   "source": [
    "# Working with textblob"
   ]
  },
  {
   "cell_type": "code",
   "execution_count": 23,
   "metadata": {},
   "outputs": [],
   "source": [
    "data = TextBlob(\"Hello Everyone, Hope you are enjoying Machine Learning.\")"
   ]
  },
  {
   "cell_type": "code",
   "execution_count": 24,
   "metadata": {},
   "outputs": [
    {
     "data": {
      "text/plain": [
       "'en'"
      ]
     },
     "execution_count": 24,
     "metadata": {},
     "output_type": "execute_result"
    }
   ],
   "source": [
    "data.detect_language()"
   ]
  },
  {
   "cell_type": "code",
   "execution_count": 25,
   "metadata": {},
   "outputs": [
    {
     "data": {
      "text/plain": [
       "TextBlob(\"सभी को नमस्कार, आशा है कि आप मशीन लर्निंग का आनंद ले रहे होंगे।\")"
      ]
     },
     "execution_count": 25,
     "metadata": {},
     "output_type": "execute_result"
    }
   ],
   "source": [
    "data.translate(to='hi')"
   ]
  },
  {
   "cell_type": "code",
   "execution_count": 26,
   "metadata": {},
   "outputs": [
    {
     "data": {
      "text/plain": [
       "TextBlob(\"అందరికీ హలో, మీరు యంత్ర అభ్యాసాన్ని ఆనందిస్తున్నారని ఆశిస్తున్నాను.\")"
      ]
     },
     "execution_count": 26,
     "metadata": {},
     "output_type": "execute_result"
    }
   ],
   "source": [
    "data.translate(to='te')"
   ]
  },
  {
   "cell_type": "code",
   "execution_count": 27,
   "metadata": {},
   "outputs": [
    {
     "data": {
      "text/plain": [
       "TextBlob(\"مرحبًا بالجميع ، آمل أن تكونوا مستمتعين بتعلم الآلة.\")"
      ]
     },
     "execution_count": 27,
     "metadata": {},
     "output_type": "execute_result"
    }
   ],
   "source": [
    "data.translate(to='ar')"
   ]
  },
  {
   "cell_type": "code",
   "execution_count": 28,
   "metadata": {},
   "outputs": [
    {
     "data": {
      "text/plain": [
       "0.5"
      ]
     },
     "execution_count": 28,
     "metadata": {},
     "output_type": "execute_result"
    }
   ],
   "source": [
    "data = TextBlob(\"the movie was awesome and i love such movies\")\n",
    "data.sentiment.polarity"
   ]
  },
  {
   "cell_type": "code",
   "execution_count": 29,
   "metadata": {},
   "outputs": [
    {
     "data": {
      "text/plain": [
       "-0.5"
      ]
     },
     "execution_count": 29,
     "metadata": {},
     "output_type": "execute_result"
    }
   ],
   "source": [
    "data = TextBlob(\"the movie was bad and i hate such movies\")\n",
    "data.sentiment.polarity"
   ]
  },
  {
   "cell_type": "code",
   "execution_count": 30,
   "metadata": {},
   "outputs": [
    {
     "data": {
      "text/plain": [
       "-0.6"
      ]
     },
     "execution_count": 30,
     "metadata": {},
     "output_type": "execute_result"
    }
   ],
   "source": [
    "data = TextBlob(\"the movie was worst and i hate such movies\")\n",
    "data.sentiment.polarity"
   ]
  },
  {
   "cell_type": "code",
   "execution_count": null,
   "metadata": {},
   "outputs": [],
   "source": []
  }
 ],
 "metadata": {
  "kernelspec": {
   "display_name": "Python 3",
   "language": "python",
   "name": "python3"
  },
  "language_info": {
   "codemirror_mode": {
    "name": "ipython",
    "version": 3
   },
   "file_extension": ".py",
   "mimetype": "text/x-python",
   "name": "python",
   "nbconvert_exporter": "python",
   "pygments_lexer": "ipython3",
   "version": "3.7.4"
  },
  "latex_envs": {
   "LaTeX_envs_menu_present": true,
   "autoclose": false,
   "autocomplete": true,
   "bibliofile": "biblio.bib",
   "cite_by": "apalike",
   "current_citInitial": 1,
   "eqLabelWithNumbers": true,
   "eqNumInitial": 1,
   "hotkeys": {
    "equation": "Ctrl-E",
    "itemize": "Ctrl-I"
   },
   "labels_anchors": false,
   "latex_user_defs": false,
   "report_style_numbering": false,
   "user_envs_cfg": false
  }
 },
 "nbformat": 4,
 "nbformat_minor": 2
}
