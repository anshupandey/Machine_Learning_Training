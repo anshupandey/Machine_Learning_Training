{
 "cells": [
  {
   "cell_type": "markdown",
   "metadata": {},
   "source": [
    "## Indroduction\n",
    "\n",
    "- This notebook consists code for the feature creation from structured data using CNN technique\n",
    "\n",
    "##### Here the business objective is to predict the probability of credit default based on credit card owner’s payment status, balance and payment history monitored for past few vintages(last 6 months from the predicted period)"
   ]
  },
  {
   "cell_type": "code",
   "execution_count": 16,
   "metadata": {},
   "outputs": [],
   "source": [
    "#Required Packages\n",
    "\n",
    "import librosa\n",
    "import librosa.display\n",
    "import scipy.io.wavfile\n",
    "from keras.models import Sequential\n",
    "from keras.layers import Conv2D, ZeroPadding2D, Activation, Input, concatenate\n",
    "from keras.models import Model,load_model\n",
    "from keras.layers.normalization import BatchNormalization\n",
    "from keras.layers.pooling import MaxPooling2D, AveragePooling2D\n",
    "from keras.layers.merge import Concatenate\n",
    "from keras.layers.core import Lambda, Flatten, Dense\n",
    "from keras.initializers import glorot_uniform\n",
    "from keras.engine.topology import Layer\n",
    "from keras import backend as K\n",
    "K.set_image_data_format('channels_first')\n",
    "import cv2\n",
    "from glob import glob\n",
    "import os\n",
    "import numpy as np\n",
    "from numpy import genfromtxt\n",
    "import pandas as pd\n",
    "import tensorflow as tf\n",
    "import tqdm\n",
    "import cv2\n",
    "from keras import applications,models, losses,optimizers\n",
    "from keras.models import Model\n",
    "from keras import optimizers\n",
    "from keras.models import Sequential\n",
    "from keras.layers import Dense, Dropout, Flatten\n",
    "from keras.layers import Convolution2D, MaxPooling2D\n",
    "from keras.layers.normalization import BatchNormalization\n",
    "from keras.metrics import categorical_accuracy\n",
    "from keras.preprocessing.image import ImageDataGenerator\n",
    "from keras.callbacks import EarlyStopping\n",
    "from keras.utils.np_utils import to_categorical\n",
    "from keras.callbacks import ModelCheckpoint\n",
    "from keras.applications.resnet50 import ResNet50\n",
    "from keras.preprocessing import image\n",
    "from keras.applications.resnet50 import preprocess_input, decode_predictions\n",
    "from keras.layers import Input, Dense, Flatten, Dropout, Activation, Lambda, Permute, Reshape\n",
    "import numpy as np\n",
    "import keras.backend as K\n",
    "from scipy.spatial import distance\n",
    "from PIL import Image\n",
    "from keras.preprocessing import image\n",
    "from sklearn.preprocessing import OneHotEncoder,LabelEncoder\n",
    "from sklearn.cross_validation import train_test_split\n",
    "import matplotlib.pyplot as plt\n",
    "import IPython.display as ipd\n",
    "from tqdm import tqdm,tqdm_pandas\n",
    "import seaborn as sns"
   ]
  },
  {
   "cell_type": "markdown",
   "metadata": {},
   "source": [
    "*We need to first segregate the data first into retail_card and mortgage with 30k observation(unique cust ID)each*\n",
    "\n",
    "- *The The original dataset was consisting of one trade- retail card and is souced from [here](https://medium.com/@guaisang/credit-default-prediction-with-logistic-regression-b5bd89f2799f). To make it more relevant and more challenging I created dummy datasets for additional trade – mortgage* "
   ]
  },
  {
   "cell_type": "code",
   "execution_count": 13,
   "metadata": {},
   "outputs": [],
   "source": [
    "#Data Load\n",
    "\n",
    "os.chdir('D:/data_science/cnn_feature')\n",
    "data = pd.read_csv('CreditDefault.csv')\n",
    "ID = data['ID'].unique()\n",
    "retail_card = data.iloc[0:30000,:]\n",
    "retail_card = retail_card.drop(['ID'], axis =1)\n",
    "mortgage = data.iloc[30000:60000,:]\n",
    "mortgage = mortgage.drop(['ID'], axis =1)"
   ]
  },
  {
   "cell_type": "markdown",
   "metadata": {},
   "source": [
    "**Now let's explore the data a bit**"
   ]
  },
  {
   "cell_type": "code",
   "execution_count": 6,
   "metadata": {},
   "outputs": [
    {
     "name": "stdout",
     "output_type": "stream",
     "text": [
      "no of customers: 30000\n",
      "shape of retail_card data: (30000, 19)\n",
      "shape of mortgage data: (30000, 19)\n"
     ]
    },
    {
     "data": {
      "text/plain": [
       "Index(['Unnamed: 0', 'ID', 'PAY_1', 'PAY_2', 'PAY_3', 'PAY_4', 'PAY_5',\n",
       "       'PAY_6', 'BILL_AMT1', 'BILL_AMT2', 'BILL_AMT3', 'BILL_AMT4',\n",
       "       'BILL_AMT5', 'BILL_AMT6', 'PAY_AMT1', 'PAY_AMT2', 'PAY_AMT3',\n",
       "       'PAY_AMT4', 'PAY_AMT5', 'PAY_AMT6'],\n",
       "      dtype='object')"
      ]
     },
     "execution_count": 6,
     "metadata": {},
     "output_type": "execute_result"
    }
   ],
   "source": [
    "#Columns names and shape\n",
    "print('no of customers:',len(data['ID'].unique()))\n",
    "print('shape of retail_card data:', retail_card.shape)\n",
    "print('shape of mortgage data:', mortgage.shape)\n",
    "data.columns"
   ]
  },
  {
   "cell_type": "markdown",
   "metadata": {},
   "source": [
    "**So we have past 6 months data for payment status(PAY), Balance(BILL_AMT) and payment(PAY_AMT) for each customer**\n",
    "\n",
    "*Let's look at event rate(default payment next month)*"
   ]
  },
  {
   "cell_type": "code",
   "execution_count": 23,
   "metadata": {},
   "outputs": [
    {
     "name": "stdout",
     "output_type": "stream",
     "text": [
      "0    23364\n",
      "1     6636\n",
      "Name: default payment next month, dtype: int64\n",
      "payment default rate is: 28.402671 percent\n"
     ]
    }
   ],
   "source": [
    "event_id = pd.read_csv('train.csv')\n",
    "print(event_id['default payment next month'].value_counts())\n",
    "print('payment default rate is: %f percent' %((event_id['default payment next month'].value_counts()[1]/event_id['default payment next month'].value_counts()[0]) * 100))"
   ]
  },
  {
   "cell_type": "code",
   "execution_count": null,
   "metadata": {},
   "outputs": [],
   "source": []
  },
  {
   "cell_type": "markdown",
   "metadata": {},
   "source": [
    "**Although event rate is not 50%, we can say it's fairly balanced data. so no need to do any weight correction**"
   ]
  },
  {
   "cell_type": "code",
   "execution_count": 53,
   "metadata": {},
   "outputs": [
    {
     "data": {
      "text/plain": [
       "<matplotlib.axes._subplots.AxesSubplot at 0x214af3f52b0>"
      ]
     },
     "execution_count": 53,
     "metadata": {},
     "output_type": "execute_result"
    },
    {
     "data": {
      "image/png": "[encoded data removed]",
      "text/plain": [
       "<Figure size 432x288 with 1 Axes>"
      ]
     },
     "metadata": {},
     "output_type": "display_data"
    }
   ],
   "source": [
    "event_id['default payment next month'].astype(int).plot.hist()"
   ]
  },
  {
   "cell_type": "code",
   "execution_count": 43,
   "metadata": {},
   "outputs": [],
   "source": [
    "mortgage.index = retail_card.index"
   ]
  },
  {
   "cell_type": "markdown",
   "metadata": {},
   "source": [
    "### Now the most crucial part is to prepare the data in the format(image like format), so that we can apply CNN\n",
    "\n",
    "#### Precisely for our data the dimension for each customer will be 3(no of feature) * 6(time horizons) * 2(trades) and there will be 30000 frames of this dimension.\n",
    "\n",
    "- So for the entire data it will be an array of will be 30000 * 3(width) *6(depth) * 2(no of channels). So the data will be perfect to train a Convolutional network."
   ]
  },
  {
   "cell_type": "code",
   "execution_count": 44,
   "metadata": {},
   "outputs": [
    {
     "name": "stderr",
     "output_type": "stream",
     "text": [
      "100%|███████████████████████████████████████████████████████████████████████████| 30000/30000 [01:15<00:00, 398.64it/s]\n"
     ]
    }
   ],
   "source": [
    "#preparing channel specific data\n",
    "\n",
    "#Retail\n",
    "retail = []\n",
    "for i in tqdm(range(retail_card.shape[0])):\n",
    "    pay = retail_card.loc[i,['PAY_1','PAY_2','PAY_3','PAY_4','PAY_5','PAY_6']].values\n",
    "\n",
    "    bill = retail_card.loc[i,['BILL_AMT1',\t'BILL_AMT2','BILL_AMT3',\t'BILL_AMT4','BILL_AMT5',\t'BILL_AMT6']].values\n",
    "    pay_amt = retail_card.loc[i,['PAY_AMT1',\t'PAY_AMT2',\t'PAY_AMT3',\t'PAY_AMT4','PAY_AMT5','PAY_AMT6']].values\n",
    "    a = np.vstack((pay,bill,pay_amt))\n",
    "    a = a.tolist()\n",
    "    retail.append(a)\n",
    "retail = np.array(retail)\n",
    "retail = np.reshape(retail,(retail.shape[0],3,6,1))\n",
    "\n",
    "#Mortgage\n",
    "mort = []\n",
    "for i in tqdm(range(mortgage.shape[0])):\n",
    "    pay = mortgage.loc[i,['PAY_1','PAY_2','PAY_3','PAY_4','PAY_5','PAY_6']].values\n",
    "\n",
    "    bill = mortgage.loc[i,['BILL_AMT1',\t'BILL_AMT2','BILL_AMT3',\t'BILL_AMT4','BILL_AMT5',\t'BILL_AMT6']].values\n",
    "    pay_amt = mortgage.loc[i,['PAY_AMT1',\t'PAY_AMT2',\t'PAY_AMT3',\t'PAY_AMT4','PAY_AMT5','PAY_AMT6']].values\n",
    "    a = np.vstack((pay,bill,pay_amt))\n",
    "    a = a.tolist()\n",
    "    mort.append(a)\n",
    "mort = np.array(mort)\n",
    "mort = np.reshape(mort,(mort.shape[0],3,6,1))"
   ]
  },
  {
   "cell_type": "markdown",
   "metadata": {},
   "source": [
    "### Channel specific Data prepared, now let's check the dimention"
   ]
  },
  {
   "cell_type": "code",
   "execution_count": 45,
   "metadata": {},
   "outputs": [
    {
     "name": "stdout",
     "output_type": "stream",
     "text": [
      "shape of channel1(retail)data: (30000, 3, 6, 1)\n",
      "shape of channel2(mortgage)data: (30000, 3, 6, 1)\n"
     ]
    }
   ],
   "source": [
    "print('shape of channel1(retail)data:', retail.shape)\n",
    "print('shape of channel2(mortgage)data:', mort.shape)"
   ]
  },
  {
   "cell_type": "code",
   "execution_count": null,
   "metadata": {},
   "outputs": [],
   "source": []
  },
  {
   "cell_type": "markdown",
   "metadata": {},
   "source": [
    "## Input and Output for CNN\n",
    "\n",
    "### We have to concatenate these two array to prepare the input volume for CNN. This will the input layer for CNN\n",
    "### Also we need to prepare target variable in one Hot Encoding format"
   ]
  },
  {
   "cell_type": "code",
   "execution_count": 46,
   "metadata": {},
   "outputs": [],
   "source": [
    "#IV-DV prepare\n",
    "\n",
    "X = np.concatenate((retail, mort),axis=3)\n",
    "Y = event_id[['default payment next month']].values\n",
    "Y = to_categorical(Y,2)"
   ]
  },
  {
   "cell_type": "markdown",
   "metadata": {},
   "source": [
    "- ### Now time to build a light CNN. I will use keras framework with backend as tensorflow(tf).\n",
    "\n",
    "   - #### For our business problem AUC is the evaluation metric. Although we are not building the end model model the the filter      weights will be updated properly and network training will be ideal to extract 100 features, which can capture the         relationship between input variables and target variable its best. Keras doesn't have default AUC metric. However we can leverage tf to create customized evaluation function for auc.        "
   ]
  },
  {
   "cell_type": "code",
   "execution_count": 47,
   "metadata": {},
   "outputs": [],
   "source": [
    "#AUC function\n",
    "\n",
    "import tensorflow as tf\n",
    "from keras import backend as K\n",
    "def auc(y_true, y_pred):\n",
    "    auc = tf.metrics.auc(y_true, y_pred)[1]\n",
    "    K.get_session().run(tf.local_variables_initializer())\n",
    "    return auc"
   ]
  },
  {
   "cell_type": "markdown",
   "metadata": {},
   "source": [
    "## CNN architecture\n",
    "\n",
    "   - First we make the complete CNN model using last dense layer(here dimension 2).The objective of training network is to identify the correct weights for the network by multiple forward and backward iterations.\n",
    "   - By using pre-trained models, we can directly use the weights and architecture obtained and apply these weights on a data removing the last sigmoid/logistic layer(in this problem till dense layer of dimension 100).We can apply this to any new data of same business problem to calculate these features.We need to just feed forward the network and it will directly map final weights to calculate features at the final layer, without building the network again.This is a kind of transfer learning.Based on our requirement of no of features we can extract features at any intermediate dense layer with desired dimension."
   ]
  },
  {
   "cell_type": "code",
   "execution_count": 49,
   "metadata": {},
   "outputs": [
    {
     "name": "stdout",
     "output_type": "stream",
     "text": [
      "_________________________________________________________________\n",
      "Layer (type)                 Output Shape              Param #   \n",
      "=================================================================\n",
      "conv2d_5 (Conv2D)            (None, 3, 6, 32)          2592      \n",
      "_________________________________________________________________\n",
      "batch_normalization_6 (Batch (None, 3, 6, 32)          128       \n",
      "_________________________________________________________________\n",
      "activation_6 (Activation)    (None, 3, 6, 32)          0         \n",
      "_________________________________________________________________\n",
      "conv2d_6 (Conv2D)            (None, 32, 6, 32)         3872      \n",
      "_________________________________________________________________\n",
      "batch_normalization_7 (Batch (None, 32, 6, 32)         128       \n",
      "_________________________________________________________________\n",
      "activation_7 (Activation)    (None, 32, 6, 32)         0         \n",
      "_________________________________________________________________\n",
      "conv2d_7 (Conv2D)            (None, 32, 6, 32)         40992     \n",
      "_________________________________________________________________\n",
      "batch_normalization_8 (Batch (None, 32, 6, 32)         128       \n",
      "_________________________________________________________________\n",
      "activation_8 (Activation)    (None, 32, 6, 32)         0         \n",
      "_________________________________________________________________\n",
      "conv2d_8 (Conv2D)            (None, 32, 6, 32)         40992     \n",
      "_________________________________________________________________\n",
      "batch_normalization_9 (Batch (None, 32, 6, 32)         128       \n",
      "_________________________________________________________________\n",
      "activation_9 (Activation)    (None, 32, 6, 32)         0         \n",
      "_________________________________________________________________\n",
      "max_pooling2d_2 (MaxPooling2 (None, 32, 3, 16)         0         \n",
      "_________________________________________________________________\n",
      "flatten_2 (Flatten)          (None, 1536)              0         \n",
      "_________________________________________________________________\n",
      "dense_2 (Dense)              (None, 128)               196736    \n",
      "_________________________________________________________________\n",
      "batch_normalization_10 (Batc (None, 128)               512       \n",
      "_________________________________________________________________\n",
      "activation_10 (Activation)   (None, 128)               0         \n",
      "_________________________________________________________________\n",
      "dropout_2 (Dropout)          (None, 128)               0         \n",
      "_________________________________________________________________\n",
      "feature_dense (Dense)        (None, 100)               12900     \n",
      "_________________________________________________________________\n",
      "batch_normalization_11 (Batc (None, 100)               400       \n",
      "_________________________________________________________________\n",
      "activation_11 (Activation)   (None, 100)               0         \n",
      "_________________________________________________________________\n",
      "dense_3 (Dense)              (None, 2)                 202       \n",
      "_________________________________________________________________\n",
      "activation_12 (Activation)   (None, 2)                 0         \n",
      "=================================================================\n",
      "Total params: 299,710\n",
      "Trainable params: 298,998\n",
      "Non-trainable params: 712\n",
      "_________________________________________________________________\n"
     ]
    }
   ],
   "source": [
    "batch_size = 256\n",
    "epochs = 100\n",
    "filepath='keras_model_conv2D'\n",
    "\n",
    "np.random.seed(1337)          # for reproducibility\n",
    "print('Building model...')\n",
    "model = Sequential()\n",
    "model = Sequential()\n",
    "\n",
    "#1st conv layer\n",
    "model.add(Conv2D(32, (4,10), padding=\"same\",\n",
    "                 input_shape=(X.shape[1],X.shape[2],X.shape[3]),data_format=\"channels_last\"))\n",
    "model.add(BatchNormalization())\n",
    "model.add(Activation(\"relu\"))\n",
    "\n",
    "#2nd conv layer\n",
    "model.add(Conv2D(32, (4,10), padding=\"same\"))\n",
    "model.add(BatchNormalization())\n",
    "model.add(Activation(\"relu\"))\n",
    "\n",
    "#3rd conv layer\n",
    "model.add(Conv2D(32, (4,10), padding=\"same\"))\n",
    "model.add(BatchNormalization())\n",
    "model.add(Activation(\"relu\"))\n",
    "\n",
    "#4th conv layer\n",
    "model.add(Conv2D(32, (4,10), padding=\"same\"))\n",
    "model.add(BatchNormalization())\n",
    "model.add(Activation(\"relu\"))\n",
    "model.add(MaxPooling2D())\n",
    "\n",
    "model.add(Flatten())\n",
    "\n",
    "#FC1\n",
    "model.add(Dense(128))\n",
    "model.add(BatchNormalization())\n",
    "model.add(Activation(\"relu\"))\n",
    "model.add(Dropout(0.3))\n",
    "\n",
    "#FC2\n",
    "model.add(Dense(100,name ='feature_dense'))\n",
    "model.load_weights(by_name=True,filepath = filepath)\n",
    "model.add(BatchNormalization())\n",
    "model.add(Activation(\"relu\"))\n",
    "\n",
    "#output FC\n",
    "model.add(Dense(2))\n",
    "model.add(Activation('sigmoid'))\n",
    "adam = optimizers.Adam(lr=0.01)\n",
    "\n",
    "model.compile(loss='binary_crossentropy', metrics=[auc], optimizer='adam')\n",
    "model.summary()"
   ]
  },
  {
   "cell_type": "markdown",
   "metadata": {},
   "source": []
  },
  {
   "cell_type": "markdown",
   "metadata": {},
   "source": [
    "- **Let's Visualize the architechture**"
   ]
  },
  {
   "cell_type": "code",
   "execution_count": null,
   "metadata": {},
   "outputs": [],
   "source": [
    "#Plot CNN architechture\n",
    "\n",
    "import pydot\n",
    "from keras.utils import plot_model\n",
    "from IPython.display import SVG\n",
    "import keras.utils.vis_utils \n",
    "from keras.utils.vis_utils import model_to_dot\n",
    "plot_model(model, to_file='model.png')\n",
    "SVG(model_to_dot(model).create(prog='dot', format='svg'))"
   ]
  },
  {
   "cell_type": "markdown",
   "metadata": {},
   "source": [
    "#### - ** Now we will train the model for epochs = 100. We will utilize early stopping to prevent overfitting, if any.It took less than 5 mins time to train using my NVIDIA GTX GeForce 1060 GPU with best val_auc: 0.8317**"
   ]
  },
  {
   "cell_type": "code",
   "execution_count": null,
   "metadata": {},
   "outputs": [
    {
     "name": "stdout",
     "output_type": "stream",
     "text": [
      "Train on 28500 samples, validate on 1500 samples\n",
      "Epoch 1/100\n"
     ]
    }
   ],
   "source": [
    "early_stops = EarlyStopping(patience=5, monitor='val_auc')\n",
    "filepath='keras_model_conv2D'\n",
    "ckpt_callback = ModelCheckpoint(filepath,\n",
    "                                 monitor='val_loss', \n",
    "                                 verbose=1, \n",
    "                                 save_best_only=True, \n",
    "                                 mode='auto')\n",
    "    \n",
    "model.fit(X, Y, validation_split=0.05, callbacks=[early_stops,ckpt_callback], \n",
    "                        batch_size=batch_size, epochs=epochs)\n",
    "model.save('keras_model_conv2D.h5')"
   ]
  },
  {
   "cell_type": "markdown",
   "metadata": {},
   "source": [
    "##### Now we will extract feature using intermediate model till 'feature_dense' layer for input data. \n",
    "\n",
    "  - ###### First we need to check the output dense layer dimension of intermediate_layer_model      "
   ]
  },
  {
   "cell_type": "code",
   "execution_count": 9,
   "metadata": {},
   "outputs": [
    {
     "name": "stdout",
     "output_type": "stream",
     "text": [
      "_________________________________________________________________\n",
      "Layer (type)                 Output Shape              Param #   \n",
      "=================================================================\n",
      "conv2d_98_input (InputLayer) (None, 3, 6, 2)           0         \n",
      "_________________________________________________________________\n",
      "conv2d_98 (Conv2D)           (None, 3, 6, 32)          2592      \n",
      "_________________________________________________________________\n",
      "batch_normalization_140 (Bat (None, 3, 6, 32)          128       \n",
      "_________________________________________________________________\n",
      "activation_149 (Activation)  (None, 3, 6, 32)          0         \n",
      "_________________________________________________________________\n",
      "conv2d_99 (Conv2D)           (None, 32, 6, 32)         3872      \n",
      "_________________________________________________________________\n",
      "batch_normalization_141 (Bat (None, 32, 6, 32)         128       \n",
      "_________________________________________________________________\n",
      "activation_150 (Activation)  (None, 32, 6, 32)         0         \n",
      "_________________________________________________________________\n",
      "conv2d_100 (Conv2D)          (None, 32, 6, 32)         40992     \n",
      "_________________________________________________________________\n",
      "batch_normalization_142 (Bat (None, 32, 6, 32)         128       \n",
      "_________________________________________________________________\n",
      "activation_151 (Activation)  (None, 32, 6, 32)         0         \n",
      "_________________________________________________________________\n",
      "conv2d_101 (Conv2D)          (None, 32, 6, 32)         40992     \n",
      "_________________________________________________________________\n",
      "batch_normalization_143 (Bat (None, 32, 6, 32)         128       \n",
      "_________________________________________________________________\n",
      "activation_152 (Activation)  (None, 32, 6, 32)         0         \n",
      "_________________________________________________________________\n",
      "max_pooling2d_26 (MaxPooling (None, 32, 3, 16)         0         \n",
      "_________________________________________________________________\n",
      "flatten_27 (Flatten)         (None, 1536)              0         \n",
      "_________________________________________________________________\n",
      "dense_47 (Dense)             (None, 128)               196736    \n",
      "_________________________________________________________________\n",
      "batch_normalization_144 (Bat (None, 128)               512       \n",
      "_________________________________________________________________\n",
      "activation_153 (Activation)  (None, 128)               0         \n",
      "_________________________________________________________________\n",
      "dropout_6 (Dropout)          (None, 128)               0         \n",
      "_________________________________________________________________\n",
      "feature_dense (Dense)        (None, 100)               12900     \n",
      "=================================================================\n",
      "Total params: 299,108\n",
      "Trainable params: 298,596\n",
      "Non-trainable params: 512\n",
      "_________________________________________________________________\n"
     ]
    }
   ],
   "source": [
    "#Preparing Indermediate model\n",
    "\n",
    "os.chdir('D:/data_science/cnn_feature')\n",
    "\n",
    "model = load_model('keras_model_conv2D.h5')\n",
    "intermediate_layer_model = Model(inputs=model.input,\n",
    "                                 outputs=model.get_layer('feature_dense').output)\n",
    "intermediate_layer_model.summary()"
   ]
  },
  {
   "cell_type": "markdown",
   "metadata": {},
   "source": [
    "*Yes we are almost done.The output layer dimension is 100, so if we predict using this netowork on a new data with \n",
    "same input dimension, we can create 100 new complex features.*"
   ]
  },
  {
   "cell_type": "code",
   "execution_count": 12,
   "metadata": {},
   "outputs": [
    {
     "name": "stdout",
     "output_type": "stream",
     "text": [
      "feauture_engg_data shape: (30000, 100)\n"
     ]
    },
    {
     "data": {
      "text/html": [
       "<div>\n",
       "<style scoped>\n",
       "    .dataframe tbody tr th:only-of-type {\n",
       "        vertical-align: middle;\n",
       "    }\n",
       "\n",
       "    .dataframe tbody tr th {\n",
       "        vertical-align: top;\n",
       "    }\n",
       "\n",
       "    .dataframe thead th {\n",
       "        text-align: right;\n",
       "    }\n",
       "</style>\n",
       "<table border=\"1\" class=\"dataframe\">\n",
       "  <thead>\n",
       "    <tr style=\"text-align: right;\">\n",
       "      <th></th>\n",
       "      <th>0</th>\n",
       "      <th>1</th>\n",
       "      <th>2</th>\n",
       "      <th>3</th>\n",
       "      <th>4</th>\n",
       "      <th>5</th>\n",
       "      <th>6</th>\n",
       "      <th>7</th>\n",
       "      <th>8</th>\n",
       "      <th>9</th>\n",
       "      <th>...</th>\n",
       "      <th>90</th>\n",
       "      <th>91</th>\n",
       "      <th>92</th>\n",
       "      <th>93</th>\n",
       "      <th>94</th>\n",
       "      <th>95</th>\n",
       "      <th>96</th>\n",
       "      <th>97</th>\n",
       "      <th>98</th>\n",
       "      <th>99</th>\n",
       "    </tr>\n",
       "  </thead>\n",
       "  <tbody>\n",
       "    <tr>\n",
       "      <th>0</th>\n",
       "      <td>-2.279314</td>\n",
       "      <td>1.178664</td>\n",
       "      <td>0.574329</td>\n",
       "      <td>-1.169564</td>\n",
       "      <td>-0.720348</td>\n",
       "      <td>-1.545350</td>\n",
       "      <td>-0.509746</td>\n",
       "      <td>0.069629</td>\n",
       "      <td>-0.607492</td>\n",
       "      <td>1.511342</td>\n",
       "      <td>...</td>\n",
       "      <td>0.490457</td>\n",
       "      <td>0.732884</td>\n",
       "      <td>-1.250946</td>\n",
       "      <td>-0.242123</td>\n",
       "      <td>0.300502</td>\n",
       "      <td>-0.940489</td>\n",
       "      <td>-2.939329</td>\n",
       "      <td>-2.253297</td>\n",
       "      <td>-2.367808</td>\n",
       "      <td>0.650523</td>\n",
       "    </tr>\n",
       "    <tr>\n",
       "      <th>1</th>\n",
       "      <td>-2.284362</td>\n",
       "      <td>0.830985</td>\n",
       "      <td>1.149805</td>\n",
       "      <td>-1.223606</td>\n",
       "      <td>-0.794857</td>\n",
       "      <td>-1.358322</td>\n",
       "      <td>-0.233224</td>\n",
       "      <td>0.447545</td>\n",
       "      <td>-0.299049</td>\n",
       "      <td>2.115453</td>\n",
       "      <td>...</td>\n",
       "      <td>-0.094006</td>\n",
       "      <td>0.096930</td>\n",
       "      <td>-0.889044</td>\n",
       "      <td>-0.388074</td>\n",
       "      <td>0.126496</td>\n",
       "      <td>-1.133084</td>\n",
       "      <td>-2.846876</td>\n",
       "      <td>-2.197683</td>\n",
       "      <td>-2.582960</td>\n",
       "      <td>0.469175</td>\n",
       "    </tr>\n",
       "    <tr>\n",
       "      <th>2</th>\n",
       "      <td>-1.342703</td>\n",
       "      <td>1.201362</td>\n",
       "      <td>0.890467</td>\n",
       "      <td>-1.023844</td>\n",
       "      <td>-0.898835</td>\n",
       "      <td>0.169773</td>\n",
       "      <td>-0.789533</td>\n",
       "      <td>-0.103844</td>\n",
       "      <td>-0.590606</td>\n",
       "      <td>0.896959</td>\n",
       "      <td>...</td>\n",
       "      <td>-0.529201</td>\n",
       "      <td>0.464623</td>\n",
       "      <td>-0.405276</td>\n",
       "      <td>0.017227</td>\n",
       "      <td>0.260931</td>\n",
       "      <td>-1.019717</td>\n",
       "      <td>-1.338941</td>\n",
       "      <td>-2.184509</td>\n",
       "      <td>-0.954673</td>\n",
       "      <td>0.191375</td>\n",
       "    </tr>\n",
       "    <tr>\n",
       "      <th>3</th>\n",
       "      <td>-2.262624</td>\n",
       "      <td>2.233009</td>\n",
       "      <td>-0.239887</td>\n",
       "      <td>-1.776682</td>\n",
       "      <td>-1.208813</td>\n",
       "      <td>-0.803015</td>\n",
       "      <td>-2.097943</td>\n",
       "      <td>-1.210980</td>\n",
       "      <td>-1.949661</td>\n",
       "      <td>-0.599418</td>\n",
       "      <td>...</td>\n",
       "      <td>1.068820</td>\n",
       "      <td>2.045074</td>\n",
       "      <td>-0.925260</td>\n",
       "      <td>0.397628</td>\n",
       "      <td>1.709614</td>\n",
       "      <td>-1.091027</td>\n",
       "      <td>-2.254990</td>\n",
       "      <td>-2.639364</td>\n",
       "      <td>-2.037529</td>\n",
       "      <td>0.722604</td>\n",
       "    </tr>\n",
       "    <tr>\n",
       "      <th>4</th>\n",
       "      <td>-2.130725</td>\n",
       "      <td>0.819645</td>\n",
       "      <td>3.103212</td>\n",
       "      <td>-2.296316</td>\n",
       "      <td>-1.744753</td>\n",
       "      <td>0.447689</td>\n",
       "      <td>0.790025</td>\n",
       "      <td>1.403089</td>\n",
       "      <td>0.059782</td>\n",
       "      <td>4.138971</td>\n",
       "      <td>...</td>\n",
       "      <td>-2.754107</td>\n",
       "      <td>-1.139683</td>\n",
       "      <td>0.029716</td>\n",
       "      <td>-0.507231</td>\n",
       "      <td>-0.400700</td>\n",
       "      <td>-2.841360</td>\n",
       "      <td>-2.121911</td>\n",
       "      <td>-3.746274</td>\n",
       "      <td>-2.225718</td>\n",
       "      <td>0.737023</td>\n",
       "    </tr>\n",
       "  </tbody>\n",
       "</table>\n",
       "<p>5 rows × 100 columns</p>\n",
       "</div>"
      ],
      "text/plain": [
       "          0         1         2         3         4         5         6  \\\n",
       "0 -2.279314  1.178664  0.574329 -1.169564 -0.720348 -1.545350 -0.509746   \n",
       "1 -2.284362  0.830985  1.149805 -1.223606 -0.794857 -1.358322 -0.233224   \n",
       "2 -1.342703  1.201362  0.890467 -1.023844 -0.898835  0.169773 -0.789533   \n",
       "3 -2.262624  2.233009 -0.239887 -1.776682 -1.208813 -0.803015 -2.097943   \n",
       "4 -2.130725  0.819645  3.103212 -2.296316 -1.744753  0.447689  0.790025   \n",
       "\n",
       "          7         8         9    ...           90        91        92  \\\n",
       "0  0.069629 -0.607492  1.511342    ...     0.490457  0.732884 -1.250946   \n",
       "1  0.447545 -0.299049  2.115453    ...    -0.094006  0.096930 -0.889044   \n",
       "2 -0.103844 -0.590606  0.896959    ...    -0.529201  0.464623 -0.405276   \n",
       "3 -1.210980 -1.949661 -0.599418    ...     1.068820  2.045074 -0.925260   \n",
       "4  1.403089  0.059782  4.138971    ...    -2.754107 -1.139683  0.029716   \n",
       "\n",
       "         93        94        95        96        97        98        99  \n",
       "0 -0.242123  0.300502 -0.940489 -2.939329 -2.253297 -2.367808  0.650523  \n",
       "1 -0.388074  0.126496 -1.133084 -2.846876 -2.197683 -2.582960  0.469175  \n",
       "2  0.017227  0.260931 -1.019717 -1.338941 -2.184509 -0.954673  0.191375  \n",
       "3  0.397628  1.709614 -1.091027 -2.254990 -2.639364 -2.037529  0.722604  \n",
       "4 -0.507231 -0.400700 -2.841360 -2.121911 -3.746274 -2.225718  0.737023  \n",
       "\n",
       "[5 rows x 100 columns]"
      ]
     },
     "execution_count": 12,
     "metadata": {},
     "output_type": "execute_result"
    }
   ],
   "source": [
    "#predict to get featured data\n",
    "\n",
    "feauture_engg_data = intermediate_layer_model.predict(X)\n",
    "feauture_engg_data = pd.DataFrame(feauture_engg_data)\n",
    "print('feauture_engg_data shape:', feauture_engg_data.shape)\n",
    "feauture_engg_data.head(5)  #The features are unnamed now"
   ]
  },
  {
   "cell_type": "markdown",
   "metadata": {},
   "source": [
    "- Bingo!We successfully captured 100 new complex intaraction amongst raw variables successfully. \n",
    "Let's have some sneak-peak whether these features has any value. Although there are a few better ways, for sake of simplicity let's capture some bivariate relationship of these new feature with target variable 'default payment next month'.\n",
    "\n",
    "- Although for categorical target variable Correlation is not 100% correct method, we will calculate the correlation of all new values with the target as an approximation of the variables which may be important for final model.  "
   ]
  },
  {
   "cell_type": "code",
   "execution_count": 14,
   "metadata": {},
   "outputs": [
    {
     "data": {
      "text/plain": [
       "[('PAY_1', 0.32479372847862253),\n",
       " ('PAY_2', 0.26355120167216467),\n",
       " ('PAY_3', 0.2352525137249163),\n",
       " ('feat_78', -0.22173805212223915),\n",
       " ('PAY_4', 0.21661363684242424),\n",
       " ('PAY_5', 0.20414891387616674),\n",
       " ('feat_86', -0.20047655459374053),\n",
       " ('feat_6', -0.19189993720885604),\n",
       " ('PAY_6', 0.1868663616535449),\n",
       " ('feat_3', -0.17394080015462873)]"
      ]
     },
     "execution_count": 14,
     "metadata": {},
     "output_type": "execute_result"
    }
   ],
   "source": [
    "# Renaming columns\n",
    "new_col = []\n",
    "for i in range(100):\n",
    "    new_col.append('feat_%d'%(i+1))\n",
    "feauture_engg_data.columns = new_col\n",
    "feauture_engg_data.to_csv('100_feature.csv', index = False)\n",
    "#To compare predictivetive strength of new variables,let's merge the original data(retail_cards)with the feauture_engg_data and sort Correlation values     \n",
    "retail_card = pd.concat([retail_card, feauture_engg_data], axis = 1)\n",
    "\n",
    "# List of new correlations\n",
    "new_corrs = []\n",
    "# Iterate through the columns \n",
    "for col in retail_card.columns:\n",
    "    # Calculate correlation with the target\n",
    "    corr = event_id['default payment next month'].corr(retail_card[col])\n",
    "    \n",
    "    # Append the list as a tuple\n",
    "    new_corrs.append((col, corr))\n",
    "\n",
    "new_corrs = sorted(new_corrs, key = lambda x: abs(x[1]), reverse = True)\n",
    "\n",
    "#Let's see top 10 correlation values\n",
    "new_corrs[:10]    "
   ]
  },
  {
   "cell_type": "markdown",
   "metadata": {},
   "source": [
    "#### We can see following 4 newly created variables are in top 10, in terms of correlation(pseudo although) with 'default payment next month'. Although based on this nothing concretely can be said about predictive strength of these variable,atleast these variable are worth of further investigation.\n",
    "\n",
    "  - ##### feat_78(in top-5)\n",
    "  - ##### feat_86(7th)\n",
    "  - ##### feat_6(8th)\n",
    "  - ##### feat_3(10th)\n",
    "  \n",
    "    ##### We can also look at the KDE(kernel density estimation) plot of the highest correlated variables, in terms of absolute magnitude correlation."
   ]
  },
  {
   "cell_type": "code",
   "execution_count": 20,
   "metadata": {},
   "outputs": [
    {
     "data": {
      "image/png": "[encoded data removed]",
      "text/plain": [
       "<Figure size 360x1440 with 4 Axes>"
      ]
     },
     "metadata": {},
     "output_type": "display_data"
    }
   ],
   "source": [
    "variable = ['feat_78','feat_86','feat_6','feat_3']\n",
    "event_id = pd.concat([event_id,feauture_engg_data.loc[:,variable]], axis = 1)\n",
    "plt.figure(figsize=(5,20))\n",
    "for j, var in enumerate(variable):\n",
    "    plt.subplot(4,1,j+1)\n",
    "    sns.kdeplot(event_id.loc[event_id['default payment next month'] == 0,var], label = 'TARGET == 0')\n",
    "    sns.kdeplot(event_id.loc[event_id['default payment next month'] == 1,var], label = 'TARGET == 1')\n",
    "    plt.title('Distribution of %s by target' % var)\n",
    "    plt.xlabel('%s' % var);plt.ylabel('target');\n",
    "plt.tight_layout(h_pad = 2.5)"
   ]
  },
  {
   "cell_type": "markdown",
   "metadata": {},
   "source": [
    "#### We can see a weak negative relationship between with the target variable for these variables.Although with this weak correlation may be because of noise,it's worth investing."
   ]
  },
  {
   "cell_type": "markdown",
   "metadata": {},
   "source": []
  },
  {
   "cell_type": "markdown",
   "metadata": {},
   "source": [
    "### Further Analysis and investigation\n",
    "\n",
    "- ###### * We can further dig down to get some interpretability of these new features.We will construct a correlation matrix amongst all features to get hunch about these top variable.This will allow us to see if there are highly collinear variables(based on some correllation value threshhold)that should perhaps be removed from the data berore fed into final model.*\n",
    "\n",
    "- ###### Later, we can perform feature reduction using the feature importances from the model(GBM or any tree based algorithm) or other techniques such as PCA."
   ]
  },
  {
   "cell_type": "code",
   "execution_count": null,
   "metadata": {},
   "outputs": [],
   "source": []
  }
 ],
 "metadata": {
  "kernelspec": {
   "display_name": "Python 3",
   "language": "python",
   "name": "python3"
  },
  "language_info": {
   "codemirror_mode": {
    "name": "ipython",
    "version": 3
   },
   "file_extension": ".py",
   "mimetype": "text/x-python",
   "name": "python",
   "nbconvert_exporter": "python",
   "pygments_lexer": "ipython3",
   "version": "3.6.5"
  }
 },
 "nbformat": 4,
 "nbformat_minor": 2
}
