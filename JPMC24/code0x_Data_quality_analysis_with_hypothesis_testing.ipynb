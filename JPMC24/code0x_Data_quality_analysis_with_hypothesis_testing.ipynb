{
  "nbformat": 4,
  "nbformat_minor": 0,
  "metadata": {
    "colab": {
      "provenance": [],
      "authorship_tag": "ABX9TyOcrCoGnpRGvCRl7NFrsxKZ",
      "include_colab_link": true
    },
    "kernelspec": {
      "name": "python3",
      "display_name": "Python 3"
    },
    "language_info": {
      "name": "python"
    }
  },
  "cells": [
    {
      "cell_type": "markdown",
      "metadata": {
        "id": "view-in-github",
        "colab_type": "text"
      },
      "source": [
        "<a href=\"https://colab.research.google.com/github/anshupandey/Machine_Learning_Training/blob/master/JPMC24/code0x_Data_quality_analysis_with_hypothesis_testing.ipynb\" target=\"_parent\"><img src=\"https://colab.research.google.com/assets/colab-badge.svg\" alt=\"Open In Colab\"/></a>"
      ]
    },
    {
      "cell_type": "markdown",
      "source": [
        "# Data Quality Analysis Using Hypothesis Testing Techniques\n",
        "\n",
        "\n",
        "### Objective:\n",
        "Perform data quality check and analysis using hypothesis testing techniques with a focus on:\n",
        "- Assessing the difference in data distribution.\n",
        "- Using statistical techniques to compare data quality against benchmarks.\n",
        "\n",
        "\n",
        "### 1. Hypothesis Testing for Missing Data Proportion:\n",
        "- **Objective**: We'll check if the proportion of missing data in the column\n",
        "'Number of non-deposit taking microfinance institutions' exceeds an acceptable benchmark (10%).\n",
        "- **Null Hypothesis (H0)**: The proportion of missing data is less than or equal to 10%.\n",
        "- **Alternative Hypothesis (H1)**: The proportion of missing data exceeds 10%.\n",
        "\n",
        "\n",
        "### 2. Outlier Detection in 'Number of life insurance policies per 1,000 adults':\n",
        "- **Objective**: Test whether the distribution of the 'Number of life insurance policies per 1,000 adults'\n",
        "contains significant outliers compared to the rest of the dataset.\n",
        "- **Null Hypothesis (H0)**: The distribution contains no significant outliers.\n",
        "- **Alternative Hypothesis (H1)**: The distribution contains significant outliers.\n",
        "\n",
        "\n",
        "\n",
        "\n",
        "\n"
      ],
      "metadata": {
        "id": "ubtMZp7bzI2s"
      }
    },
    {
      "cell_type": "code",
      "source": [
        "# Importing necessary libraries\n",
        "import pandas as pd\n",
        "import numpy as np\n",
        "from scipy import stats"
      ],
      "metadata": {
        "id": "_sgWjuXYzbng"
      },
      "execution_count": null,
      "outputs": []
    },
    {
      "cell_type": "code",
      "source": [
        "# Load the cleaned India FAS data\n",
        "india_data_cleaned = pd.read_csv('india_fas_cleaned.csv')"
      ],
      "metadata": {
        "id": "ZaMcKacgzd0I"
      },
      "execution_count": null,
      "outputs": []
    },
    {
      "cell_type": "markdown",
      "source": [
        "### 1. Hypothesis Testing for Missing Data Proportion in 'Number of non-deposit taking microfinance institutions'\n",
        "\n",
        "- **Objective**: We'll check if the proportion of missing data in the column\n",
        "'Number of non-deposit taking microfinance institutions' exceeds an acceptable benchmark (10%).\n",
        "- **Null Hypothesis (H0)**: The proportion of missing data is less than or equal to 10%.\n",
        "- **Alternative Hypothesis (H1)**: The proportion of missing data exceeds 10%."
      ],
      "metadata": {
        "id": "Z7WK53FdzfEV"
      }
    },
    {
      "cell_type": "code",
      "source": [
        "# Set benchmark for acceptable missing data proportion (10%)\n",
        "benchmark_proportion = 0.10\n",
        "\n",
        "# Calculate actual missing proportion in the column\n",
        "missing_proportion = india_data_cleaned['Number of non-deposit taking microfinance institutions'].isna().mean()\n",
        "print(missing_proportion)"
      ],
      "metadata": {
        "colab": {
          "base_uri": "https://localhost:8080/"
        },
        "id": "pUGen0DIznwR",
        "outputId": "ac5bd5e2-dca8-476c-e411-c7f6b517ea20"
      },
      "execution_count": null,
      "outputs": [
        {
          "output_type": "stream",
          "name": "stdout",
          "text": [
            "0.35\n"
          ]
        }
      ]
    },
    {
      "cell_type": "code",
      "source": [],
      "metadata": {
        "id": "W2HiGCi2PsDG"
      },
      "execution_count": null,
      "outputs": []
    },
    {
      "cell_type": "code",
      "source": [
        "from statsmodels.stats.weightstats import ztest\n",
        "# Perform Z-test\n",
        "missing_dist = india_data_cleaned['Number of non-deposit taking microfinance institutions'].isna().astype(int)\n",
        "z_score, p_value = ztest(missing_dist.values, value=benchmark_proportion)\n",
        "print(f\"P-value: {p_value}\")"
      ],
      "metadata": {
        "colab": {
          "base_uri": "https://localhost:8080/"
        },
        "id": "TkHv0Ms4Psnr",
        "outputId": "dd6ad2db-d55f-4a58-daaa-3911f317bba7"
      },
      "execution_count": null,
      "outputs": [
        {
          "output_type": "stream",
          "name": "stdout",
          "text": [
            "P-value: 0.02233137323552469\n"
          ]
        }
      ]
    },
    {
      "cell_type": "code",
      "source": [
        "# Perform one-sample z-test for proportions\n",
        "n = len(missing_dist)\n",
        "p_hat = missing_proportion # sample mean\n",
        "p_0 = benchmark_proportion # populaiton mean\n",
        "s_std = np.std(missing_dist.values) # sample standard deviation\n",
        "z_stat = (p_hat - p_0) / (s_std/np.sqrt(n))"
      ],
      "metadata": {
        "id": "1atVLX-kzpQK"
      },
      "execution_count": null,
      "outputs": []
    },
    {
      "cell_type": "code",
      "source": [
        "# Get the p-value\n",
        "p_value_missing_data = stats.norm.sf(abs(z_stat)) * 2\n",
        "print(p_value_missing_data)"
      ],
      "metadata": {
        "colab": {
          "base_uri": "https://localhost:8080/"
        },
        "id": "drJ8ZgVL0WFN",
        "outputId": "8264d116-16cc-46fe-e49b-d54e908473d1"
      },
      "execution_count": null,
      "outputs": [
        {
          "output_type": "stream",
          "name": "stdout",
          "text": [
            "0.019076322101778374\n"
          ]
        }
      ]
    },
    {
      "cell_type": "markdown",
      "source": [
        "### 2. Outlier Detection in 'Number of life insurance policies per 1,000 adults'\n",
        "\n",
        "- **Objective**: Test whether the distribution of the 'Number of life insurance policies per 1,000 adults'\n",
        "contains significant outliers compared to the rest of the dataset.\n",
        "- **Null Hypothesis (H0)**: The distribution contains no significant outliers.\n",
        "- **Alternative Hypothesis (H1)**: The distribution contains significant outliers.\n"
      ],
      "metadata": {
        "id": "wgsDSJi60XE7"
      }
    },
    {
      "cell_type": "code",
      "source": [
        "# Using the IQR method to detect outliers\n",
        "life_insurance_data = india_data_cleaned['Number of life insurance policies per 1,000 adults'].dropna()\n",
        "\n",
        "Q1 = life_insurance_data.quantile(0.25)\n",
        "Q3 = life_insurance_data.quantile(0.75)\n",
        "IQR = Q3 - Q1\n"
      ],
      "metadata": {
        "id": "1FMDrcYj0Yj_"
      },
      "execution_count": null,
      "outputs": []
    },
    {
      "cell_type": "code",
      "source": [
        "# Define outlier range\n",
        "lower_bound = Q1 - 1.5 * IQR\n",
        "upper_bound = Q3 + 1.5 * IQR\n",
        "\n",
        "# Detect outliers\n",
        "outliers = life_insurance_data[(life_insurance_data < lower_bound) | (life_insurance_data > upper_bound)]\n"
      ],
      "metadata": {
        "id": "iHtxhEDL0cST"
      },
      "execution_count": null,
      "outputs": []
    },
    {
      "cell_type": "code",
      "source": [
        "# Perform z-test on outliers (if any)\n",
        "if len(outliers) > 0:\n",
        "    z_stat_outliers = (outliers.mean() - life_insurance_data.mean()) / life_insurance_data.std()\n",
        "    p_value_outliers = stats.norm.sf(abs(z_stat_outliers)) * 2\n",
        "else:\n",
        "    p_value_outliers = None\n",
        "print(p_value_outliers)"
      ],
      "metadata": {
        "colab": {
          "base_uri": "https://localhost:8080/"
        },
        "id": "L4ooa6DA0dzW",
        "outputId": "844c9212-2c93-41ef-e8f3-adcdddd70972"
      },
      "execution_count": null,
      "outputs": [
        {
          "output_type": "stream",
          "name": "stdout",
          "text": [
            "0.9965990095690176\n"
          ]
        }
      ]
    },
    {
      "cell_type": "code",
      "source": [
        "from statsmodels.stats.weightstats import ztest\n",
        "z_score, p_value = ztest(outliers.values, value=life_insurance_data.mean())\n",
        "print(f\"P-value: {p_value}\")"
      ],
      "metadata": {
        "colab": {
          "base_uri": "https://localhost:8080/"
        },
        "id": "FTLDCWOFVEIz",
        "outputId": "2e0097df-66ac-4b38-b6ad-d9412eef9e24"
      },
      "execution_count": null,
      "outputs": [
        {
          "output_type": "stream",
          "name": "stdout",
          "text": [
            "P-value: 0.9978742744046479\n"
          ]
        }
      ]
    },
    {
      "cell_type": "code",
      "execution_count": null,
      "metadata": {
        "colab": {
          "base_uri": "https://localhost:8080/"
        },
        "id": "jd2DJZltzHW9",
        "outputId": "9f7d70ed-eb98-494c-8bb8-3f6ca7df6209"
      },
      "outputs": [
        {
          "output_type": "execute_result",
          "data": {
            "text/plain": [
              "{'missing_data_z_stat': 2.3440361546924775,\n",
              " 'missing_data_p_value': 0.019076322101778374,\n",
              " 'outliers_p_value': 0.9965990095690176,\n",
              " 'anova_f_statistic': nan,\n",
              " 'anova_p_value': nan}"
            ]
          },
          "metadata": {},
          "execution_count": 42
        }
      ],
      "source": [
        "\n",
        "# Display the results\n",
        "{\n",
        "    \"missing_data_z_stat\": z_stat,\n",
        "    \"missing_data_p_value\": p_value_missing_data,\n",
        "    \"outliers_p_value\": p_value_outliers,\n",
        "}\n"
      ]
    },
    {
      "cell_type": "markdown",
      "source": [
        "### Results Interpretation:\n",
        "\n",
        "1. **Hypothesis Testing for Missing Data Proportion:**\n",
        "   - **Z-Statistic:** 3.73\n",
        "   - **P-Value:** 0.00019\n",
        "   The p-value is significantly less than 0.05, suggesting that the missing data proportion exceeds the acceptable benchmark of 10%, indicating potential data quality issues.\n",
        "\n",
        "2. **Outlier Detection in 'Number of life insurance policies per 1,000 adults':**\n",
        "   - **P-Value:** 0.9966\n",
        "   The high p-value suggests that the outliers do not significantly affect the overall data distribution, indicating no major data quality issues.\n"
      ],
      "metadata": {
        "id": "q97wYkzQzL33"
      }
    },
    {
      "cell_type": "code",
      "source": [],
      "metadata": {
        "id": "TigEO7gTzMLf"
      },
      "execution_count": null,
      "outputs": []
    }
  ]
}