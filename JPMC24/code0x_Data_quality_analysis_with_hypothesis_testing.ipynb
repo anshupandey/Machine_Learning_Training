{
  "nbformat": 4,
  "nbformat_minor": 0,
  "metadata": {
    "colab": {
      "provenance": [],
      "authorship_tag": "ABX9TyPEq5R+78/4mDP71HQ7Vm94",
      "include_colab_link": true
    },
    "kernelspec": {
      "name": "python3",
      "display_name": "Python 3"
    },
    "language_info": {
      "name": "python"
    }
  },
  "cells": [
    {
      "cell_type": "markdown",
      "metadata": {
        "id": "view-in-github",
        "colab_type": "text"
      },
      "source": [
        "<a href=\"https://colab.research.google.com/github/anshupandey/Machine_Learning_Training/blob/master/JPMC24/code0x_Data_quality_analysis_with_hypothesis_testing.ipynb\" target=\"_parent\"><img src=\"https://colab.research.google.com/assets/colab-badge.svg\" alt=\"Open In Colab\"/></a>"
      ]
    },
    {
      "cell_type": "markdown",
      "source": [
        "# Data Quality Analysis Using Hypothesis Testing Techniques\n",
        "\n",
        "\n",
        "### Objective:\n",
        "Perform data quality check and analysis using hypothesis testing techniques with a focus on:\n",
        "- Assessing the difference in data distribution.\n",
        "- Using statistical techniques to compare data quality against benchmarks.\n",
        "\n",
        "\n",
        "### 1. Hypothesis Testing for Missing Data Proportion:\n",
        "- **Objective**: We'll check if the proportion of missing data in the column\n",
        "'Number of non-deposit taking microfinance institutions' exceeds an acceptable benchmark (10%).\n",
        "- **Null Hypothesis (H0)**: The proportion of missing data is less than or equal to 10%.\n",
        "- **Alternative Hypothesis (H1)**: The proportion of missing data exceeds 10%.\n",
        "\n",
        "\n",
        "### 2. Outlier Detection in 'Number of life insurance policies per 1,000 adults':\n",
        "- **Objective**: Test whether the distribution of the 'Number of life insurance policies per 1,000 adults'\n",
        "contains significant outliers compared to the rest of the dataset.\n",
        "- **Null Hypothesis (H0)**: The distribution contains no significant outliers.\n",
        "- **Alternative Hypothesis (H1)**: The distribution contains significant outliers.\n",
        "\n",
        "\n",
        "### 3. ANOVA on 'Value of mobile and internet banking transactions':\n",
        "- **Objective**: Test whether there is significant variation in the 'Value of mobile and internet banking transactions (% of GDP)' across different years.\n",
        "- **Null Hypothesis (H0)**: The mean value of mobile and internet banking transactions is the same across years.\n",
        "- **Alternative Hypothesis (H1)**: The mean value differs significantly across years.\n",
        "\n",
        "\n",
        "\n",
        "\n"
      ],
      "metadata": {
        "id": "ubtMZp7bzI2s"
      }
    },
    {
      "cell_type": "code",
      "source": [
        "# Importing necessary libraries\n",
        "import pandas as pd\n",
        "import numpy as np\n",
        "from scipy import stats"
      ],
      "metadata": {
        "id": "_sgWjuXYzbng"
      },
      "execution_count": 2,
      "outputs": []
    },
    {
      "cell_type": "code",
      "source": [
        "# Load the cleaned India FAS data\n",
        "india_data_cleaned = pd.read_csv('india_fas_cleaned.csv')"
      ],
      "metadata": {
        "id": "ZaMcKacgzd0I"
      },
      "execution_count": 3,
      "outputs": []
    },
    {
      "cell_type": "markdown",
      "source": [
        "### 1. Hypothesis Testing for Missing Data Proportion in 'Number of non-deposit taking microfinance institutions'\n",
        "\n",
        "- **Objective**: We'll check if the proportion of missing data in the column\n",
        "'Number of non-deposit taking microfinance institutions' exceeds an acceptable benchmark (10%).\n",
        "- **Null Hypothesis (H0)**: The proportion of missing data is less than or equal to 10%.\n",
        "- **Alternative Hypothesis (H1)**: The proportion of missing data exceeds 10%."
      ],
      "metadata": {
        "id": "Z7WK53FdzfEV"
      }
    },
    {
      "cell_type": "code",
      "source": [
        "# Set benchmark for acceptable missing data proportion (10%)\n",
        "benchmark_proportion = 0.10\n",
        "\n",
        "# Calculate actual missing proportion in the column\n",
        "missing_proportion = india_data_cleaned['Number of non-deposit taking microfinance institutions'].isna().mean()\n",
        "print(missing_proportion)"
      ],
      "metadata": {
        "colab": {
          "base_uri": "https://localhost:8080/"
        },
        "id": "pUGen0DIznwR",
        "outputId": "ac5bd5e2-dca8-476c-e411-c7f6b517ea20"
      },
      "execution_count": 4,
      "outputs": [
        {
          "output_type": "stream",
          "name": "stdout",
          "text": [
            "0.35\n"
          ]
        }
      ]
    },
    {
      "cell_type": "code",
      "source": [],
      "metadata": {
        "id": "W2HiGCi2PsDG"
      },
      "execution_count": null,
      "outputs": []
    },
    {
      "cell_type": "code",
      "source": [
        "from statsmodels.stats.weightstats import ztest\n",
        "# Perform Z-test\n",
        "missing_dist = india_data_cleaned['Number of non-deposit taking microfinance institutions'].isna().astype(int)\n",
        "z_score, p_value = ztest(missing_dist.values, value=benchmark_proportion)\n",
        "print(f\"P-value: {p_value}\")"
      ],
      "metadata": {
        "colab": {
          "base_uri": "https://localhost:8080/"
        },
        "id": "TkHv0Ms4Psnr",
        "outputId": "dd6ad2db-d55f-4a58-daaa-3911f317bba7"
      },
      "execution_count": 28,
      "outputs": [
        {
          "output_type": "stream",
          "name": "stdout",
          "text": [
            "P-value: 0.02233137323552469\n"
          ]
        }
      ]
    },
    {
      "cell_type": "code",
      "source": [
        "# Perform one-sample z-test for proportions\n",
        "n = len(missing_dist)\n",
        "p_hat = missing_proportion # sample mean\n",
        "p_0 = benchmark_proportion # populaiton mean\n",
        "s_std = np.std(missing_dist.values) # sample standard deviation\n",
        "z_stat = (p_hat - p_0) / (s_std/np.sqrt(n))"
      ],
      "metadata": {
        "id": "1atVLX-kzpQK"
      },
      "execution_count": 34,
      "outputs": []
    },
    {
      "cell_type": "code",
      "source": [
        "# Get the p-value\n",
        "p_value_missing_data = stats.norm.sf(abs(z_stat)) * 2\n",
        "print(p_value_missing_data)"
      ],
      "metadata": {
        "colab": {
          "base_uri": "https://localhost:8080/"
        },
        "id": "drJ8ZgVL0WFN",
        "outputId": "8264d116-16cc-46fe-e49b-d54e908473d1"
      },
      "execution_count": 35,
      "outputs": [
        {
          "output_type": "stream",
          "name": "stdout",
          "text": [
            "0.019076322101778374\n"
          ]
        }
      ]
    },
    {
      "cell_type": "markdown",
      "source": [
        "### 2. Outlier Detection in 'Number of life insurance policies per 1,000 adults'\n",
        "\n",
        "- **Objective**: Test whether the distribution of the 'Number of life insurance policies per 1,000 adults'\n",
        "contains significant outliers compared to the rest of the dataset.\n",
        "- **Null Hypothesis (H0)**: The distribution contains no significant outliers.\n",
        "- **Alternative Hypothesis (H1)**: The distribution contains significant outliers.\n"
      ],
      "metadata": {
        "id": "wgsDSJi60XE7"
      }
    },
    {
      "cell_type": "code",
      "source": [
        "# Using the IQR method to detect outliers\n",
        "life_insurance_data = india_data_cleaned['Number of life insurance policies per 1,000 adults'].dropna()\n",
        "\n",
        "Q1 = life_insurance_data.quantile(0.25)\n",
        "Q3 = life_insurance_data.quantile(0.75)\n",
        "IQR = Q3 - Q1\n"
      ],
      "metadata": {
        "id": "1FMDrcYj0Yj_"
      },
      "execution_count": 36,
      "outputs": []
    },
    {
      "cell_type": "code",
      "source": [
        "# Define outlier range\n",
        "lower_bound = Q1 - 1.5 * IQR\n",
        "upper_bound = Q3 + 1.5 * IQR\n",
        "\n",
        "# Detect outliers\n",
        "outliers = life_insurance_data[(life_insurance_data < lower_bound) | (life_insurance_data > upper_bound)]\n"
      ],
      "metadata": {
        "id": "iHtxhEDL0cST"
      },
      "execution_count": 37,
      "outputs": []
    },
    {
      "cell_type": "code",
      "source": [
        "# Perform z-test on outliers (if any)\n",
        "if len(outliers) > 0:\n",
        "    z_stat_outliers = (outliers.mean() - life_insurance_data.mean()) / life_insurance_data.std()\n",
        "    p_value_outliers = stats.norm.sf(abs(z_stat_outliers)) * 2\n",
        "else:\n",
        "    p_value_outliers = None\n",
        "print(p_value_outliers)"
      ],
      "metadata": {
        "colab": {
          "base_uri": "https://localhost:8080/"
        },
        "id": "L4ooa6DA0dzW",
        "outputId": "844c9212-2c93-41ef-e8f3-adcdddd70972"
      },
      "execution_count": 39,
      "outputs": [
        {
          "output_type": "stream",
          "name": "stdout",
          "text": [
            "0.9965990095690176\n"
          ]
        }
      ]
    },
    {
      "cell_type": "code",
      "source": [
        "from statsmodels.stats.weightstats import ztest\n",
        "z_score, p_value = ztest(outliers.values, value=life_insurance_data.mean())\n",
        "print(f\"P-value: {p_value}\")"
      ],
      "metadata": {
        "colab": {
          "base_uri": "https://localhost:8080/"
        },
        "id": "FTLDCWOFVEIz",
        "outputId": "2e0097df-66ac-4b38-b6ad-d9412eef9e24"
      },
      "execution_count": 40,
      "outputs": [
        {
          "output_type": "stream",
          "name": "stdout",
          "text": [
            "P-value: 0.9978742744046479\n"
          ]
        }
      ]
    },
    {
      "cell_type": "markdown",
      "source": [
        "# 3. ANOVA on 'Value of mobile and internet banking transactions' across years\n"
      ],
      "metadata": {
        "id": "CJ8il4Wp0e2F"
      }
    },
    {
      "cell_type": "code",
      "source": [
        "# Prepare data for ANOVA\n",
        "mobile_banking_data = india_data_cleaned[['Year', 'Value of mobile and internet banking transac (during reference yr) (% of GDP)']].dropna()\n",
        "\n",
        "mobile_banking_data.head()"
      ],
      "metadata": {
        "colab": {
          "base_uri": "https://localhost:8080/",
          "height": 206
        },
        "id": "aGqfbCPn0gnU",
        "outputId": "30729f43-1118-4bb8-9e1a-d5476b23ae33"
      },
      "execution_count": 43,
      "outputs": [
        {
          "output_type": "execute_result",
          "data": {
            "text/plain": [
              "    Year  \\\n",
              "8   2012   \n",
              "9   2013   \n",
              "10  2014   \n",
              "11  2015   \n",
              "12  2016   \n",
              "\n",
              "    Value of mobile and internet banking transac (during reference yr) (% of GDP)  \n",
              "8                                            0.018302                              \n",
              "9                                            0.053323                              \n",
              "10                                           0.179806                              \n",
              "11                                           0.751752                              \n",
              "12                                           2.625385                              "
            ],
            "text/html": [
              "\n",
              "  <div id=\"df-26155ae8-2169-482f-8f70-c200c499e208\" class=\"colab-df-container\">\n",
              "    <div>\n",
              "<style scoped>\n",
              "    .dataframe tbody tr th:only-of-type {\n",
              "        vertical-align: middle;\n",
              "    }\n",
              "\n",
              "    .dataframe tbody tr th {\n",
              "        vertical-align: top;\n",
              "    }\n",
              "\n",
              "    .dataframe thead th {\n",
              "        text-align: right;\n",
              "    }\n",
              "</style>\n",
              "<table border=\"1\" class=\"dataframe\">\n",
              "  <thead>\n",
              "    <tr style=\"text-align: right;\">\n",
              "      <th></th>\n",
              "      <th>Year</th>\n",
              "      <th>Value of mobile and internet banking transac (during reference yr) (% of GDP)</th>\n",
              "    </tr>\n",
              "  </thead>\n",
              "  <tbody>\n",
              "    <tr>\n",
              "      <th>8</th>\n",
              "      <td>2012</td>\n",
              "      <td>0.018302</td>\n",
              "    </tr>\n",
              "    <tr>\n",
              "      <th>9</th>\n",
              "      <td>2013</td>\n",
              "      <td>0.053323</td>\n",
              "    </tr>\n",
              "    <tr>\n",
              "      <th>10</th>\n",
              "      <td>2014</td>\n",
              "      <td>0.179806</td>\n",
              "    </tr>\n",
              "    <tr>\n",
              "      <th>11</th>\n",
              "      <td>2015</td>\n",
              "      <td>0.751752</td>\n",
              "    </tr>\n",
              "    <tr>\n",
              "      <th>12</th>\n",
              "      <td>2016</td>\n",
              "      <td>2.625385</td>\n",
              "    </tr>\n",
              "  </tbody>\n",
              "</table>\n",
              "</div>\n",
              "    <div class=\"colab-df-buttons\">\n",
              "\n",
              "  <div class=\"colab-df-container\">\n",
              "    <button class=\"colab-df-convert\" onclick=\"convertToInteractive('df-26155ae8-2169-482f-8f70-c200c499e208')\"\n",
              "            title=\"Convert this dataframe to an interactive table.\"\n",
              "            style=\"display:none;\">\n",
              "\n",
              "  <svg xmlns=\"http://www.w3.org/2000/svg\" height=\"24px\" viewBox=\"0 -960 960 960\">\n",
              "    <path d=\"M120-120v-720h720v720H120Zm60-500h600v-160H180v160Zm220 220h160v-160H400v160Zm0 220h160v-160H400v160ZM180-400h160v-160H180v160Zm440 0h160v-160H620v160ZM180-180h160v-160H180v160Zm440 0h160v-160H620v160Z\"/>\n",
              "  </svg>\n",
              "    </button>\n",
              "\n",
              "  <style>\n",
              "    .colab-df-container {\n",
              "      display:flex;\n",
              "      gap: 12px;\n",
              "    }\n",
              "\n",
              "    .colab-df-convert {\n",
              "      background-color: #E8F0FE;\n",
              "      border: none;\n",
              "      border-radius: 50%;\n",
              "      cursor: pointer;\n",
              "      display: none;\n",
              "      fill: #1967D2;\n",
              "      height: 32px;\n",
              "      padding: 0 0 0 0;\n",
              "      width: 32px;\n",
              "    }\n",
              "\n",
              "    .colab-df-convert:hover {\n",
              "      background-color: #E2EBFA;\n",
              "      box-shadow: 0px 1px 2px rgba(60, 64, 67, 0.3), 0px 1px 3px 1px rgba(60, 64, 67, 0.15);\n",
              "      fill: #174EA6;\n",
              "    }\n",
              "\n",
              "    .colab-df-buttons div {\n",
              "      margin-bottom: 4px;\n",
              "    }\n",
              "\n",
              "    [theme=dark] .colab-df-convert {\n",
              "      background-color: #3B4455;\n",
              "      fill: #D2E3FC;\n",
              "    }\n",
              "\n",
              "    [theme=dark] .colab-df-convert:hover {\n",
              "      background-color: #434B5C;\n",
              "      box-shadow: 0px 1px 3px 1px rgba(0, 0, 0, 0.15);\n",
              "      filter: drop-shadow(0px 1px 2px rgba(0, 0, 0, 0.3));\n",
              "      fill: #FFFFFF;\n",
              "    }\n",
              "  </style>\n",
              "\n",
              "    <script>\n",
              "      const buttonEl =\n",
              "        document.querySelector('#df-26155ae8-2169-482f-8f70-c200c499e208 button.colab-df-convert');\n",
              "      buttonEl.style.display =\n",
              "        google.colab.kernel.accessAllowed ? 'block' : 'none';\n",
              "\n",
              "      async function convertToInteractive(key) {\n",
              "        const element = document.querySelector('#df-26155ae8-2169-482f-8f70-c200c499e208');\n",
              "        const dataTable =\n",
              "          await google.colab.kernel.invokeFunction('convertToInteractive',\n",
              "                                                    [key], {});\n",
              "        if (!dataTable) return;\n",
              "\n",
              "        const docLinkHtml = 'Like what you see? Visit the ' +\n",
              "          '<a target=\"_blank\" href=https://colab.research.google.com/notebooks/data_table.ipynb>data table notebook</a>'\n",
              "          + ' to learn more about interactive tables.';\n",
              "        element.innerHTML = '';\n",
              "        dataTable['output_type'] = 'display_data';\n",
              "        await google.colab.output.renderOutput(dataTable, element);\n",
              "        const docLink = document.createElement('div');\n",
              "        docLink.innerHTML = docLinkHtml;\n",
              "        element.appendChild(docLink);\n",
              "      }\n",
              "    </script>\n",
              "  </div>\n",
              "\n",
              "\n",
              "<div id=\"df-16bac1ec-53c3-48a6-88db-de17d4aa9dc8\">\n",
              "  <button class=\"colab-df-quickchart\" onclick=\"quickchart('df-16bac1ec-53c3-48a6-88db-de17d4aa9dc8')\"\n",
              "            title=\"Suggest charts\"\n",
              "            style=\"display:none;\">\n",
              "\n",
              "<svg xmlns=\"http://www.w3.org/2000/svg\" height=\"24px\"viewBox=\"0 0 24 24\"\n",
              "     width=\"24px\">\n",
              "    <g>\n",
              "        <path d=\"M19 3H5c-1.1 0-2 .9-2 2v14c0 1.1.9 2 2 2h14c1.1 0 2-.9 2-2V5c0-1.1-.9-2-2-2zM9 17H7v-7h2v7zm4 0h-2V7h2v10zm4 0h-2v-4h2v4z\"/>\n",
              "    </g>\n",
              "</svg>\n",
              "  </button>\n",
              "\n",
              "<style>\n",
              "  .colab-df-quickchart {\n",
              "      --bg-color: #E8F0FE;\n",
              "      --fill-color: #1967D2;\n",
              "      --hover-bg-color: #E2EBFA;\n",
              "      --hover-fill-color: #174EA6;\n",
              "      --disabled-fill-color: #AAA;\n",
              "      --disabled-bg-color: #DDD;\n",
              "  }\n",
              "\n",
              "  [theme=dark] .colab-df-quickchart {\n",
              "      --bg-color: #3B4455;\n",
              "      --fill-color: #D2E3FC;\n",
              "      --hover-bg-color: #434B5C;\n",
              "      --hover-fill-color: #FFFFFF;\n",
              "      --disabled-bg-color: #3B4455;\n",
              "      --disabled-fill-color: #666;\n",
              "  }\n",
              "\n",
              "  .colab-df-quickchart {\n",
              "    background-color: var(--bg-color);\n",
              "    border: none;\n",
              "    border-radius: 50%;\n",
              "    cursor: pointer;\n",
              "    display: none;\n",
              "    fill: var(--fill-color);\n",
              "    height: 32px;\n",
              "    padding: 0;\n",
              "    width: 32px;\n",
              "  }\n",
              "\n",
              "  .colab-df-quickchart:hover {\n",
              "    background-color: var(--hover-bg-color);\n",
              "    box-shadow: 0 1px 2px rgba(60, 64, 67, 0.3), 0 1px 3px 1px rgba(60, 64, 67, 0.15);\n",
              "    fill: var(--button-hover-fill-color);\n",
              "  }\n",
              "\n",
              "  .colab-df-quickchart-complete:disabled,\n",
              "  .colab-df-quickchart-complete:disabled:hover {\n",
              "    background-color: var(--disabled-bg-color);\n",
              "    fill: var(--disabled-fill-color);\n",
              "    box-shadow: none;\n",
              "  }\n",
              "\n",
              "  .colab-df-spinner {\n",
              "    border: 2px solid var(--fill-color);\n",
              "    border-color: transparent;\n",
              "    border-bottom-color: var(--fill-color);\n",
              "    animation:\n",
              "      spin 1s steps(1) infinite;\n",
              "  }\n",
              "\n",
              "  @keyframes spin {\n",
              "    0% {\n",
              "      border-color: transparent;\n",
              "      border-bottom-color: var(--fill-color);\n",
              "      border-left-color: var(--fill-color);\n",
              "    }\n",
              "    20% {\n",
              "      border-color: transparent;\n",
              "      border-left-color: var(--fill-color);\n",
              "      border-top-color: var(--fill-color);\n",
              "    }\n",
              "    30% {\n",
              "      border-color: transparent;\n",
              "      border-left-color: var(--fill-color);\n",
              "      border-top-color: var(--fill-color);\n",
              "      border-right-color: var(--fill-color);\n",
              "    }\n",
              "    40% {\n",
              "      border-color: transparent;\n",
              "      border-right-color: var(--fill-color);\n",
              "      border-top-color: var(--fill-color);\n",
              "    }\n",
              "    60% {\n",
              "      border-color: transparent;\n",
              "      border-right-color: var(--fill-color);\n",
              "    }\n",
              "    80% {\n",
              "      border-color: transparent;\n",
              "      border-right-color: var(--fill-color);\n",
              "      border-bottom-color: var(--fill-color);\n",
              "    }\n",
              "    90% {\n",
              "      border-color: transparent;\n",
              "      border-bottom-color: var(--fill-color);\n",
              "    }\n",
              "  }\n",
              "</style>\n",
              "\n",
              "  <script>\n",
              "    async function quickchart(key) {\n",
              "      const quickchartButtonEl =\n",
              "        document.querySelector('#' + key + ' button');\n",
              "      quickchartButtonEl.disabled = true;  // To prevent multiple clicks.\n",
              "      quickchartButtonEl.classList.add('colab-df-spinner');\n",
              "      try {\n",
              "        const charts = await google.colab.kernel.invokeFunction(\n",
              "            'suggestCharts', [key], {});\n",
              "      } catch (error) {\n",
              "        console.error('Error during call to suggestCharts:', error);\n",
              "      }\n",
              "      quickchartButtonEl.classList.remove('colab-df-spinner');\n",
              "      quickchartButtonEl.classList.add('colab-df-quickchart-complete');\n",
              "    }\n",
              "    (() => {\n",
              "      let quickchartButtonEl =\n",
              "        document.querySelector('#df-16bac1ec-53c3-48a6-88db-de17d4aa9dc8 button');\n",
              "      quickchartButtonEl.style.display =\n",
              "        google.colab.kernel.accessAllowed ? 'block' : 'none';\n",
              "    })();\n",
              "  </script>\n",
              "</div>\n",
              "\n",
              "    </div>\n",
              "  </div>\n"
            ],
            "application/vnd.google.colaboratory.intrinsic+json": {
              "type": "dataframe",
              "variable_name": "mobile_banking_data",
              "summary": "{\n  \"name\": \"mobile_banking_data\",\n  \"rows\": 12,\n  \"fields\": [\n    {\n      \"column\": \"Year\",\n      \"properties\": {\n        \"dtype\": \"number\",\n        \"std\": 3,\n        \"min\": 2012,\n        \"max\": 2023,\n        \"num_unique_values\": 12,\n        \"samples\": [\n          2022,\n          2021,\n          2012\n        ],\n        \"semantic_type\": \"\",\n        \"description\": \"\"\n      }\n    },\n    {\n      \"column\": \"Value of mobile and internet banking transac (during reference yr) (% of GDP)\",\n      \"properties\": {\n        \"dtype\": \"number\",\n        \"std\": 148.14509796786894,\n        \"min\": 0.0183024698473085,\n        \"max\": 386.4312264266188,\n        \"num_unique_values\": 12,\n        \"samples\": [\n          364.4475678151106,\n          215.2046964500677,\n          0.0183024698473085\n        ],\n        \"semantic_type\": \"\",\n        \"description\": \"\"\n      }\n    }\n  ]\n}"
            }
          },
          "metadata": {},
          "execution_count": 43
        }
      ]
    },
    {
      "cell_type": "code",
      "source": [
        "# Group data by year\n",
        "groups = [mobile_banking_data[mobile_banking_data['Year'] == year]['Value of mobile and internet banking transac (during reference yr) (% of GDP)'] for year in mobile_banking_data['Year'].unique()]\n",
        "\n",
        "groups\n"
      ],
      "metadata": {
        "colab": {
          "base_uri": "https://localhost:8080/"
        },
        "id": "8f0VQEb-W2Pf",
        "outputId": "c600dd11-8a7b-4c28-d0d1-7bef467ec96a"
      },
      "execution_count": 44,
      "outputs": [
        {
          "output_type": "execute_result",
          "data": {
            "text/plain": [
              "[8    0.018302\n",
              " Name: Value of mobile and internet banking transac (during reference yr) (% of GDP), dtype: float64,\n",
              " 9    0.053323\n",
              " Name: Value of mobile and internet banking transac (during reference yr) (% of GDP), dtype: float64,\n",
              " 10    0.179806\n",
              " Name: Value of mobile and internet banking transac (during reference yr) (% of GDP), dtype: float64,\n",
              " 11    0.751752\n",
              " Name: Value of mobile and internet banking transac (during reference yr) (% of GDP), dtype: float64,\n",
              " 12    2.625385\n",
              " Name: Value of mobile and internet banking transac (during reference yr) (% of GDP), dtype: float64,\n",
              " 13    7.668067\n",
              " Name: Value of mobile and internet banking transac (during reference yr) (% of GDP), dtype: float64,\n",
              " 14    7.798309\n",
              " Name: Value of mobile and internet banking transac (during reference yr) (% of GDP), dtype: float64,\n",
              " 15    14.715812\n",
              " Name: Value of mobile and internet banking transac (during reference yr) (% of GDP), dtype: float64,\n",
              " 16    29.119607\n",
              " Name: Value of mobile and internet banking transac (during reference yr) (% of GDP), dtype: float64,\n",
              " 17    215.204696\n",
              " Name: Value of mobile and internet banking transac (during reference yr) (% of GDP), dtype: float64,\n",
              " 18    364.447568\n",
              " Name: Value of mobile and internet banking transac (during reference yr) (% of GDP), dtype: float64,\n",
              " 19    386.431226\n",
              " Name: Value of mobile and internet banking transac (during reference yr) (% of GDP), dtype: float64]"
            ]
          },
          "metadata": {},
          "execution_count": 44
        }
      ]
    },
    {
      "cell_type": "code",
      "source": [
        "# Perform one-way ANOVA\n",
        "anova_result = stats.f_oneway(*groups)\n",
        "print(anova_result)"
      ],
      "metadata": {
        "colab": {
          "base_uri": "https://localhost:8080/"
        },
        "id": "ReX-T70jXKiO",
        "outputId": "215332a1-cf86-44e0-c460-942b3a20bcce"
      },
      "execution_count": 46,
      "outputs": [
        {
          "output_type": "stream",
          "name": "stdout",
          "text": [
            "F_onewayResult(statistic=nan, pvalue=nan)\n"
          ]
        },
        {
          "output_type": "stream",
          "name": "stderr",
          "text": [
            "/usr/local/lib/python3.10/dist-packages/scipy/stats/_stats_py.py:4102: DegenerateDataWarning: all input arrays have length 1.  f_oneway requires that at least one input has length greater than 1.\n",
            "  if _f_oneway_is_too_small(samples):\n"
          ]
        }
      ]
    },
    {
      "cell_type": "code",
      "execution_count": 42,
      "metadata": {
        "colab": {
          "base_uri": "https://localhost:8080/"
        },
        "id": "jd2DJZltzHW9",
        "outputId": "9f7d70ed-eb98-494c-8bb8-3f6ca7df6209"
      },
      "outputs": [
        {
          "output_type": "execute_result",
          "data": {
            "text/plain": [
              "{'missing_data_z_stat': 2.3440361546924775,\n",
              " 'missing_data_p_value': 0.019076322101778374,\n",
              " 'outliers_p_value': 0.9965990095690176,\n",
              " 'anova_f_statistic': nan,\n",
              " 'anova_p_value': nan}"
            ]
          },
          "metadata": {},
          "execution_count": 42
        }
      ],
      "source": [
        "\n",
        "# Display the results\n",
        "{\n",
        "    \"missing_data_z_stat\": z_stat,\n",
        "    \"missing_data_p_value\": p_value_missing_data,\n",
        "    \"outliers_p_value\": p_value_outliers,\n",
        "    \"anova_f_statistic\": anova_result.statistic,\n",
        "    \"anova_p_value\": anova_result.pvalue\n",
        "}\n"
      ]
    },
    {
      "cell_type": "code",
      "source": [
        "# Select the variable of interest: 'Value of mobile and internet banking transactions (% of GDP)'\n",
        "# Drop any missing values to ensure proper statistical analysis\n",
        "mobile_banking_data = india_data_cleaned[['Year', 'Value of mobile and internet banking transac (during reference yr) (% of GDP)']].dropna()\n",
        "\n",
        "# Group the data by year\n",
        "# ANOVA will compare the mean of the variable across different years\n",
        "groups = [mobile_banking_data[mobile_banking_data['Year'] == year]['Value of mobile and internet banking transac (during reference yr) (% of GDP)'] for year in mobile_banking_data['Year'].unique()]\n",
        "\n",
        "# Perform one-way ANOVA\n",
        "anova_result = stats.f_oneway(*groups)\n",
        "\n",
        "# Display the results\n",
        "print(\"ANOVA F-Statistic:\", anova_result.statistic)\n",
        "print(\"ANOVA P-Value:\", anova_result.pvalue)\n",
        "\n",
        "# Interpretation:\n",
        "if anova_result.pvalue < 0.05:\n",
        "    print(\"The ANOVA test indicates that there is a significant difference in the mean values across different years.\")\n",
        "else:\n",
        "    print(\"The ANOVA test indicates that there is no significant difference in the mean values across different years.\")\n"
      ],
      "metadata": {
        "colab": {
          "base_uri": "https://localhost:8080/"
        },
        "id": "adF5tmUoYQWT",
        "outputId": "1eabe9ab-018f-4f9b-f3cd-50206722f464"
      },
      "execution_count": 47,
      "outputs": [
        {
          "output_type": "stream",
          "name": "stdout",
          "text": [
            "ANOVA F-Statistic: nan\n",
            "ANOVA P-Value: nan\n",
            "The ANOVA test indicates that there is no significant difference in the mean values across different years.\n"
          ]
        },
        {
          "output_type": "stream",
          "name": "stderr",
          "text": [
            "/usr/local/lib/python3.10/dist-packages/scipy/stats/_stats_py.py:4102: DegenerateDataWarning: all input arrays have length 1.  f_oneway requires that at least one input has length greater than 1.\n",
            "  if _f_oneway_is_too_small(samples):\n"
          ]
        }
      ]
    },
    {
      "cell_type": "markdown",
      "source": [
        "### Results Interpretation:\n",
        "\n",
        "1. **Hypothesis Testing for Missing Data Proportion:**\n",
        "   - **Z-Statistic:** 3.73\n",
        "   - **P-Value:** 0.00019\n",
        "   The p-value is significantly less than 0.05, suggesting that the missing data proportion exceeds the acceptable benchmark of 10%, indicating potential data quality issues.\n",
        "\n",
        "2. **Outlier Detection in 'Number of life insurance policies per 1,000 adults':**\n",
        "   - **P-Value:** 0.9966\n",
        "   The high p-value suggests that the outliers do not significantly affect the overall data distribution, indicating no major data quality issues.\n",
        "\n",
        "3. **ANOVA on 'Value of mobile and internet banking transactions':**\n",
        "   The ANOVA test could not be performed due to insufficient data points across the different years, indicating issues with data availability for this variable.\n"
      ],
      "metadata": {
        "id": "q97wYkzQzL33"
      }
    },
    {
      "cell_type": "code",
      "source": [],
      "metadata": {
        "id": "TigEO7gTzMLf"
      },
      "execution_count": null,
      "outputs": []
    }
  ]
}