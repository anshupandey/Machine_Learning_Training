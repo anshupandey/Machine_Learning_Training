{
 "cells": [
  {
   "cell_type": "code",
   "execution_count": 13,
   "id": "d3722032",
   "metadata": {},
   "outputs": [],
   "source": [
    "import requests\n",
    "import json"
   ]
  },
  {
   "cell_type": "code",
   "execution_count": 16,
   "id": "509eed7d",
   "metadata": {},
   "outputs": [],
   "source": [
    "data = {\"data\":[{\"cs\":650,\"geo\":\"France\",\"gen\":\"Female\",\"age\":45,\"bal\":124450,\"nop\":5,\"iam\":0}]}\n",
    "data = json.dumps(data)"
   ]
  },
  {
   "cell_type": "code",
   "execution_count": 17,
   "id": "3a3acb48",
   "metadata": {},
   "outputs": [
    {
     "data": {
      "text/plain": [
       "b'{\"data\": [{\"cs\": 650, \"geo\": \"France\", \"gen\": \"Female\", \"age\": 45, \"bal\": 124450, \"nop\": 5, \"iam\": 0, \"Prediction_proba\": [[0.0, 1.0]], \"Prediction\": [1]}]}'"
      ]
     },
     "execution_count": 17,
     "metadata": {},
     "output_type": "execute_result"
    }
   ],
   "source": [
    "url = \"http://127.0.0.1:5000/predict\"\n",
    "\n",
    "response = requests.post(url,data)\n",
    "response.content"
   ]
  },
  {
   "cell_type": "code",
   "execution_count": 18,
   "id": "03c2aab1",
   "metadata": {},
   "outputs": [],
   "source": [
    "data = {\"data\":[{\"cs\":650,\"geo\":\"France\",\"gen\":\"Female\",\"age\":45,\"bal\":124450,\"nop\":5,\"iam\":0},\n",
    "               {\"cs\":850,\"geo\":\"Germany\",\"gen\":\"Male\",\"age\":25,\"bal\":0,\"nop\":2,\"iam\":1}\n",
    "               ]}\n",
    "data = json.dumps(data)"
   ]
  },
  {
   "cell_type": "code",
   "execution_count": 19,
   "id": "1c1000f2",
   "metadata": {},
   "outputs": [
    {
     "data": {
      "text/plain": [
       "b'{\"data\": [{\"cs\": 650, \"geo\": \"France\", \"gen\": \"Female\", \"age\": 45, \"bal\": 124450, \"nop\": 5, \"iam\": 0, \"Prediction_proba\": [[0.0, 1.0]], \"Prediction\": [1]}, {\"cs\": 850, \"geo\": \"Germany\", \"gen\": \"Male\", \"age\": 25, \"bal\": 0, \"nop\": 2, \"iam\": 1, \"Prediction_proba\": [[0.9839447517989692, 0.01605524820103075]], \"Prediction\": [0]}]}'"
      ]
     },
     "execution_count": 19,
     "metadata": {},
     "output_type": "execute_result"
    }
   ],
   "source": [
    "url = \"http://127.0.0.1:5000/predict\"\n",
    "\n",
    "response = requests.post(url,data)\n",
    "response.content"
   ]
  },
  {
   "cell_type": "code",
   "execution_count": null,
   "id": "f2f9f6d5",
   "metadata": {},
   "outputs": [],
   "source": []
  }
 ],
 "metadata": {
  "kernelspec": {
   "display_name": "Python 3 (ipykernel)",
   "language": "python",
   "name": "python3"
  },
  "language_info": {
   "codemirror_mode": {
    "name": "ipython",
    "version": 3
   },
   "file_extension": ".py",
   "mimetype": "text/x-python",
   "name": "python",
   "nbconvert_exporter": "python",
   "pygments_lexer": "ipython3",
   "version": "3.9.7"
  }
 },
 "nbformat": 4,
 "nbformat_minor": 5
}
