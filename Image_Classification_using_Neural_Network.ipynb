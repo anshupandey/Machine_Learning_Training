{
  "nbformat": 4,
  "nbformat_minor": 0,
  "metadata": {
    "colab": {
      "name": "Image Classification using Neural Network.ipynb",
      "provenance": [],
      "authorship_tag": "ABX9TyOtT7Jy0hU1ghCwOe4e7vG/",
      "include_colab_link": true
    },
    "kernelspec": {
      "name": "python3",
      "display_name": "Python 3"
    },
    "language_info": {
      "name": "python"
    },
    "accelerator": "GPU"
  },
  "cells": [
    {
      "cell_type": "markdown",
      "metadata": {
        "id": "view-in-github",
        "colab_type": "text"
      },
      "source": [
        "<a href=\"https://colab.research.google.com/github/anshupandey/Machine_Learning_Training/blob/master/Image_Classification_using_Neural_Network.ipynb\" target=\"_parent\"><img src=\"https://colab.research.google.com/assets/colab-badge.svg\" alt=\"Open In Colab\"/></a>"
      ]
    },
    {
      "cell_type": "markdown",
      "metadata": {
        "id": "BqSwAuFtOvCJ"
      },
      "source": [
        "# Data Exploration"
      ]
    },
    {
      "cell_type": "code",
      "metadata": {
        "id": "uzZIPN6hOdTa"
      },
      "source": [
        "import matplotlib.pyplot as plt\n",
        "import numpy as np\n",
        "from tensorflow.keras.datasets import fashion_mnist\n",
        "(xtr,ytr),(xts,yts) = fashion_mnist.load_data()"
      ],
      "execution_count": 5,
      "outputs": []
    },
    {
      "cell_type": "code",
      "metadata": {
        "colab": {
          "base_uri": "https://localhost:8080/"
        },
        "id": "dCV74FnyPD4g",
        "outputId": "7c56f1e5-66f9-4250-cba8-f509e4ce7b67"
      },
      "source": [
        "\n",
        "names = [\"T-shirt/top\",\"Trouser\",\"Pullover\",\"Dress\",\"Coat\",\"Sandal\",\"Shirt\",\"Sneaker\",\"Bag\",\"Ankle boot\"]\n",
        "len(names)"
      ],
      "execution_count": 2,
      "outputs": [
        {
          "output_type": "execute_result",
          "data": {
            "text/plain": [
              "10"
            ]
          },
          "metadata": {
            "tags": []
          },
          "execution_count": 2
        }
      ]
    },
    {
      "cell_type": "code",
      "metadata": {
        "colab": {
          "base_uri": "https://localhost:8080/"
        },
        "id": "ySoMvAExPeLG",
        "outputId": "23fb48c5-a2a1-4d9b-d670-eae9be561fa4"
      },
      "source": [
        "print(xtr.shape)\n",
        "print(xts.shape)\n",
        "print(ytr.shape)\n",
        "print(yts.shape)"
      ],
      "execution_count": 4,
      "outputs": [
        {
          "output_type": "stream",
          "text": [
            "(60000, 28, 28)\n",
            "(10000, 28, 28)\n",
            "(60000,)\n",
            "(10000,)\n"
          ],
          "name": "stdout"
        }
      ]
    },
    {
      "cell_type": "code",
      "metadata": {
        "colab": {
          "base_uri": "https://localhost:8080/",
          "height": 265
        },
        "id": "FR5DK_JtPoe7",
        "outputId": "2140cd8a-5945-4483-f562-98f018516e05"
      },
      "source": [
        "plt.imshow(xtr[55180],cmap='gray')\n",
        "plt.show()"
      ],
      "execution_count": 24,
      "outputs": [
        {
          "output_type": "display_data",
          "data": {
            "image/png": "[encoded data removed]",
            "text/plain": [
              "<Figure size 432x288 with 1 Axes>"
            ]
          },
          "metadata": {
            "tags": [],
            "needs_background": "light"
          }
        }
      ]
    },
    {
      "cell_type": "code",
      "metadata": {
        "colab": {
          "base_uri": "https://localhost:8080/"
        },
        "id": "19lLa2gIP0JP",
        "outputId": "9dad8e56-2af6-42fb-bf82-a180e14ac020"
      },
      "source": [
        "ytr[55180]"
      ],
      "execution_count": 25,
      "outputs": [
        {
          "output_type": "execute_result",
          "data": {
            "text/plain": [
              "7"
            ]
          },
          "metadata": {
            "tags": []
          },
          "execution_count": 25
        }
      ]
    },
    {
      "cell_type": "code",
      "metadata": {
        "colab": {
          "base_uri": "https://localhost:8080/",
          "height": 35
        },
        "id": "no6YngLtP5_D",
        "outputId": "ac40e3c6-52ed-4352-bed1-6b9bf1664df0"
      },
      "source": [
        "names[ytr[55180]]"
      ],
      "execution_count": 26,
      "outputs": [
        {
          "output_type": "execute_result",
          "data": {
            "application/vnd.google.colaboratory.intrinsic+json": {
              "type": "string"
            },
            "text/plain": [
              "'Sneaker'"
            ]
          },
          "metadata": {
            "tags": []
          },
          "execution_count": 26
        }
      ]
    },
    {
      "cell_type": "markdown",
      "metadata": {
        "id": "4WYYkJz8SNmr"
      },
      "source": [
        "## Preprocessing of data"
      ]
    },
    {
      "cell_type": "code",
      "metadata": {
        "colab": {
          "base_uri": "https://localhost:8080/"
        },
        "id": "ptIZfTfhP_MS",
        "outputId": "f9ed1940-f745-4a0e-e36e-0a4a0d3ddffe"
      },
      "source": [
        "ytr"
      ],
      "execution_count": 27,
      "outputs": [
        {
          "output_type": "execute_result",
          "data": {
            "text/plain": [
              "array([9, 0, 0, ..., 3, 0, 5], dtype=uint8)"
            ]
          },
          "metadata": {
            "tags": []
          },
          "execution_count": 27
        }
      ]
    },
    {
      "cell_type": "code",
      "metadata": {
        "colab": {
          "base_uri": "https://localhost:8080/"
        },
        "id": "p05cqF0wSS8K",
        "outputId": "42076982-1200-4299-de86-aef1013e4410"
      },
      "source": [
        "# for multiclass classification, we need to onehotencode the labels\n",
        "from tensorflow.keras.utils import to_categorical\n",
        "ytr = to_categorical(ytr)\n",
        "print(ytr.shape)\n",
        "yts = to_categorical(yts)\n",
        "print(yts.shape)"
      ],
      "execution_count": 28,
      "outputs": [
        {
          "output_type": "stream",
          "text": [
            "(60000, 10)\n",
            "(10000, 10)\n"
          ],
          "name": "stdout"
        }
      ]
    },
    {
      "cell_type": "code",
      "metadata": {
        "colab": {
          "base_uri": "https://localhost:8080/"
        },
        "id": "TEFCZmH-Tcyp",
        "outputId": "35bcd5e7-3475-4dd0-dac7-c72be6a7c796"
      },
      "source": [
        "# converting images into channel format\n",
        "print(xtr.shape)\n",
        "print(xts.shape)"
      ],
      "execution_count": 29,
      "outputs": [
        {
          "output_type": "stream",
          "text": [
            "(60000, 28, 28)\n",
            "(10000, 28, 28)\n"
          ],
          "name": "stdout"
        }
      ]
    },
    {
      "cell_type": "markdown",
      "metadata": {
        "id": "SBoa0C9TUIzZ"
      },
      "source": [
        "## modelling of Neural Network"
      ]
    },
    {
      "cell_type": "code",
      "metadata": {
        "id": "hwpFURXGTohk"
      },
      "source": [
        "from tensorflow.keras import models,layers"
      ],
      "execution_count": 30,
      "outputs": []
    },
    {
      "cell_type": "code",
      "metadata": {
        "colab": {
          "base_uri": "https://localhost:8080/"
        },
        "id": "zS6wLfiTUOUW",
        "outputId": "be6733a0-61c8-4303-ed68-67ceabbca198"
      },
      "source": [
        "# creating input layer\n",
        "input_layer = layers.Input(shape=(28,28))\n",
        "\n",
        "# add a fltten layer, flatten layer flattens the array, e.g. a 5x5 array will be converted to 1x25\n",
        "# here we are using flatten layer to convert image of shape 28x28 to 1x784 so that each pixel can be fed to next layer\n",
        "ft = layers.Flatten()(input_layer)\n",
        "\n",
        "# add the first hidden layer -> full connnected layer where each neuron does weighted sum and activation function. such layers in tensorflow are termed as dense layers\n",
        "h1 = layers.Dense(200,activation='relu')(ft)\n",
        "\n",
        "# add the second hidden layer\n",
        "h2 = layers.Dense(100,activation='relu')(h1)\n",
        "\n",
        "# add the final output layer\n",
        "output_layer = layers.Dense(10,activation='softmax')(h2)\n",
        "\n",
        "\n",
        "model = models.Model(inputs=input_layer,outputs=output_layer)\n",
        "model.summary()"
      ],
      "execution_count": 32,
      "outputs": [
        {
          "output_type": "stream",
          "text": [
            "Model: \"model\"\n",
            "_________________________________________________________________\n",
            "Layer (type)                 Output Shape              Param #   \n",
            "=================================================================\n",
            "input_2 (InputLayer)         [(None, 28, 28)]          0         \n",
            "_________________________________________________________________\n",
            "flatten_1 (Flatten)          (None, 784)               0         \n",
            "_________________________________________________________________\n",
            "dense_2 (Dense)              (None, 200)               157000    \n",
            "_________________________________________________________________\n",
            "dense_3 (Dense)              (None, 100)               20100     \n",
            "_________________________________________________________________\n",
            "dense_4 (Dense)              (None, 10)                1010      \n",
            "=================================================================\n",
            "Total params: 178,110\n",
            "Trainable params: 178,110\n",
            "Non-trainable params: 0\n",
            "_________________________________________________________________\n"
          ],
          "name": "stdout"
        }
      ]
    },
    {
      "cell_type": "code",
      "metadata": {
        "colab": {
          "base_uri": "https://localhost:8080/"
        },
        "id": "Ml6t8T3yWEz3",
        "outputId": "d2c5ab93-03cb-4eb3-d2f1-372b5650d80e"
      },
      "source": [
        "# metrics - to check performance of the model e.g. - accuracy, recall, r2 score\n",
        "# optmizier - the optmizier which will update the weights and bais to minimize the error function, e.g. adam, sgd, RMSProp => we prefer using adam as it tunes learning rate automaticalllu\n",
        "# loss = how the overall error to be calculated, for regression - mse , for two class classification - binary_crossentropy, for multiclass classification - categorical_crossentropy\n",
        "\n",
        "model.compile(metrics=['accuracy'],optimizer='adam',loss='categorical_crossentropy')\n",
        "model.fit(xtr,ytr,epochs=10,batch_size=1000,validation_data=(xts,yts))"
      ],
      "execution_count": 33,
      "outputs": [
        {
          "output_type": "stream",
          "text": [
            "Epoch 1/10\n",
            "60/60 [==============================] - 3s 6ms/step - loss: 14.9010 - accuracy: 0.6726 - val_loss: 3.9205 - val_accuracy: 0.7576\n",
            "Epoch 2/10\n",
            "60/60 [==============================] - 0s 3ms/step - loss: 2.8561 - accuracy: 0.7793 - val_loss: 2.4687 - val_accuracy: 0.7815\n",
            "Epoch 3/10\n",
            "60/60 [==============================] - 0s 3ms/step - loss: 1.9074 - accuracy: 0.7994 - val_loss: 2.0760 - val_accuracy: 0.7708\n",
            "Epoch 4/10\n",
            "60/60 [==============================] - 0s 3ms/step - loss: 1.4913 - accuracy: 0.8126 - val_loss: 1.6537 - val_accuracy: 0.7996\n",
            "Epoch 5/10\n",
            "60/60 [==============================] - 0s 3ms/step - loss: 1.2242 - accuracy: 0.8220 - val_loss: 1.4432 - val_accuracy: 0.8021\n",
            "Epoch 6/10\n",
            "60/60 [==============================] - 0s 3ms/step - loss: 1.0940 - accuracy: 0.8254 - val_loss: 1.2215 - val_accuracy: 0.8149\n",
            "Epoch 7/10\n",
            "60/60 [==============================] - 0s 3ms/step - loss: 0.9000 - accuracy: 0.8366 - val_loss: 1.1960 - val_accuracy: 0.8115\n",
            "Epoch 8/10\n",
            "60/60 [==============================] - 0s 3ms/step - loss: 0.7544 - accuracy: 0.8462 - val_loss: 1.1118 - val_accuracy: 0.8125\n",
            "Epoch 9/10\n",
            "60/60 [==============================] - 0s 3ms/step - loss: 0.6997 - accuracy: 0.8479 - val_loss: 0.9499 - val_accuracy: 0.8221\n",
            "Epoch 10/10\n",
            "60/60 [==============================] - 0s 3ms/step - loss: 0.6116 - accuracy: 0.8540 - val_loss: 0.8655 - val_accuracy: 0.8253\n"
          ],
          "name": "stdout"
        },
        {
          "output_type": "execute_result",
          "data": {
            "text/plain": [
              "<tensorflow.python.keras.callbacks.History at 0x7f8b50039ad0>"
            ]
          },
          "metadata": {
            "tags": []
          },
          "execution_count": 33
        }
      ]
    },
    {
      "cell_type": "code",
      "metadata": {
        "colab": {
          "base_uri": "https://localhost:8080/",
          "height": 265
        },
        "id": "Vqxdhz-dZwfS",
        "outputId": "adb7d8b3-4fbf-4c99-c6b3-af00ce298dbb"
      },
      "source": [
        "plt.imshow(xts[450],cmap='gray')\n",
        "plt.show()"
      ],
      "execution_count": 40,
      "outputs": [
        {
          "output_type": "display_data",
          "data": {
            "image/png": "[encoded data removed]",
            "text/plain": [
              "<Figure size 432x288 with 1 Axes>"
            ]
          },
          "metadata": {
            "tags": [],
            "needs_background": "light"
          }
        }
      ]
    },
    {
      "cell_type": "code",
      "metadata": {
        "colab": {
          "base_uri": "https://localhost:8080/"
        },
        "id": "PYiJt5BlbNgs",
        "outputId": "20231894-6dfe-40a9-da08-e0fab22a1e24"
      },
      "source": [
        "prob = model.predict(xts[450].reshape(1,28,28))\n",
        "np.argmax(prob)"
      ],
      "execution_count": 41,
      "outputs": [
        {
          "output_type": "execute_result",
          "data": {
            "text/plain": [
              "3"
            ]
          },
          "metadata": {
            "tags": []
          },
          "execution_count": 41
        }
      ]
    },
    {
      "cell_type": "code",
      "metadata": {
        "colab": {
          "base_uri": "https://localhost:8080/",
          "height": 35
        },
        "id": "EWnAOm5EbQhy",
        "outputId": "9057e14f-4e69-4154-a50e-ddd3e876a460"
      },
      "source": [
        "names[3]"
      ],
      "execution_count": 42,
      "outputs": [
        {
          "output_type": "execute_result",
          "data": {
            "application/vnd.google.colaboratory.intrinsic+json": {
              "type": "string"
            },
            "text/plain": [
              "'Dress'"
            ]
          },
          "metadata": {
            "tags": []
          },
          "execution_count": 42
        }
      ]
    },
    {
      "cell_type": "code",
      "metadata": {
        "id": "E98ntROcbfCG"
      },
      "source": [
        "!wget -q https://cdn.shopify.com/s/files/1/0011/9783/4252/products/20_375a8763-f5d7-4184-a352-4523ef713733_900x.jpg"
      ],
      "execution_count": 43,
      "outputs": []
    },
    {
      "cell_type": "code",
      "metadata": {
        "id": "mUHvA1pYdwNE"
      },
      "source": [
        "!wget -q https://s-media-cache-ak0.pinimg.com/736x/f1/2a/28/f12a2840240023960fbfa92dc944a648.jpg"
      ],
      "execution_count": 59,
      "outputs": []
    },
    {
      "cell_type": "code",
      "metadata": {
        "colab": {
          "base_uri": "https://localhost:8080/"
        },
        "id": "Uy1cU3Ptc9WP",
        "outputId": "fc3888ef-fea2-40ad-f4a3-06a7bf7ed3a9"
      },
      "source": [
        "from tensorflow.keras.preprocessing import image\n",
        "img = image.img_to_array(image.load_img(\"f12a2840240023960fbfa92dc944a648.jpg\",target_size=(28,28),grayscale=True))\n",
        "img.shape"
      ],
      "execution_count": 60,
      "outputs": [
        {
          "output_type": "stream",
          "text": [
            "/usr/local/lib/python3.7/dist-packages/keras_preprocessing/image/utils.py:107: UserWarning: grayscale is deprecated. Please use color_mode = \"grayscale\"\n",
            "  warnings.warn('grayscale is deprecated. Please use '\n"
          ],
          "name": "stderr"
        },
        {
          "output_type": "execute_result",
          "data": {
            "text/plain": [
              "(28, 28, 1)"
            ]
          },
          "metadata": {
            "tags": []
          },
          "execution_count": 60
        }
      ]
    },
    {
      "cell_type": "code",
      "metadata": {
        "colab": {
          "base_uri": "https://localhost:8080/",
          "height": 265
        },
        "id": "bSmxkXMldHIk",
        "outputId": "6d1daf50-a92e-46d2-af00-b4c3dd373033"
      },
      "source": [
        "plt.imshow(img.reshape(28,28),cmap='gray')\n",
        "plt.show()"
      ],
      "execution_count": 61,
      "outputs": [
        {
          "output_type": "display_data",
          "data": {
            "image/png": "[encoded data removed]",
            "text/plain": [
              "<Figure size 432x288 with 1 Axes>"
            ]
          },
          "metadata": {
            "tags": [],
            "needs_background": "light"
          }
        }
      ]
    },
    {
      "cell_type": "code",
      "metadata": {
        "colab": {
          "base_uri": "https://localhost:8080/"
        },
        "id": "dbrheVTsdKVB",
        "outputId": "ad0bdabd-b10e-441d-aea7-2f7fe3fdd1a0"
      },
      "source": [
        "proba = model.predict(img.reshape(1,28,28))\n",
        "np.argmax(proba)"
      ],
      "execution_count": 62,
      "outputs": [
        {
          "output_type": "execute_result",
          "data": {
            "text/plain": [
              "6"
            ]
          },
          "metadata": {
            "tags": []
          },
          "execution_count": 62
        }
      ]
    },
    {
      "cell_type": "code",
      "metadata": {
        "colab": {
          "base_uri": "https://localhost:8080/",
          "height": 35
        },
        "id": "NqUwLieDdmuJ",
        "outputId": "452a5ca0-5d5a-4fee-a23f-d16242380340"
      },
      "source": [
        "names[6]"
      ],
      "execution_count": 64,
      "outputs": [
        {
          "output_type": "execute_result",
          "data": {
            "application/vnd.google.colaboratory.intrinsic+json": {
              "type": "string"
            },
            "text/plain": [
              "'Shirt'"
            ]
          },
          "metadata": {
            "tags": []
          },
          "execution_count": 64
        }
      ]
    },
    {
      "cell_type": "code",
      "metadata": {
        "id": "VsOK_ZUJdnk4"
      },
      "source": [
        ""
      ],
      "execution_count": null,
      "outputs": []
    }
  ]
}