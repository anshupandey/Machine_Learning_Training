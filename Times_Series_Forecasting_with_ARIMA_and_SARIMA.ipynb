{
  "cells": [
    {
      "cell_type": "markdown",
      "metadata": {
        "id": "view-in-github",
        "colab_type": "text"
      },
      "source": [
        "<a href=\"https://colab.research.google.com/github/anshupandey/Machine_Learning_Training/blob/master/Times_Series_Forecasting_with_ARIMA_and_SARIMA.ipynb\" target=\"_parent\"><img src=\"https://colab.research.google.com/assets/colab-badge.svg\" alt=\"Open In Colab\"/></a>"
      ]
    },
    {
      "cell_type": "markdown",
      "id": "589cebb3",
      "metadata": {
        "id": "589cebb3"
      },
      "source": [
        "# Time Series forecasting"
      ]
    },
    {
      "cell_type": "markdown",
      "id": "975359ed",
      "metadata": {
        "id": "975359ed"
      },
      "source": [
        "# Passenger Volume forecasting on singapore changi airport\n",
        "\n",
        "\n",
        "Technical steps:\n",
        "\n",
        "1. Standardize time series\n",
        "    - handle missing values\n",
        "    - handle noise/outliers\n",
        "    - Normalize the time series\n",
        "    \n",
        "2. Time Series EDA\n",
        "    - Decomposition of components\n",
        "    - Analyze trend, seasionality visually\n",
        "    - Perform Dicky fuller test to analyze if there is trend\n",
        "    - perform autocorrelation and partial autocorrelation analysis\n",
        "    - identify suitable values of p,d,q\n",
        "    \n",
        "3. Apply ARIMA\n",
        "    - apply ARIMA\n",
        "    - forecast \n",
        "    - evaluate forecast\n",
        "    - tune and optimize"
      ]
    },
    {
      "cell_type": "code",
      "execution_count": null,
      "id": "c23a20d0",
      "metadata": {
        "id": "c23a20d0"
      },
      "outputs": [],
      "source": [
        "import pandas as pd\n",
        "import numpy as np\n",
        "import seaborn as sns\n",
        "import matplotlib.pyplot as plt"
      ]
    },
    {
      "cell_type": "code",
      "execution_count": null,
      "id": "dd01b1ec",
      "metadata": {
        "id": "dd01b1ec",
        "outputId": "325a4bbe-ae19-44c1-e578-49ce05c6d869"
      },
      "outputs": [
        {
          "data": {
            "text/plain": [
              "(974, 3)"
            ]
          },
          "execution_count": 2,
          "metadata": {},
          "output_type": "execute_result"
        }
      ],
      "source": [
        "# load data\n",
        "df = pd.read_csv(r\"D:\\AI\\collabera\\thoughtspot\\changi_airport_data.csv\")\n",
        "df.shape"
      ]
    },
    {
      "cell_type": "code",
      "execution_count": null,
      "id": "895bba51",
      "metadata": {
        "id": "895bba51",
        "outputId": "9aa54eec-0422-4b8c-c799-c4dd2c1f7ced"
      },
      "outputs": [
        {
          "data": {
            "text/html": [
              "<div>\n",
              "<style scoped>\n",
              "    .dataframe tbody tr th:only-of-type {\n",
              "        vertical-align: middle;\n",
              "    }\n",
              "\n",
              "    .dataframe tbody tr th {\n",
              "        vertical-align: top;\n",
              "    }\n",
              "\n",
              "    .dataframe thead th {\n",
              "        text-align: right;\n",
              "    }\n",
              "</style>\n",
              "<table border=\"1\" class=\"dataframe\">\n",
              "  <thead>\n",
              "    <tr style=\"text-align: right;\">\n",
              "      <th></th>\n",
              "      <th>month</th>\n",
              "      <th>level_1</th>\n",
              "      <th>value</th>\n",
              "    </tr>\n",
              "  </thead>\n",
              "  <tbody>\n",
              "    <tr>\n",
              "      <th>0</th>\n",
              "      <td>1980-01</td>\n",
              "      <td>Total Aircraft Arrivals And Departures</td>\n",
              "      <td>6501</td>\n",
              "    </tr>\n",
              "    <tr>\n",
              "      <th>1</th>\n",
              "      <td>1980-01</td>\n",
              "      <td>Total Passengers</td>\n",
              "      <td>566879</td>\n",
              "    </tr>\n",
              "    <tr>\n",
              "      <th>2</th>\n",
              "      <td>1980-02</td>\n",
              "      <td>Total Aircraft Arrivals And Departures</td>\n",
              "      <td>6112</td>\n",
              "    </tr>\n",
              "    <tr>\n",
              "      <th>3</th>\n",
              "      <td>1980-02</td>\n",
              "      <td>Total Passengers</td>\n",
              "      <td>552263</td>\n",
              "    </tr>\n",
              "    <tr>\n",
              "      <th>4</th>\n",
              "      <td>1980-03</td>\n",
              "      <td>Total Aircraft Arrivals And Departures</td>\n",
              "      <td>6391</td>\n",
              "    </tr>\n",
              "  </tbody>\n",
              "</table>\n",
              "</div>"
            ],
            "text/plain": [
              "     month                                 level_1   value\n",
              "0  1980-01  Total Aircraft Arrivals And Departures    6501\n",
              "1  1980-01                        Total Passengers  566879\n",
              "2  1980-02  Total Aircraft Arrivals And Departures    6112\n",
              "3  1980-02                        Total Passengers  552263\n",
              "4  1980-03  Total Aircraft Arrivals And Departures    6391"
            ]
          },
          "execution_count": 3,
          "metadata": {},
          "output_type": "execute_result"
        }
      ],
      "source": [
        "df.head()"
      ]
    },
    {
      "cell_type": "code",
      "execution_count": null,
      "id": "8f63a1ca",
      "metadata": {
        "id": "8f63a1ca",
        "outputId": "183aaa43-6a5c-44f8-d7da-4411bf262f8c"
      },
      "outputs": [
        {
          "data": {
            "text/plain": [
              "(487, 3)"
            ]
          },
          "execution_count": 4,
          "metadata": {},
          "output_type": "execute_result"
        }
      ],
      "source": [
        "df = df[df['level_1']=='Total Passengers']\n",
        "df.shape"
      ]
    },
    {
      "cell_type": "code",
      "execution_count": null,
      "id": "80d761c6",
      "metadata": {
        "id": "80d761c6",
        "outputId": "8dd0b66e-7676-4024-aeba-8cfcb3481cb8"
      },
      "outputs": [
        {
          "data": {
            "text/html": [
              "<div>\n",
              "<style scoped>\n",
              "    .dataframe tbody tr th:only-of-type {\n",
              "        vertical-align: middle;\n",
              "    }\n",
              "\n",
              "    .dataframe tbody tr th {\n",
              "        vertical-align: top;\n",
              "    }\n",
              "\n",
              "    .dataframe thead th {\n",
              "        text-align: right;\n",
              "    }\n",
              "</style>\n",
              "<table border=\"1\" class=\"dataframe\">\n",
              "  <thead>\n",
              "    <tr style=\"text-align: right;\">\n",
              "      <th></th>\n",
              "      <th>month</th>\n",
              "      <th>value</th>\n",
              "    </tr>\n",
              "  </thead>\n",
              "  <tbody>\n",
              "    <tr>\n",
              "      <th>1</th>\n",
              "      <td>1980-01-01</td>\n",
              "      <td>566879</td>\n",
              "    </tr>\n",
              "    <tr>\n",
              "      <th>3</th>\n",
              "      <td>1980-02-01</td>\n",
              "      <td>552263</td>\n",
              "    </tr>\n",
              "    <tr>\n",
              "      <th>5</th>\n",
              "      <td>1980-03-01</td>\n",
              "      <td>597644</td>\n",
              "    </tr>\n",
              "    <tr>\n",
              "      <th>7</th>\n",
              "      <td>1980-04-01</td>\n",
              "      <td>561218</td>\n",
              "    </tr>\n",
              "    <tr>\n",
              "      <th>9</th>\n",
              "      <td>1980-05-01</td>\n",
              "      <td>587003</td>\n",
              "    </tr>\n",
              "  </tbody>\n",
              "</table>\n",
              "</div>"
            ],
            "text/plain": [
              "       month   value\n",
              "1 1980-01-01  566879\n",
              "3 1980-02-01  552263\n",
              "5 1980-03-01  597644\n",
              "7 1980-04-01  561218\n",
              "9 1980-05-01  587003"
            ]
          },
          "execution_count": 5,
          "metadata": {},
          "output_type": "execute_result"
        }
      ],
      "source": [
        "df.month = pd.to_datetime(df['month'])\n",
        "df = df[['month','value']]\n",
        "df2 = df.copy()\n",
        "df.head()"
      ]
    },
    {
      "cell_type": "code",
      "execution_count": null,
      "id": "9338c324",
      "metadata": {
        "id": "9338c324"
      },
      "outputs": [],
      "source": [
        "df.index = df.month\n",
        "df = df[['value']]\n",
        "df.head()"
      ]
    },
    {
      "cell_type": "code",
      "execution_count": null,
      "id": "8125441a",
      "metadata": {
        "id": "8125441a",
        "outputId": "2a2b7ed6-9380-420e-8b53-e6624fdc364b"
      },
      "outputs": [
        {
          "data": {
            "text/plain": [
              "(180, 1)"
            ]
          },
          "execution_count": 7,
          "metadata": {},
          "output_type": "execute_result"
        }
      ],
      "source": [
        "# taking data from 2004 to 2018\n",
        "df3 = df['2004-01-01':'2018-12-01']\n",
        "df3.shape"
      ]
    },
    {
      "cell_type": "code",
      "execution_count": null,
      "id": "65b30701",
      "metadata": {
        "id": "65b30701"
      },
      "outputs": [],
      "source": [
        "df3.head()"
      ]
    },
    {
      "cell_type": "code",
      "execution_count": null,
      "id": "e1224bb5",
      "metadata": {
        "id": "e1224bb5"
      },
      "outputs": [],
      "source": [
        "sns.set_theme()"
      ]
    },
    {
      "cell_type": "code",
      "execution_count": null,
      "id": "f4d504e3",
      "metadata": {
        "id": "f4d504e3",
        "outputId": "54e97803-1f48-4150-cfa0-4a0c3074a215"
      },
      "outputs": [
        {
          "data": {
            "image/png": "[encoded data removed]",
            "text/plain": [
              "<Figure size 864x360 with 1 Axes>"
            ]
          },
          "metadata": {},
          "output_type": "display_data"
        }
      ],
      "source": [
        "plt.figure(figsize=(12,5))\n",
        "plt.plot(df3)\n",
        "plt.show()"
      ]
    },
    {
      "cell_type": "markdown",
      "id": "111fe3b1",
      "metadata": {
        "id": "111fe3b1"
      },
      "source": [
        "### Dicky Fuller test to check for stationarity\n",
        "\n",
        "- Null Hypothesis: Data is not stationary, it has trend\n",
        "\n",
        "CI = 95%, alpha = 1 - CI = 1 - 0.95 = 0.05\n",
        "\n",
        "    - if pvalue>alpha = null hypothesis is accepted\n",
        "    - if pvalue< alpha = null hypothesis is rejected"
      ]
    },
    {
      "cell_type": "code",
      "execution_count": null,
      "id": "86af42f7",
      "metadata": {
        "id": "86af42f7"
      },
      "outputs": [],
      "source": [
        "from statsmodels.tsa.stattools import adfuller"
      ]
    },
    {
      "cell_type": "code",
      "execution_count": null,
      "id": "8e9c1de6",
      "metadata": {
        "id": "8e9c1de6"
      },
      "outputs": [],
      "source": [
        "adfuller(df3['value'])"
      ]
    },
    {
      "cell_type": "code",
      "execution_count": null,
      "id": "2a4dce88",
      "metadata": {
        "id": "2a4dce88",
        "outputId": "22f397b2-29bf-4df6-eccc-48ec228052a8"
      },
      "outputs": [
        {
          "data": {
            "image/png": "[encoded data removed]",
            "text/plain": [
              "<Figure size 864x360 with 1 Axes>"
            ]
          },
          "metadata": {},
          "output_type": "display_data"
        }
      ],
      "source": [
        "df3log = np.log(df3)\n",
        "plt.figure(figsize=(12,5))\n",
        "plt.plot(df3log)\n",
        "plt.show()"
      ]
    },
    {
      "cell_type": "code",
      "execution_count": null,
      "id": "acf235b0",
      "metadata": {
        "id": "acf235b0"
      },
      "outputs": [],
      "source": [
        "df3logdiff = df3log - df3log.shift(1)\n",
        "df3logdiff.head()"
      ]
    },
    {
      "cell_type": "code",
      "execution_count": null,
      "id": "05d78dc7",
      "metadata": {
        "id": "05d78dc7"
      },
      "outputs": [],
      "source": [
        "plt.figure(figsize=(12,5))\n",
        "plt.plot(df3logdiff)\n",
        "plt.show()"
      ]
    },
    {
      "cell_type": "code",
      "execution_count": null,
      "id": "cd7a2fb3",
      "metadata": {
        "id": "cd7a2fb3"
      },
      "outputs": [],
      "source": [
        "adfuller(df3logdiff['value'].dropna())"
      ]
    },
    {
      "cell_type": "code",
      "execution_count": null,
      "id": "6c0d484b",
      "metadata": {
        "id": "6c0d484b"
      },
      "outputs": [],
      "source": [
        "import pmdarima"
      ]
    },
    {
      "cell_type": "code",
      "execution_count": null,
      "id": "6a3d92b0",
      "metadata": {
        "id": "6a3d92b0"
      },
      "outputs": [],
      "source": [
        "from pmdarima.arima import auto_arima"
      ]
    },
    {
      "cell_type": "code",
      "execution_count": null,
      "id": "3b4da165",
      "metadata": {
        "id": "3b4da165",
        "outputId": "06dfdb00-1ed1-4749-aed0-613ea3d0d6da"
      },
      "outputs": [
        {
          "name": "stdout",
          "output_type": "stream",
          "text": [
            "Performing stepwise search to minimize aic\n",
            " ARIMA(1,1,1)(0,0,0)[0] intercept   : AIC=-485.213, Time=0.66 sec\n",
            " ARIMA(0,1,0)(0,0,0)[0] intercept   : AIC=-417.068, Time=0.07 sec\n",
            " ARIMA(1,1,0)(0,0,0)[0] intercept   : AIC=-428.011, Time=0.11 sec\n",
            " ARIMA(0,1,1)(0,0,0)[0] intercept   : AIC=-483.558, Time=0.20 sec\n",
            " ARIMA(0,1,0)(0,0,0)[0]             : AIC=-418.275, Time=0.06 sec\n",
            " ARIMA(2,1,1)(0,0,0)[0] intercept   : AIC=-498.949, Time=0.76 sec\n",
            " ARIMA(2,1,0)(0,0,0)[0] intercept   : AIC=-464.045, Time=0.39 sec\n",
            " ARIMA(3,1,1)(0,0,0)[0] intercept   : AIC=-497.320, Time=1.07 sec\n",
            " ARIMA(2,1,2)(0,0,0)[0] intercept   : AIC=-496.375, Time=1.20 sec\n",
            " ARIMA(1,1,2)(0,0,0)[0] intercept   : AIC=-496.085, Time=0.56 sec\n",
            " ARIMA(3,1,0)(0,0,0)[0] intercept   : AIC=-472.341, Time=0.40 sec\n",
            " ARIMA(3,1,2)(0,0,0)[0] intercept   : AIC=-497.143, Time=1.20 sec\n",
            " ARIMA(2,1,1)(0,0,0)[0]             : AIC=-482.497, Time=0.32 sec\n",
            "\n",
            "Best model:  ARIMA(2,1,1)(0,0,0)[0] intercept\n",
            "Total fit time: 7.029 seconds\n"
          ]
        },
        {
          "data": {
            "text/plain": [
              "ARIMA(order=(2, 1, 1), scoring_args={}, suppress_warnings=True)"
            ]
          },
          "execution_count": 19,
          "metadata": {},
          "output_type": "execute_result"
        }
      ],
      "source": [
        "model = auto_arima(df3log,suppress_warnings=True,seasonal=False,trace=True,\n",
        "                  start_p=1,start_q=1,d=1,max_p=3,max_q=3)\n",
        "model.fit(df3log)"
      ]
    },
    {
      "cell_type": "code",
      "execution_count": null,
      "id": "0ccb60d9",
      "metadata": {
        "id": "0ccb60d9",
        "outputId": "2f9385e8-ef99-4f59-f391-83d34b1a0f26"
      },
      "outputs": [
        {
          "data": {
            "text/plain": [
              "(12, 1)"
            ]
          },
          "execution_count": 20,
          "metadata": {},
          "output_type": "execute_result"
        }
      ],
      "source": [
        "test = df['2019-01-01':'2019-12-01']\n",
        "test.shape"
      ]
    },
    {
      "cell_type": "code",
      "execution_count": null,
      "id": "acac852c",
      "metadata": {
        "id": "acac852c"
      },
      "outputs": [],
      "source": [
        "forecast = model.predict(n_periods=12)\n",
        "forecast = pd.DataFrame(np.exp(forecast,),index=test.index)\n",
        "forecast"
      ]
    },
    {
      "cell_type": "code",
      "execution_count": null,
      "id": "c3fd8807",
      "metadata": {
        "id": "c3fd8807"
      },
      "outputs": [],
      "source": [
        "plt.figure(figsize=(12,5))\n",
        "plt.plot(test,c='g')\n",
        "plt.plot(forecast,c='r')\n",
        "plt.show()"
      ]
    },
    {
      "cell_type": "code",
      "execution_count": null,
      "id": "d0be695e",
      "metadata": {
        "id": "d0be695e"
      },
      "outputs": [],
      "source": [
        "from sklearn.metrics import mean_absolute_percentage_error"
      ]
    },
    {
      "cell_type": "code",
      "execution_count": null,
      "id": "b0cb81c8",
      "metadata": {
        "id": "b0cb81c8",
        "outputId": "be4699b8-95f2-4f01-93c9-7e616ea0a9b1"
      },
      "outputs": [
        {
          "data": {
            "text/plain": [
              "0.04076955790854319"
            ]
          },
          "execution_count": 24,
          "metadata": {},
          "output_type": "execute_result"
        }
      ],
      "source": [
        "mean_absolute_percentage_error(test,forecast)"
      ]
    },
    {
      "cell_type": "markdown",
      "id": "583bc433",
      "metadata": {
        "id": "583bc433"
      },
      "source": [
        "# Seasonal ARIMA"
      ]
    },
    {
      "cell_type": "code",
      "execution_count": null,
      "id": "676e1f59",
      "metadata": {
        "id": "676e1f59"
      },
      "outputs": [],
      "source": [
        "model = auto_arima(df3log,suppress_warnings=True,seasonal=True,\n",
        "                   start_P=0,start_Q=0,max_P=3,max_Q=3,trace=True,m=12,\n",
        "                  start_p=1,start_q=1,d=1,max_p=3,max_q=3)\n",
        "model.fit(df3log)"
      ]
    },
    {
      "cell_type": "code",
      "execution_count": null,
      "id": "347ff31b",
      "metadata": {
        "id": "347ff31b",
        "outputId": "3e2223af-5f9c-4a0a-8be4-ff3c28a1b8ba"
      },
      "outputs": [
        {
          "data": {
            "text/plain": [
              "(12, 1)"
            ]
          },
          "execution_count": 26,
          "metadata": {},
          "output_type": "execute_result"
        }
      ],
      "source": [
        "test = df['2019-01-01':'2019-12-01']\n",
        "test.shape"
      ]
    },
    {
      "cell_type": "code",
      "execution_count": null,
      "id": "ffcee337",
      "metadata": {
        "id": "ffcee337"
      },
      "outputs": [],
      "source": [
        "forecast = model.predict(n_periods=12)\n",
        "forecast = pd.DataFrame(np.exp(forecast,),index=test.index)\n",
        "forecast"
      ]
    },
    {
      "cell_type": "code",
      "execution_count": null,
      "id": "ef0533eb",
      "metadata": {
        "scrolled": true,
        "id": "ef0533eb",
        "outputId": "2a44b96b-b5d5-4873-9077-57882bd38f68"
      },
      "outputs": [
        {
          "data": {
            "image/png": "[encoded data removed]",
            "text/plain": [
              "<Figure size 864x360 with 1 Axes>"
            ]
          },
          "metadata": {},
          "output_type": "display_data"
        }
      ],
      "source": [
        "plt.figure(figsize=(12,5))\n",
        "plt.plot(test,c='g')\n",
        "plt.plot(forecast,c='r')\n",
        "plt.show()"
      ]
    },
    {
      "cell_type": "code",
      "execution_count": null,
      "id": "78a4e1f7",
      "metadata": {
        "id": "78a4e1f7"
      },
      "outputs": [],
      "source": [
        "from sklearn.metrics import mean_absolute_percentage_error"
      ]
    },
    {
      "cell_type": "code",
      "execution_count": null,
      "id": "d549ea43",
      "metadata": {
        "id": "d549ea43",
        "outputId": "cc4aa391-e31f-4942-a97e-e1fa5291fd80"
      },
      "outputs": [
        {
          "data": {
            "text/plain": [
              "0.009119066986778357"
            ]
          },
          "execution_count": 30,
          "metadata": {},
          "output_type": "execute_result"
        }
      ],
      "source": [
        "mean_absolute_percentage_error(test,forecast)"
      ]
    },
    {
      "cell_type": "code",
      "execution_count": null,
      "id": "b1b17129",
      "metadata": {
        "id": "b1b17129",
        "outputId": "d0019caa-b584-45f3-8ca8-305205e49e8f"
      },
      "outputs": [
        {
          "data": {
            "text/plain": [
              "'1.8.4'"
            ]
          },
          "execution_count": 31,
          "metadata": {},
          "output_type": "execute_result"
        }
      ],
      "source": [
        "import pmdarima\n",
        "pmdarima.__version__"
      ]
    },
    {
      "cell_type": "code",
      "execution_count": null,
      "id": "e17b4867",
      "metadata": {
        "id": "e17b4867",
        "outputId": "c4231cb2-656b-4bc5-f11b-50927197974a"
      },
      "outputs": [
        {
          "data": {
            "text/plain": [
              "'0.12.2'"
            ]
          },
          "execution_count": 32,
          "metadata": {},
          "output_type": "execute_result"
        }
      ],
      "source": [
        "import statsmodels\n",
        "statsmodels.__version__"
      ]
    }
  ],
  "metadata": {
    "kernelspec": {
      "display_name": "Python 3",
      "language": "python",
      "name": "python3"
    },
    "language_info": {
      "codemirror_mode": {
        "name": "ipython",
        "version": 3
      },
      "file_extension": ".py",
      "mimetype": "text/x-python",
      "name": "python",
      "nbconvert_exporter": "python",
      "pygments_lexer": "ipython3",
      "version": "3.8.8"
    },
    "colab": {
      "name": "Times Series Forecasting with ARIMA and SARIMA.ipynb",
      "provenance": [],
      "collapsed_sections": [],
      "include_colab_link": true
    }
  },
  "nbformat": 4,
  "nbformat_minor": 5
}