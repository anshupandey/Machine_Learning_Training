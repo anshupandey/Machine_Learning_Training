{
 "cells": [
  {
   "cell_type": "markdown",
   "id": "b99b20e8",
   "metadata": {},
   "source": [
    "## REST Client"
   ]
  },
  {
   "cell_type": "code",
   "execution_count": 1,
   "id": "cc988532",
   "metadata": {},
   "outputs": [
    {
     "name": "stdout",
     "output_type": "stream",
     "text": [
      "{\"values\": [[11.8, 40.66, 1017.13, 97.2]]}\n"
     ]
    }
   ],
   "source": [
    "import json\n",
    "import requests\n",
    "\n",
    "# JSON = javascript object notation\n",
    "data = {\"values\":[[11.8,40.66,1017.13,97.2]]}\n",
    "data = json.dumps(data)\n",
    "print(data)"
   ]
  },
  {
   "cell_type": "code",
   "execution_count": 2,
   "id": "38653a23",
   "metadata": {},
   "outputs": [],
   "source": [
    "url=\"http://127.0.0.1:5000/predict\"\n",
    "response = requests.post(url,data)"
   ]
  },
  {
   "cell_type": "code",
   "execution_count": 3,
   "id": "88ef41e0",
   "metadata": {},
   "outputs": [
    {
     "data": {
      "text/plain": [
       "b'Prediction for today is = 469.5702658825434 MW'"
      ]
     },
     "execution_count": 3,
     "metadata": {},
     "output_type": "execute_result"
    }
   ],
   "source": [
    "response.content"
   ]
  },
  {
   "cell_type": "code",
   "execution_count": 13,
   "id": "a62cce8e",
   "metadata": {},
   "outputs": [],
   "source": [
    "import json"
   ]
  },
  {
   "cell_type": "code",
   "execution_count": 14,
   "id": "c012a2c6",
   "metadata": {},
   "outputs": [
    {
     "data": {
      "text/plain": [
       "'json'"
      ]
     },
     "execution_count": 14,
     "metadata": {},
     "output_type": "execute_result"
    }
   ],
   "source": [
    "json.__name__"
   ]
  },
  {
   "cell_type": "code",
   "execution_count": 15,
   "id": "a3441290",
   "metadata": {},
   "outputs": [],
   "source": [
    "import fujitsu"
   ]
  },
  {
   "cell_type": "code",
   "execution_count": 16,
   "id": "ba4c7fee",
   "metadata": {},
   "outputs": [
    {
     "data": {
      "text/plain": [
       "6"
      ]
     },
     "execution_count": 16,
     "metadata": {},
     "output_type": "execute_result"
    }
   ],
   "source": [
    "fujitsu.myfun(4,2)"
   ]
  },
  {
   "cell_type": "code",
   "execution_count": 17,
   "id": "4be027c7",
   "metadata": {},
   "outputs": [
    {
     "data": {
      "text/plain": [
       "'Hello World'"
      ]
     },
     "execution_count": 17,
     "metadata": {},
     "output_type": "execute_result"
    }
   ],
   "source": [
    "fujitsu.greet()"
   ]
  },
  {
   "cell_type": "code",
   "execution_count": 18,
   "id": "ff226d84",
   "metadata": {},
   "outputs": [
    {
     "data": {
      "text/plain": [
       "'fujitsu'"
      ]
     },
     "execution_count": 18,
     "metadata": {},
     "output_type": "execute_result"
    }
   ],
   "source": [
    "fujitsu.__name__"
   ]
  },
  {
   "cell_type": "code",
   "execution_count": 20,
   "id": "474915ec",
   "metadata": {},
   "outputs": [],
   "source": [
    "from numpy import linalg"
   ]
  },
  {
   "cell_type": "code",
   "execution_count": 21,
   "id": "b25e9fa1",
   "metadata": {},
   "outputs": [
    {
     "data": {
      "text/plain": [
       "'numpy.linalg'"
      ]
     },
     "execution_count": 21,
     "metadata": {},
     "output_type": "execute_result"
    }
   ],
   "source": [
    "linalg.__name__"
   ]
  },
  {
   "cell_type": "code",
   "execution_count": 1,
   "id": "0ba2c6f3",
   "metadata": {},
   "outputs": [],
   "source": [
    "import fujitsu"
   ]
  },
  {
   "cell_type": "code",
   "execution_count": 2,
   "id": "dd0f0764",
   "metadata": {},
   "outputs": [],
   "source": [
    "import sys"
   ]
  },
  {
   "cell_type": "code",
   "execution_count": null,
   "id": "223a633a",
   "metadata": {},
   "outputs": [],
   "source": [
    "sys.path.append(\"\")"
   ]
  }
 ],
 "metadata": {
  "kernelspec": {
   "display_name": "Python 3 (ipykernel)",
   "language": "python",
   "name": "python3"
  },
  "language_info": {
   "codemirror_mode": {
    "name": "ipython",
    "version": 3
   },
   "file_extension": ".py",
   "mimetype": "text/x-python",
   "name": "python",
   "nbconvert_exporter": "python",
   "pygments_lexer": "ipython3",
   "version": "3.9.7"
  }
 },
 "nbformat": 4,
 "nbformat_minor": 5
}
