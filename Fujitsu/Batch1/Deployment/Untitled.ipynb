{
 "cells": [
  {
   "cell_type": "code",
   "execution_count": 1,
   "id": "7e8aea01",
   "metadata": {},
   "outputs": [],
   "source": [
    "import urllib.request\n",
    "import json\n",
    "import os\n",
    "import ssl\n"
   ]
  },
  {
   "cell_type": "code",
   "execution_count": 3,
   "id": "47ac7fa8",
   "metadata": {},
   "outputs": [],
   "source": [
    "def allowSelfSignedHttps(allowed):\n",
    "    # bypass the server certificate verification on client side\n",
    "    if allowed and not os.environ.get('PYTHONHTTPSVERIFY', '') and getattr(ssl, '_create_unverified_context', None):\n",
    "        ssl._create_default_https_context = ssl._create_unverified_context\n",
    "\n",
    "allowSelfSignedHttps(True) # this line is needed if you use self-signed certificate in your scoring service.\n",
    "\n",
    "# Request data goes here\n",
    "# The example below assumes JSON formatting which may be updated\n",
    "# depending on the format your endpoint expects.\n",
    "# More information can be found here:\n",
    "# https://docs.microsoft.com/azure/machine-learning/how-to-deploy-advanced-entry-script\n",
    "data = {\n",
    "    \"Inputs\": {\n",
    "        \"WebServiceInput0\": [\n",
    "      {\n",
    "        \"AT\": 8.34,\n",
    "        \"V\": 40.77,\n",
    "        \"AP\": 1010.84,\n",
    "        \"RH\": 90.01\n",
    "      },\n",
    "      {\n",
    "        \"AT\": 23.64,\n",
    "        \"V\": 58.49,\n",
    "        \"AP\": 1011.4,\n",
    "        \"RH\": 74.2\n",
    "      },\n",
    "      {\n",
    "        \"AT\": 29.74,\n",
    "        \"V\": 56.9,\n",
    "        \"AP\": 1007.15,\n",
    "        \"RH\": 41.91\n",
    "      }\n",
    "    ]\n",
    "    },\n",
    "    \"GlobalParameters\": {\n",
    "    }\n",
    "}\n",
    "\n",
    "body = str.encode(json.dumps(data))\n",
    "\n",
    "url = 'http://1a6abeec-867b-441d-b683-e941f5dbffdc.westus.azurecontainer.io/score'\n",
    "api_key = 'rcyGWdyImYx8jHRghlInKRZBb3Xmepo3' # Replace this with the API key for the web service\n",
    "headers = {'Content-Type':'application/json', 'Authorization':('Bearer '+ api_key)}\n"
   ]
  },
  {
   "cell_type": "code",
   "execution_count": 5,
   "id": "eb67ec10",
   "metadata": {},
   "outputs": [
    {
     "name": "stdout",
     "output_type": "stream",
     "text": [
      "{\"Results\": {\"WebServiceOutput0\": [{\"AT\": 8.34, \"V\": 40.77, \"AP\": 1010.84, \"RH\": 90.01, \"Scored Labels\": 477.06886817963976}, {\"AT\": 23.64, \"V\": 58.49, \"AP\": 1011.4, \"RH\": 74.2, \"Scored Labels\": 445.2433125928378}, {\"AT\": 29.74, \"V\": 56.9, \"AP\": 1007.15, \"RH\": 41.91, \"Scored Labels\": 438.38956763360113}]}}\n"
     ]
    }
   ],
   "source": [
    "req = urllib.request.Request(url, body, headers)\n",
    "\n",
    "try:\n",
    "    response = urllib.request.urlopen(req)\n",
    "\n",
    "    result = response.read()\n",
    "    print(result.decode())\n",
    "except urllib.error.HTTPError as error:\n",
    "    print(\"The request failed with status code: \" + str(error.code))\n",
    "\n",
    "    # Print the headers - they include the requert ID and the timestamp, which are useful for debugging the failure\n",
    "    print(error.info())\n",
    "    print(error.read().decode(\"utf8\", 'ignore'))"
   ]
  },
  {
   "cell_type": "code",
   "execution_count": 7,
   "id": "a5021358",
   "metadata": {},
   "outputs": [
    {
     "data": {
      "text/plain": [
       "{'Results': {'WebServiceOutput0': [{'AT': 8.34,\n",
       "    'V': 40.77,\n",
       "    'AP': 1010.84,\n",
       "    'RH': 90.01,\n",
       "    'Scored Labels': 477.06886817963976},\n",
       "   {'AT': 23.64,\n",
       "    'V': 58.49,\n",
       "    'AP': 1011.4,\n",
       "    'RH': 74.2,\n",
       "    'Scored Labels': 445.2433125928378},\n",
       "   {'AT': 29.74,\n",
       "    'V': 56.9,\n",
       "    'AP': 1007.15,\n",
       "    'RH': 41.91,\n",
       "    'Scored Labels': 438.38956763360113}]}}"
      ]
     },
     "execution_count": 7,
     "metadata": {},
     "output_type": "execute_result"
    }
   ],
   "source": [
    "json.loads(result.decode())"
   ]
  },
  {
   "cell_type": "code",
   "execution_count": null,
   "id": "69dae8f2",
   "metadata": {},
   "outputs": [],
   "source": []
  }
 ],
 "metadata": {
  "kernelspec": {
   "display_name": "Python 3 (ipykernel)",
   "language": "python",
   "name": "python3"
  },
  "language_info": {
   "codemirror_mode": {
    "name": "ipython",
    "version": 3
   },
   "file_extension": ".py",
   "mimetype": "text/x-python",
   "name": "python",
   "nbconvert_exporter": "python",
   "pygments_lexer": "ipython3",
   "version": "3.9.7"
  }
 },
 "nbformat": 4,
 "nbformat_minor": 5
}
