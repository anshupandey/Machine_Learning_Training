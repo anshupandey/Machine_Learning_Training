{
 "cells": [
  {
   "cell_type": "markdown",
   "id": "032082b6",
   "metadata": {},
   "source": [
    "# Decorator in python"
   ]
  },
  {
   "cell_type": "code",
   "execution_count": 1,
   "id": "570b37e6",
   "metadata": {},
   "outputs": [],
   "source": [
    "def myfun(a,b):\n",
    "    c = a+b\n",
    "    return c"
   ]
  },
  {
   "cell_type": "code",
   "execution_count": 2,
   "id": "1ac2aadc",
   "metadata": {},
   "outputs": [
    {
     "data": {
      "text/plain": [
       "7"
      ]
     },
     "execution_count": 2,
     "metadata": {},
     "output_type": "execute_result"
    }
   ],
   "source": [
    "myfun(4,3)"
   ]
  },
  {
   "cell_type": "code",
   "execution_count": 5,
   "id": "427fdf93",
   "metadata": {},
   "outputs": [],
   "source": [
    "def yourfun(j,k,m=6):\n",
    "    c = myfun(j,k)\n",
    "    return c+m"
   ]
  },
  {
   "cell_type": "code",
   "execution_count": 6,
   "id": "da4f8cdf",
   "metadata": {},
   "outputs": [
    {
     "data": {
      "text/plain": [
       "9"
      ]
     },
     "execution_count": 6,
     "metadata": {},
     "output_type": "execute_result"
    }
   ],
   "source": [
    "yourfun(4,2,3)"
   ]
  },
  {
   "cell_type": "code",
   "execution_count": 7,
   "id": "d15ce204",
   "metadata": {},
   "outputs": [],
   "source": [
    "def callfun(fun):\n",
    "    out = fun(4,2)\n",
    "    return out"
   ]
  },
  {
   "cell_type": "code",
   "execution_count": 8,
   "id": "bd12acbc",
   "metadata": {},
   "outputs": [
    {
     "data": {
      "text/plain": [
       "6"
      ]
     },
     "execution_count": 8,
     "metadata": {},
     "output_type": "execute_result"
    }
   ],
   "source": [
    "callfun(myfun)"
   ]
  },
  {
   "cell_type": "code",
   "execution_count": 9,
   "id": "1d7f7159",
   "metadata": {},
   "outputs": [
    {
     "data": {
      "text/plain": [
       "12"
      ]
     },
     "execution_count": 9,
     "metadata": {},
     "output_type": "execute_result"
    }
   ],
   "source": [
    "callfun(yourfun)"
   ]
  },
  {
   "cell_type": "code",
   "execution_count": 10,
   "id": "67c13a54",
   "metadata": {},
   "outputs": [],
   "source": [
    "def myfun(a,b,c=3):\n",
    "    def fun1(m,n):\n",
    "        return m*n\n",
    "    out = fun1(a,b)\n",
    "    return out+c"
   ]
  },
  {
   "cell_type": "code",
   "execution_count": 11,
   "id": "dc0964c0",
   "metadata": {},
   "outputs": [
    {
     "data": {
      "text/plain": [
       "9"
      ]
     },
     "execution_count": 11,
     "metadata": {},
     "output_type": "execute_result"
    }
   ],
   "source": [
    "myfun(4,2,1)"
   ]
  },
  {
   "cell_type": "code",
   "execution_count": 12,
   "id": "ed9f7975",
   "metadata": {},
   "outputs": [],
   "source": [
    "def myfun(a,b,c=3):\n",
    "    def fun1(m,n):\n",
    "        return m*n\n",
    "    return fun1"
   ]
  },
  {
   "cell_type": "code",
   "execution_count": 13,
   "id": "80ba349c",
   "metadata": {},
   "outputs": [
    {
     "name": "stdout",
     "output_type": "stream",
     "text": [
      "<function myfun.<locals>.fun1 at 0x000001D04017B160>\n"
     ]
    }
   ],
   "source": [
    "w = myfun(4,2,3)\n",
    "print(w)"
   ]
  },
  {
   "cell_type": "code",
   "execution_count": 14,
   "id": "9937e0f3",
   "metadata": {},
   "outputs": [
    {
     "data": {
      "text/plain": [
       "8"
      ]
     },
     "execution_count": 14,
     "metadata": {},
     "output_type": "execute_result"
    }
   ],
   "source": [
    "w(4,2)"
   ]
  },
  {
   "cell_type": "markdown",
   "id": "d74e7658",
   "metadata": {},
   "source": [
    "#### Decorators"
   ]
  },
  {
   "cell_type": "code",
   "execution_count": 15,
   "id": "805576d5",
   "metadata": {},
   "outputs": [],
   "source": [
    "def fun1():\n",
    "    return \"Hello World\""
   ]
  },
  {
   "cell_type": "code",
   "execution_count": 16,
   "id": "244bc619",
   "metadata": {},
   "outputs": [
    {
     "data": {
      "text/plain": [
       "'Hello World'"
      ]
     },
     "execution_count": 16,
     "metadata": {},
     "output_type": "execute_result"
    }
   ],
   "source": [
    "fun1()"
   ]
  },
  {
   "cell_type": "code",
   "execution_count": 17,
   "id": "6fd79c7a",
   "metadata": {},
   "outputs": [],
   "source": [
    "def decorator(fun):\n",
    "    def dec1():\n",
    "        out = fun()\n",
    "        return out.upper()\n",
    "    return dec1"
   ]
  },
  {
   "cell_type": "code",
   "execution_count": 18,
   "id": "feb5da1c",
   "metadata": {},
   "outputs": [
    {
     "data": {
      "text/plain": [
       "'HELLO WORLD'"
      ]
     },
     "execution_count": 18,
     "metadata": {},
     "output_type": "execute_result"
    }
   ],
   "source": [
    "\n",
    "newfun = decorator(fun1)\n",
    "newfun()"
   ]
  },
  {
   "cell_type": "code",
   "execution_count": 19,
   "id": "cbe24872",
   "metadata": {},
   "outputs": [],
   "source": [
    "@decorator\n",
    "def fun2():\n",
    "    return \"hi from flask\""
   ]
  },
  {
   "cell_type": "code",
   "execution_count": 20,
   "id": "ec4797e7",
   "metadata": {},
   "outputs": [
    {
     "data": {
      "text/plain": [
       "'HI FROM FLASK'"
      ]
     },
     "execution_count": 20,
     "metadata": {},
     "output_type": "execute_result"
    }
   ],
   "source": [
    "fun2()"
   ]
  },
  {
   "cell_type": "code",
   "execution_count": 24,
   "id": "e8dfa860",
   "metadata": {},
   "outputs": [],
   "source": [
    "def decorator2(fun):\n",
    "    def dec1():\n",
    "        out = fun()\n",
    "        return out + \" Thanks\"\n",
    "    return dec1"
   ]
  },
  {
   "cell_type": "code",
   "execution_count": 25,
   "id": "758dcaba",
   "metadata": {},
   "outputs": [],
   "source": [
    "@decorator\n",
    "@decorator2\n",
    "def fun2():\n",
    "    return \"hey hi\""
   ]
  },
  {
   "cell_type": "code",
   "execution_count": 26,
   "id": "7573d1e5",
   "metadata": {},
   "outputs": [
    {
     "data": {
      "text/plain": [
       "'HEY HI THANKS'"
      ]
     },
     "execution_count": 26,
     "metadata": {},
     "output_type": "execute_result"
    }
   ],
   "source": [
    "fun2()"
   ]
  },
  {
   "cell_type": "code",
   "execution_count": null,
   "id": "a31b4c0a",
   "metadata": {},
   "outputs": [],
   "source": []
  }
 ],
 "metadata": {
  "kernelspec": {
   "display_name": "Python 3 (ipykernel)",
   "language": "python",
   "name": "python3"
  },
  "language_info": {
   "codemirror_mode": {
    "name": "ipython",
    "version": 3
   },
   "file_extension": ".py",
   "mimetype": "text/x-python",
   "name": "python",
   "nbconvert_exporter": "python",
   "pygments_lexer": "ipython3",
   "version": "3.9.7"
  }
 },
 "nbformat": 4,
 "nbformat_minor": 5
}
