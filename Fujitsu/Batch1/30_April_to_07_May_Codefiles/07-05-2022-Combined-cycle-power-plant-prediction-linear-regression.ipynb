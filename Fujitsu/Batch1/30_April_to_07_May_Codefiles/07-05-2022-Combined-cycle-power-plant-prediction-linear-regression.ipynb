{
 "cells": [
  {
   "cell_type": "markdown",
   "id": "9b7381d9",
   "metadata": {},
   "source": [
    "## Combined Cycle power plant electricity prediction using LR"
   ]
  },
  {
   "cell_type": "markdown",
   "id": "61dc473a",
   "metadata": {},
   "source": [
    "1. Domain Exploration\n",
    "    - understanding the business process, how operations function on shop floor\n",
    "    - interacting with stakeholders on shop floor, understanding business assumptions and customer behaviour\n",
    "    - Understanding data sources, lifecycle of data\n",
    "    \n",
    "\n",
    "2. Data Collection and Data Exploration\n",
    "    - collect relevant data from multiple sources, build a dataset\n",
    "    - perform generic analysis on data to identify common issues with data\n",
    "    \n",
    "\n",
    "3. Data Cleaning\n",
    "    - handle missing values\n",
    "    - handle duplicated entries\n",
    "    - handle outliers, unwanted columns\n",
    "    \n",
    "    \n",
    "4. Feature Engineering\n",
    "    - Feature Extraction\n",
    "    - Exploratory Data ANalytics / Root Cause Analytics\n",
    "\n",
    "        - Data Visualization\n",
    "            - Univariate Analysis\n",
    "            - Bivariate Analysis\n",
    "            - Multivariate Analysis\n",
    "\n",
    "        - Statistical Research\n",
    "            - Correlation Analysis\n",
    "            - ANOVA\n",
    "            - Chi Square test\n",
    "        \n",
    "        \n",
    "        \n",
    "5. Preprocessing the features\n",
    "    - Encoding the categoric attributes\n",
    "    - Normalization of numeric attributes\n",
    "    - separate whole dataset into train and test set\n",
    "    \n",
    "    \n",
    "6. Apply Machine Learning\n",
    "    - pick a learning algorithm\n",
    "    - train the model\n",
    "    \n",
    " \n",
    "7. Performance Analysis\n",
    "    - pick suitable metrics to assess performance of ML model\n",
    "    \n",
    "    \n",
    "8. Optimization and Tuning\n",
    "    - optimize the model, tune hyperparameters\n",
    "    \n",
    "    \n",
    "9. Deployment\n",
    "    - Export the trained model as object file\n",
    "    - deploy the inferense pipeline as REST API service\n",
    "    \n",
    "    \n",
    "10. Monitor performance of model in production\n",
    "     - periodic data drift analysis"
   ]
  },
  {
   "cell_type": "markdown",
   "id": "b89b37f1",
   "metadata": {},
   "source": [
    "## 2. Data collection and Exploration"
   ]
  },
  {
   "cell_type": "code",
   "execution_count": 1,
   "id": "42812e7e",
   "metadata": {},
   "outputs": [],
   "source": [
    "import pandas as pd\n",
    "import numpy as np\n",
    "import matplotlib.pyplot as plt\n",
    "import seaborn as sns"
   ]
  },
  {
   "cell_type": "code",
   "execution_count": 2,
   "id": "969e73ae",
   "metadata": {},
   "outputs": [
    {
     "data": {
      "text/plain": [
       "(9568, 5)"
      ]
     },
     "execution_count": 2,
     "metadata": {},
     "output_type": "execute_result"
    }
   ],
   "source": [
    "path = r\"E:\\MLIoT\\ML\\dataset\\combined_cycle_power_plant_dataset.xlsx\"\n",
    "df = pd.read_excel(path)\n",
    "df.shape"
   ]
  },
  {
   "cell_type": "code",
   "execution_count": 3,
   "id": "3fdc5ab7",
   "metadata": {},
   "outputs": [
    {
     "data": {
      "text/html": [
       "<div>\n",
       "<style scoped>\n",
       "    .dataframe tbody tr th:only-of-type {\n",
       "        vertical-align: middle;\n",
       "    }\n",
       "\n",
       "    .dataframe tbody tr th {\n",
       "        vertical-align: top;\n",
       "    }\n",
       "\n",
       "    .dataframe thead th {\n",
       "        text-align: right;\n",
       "    }\n",
       "</style>\n",
       "<table border=\"1\" class=\"dataframe\">\n",
       "  <thead>\n",
       "    <tr style=\"text-align: right;\">\n",
       "      <th></th>\n",
       "      <th>AT</th>\n",
       "      <th>V</th>\n",
       "      <th>AP</th>\n",
       "      <th>RH</th>\n",
       "      <th>PE</th>\n",
       "    </tr>\n",
       "  </thead>\n",
       "  <tbody>\n",
       "    <tr>\n",
       "      <th>0</th>\n",
       "      <td>14.96</td>\n",
       "      <td>41.76</td>\n",
       "      <td>1024.07</td>\n",
       "      <td>73.17</td>\n",
       "      <td>463.26</td>\n",
       "    </tr>\n",
       "    <tr>\n",
       "      <th>1</th>\n",
       "      <td>25.18</td>\n",
       "      <td>62.96</td>\n",
       "      <td>1020.04</td>\n",
       "      <td>59.08</td>\n",
       "      <td>444.37</td>\n",
       "    </tr>\n",
       "    <tr>\n",
       "      <th>2</th>\n",
       "      <td>5.11</td>\n",
       "      <td>39.40</td>\n",
       "      <td>1012.16</td>\n",
       "      <td>92.14</td>\n",
       "      <td>488.56</td>\n",
       "    </tr>\n",
       "    <tr>\n",
       "      <th>3</th>\n",
       "      <td>20.86</td>\n",
       "      <td>57.32</td>\n",
       "      <td>1010.24</td>\n",
       "      <td>76.64</td>\n",
       "      <td>446.48</td>\n",
       "    </tr>\n",
       "    <tr>\n",
       "      <th>4</th>\n",
       "      <td>10.82</td>\n",
       "      <td>37.50</td>\n",
       "      <td>1009.23</td>\n",
       "      <td>96.62</td>\n",
       "      <td>473.90</td>\n",
       "    </tr>\n",
       "  </tbody>\n",
       "</table>\n",
       "</div>"
      ],
      "text/plain": [
       "      AT      V       AP     RH      PE\n",
       "0  14.96  41.76  1024.07  73.17  463.26\n",
       "1  25.18  62.96  1020.04  59.08  444.37\n",
       "2   5.11  39.40  1012.16  92.14  488.56\n",
       "3  20.86  57.32  1010.24  76.64  446.48\n",
       "4  10.82  37.50  1009.23  96.62  473.90"
      ]
     },
     "execution_count": 3,
     "metadata": {},
     "output_type": "execute_result"
    }
   ],
   "source": [
    "df.head()"
   ]
  },
  {
   "cell_type": "code",
   "execution_count": 4,
   "id": "d7d6bc83",
   "metadata": {},
   "outputs": [
    {
     "data": {
      "text/html": [
       "<div>\n",
       "<style scoped>\n",
       "    .dataframe tbody tr th:only-of-type {\n",
       "        vertical-align: middle;\n",
       "    }\n",
       "\n",
       "    .dataframe tbody tr th {\n",
       "        vertical-align: top;\n",
       "    }\n",
       "\n",
       "    .dataframe thead th {\n",
       "        text-align: right;\n",
       "    }\n",
       "</style>\n",
       "<table border=\"1\" class=\"dataframe\">\n",
       "  <thead>\n",
       "    <tr style=\"text-align: right;\">\n",
       "      <th></th>\n",
       "      <th>AT</th>\n",
       "      <th>V</th>\n",
       "      <th>AP</th>\n",
       "      <th>RH</th>\n",
       "      <th>PE</th>\n",
       "    </tr>\n",
       "  </thead>\n",
       "  <tbody>\n",
       "    <tr>\n",
       "      <th>count</th>\n",
       "      <td>9568.000000</td>\n",
       "      <td>9568.000000</td>\n",
       "      <td>9568.000000</td>\n",
       "      <td>9568.000000</td>\n",
       "      <td>9568.000000</td>\n",
       "    </tr>\n",
       "    <tr>\n",
       "      <th>mean</th>\n",
       "      <td>19.651231</td>\n",
       "      <td>54.305804</td>\n",
       "      <td>1013.259078</td>\n",
       "      <td>73.308978</td>\n",
       "      <td>454.365009</td>\n",
       "    </tr>\n",
       "    <tr>\n",
       "      <th>std</th>\n",
       "      <td>7.452473</td>\n",
       "      <td>12.707893</td>\n",
       "      <td>5.938784</td>\n",
       "      <td>14.600269</td>\n",
       "      <td>17.066995</td>\n",
       "    </tr>\n",
       "    <tr>\n",
       "      <th>min</th>\n",
       "      <td>1.810000</td>\n",
       "      <td>25.360000</td>\n",
       "      <td>992.890000</td>\n",
       "      <td>25.560000</td>\n",
       "      <td>420.260000</td>\n",
       "    </tr>\n",
       "    <tr>\n",
       "      <th>25%</th>\n",
       "      <td>13.510000</td>\n",
       "      <td>41.740000</td>\n",
       "      <td>1009.100000</td>\n",
       "      <td>63.327500</td>\n",
       "      <td>439.750000</td>\n",
       "    </tr>\n",
       "    <tr>\n",
       "      <th>50%</th>\n",
       "      <td>20.345000</td>\n",
       "      <td>52.080000</td>\n",
       "      <td>1012.940000</td>\n",
       "      <td>74.975000</td>\n",
       "      <td>451.550000</td>\n",
       "    </tr>\n",
       "    <tr>\n",
       "      <th>75%</th>\n",
       "      <td>25.720000</td>\n",
       "      <td>66.540000</td>\n",
       "      <td>1017.260000</td>\n",
       "      <td>84.830000</td>\n",
       "      <td>468.430000</td>\n",
       "    </tr>\n",
       "    <tr>\n",
       "      <th>max</th>\n",
       "      <td>37.110000</td>\n",
       "      <td>81.560000</td>\n",
       "      <td>1033.300000</td>\n",
       "      <td>100.160000</td>\n",
       "      <td>495.760000</td>\n",
       "    </tr>\n",
       "  </tbody>\n",
       "</table>\n",
       "</div>"
      ],
      "text/plain": [
       "                AT            V           AP           RH           PE\n",
       "count  9568.000000  9568.000000  9568.000000  9568.000000  9568.000000\n",
       "mean     19.651231    54.305804  1013.259078    73.308978   454.365009\n",
       "std       7.452473    12.707893     5.938784    14.600269    17.066995\n",
       "min       1.810000    25.360000   992.890000    25.560000   420.260000\n",
       "25%      13.510000    41.740000  1009.100000    63.327500   439.750000\n",
       "50%      20.345000    52.080000  1012.940000    74.975000   451.550000\n",
       "75%      25.720000    66.540000  1017.260000    84.830000   468.430000\n",
       "max      37.110000    81.560000  1033.300000   100.160000   495.760000"
      ]
     },
     "execution_count": 4,
     "metadata": {},
     "output_type": "execute_result"
    }
   ],
   "source": [
    "df.describe()"
   ]
  },
  {
   "cell_type": "markdown",
   "id": "7bd88121",
   "metadata": {},
   "source": [
    "Observations:\n",
    "    \n",
    "    - target attribute: PE\n",
    "    - unwanted columns: None\n",
    "    - features: all numeric, AT, V, AP, RH"
   ]
  },
  {
   "cell_type": "markdown",
   "id": "2da6a986",
   "metadata": {},
   "source": [
    "## 3. Data Cleaning"
   ]
  },
  {
   "cell_type": "code",
   "execution_count": 5,
   "id": "c5f6ba59",
   "metadata": {},
   "outputs": [
    {
     "data": {
      "text/plain": [
       "41"
      ]
     },
     "execution_count": 5,
     "metadata": {},
     "output_type": "execute_result"
    }
   ],
   "source": [
    "#check for duplicated entries\n",
    "df.duplicated().sum()"
   ]
  },
  {
   "cell_type": "code",
   "execution_count": 6,
   "id": "df1fce96",
   "metadata": {},
   "outputs": [
    {
     "name": "stdout",
     "output_type": "stream",
     "text": [
      "(9568, 5)\n",
      "(9527, 5)\n"
     ]
    }
   ],
   "source": [
    "# drop the duplicated rows\n",
    "print(df.shape)\n",
    "df.drop_duplicates(inplace=True)\n",
    "print(df.shape)"
   ]
  },
  {
   "cell_type": "code",
   "execution_count": 7,
   "id": "dcd67432",
   "metadata": {},
   "outputs": [
    {
     "data": {
      "text/plain": [
       "AT    0\n",
       "V     0\n",
       "AP    0\n",
       "RH    0\n",
       "PE    0\n",
       "dtype: int64"
      ]
     },
     "execution_count": 7,
     "metadata": {},
     "output_type": "execute_result"
    }
   ],
   "source": [
    "# check for missing values\n",
    "df.isnull().sum()"
   ]
  },
  {
   "cell_type": "code",
   "execution_count": 8,
   "id": "ed8554d3",
   "metadata": {},
   "outputs": [
    {
     "data": {
      "text/plain": [
       "AT   -0.136107\n",
       "V     0.196819\n",
       "AP    0.273846\n",
       "RH   -0.435138\n",
       "PE    0.305791\n",
       "dtype: float64"
      ]
     },
     "execution_count": 8,
     "metadata": {},
     "output_type": "execute_result"
    }
   ],
   "source": [
    "# check for outliers\n",
    "df.skew()"
   ]
  },
  {
   "cell_type": "markdown",
   "id": "e28ea765",
   "metadata": {},
   "source": [
    "## 4. Feature Engineering\n",
    "### Feature Selection"
   ]
  },
  {
   "cell_type": "markdown",
   "id": "064a3394",
   "metadata": {},
   "source": [
    "### Stastical Research\n",
    "#### Correlation Analysis"
   ]
  },
  {
   "cell_type": "code",
   "execution_count": 9,
   "id": "782c2f4c",
   "metadata": {},
   "outputs": [
    {
     "data": {
      "image/png": "[encoded data removed]",
      "text/plain": [
       "<Figure size 432x288 with 2 Axes>"
      ]
     },
     "metadata": {
      "needs_background": "light"
     },
     "output_type": "display_data"
    }
   ],
   "source": [
    "cor = df.corr()\n",
    "plt.figure(figsize=(6,4))\n",
    "sns.heatmap(cor,annot=True,cmap='coolwarm')\n",
    "plt.show()"
   ]
  },
  {
   "cell_type": "markdown",
   "id": "42311a9f",
   "metadata": {},
   "source": [
    "#### ANOVA - ftest\n",
    "\n",
    "Null Hypothesis = means of a numeric attribute across multiple categories are similar\n",
    "    e.g. = mean of creditscore across Exited=0 amd exited=1 are similar\n",
    "\n",
    "    \n",
    "    To use any hypothesis testing technique, we have to select a confidence interval (business confidence), CI = 95%\n",
    "    \n",
    "    signficance level, alpha = 1 - CI = 1 - 0.95 = 0.05\n",
    "\n",
    "When you apply ANOVA, you will get a pvalue\n",
    "\n",
    "- if pvalue > alpha = we accept the null hypothesis, we accept that means are similar for multiple groups - not important\n",
    "- if pvalue < alpha = we reject the null hypothesis, we agree that means are different for multiple groups - important"
   ]
  },
  {
   "cell_type": "code",
   "execution_count": 10,
   "id": "3c7ac5f5",
   "metadata": {},
   "outputs": [
    {
     "name": "stdout",
     "output_type": "stream",
     "text": [
      "AT 0.0\n",
      "V 0.0\n",
      "AP 0.0\n",
      "RH 0.0\n"
     ]
    }
   ],
   "source": [
    "xnum = df.drop(columns=['PE'],inplace=False)\n",
    "y = df.PE\n",
    "\n",
    "from sklearn.feature_selection import f_regression\n",
    "fscore,pvalue = f_regression(xnum,y)\n",
    "\n",
    "for i in range(len(xnum.columns)):print(xnum.columns[i],pvalue[i])"
   ]
  },
  {
   "cell_type": "code",
   "execution_count": 11,
   "id": "2e56b10c",
   "metadata": {},
   "outputs": [],
   "source": [
    "x = df[['AT','V','AP','RH']]\n",
    "y = df['PE']"
   ]
  },
  {
   "cell_type": "markdown",
   "id": "9e8a857d",
   "metadata": {},
   "source": [
    "## 5. Perprocessing of features"
   ]
  },
  {
   "cell_type": "code",
   "execution_count": 12,
   "id": "9a6f43f2",
   "metadata": {},
   "outputs": [
    {
     "data": {
      "text/html": [
       "<div>\n",
       "<style scoped>\n",
       "    .dataframe tbody tr th:only-of-type {\n",
       "        vertical-align: middle;\n",
       "    }\n",
       "\n",
       "    .dataframe tbody tr th {\n",
       "        vertical-align: top;\n",
       "    }\n",
       "\n",
       "    .dataframe thead th {\n",
       "        text-align: right;\n",
       "    }\n",
       "</style>\n",
       "<table border=\"1\" class=\"dataframe\">\n",
       "  <thead>\n",
       "    <tr style=\"text-align: right;\">\n",
       "      <th></th>\n",
       "      <th>AT</th>\n",
       "      <th>V</th>\n",
       "      <th>AP</th>\n",
       "      <th>RH</th>\n",
       "    </tr>\n",
       "  </thead>\n",
       "  <tbody>\n",
       "    <tr>\n",
       "      <th>0</th>\n",
       "      <td>14.96</td>\n",
       "      <td>41.76</td>\n",
       "      <td>1024.07</td>\n",
       "      <td>73.17</td>\n",
       "    </tr>\n",
       "    <tr>\n",
       "      <th>1</th>\n",
       "      <td>25.18</td>\n",
       "      <td>62.96</td>\n",
       "      <td>1020.04</td>\n",
       "      <td>59.08</td>\n",
       "    </tr>\n",
       "    <tr>\n",
       "      <th>2</th>\n",
       "      <td>5.11</td>\n",
       "      <td>39.40</td>\n",
       "      <td>1012.16</td>\n",
       "      <td>92.14</td>\n",
       "    </tr>\n",
       "    <tr>\n",
       "      <th>3</th>\n",
       "      <td>20.86</td>\n",
       "      <td>57.32</td>\n",
       "      <td>1010.24</td>\n",
       "      <td>76.64</td>\n",
       "    </tr>\n",
       "    <tr>\n",
       "      <th>4</th>\n",
       "      <td>10.82</td>\n",
       "      <td>37.50</td>\n",
       "      <td>1009.23</td>\n",
       "      <td>96.62</td>\n",
       "    </tr>\n",
       "  </tbody>\n",
       "</table>\n",
       "</div>"
      ],
      "text/plain": [
       "      AT      V       AP     RH\n",
       "0  14.96  41.76  1024.07  73.17\n",
       "1  25.18  62.96  1020.04  59.08\n",
       "2   5.11  39.40  1012.16  92.14\n",
       "3  20.86  57.32  1010.24  76.64\n",
       "4  10.82  37.50  1009.23  96.62"
      ]
     },
     "execution_count": 12,
     "metadata": {},
     "output_type": "execute_result"
    }
   ],
   "source": [
    "x.head()"
   ]
  },
  {
   "attachments": {
    "07-05-2022-train-test-split.png": {
     "image/png": "[encoded data removed]"
    }
   },
   "cell_type": "markdown",
   "id": "235261ed",
   "metadata": {},
   "source": [
    "#### split dataset into train and test set\n",
    "![07-05-2022-train-test-split.png](attachment:07-05-2022-train-test-split.png)"
   ]
  },
  {
   "cell_type": "code",
   "execution_count": 13,
   "id": "bf17c41e",
   "metadata": {},
   "outputs": [
    {
     "data": {
      "text/plain": [
       "(9527,)"
      ]
     },
     "execution_count": 13,
     "metadata": {},
     "output_type": "execute_result"
    }
   ],
   "source": [
    "y.shape"
   ]
  },
  {
   "cell_type": "code",
   "execution_count": 14,
   "id": "e8ae60f4",
   "metadata": {},
   "outputs": [
    {
     "name": "stdout",
     "output_type": "stream",
     "text": [
      "(9527, 4) (7621, 4) (1906, 4)\n",
      "(9527,) (7621,) (1906,)\n"
     ]
    }
   ],
   "source": [
    "# train test split\n",
    "from sklearn.model_selection import train_test_split\n",
    "xtrain,xtest,ytrain,ytest = train_test_split(x,y,test_size=0.2,random_state=3)\n",
    "print(x.shape,xtrain.shape,xtest.shape)\n",
    "print(y.shape,ytrain.shape,ytest.shape)"
   ]
  },
  {
   "cell_type": "markdown",
   "id": "f41017ad",
   "metadata": {},
   "source": [
    "## 6. Apply ML algorithm - linear regression"
   ]
  },
  {
   "cell_type": "code",
   "execution_count": 15,
   "id": "64b8cf13",
   "metadata": {},
   "outputs": [
    {
     "data": {
      "text/plain": [
       "LinearRegression()"
      ]
     },
     "execution_count": 15,
     "metadata": {},
     "output_type": "execute_result"
    }
   ],
   "source": [
    "from sklearn.linear_model import LinearRegression\n",
    "model = LinearRegression()\n",
    "\n",
    "# train the model using train data = xtrain,ytrain\n",
    "model.fit(xtrain,ytrain)"
   ]
  },
  {
   "cell_type": "markdown",
   "id": "e16c6b8c",
   "metadata": {},
   "source": [
    "## 7. Performance Analysis"
   ]
  },
  {
   "cell_type": "code",
   "execution_count": 16,
   "id": "d774c4f9",
   "metadata": {},
   "outputs": [
    {
     "data": {
      "text/plain": [
       "array([469.57026588])"
      ]
     },
     "execution_count": 16,
     "metadata": {},
     "output_type": "execute_result"
    }
   ],
   "source": [
    "newdata = [[11.8,40.66,1017.13,97.2]]\n",
    "model.predict(newdata)"
   ]
  },
  {
   "cell_type": "code",
   "execution_count": 17,
   "id": "86b25e93",
   "metadata": {},
   "outputs": [],
   "source": [
    "# feed the test data to model and get predictions\n",
    "ypred = model.predict(xtest)"
   ]
  },
  {
   "cell_type": "code",
   "execution_count": 18,
   "id": "97d1d4ba",
   "metadata": {},
   "outputs": [
    {
     "data": {
      "text/plain": [
       "(1906,)"
      ]
     },
     "execution_count": 18,
     "metadata": {},
     "output_type": "execute_result"
    }
   ],
   "source": [
    "ypred.shape"
   ]
  },
  {
   "cell_type": "code",
   "execution_count": 19,
   "id": "a89b4f96",
   "metadata": {},
   "outputs": [
    {
     "data": {
      "text/plain": [
       "(1906,)"
      ]
     },
     "execution_count": 19,
     "metadata": {},
     "output_type": "execute_result"
    }
   ],
   "source": [
    "ytest.shape"
   ]
  },
  {
   "cell_type": "code",
   "execution_count": 20,
   "id": "6408fe3c",
   "metadata": {},
   "outputs": [
    {
     "data": {
      "text/plain": [
       "0.9294405418373626"
      ]
     },
     "execution_count": 20,
     "metadata": {},
     "output_type": "execute_result"
    }
   ],
   "source": [
    "# computing r2 score\n",
    "from sklearn import metrics\n",
    "\n",
    "metrics.r2_score(ytest,ypred)"
   ]
  },
  {
   "cell_type": "code",
   "execution_count": 21,
   "id": "48e2a127",
   "metadata": {},
   "outputs": [
    {
     "data": {
      "text/plain": [
       "3.59165103085831"
      ]
     },
     "execution_count": 21,
     "metadata": {},
     "output_type": "execute_result"
    }
   ],
   "source": [
    "metrics.mean_absolute_error(ytest,ypred)"
   ]
  },
  {
   "cell_type": "markdown",
   "id": "2a2f5b7c",
   "metadata": {},
   "source": [
    "## 9. Deployment: Export the trained model as object file"
   ]
  },
  {
   "cell_type": "code",
   "execution_count": 22,
   "id": "a4541ff6",
   "metadata": {},
   "outputs": [
    {
     "data": {
      "text/plain": [
       "['ccpp_model.pkl']"
      ]
     },
     "execution_count": 22,
     "metadata": {},
     "output_type": "execute_result"
    }
   ],
   "source": [
    "# export the trained model as pickle file (pkl file)\n",
    "\n",
    "import joblib\n",
    "joblib.dump(model,\"ccpp_model.pkl\")"
   ]
  },
  {
   "cell_type": "code",
   "execution_count": 23,
   "id": "dda7f1eb",
   "metadata": {},
   "outputs": [
    {
     "data": {
      "text/plain": [
       "['../Deployment/ccpp_model.pkl']"
      ]
     },
     "execution_count": 23,
     "metadata": {},
     "output_type": "execute_result"
    }
   ],
   "source": [
    "joblib.dump(model,\"../Deployment/ccpp_model.pkl\")"
   ]
  }
 ],
 "metadata": {
  "kernelspec": {
   "display_name": "Python 3 (ipykernel)",
   "language": "python",
   "name": "python3"
  },
  "language_info": {
   "codemirror_mode": {
    "name": "ipython",
    "version": 3
   },
   "file_extension": ".py",
   "mimetype": "text/x-python",
   "name": "python",
   "nbconvert_exporter": "python",
   "pygments_lexer": "ipython3",
   "version": "3.9.7"
  }
 },
 "nbformat": 4,
 "nbformat_minor": 5
}
