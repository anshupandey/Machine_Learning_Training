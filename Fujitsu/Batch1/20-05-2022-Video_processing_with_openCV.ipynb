{
 "cells": [
  {
   "cell_type": "markdown",
   "id": "635ac449",
   "metadata": {},
   "source": [
    "# Video Processing"
   ]
  },
  {
   "cell_type": "code",
   "execution_count": 1,
   "id": "d76bbc0a",
   "metadata": {},
   "outputs": [],
   "source": [
    "import cv2\n",
    "import numpy as np\n",
    "import matplotlib.pyplot as plt"
   ]
  },
  {
   "cell_type": "code",
   "execution_count": 11,
   "id": "61c9b025",
   "metadata": {},
   "outputs": [],
   "source": [
    "file_path = r\"C:\\Users\\admin\\Downloads\\video3.mp4\"\n",
    "\n",
    "vid = cv2.VideoCapture(file_path)\n",
    "\n",
    "while True:\n",
    "    flag,frame = vid.read()\n",
    "    if flag:\n",
    "        cv2.imshow(\"myVideo\",frame)\n",
    "        if cv2.waitKey(1) & 0xFF==ord('q'):\n",
    "            break\n",
    "    else:\n",
    "        break\n",
    "vid.release()\n",
    "cv2.destroyAllWindows()"
   ]
  },
  {
   "cell_type": "code",
   "execution_count": 5,
   "id": "7f8bebf2",
   "metadata": {},
   "outputs": [],
   "source": [
    "# loading video from web cam\n",
    "\n",
    "vid = cv2.VideoCapture(0)\n",
    "\n",
    "while True:\n",
    "    flag,frame = vid.read()\n",
    "    if flag:\n",
    "        cv2.imshow(\"myVideo\",frame)\n",
    "        if cv2.waitKey(1) & 0xFF==ord('q'):\n",
    "            break\n",
    "    else:\n",
    "        break\n",
    "vid.release()\n",
    "cv2.destroyAllWindows()"
   ]
  },
  {
   "cell_type": "code",
   "execution_count": 6,
   "id": "26c50cc0",
   "metadata": {},
   "outputs": [],
   "source": [
    "def color_detect(img,rt,gt,bt):\n",
    "    img2 = img.copy()\n",
    "    row,col,ch = img.shape\n",
    "    for i in range(0,row,2):\n",
    "        for j in range(0,col):\n",
    "            r,g,b = img[i,j,:]\n",
    "            if (rt-50)<r<(rt+50) and (gt-50)<g<(gt+50) and (bt-50)<b<(bt+50):\n",
    "                img2[i,j,:] = [255,255,255]\n",
    "    return img2"
   ]
  },
  {
   "cell_type": "code",
   "execution_count": 8,
   "id": "4c2f2b88",
   "metadata": {},
   "outputs": [],
   "source": [
    "# loading video from web cam\n",
    "\n",
    "vid = cv2.VideoCapture(0)\n",
    "\n",
    "while True:\n",
    "    flag,frame = vid.read()\n",
    "    if flag:\n",
    "        frame = color_detect(frame,20,20,20)\n",
    "        cv2.imshow(\"myVideo\",frame)\n",
    "        if cv2.waitKey(1) & 0xFF==ord('q'):\n",
    "            break\n",
    "    else:\n",
    "        break\n",
    "vid.release()\n",
    "cv2.destroyAllWindows()"
   ]
  },
  {
   "cell_type": "code",
   "execution_count": 9,
   "id": "7636d059",
   "metadata": {},
   "outputs": [],
   "source": [
    "fd = cv2.CascadeClassifier(r\"E:\\image_data\\haarcascade_frontalface_alt.xml\")"
   ]
  },
  {
   "cell_type": "code",
   "execution_count": 12,
   "id": "fd410853",
   "metadata": {},
   "outputs": [],
   "source": [
    "# loading video from web cam\n",
    "\n",
    "vid = cv2.VideoCapture(0)\n",
    "\n",
    "while True:\n",
    "    flag,frame = vid.read()\n",
    "    if flag:\n",
    "        corners = fd.detectMultiScale(frame)\n",
    "        for (x,y,w,h) in corners:\n",
    "            cv2.rectangle(frame,(x,y),(x+h,y+w),[255,0,0],3)\n",
    "        cv2.imshow(\"myVideo\",frame)\n",
    "        if cv2.waitKey(1) & 0xFF==ord('q'):\n",
    "            break\n",
    "    else:\n",
    "        break\n",
    "vid.release()\n",
    "cv2.destroyAllWindows()"
   ]
  },
  {
   "cell_type": "code",
   "execution_count": null,
   "id": "f59db806",
   "metadata": {},
   "outputs": [],
   "source": []
  }
 ],
 "metadata": {
  "kernelspec": {
   "display_name": "Python 3 (ipykernel)",
   "language": "python",
   "name": "python3"
  },
  "language_info": {
   "codemirror_mode": {
    "name": "ipython",
    "version": 3
   },
   "file_extension": ".py",
   "mimetype": "text/x-python",
   "name": "python",
   "nbconvert_exporter": "python",
   "pygments_lexer": "ipython3",
   "version": "3.9.7"
  }
 },
 "nbformat": 4,
 "nbformat_minor": 5
}
