{
 "cells": [
  {
   "cell_type": "markdown",
   "id": "21c4909f",
   "metadata": {},
   "source": [
    "# Dimensionality Reduction with PCA"
   ]
  },
  {
   "cell_type": "code",
   "execution_count": 2,
   "id": "d3535750",
   "metadata": {},
   "outputs": [],
   "source": [
    "import numpy as np \n",
    "import matplotlib.pyplot as plt"
   ]
  },
  {
   "cell_type": "code",
   "execution_count": 5,
   "id": "82e15c64",
   "metadata": {},
   "outputs": [],
   "source": [
    "x1 = np.random.randint(10,200,30)\n",
    "x2 = 0.4*x1 + np.random.randint(5,30,30)"
   ]
  },
  {
   "cell_type": "code",
   "execution_count": 6,
   "id": "78648b5a",
   "metadata": {},
   "outputs": [
    {
     "data": {
      "image/png": "[encoded data removed]",
      "text/plain": [
       "<Figure size 432x288 with 1 Axes>"
      ]
     },
     "metadata": {
      "needs_background": "light"
     },
     "output_type": "display_data"
    }
   ],
   "source": [
    "plt.scatter(x1,x2)\n",
    "plt.show()"
   ]
  },
  {
   "cell_type": "code",
   "execution_count": 7,
   "id": "7a9e8216",
   "metadata": {},
   "outputs": [
    {
     "data": {
      "text/plain": [
       "(2, 30)"
      ]
     },
     "execution_count": 7,
     "metadata": {},
     "output_type": "execute_result"
    }
   ],
   "source": [
    "data = np.concatenate([[x1],[x2]])\n",
    "data.shape"
   ]
  },
  {
   "cell_type": "code",
   "execution_count": 8,
   "id": "a0d949af",
   "metadata": {},
   "outputs": [
    {
     "data": {
      "text/plain": [
       "(30, 2)"
      ]
     },
     "execution_count": 8,
     "metadata": {},
     "output_type": "execute_result"
    }
   ],
   "source": [
    "data = data.T\n",
    "data.shape"
   ]
  },
  {
   "cell_type": "code",
   "execution_count": 9,
   "id": "8557f2c1",
   "metadata": {},
   "outputs": [
    {
     "data": {
      "text/plain": [
       "PCA(n_components=1)"
      ]
     },
     "execution_count": 9,
     "metadata": {},
     "output_type": "execute_result"
    }
   ],
   "source": [
    "from sklearn.decomposition import PCA\n",
    "model = PCA(n_components=1)\n",
    "model.fit(data)"
   ]
  },
  {
   "cell_type": "code",
   "execution_count": 10,
   "id": "868760c9",
   "metadata": {},
   "outputs": [
    {
     "data": {
      "text/plain": [
       "(30, 1)"
      ]
     },
     "execution_count": 10,
     "metadata": {},
     "output_type": "execute_result"
    }
   ],
   "source": [
    "data2 = model.transform(data)\n",
    "data2.shape"
   ]
  },
  {
   "cell_type": "code",
   "execution_count": 11,
   "id": "a2088e24",
   "metadata": {},
   "outputs": [
    {
     "data": {
      "text/plain": [
       "array([0.98598822])"
      ]
     },
     "execution_count": 11,
     "metadata": {},
     "output_type": "execute_result"
    }
   ],
   "source": [
    "model.explained_variance_ratio_"
   ]
  },
  {
   "cell_type": "code",
   "execution_count": 12,
   "id": "5792e1e9",
   "metadata": {},
   "outputs": [
    {
     "data": {
      "text/plain": [
       "(30, 2)"
      ]
     },
     "execution_count": 12,
     "metadata": {},
     "output_type": "execute_result"
    }
   ],
   "source": [
    "data3 = model.inverse_transform(data2)\n",
    "data3.shape"
   ]
  },
  {
   "cell_type": "code",
   "execution_count": 13,
   "id": "32e37f4e",
   "metadata": {
    "collapsed": true
   },
   "outputs": [
    {
     "data": {
      "text/plain": [
       "array([[154.0655753 ,  79.52381656],\n",
       "       [124.50822605,  68.29441787],\n",
       "       [192.97224342,  94.30519917],\n",
       "       [ 38.23486302,  35.5175277 ],\n",
       "       [184.22289956,  90.98115717],\n",
       "       [127.49621535,  69.42961179],\n",
       "       [137.63757706,  73.28250783],\n",
       "       [ 37.58153583,  35.26931628],\n",
       "       [127.54956752,  69.44988129],\n",
       "       [104.33220698,  60.62916479],\n",
       "       [ 85.26955912,  53.3869026 ],\n",
       "       [136.24555921,  72.75365379],\n",
       "       [ 62.40553826,  44.70042656],\n",
       "       [197.97356645,  96.20529684],\n",
       "       [ 22.80286121,  29.65461694],\n",
       "       [150.66022372,  78.23005878],\n",
       "       [187.24290016,  92.12851279],\n",
       "       [164.43223148,  83.46230625],\n",
       "       [164.07889179,  83.32806579],\n",
       "       [100.70156093,  59.24981336],\n",
       "       [ 90.29222302,  55.29510807],\n",
       "       [ 36.89619734,  35.00894317],\n",
       "       [128.20289471,  69.69809271],\n",
       "       [ 59.04286841,  43.42288439],\n",
       "       [118.42554311,  65.98349102],\n",
       "       [ 78.90822954,  50.97011261],\n",
       "       [107.40555975,  61.79678992],\n",
       "       [148.33623204,  77.34713018],\n",
       "       [ 62.12689162,  44.59456341],\n",
       "       [142.94955803,  75.30063035]])"
      ]
     },
     "execution_count": 13,
     "metadata": {},
     "output_type": "execute_result"
    }
   ],
   "source": [
    "data3"
   ]
  },
  {
   "cell_type": "code",
   "execution_count": 14,
   "id": "8aa3aa37",
   "metadata": {
    "collapsed": true
   },
   "outputs": [
    {
     "data": {
      "text/plain": [
       "array([[157. ,  71.8],\n",
       "       [125. ,  67. ],\n",
       "       [194. ,  91.6],\n",
       "       [ 36. ,  41.4],\n",
       "       [183. ,  94.2],\n",
       "       [125. ,  76. ],\n",
       "       [142. ,  61.8],\n",
       "       [ 37. ,  36.8],\n",
       "       [130. ,  63. ],\n",
       "       [101. ,  69.4],\n",
       "       [ 88. ,  46.2],\n",
       "       [136. ,  73.4],\n",
       "       [ 61. ,  48.4],\n",
       "       [196. , 101.4],\n",
       "       [ 21. ,  34.4],\n",
       "       [149. ,  82.6],\n",
       "       [186. ,  95.4],\n",
       "       [164. ,  84.6],\n",
       "       [162. ,  88.8],\n",
       "       [103. ,  53.2],\n",
       "       [ 92. ,  50.8],\n",
       "       [ 35. ,  40. ],\n",
       "       [129. ,  67.6],\n",
       "       [ 57. ,  48.8],\n",
       "       [115. ,  75. ],\n",
       "       [ 83. ,  40.2],\n",
       "       [109. ,  57.6],\n",
       "       [149. ,  75.6],\n",
       "       [ 66. ,  34.4],\n",
       "       [142. ,  77.8]])"
      ]
     },
     "execution_count": 14,
     "metadata": {},
     "output_type": "execute_result"
    }
   ],
   "source": [
    "data"
   ]
  },
  {
   "cell_type": "code",
   "execution_count": null,
   "id": "f6faf209",
   "metadata": {},
   "outputs": [],
   "source": []
  }
 ],
 "metadata": {
  "kernelspec": {
   "display_name": "Python 3 (ipykernel)",
   "language": "python",
   "name": "python3"
  },
  "language_info": {
   "codemirror_mode": {
    "name": "ipython",
    "version": 3
   },
   "file_extension": ".py",
   "mimetype": "text/x-python",
   "name": "python",
   "nbconvert_exporter": "python",
   "pygments_lexer": "ipython3",
   "version": "3.9.7"
  }
 },
 "nbformat": 4,
 "nbformat_minor": 5
}
