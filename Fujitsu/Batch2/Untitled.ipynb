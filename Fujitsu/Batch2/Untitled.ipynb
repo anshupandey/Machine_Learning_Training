{
 "cells": [
  {
   "cell_type": "markdown",
   "id": "dd05ae1c",
   "metadata": {},
   "source": [
    "# REST API Client"
   ]
  },
  {
   "cell_type": "code",
   "execution_count": 1,
   "id": "0f359a7c",
   "metadata": {},
   "outputs": [],
   "source": [
    "import requests\n",
    "import json"
   ]
  },
  {
   "cell_type": "code",
   "execution_count": 2,
   "id": "91e0d508",
   "metadata": {},
   "outputs": [
    {
     "data": {
      "text/plain": [
       "b'Predictions for given values of AT,V,AP,RH are [481.42408078]'"
      ]
     },
     "execution_count": 2,
     "metadata": {},
     "output_type": "execute_result"
    }
   ],
   "source": [
    "url = \"http://127.0.0.1:5000\"\n",
    "data = {\"values\":[[12,45,1024,15]]}\n",
    "data = json.dumps(data)\n",
    "\n",
    "response = requests.post(url,data)\n",
    "response.content"
   ]
  },
  {
   "cell_type": "code",
   "execution_count": null,
   "id": "763fe09a",
   "metadata": {},
   "outputs": [],
   "source": []
  }
 ],
 "metadata": {
  "kernelspec": {
   "display_name": "Python 3 (ipykernel)",
   "language": "python",
   "name": "python3"
  },
  "language_info": {
   "codemirror_mode": {
    "name": "ipython",
    "version": 3
   },
   "file_extension": ".py",
   "mimetype": "text/x-python",
   "name": "python",
   "nbconvert_exporter": "python",
   "pygments_lexer": "ipython3",
   "version": "3.9.7"
  }
 },
 "nbformat": 4,
 "nbformat_minor": 5
}
