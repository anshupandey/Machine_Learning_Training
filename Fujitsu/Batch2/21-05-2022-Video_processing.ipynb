{
 "cells": [
  {
   "cell_type": "code",
   "execution_count": 1,
   "id": "c835b994",
   "metadata": {},
   "outputs": [],
   "source": [
    "import cv2\n",
    "import numpy as np\n",
    "import matplotlib.pyplot as plt"
   ]
  },
  {
   "cell_type": "code",
   "execution_count": 6,
   "id": "d81cc799",
   "metadata": {},
   "outputs": [],
   "source": [
    "# loading videos\n",
    "file_name=r\"C:\\Users\\admin\\Downloads\\video3.mp4\"\n",
    "\n",
    "# creating a video object\n",
    "vid = cv2.VideoCapture(file_name)\n",
    "\n",
    "while True:\n",
    "    flag,frame = vid.read()\n",
    "    if flag:\n",
    "        cv2.imshow(\"MyVideo\",frame)\n",
    "        if cv2.waitKey(1) & 0xFF==ord('q'):\n",
    "            break\n",
    "    else:\n",
    "        break\n",
    "vid.release()\n",
    "cv2.destroyAllWindows()"
   ]
  },
  {
   "cell_type": "code",
   "execution_count": 7,
   "id": "4e358559",
   "metadata": {},
   "outputs": [],
   "source": [
    "# loading videos from webcam\n",
    "\n",
    "# creating a video object\n",
    "vid = cv2.VideoCapture(0)\n",
    "\n",
    "while True:\n",
    "    flag,frame = vid.read()\n",
    "    if flag:\n",
    "        cv2.imshow(\"MyVideo\",frame)\n",
    "        if cv2.waitKey(1) & 0xFF==ord('q'):\n",
    "            break\n",
    "    else:\n",
    "        break\n",
    "vid.release()\n",
    "cv2.destroyAllWindows()"
   ]
  },
  {
   "cell_type": "code",
   "execution_count": 8,
   "id": "c54ed75a",
   "metadata": {},
   "outputs": [],
   "source": [
    "def color_detect(img,rt,gt,bt):\n",
    "    img2 = img.copy()\n",
    "    row,col,ch = img.shape\n",
    "    \n",
    "    for i in range(0,row):\n",
    "        for j in range(0,col):\n",
    "            r,g,b=img[i,j,:]\n",
    "            if rt-30<r<rt+30 and gt-30<g<gt+30 and bt-30<b<bt+30:\n",
    "                img2[i,j,:]=[255,255,255]\n",
    "    return img2"
   ]
  },
  {
   "cell_type": "code",
   "execution_count": 9,
   "id": "86cf9715",
   "metadata": {},
   "outputs": [],
   "source": [
    "# loading videos from webcam\n",
    "\n",
    "# creating a video object\n",
    "vid = cv2.VideoCapture(0)\n",
    "\n",
    "while True:\n",
    "    flag,frame = vid.read()\n",
    "    if flag:\n",
    "        frame = color_detect(frame,30,30,30)\n",
    "        cv2.imshow(\"MyVideo\",frame)\n",
    "        if cv2.waitKey(1) & 0xFF==ord('q'):\n",
    "            break\n",
    "    else:\n",
    "        break\n",
    "vid.release()\n",
    "cv2.destroyAllWindows()"
   ]
  },
  {
   "cell_type": "code",
   "execution_count": 10,
   "id": "bd56a911",
   "metadata": {},
   "outputs": [],
   "source": [
    "fd = cv2.CascadeClassifier(r\"E:\\image_data\\haarcascade_frontalface_alt.xml\")"
   ]
  },
  {
   "cell_type": "code",
   "execution_count": 12,
   "id": "1458554c",
   "metadata": {},
   "outputs": [],
   "source": [
    "# loading videos\n",
    "file_name=r\"C:\\Users\\admin\\Downloads\\video3.mp4\"\n",
    "\n",
    "# creating a video object\n",
    "vid = cv2.VideoCapture(file_name)\n",
    "\n",
    "while True:\n",
    "    flag,frame = vid.read()\n",
    "    if flag:\n",
    "        corners = fd.detectMultiScale(frame)\n",
    "        for (x,y,w,h) in corners:\n",
    "            cv2.rectangle(frame,(x,y),(x+w,y+h),[255,0,0],2)\n",
    "        cv2.imshow(\"MyVideo\",frame)\n",
    "        if cv2.waitKey(1) & 0xFF==ord('q'):\n",
    "            break\n",
    "    else:\n",
    "        break\n",
    "vid.release()\n",
    "cv2.destroyAllWindows()"
   ]
  },
  {
   "cell_type": "code",
   "execution_count": 16,
   "id": "a23f74d9",
   "metadata": {},
   "outputs": [],
   "source": [
    "from skimage import io"
   ]
  },
  {
   "cell_type": "code",
   "execution_count": 20,
   "id": "a390ee35",
   "metadata": {},
   "outputs": [],
   "source": [
    "url = \"http://192.168.29.164:8080/shot.jpg\"\n",
    "while True:\n",
    "    img = io.imread(url)\n",
    "    cv2.imshow(\"myvideo\",img)\n",
    "    if cv2.waitKey(1) & 0xFF==ord('q'):\n",
    "        break\n",
    "cv2.destroyAllWindows()"
   ]
  },
  {
   "cell_type": "code",
   "execution_count": null,
   "id": "c4829a69",
   "metadata": {},
   "outputs": [],
   "source": []
  }
 ],
 "metadata": {
  "kernelspec": {
   "display_name": "Python 3 (ipykernel)",
   "language": "python",
   "name": "python3"
  },
  "language_info": {
   "codemirror_mode": {
    "name": "ipython",
    "version": 3
   },
   "file_extension": ".py",
   "mimetype": "text/x-python",
   "name": "python",
   "nbconvert_exporter": "python",
   "pygments_lexer": "ipython3",
   "version": "3.9.7"
  }
 },
 "nbformat": 4,
 "nbformat_minor": 5
}
